{
 "cells": [
  {
   "cell_type": "markdown",
   "metadata": {},
   "source": [
    "# STAT 207 Lab 9 - Individual Part - [25 total points]\n",
    "\n",
    "## Inference for Mean Differences and Proportion Differences"
   ]
  },
  {
   "cell_type": "markdown",
   "metadata": {},
   "source": [
    "Due: Tuesday, October 25 11:59pm CST\n",
    "\n",
    "## Testing for Associations in the Global 2021 Billionaire Population\n",
    "\n",
    "In this lab, we will return to the 2021 global billionaire dataset. We will assume that the dataset in the **Billionaire.csv** represents our population of interest. However, as we discussed, in most cases of inference we will not actually have access to this full population of data. The purpose of conducting inference is to use random samples from an unattainable population of data to make an inference about some unknown population parameter.\n",
    "\n",
    "However, for the sake of some parts of this lab, again we will utilize and work with the actual population of data to gain a deeper understanding of the properties of inference. \n",
    "\n",
    "\n",
    "### Research Questions\n",
    "In this analysis, we will seek to answer the following research questions.\n",
    "1. Is there an association between billioniares that work in tech (or not) and the age of the billionaires. If so, quantify this association with a confidence interval.\n",
    "2. Is there an association between billioniares that work in tech (or not) and billionaires that live in the USA (or not). If so, quantify this association with a confidence interval.\n",
    "\n",
    "\n",
    "\n",
    "<p>&nbsp;</p>\n",
    "<table style=\"border: none;border-collapse: collapse;width:102pt;\">\n",
    "    <tbody>\n",
    "        <tr>\n",
    "            <td style=\"color:black;font-size:15px;font-weight:700;font-style:normal;text-decoration:none;font-family:Calibri, sans-serif;text-align:general;vertical-align:bottom;border:.5pt solid windowtext;height:14.25pt;width:51pt;\">Problem</td>\n",
    "            <td style=\"color:black;font-size:15px;font-weight:700;font-style:normal;text-decoration:none;font-family:Calibri, sans-serif;text-align:general;vertical-align:bottom;border:.5pt solid windowtext;border-left:none;width:51pt;\">Points</td>\n",
    "        </tr>\n",
    "        <tr>\n",
    "            <td style=\"color:black;font-size:15px;font-weight:400;font-style:normal;text-decoration:none;font-family:Calibri, sans-serif;text-align:right;vertical-align:bottom;border:.5pt solid windowtext;height:14.25pt;border-top:none;\">1.1</td>\n",
    "            <td style=\"color:black;font-size:15px;font-weight:400;font-style:normal;text-decoration:none;font-family:Calibri, sans-serif;text-align:right;vertical-align:bottom;border:.5pt solid windowtext;border-top:none;border-left:none;\">0.75</td>\n",
    "        </tr>\n",
    "        <tr>\n",
    "            <td style=\"color:black;font-size:15px;font-weight:400;font-style:normal;text-decoration:none;font-family:Calibri, sans-serif;text-align:right;vertical-align:bottom;border:.5pt solid windowtext;height:14.25pt;border-top:none;\">2.1</td>\n",
    "            <td style=\"color:black;font-size:15px;font-weight:400;font-style:normal;text-decoration:none;font-family:Calibri, sans-serif;text-align:right;vertical-align:bottom;border:.5pt solid windowtext;border-top:none;border-left:none;\">0.75</td>\n",
    "        </tr>\n",
    "        <tr>\n",
    "            <td style=\"color:black;font-size:15px;font-weight:400;font-style:normal;text-decoration:none;font-family:Calibri, sans-serif;text-align:right;vertical-align:bottom;border:.5pt solid windowtext;height:14.25pt;border-top:none;\">2.2</td>\n",
    "            <td style=\"color:black;font-size:15px;font-weight:400;font-style:normal;text-decoration:none;font-family:Calibri, sans-serif;text-align:right;vertical-align:bottom;border:.5pt solid windowtext;border-top:none;border-left:none;\">0.75</td>\n",
    "        </tr>\n",
    "        <tr>\n",
    "            <td style=\"color:black;font-size:15px;font-weight:400;font-style:normal;text-decoration:none;font-family:Calibri, sans-serif;text-align:right;vertical-align:bottom;border:.5pt solid windowtext;height:14.25pt;border-top:none;\">2.3</td>\n",
    "            <td style=\"color:black;font-size:15px;font-weight:400;font-style:normal;text-decoration:none;font-family:Calibri, sans-serif;text-align:right;vertical-align:bottom;border:.5pt solid windowtext;border-top:none;border-left:none;\">0.75</td>\n",
    "        </tr>\n",
    "        <tr>\n",
    "            <td style=\"color:black;font-size:15px;font-weight:400;font-style:normal;text-decoration:none;font-family:Calibri, sans-serif;text-align:right;vertical-align:bottom;border:.5pt solid windowtext;height:14.25pt;border-top:none;\">2.4</td>\n",
    "            <td style=\"color:black;font-size:15px;font-weight:400;font-style:normal;text-decoration:none;font-family:Calibri, sans-serif;text-align:right;vertical-align:bottom;border:.5pt solid windowtext;border-top:none;border-left:none;\">0.75</td>\n",
    "        </tr>\n",
    "        <tr>\n",
    "            <td style=\"color:black;font-size:15px;font-weight:400;font-style:normal;text-decoration:none;font-family:Calibri, sans-serif;text-align:right;vertical-align:bottom;border:.5pt solid windowtext;height:14.25pt;border-top:none;\">3.1</td>\n",
    "            <td style=\"color:black;font-size:15px;font-weight:400;font-style:normal;text-decoration:none;font-family:Calibri, sans-serif;text-align:right;vertical-align:bottom;border:.5pt solid windowtext;border-top:none;border-left:none;\">0.75</td>\n",
    "        </tr>\n",
    "        <tr>\n",
    "            <td style=\"color:black;font-size:15px;font-weight:400;font-style:normal;text-decoration:none;font-family:Calibri, sans-serif;text-align:right;vertical-align:bottom;border:.5pt solid windowtext;height:14.25pt;border-top:none;\">3.2</td>\n",
    "            <td style=\"color:black;font-size:15px;font-weight:400;font-style:normal;text-decoration:none;font-family:Calibri, sans-serif;text-align:right;vertical-align:bottom;border:.5pt solid windowtext;border-top:none;border-left:none;\">0.75</td>\n",
    "        </tr>\n",
    "        <tr>\n",
    "            <td style=\"color:black;font-size:15px;font-weight:400;font-style:normal;text-decoration:none;font-family:Calibri, sans-serif;text-align:right;vertical-align:bottom;border:.5pt solid windowtext;height:14.25pt;border-top:none;\">3.3</td>\n",
    "            <td style=\"color:black;font-size:15px;font-weight:400;font-style:normal;text-decoration:none;font-family:Calibri, sans-serif;text-align:right;vertical-align:bottom;border:.5pt solid windowtext;border-top:none;border-left:none;\">0.75</td>\n",
    "        </tr>\n",
    "        <tr>\n",
    "            <td style=\"color:black;font-size:15px;font-weight:400;font-style:normal;text-decoration:none;font-family:Calibri, sans-serif;text-align:right;vertical-align:bottom;border:.5pt solid windowtext;height:14.25pt;border-top:none;\">4.1</td>\n",
    "            <td style=\"color:black;font-size:15px;font-weight:400;font-style:normal;text-decoration:none;font-family:Calibri, sans-serif;text-align:right;vertical-align:bottom;border:.5pt solid windowtext;border-top:none;border-left:none;\">0.75</td>\n",
    "        </tr>\n",
    "        <tr>\n",
    "            <td style=\"color:black;font-size:15px;font-weight:400;font-style:normal;text-decoration:none;font-family:Calibri, sans-serif;text-align:right;vertical-align:bottom;border:.5pt solid windowtext;height:14.25pt;border-top:none;\">4.2</td>\n",
    "            <td style=\"color:black;font-size:15px;font-weight:400;font-style:normal;text-decoration:none;font-family:Calibri, sans-serif;text-align:right;vertical-align:bottom;border:.5pt solid windowtext;border-top:none;border-left:none;\">0.75</td>\n",
    "        </tr>\n",
    "        <tr>\n",
    "            <td style=\"color:black;font-size:15px;font-weight:400;font-style:normal;text-decoration:none;font-family:Calibri, sans-serif;text-align:right;vertical-align:bottom;border:.5pt solid windowtext;height:14.25pt;border-top:none;\">4.3</td>\n",
    "            <td style=\"color:black;font-size:15px;font-weight:400;font-style:normal;text-decoration:none;font-family:Calibri, sans-serif;text-align:right;vertical-align:bottom;border:.5pt solid windowtext;border-top:none;border-left:none;\">1.25</td>\n",
    "        </tr>\n",
    "        <tr>\n",
    "            <td style=\"color:black;font-size:15px;font-weight:400;font-style:normal;text-decoration:none;font-family:Calibri, sans-serif;text-align:right;vertical-align:bottom;border:.5pt solid windowtext;height:14.25pt;border-top:none;\">4.4 and 4.5</td>\n",
    "            <td style=\"color:black;font-size:15px;font-weight:400;font-style:normal;text-decoration:none;font-family:Calibri, sans-serif;text-align:right;vertical-align:bottom;border:.5pt solid windowtext;border-top:none;border-left:none;\">1</td>\n",
    "        </tr>\n",
    "        <tr>\n",
    "            <td style=\"color:black;font-size:15px;font-weight:400;font-style:normal;text-decoration:none;font-family:Calibri, sans-serif;text-align:right;vertical-align:bottom;border:.5pt solid windowtext;height:14.25pt;border-top:none;\">5.1</td>\n",
    "            <td style=\"color:black;font-size:15px;font-weight:400;font-style:normal;text-decoration:none;font-family:Calibri, sans-serif;text-align:right;vertical-align:bottom;border:.5pt solid windowtext;border-top:none;border-left:none;\">0.75</td>\n",
    "        </tr>\n",
    "        <tr>\n",
    "            <td style=\"color:black;font-size:15px;font-weight:400;font-style:normal;text-decoration:none;font-family:Calibri, sans-serif;text-align:right;vertical-align:bottom;border:.5pt solid windowtext;height:14.25pt;border-top:none;\">5.2</td>\n",
    "            <td style=\"color:black;font-size:15px;font-weight:400;font-style:normal;text-decoration:none;font-family:Calibri, sans-serif;text-align:right;vertical-align:bottom;border:.5pt solid windowtext;border-top:none;border-left:none;\">0.75</td>\n",
    "        </tr>\n",
    "        <tr>\n",
    "            <td style=\"color:black;font-size:15px;font-weight:400;font-style:normal;text-decoration:none;font-family:Calibri, sans-serif;text-align:right;vertical-align:bottom;border:.5pt solid windowtext;height:14.25pt;border-top:none;\">5.3</td>\n",
    "            <td style=\"color:black;font-size:15px;font-weight:400;font-style:normal;text-decoration:none;font-family:Calibri, sans-serif;text-align:right;vertical-align:bottom;border:.5pt solid windowtext;border-top:none;border-left:none;\">1.25</td>\n",
    "        </tr>\n",
    "        <tr>\n",
    "            <td style=\"color:black;font-size:15px;font-weight:400;font-style:normal;text-decoration:none;font-family:Calibri, sans-serif;text-align:right;vertical-align:bottom;border:.5pt solid windowtext;height:14.25pt;border-top:none;\">5.4</td>\n",
    "            <td style=\"color:black;font-size:15px;font-weight:400;font-style:normal;text-decoration:none;font-family:Calibri, sans-serif;text-align:right;vertical-align:bottom;border:.5pt solid windowtext;border-top:none;border-left:none;\">1</td>\n",
    "        </tr>\n",
    "        <tr>\n",
    "            <td style=\"color:black;font-size:15px;font-weight:400;font-style:normal;text-decoration:none;font-family:Calibri, sans-serif;text-align:right;vertical-align:bottom;border:.5pt solid windowtext;height:14.25pt;border-top:none;\">6.1</td>\n",
    "            <td style=\"color:black;font-size:15px;font-weight:400;font-style:normal;text-decoration:none;font-family:Calibri, sans-serif;text-align:right;vertical-align:bottom;border:.5pt solid windowtext;border-top:none;border-left:none;\">0.5</td>\n",
    "        </tr>\n",
    "        <tr>\n",
    "            <td style=\"color:black;font-size:15px;font-weight:400;font-style:normal;text-decoration:none;font-family:Calibri, sans-serif;text-align:right;vertical-align:bottom;border:.5pt solid windowtext;height:14.25pt;border-top:none;\">6.2</td>\n",
    "            <td style=\"color:black;font-size:15px;font-weight:400;font-style:normal;text-decoration:none;font-family:Calibri, sans-serif;text-align:right;vertical-align:bottom;border:.5pt solid windowtext;border-top:none;border-left:none;\">0.5</td>\n",
    "        </tr>\n",
    "        <tr>\n",
    "            <td style=\"color:black;font-size:15px;font-weight:400;font-style:normal;text-decoration:none;font-family:Calibri, sans-serif;text-align:right;vertical-align:bottom;border:.5pt solid windowtext;height:14.25pt;border-top:none;\">6.3</td>\n",
    "            <td style=\"color:black;font-size:15px;font-weight:400;font-style:normal;text-decoration:none;font-family:Calibri, sans-serif;text-align:right;vertical-align:bottom;border:.5pt solid windowtext;border-top:none;border-left:none;\">1.25</td>\n",
    "        </tr>\n",
    "        <tr>\n",
    "            <td style=\"color:black;font-size:15px;font-weight:400;font-style:normal;text-decoration:none;font-family:Calibri, sans-serif;text-align:right;vertical-align:bottom;border:.5pt solid windowtext;height:14.25pt;border-top:none;\">6.4</td>\n",
    "            <td style=\"color:black;font-size:15px;font-weight:400;font-style:normal;text-decoration:none;font-family:Calibri, sans-serif;text-align:right;vertical-align:bottom;border:.5pt solid windowtext;border-top:none;border-left:none;\">0.75</td>\n",
    "        </tr>\n",
    "        <tr>\n",
    "            <td style=\"color:black;font-size:15px;font-weight:400;font-style:normal;text-decoration:none;font-family:Calibri, sans-serif;text-align:right;vertical-align:bottom;border:.5pt solid windowtext;height:14.25pt;border-top:none;\">6.5</td>\n",
    "            <td style=\"color:black;font-size:15px;font-weight:400;font-style:normal;text-decoration:none;font-family:Calibri, sans-serif;text-align:right;vertical-align:bottom;border:.5pt solid windowtext;border-top:none;border-left:none;\">0.5</td>\n",
    "        </tr>\n",
    "        <tr>\n",
    "            <td style=\"color:black;font-size:15px;font-weight:400;font-style:normal;text-decoration:none;font-family:Calibri, sans-serif;text-align:right;vertical-align:bottom;border:.5pt solid windowtext;height:14.25pt;border-top:none;\">6.6</td>\n",
    "            <td style=\"color:black;font-size:15px;font-weight:400;font-style:normal;text-decoration:none;font-family:Calibri, sans-serif;text-align:right;vertical-align:bottom;border:.5pt solid windowtext;border-top:none;border-left:none;\">0.5</td>\n",
    "        </tr>\n",
    "        <tr>\n",
    "            <td style=\"color:black;font-size:15px;font-weight:400;font-style:normal;text-decoration:none;font-family:Calibri, sans-serif;text-align:right;vertical-align:bottom;border:.5pt solid windowtext;height:14.25pt;border-top:none;\">6.7</td>\n",
    "            <td style=\"color:black;font-size:15px;font-weight:400;font-style:normal;text-decoration:none;font-family:Calibri, sans-serif;text-align:right;vertical-align:bottom;border:.5pt solid windowtext;border-top:none;border-left:none;\">1.5</td>\n",
    "        </tr>\n",
    "        <tr>\n",
    "            <td style=\"color:black;font-size:15px;font-weight:400;font-style:normal;text-decoration:none;font-family:Calibri, sans-serif;text-align:right;vertical-align:bottom;border:.5pt solid windowtext;height:14.25pt;border-top:none;\">6.8</td>\n",
    "            <td style=\"color:black;font-size:15px;font-weight:400;font-style:normal;text-decoration:none;font-family:Calibri, sans-serif;text-align:right;vertical-align:bottom;border:.5pt solid windowtext;border-top:none;border-left:none;\">0.5</td>\n",
    "        </tr>\n",
    "        <tr>\n",
    "            <td style=\"color:black;font-size:15px;font-weight:400;font-style:normal;text-decoration:none;font-family:Calibri, sans-serif;text-align:right;vertical-align:bottom;border:.5pt solid windowtext;height:14.25pt;border-top:none;\">7.1</td>\n",
    "            <td style=\"color:black;font-size:15px;font-weight:400;font-style:normal;text-decoration:none;font-family:Calibri, sans-serif;text-align:right;vertical-align:bottom;border:.5pt solid windowtext;border-top:none;border-left:none;\">0.5</td>\n",
    "        </tr>\n",
    "        <tr>\n",
    "            <td style=\"color:black;font-size:15px;font-weight:400;font-style:normal;text-decoration:none;font-family:Calibri, sans-serif;text-align:right;vertical-align:bottom;border:.5pt solid windowtext;height:14.25pt;border-top:none;\">7.2</td>\n",
    "            <td style=\"color:black;font-size:15px;font-weight:400;font-style:normal;text-decoration:none;font-family:Calibri, sans-serif;text-align:right;vertical-align:bottom;border:.5pt solid windowtext;border-top:none;border-left:none;\">0.75</td>\n",
    "        </tr>\n",
    "        <tr>\n",
    "            <td style=\"color:black;font-size:15px;font-weight:400;font-style:normal;text-decoration:none;font-family:Calibri, sans-serif;text-align:right;vertical-align:bottom;border:.5pt solid windowtext;height:14.25pt;border-top:none;\">7.3</td>\n",
    "            <td style=\"color:black;font-size:15px;font-weight:400;font-style:normal;text-decoration:none;font-family:Calibri, sans-serif;text-align:right;vertical-align:bottom;border:.5pt solid windowtext;border-top:none;border-left:none;\">1.25</td>\n",
    "        </tr>\n",
    "        <tr>\n",
    "            <td style=\"color:black;font-size:15px;font-weight:400;font-style:normal;text-decoration:none;font-family:Calibri, sans-serif;text-align:right;vertical-align:bottom;border:.5pt solid windowtext;height:14.25pt;border-top:none;\">7.4</td>\n",
    "            <td style=\"color:black;font-size:15px;font-weight:400;font-style:normal;text-decoration:none;font-family:Calibri, sans-serif;text-align:right;vertical-align:bottom;border:.5pt solid windowtext;border-top:none;border-left:none;\">0.5</td>\n",
    "        </tr>\n",
    "        <tr>\n",
    "            <td style=\"color:black;font-size:15px;font-weight:400;font-style:normal;text-decoration:none;font-family:Calibri, sans-serif;text-align:right;vertical-align:bottom;border:.5pt solid windowtext;height:14.25pt;border-top:none;\">7.5</td>\n",
    "            <td style=\"color:black;font-size:15px;font-weight:400;font-style:normal;text-decoration:none;font-family:Calibri, sans-serif;text-align:right;vertical-align:bottom;border:.5pt solid windowtext;border-top:none;border-left:none;\">0.5</td>\n",
    "        </tr>\n",
    "        <tr>\n",
    "            <td style=\"color:black;font-size:15px;font-weight:400;font-style:normal;text-decoration:none;font-family:Calibri, sans-serif;text-align:right;vertical-align:bottom;border:.5pt solid windowtext;height:14.25pt;border-top:none;\">7.6</td>\n",
    "            <td style=\"color:black;font-size:15px;font-weight:400;font-style:normal;text-decoration:none;font-family:Calibri, sans-serif;text-align:right;vertical-align:bottom;border:.5pt solid windowtext;border-top:none;border-left:none;\">1.5</td>\n",
    "        </tr>\n",
    "        <tr>\n",
    "            <td style=\"color:black;font-size:15px;font-weight:400;font-style:normal;text-decoration:none;font-family:Calibri, sans-serif;text-align:right;vertical-align:bottom;border:.5pt solid windowtext;height:14.25pt;border-top:none;\">7.7</td>\n",
    "            <td style=\"color:black;font-size:15px;font-weight:400;font-style:normal;text-decoration:none;font-family:Calibri, sans-serif;text-align:right;vertical-align:bottom;border:.5pt solid windowtext;border-top:none;border-left:none;\">0.5</td>\n",
    "        </tr>\n",
    "    </tbody>\n",
    "</table>\n",
    "\n",
    "\n",
    "\n"
   ]
  },
  {
   "cell_type": "markdown",
   "metadata": {},
   "source": [
    "### Imports"
   ]
  },
  {
   "cell_type": "code",
   "execution_count": 2,
   "metadata": {},
   "outputs": [],
   "source": [
    "import pandas as pd\n",
    "import numpy as np\n",
    "import matplotlib.pyplot as plt\n",
    "import math\n",
    "\n",
    "from scipy.stats import norm"
   ]
  },
  {
   "cell_type": "markdown",
   "metadata": {},
   "source": [
    "## 1. Data Processing\n",
    "\n",
    "### 1.1. Data Cleaning\n",
    "\n",
    "Read the **Billionaire.csv** file into a dataframe. \n",
    "\n",
    "This dataframe has some missing values in the age column! However, we are in luck! The missing values in this csv file are encoded as 'N/A'. Luckily, the string 'N/A' is a string that the **pd.read_csv()** function automatically knows represents a missing value. So it will automatically turn these string values into a **NaN** value (whether you specify this with the **missing_values** parameter or not) and therefore not cause your numerical variable datatypes to be read as strings in this particular example.\n",
    "\n",
    "You should drop all rows with missing values."
   ]
  },
  {
   "cell_type": "code",
   "execution_count": 3,
   "metadata": {},
   "outputs": [
    {
     "data": {
      "text/html": [
       "<div>\n",
       "<style scoped>\n",
       "    .dataframe tbody tr th:only-of-type {\n",
       "        vertical-align: middle;\n",
       "    }\n",
       "\n",
       "    .dataframe tbody tr th {\n",
       "        vertical-align: top;\n",
       "    }\n",
       "\n",
       "    .dataframe thead th {\n",
       "        text-align: right;\n",
       "    }\n",
       "</style>\n",
       "<table border=\"1\" class=\"dataframe\">\n",
       "  <thead>\n",
       "    <tr style=\"text-align: right;\">\n",
       "      <th></th>\n",
       "      <th>Name</th>\n",
       "      <th>NetWorth_billions</th>\n",
       "      <th>Country</th>\n",
       "      <th>Source</th>\n",
       "      <th>Rank</th>\n",
       "      <th>Age</th>\n",
       "      <th>Industry</th>\n",
       "    </tr>\n",
       "  </thead>\n",
       "  <tbody>\n",
       "    <tr>\n",
       "      <th>0</th>\n",
       "      <td>Jeff Bezos</td>\n",
       "      <td>177.0</td>\n",
       "      <td>United States</td>\n",
       "      <td>Amazon</td>\n",
       "      <td>1</td>\n",
       "      <td>57.0</td>\n",
       "      <td>Technology</td>\n",
       "    </tr>\n",
       "    <tr>\n",
       "      <th>1</th>\n",
       "      <td>Elon Musk</td>\n",
       "      <td>151.0</td>\n",
       "      <td>United States</td>\n",
       "      <td>Tesla, SpaceX</td>\n",
       "      <td>2</td>\n",
       "      <td>49.0</td>\n",
       "      <td>Automotive</td>\n",
       "    </tr>\n",
       "    <tr>\n",
       "      <th>2</th>\n",
       "      <td>Bernard Arnault &amp; family</td>\n",
       "      <td>150.0</td>\n",
       "      <td>France</td>\n",
       "      <td>LVMH</td>\n",
       "      <td>3</td>\n",
       "      <td>72.0</td>\n",
       "      <td>Fashion &amp; Retail</td>\n",
       "    </tr>\n",
       "    <tr>\n",
       "      <th>3</th>\n",
       "      <td>Bill Gates</td>\n",
       "      <td>124.0</td>\n",
       "      <td>United States</td>\n",
       "      <td>Microsoft</td>\n",
       "      <td>4</td>\n",
       "      <td>65.0</td>\n",
       "      <td>Technology</td>\n",
       "    </tr>\n",
       "    <tr>\n",
       "      <th>4</th>\n",
       "      <td>Mark Zuckerberg</td>\n",
       "      <td>97.0</td>\n",
       "      <td>United States</td>\n",
       "      <td>Facebook</td>\n",
       "      <td>5</td>\n",
       "      <td>36.0</td>\n",
       "      <td>Technology</td>\n",
       "    </tr>\n",
       "    <tr>\n",
       "      <th>...</th>\n",
       "      <td>...</td>\n",
       "      <td>...</td>\n",
       "      <td>...</td>\n",
       "      <td>...</td>\n",
       "      <td>...</td>\n",
       "      <td>...</td>\n",
       "      <td>...</td>\n",
       "    </tr>\n",
       "    <tr>\n",
       "      <th>2750</th>\n",
       "      <td>Daniel Yong Zhang</td>\n",
       "      <td>1.0</td>\n",
       "      <td>China</td>\n",
       "      <td>e-commerce</td>\n",
       "      <td>2674</td>\n",
       "      <td>49.0</td>\n",
       "      <td>Technology</td>\n",
       "    </tr>\n",
       "    <tr>\n",
       "      <th>2751</th>\n",
       "      <td>Zhang Yuqiang</td>\n",
       "      <td>1.0</td>\n",
       "      <td>China</td>\n",
       "      <td>Fiberglass</td>\n",
       "      <td>2674</td>\n",
       "      <td>65.0</td>\n",
       "      <td>Manufacturing</td>\n",
       "    </tr>\n",
       "    <tr>\n",
       "      <th>2752</th>\n",
       "      <td>Zhao Meiguang</td>\n",
       "      <td>1.0</td>\n",
       "      <td>China</td>\n",
       "      <td>gold mining</td>\n",
       "      <td>2674</td>\n",
       "      <td>58.0</td>\n",
       "      <td>Metals &amp; Mining</td>\n",
       "    </tr>\n",
       "    <tr>\n",
       "      <th>2753</th>\n",
       "      <td>Zhong Naixiong</td>\n",
       "      <td>1.0</td>\n",
       "      <td>China</td>\n",
       "      <td>conglomerate</td>\n",
       "      <td>2674</td>\n",
       "      <td>58.0</td>\n",
       "      <td>Diversified</td>\n",
       "    </tr>\n",
       "    <tr>\n",
       "      <th>2754</th>\n",
       "      <td>Zhou Wei family</td>\n",
       "      <td>1.0</td>\n",
       "      <td>China</td>\n",
       "      <td>Software</td>\n",
       "      <td>2674</td>\n",
       "      <td>54.0</td>\n",
       "      <td>Technology</td>\n",
       "    </tr>\n",
       "  </tbody>\n",
       "</table>\n",
       "<p>2676 rows × 7 columns</p>\n",
       "</div>"
      ],
      "text/plain": [
       "                          Name  NetWorth_billions        Country  \\\n",
       "0                   Jeff Bezos              177.0  United States   \n",
       "1                    Elon Musk              151.0  United States   \n",
       "2     Bernard Arnault & family              150.0         France   \n",
       "3                   Bill Gates              124.0  United States   \n",
       "4              Mark Zuckerberg               97.0  United States   \n",
       "...                        ...                ...            ...   \n",
       "2750         Daniel Yong Zhang                1.0          China   \n",
       "2751             Zhang Yuqiang                1.0          China   \n",
       "2752             Zhao Meiguang                1.0          China   \n",
       "2753            Zhong Naixiong                1.0          China   \n",
       "2754           Zhou Wei family                1.0          China   \n",
       "\n",
       "             Source  Rank   Age          Industry  \n",
       "0            Amazon     1  57.0        Technology  \n",
       "1     Tesla, SpaceX     2  49.0        Automotive  \n",
       "2              LVMH     3  72.0  Fashion & Retail  \n",
       "3         Microsoft     4  65.0        Technology  \n",
       "4          Facebook     5  36.0        Technology  \n",
       "...             ...   ...   ...               ...  \n",
       "2750     e-commerce  2674  49.0        Technology  \n",
       "2751     Fiberglass  2674  65.0     Manufacturing  \n",
       "2752    gold mining  2674  58.0   Metals & Mining  \n",
       "2753   conglomerate  2674  58.0       Diversified  \n",
       "2754       Software  2674  54.0        Technology  \n",
       "\n",
       "[2676 rows x 7 columns]"
      ]
     },
     "execution_count": 3,
     "metadata": {},
     "output_type": "execute_result"
    }
   ],
   "source": [
    "df = pd.read_csv(\"Billionaire.csv\")\n",
    "df = df.dropna()\n",
    "df"
   ]
  },
  {
   "cell_type": "code",
   "execution_count": null,
   "metadata": {},
   "outputs": [],
   "source": []
  },
  {
   "cell_type": "code",
   "execution_count": null,
   "metadata": {},
   "outputs": [],
   "source": []
  },
  {
   "cell_type": "code",
   "execution_count": null,
   "metadata": {},
   "outputs": [],
   "source": []
  },
  {
   "cell_type": "code",
   "execution_count": null,
   "metadata": {},
   "outputs": [],
   "source": []
  },
  {
   "cell_type": "markdown",
   "metadata": {},
   "source": [
    "## 2. Two Populations of Tech and Non-Tech Billionaires\n",
    "\n",
    "In this analysis, we will consider two populations:\n",
    "* the population of billionaires that work in tech\n",
    "* the population of billionaires that do not work in tech\n",
    "\n",
    "### 2.1. Creating the Populations\n",
    "\n",
    "First, create two dataframes:\n",
    "* one that is comprised of the tech industry billionaires\n",
    "* one that is comprised of the non-tech industry billionaires"
   ]
  },
  {
   "cell_type": "code",
   "execution_count": 4,
   "metadata": {},
   "outputs": [
    {
     "data": {
      "text/html": [
       "<div>\n",
       "<style scoped>\n",
       "    .dataframe tbody tr th:only-of-type {\n",
       "        vertical-align: middle;\n",
       "    }\n",
       "\n",
       "    .dataframe tbody tr th {\n",
       "        vertical-align: top;\n",
       "    }\n",
       "\n",
       "    .dataframe thead th {\n",
       "        text-align: right;\n",
       "    }\n",
       "</style>\n",
       "<table border=\"1\" class=\"dataframe\">\n",
       "  <thead>\n",
       "    <tr style=\"text-align: right;\">\n",
       "      <th></th>\n",
       "      <th>Name</th>\n",
       "      <th>NetWorth_billions</th>\n",
       "      <th>Country</th>\n",
       "      <th>Source</th>\n",
       "      <th>Rank</th>\n",
       "      <th>Age</th>\n",
       "      <th>Industry</th>\n",
       "    </tr>\n",
       "  </thead>\n",
       "  <tbody>\n",
       "    <tr>\n",
       "      <th>0</th>\n",
       "      <td>Jeff Bezos</td>\n",
       "      <td>177.0</td>\n",
       "      <td>United States</td>\n",
       "      <td>Amazon</td>\n",
       "      <td>1</td>\n",
       "      <td>57.0</td>\n",
       "      <td>Technology</td>\n",
       "    </tr>\n",
       "    <tr>\n",
       "      <th>3</th>\n",
       "      <td>Bill Gates</td>\n",
       "      <td>124.0</td>\n",
       "      <td>United States</td>\n",
       "      <td>Microsoft</td>\n",
       "      <td>4</td>\n",
       "      <td>65.0</td>\n",
       "      <td>Technology</td>\n",
       "    </tr>\n",
       "    <tr>\n",
       "      <th>4</th>\n",
       "      <td>Mark Zuckerberg</td>\n",
       "      <td>97.0</td>\n",
       "      <td>United States</td>\n",
       "      <td>Facebook</td>\n",
       "      <td>5</td>\n",
       "      <td>36.0</td>\n",
       "      <td>Technology</td>\n",
       "    </tr>\n",
       "    <tr>\n",
       "      <th>6</th>\n",
       "      <td>Larry Ellison</td>\n",
       "      <td>93.0</td>\n",
       "      <td>United States</td>\n",
       "      <td>software</td>\n",
       "      <td>7</td>\n",
       "      <td>76.0</td>\n",
       "      <td>Technology</td>\n",
       "    </tr>\n",
       "    <tr>\n",
       "      <th>7</th>\n",
       "      <td>Larry Page</td>\n",
       "      <td>91.5</td>\n",
       "      <td>United States</td>\n",
       "      <td>Google</td>\n",
       "      <td>8</td>\n",
       "      <td>48.0</td>\n",
       "      <td>Technology</td>\n",
       "    </tr>\n",
       "    <tr>\n",
       "      <th>...</th>\n",
       "      <td>...</td>\n",
       "      <td>...</td>\n",
       "      <td>...</td>\n",
       "      <td>...</td>\n",
       "      <td>...</td>\n",
       "      <td>...</td>\n",
       "      <td>...</td>\n",
       "    </tr>\n",
       "    <tr>\n",
       "      <th>2741</th>\n",
       "      <td>Wang Wenjian</td>\n",
       "      <td>1.0</td>\n",
       "      <td>China</td>\n",
       "      <td>optical devices</td>\n",
       "      <td>2674</td>\n",
       "      <td>74.0</td>\n",
       "      <td>Technology</td>\n",
       "    </tr>\n",
       "    <tr>\n",
       "      <th>2744</th>\n",
       "      <td>Xia Zhisheng &amp; family</td>\n",
       "      <td>1.0</td>\n",
       "      <td>China</td>\n",
       "      <td>home appliances</td>\n",
       "      <td>2674</td>\n",
       "      <td>79.0</td>\n",
       "      <td>Technology</td>\n",
       "    </tr>\n",
       "    <tr>\n",
       "      <th>2747</th>\n",
       "      <td>Mark Haoyong Yang</td>\n",
       "      <td>1.0</td>\n",
       "      <td>China</td>\n",
       "      <td>e-commerce</td>\n",
       "      <td>2674</td>\n",
       "      <td>46.0</td>\n",
       "      <td>Technology</td>\n",
       "    </tr>\n",
       "    <tr>\n",
       "      <th>2750</th>\n",
       "      <td>Daniel Yong Zhang</td>\n",
       "      <td>1.0</td>\n",
       "      <td>China</td>\n",
       "      <td>e-commerce</td>\n",
       "      <td>2674</td>\n",
       "      <td>49.0</td>\n",
       "      <td>Technology</td>\n",
       "    </tr>\n",
       "    <tr>\n",
       "      <th>2754</th>\n",
       "      <td>Zhou Wei family</td>\n",
       "      <td>1.0</td>\n",
       "      <td>China</td>\n",
       "      <td>Software</td>\n",
       "      <td>2674</td>\n",
       "      <td>54.0</td>\n",
       "      <td>Technology</td>\n",
       "    </tr>\n",
       "  </tbody>\n",
       "</table>\n",
       "<p>355 rows × 7 columns</p>\n",
       "</div>"
      ],
      "text/plain": [
       "                       Name  NetWorth_billions        Country  \\\n",
       "0                Jeff Bezos              177.0  United States   \n",
       "3                Bill Gates              124.0  United States   \n",
       "4           Mark Zuckerberg               97.0  United States   \n",
       "6             Larry Ellison               93.0  United States   \n",
       "7                Larry Page               91.5  United States   \n",
       "...                     ...                ...            ...   \n",
       "2741           Wang Wenjian                1.0          China   \n",
       "2744  Xia Zhisheng & family                1.0          China   \n",
       "2747      Mark Haoyong Yang                1.0          China   \n",
       "2750      Daniel Yong Zhang                1.0          China   \n",
       "2754        Zhou Wei family                1.0          China   \n",
       "\n",
       "               Source  Rank   Age    Industry  \n",
       "0              Amazon     1  57.0  Technology  \n",
       "3           Microsoft     4  65.0  Technology  \n",
       "4            Facebook     5  36.0  Technology  \n",
       "6            software     7  76.0  Technology  \n",
       "7              Google     8  48.0  Technology  \n",
       "...               ...   ...   ...         ...  \n",
       "2741  optical devices  2674  74.0  Technology  \n",
       "2744  home appliances  2674  79.0  Technology  \n",
       "2747       e-commerce  2674  46.0  Technology  \n",
       "2750       e-commerce  2674  49.0  Technology  \n",
       "2754         Software  2674  54.0  Technology  \n",
       "\n",
       "[355 rows x 7 columns]"
      ]
     },
     "execution_count": 4,
     "metadata": {},
     "output_type": "execute_result"
    }
   ],
   "source": [
    "df_tech = df[df['Industry'] == \"Technology\"]\n",
    "df_tech"
   ]
  },
  {
   "cell_type": "code",
   "execution_count": 5,
   "metadata": {},
   "outputs": [
    {
     "data": {
      "text/html": [
       "<div>\n",
       "<style scoped>\n",
       "    .dataframe tbody tr th:only-of-type {\n",
       "        vertical-align: middle;\n",
       "    }\n",
       "\n",
       "    .dataframe tbody tr th {\n",
       "        vertical-align: top;\n",
       "    }\n",
       "\n",
       "    .dataframe thead th {\n",
       "        text-align: right;\n",
       "    }\n",
       "</style>\n",
       "<table border=\"1\" class=\"dataframe\">\n",
       "  <thead>\n",
       "    <tr style=\"text-align: right;\">\n",
       "      <th></th>\n",
       "      <th>Name</th>\n",
       "      <th>NetWorth_billions</th>\n",
       "      <th>Country</th>\n",
       "      <th>Source</th>\n",
       "      <th>Rank</th>\n",
       "      <th>Age</th>\n",
       "      <th>Industry</th>\n",
       "    </tr>\n",
       "  </thead>\n",
       "  <tbody>\n",
       "    <tr>\n",
       "      <th>1</th>\n",
       "      <td>Elon Musk</td>\n",
       "      <td>151.0</td>\n",
       "      <td>United States</td>\n",
       "      <td>Tesla, SpaceX</td>\n",
       "      <td>2</td>\n",
       "      <td>49.0</td>\n",
       "      <td>Automotive</td>\n",
       "    </tr>\n",
       "    <tr>\n",
       "      <th>2</th>\n",
       "      <td>Bernard Arnault &amp; family</td>\n",
       "      <td>150.0</td>\n",
       "      <td>France</td>\n",
       "      <td>LVMH</td>\n",
       "      <td>3</td>\n",
       "      <td>72.0</td>\n",
       "      <td>Fashion &amp; Retail</td>\n",
       "    </tr>\n",
       "    <tr>\n",
       "      <th>5</th>\n",
       "      <td>Warren Buffett</td>\n",
       "      <td>96.0</td>\n",
       "      <td>United States</td>\n",
       "      <td>Berkshire Hathaway</td>\n",
       "      <td>6</td>\n",
       "      <td>90.0</td>\n",
       "      <td>Finance &amp; Investments</td>\n",
       "    </tr>\n",
       "    <tr>\n",
       "      <th>9</th>\n",
       "      <td>Mukesh Ambani</td>\n",
       "      <td>84.5</td>\n",
       "      <td>India</td>\n",
       "      <td>diversified</td>\n",
       "      <td>10</td>\n",
       "      <td>63.0</td>\n",
       "      <td>Diversified</td>\n",
       "    </tr>\n",
       "    <tr>\n",
       "      <th>10</th>\n",
       "      <td>Amancio Ortega</td>\n",
       "      <td>77.0</td>\n",
       "      <td>Spain</td>\n",
       "      <td>Zara</td>\n",
       "      <td>11</td>\n",
       "      <td>85.0</td>\n",
       "      <td>Fashion &amp; Retail</td>\n",
       "    </tr>\n",
       "    <tr>\n",
       "      <th>...</th>\n",
       "      <td>...</td>\n",
       "      <td>...</td>\n",
       "      <td>...</td>\n",
       "      <td>...</td>\n",
       "      <td>...</td>\n",
       "      <td>...</td>\n",
       "      <td>...</td>\n",
       "    </tr>\n",
       "    <tr>\n",
       "      <th>2748</th>\n",
       "      <td>Yao Hsiao Tung</td>\n",
       "      <td>1.0</td>\n",
       "      <td>Singapore</td>\n",
       "      <td>Manufacturing</td>\n",
       "      <td>2674</td>\n",
       "      <td>81.0</td>\n",
       "      <td>Manufacturing</td>\n",
       "    </tr>\n",
       "    <tr>\n",
       "      <th>2749</th>\n",
       "      <td>Yu De-Chao</td>\n",
       "      <td>1.0</td>\n",
       "      <td>United States</td>\n",
       "      <td>pharmaceuticals</td>\n",
       "      <td>2674</td>\n",
       "      <td>57.0</td>\n",
       "      <td>Healthcare</td>\n",
       "    </tr>\n",
       "    <tr>\n",
       "      <th>2751</th>\n",
       "      <td>Zhang Yuqiang</td>\n",
       "      <td>1.0</td>\n",
       "      <td>China</td>\n",
       "      <td>Fiberglass</td>\n",
       "      <td>2674</td>\n",
       "      <td>65.0</td>\n",
       "      <td>Manufacturing</td>\n",
       "    </tr>\n",
       "    <tr>\n",
       "      <th>2752</th>\n",
       "      <td>Zhao Meiguang</td>\n",
       "      <td>1.0</td>\n",
       "      <td>China</td>\n",
       "      <td>gold mining</td>\n",
       "      <td>2674</td>\n",
       "      <td>58.0</td>\n",
       "      <td>Metals &amp; Mining</td>\n",
       "    </tr>\n",
       "    <tr>\n",
       "      <th>2753</th>\n",
       "      <td>Zhong Naixiong</td>\n",
       "      <td>1.0</td>\n",
       "      <td>China</td>\n",
       "      <td>conglomerate</td>\n",
       "      <td>2674</td>\n",
       "      <td>58.0</td>\n",
       "      <td>Diversified</td>\n",
       "    </tr>\n",
       "  </tbody>\n",
       "</table>\n",
       "<p>2321 rows × 7 columns</p>\n",
       "</div>"
      ],
      "text/plain": [
       "                          Name  NetWorth_billions        Country  \\\n",
       "1                    Elon Musk              151.0  United States   \n",
       "2     Bernard Arnault & family              150.0         France   \n",
       "5               Warren Buffett               96.0  United States   \n",
       "9                Mukesh Ambani               84.5          India   \n",
       "10              Amancio Ortega               77.0          Spain   \n",
       "...                        ...                ...            ...   \n",
       "2748            Yao Hsiao Tung                1.0      Singapore   \n",
       "2749                Yu De-Chao                1.0  United States   \n",
       "2751             Zhang Yuqiang                1.0          China   \n",
       "2752             Zhao Meiguang                1.0          China   \n",
       "2753            Zhong Naixiong                1.0          China   \n",
       "\n",
       "                  Source  Rank   Age               Industry  \n",
       "1          Tesla, SpaceX     2  49.0             Automotive  \n",
       "2                   LVMH     3  72.0       Fashion & Retail  \n",
       "5     Berkshire Hathaway     6  90.0  Finance & Investments  \n",
       "9            diversified    10  63.0            Diversified  \n",
       "10                  Zara    11  85.0       Fashion & Retail  \n",
       "...                  ...   ...   ...                    ...  \n",
       "2748       Manufacturing  2674  81.0          Manufacturing  \n",
       "2749     pharmaceuticals  2674  57.0             Healthcare  \n",
       "2751          Fiberglass  2674  65.0          Manufacturing  \n",
       "2752         gold mining  2674  58.0        Metals & Mining  \n",
       "2753        conglomerate  2674  58.0            Diversified  \n",
       "\n",
       "[2321 rows x 7 columns]"
      ]
     },
     "execution_count": 5,
     "metadata": {},
     "output_type": "execute_result"
    }
   ],
   "source": [
    "df_nontech = df[df['Industry'] != \"Technology\"]\n",
    "df_nontech"
   ]
  },
  {
   "cell_type": "markdown",
   "metadata": {},
   "source": [
    "### 2.2. Population Means and Standard Deviations\n",
    "\n",
    "Next, for each of your two populations, calculate the mean and standard deviation of the ages."
   ]
  },
  {
   "cell_type": "code",
   "execution_count": 6,
   "metadata": {},
   "outputs": [
    {
     "data": {
      "text/plain": [
       "54.83380281690141"
      ]
     },
     "execution_count": 6,
     "metadata": {},
     "output_type": "execute_result"
    }
   ],
   "source": [
    "techmean = df_tech[\"Age\"].mean()\n",
    "techmean"
   ]
  },
  {
   "cell_type": "code",
   "execution_count": 7,
   "metadata": {},
   "outputs": [
    {
     "data": {
      "text/plain": [
       "12.530549602904077"
      ]
     },
     "execution_count": 7,
     "metadata": {},
     "output_type": "execute_result"
    }
   ],
   "source": [
    "techstd = df_tech[\"Age\"].std()\n",
    "techstd"
   ]
  },
  {
   "cell_type": "code",
   "execution_count": 8,
   "metadata": {},
   "outputs": [
    {
     "data": {
      "text/plain": [
       "64.38000861697545"
      ]
     },
     "execution_count": 8,
     "metadata": {},
     "output_type": "execute_result"
    }
   ],
   "source": [
    "nontechmean = df_nontech[\"Age\"].mean()\n",
    "nontechmean"
   ]
  },
  {
   "cell_type": "code",
   "execution_count": 9,
   "metadata": {},
   "outputs": [
    {
     "data": {
      "text/plain": [
       "13.129376649590908"
      ]
     },
     "execution_count": 9,
     "metadata": {},
     "output_type": "execute_result"
    }
   ],
   "source": [
    "nontechstd = df_nontech[\"Age\"].std()\n",
    "nontechstd"
   ]
  },
  {
   "cell_type": "markdown",
   "metadata": {},
   "source": [
    "### 2.3. Population Distribution Shapes\n",
    "\n",
    "Plot two histograms:\n",
    "* one for the population of tech billionaire ages\n",
    "* another one for the population of non-tech billionaire ages"
   ]
  },
  {
   "cell_type": "code",
   "execution_count": 10,
   "metadata": {},
   "outputs": [
    {
     "data": {
      "image/png": "[encoded data removed]",
      "text/plain": [
       "<Figure size 432x288 with 1 Axes>"
      ]
     },
     "metadata": {
      "needs_background": "light"
     },
     "output_type": "display_data"
    }
   ],
   "source": [
    "df_tech['Age'].hist()\n",
    "plt.title('Frequency of Age')\n",
    "plt.xlabel('Age')\n",
    "plt.ylabel('Frequency')\n",
    "plt.show()"
   ]
  },
  {
   "cell_type": "code",
   "execution_count": 11,
   "metadata": {},
   "outputs": [
    {
     "data": {
      "image/png": "[encoded data removed]",
      "text/plain": [
       "<Figure size 432x288 with 1 Axes>"
      ]
     },
     "metadata": {
      "needs_background": "light"
     },
     "output_type": "display_data"
    }
   ],
   "source": [
    "df_nontech['Age'].hist()\n",
    "plt.title('Frequency of Age')\n",
    "plt.xlabel('Age')\n",
    "plt.ylabel('Frequency')\n",
    "plt.show()"
   ]
  },
  {
   "cell_type": "markdown",
   "metadata": {},
   "source": [
    "### 2.4. Population Proportions\n",
    "\n",
    "Next, for each of your two populations, calculate the proportion of billionaires in the respective population that live in the United States."
   ]
  },
  {
   "cell_type": "code",
   "execution_count": 12,
   "metadata": {},
   "outputs": [
    {
     "data": {
      "text/plain": [
       "0.39436619718309857"
      ]
     },
     "execution_count": 12,
     "metadata": {},
     "output_type": "execute_result"
    }
   ],
   "source": [
    "techprop = len(df_tech[df_tech[\"Country\"] == \"United States\"]) / len(df_tech)\n",
    "techprop"
   ]
  },
  {
   "cell_type": "code",
   "execution_count": 13,
   "metadata": {},
   "outputs": [
    {
     "data": {
      "text/plain": [
       "0.24989228780697975"
      ]
     },
     "execution_count": 13,
     "metadata": {},
     "output_type": "execute_result"
    }
   ],
   "source": [
    "nontechprop = len(df_nontech[df_nontech[\"Country\"] == \"United States\"]) / len(df_nontech)\n",
    "nontechprop"
   ]
  },
  {
   "cell_type": "markdown",
   "metadata": {},
   "source": [
    "## 3. Two Random Samples of Tech and Non-Tech Billionaires\n",
    "\n",
    "Next we would like to collect two random samples, one from each of our populations.\n",
    "\n",
    "### 3.1. Creating the Random Samples\n",
    "\n",
    "* Collect a random sample of 31 tech billionaires from the tech billionaire population (use a random state of 100).\n",
    "* Collect a random sample of 40 nontech billionaires from the non-tech billionaire population (use a random state of 100).\n"
   ]
  },
  {
   "cell_type": "code",
   "execution_count": 14,
   "metadata": {},
   "outputs": [
    {
     "data": {
      "text/html": [
       "<div>\n",
       "<style scoped>\n",
       "    .dataframe tbody tr th:only-of-type {\n",
       "        vertical-align: middle;\n",
       "    }\n",
       "\n",
       "    .dataframe tbody tr th {\n",
       "        vertical-align: top;\n",
       "    }\n",
       "\n",
       "    .dataframe thead th {\n",
       "        text-align: right;\n",
       "    }\n",
       "</style>\n",
       "<table border=\"1\" class=\"dataframe\">\n",
       "  <thead>\n",
       "    <tr style=\"text-align: right;\">\n",
       "      <th></th>\n",
       "      <th>Name</th>\n",
       "      <th>NetWorth_billions</th>\n",
       "      <th>Country</th>\n",
       "      <th>Source</th>\n",
       "      <th>Rank</th>\n",
       "      <th>Age</th>\n",
       "      <th>Industry</th>\n",
       "    </tr>\n",
       "  </thead>\n",
       "  <tbody>\n",
       "    <tr>\n",
       "      <th>0</th>\n",
       "      <td>Romesh T. Wadhwani</td>\n",
       "      <td>3.5</td>\n",
       "      <td>United States</td>\n",
       "      <td>software</td>\n",
       "      <td>859</td>\n",
       "      <td>73.0</td>\n",
       "      <td>Technology</td>\n",
       "    </tr>\n",
       "    <tr>\n",
       "      <th>1</th>\n",
       "      <td>Leo Koguan</td>\n",
       "      <td>2.2</td>\n",
       "      <td>United States</td>\n",
       "      <td>IT provider</td>\n",
       "      <td>1444</td>\n",
       "      <td>66.0</td>\n",
       "      <td>Technology</td>\n",
       "    </tr>\n",
       "    <tr>\n",
       "      <th>2</th>\n",
       "      <td>Eric Schmidt</td>\n",
       "      <td>18.9</td>\n",
       "      <td>United States</td>\n",
       "      <td>Google</td>\n",
       "      <td>96</td>\n",
       "      <td>65.0</td>\n",
       "      <td>Technology</td>\n",
       "    </tr>\n",
       "    <tr>\n",
       "      <th>3</th>\n",
       "      <td>Senapathy Gopalakrishnan</td>\n",
       "      <td>3.3</td>\n",
       "      <td>India</td>\n",
       "      <td>software services</td>\n",
       "      <td>925</td>\n",
       "      <td>66.0</td>\n",
       "      <td>Technology</td>\n",
       "    </tr>\n",
       "    <tr>\n",
       "      <th>4</th>\n",
       "      <td>Jane Yan &amp; family</td>\n",
       "      <td>1.5</td>\n",
       "      <td>China</td>\n",
       "      <td>software</td>\n",
       "      <td>2035</td>\n",
       "      <td>51.0</td>\n",
       "      <td>Technology</td>\n",
       "    </tr>\n",
       "    <tr>\n",
       "      <th>5</th>\n",
       "      <td>James Clark</td>\n",
       "      <td>2.8</td>\n",
       "      <td>United States</td>\n",
       "      <td>Netscape, investments</td>\n",
       "      <td>1111</td>\n",
       "      <td>77.0</td>\n",
       "      <td>Technology</td>\n",
       "    </tr>\n",
       "    <tr>\n",
       "      <th>6</th>\n",
       "      <td>Kim Dae-il</td>\n",
       "      <td>1.2</td>\n",
       "      <td>South Korea</td>\n",
       "      <td>mobile gaming</td>\n",
       "      <td>2378</td>\n",
       "      <td>41.0</td>\n",
       "      <td>Technology</td>\n",
       "    </tr>\n",
       "    <tr>\n",
       "      <th>7</th>\n",
       "      <td>Zeng Fangqin</td>\n",
       "      <td>6.6</td>\n",
       "      <td>China</td>\n",
       "      <td>smartphone components</td>\n",
       "      <td>400</td>\n",
       "      <td>55.0</td>\n",
       "      <td>Technology</td>\n",
       "    </tr>\n",
       "    <tr>\n",
       "      <th>8</th>\n",
       "      <td>Joachim Ante</td>\n",
       "      <td>1.8</td>\n",
       "      <td>Germany</td>\n",
       "      <td>game software</td>\n",
       "      <td>1750</td>\n",
       "      <td>38.0</td>\n",
       "      <td>Technology</td>\n",
       "    </tr>\n",
       "    <tr>\n",
       "      <th>9</th>\n",
       "      <td>Bang Jun-hyuk</td>\n",
       "      <td>2.3</td>\n",
       "      <td>South Korea</td>\n",
       "      <td>online gaming</td>\n",
       "      <td>1362</td>\n",
       "      <td>52.0</td>\n",
       "      <td>Technology</td>\n",
       "    </tr>\n",
       "    <tr>\n",
       "      <th>10</th>\n",
       "      <td>Yusaku Maezawa</td>\n",
       "      <td>1.9</td>\n",
       "      <td>Japan</td>\n",
       "      <td>online retail</td>\n",
       "      <td>1664</td>\n",
       "      <td>45.0</td>\n",
       "      <td>Technology</td>\n",
       "    </tr>\n",
       "    <tr>\n",
       "      <th>11</th>\n",
       "      <td>Fu Liquan &amp; family</td>\n",
       "      <td>4.2</td>\n",
       "      <td>China</td>\n",
       "      <td>surveillance equipment</td>\n",
       "      <td>680</td>\n",
       "      <td>53.0</td>\n",
       "      <td>Technology</td>\n",
       "    </tr>\n",
       "    <tr>\n",
       "      <th>12</th>\n",
       "      <td>Tony Xu</td>\n",
       "      <td>2.8</td>\n",
       "      <td>United States</td>\n",
       "      <td>food delivery service</td>\n",
       "      <td>1111</td>\n",
       "      <td>36.0</td>\n",
       "      <td>Technology</td>\n",
       "    </tr>\n",
       "    <tr>\n",
       "      <th>13</th>\n",
       "      <td>Ma Huateng</td>\n",
       "      <td>65.8</td>\n",
       "      <td>China</td>\n",
       "      <td>internet media</td>\n",
       "      <td>15</td>\n",
       "      <td>49.0</td>\n",
       "      <td>Technology</td>\n",
       "    </tr>\n",
       "    <tr>\n",
       "      <th>14</th>\n",
       "      <td>Qiu Lingyun</td>\n",
       "      <td>1.1</td>\n",
       "      <td>China</td>\n",
       "      <td>consumer technology</td>\n",
       "      <td>2524</td>\n",
       "      <td>45.0</td>\n",
       "      <td>Technology</td>\n",
       "    </tr>\n",
       "    <tr>\n",
       "      <th>15</th>\n",
       "      <td>Bill Gates</td>\n",
       "      <td>124.0</td>\n",
       "      <td>United States</td>\n",
       "      <td>Microsoft</td>\n",
       "      <td>4</td>\n",
       "      <td>65.0</td>\n",
       "      <td>Technology</td>\n",
       "    </tr>\n",
       "    <tr>\n",
       "      <th>16</th>\n",
       "      <td>Ali Ghodsi</td>\n",
       "      <td>1.8</td>\n",
       "      <td>Sweden</td>\n",
       "      <td>data analytics</td>\n",
       "      <td>1750</td>\n",
       "      <td>42.0</td>\n",
       "      <td>Technology</td>\n",
       "    </tr>\n",
       "    <tr>\n",
       "      <th>17</th>\n",
       "      <td>Li Weiwei</td>\n",
       "      <td>2.1</td>\n",
       "      <td>China</td>\n",
       "      <td>online games</td>\n",
       "      <td>1517</td>\n",
       "      <td>44.0</td>\n",
       "      <td>Technology</td>\n",
       "    </tr>\n",
       "    <tr>\n",
       "      <th>18</th>\n",
       "      <td>Kavitark Ram Shriram</td>\n",
       "      <td>2.5</td>\n",
       "      <td>United States</td>\n",
       "      <td>venture capital, Google</td>\n",
       "      <td>1249</td>\n",
       "      <td>64.0</td>\n",
       "      <td>Technology</td>\n",
       "    </tr>\n",
       "    <tr>\n",
       "      <th>19</th>\n",
       "      <td>Barry Lam</td>\n",
       "      <td>5.3</td>\n",
       "      <td>Taiwan</td>\n",
       "      <td>electronics</td>\n",
       "      <td>529</td>\n",
       "      <td>71.0</td>\n",
       "      <td>Technology</td>\n",
       "    </tr>\n",
       "    <tr>\n",
       "      <th>20</th>\n",
       "      <td>Yi Zheng</td>\n",
       "      <td>3.9</td>\n",
       "      <td>China</td>\n",
       "      <td>software</td>\n",
       "      <td>752</td>\n",
       "      <td>50.0</td>\n",
       "      <td>Technology</td>\n",
       "    </tr>\n",
       "    <tr>\n",
       "      <th>21</th>\n",
       "      <td>Kim Beom-su</td>\n",
       "      <td>9.3</td>\n",
       "      <td>South Korea</td>\n",
       "      <td>online services</td>\n",
       "      <td>251</td>\n",
       "      <td>55.0</td>\n",
       "      <td>Technology</td>\n",
       "    </tr>\n",
       "    <tr>\n",
       "      <th>22</th>\n",
       "      <td>Jayshree Ullal</td>\n",
       "      <td>1.4</td>\n",
       "      <td>United States</td>\n",
       "      <td>computer networking</td>\n",
       "      <td>2141</td>\n",
       "      <td>60.0</td>\n",
       "      <td>Technology</td>\n",
       "    </tr>\n",
       "    <tr>\n",
       "      <th>23</th>\n",
       "      <td>James Scapa</td>\n",
       "      <td>1.2</td>\n",
       "      <td>United States</td>\n",
       "      <td>software</td>\n",
       "      <td>2378</td>\n",
       "      <td>64.0</td>\n",
       "      <td>Technology</td>\n",
       "    </tr>\n",
       "    <tr>\n",
       "      <th>24</th>\n",
       "      <td>Jeff Lawson</td>\n",
       "      <td>2.2</td>\n",
       "      <td>United States</td>\n",
       "      <td>software</td>\n",
       "      <td>1444</td>\n",
       "      <td>43.0</td>\n",
       "      <td>Technology</td>\n",
       "    </tr>\n",
       "    <tr>\n",
       "      <th>25</th>\n",
       "      <td>Li Min</td>\n",
       "      <td>1.9</td>\n",
       "      <td>China</td>\n",
       "      <td>semiconductor</td>\n",
       "      <td>1664</td>\n",
       "      <td>55.0</td>\n",
       "      <td>Technology</td>\n",
       "    </tr>\n",
       "    <tr>\n",
       "      <th>26</th>\n",
       "      <td>Wang Huiwen</td>\n",
       "      <td>1.5</td>\n",
       "      <td>China</td>\n",
       "      <td>e-commerce</td>\n",
       "      <td>2035</td>\n",
       "      <td>43.0</td>\n",
       "      <td>Technology</td>\n",
       "    </tr>\n",
       "    <tr>\n",
       "      <th>27</th>\n",
       "      <td>Travis Kalanick</td>\n",
       "      <td>2.8</td>\n",
       "      <td>United States</td>\n",
       "      <td>Uber</td>\n",
       "      <td>1111</td>\n",
       "      <td>44.0</td>\n",
       "      <td>Technology</td>\n",
       "    </tr>\n",
       "    <tr>\n",
       "      <th>28</th>\n",
       "      <td>Charles Simonyi</td>\n",
       "      <td>5.0</td>\n",
       "      <td>United States</td>\n",
       "      <td>Microsoft</td>\n",
       "      <td>561</td>\n",
       "      <td>72.0</td>\n",
       "      <td>Technology</td>\n",
       "    </tr>\n",
       "    <tr>\n",
       "      <th>29</th>\n",
       "      <td>Binny Bansal</td>\n",
       "      <td>1.1</td>\n",
       "      <td>India</td>\n",
       "      <td>flipkart</td>\n",
       "      <td>2524</td>\n",
       "      <td>38.0</td>\n",
       "      <td>Technology</td>\n",
       "    </tr>\n",
       "    <tr>\n",
       "      <th>30</th>\n",
       "      <td>Yuji Otsuka</td>\n",
       "      <td>2.6</td>\n",
       "      <td>Japan</td>\n",
       "      <td>copy machines, software</td>\n",
       "      <td>1205</td>\n",
       "      <td>67.0</td>\n",
       "      <td>Technology</td>\n",
       "    </tr>\n",
       "  </tbody>\n",
       "</table>\n",
       "</div>"
      ],
      "text/plain": [
       "                        Name  NetWorth_billions        Country  \\\n",
       "0         Romesh T. Wadhwani                3.5  United States   \n",
       "1                 Leo Koguan                2.2  United States   \n",
       "2               Eric Schmidt               18.9  United States   \n",
       "3   Senapathy Gopalakrishnan                3.3          India   \n",
       "4          Jane Yan & family                1.5          China   \n",
       "5                James Clark                2.8  United States   \n",
       "6                 Kim Dae-il                1.2    South Korea   \n",
       "7               Zeng Fangqin                6.6          China   \n",
       "8               Joachim Ante                1.8        Germany   \n",
       "9              Bang Jun-hyuk                2.3    South Korea   \n",
       "10            Yusaku Maezawa                1.9          Japan   \n",
       "11        Fu Liquan & family                4.2          China   \n",
       "12                   Tony Xu                2.8  United States   \n",
       "13                Ma Huateng               65.8          China   \n",
       "14               Qiu Lingyun                1.1          China   \n",
       "15                Bill Gates              124.0  United States   \n",
       "16                Ali Ghodsi                1.8         Sweden   \n",
       "17                 Li Weiwei                2.1          China   \n",
       "18      Kavitark Ram Shriram                2.5  United States   \n",
       "19                 Barry Lam                5.3         Taiwan   \n",
       "20                  Yi Zheng                3.9          China   \n",
       "21               Kim Beom-su                9.3    South Korea   \n",
       "22            Jayshree Ullal                1.4  United States   \n",
       "23               James Scapa                1.2  United States   \n",
       "24               Jeff Lawson                2.2  United States   \n",
       "25                    Li Min                1.9          China   \n",
       "26               Wang Huiwen                1.5          China   \n",
       "27           Travis Kalanick                2.8  United States   \n",
       "28           Charles Simonyi                5.0  United States   \n",
       "29              Binny Bansal                1.1          India   \n",
       "30               Yuji Otsuka                2.6          Japan   \n",
       "\n",
       "                     Source  Rank   Age    Industry  \n",
       "0                  software   859  73.0  Technology  \n",
       "1               IT provider  1444  66.0  Technology  \n",
       "2                    Google    96  65.0  Technology  \n",
       "3         software services   925  66.0  Technology  \n",
       "4                  software  2035  51.0  Technology  \n",
       "5     Netscape, investments  1111  77.0  Technology  \n",
       "6             mobile gaming  2378  41.0  Technology  \n",
       "7     smartphone components   400  55.0  Technology  \n",
       "8             game software  1750  38.0  Technology  \n",
       "9             online gaming  1362  52.0  Technology  \n",
       "10            online retail  1664  45.0  Technology  \n",
       "11   surveillance equipment   680  53.0  Technology  \n",
       "12    food delivery service  1111  36.0  Technology  \n",
       "13           internet media    15  49.0  Technology  \n",
       "14      consumer technology  2524  45.0  Technology  \n",
       "15                Microsoft     4  65.0  Technology  \n",
       "16           data analytics  1750  42.0  Technology  \n",
       "17             online games  1517  44.0  Technology  \n",
       "18  venture capital, Google  1249  64.0  Technology  \n",
       "19              electronics   529  71.0  Technology  \n",
       "20                 software   752  50.0  Technology  \n",
       "21          online services   251  55.0  Technology  \n",
       "22      computer networking  2141  60.0  Technology  \n",
       "23                 software  2378  64.0  Technology  \n",
       "24                 software  1444  43.0  Technology  \n",
       "25            semiconductor  1664  55.0  Technology  \n",
       "26               e-commerce  2035  43.0  Technology  \n",
       "27                     Uber  1111  44.0  Technology  \n",
       "28                Microsoft   561  72.0  Technology  \n",
       "29                 flipkart  2524  38.0  Technology  \n",
       "30  copy machines, software  1205  67.0  Technology  "
      ]
     },
     "execution_count": 14,
     "metadata": {},
     "output_type": "execute_result"
    }
   ],
   "source": [
    "df_sample_tech = df_tech.sample(n = 31, replace = False, random_state = 100).reset_index(drop=True)\n",
    "df_sample_tech"
   ]
  },
  {
   "cell_type": "code",
   "execution_count": 15,
   "metadata": {},
   "outputs": [
    {
     "data": {
      "text/html": [
       "<div>\n",
       "<style scoped>\n",
       "    .dataframe tbody tr th:only-of-type {\n",
       "        vertical-align: middle;\n",
       "    }\n",
       "\n",
       "    .dataframe tbody tr th {\n",
       "        vertical-align: top;\n",
       "    }\n",
       "\n",
       "    .dataframe thead th {\n",
       "        text-align: right;\n",
       "    }\n",
       "</style>\n",
       "<table border=\"1\" class=\"dataframe\">\n",
       "  <thead>\n",
       "    <tr style=\"text-align: right;\">\n",
       "      <th></th>\n",
       "      <th>Name</th>\n",
       "      <th>NetWorth_billions</th>\n",
       "      <th>Country</th>\n",
       "      <th>Source</th>\n",
       "      <th>Rank</th>\n",
       "      <th>Age</th>\n",
       "      <th>Industry</th>\n",
       "    </tr>\n",
       "  </thead>\n",
       "  <tbody>\n",
       "    <tr>\n",
       "      <th>0</th>\n",
       "      <td>Romesh T. Wadhwani</td>\n",
       "      <td>3.5</td>\n",
       "      <td>United States</td>\n",
       "      <td>software</td>\n",
       "      <td>859</td>\n",
       "      <td>73.0</td>\n",
       "      <td>Technology</td>\n",
       "    </tr>\n",
       "    <tr>\n",
       "      <th>1</th>\n",
       "      <td>Leo Koguan</td>\n",
       "      <td>2.2</td>\n",
       "      <td>United States</td>\n",
       "      <td>IT provider</td>\n",
       "      <td>1444</td>\n",
       "      <td>66.0</td>\n",
       "      <td>Technology</td>\n",
       "    </tr>\n",
       "    <tr>\n",
       "      <th>2</th>\n",
       "      <td>Eric Schmidt</td>\n",
       "      <td>18.9</td>\n",
       "      <td>United States</td>\n",
       "      <td>Google</td>\n",
       "      <td>96</td>\n",
       "      <td>65.0</td>\n",
       "      <td>Technology</td>\n",
       "    </tr>\n",
       "    <tr>\n",
       "      <th>3</th>\n",
       "      <td>Senapathy Gopalakrishnan</td>\n",
       "      <td>3.3</td>\n",
       "      <td>India</td>\n",
       "      <td>software services</td>\n",
       "      <td>925</td>\n",
       "      <td>66.0</td>\n",
       "      <td>Technology</td>\n",
       "    </tr>\n",
       "    <tr>\n",
       "      <th>4</th>\n",
       "      <td>Jane Yan &amp; family</td>\n",
       "      <td>1.5</td>\n",
       "      <td>China</td>\n",
       "      <td>software</td>\n",
       "      <td>2035</td>\n",
       "      <td>51.0</td>\n",
       "      <td>Technology</td>\n",
       "    </tr>\n",
       "    <tr>\n",
       "      <th>5</th>\n",
       "      <td>James Clark</td>\n",
       "      <td>2.8</td>\n",
       "      <td>United States</td>\n",
       "      <td>Netscape, investments</td>\n",
       "      <td>1111</td>\n",
       "      <td>77.0</td>\n",
       "      <td>Technology</td>\n",
       "    </tr>\n",
       "    <tr>\n",
       "      <th>6</th>\n",
       "      <td>Kim Dae-il</td>\n",
       "      <td>1.2</td>\n",
       "      <td>South Korea</td>\n",
       "      <td>mobile gaming</td>\n",
       "      <td>2378</td>\n",
       "      <td>41.0</td>\n",
       "      <td>Technology</td>\n",
       "    </tr>\n",
       "    <tr>\n",
       "      <th>7</th>\n",
       "      <td>Zeng Fangqin</td>\n",
       "      <td>6.6</td>\n",
       "      <td>China</td>\n",
       "      <td>smartphone components</td>\n",
       "      <td>400</td>\n",
       "      <td>55.0</td>\n",
       "      <td>Technology</td>\n",
       "    </tr>\n",
       "    <tr>\n",
       "      <th>8</th>\n",
       "      <td>Joachim Ante</td>\n",
       "      <td>1.8</td>\n",
       "      <td>Germany</td>\n",
       "      <td>game software</td>\n",
       "      <td>1750</td>\n",
       "      <td>38.0</td>\n",
       "      <td>Technology</td>\n",
       "    </tr>\n",
       "    <tr>\n",
       "      <th>9</th>\n",
       "      <td>Bang Jun-hyuk</td>\n",
       "      <td>2.3</td>\n",
       "      <td>South Korea</td>\n",
       "      <td>online gaming</td>\n",
       "      <td>1362</td>\n",
       "      <td>52.0</td>\n",
       "      <td>Technology</td>\n",
       "    </tr>\n",
       "    <tr>\n",
       "      <th>10</th>\n",
       "      <td>Yusaku Maezawa</td>\n",
       "      <td>1.9</td>\n",
       "      <td>Japan</td>\n",
       "      <td>online retail</td>\n",
       "      <td>1664</td>\n",
       "      <td>45.0</td>\n",
       "      <td>Technology</td>\n",
       "    </tr>\n",
       "    <tr>\n",
       "      <th>11</th>\n",
       "      <td>Fu Liquan &amp; family</td>\n",
       "      <td>4.2</td>\n",
       "      <td>China</td>\n",
       "      <td>surveillance equipment</td>\n",
       "      <td>680</td>\n",
       "      <td>53.0</td>\n",
       "      <td>Technology</td>\n",
       "    </tr>\n",
       "    <tr>\n",
       "      <th>12</th>\n",
       "      <td>Tony Xu</td>\n",
       "      <td>2.8</td>\n",
       "      <td>United States</td>\n",
       "      <td>food delivery service</td>\n",
       "      <td>1111</td>\n",
       "      <td>36.0</td>\n",
       "      <td>Technology</td>\n",
       "    </tr>\n",
       "    <tr>\n",
       "      <th>13</th>\n",
       "      <td>Ma Huateng</td>\n",
       "      <td>65.8</td>\n",
       "      <td>China</td>\n",
       "      <td>internet media</td>\n",
       "      <td>15</td>\n",
       "      <td>49.0</td>\n",
       "      <td>Technology</td>\n",
       "    </tr>\n",
       "    <tr>\n",
       "      <th>14</th>\n",
       "      <td>Qiu Lingyun</td>\n",
       "      <td>1.1</td>\n",
       "      <td>China</td>\n",
       "      <td>consumer technology</td>\n",
       "      <td>2524</td>\n",
       "      <td>45.0</td>\n",
       "      <td>Technology</td>\n",
       "    </tr>\n",
       "    <tr>\n",
       "      <th>15</th>\n",
       "      <td>Bill Gates</td>\n",
       "      <td>124.0</td>\n",
       "      <td>United States</td>\n",
       "      <td>Microsoft</td>\n",
       "      <td>4</td>\n",
       "      <td>65.0</td>\n",
       "      <td>Technology</td>\n",
       "    </tr>\n",
       "    <tr>\n",
       "      <th>16</th>\n",
       "      <td>Ali Ghodsi</td>\n",
       "      <td>1.8</td>\n",
       "      <td>Sweden</td>\n",
       "      <td>data analytics</td>\n",
       "      <td>1750</td>\n",
       "      <td>42.0</td>\n",
       "      <td>Technology</td>\n",
       "    </tr>\n",
       "    <tr>\n",
       "      <th>17</th>\n",
       "      <td>Li Weiwei</td>\n",
       "      <td>2.1</td>\n",
       "      <td>China</td>\n",
       "      <td>online games</td>\n",
       "      <td>1517</td>\n",
       "      <td>44.0</td>\n",
       "      <td>Technology</td>\n",
       "    </tr>\n",
       "    <tr>\n",
       "      <th>18</th>\n",
       "      <td>Kavitark Ram Shriram</td>\n",
       "      <td>2.5</td>\n",
       "      <td>United States</td>\n",
       "      <td>venture capital, Google</td>\n",
       "      <td>1249</td>\n",
       "      <td>64.0</td>\n",
       "      <td>Technology</td>\n",
       "    </tr>\n",
       "    <tr>\n",
       "      <th>19</th>\n",
       "      <td>Barry Lam</td>\n",
       "      <td>5.3</td>\n",
       "      <td>Taiwan</td>\n",
       "      <td>electronics</td>\n",
       "      <td>529</td>\n",
       "      <td>71.0</td>\n",
       "      <td>Technology</td>\n",
       "    </tr>\n",
       "    <tr>\n",
       "      <th>20</th>\n",
       "      <td>Yi Zheng</td>\n",
       "      <td>3.9</td>\n",
       "      <td>China</td>\n",
       "      <td>software</td>\n",
       "      <td>752</td>\n",
       "      <td>50.0</td>\n",
       "      <td>Technology</td>\n",
       "    </tr>\n",
       "    <tr>\n",
       "      <th>21</th>\n",
       "      <td>Kim Beom-su</td>\n",
       "      <td>9.3</td>\n",
       "      <td>South Korea</td>\n",
       "      <td>online services</td>\n",
       "      <td>251</td>\n",
       "      <td>55.0</td>\n",
       "      <td>Technology</td>\n",
       "    </tr>\n",
       "    <tr>\n",
       "      <th>22</th>\n",
       "      <td>Jayshree Ullal</td>\n",
       "      <td>1.4</td>\n",
       "      <td>United States</td>\n",
       "      <td>computer networking</td>\n",
       "      <td>2141</td>\n",
       "      <td>60.0</td>\n",
       "      <td>Technology</td>\n",
       "    </tr>\n",
       "    <tr>\n",
       "      <th>23</th>\n",
       "      <td>James Scapa</td>\n",
       "      <td>1.2</td>\n",
       "      <td>United States</td>\n",
       "      <td>software</td>\n",
       "      <td>2378</td>\n",
       "      <td>64.0</td>\n",
       "      <td>Technology</td>\n",
       "    </tr>\n",
       "    <tr>\n",
       "      <th>24</th>\n",
       "      <td>Jeff Lawson</td>\n",
       "      <td>2.2</td>\n",
       "      <td>United States</td>\n",
       "      <td>software</td>\n",
       "      <td>1444</td>\n",
       "      <td>43.0</td>\n",
       "      <td>Technology</td>\n",
       "    </tr>\n",
       "    <tr>\n",
       "      <th>25</th>\n",
       "      <td>Li Min</td>\n",
       "      <td>1.9</td>\n",
       "      <td>China</td>\n",
       "      <td>semiconductor</td>\n",
       "      <td>1664</td>\n",
       "      <td>55.0</td>\n",
       "      <td>Technology</td>\n",
       "    </tr>\n",
       "    <tr>\n",
       "      <th>26</th>\n",
       "      <td>Wang Huiwen</td>\n",
       "      <td>1.5</td>\n",
       "      <td>China</td>\n",
       "      <td>e-commerce</td>\n",
       "      <td>2035</td>\n",
       "      <td>43.0</td>\n",
       "      <td>Technology</td>\n",
       "    </tr>\n",
       "    <tr>\n",
       "      <th>27</th>\n",
       "      <td>Travis Kalanick</td>\n",
       "      <td>2.8</td>\n",
       "      <td>United States</td>\n",
       "      <td>Uber</td>\n",
       "      <td>1111</td>\n",
       "      <td>44.0</td>\n",
       "      <td>Technology</td>\n",
       "    </tr>\n",
       "    <tr>\n",
       "      <th>28</th>\n",
       "      <td>Charles Simonyi</td>\n",
       "      <td>5.0</td>\n",
       "      <td>United States</td>\n",
       "      <td>Microsoft</td>\n",
       "      <td>561</td>\n",
       "      <td>72.0</td>\n",
       "      <td>Technology</td>\n",
       "    </tr>\n",
       "    <tr>\n",
       "      <th>29</th>\n",
       "      <td>Binny Bansal</td>\n",
       "      <td>1.1</td>\n",
       "      <td>India</td>\n",
       "      <td>flipkart</td>\n",
       "      <td>2524</td>\n",
       "      <td>38.0</td>\n",
       "      <td>Technology</td>\n",
       "    </tr>\n",
       "    <tr>\n",
       "      <th>30</th>\n",
       "      <td>Yuji Otsuka</td>\n",
       "      <td>2.6</td>\n",
       "      <td>Japan</td>\n",
       "      <td>copy machines, software</td>\n",
       "      <td>1205</td>\n",
       "      <td>67.0</td>\n",
       "      <td>Technology</td>\n",
       "    </tr>\n",
       "    <tr>\n",
       "      <th>31</th>\n",
       "      <td>Gao Yu</td>\n",
       "      <td>1.9</td>\n",
       "      <td>China</td>\n",
       "      <td>information technology</td>\n",
       "      <td>1664</td>\n",
       "      <td>51.0</td>\n",
       "      <td>Technology</td>\n",
       "    </tr>\n",
       "    <tr>\n",
       "      <th>32</th>\n",
       "      <td>Frank Wang</td>\n",
       "      <td>4.8</td>\n",
       "      <td>China</td>\n",
       "      <td>drones</td>\n",
       "      <td>589</td>\n",
       "      <td>40.0</td>\n",
       "      <td>Technology</td>\n",
       "    </tr>\n",
       "    <tr>\n",
       "      <th>33</th>\n",
       "      <td>Azim Premji</td>\n",
       "      <td>8.6</td>\n",
       "      <td>India</td>\n",
       "      <td>software services</td>\n",
       "      <td>288</td>\n",
       "      <td>75.0</td>\n",
       "      <td>Technology</td>\n",
       "    </tr>\n",
       "    <tr>\n",
       "      <th>34</th>\n",
       "      <td>Reid Hoffman</td>\n",
       "      <td>2.0</td>\n",
       "      <td>United States</td>\n",
       "      <td>LinkedIn</td>\n",
       "      <td>1580</td>\n",
       "      <td>53.0</td>\n",
       "      <td>Technology</td>\n",
       "    </tr>\n",
       "    <tr>\n",
       "      <th>35</th>\n",
       "      <td>Wang Laisheng</td>\n",
       "      <td>10.8</td>\n",
       "      <td>China</td>\n",
       "      <td>electronics components</td>\n",
       "      <td>205</td>\n",
       "      <td>56.0</td>\n",
       "      <td>Technology</td>\n",
       "    </tr>\n",
       "    <tr>\n",
       "      <th>36</th>\n",
       "      <td>Yoshikazu Tanaka</td>\n",
       "      <td>1.1</td>\n",
       "      <td>Japan</td>\n",
       "      <td>social network</td>\n",
       "      <td>2524</td>\n",
       "      <td>44.0</td>\n",
       "      <td>Technology</td>\n",
       "    </tr>\n",
       "    <tr>\n",
       "      <th>37</th>\n",
       "      <td>Zhou Yahui</td>\n",
       "      <td>1.1</td>\n",
       "      <td>China</td>\n",
       "      <td>online games</td>\n",
       "      <td>2524</td>\n",
       "      <td>44.0</td>\n",
       "      <td>Technology</td>\n",
       "    </tr>\n",
       "    <tr>\n",
       "      <th>38</th>\n",
       "      <td>S.D. Shibulal</td>\n",
       "      <td>1.9</td>\n",
       "      <td>India</td>\n",
       "      <td>software services</td>\n",
       "      <td>1664</td>\n",
       "      <td>66.0</td>\n",
       "      <td>Technology</td>\n",
       "    </tr>\n",
       "    <tr>\n",
       "      <th>39</th>\n",
       "      <td>Zhao Hongfei</td>\n",
       "      <td>2.4</td>\n",
       "      <td>China</td>\n",
       "      <td>software</td>\n",
       "      <td>1299</td>\n",
       "      <td>46.0</td>\n",
       "      <td>Technology</td>\n",
       "    </tr>\n",
       "  </tbody>\n",
       "</table>\n",
       "</div>"
      ],
      "text/plain": [
       "                        Name  NetWorth_billions        Country  \\\n",
       "0         Romesh T. Wadhwani                3.5  United States   \n",
       "1                 Leo Koguan                2.2  United States   \n",
       "2               Eric Schmidt               18.9  United States   \n",
       "3   Senapathy Gopalakrishnan                3.3          India   \n",
       "4          Jane Yan & family                1.5          China   \n",
       "5                James Clark                2.8  United States   \n",
       "6                 Kim Dae-il                1.2    South Korea   \n",
       "7               Zeng Fangqin                6.6          China   \n",
       "8               Joachim Ante                1.8        Germany   \n",
       "9              Bang Jun-hyuk                2.3    South Korea   \n",
       "10            Yusaku Maezawa                1.9          Japan   \n",
       "11        Fu Liquan & family                4.2          China   \n",
       "12                   Tony Xu                2.8  United States   \n",
       "13                Ma Huateng               65.8          China   \n",
       "14               Qiu Lingyun                1.1          China   \n",
       "15                Bill Gates              124.0  United States   \n",
       "16                Ali Ghodsi                1.8         Sweden   \n",
       "17                 Li Weiwei                2.1          China   \n",
       "18      Kavitark Ram Shriram                2.5  United States   \n",
       "19                 Barry Lam                5.3         Taiwan   \n",
       "20                  Yi Zheng                3.9          China   \n",
       "21               Kim Beom-su                9.3    South Korea   \n",
       "22            Jayshree Ullal                1.4  United States   \n",
       "23               James Scapa                1.2  United States   \n",
       "24               Jeff Lawson                2.2  United States   \n",
       "25                    Li Min                1.9          China   \n",
       "26               Wang Huiwen                1.5          China   \n",
       "27           Travis Kalanick                2.8  United States   \n",
       "28           Charles Simonyi                5.0  United States   \n",
       "29              Binny Bansal                1.1          India   \n",
       "30               Yuji Otsuka                2.6          Japan   \n",
       "31                    Gao Yu                1.9          China   \n",
       "32                Frank Wang                4.8          China   \n",
       "33               Azim Premji                8.6          India   \n",
       "34              Reid Hoffman                2.0  United States   \n",
       "35             Wang Laisheng               10.8          China   \n",
       "36          Yoshikazu Tanaka                1.1          Japan   \n",
       "37                Zhou Yahui                1.1          China   \n",
       "38             S.D. Shibulal                1.9          India   \n",
       "39              Zhao Hongfei                2.4          China   \n",
       "\n",
       "                     Source  Rank   Age    Industry  \n",
       "0                  software   859  73.0  Technology  \n",
       "1               IT provider  1444  66.0  Technology  \n",
       "2                    Google    96  65.0  Technology  \n",
       "3         software services   925  66.0  Technology  \n",
       "4                  software  2035  51.0  Technology  \n",
       "5     Netscape, investments  1111  77.0  Technology  \n",
       "6             mobile gaming  2378  41.0  Technology  \n",
       "7     smartphone components   400  55.0  Technology  \n",
       "8             game software  1750  38.0  Technology  \n",
       "9             online gaming  1362  52.0  Technology  \n",
       "10            online retail  1664  45.0  Technology  \n",
       "11   surveillance equipment   680  53.0  Technology  \n",
       "12    food delivery service  1111  36.0  Technology  \n",
       "13           internet media    15  49.0  Technology  \n",
       "14      consumer technology  2524  45.0  Technology  \n",
       "15                Microsoft     4  65.0  Technology  \n",
       "16           data analytics  1750  42.0  Technology  \n",
       "17             online games  1517  44.0  Technology  \n",
       "18  venture capital, Google  1249  64.0  Technology  \n",
       "19              electronics   529  71.0  Technology  \n",
       "20                 software   752  50.0  Technology  \n",
       "21          online services   251  55.0  Technology  \n",
       "22      computer networking  2141  60.0  Technology  \n",
       "23                 software  2378  64.0  Technology  \n",
       "24                 software  1444  43.0  Technology  \n",
       "25            semiconductor  1664  55.0  Technology  \n",
       "26               e-commerce  2035  43.0  Technology  \n",
       "27                     Uber  1111  44.0  Technology  \n",
       "28                Microsoft   561  72.0  Technology  \n",
       "29                 flipkart  2524  38.0  Technology  \n",
       "30  copy machines, software  1205  67.0  Technology  \n",
       "31   information technology  1664  51.0  Technology  \n",
       "32                   drones   589  40.0  Technology  \n",
       "33        software services   288  75.0  Technology  \n",
       "34                 LinkedIn  1580  53.0  Technology  \n",
       "35   electronics components   205  56.0  Technology  \n",
       "36           social network  2524  44.0  Technology  \n",
       "37             online games  2524  44.0  Technology  \n",
       "38        software services  1664  66.0  Technology  \n",
       "39                 software  1299  46.0  Technology  "
      ]
     },
     "execution_count": 15,
     "metadata": {},
     "output_type": "execute_result"
    }
   ],
   "source": [
    "df_sample_nontech = df_tech.sample(n = 40, replace = False, random_state = 100).reset_index(drop=True)\n",
    "df_sample_nontech"
   ]
  },
  {
   "cell_type": "markdown",
   "metadata": {},
   "source": [
    "### 3.2. Sample Means and Standard Deviations\n",
    "\n",
    "Next, for each of your two random samples, calculate the mean and standard deviation of the ages."
   ]
  },
  {
   "cell_type": "code",
   "execution_count": 16,
   "metadata": {},
   "outputs": [
    {
     "data": {
      "text/plain": [
       "54.483870967741936"
      ]
     },
     "execution_count": 16,
     "metadata": {},
     "output_type": "execute_result"
    }
   ],
   "source": [
    "sampletechmean = df_sample_tech[\"Age\"].mean()\n",
    "sampletechmean"
   ]
  },
  {
   "cell_type": "code",
   "execution_count": 17,
   "metadata": {},
   "outputs": [
    {
     "data": {
      "text/plain": [
       "11.890811488265314"
      ]
     },
     "execution_count": 17,
     "metadata": {},
     "output_type": "execute_result"
    }
   ],
   "source": [
    "sampletechstd = df_sample_tech[\"Age\"].std()\n",
    "sampletechstd"
   ]
  },
  {
   "cell_type": "code",
   "execution_count": 18,
   "metadata": {},
   "outputs": [
    {
     "data": {
      "text/plain": [
       "54.1"
      ]
     },
     "execution_count": 18,
     "metadata": {},
     "output_type": "execute_result"
    }
   ],
   "source": [
    "samplenontechmean = df_sample_nontech[\"Age\"].mean()\n",
    "samplenontechmean"
   ]
  },
  {
   "cell_type": "code",
   "execution_count": 19,
   "metadata": {},
   "outputs": [
    {
     "data": {
      "text/plain": [
       "11.665860778026955"
      ]
     },
     "execution_count": 19,
     "metadata": {},
     "output_type": "execute_result"
    }
   ],
   "source": [
    "samplenontechstd = df_sample_nontech[\"Age\"].std()\n",
    "samplenontechstd"
   ]
  },
  {
   "cell_type": "markdown",
   "metadata": {},
   "source": [
    "### 3.3. Sample Proportions\n",
    "\n",
    "Next, for each of your two random samples, calculate the proportion of billionaires in the respective population that live in the United States."
   ]
  },
  {
   "cell_type": "code",
   "execution_count": 20,
   "metadata": {},
   "outputs": [
    {
     "data": {
      "text/plain": [
       "0.3870967741935484"
      ]
     },
     "execution_count": 20,
     "metadata": {},
     "output_type": "execute_result"
    }
   ],
   "source": [
    "sampletechprop = len(df_sample_tech[df_sample_tech[\"Country\"] == \"United States\"]) / len(df_sample_tech)\n",
    "sampletechprop"
   ]
  },
  {
   "cell_type": "code",
   "execution_count": 21,
   "metadata": {},
   "outputs": [
    {
     "data": {
      "text/plain": [
       "0.325"
      ]
     },
     "execution_count": 21,
     "metadata": {},
     "output_type": "execute_result"
    }
   ],
   "source": [
    "samplenontechprop = len(df_sample_nontech[df_sample_nontech[\"Country\"] == \"United States\"]) / len(df_sample_nontech)\n",
    "samplenontechprop"
   ]
  },
  {
   "cell_type": "markdown",
   "metadata": {},
   "source": [
    "## 4. *Theoretical* Sampling Distribution of Sample Mean Differences\n",
    "\n",
    "Suppose we were to *theoretically* construct a sampling distribution of sample mean differences, where:\n",
    "* each of our random samples of tech billionaires from the population were all of size 31\n",
    "* each of our random samples of non-tech billionaires from the population were all of size 40\n",
    "\n",
    "Suppose that our sampling distribution was thus comprised of many, many sample mean age difference values (ie. values for $\\bar{x}_{tech}-\\bar{x}_{nontech}$).\n",
    "\n",
    "(Don't actually make this sampling distribution (you will do this in the group lab).\n"
   ]
  },
  {
   "cell_type": "markdown",
   "metadata": {},
   "source": [
    "### 4.1. Sampling Distribution Mean\n",
    "\n",
    "What would be the mean of this theoretical sampling distribution?"
   ]
  },
  {
   "cell_type": "code",
   "execution_count": 22,
   "metadata": {},
   "outputs": [
    {
     "data": {
      "text/plain": [
       "-9.546205800074034"
      ]
     },
     "execution_count": 22,
     "metadata": {},
     "output_type": "execute_result"
    }
   ],
   "source": [
    "techmean - nontechmean"
   ]
  },
  {
   "cell_type": "markdown",
   "metadata": {},
   "source": [
    "### 4.2. Sampling Distribution Standard Deviation\n",
    "\n",
    "What would be the standard deviation of this theoretical sampling distribution?"
   ]
  },
  {
   "cell_type": "code",
   "execution_count": 23,
   "metadata": {},
   "outputs": [
    {
     "data": {
      "text/plain": [
       "0.855830411794771"
      ]
     },
     "execution_count": 23,
     "metadata": {},
     "output_type": "execute_result"
    }
   ],
   "source": [
    "np.sqrt((techstd/31) + (nontechstd/40))"
   ]
  },
  {
   "cell_type": "markdown",
   "metadata": {},
   "source": [
    "### 4.3. Normality of Sampling Distribution\n",
    "\n",
    "Would this sampling distribution be approximately normal? Why or why not?"
   ]
  },
  {
   "cell_type": "markdown",
   "metadata": {},
   "source": [
    "Yes because it has random samples and we have a sample size of less than 10%"
   ]
  },
  {
   "cell_type": "markdown",
   "metadata": {},
   "source": [
    "### 4.4. Z-score of a Sample Mean Difference\n",
    "\n",
    "Using the two sample means $\\bar{x}_{tech}$ and $\\bar{x}_{nontech}$ that you calculated in 3.2, calculate the z-score of $(\\bar{x}_{tech} - \\bar{x}_{nontech})$"
   ]
  },
  {
   "cell_type": "code",
   "execution_count": 24,
   "metadata": {},
   "outputs": [
    {
     "data": {
      "text/plain": [
       "11.538190408265887"
      ]
     },
     "execution_count": 24,
     "metadata": {},
     "output_type": "execute_result"
    }
   ],
   "source": [
    "zscore = ((sampletechmean - samplenontechmean) - (techmean - nontechmean) / np.sqrt((techstd/31) + (nontechstd/40))) \n",
    "zscore"
   ]
  },
  {
   "cell_type": "markdown",
   "metadata": {},
   "source": [
    "### 4.5. t-score of a Sample Mean Difference\n",
    "\n",
    "Using the two samples means $\\bar{x}_{tech}$ and $\\bar{x}_{nontech}$ that you calculated in 3.2, calculate the t-score of $(\\bar{x}_{tech} - \\bar{x}_{nontech})$."
   ]
  },
  {
   "cell_type": "code",
   "execution_count": 25,
   "metadata": {},
   "outputs": [
    {
     "data": {
      "text/plain": [
       "14.041538798933386"
      ]
     },
     "execution_count": 25,
     "metadata": {},
     "output_type": "execute_result"
    }
   ],
   "source": [
    "zscore / np.sqrt((sampletechstd/31) + (samplenontechstd/40))"
   ]
  },
  {
   "cell_type": "code",
   "execution_count": null,
   "metadata": {},
   "outputs": [],
   "source": []
  },
  {
   "cell_type": "code",
   "execution_count": null,
   "metadata": {},
   "outputs": [],
   "source": []
  },
  {
   "cell_type": "markdown",
   "metadata": {},
   "source": [
    "## 5. *Theoretical* Sampling Distribution of Sample Proportion Differences\n",
    "\n",
    "Suppose we were to *theoretically* construct a sampling distribution of sample prooprtion differences, where:\n",
    "* each of our random samples of tech billionaires from the population were all of size 31\n",
    "* each of our random samples of non-tech billionaires from the population were all of size 40\n",
    "\n",
    "Suppose that our sampling distribution was thus comprised of many, many sample proportion difference values (ie. values for $\\hat{p}_{tech}-\\hat{p}_{nontech}$).\n",
    "\n",
    "(Don't actually make this sampling distribution (you will do this in the group lab).\n"
   ]
  },
  {
   "cell_type": "markdown",
   "metadata": {},
   "source": [
    "### 5.1. Sampling Distribution Mean\n",
    "\n",
    "What would be the mean of this theoretical sampling distribution?"
   ]
  },
  {
   "cell_type": "code",
   "execution_count": 26,
   "metadata": {},
   "outputs": [
    {
     "data": {
      "text/plain": [
       "0.062096774193548365"
      ]
     },
     "execution_count": 26,
     "metadata": {},
     "output_type": "execute_result"
    }
   ],
   "source": [
    "sampletechprop - samplenontechprop"
   ]
  },
  {
   "cell_type": "markdown",
   "metadata": {},
   "source": [
    "### 5.2. Sampling Distribution Standard Deviation\n",
    "\n",
    "What would be the standard deviation of this theoretical sampling distribution?"
   ]
  },
  {
   "cell_type": "code",
   "execution_count": 27,
   "metadata": {},
   "outputs": [
    {
     "data": {
      "text/plain": [
       "0.1435687734708384"
      ]
     },
     "execution_count": 27,
     "metadata": {},
     "output_type": "execute_result"
    }
   ],
   "source": [
    "np.sqrt((sampletechprop/31) + (samplenontechprop/40))"
   ]
  },
  {
   "cell_type": "markdown",
   "metadata": {},
   "source": [
    "### 5.3. Normality of Sampling Distribution\n",
    "\n",
    "Would this sampling distribution be approximately normal? Why or why not?"
   ]
  },
  {
   "cell_type": "markdown",
   "metadata": {},
   "source": [
    "Yes because it has random samples and we have a sample size of less than 10%"
   ]
  },
  {
   "cell_type": "markdown",
   "metadata": {},
   "source": [
    "### 5.4. Z-score of a Sample Proportion Difference\n",
    "\n",
    "Using the two sample proportions $\\hat{p}_{tech}$ and $\\hat{p}_{nontech}$ that you calculated in 3.3, calculate the z-score of $(\\hat{p}_{tech}-\\hat{p}_{nontech})$"
   ]
  },
  {
   "cell_type": "code",
   "execution_count": 28,
   "metadata": {},
   "outputs": [
    {
     "data": {
      "text/plain": [
       "-0.9868888232753972"
      ]
     },
     "execution_count": 28,
     "metadata": {},
     "output_type": "execute_result"
    }
   ],
   "source": [
    "zscore2 = ((sampletechprop - samplenontechprop) - (techprop - nontechprop) / np.sqrt((techprop/31) + (nontechprop/40))) \n",
    "zscore2"
   ]
  },
  {
   "cell_type": "code",
   "execution_count": null,
   "metadata": {},
   "outputs": [],
   "source": []
  },
  {
   "cell_type": "markdown",
   "metadata": {},
   "source": [
    "## 6. Inference for the Difference Between Two Population Means\n",
    "\n",
    "Next, we would like to use our random samples to determine if there is an association between the age of ALL 2021 billionaires and whether or not they work in tech. To test this, we would like to determine if our random samples from #3 provide sufficient evidence to suggest that the average of ALL 2021 tech billionaires is different than the average age of ALL 2021 non-tech billionaires (ie. is $\\mu_{tech}-\\mu_{nontech}\\neq 0$?).\n",
    "\n",
    "**Note:** At this point, we will not assume to know anything about our population from #2 (like the populations means or standard deviations)."
   ]
  },
  {
   "cell_type": "markdown",
   "metadata": {},
   "source": [
    "### 6.1. Hypotheses\n",
    "\n",
    "Set up your hypotheses for this test."
   ]
  },
  {
   "cell_type": "markdown",
   "metadata": {},
   "source": [
    "Null: The average age between tech and non-tech billionares is not the same   \n",
    "Alternative: The average age between tech and non-tech billionares is the same"
   ]
  },
  {
   "cell_type": "markdown",
   "metadata": {},
   "source": [
    "### 6.2. Conditions for Inference\n",
    "\n",
    "Next, check the conditions for conducting inference on $\\mu_{tech}-\\mu_{nontech}$ below. (Even if you find that your conditions are not all met, you should still \"proceed with caution\" and complete the rest of the questions below)."
   ]
  },
  {
   "cell_type": "markdown",
   "metadata": {},
   "source": [
    "We don't have the mean or standard deviation of the ages from the population of billionares and our random samples are less than 10% of the distribution."
   ]
  },
  {
   "cell_type": "code",
   "execution_count": null,
   "metadata": {},
   "outputs": [],
   "source": []
  },
  {
   "cell_type": "code",
   "execution_count": null,
   "metadata": {},
   "outputs": [],
   "source": []
  },
  {
   "cell_type": "markdown",
   "metadata": {},
   "source": [
    "### 6.3. Creating a 95% Confidence Interval\n",
    "\n",
    "Next, create a 95% confidence interval for $\\mu_{tech}-\\mu_{nontech}$. (You should assume that you do not know the population standard deviations (ie. $\\sigma_{tech}$ and $\\sigma_{nontech}$)."
   ]
  },
  {
   "cell_type": "code",
   "execution_count": 29,
   "metadata": {},
   "outputs": [
    {
     "data": {
      "text/plain": [
       "1.6448536269514722"
      ]
     },
     "execution_count": 29,
     "metadata": {},
     "output_type": "execute_result"
    }
   ],
   "source": [
    "cv = norm.ppf(0.95)\n",
    "cv"
   ]
  },
  {
   "cell_type": "code",
   "execution_count": 30,
   "metadata": {},
   "outputs": [
    {
     "data": {
      "text/plain": [
       "18.33955317150459"
      ]
     },
     "execution_count": 30,
     "metadata": {},
     "output_type": "execute_result"
    }
   ],
   "source": [
    "se = sampletechmean / np.sqrt(31) + samplenontechmean / np.sqrt(40)\n",
    "se"
   ]
  },
  {
   "cell_type": "code",
   "execution_count": 31,
   "metadata": {},
   "outputs": [
    {
     "data": {
      "text/plain": [
       "-29.782009583076764"
      ]
     },
     "execution_count": 31,
     "metadata": {},
     "output_type": "execute_result"
    }
   ],
   "source": [
    "left = (sampletechmean - samplenontechmean) - (cv*se)\n",
    "left"
   ]
  },
  {
   "cell_type": "code",
   "execution_count": 32,
   "metadata": {},
   "outputs": [
    {
     "data": {
      "text/plain": [
       "30.549751518560633"
      ]
     },
     "execution_count": 32,
     "metadata": {},
     "output_type": "execute_result"
    }
   ],
   "source": [
    "right = (sampletechmean - samplenontechmean) + (cv*se)\n",
    "right"
   ]
  },
  {
   "cell_type": "markdown",
   "metadata": {},
   "source": [
    "### 6.4. Interpreting the Confidence Interval\n",
    "\n",
    "Put your 95% confidence interval into words."
   ]
  },
  {
   "cell_type": "markdown",
   "metadata": {},
   "source": [
    "We are 95% sure that average mean age difference between tech and nontech billionares is between -29.782009583076764 and 30.549751518560633."
   ]
  },
  {
   "cell_type": "markdown",
   "metadata": {},
   "source": [
    "### 6.5. More Interpretation\n",
    "\n",
    "Suppose we were collect 1000 *pairs* of random samples of tech billionaires (always of size 31) and non-tech billionaires (always of size 40). For each of these random samples, we create a 95% confidence interval for $\\mu_{tech}-\\mu_{nontech}$. How many of these 1000 confidence intervals would we expect to *actually* contain $\\mu_{tech}-\\mu_{nontech}$?"
   ]
  },
  {
   "cell_type": "code",
   "execution_count": 33,
   "metadata": {},
   "outputs": [
    {
     "data": {
      "text/plain": [
       "950"
      ]
     },
     "execution_count": 33,
     "metadata": {},
     "output_type": "execute_result"
    }
   ],
   "source": [
    "950"
   ]
  },
  {
   "cell_type": "markdown",
   "metadata": {},
   "source": [
    "### 6.6. Hypothesis Conclusion with a Confidence Interval\n",
    "\n",
    "Use your 95% confidence interval from above to make a conclusion about your hypotheses."
   ]
  },
  {
   "cell_type": "markdown",
   "metadata": {},
   "source": [
    "We are 95% sure the average mean of the ages of billionares in tech and non-tech are different."
   ]
  },
  {
   "cell_type": "markdown",
   "metadata": {},
   "source": [
    "### 6.7. p-value\n",
    "\n",
    "We would also like to evaluate these hypotheses with a p-value as well. Calculate your p-value for this hypothesis test below.\n",
    "\n",
    "Again, you should assume that you do not know $\\sigma_{tech}$ and $\\sigma_{nontech}$."
   ]
  },
  {
   "cell_type": "code",
   "execution_count": 34,
   "metadata": {},
   "outputs": [
    {
     "data": {
      "text/plain": [
       "0.8381514279933133"
      ]
     },
     "execution_count": 34,
     "metadata": {},
     "output_type": "execute_result"
    }
   ],
   "source": [
    "1 - norm.cdf(zscore2 ,loc = 0, scale = 1)"
   ]
  },
  {
   "cell_type": "code",
   "execution_count": null,
   "metadata": {},
   "outputs": [],
   "source": []
  },
  {
   "cell_type": "code",
   "execution_count": null,
   "metadata": {},
   "outputs": [],
   "source": []
  },
  {
   "cell_type": "markdown",
   "metadata": {},
   "source": [
    "### 6.8 Conclusion with a p-value\n",
    "\n",
    "Using a significance level of $\\alpha=0.05$, use your p-value to make a conclusion about your hypotheses."
   ]
  },
  {
   "cell_type": "markdown",
   "metadata": {},
   "source": [
    "Since the pvalue = 0.8381514279933133 and 𝛼 = 0.05, we don't have sufficient evidence to suggest the average age between tech and non-tech billionares are the same"
   ]
  },
  {
   "cell_type": "markdown",
   "metadata": {},
   "source": [
    "## 7. Inference for the Difference Between Two Population Proportions\n",
    "\n",
    "Next, we would like to see if our random samples from #3 provide sufficient evidence to suggest that there is an association between whether or not a billionaire lives in the U.S. and whether or not they work in tech FOR ALL 2021 billionaires. To test this, we would like to determine our random samples from #3 provide sufficient evidence to suggest that the proportion of ALL 2021 tech billionaires that live in the U.S. is different than the proportion of ALL 2021 non-tech billionaires that live in the U.S. (ie. is $p_{tech}-p_{nontech}\\neq 0$?).\n",
    "\n",
    "**Note:** At this point, we will not assume to know anything about our population from #2 (like the populations proportions)."
   ]
  },
  {
   "cell_type": "markdown",
   "metadata": {},
   "source": [
    "### 7.1. Hypotheses\n",
    "\n",
    "Set up your hypotheses for this test."
   ]
  },
  {
   "cell_type": "markdown",
   "metadata": {},
   "source": [
    "Null: The proportion of all 2021 tech billionaires that live in the U.S. is differnent from the proportion of non-tech billionares that live in the U.S.\n",
    "\n",
    "Alternative: The proportion of all 2021 tech billionares that live in the U.S. is the same as the non-tech billionares."
   ]
  },
  {
   "cell_type": "markdown",
   "metadata": {},
   "source": [
    "### 7.2. Conditions for Inference\n",
    "\n",
    "Next, check the conditions for conducting this hypothesis test on $p_{tech}-p_{nontech}$ below. (Even if you find that your conditions are not all met, you should still \"proceed with caution\" and complete the rest of the questions below)."
   ]
  },
  {
   "cell_type": "markdown",
   "metadata": {},
   "source": [
    "We don't have the mean or standard deviation of the proportions from the population of billionares and our random samples are less than 10% of the distribution."
   ]
  },
  {
   "cell_type": "markdown",
   "metadata": {},
   "source": [
    "### 7.3. Creating a 99% Confidence Interval\n",
    "\n",
    "Next, create a 99% confidence interval for $p_{tech}-p_{nontech}$.\n",
    "\n",
    "You should not assume to know $p_{tech}$ and $p_{nontech}$ in your calculations."
   ]
  },
  {
   "cell_type": "code",
   "execution_count": 35,
   "metadata": {},
   "outputs": [
    {
     "data": {
      "text/plain": [
       "2.3263478740408408"
      ]
     },
     "execution_count": 35,
     "metadata": {},
     "output_type": "execute_result"
    }
   ],
   "source": [
    "cv2 = norm.ppf(0.99)\n",
    "cv2"
   ]
  },
  {
   "cell_type": "code",
   "execution_count": 36,
   "metadata": {},
   "outputs": [
    {
     "data": {
      "text/plain": [
       "0.12091164502035871"
      ]
     },
     "execution_count": 36,
     "metadata": {},
     "output_type": "execute_result"
    }
   ],
   "source": [
    "se2 = sampletechprop / np.sqrt(31) + samplenontechprop / np.sqrt(40)\n",
    "se2"
   ]
  },
  {
   "cell_type": "code",
   "execution_count": 38,
   "metadata": {},
   "outputs": [
    {
     "data": {
      "text/plain": [
       "-0.21918577414634394"
      ]
     },
     "execution_count": 38,
     "metadata": {},
     "output_type": "execute_result"
    }
   ],
   "source": [
    "left2 = (sampletechprop - samplenontechprop) - (cv2*se2)\n",
    "left2"
   ]
  },
  {
   "cell_type": "code",
   "execution_count": 37,
   "metadata": {},
   "outputs": [
    {
     "data": {
      "text/plain": [
       "0.34337932253344067"
      ]
     },
     "execution_count": 37,
     "metadata": {},
     "output_type": "execute_result"
    }
   ],
   "source": [
    "right2 = (sampletechprop - samplenontechprop) + (cv2*se2)\n",
    "right2"
   ]
  },
  {
   "cell_type": "markdown",
   "metadata": {},
   "source": [
    "### 7.4. Interpreting the Confidence Interval\n",
    "\n",
    "Put your 99% confidence interval into words."
   ]
  },
  {
   "cell_type": "markdown",
   "metadata": {},
   "source": [
    "We are 99% sure that population proportion difference between tech and nontech billionares living in the U.S. is between -0.21918577414634394 and 0.34337932253344067."
   ]
  },
  {
   "cell_type": "markdown",
   "metadata": {},
   "source": [
    "### 7.5. Hypothesis Conclusion with a Confidence Interval\n",
    "\n",
    "Use your 99% confidence interval from above to make a conclusion about your hypotheses."
   ]
  },
  {
   "cell_type": "markdown",
   "metadata": {},
   "source": [
    "We are 99% sure that the population proportion between tech and non-tech billionares living in the U.S. is different"
   ]
  },
  {
   "cell_type": "markdown",
   "metadata": {},
   "source": [
    "### 7.6. p-value\n",
    "\n",
    "We would also like to evaluate these hypotheses with a p-value as well. Calculate your p-value for this hypothesis test below.\n",
    "\n",
    "Again, you should assume that you do not know $p_{tech}$ and $p_{nontech}$."
   ]
  },
  {
   "cell_type": "code",
   "execution_count": 43,
   "metadata": {},
   "outputs": [
    {
     "data": {
      "text/plain": [
       "0.8381514279933133"
      ]
     },
     "execution_count": 43,
     "metadata": {},
     "output_type": "execute_result"
    }
   ],
   "source": [
    "1 - norm.cdf(zscore2 ,loc = 0, scale = 1)"
   ]
  },
  {
   "cell_type": "code",
   "execution_count": null,
   "metadata": {},
   "outputs": [],
   "source": []
  },
  {
   "cell_type": "code",
   "execution_count": null,
   "metadata": {},
   "outputs": [],
   "source": []
  },
  {
   "cell_type": "markdown",
   "metadata": {},
   "source": [
    "### 7.7. Conclusion with a p-value\n",
    "\n",
    "Using a significance level of $\\alpha=0.01$, use your p-value to make a conclusion about your hypotheses."
   ]
  },
  {
   "cell_type": "markdown",
   "metadata": {},
   "source": [
    "Since the pvalue = 0.8381514279933133 and 𝛼 = 0.01, we don't have sufficient evidence to suggest the population proportion between tech and non-tech billionares living in the U.S. are the same."
   ]
  },
  {
   "cell_type": "code",
   "execution_count": null,
   "metadata": {},
   "outputs": [],
   "source": []
  }
 ],
 "metadata": {
  "kernelspec": {
   "display_name": "Python 3 (ipykernel)",
   "language": "python",
   "name": "python3"
  },
  "language_info": {
   "codemirror_mode": {
    "name": "ipython",
    "version": 3
   },
   "file_extension": ".py",
   "mimetype": "text/x-python",
   "name": "python",
   "nbconvert_exporter": "python",
   "pygments_lexer": "ipython3",
   "version": "3.9.12"
  }
 },
 "nbformat": 4,
 "nbformat_minor": 2
}
