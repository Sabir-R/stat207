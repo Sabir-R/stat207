{
 "cells": [
  {
   "cell_type": "markdown",
   "metadata": {},
   "source": [
    "# STAT 207 Lab 10 - Group Part - [5 total points]\n",
    "\n",
    "## Sampling Distributions of Sample Slopes"
   ]
  },
  {
   "cell_type": "markdown",
   "metadata": {},
   "source": [
    "Due: Tuesday, November 1, 11:59pm CST\n",
    "\n",
    "## <u>Part 1</u>: [1 pt] Guess the Correlation Game\n",
    "\n",
    "As a team, play the game on this website (http://guessthecorrelation.com/) and get at least 20 coins (as shown below). The point of the game is to accurately guess the correlation coefficients $R$ of the scatterplots that they show you. Once you have earned 20 coins, take a screencap of the screen and save it as an image in the folder that this ipynb file is saved in (ie. the one that you will push to your Github repository.)\n",
    "\n",
    "\n",
    "![title](game_image.png)"
   ]
  },
  {
   "cell_type": "code",
   "execution_count": null,
   "metadata": {},
   "outputs": [],
   "source": []
  },
  {
   "cell_type": "markdown",
   "metadata": {},
   "source": [
    "## <u>Case Studies</u>: U.S. County Poverty Rate and Unemployment Rate\n",
    "In this lab we will explore the statistical concepts that we've learned this week while also examining the **unemployment rates** and the **poverty rates** of the counties in the U.S.\n",
    "\n",
    "\n",
    "\n",
    "### 2.1. [0.25 pt] Data Processing and Cleaning\n",
    "\n",
    "\n",
    "1. Read the county.csv into a dataframe, call it df, and display the first five rows.\n",
    " - *This dataset has missing values! Specifically, the phrase 'data unavailable' represents missing values in this csv. Make sure you encode these values as NaN when you read the data in.*\n",
    "2. Create a pandas dataframe that is comprised of just the poverty rate and the unemployment_rate columns. Then drop all rows in this dataframe that have missing values.\n",
    "\n"
   ]
  },
  {
   "cell_type": "code",
   "execution_count": null,
   "metadata": {},
   "outputs": [],
   "source": []
  },
  {
   "cell_type": "code",
   "execution_count": null,
   "metadata": {},
   "outputs": [],
   "source": []
  },
  {
   "cell_type": "markdown",
   "metadata": {},
   "source": [
    "### 2.2. Population Relationship between Unemployment Rate and Poverty Rate\n",
    "\n",
    "Next we would like to examine the relationship between unemployment rate and the poverty rate of all U.S. counties."
   ]
  },
  {
   "cell_type": "markdown",
   "metadata": {},
   "source": [
    "#### 2.2.1. [0.5 pt] Visualization\n",
    "\n",
    "Plot a scatterplot visualizing the relationship between the unemployment rate and poverty rate of all U.S. counties."
   ]
  },
  {
   "cell_type": "code",
   "execution_count": null,
   "metadata": {},
   "outputs": [],
   "source": []
  },
  {
   "cell_type": "markdown",
   "metadata": {},
   "source": [
    "#### 2.2.2. [.75 pt] Simple Linear Regression Line\n",
    "\n",
    "Fit an ordinary least squares regression line for this population of data that predicts the poverty rate of a county given the unemployment rate of the county. Write out this simple linear regression equation below. Make sure to use the correct notation discussed in class."
   ]
  },
  {
   "cell_type": "code",
   "execution_count": null,
   "metadata": {},
   "outputs": [],
   "source": []
  },
  {
   "cell_type": "markdown",
   "metadata": {},
   "source": []
  },
  {
   "cell_type": "markdown",
   "metadata": {},
   "source": [
    "### 2.3. *Actual* Sampling Distribution of Sample Slopes\n",
    "\n",
    "#### 2.3.1. [1.25 pt] Creating an *Actual* Sampling Distribution\n",
    "\n",
    "Below, you should create a sampling distribution of sample slopes with the following specifications.\n",
    "1. Each of your random samples from the population of U.S. counties should be of size 40.\n",
    "2. Your simple linear regression lines that you fit to each random sample should predict the poverty rate of a county, given it's unemployment rate.\n",
    "3. Your sampling distribution should be comprised of 500 sample slopes from each of these 500 simple linear regression lines.\n",
    "4. Put your sampling distribution in a dataframe."
   ]
  },
  {
   "cell_type": "markdown",
   "metadata": {},
   "source": [
    "<u>Hint</u>: You may find the **.params** attribute which extracts the intercept and slope values from a resulting linear regression line useful."
   ]
  },
  {
   "cell_type": "code",
   "execution_count": 1,
   "metadata": {},
   "outputs": [
    {
     "data": {
      "text/html": [
       "<div>\n",
       "<style scoped>\n",
       "    .dataframe tbody tr th:only-of-type {\n",
       "        vertical-align: middle;\n",
       "    }\n",
       "\n",
       "    .dataframe tbody tr th {\n",
       "        vertical-align: top;\n",
       "    }\n",
       "\n",
       "    .dataframe thead th {\n",
       "        text-align: right;\n",
       "    }\n",
       "</style>\n",
       "<table border=\"1\" class=\"dataframe\">\n",
       "  <thead>\n",
       "    <tr style=\"text-align: right;\">\n",
       "      <th></th>\n",
       "      <th>x</th>\n",
       "      <th>y</th>\n",
       "    </tr>\n",
       "  </thead>\n",
       "  <tbody>\n",
       "    <tr>\n",
       "      <th>0</th>\n",
       "      <td>1</td>\n",
       "      <td>3</td>\n",
       "    </tr>\n",
       "    <tr>\n",
       "      <th>1</th>\n",
       "      <td>2</td>\n",
       "      <td>2</td>\n",
       "    </tr>\n",
       "    <tr>\n",
       "      <th>2</th>\n",
       "      <td>3</td>\n",
       "      <td>7</td>\n",
       "    </tr>\n",
       "    <tr>\n",
       "      <th>3</th>\n",
       "      <td>4</td>\n",
       "      <td>8</td>\n",
       "    </tr>\n",
       "    <tr>\n",
       "      <th>4</th>\n",
       "      <td>2</td>\n",
       "      <td>6</td>\n",
       "    </tr>\n",
       "    <tr>\n",
       "      <th>5</th>\n",
       "      <td>3</td>\n",
       "      <td>7</td>\n",
       "    </tr>\n",
       "    <tr>\n",
       "      <th>6</th>\n",
       "      <td>4</td>\n",
       "      <td>9</td>\n",
       "    </tr>\n",
       "    <tr>\n",
       "      <th>7</th>\n",
       "      <td>4</td>\n",
       "      <td>6</td>\n",
       "    </tr>\n",
       "  </tbody>\n",
       "</table>\n",
       "</div>"
      ],
      "text/plain": [
       "   x  y\n",
       "0  1  3\n",
       "1  2  2\n",
       "2  3  7\n",
       "3  4  8\n",
       "4  2  6\n",
       "5  3  7\n",
       "6  4  9\n",
       "7  4  6"
      ]
     },
     "execution_count": 1,
     "metadata": {},
     "output_type": "execute_result"
    }
   ],
   "source": [
    "import pandas as pd\n",
    "import statsmodels.formula.api as smf\n",
    "tmp = pd.DataFrame({'x': [1,2,3,4,2,3,4,4], 'y': [3,2,7,8,6,7,9,6]})\n",
    "tmp"
   ]
  },
  {
   "cell_type": "code",
   "execution_count": 2,
   "metadata": {},
   "outputs": [
    {
     "name": "stderr",
     "output_type": "stream",
     "text": [
      "C:\\Users\\vellison\\Miniconda3\\lib\\site-packages\\scipy\\stats\\stats.py:1603: UserWarning: kurtosistest only valid for n>=20 ... continuing anyway, n=8\n",
      "  warnings.warn(\"kurtosistest only valid for n>=20 ... continuing \"\n"
     ]
    },
    {
     "data": {
      "text/html": [
       "<table class=\"simpletable\">\n",
       "<caption>OLS Regression Results</caption>\n",
       "<tr>\n",
       "  <th>Dep. Variable:</th>            <td>y</td>        <th>  R-squared:         </th> <td>   0.634</td>\n",
       "</tr>\n",
       "<tr>\n",
       "  <th>Model:</th>                   <td>OLS</td>       <th>  Adj. R-squared:    </th> <td>   0.573</td>\n",
       "</tr>\n",
       "<tr>\n",
       "  <th>Method:</th>             <td>Least Squares</td>  <th>  F-statistic:       </th> <td>   10.38</td>\n",
       "</tr>\n",
       "<tr>\n",
       "  <th>Date:</th>             <td>Thu, 31 Mar 2022</td> <th>  Prob (F-statistic):</th>  <td>0.0181</td> \n",
       "</tr>\n",
       "<tr>\n",
       "  <th>Time:</th>                 <td>12:08:27</td>     <th>  Log-Likelihood:    </th> <td> -13.771</td>\n",
       "</tr>\n",
       "<tr>\n",
       "  <th>No. Observations:</th>      <td>     8</td>      <th>  AIC:               </th> <td>   31.54</td>\n",
       "</tr>\n",
       "<tr>\n",
       "  <th>Df Residuals:</th>          <td>     6</td>      <th>  BIC:               </th> <td>   31.70</td>\n",
       "</tr>\n",
       "<tr>\n",
       "  <th>Df Model:</th>              <td>     1</td>      <th>                     </th>     <td> </td>   \n",
       "</tr>\n",
       "<tr>\n",
       "  <th>Covariance Type:</th>      <td>nonrobust</td>    <th>                     </th>     <td> </td>   \n",
       "</tr>\n",
       "</table>\n",
       "<table class=\"simpletable\">\n",
       "<tr>\n",
       "      <td></td>         <th>coef</th>     <th>std err</th>      <th>t</th>      <th>P>|t|</th>  <th>[0.025</th>    <th>0.975]</th>  \n",
       "</tr>\n",
       "<tr>\n",
       "  <th>Intercept</th> <td>    1.1408</td> <td>    1.606</td> <td>    0.710</td> <td> 0.504</td> <td>   -2.789</td> <td>    5.070</td>\n",
       "</tr>\n",
       "<tr>\n",
       "  <th>x</th>         <td>    1.6901</td> <td>    0.524</td> <td>    3.223</td> <td> 0.018</td> <td>    0.407</td> <td>    2.973</td>\n",
       "</tr>\n",
       "</table>\n",
       "<table class=\"simpletable\">\n",
       "<tr>\n",
       "  <th>Omnibus:</th>       <td> 2.131</td> <th>  Durbin-Watson:     </th> <td>   2.058</td>\n",
       "</tr>\n",
       "<tr>\n",
       "  <th>Prob(Omnibus):</th> <td> 0.345</td> <th>  Jarque-Bera (JB):  </th> <td>   1.207</td>\n",
       "</tr>\n",
       "<tr>\n",
       "  <th>Skew:</th>          <td>-0.875</td> <th>  Prob(JB):          </th> <td>   0.547</td>\n",
       "</tr>\n",
       "<tr>\n",
       "  <th>Kurtosis:</th>      <td> 2.255</td> <th>  Cond. No.          </th> <td>    9.75</td>\n",
       "</tr>\n",
       "</table><br/><br/>Notes:<br/>[1] Standard Errors assume that the covariance matrix of the errors is correctly specified."
      ],
      "text/plain": [
       "<class 'statsmodels.iolib.summary.Summary'>\n",
       "\"\"\"\n",
       "                            OLS Regression Results                            \n",
       "==============================================================================\n",
       "Dep. Variable:                      y   R-squared:                       0.634\n",
       "Model:                            OLS   Adj. R-squared:                  0.573\n",
       "Method:                 Least Squares   F-statistic:                     10.38\n",
       "Date:                Thu, 31 Mar 2022   Prob (F-statistic):             0.0181\n",
       "Time:                        12:08:27   Log-Likelihood:                -13.771\n",
       "No. Observations:                   8   AIC:                             31.54\n",
       "Df Residuals:                       6   BIC:                             31.70\n",
       "Df Model:                           1                                         \n",
       "Covariance Type:            nonrobust                                         \n",
       "==============================================================================\n",
       "                 coef    std err          t      P>|t|      [0.025      0.975]\n",
       "------------------------------------------------------------------------------\n",
       "Intercept      1.1408      1.606      0.710      0.504      -2.789       5.070\n",
       "x              1.6901      0.524      3.223      0.018       0.407       2.973\n",
       "==============================================================================\n",
       "Omnibus:                        2.131   Durbin-Watson:                   2.058\n",
       "Prob(Omnibus):                  0.345   Jarque-Bera (JB):                1.207\n",
       "Skew:                          -0.875   Prob(JB):                        0.547\n",
       "Kurtosis:                       2.255   Cond. No.                         9.75\n",
       "==============================================================================\n",
       "\n",
       "Notes:\n",
       "[1] Standard Errors assume that the covariance matrix of the errors is correctly specified.\n",
       "\"\"\""
      ]
     },
     "execution_count": 2,
     "metadata": {},
     "output_type": "execute_result"
    }
   ],
   "source": [
    "tmp_results = smf.ols('y ~ x', data=tmp).fit()\n",
    "tmp_results.summary()"
   ]
  },
  {
   "cell_type": "code",
   "execution_count": 3,
   "metadata": {
    "scrolled": true
   },
   "outputs": [
    {
     "data": {
      "text/plain": [
       "Intercept    1.140845\n",
       "x            1.690141\n",
       "dtype: float64"
      ]
     },
     "execution_count": 3,
     "metadata": {},
     "output_type": "execute_result"
    }
   ],
   "source": [
    "tmp_results.params"
   ]
  },
  {
   "cell_type": "code",
   "execution_count": 4,
   "metadata": {},
   "outputs": [
    {
     "name": "stdout",
     "output_type": "stream",
     "text": [
      "1.1408450704225332\n",
      "1.6901408450704236\n"
     ]
    }
   ],
   "source": [
    "print(tmp_results.params[0])\n",
    "print(tmp_results.params[1])"
   ]
  },
  {
   "cell_type": "code",
   "execution_count": null,
   "metadata": {},
   "outputs": [],
   "source": []
  },
  {
   "cell_type": "code",
   "execution_count": null,
   "metadata": {},
   "outputs": [],
   "source": []
  },
  {
   "cell_type": "code",
   "execution_count": null,
   "metadata": {},
   "outputs": [],
   "source": []
  },
  {
   "cell_type": "markdown",
   "metadata": {},
   "source": [
    "#### 2.3.2. [0.5 pt] Sampling Distribution Mean and Standard Deviation\n",
    "\n",
    "Calculate the mean and the standard deviation of the *actual* sampling distribution that you created in 2.3.1."
   ]
  },
  {
   "cell_type": "code",
   "execution_count": null,
   "metadata": {},
   "outputs": [],
   "source": []
  },
  {
   "cell_type": "code",
   "execution_count": null,
   "metadata": {},
   "outputs": [],
   "source": []
  },
  {
   "cell_type": "markdown",
   "metadata": {},
   "source": [
    "### 2.4. *Theoretical* Sampling Distribution of Sample Slopes\n",
    "\n",
    "#### 2.4.1. [0.5 pt] [ *Theoretical* Mean of the Sampling Distribution of Sample Slopes\n",
    "\n",
    "What is the mean of the corresponding *theoretical* sampling distribution of sample slopes? (Or in other words, if we had *theoretically* created the sampling distribution above and had it include infinitely many sample slopes, what would we *expect* the mean of this sampling distribution to be?)"
   ]
  },
  {
   "cell_type": "markdown",
   "metadata": {},
   "source": []
  },
  {
   "cell_type": "markdown",
   "metadata": {},
   "source": [
    "#### 2.4.2. [0.25 pt] Difference\n",
    "\n",
    "How close is the mean of the *theoretical* sampling distribution that you calculated in 2.4.1 and the mean of the *actual* sampling distribution that you calculated in 2.3.2?"
   ]
  },
  {
   "cell_type": "code",
   "execution_count": null,
   "metadata": {},
   "outputs": [],
   "source": []
  },
  {
   "cell_type": "markdown",
   "metadata": {},
   "source": [
    "### <u>Contribution Report</u>:"
   ]
  },
  {
   "cell_type": "markdown",
   "metadata": {},
   "source": []
  }
 ],
 "metadata": {
  "kernelspec": {
   "display_name": "Python 3 (ipykernel)",
   "language": "python",
   "name": "python3"
  },
  "language_info": {
   "codemirror_mode": {
    "name": "ipython",
    "version": 3
   },
   "file_extension": ".py",
   "mimetype": "text/x-python",
   "name": "python",
   "nbconvert_exporter": "python",
   "pygments_lexer": "ipython3",
   "version": "3.9.12"
  }
 },
 "nbformat": 4,
 "nbformat_minor": 2
}
