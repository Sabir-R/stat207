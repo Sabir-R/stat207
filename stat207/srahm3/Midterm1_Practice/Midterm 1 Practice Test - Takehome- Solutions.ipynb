{
 "cells": [
  {
   "cell_type": "markdown",
   "metadata": {},
   "source": [
    "# Midterm 1 Practice Test - Takehome Part - Solutions\n",
    "\n",
    "## <u>Case Study</u> Pokemon Go Analysis\n",
    "\n",
    "The attached pokemon.csv contains a **random sample** of pokemon from the game Pokemon Go. Each pokemon has 25 attributes listed about each of them. We will explore this dataset to showcase what we have learned about each of the following.\n",
    "1. Data cleaning\n",
    "2. Dataframe manipulation\n",
    "3. Probability\n",
    "4. Sampling"
   ]
  },
  {
   "cell_type": "markdown",
   "metadata": {},
   "source": [
    "## Imports"
   ]
  },
  {
   "cell_type": "code",
   "execution_count": 1,
   "metadata": {},
   "outputs": [
    {
     "name": "stderr",
     "output_type": "stream",
     "text": [
      "C:\\Users\\vellison\\Miniconda3\\lib\\site-packages\\scipy\\__init__.py:146: UserWarning: A NumPy version >=1.16.5 and <1.23.0 is required for this version of SciPy (detected version 1.23.1\n",
      "  warnings.warn(f\"A NumPy version >={np_minversion} and <{np_maxversion}\"\n"
     ]
    }
   ],
   "source": [
    "import pandas as pd\n",
    "import numpy as np\n",
    "import seaborn as sns\n",
    "import matplotlib.pyplot as plt"
   ]
  },
  {
   "cell_type": "markdown",
   "metadata": {},
   "source": [
    "## 1. Data Cleaning and Data Type Checking\n",
    "\n",
    "We plan to analyze tmany of the numerical variables in the dataset. In order to ensure that our subsequent functions work appropriately on these variables, you should do the following.\n",
    "1. Identify any values (if any) that have been encoded in the csv to represent a **missing value**. \n",
    "2. Make sure that the values in each of your numerical variables are represented as numerical values (either float64 or int64 object types). If not, fix this using the methods we discussed in class.\n",
    "3. Delete any rows in your dataframe that have missing values. Remember, some \"missing values\", in the way that they're currently encoded in the csv may not be initially detectable by Python. It is your job to figure out what these missing values are and make it so Python does detect them. And then delete them.\n",
    "4. Determine how many rows that you dropped.\n"
   ]
  },
  {
   "cell_type": "markdown",
   "metadata": {},
   "source": [
    "First we read in the dataset as is."
   ]
  },
  {
   "cell_type": "code",
   "execution_count": 2,
   "metadata": {},
   "outputs": [
    {
     "data": {
      "text/html": [
       "<div>\n",
       "<style scoped>\n",
       "    .dataframe tbody tr th:only-of-type {\n",
       "        vertical-align: middle;\n",
       "    }\n",
       "\n",
       "    .dataframe tbody tr th {\n",
       "        vertical-align: top;\n",
       "    }\n",
       "\n",
       "    .dataframe thead th {\n",
       "        text-align: right;\n",
       "    }\n",
       "</style>\n",
       "<table border=\"1\" class=\"dataframe\">\n",
       "  <thead>\n",
       "    <tr style=\"text-align: right;\">\n",
       "      <th></th>\n",
       "      <th>name</th>\n",
       "      <th>species</th>\n",
       "      <th>cp</th>\n",
       "      <th>hp</th>\n",
       "      <th>weight</th>\n",
       "      <th>height</th>\n",
       "      <th>power_up_stardust</th>\n",
       "      <th>power_up_candy</th>\n",
       "      <th>attack_weak</th>\n",
       "      <th>attack_weak_type</th>\n",
       "      <th>...</th>\n",
       "      <th>weight_new</th>\n",
       "      <th>height_new</th>\n",
       "      <th>power_up_stardust_new</th>\n",
       "      <th>power_up_candy_new</th>\n",
       "      <th>attack_weak_new</th>\n",
       "      <th>attack_weak_type_new</th>\n",
       "      <th>attack_weak_value_new</th>\n",
       "      <th>attack_strong_new</th>\n",
       "      <th>attack_strong_type_new</th>\n",
       "      <th>attack_strong_value_new</th>\n",
       "    </tr>\n",
       "  </thead>\n",
       "  <tbody>\n",
       "    <tr>\n",
       "      <th>0</th>\n",
       "      <td>Pidgey1</td>\n",
       "      <td>Pidgey</td>\n",
       "      <td>384</td>\n",
       "      <td>56</td>\n",
       "      <td>2.31</td>\n",
       "      <td>0.34</td>\n",
       "      <td>2500</td>\n",
       "      <td>2</td>\n",
       "      <td>Tackle</td>\n",
       "      <td>Normal</td>\n",
       "      <td>...</td>\n",
       "      <td>2.60</td>\n",
       "      <td>1.24</td>\n",
       "      <td>2500</td>\n",
       "      <td>2</td>\n",
       "      <td>Steel Wing</td>\n",
       "      <td>Steel</td>\n",
       "      <td>15</td>\n",
       "      <td>Air Cutter</td>\n",
       "      <td>Flying</td>\n",
       "      <td>30</td>\n",
       "    </tr>\n",
       "    <tr>\n",
       "      <th>1</th>\n",
       "      <td>Pidgey2</td>\n",
       "      <td>Pidgey</td>\n",
       "      <td>366</td>\n",
       "      <td>54</td>\n",
       "      <td>1.67</td>\n",
       "      <td>0.29</td>\n",
       "      <td>2500</td>\n",
       "      <td>2</td>\n",
       "      <td>Quick Attack</td>\n",
       "      <td>Normal</td>\n",
       "      <td>...</td>\n",
       "      <td>1.93</td>\n",
       "      <td>1.05</td>\n",
       "      <td>2500</td>\n",
       "      <td>2</td>\n",
       "      <td>Wing Attack</td>\n",
       "      <td>Flying</td>\n",
       "      <td>9</td>\n",
       "      <td>Air Cutter</td>\n",
       "      <td>Flying</td>\n",
       "      <td>30</td>\n",
       "    </tr>\n",
       "    <tr>\n",
       "      <th>2</th>\n",
       "      <td>Pidgey3</td>\n",
       "      <td>Pidgey</td>\n",
       "      <td>353</td>\n",
       "      <td>55</td>\n",
       "      <td>1.94</td>\n",
       "      <td>0.30</td>\n",
       "      <td>3000</td>\n",
       "      <td>3</td>\n",
       "      <td>Quick Attack</td>\n",
       "      <td>Normal</td>\n",
       "      <td>...</td>\n",
       "      <td>3.51</td>\n",
       "      <td>1.11</td>\n",
       "      <td>3000</td>\n",
       "      <td>3</td>\n",
       "      <td>Wing Attack</td>\n",
       "      <td>Flying</td>\n",
       "      <td>9</td>\n",
       "      <td>Air Cutter</td>\n",
       "      <td>Flying</td>\n",
       "      <td>30</td>\n",
       "    </tr>\n",
       "    <tr>\n",
       "      <th>3</th>\n",
       "      <td>Pidgey4</td>\n",
       "      <td>Pidgey</td>\n",
       "      <td>338</td>\n",
       "      <td>51</td>\n",
       "      <td>1.73</td>\n",
       "      <td>0.31</td>\n",
       "      <td>3000</td>\n",
       "      <td>3</td>\n",
       "      <td>Tackle</td>\n",
       "      <td>Normal</td>\n",
       "      <td>...</td>\n",
       "      <td>30.00</td>\n",
       "      <td>1.12</td>\n",
       "      <td>3000</td>\n",
       "      <td>3</td>\n",
       "      <td>Steel Wing</td>\n",
       "      <td>Steel</td>\n",
       "      <td>15</td>\n",
       "      <td>Air Cutter</td>\n",
       "      <td>Flying</td>\n",
       "      <td>30</td>\n",
       "    </tr>\n",
       "    <tr>\n",
       "      <th>4</th>\n",
       "      <td>Pidgey5</td>\n",
       "      <td>Pidgey</td>\n",
       "      <td>242</td>\n",
       "      <td>45</td>\n",
       "      <td>1.44</td>\n",
       "      <td>0.27</td>\n",
       "      <td>1900</td>\n",
       "      <td>2</td>\n",
       "      <td>Quick Attack</td>\n",
       "      <td>Normal</td>\n",
       "      <td>...</td>\n",
       "      <td>1.42</td>\n",
       "      <td>0.98</td>\n",
       "      <td>1900</td>\n",
       "      <td>2</td>\n",
       "      <td>Wing Attack</td>\n",
       "      <td>Flying</td>\n",
       "      <td>9</td>\n",
       "      <td>Twister</td>\n",
       "      <td>Dragon</td>\n",
       "      <td>25</td>\n",
       "    </tr>\n",
       "  </tbody>\n",
       "</table>\n",
       "<p>5 rows × 26 columns</p>\n",
       "</div>"
      ],
      "text/plain": [
       "      name species   cp  hp  weight  height power_up_stardust  power_up_candy  \\\n",
       "0  Pidgey1  Pidgey  384  56    2.31    0.34              2500               2   \n",
       "1  Pidgey2  Pidgey  366  54    1.67    0.29              2500               2   \n",
       "2  Pidgey3  Pidgey  353  55    1.94    0.30              3000               3   \n",
       "3  Pidgey4  Pidgey  338  51    1.73    0.31              3000               3   \n",
       "4  Pidgey5  Pidgey  242  45    1.44    0.27              1900               2   \n",
       "\n",
       "    attack_weak attack_weak_type  ...  weight_new height_new  \\\n",
       "0        Tackle           Normal  ...        2.60       1.24   \n",
       "1  Quick Attack           Normal  ...        1.93       1.05   \n",
       "2  Quick Attack           Normal  ...        3.51       1.11   \n",
       "3        Tackle           Normal  ...       30.00       1.12   \n",
       "4  Quick Attack           Normal  ...        1.42       0.98   \n",
       "\n",
       "  power_up_stardust_new  power_up_candy_new attack_weak_new  \\\n",
       "0                  2500                   2      Steel Wing   \n",
       "1                  2500                   2     Wing Attack   \n",
       "2                  3000                   3     Wing Attack   \n",
       "3                  3000                   3      Steel Wing   \n",
       "4                  1900                   2     Wing Attack   \n",
       "\n",
       "   attack_weak_type_new  attack_weak_value_new  attack_strong_new  \\\n",
       "0                 Steel                     15         Air Cutter   \n",
       "1                Flying                      9         Air Cutter   \n",
       "2                Flying                      9         Air Cutter   \n",
       "3                 Steel                     15         Air Cutter   \n",
       "4                Flying                      9            Twister   \n",
       "\n",
       "   attack_strong_type_new  attack_strong_value_new  \n",
       "0                  Flying                       30  \n",
       "1                  Flying                       30  \n",
       "2                  Flying                       30  \n",
       "3                  Flying                       30  \n",
       "4                  Dragon                       25  \n",
       "\n",
       "[5 rows x 26 columns]"
      ]
     },
     "execution_count": 2,
     "metadata": {},
     "output_type": "execute_result"
    }
   ],
   "source": [
    "df=pd.read_csv('pokemon.csv')\n",
    "df.head()"
   ]
  },
  {
   "cell_type": "code",
   "execution_count": 3,
   "metadata": {},
   "outputs": [
    {
     "data": {
      "text/plain": [
       "(75, 26)"
      ]
     },
     "execution_count": 3,
     "metadata": {},
     "output_type": "execute_result"
    }
   ],
   "source": [
    "df.shape"
   ]
  },
  {
   "cell_type": "markdown",
   "metadata": {},
   "source": [
    "There are so many columns that we aren't able to visualize them all in the same dataframe. Let's view them 10 columns at a time so we can inspect each column."
   ]
  },
  {
   "cell_type": "code",
   "execution_count": 4,
   "metadata": {},
   "outputs": [
    {
     "data": {
      "text/html": [
       "<div>\n",
       "<style scoped>\n",
       "    .dataframe tbody tr th:only-of-type {\n",
       "        vertical-align: middle;\n",
       "    }\n",
       "\n",
       "    .dataframe tbody tr th {\n",
       "        vertical-align: top;\n",
       "    }\n",
       "\n",
       "    .dataframe thead th {\n",
       "        text-align: right;\n",
       "    }\n",
       "</style>\n",
       "<table border=\"1\" class=\"dataframe\">\n",
       "  <thead>\n",
       "    <tr style=\"text-align: right;\">\n",
       "      <th></th>\n",
       "      <th>name</th>\n",
       "      <th>species</th>\n",
       "      <th>cp</th>\n",
       "      <th>hp</th>\n",
       "      <th>weight</th>\n",
       "      <th>height</th>\n",
       "      <th>power_up_stardust</th>\n",
       "      <th>power_up_candy</th>\n",
       "      <th>attack_weak</th>\n",
       "      <th>attack_weak_type</th>\n",
       "    </tr>\n",
       "  </thead>\n",
       "  <tbody>\n",
       "    <tr>\n",
       "      <th>0</th>\n",
       "      <td>Pidgey1</td>\n",
       "      <td>Pidgey</td>\n",
       "      <td>384</td>\n",
       "      <td>56</td>\n",
       "      <td>2.31</td>\n",
       "      <td>0.34</td>\n",
       "      <td>2500</td>\n",
       "      <td>2</td>\n",
       "      <td>Tackle</td>\n",
       "      <td>Normal</td>\n",
       "    </tr>\n",
       "    <tr>\n",
       "      <th>1</th>\n",
       "      <td>Pidgey2</td>\n",
       "      <td>Pidgey</td>\n",
       "      <td>366</td>\n",
       "      <td>54</td>\n",
       "      <td>1.67</td>\n",
       "      <td>0.29</td>\n",
       "      <td>2500</td>\n",
       "      <td>2</td>\n",
       "      <td>Quick Attack</td>\n",
       "      <td>Normal</td>\n",
       "    </tr>\n",
       "    <tr>\n",
       "      <th>2</th>\n",
       "      <td>Pidgey3</td>\n",
       "      <td>Pidgey</td>\n",
       "      <td>353</td>\n",
       "      <td>55</td>\n",
       "      <td>1.94</td>\n",
       "      <td>0.30</td>\n",
       "      <td>3000</td>\n",
       "      <td>3</td>\n",
       "      <td>Quick Attack</td>\n",
       "      <td>Normal</td>\n",
       "    </tr>\n",
       "    <tr>\n",
       "      <th>3</th>\n",
       "      <td>Pidgey4</td>\n",
       "      <td>Pidgey</td>\n",
       "      <td>338</td>\n",
       "      <td>51</td>\n",
       "      <td>1.73</td>\n",
       "      <td>0.31</td>\n",
       "      <td>3000</td>\n",
       "      <td>3</td>\n",
       "      <td>Tackle</td>\n",
       "      <td>Normal</td>\n",
       "    </tr>\n",
       "    <tr>\n",
       "      <th>4</th>\n",
       "      <td>Pidgey5</td>\n",
       "      <td>Pidgey</td>\n",
       "      <td>242</td>\n",
       "      <td>45</td>\n",
       "      <td>1.44</td>\n",
       "      <td>0.27</td>\n",
       "      <td>1900</td>\n",
       "      <td>2</td>\n",
       "      <td>Quick Attack</td>\n",
       "      <td>Normal</td>\n",
       "    </tr>\n",
       "  </tbody>\n",
       "</table>\n",
       "</div>"
      ],
      "text/plain": [
       "      name species   cp  hp  weight  height power_up_stardust  power_up_candy  \\\n",
       "0  Pidgey1  Pidgey  384  56    2.31    0.34              2500               2   \n",
       "1  Pidgey2  Pidgey  366  54    1.67    0.29              2500               2   \n",
       "2  Pidgey3  Pidgey  353  55    1.94    0.30              3000               3   \n",
       "3  Pidgey4  Pidgey  338  51    1.73    0.31              3000               3   \n",
       "4  Pidgey5  Pidgey  242  45    1.44    0.27              1900               2   \n",
       "\n",
       "    attack_weak attack_weak_type  \n",
       "0        Tackle           Normal  \n",
       "1  Quick Attack           Normal  \n",
       "2  Quick Attack           Normal  \n",
       "3        Tackle           Normal  \n",
       "4  Quick Attack           Normal  "
      ]
     },
     "execution_count": 4,
     "metadata": {},
     "output_type": "execute_result"
    }
   ],
   "source": [
    "df[df.columns[0:10]].head()"
   ]
  },
  {
   "cell_type": "code",
   "execution_count": 5,
   "metadata": {},
   "outputs": [
    {
     "data": {
      "text/html": [
       "<div>\n",
       "<style scoped>\n",
       "    .dataframe tbody tr th:only-of-type {\n",
       "        vertical-align: middle;\n",
       "    }\n",
       "\n",
       "    .dataframe tbody tr th {\n",
       "        vertical-align: top;\n",
       "    }\n",
       "\n",
       "    .dataframe thead th {\n",
       "        text-align: right;\n",
       "    }\n",
       "</style>\n",
       "<table border=\"1\" class=\"dataframe\">\n",
       "  <thead>\n",
       "    <tr style=\"text-align: right;\">\n",
       "      <th></th>\n",
       "      <th>attack_strong</th>\n",
       "      <th>attack_strong_type</th>\n",
       "      <th>attack_strong_value</th>\n",
       "      <th>cp_new</th>\n",
       "      <th>hp_new</th>\n",
       "      <th>weight_new</th>\n",
       "      <th>height_new</th>\n",
       "      <th>power_up_stardust_new</th>\n",
       "      <th>power_up_candy_new</th>\n",
       "    </tr>\n",
       "  </thead>\n",
       "  <tbody>\n",
       "    <tr>\n",
       "      <th>0</th>\n",
       "      <td>Aerial Ace</td>\n",
       "      <td>Flying</td>\n",
       "      <td>30</td>\n",
       "      <td>694</td>\n",
       "      <td>84</td>\n",
       "      <td>2.60</td>\n",
       "      <td>1.24</td>\n",
       "      <td>2500</td>\n",
       "      <td>2</td>\n",
       "    </tr>\n",
       "    <tr>\n",
       "      <th>1</th>\n",
       "      <td>Twister</td>\n",
       "      <td>Dragon</td>\n",
       "      <td>25</td>\n",
       "      <td>669</td>\n",
       "      <td>81</td>\n",
       "      <td>1.93</td>\n",
       "      <td>1.05</td>\n",
       "      <td>2500</td>\n",
       "      <td>2</td>\n",
       "    </tr>\n",
       "    <tr>\n",
       "      <th>2</th>\n",
       "      <td>Aerial Ace</td>\n",
       "      <td>Flying</td>\n",
       "      <td>30</td>\n",
       "      <td>659</td>\n",
       "      <td>83</td>\n",
       "      <td>3.51</td>\n",
       "      <td>1.11</td>\n",
       "      <td>3000</td>\n",
       "      <td>3</td>\n",
       "    </tr>\n",
       "    <tr>\n",
       "      <th>3</th>\n",
       "      <td>Air Cutter</td>\n",
       "      <td>Flying</td>\n",
       "      <td>30</td>\n",
       "      <td>640</td>\n",
       "      <td>79</td>\n",
       "      <td>30.00</td>\n",
       "      <td>1.12</td>\n",
       "      <td>3000</td>\n",
       "      <td>3</td>\n",
       "    </tr>\n",
       "    <tr>\n",
       "      <th>4</th>\n",
       "      <td>Air Cutter</td>\n",
       "      <td>Flying</td>\n",
       "      <td>30</td>\n",
       "      <td>457</td>\n",
       "      <td>69</td>\n",
       "      <td>1.42</td>\n",
       "      <td>0.98</td>\n",
       "      <td>1900</td>\n",
       "      <td>2</td>\n",
       "    </tr>\n",
       "  </tbody>\n",
       "</table>\n",
       "</div>"
      ],
      "text/plain": [
       "  attack_strong attack_strong_type  attack_strong_value cp_new  hp_new  \\\n",
       "0    Aerial Ace             Flying                   30    694      84   \n",
       "1       Twister             Dragon                   25    669      81   \n",
       "2    Aerial Ace             Flying                   30    659      83   \n",
       "3    Air Cutter             Flying                   30    640      79   \n",
       "4    Air Cutter             Flying                   30    457      69   \n",
       "\n",
       "   weight_new  height_new  power_up_stardust_new  power_up_candy_new  \n",
       "0        2.60        1.24                   2500                   2  \n",
       "1        1.93        1.05                   2500                   2  \n",
       "2        3.51        1.11                   3000                   3  \n",
       "3       30.00        1.12                   3000                   3  \n",
       "4        1.42        0.98                   1900                   2  "
      ]
     },
     "execution_count": 5,
     "metadata": {},
     "output_type": "execute_result"
    }
   ],
   "source": [
    "df[df.columns[11:20]].head()"
   ]
  },
  {
   "cell_type": "code",
   "execution_count": 6,
   "metadata": {},
   "outputs": [
    {
     "data": {
      "text/html": [
       "<div>\n",
       "<style scoped>\n",
       "    .dataframe tbody tr th:only-of-type {\n",
       "        vertical-align: middle;\n",
       "    }\n",
       "\n",
       "    .dataframe tbody tr th {\n",
       "        vertical-align: top;\n",
       "    }\n",
       "\n",
       "    .dataframe thead th {\n",
       "        text-align: right;\n",
       "    }\n",
       "</style>\n",
       "<table border=\"1\" class=\"dataframe\">\n",
       "  <thead>\n",
       "    <tr style=\"text-align: right;\">\n",
       "      <th></th>\n",
       "      <th>attack_weak_new</th>\n",
       "      <th>attack_weak_type_new</th>\n",
       "      <th>attack_weak_value_new</th>\n",
       "      <th>attack_strong_new</th>\n",
       "      <th>attack_strong_type_new</th>\n",
       "      <th>attack_strong_value_new</th>\n",
       "    </tr>\n",
       "  </thead>\n",
       "  <tbody>\n",
       "    <tr>\n",
       "      <th>0</th>\n",
       "      <td>Steel Wing</td>\n",
       "      <td>Steel</td>\n",
       "      <td>15</td>\n",
       "      <td>Air Cutter</td>\n",
       "      <td>Flying</td>\n",
       "      <td>30</td>\n",
       "    </tr>\n",
       "    <tr>\n",
       "      <th>1</th>\n",
       "      <td>Wing Attack</td>\n",
       "      <td>Flying</td>\n",
       "      <td>9</td>\n",
       "      <td>Air Cutter</td>\n",
       "      <td>Flying</td>\n",
       "      <td>30</td>\n",
       "    </tr>\n",
       "    <tr>\n",
       "      <th>2</th>\n",
       "      <td>Wing Attack</td>\n",
       "      <td>Flying</td>\n",
       "      <td>9</td>\n",
       "      <td>Air Cutter</td>\n",
       "      <td>Flying</td>\n",
       "      <td>30</td>\n",
       "    </tr>\n",
       "    <tr>\n",
       "      <th>3</th>\n",
       "      <td>Steel Wing</td>\n",
       "      <td>Steel</td>\n",
       "      <td>15</td>\n",
       "      <td>Air Cutter</td>\n",
       "      <td>Flying</td>\n",
       "      <td>30</td>\n",
       "    </tr>\n",
       "    <tr>\n",
       "      <th>4</th>\n",
       "      <td>Wing Attack</td>\n",
       "      <td>Flying</td>\n",
       "      <td>9</td>\n",
       "      <td>Twister</td>\n",
       "      <td>Dragon</td>\n",
       "      <td>25</td>\n",
       "    </tr>\n",
       "  </tbody>\n",
       "</table>\n",
       "</div>"
      ],
      "text/plain": [
       "  attack_weak_new attack_weak_type_new  attack_weak_value_new  \\\n",
       "0      Steel Wing                Steel                     15   \n",
       "1     Wing Attack               Flying                      9   \n",
       "2     Wing Attack               Flying                      9   \n",
       "3      Steel Wing                Steel                     15   \n",
       "4     Wing Attack               Flying                      9   \n",
       "\n",
       "  attack_strong_new attack_strong_type_new  attack_strong_value_new  \n",
       "0        Air Cutter                 Flying                       30  \n",
       "1        Air Cutter                 Flying                       30  \n",
       "2        Air Cutter                 Flying                       30  \n",
       "3        Air Cutter                 Flying                       30  \n",
       "4           Twister                 Dragon                       25  "
      ]
     },
     "execution_count": 6,
     "metadata": {},
     "output_type": "execute_result"
    }
   ],
   "source": [
    "df[df.columns[20:]].head()"
   ]
  },
  {
   "cell_type": "markdown",
   "metadata": {},
   "source": [
    "Then we check the datatypes of each of the variables."
   ]
  },
  {
   "cell_type": "code",
   "execution_count": 7,
   "metadata": {},
   "outputs": [
    {
     "data": {
      "text/plain": [
       "name                        object\n",
       "species                     object\n",
       "cp                           int64\n",
       "hp                           int64\n",
       "weight                     float64\n",
       "height                     float64\n",
       "power_up_stardust           object\n",
       "power_up_candy               int64\n",
       "attack_weak                 object\n",
       "attack_weak_type            object\n",
       "attack_weak_value            int64\n",
       "attack_strong               object\n",
       "attack_strong_type          object\n",
       "attack_strong_value          int64\n",
       "cp_new                      object\n",
       "hp_new                       int64\n",
       "weight_new                 float64\n",
       "height_new                 float64\n",
       "power_up_stardust_new        int64\n",
       "power_up_candy_new           int64\n",
       "attack_weak_new             object\n",
       "attack_weak_type_new        object\n",
       "attack_weak_value_new        int64\n",
       "attack_strong_new           object\n",
       "attack_strong_type_new      object\n",
       "attack_strong_value_new      int64\n",
       "dtype: object"
      ]
     },
     "execution_count": 7,
     "metadata": {},
     "output_type": "execute_result"
    }
   ],
   "source": [
    "df.dtypes"
   ]
  },
  {
   "cell_type": "markdown",
   "metadata": {},
   "source": [
    "It looks like the the **power_up_stardust** and the **cp_new** variables are supposed to be numerical variables. However, they are represented as 'object' types at the moment. This is an indication that there may be some string values in these columns. Let's inspect all of the unique values in both of these columns."
   ]
  },
  {
   "cell_type": "code",
   "execution_count": 8,
   "metadata": {},
   "outputs": [
    {
     "data": {
      "text/plain": [
       "array(['694', '669', '659', '640', '457', '243', '15', '47', '305', '213',\n",
       "       '633', '247', '113', '79', '173', 'data suppressed', '624', '619',\n",
       "       '327', '181', '141', '241', '146', '448', '530', '393', '335',\n",
       "       '594', '567', '579', '459', '471', '428', '418', '354', '80',\n",
       "       '647', '205', '185', '16', '27', '245', '272', '151', '49', '140',\n",
       "       '217', '193', '157', '172', '115', '219', '18', '260', '66', '86',\n",
       "       '81', '150', '248', '46', '226', '137', '200', '161', '10', '92',\n",
       "       '1646', '1253', '1591', '1362', '1059', '1340'], dtype=object)"
      ]
     },
     "execution_count": 8,
     "metadata": {},
     "output_type": "execute_result"
    }
   ],
   "source": [
    "df['cp_new'].unique()"
   ]
  },
  {
   "cell_type": "code",
   "execution_count": 9,
   "metadata": {},
   "outputs": [
    {
     "data": {
      "text/plain": [
       "array(['2500', '3000', '1900', '800', '200', '1000', '400', '600',\n",
       "       'data suppressed', '1600', '2200', '1300'], dtype=object)"
      ]
     },
     "execution_count": 9,
     "metadata": {},
     "output_type": "execute_result"
    }
   ],
   "source": [
    "df['power_up_stardust'].unique()"
   ]
  },
  {
   "cell_type": "markdown",
   "metadata": {},
   "source": [
    "It looks like the phrase 'data suppressed' was used to represent a missing value in this csv. Let's read in our dataframe again, this time encoding all 'data suppressed' values with a NaN."
   ]
  },
  {
   "cell_type": "code",
   "execution_count": 10,
   "metadata": {},
   "outputs": [
    {
     "data": {
      "text/html": [
       "<div>\n",
       "<style scoped>\n",
       "    .dataframe tbody tr th:only-of-type {\n",
       "        vertical-align: middle;\n",
       "    }\n",
       "\n",
       "    .dataframe tbody tr th {\n",
       "        vertical-align: top;\n",
       "    }\n",
       "\n",
       "    .dataframe thead th {\n",
       "        text-align: right;\n",
       "    }\n",
       "</style>\n",
       "<table border=\"1\" class=\"dataframe\">\n",
       "  <thead>\n",
       "    <tr style=\"text-align: right;\">\n",
       "      <th></th>\n",
       "      <th>name</th>\n",
       "      <th>species</th>\n",
       "      <th>cp</th>\n",
       "      <th>hp</th>\n",
       "      <th>weight</th>\n",
       "      <th>height</th>\n",
       "      <th>power_up_stardust</th>\n",
       "      <th>power_up_candy</th>\n",
       "      <th>attack_weak</th>\n",
       "      <th>attack_weak_type</th>\n",
       "      <th>...</th>\n",
       "      <th>weight_new</th>\n",
       "      <th>height_new</th>\n",
       "      <th>power_up_stardust_new</th>\n",
       "      <th>power_up_candy_new</th>\n",
       "      <th>attack_weak_new</th>\n",
       "      <th>attack_weak_type_new</th>\n",
       "      <th>attack_weak_value_new</th>\n",
       "      <th>attack_strong_new</th>\n",
       "      <th>attack_strong_type_new</th>\n",
       "      <th>attack_strong_value_new</th>\n",
       "    </tr>\n",
       "  </thead>\n",
       "  <tbody>\n",
       "    <tr>\n",
       "      <th>0</th>\n",
       "      <td>Pidgey1</td>\n",
       "      <td>Pidgey</td>\n",
       "      <td>384</td>\n",
       "      <td>56</td>\n",
       "      <td>2.31</td>\n",
       "      <td>0.34</td>\n",
       "      <td>2500.0</td>\n",
       "      <td>2</td>\n",
       "      <td>Tackle</td>\n",
       "      <td>Normal</td>\n",
       "      <td>...</td>\n",
       "      <td>2.60</td>\n",
       "      <td>1.24</td>\n",
       "      <td>2500</td>\n",
       "      <td>2</td>\n",
       "      <td>Steel Wing</td>\n",
       "      <td>Steel</td>\n",
       "      <td>15</td>\n",
       "      <td>Air Cutter</td>\n",
       "      <td>Flying</td>\n",
       "      <td>30</td>\n",
       "    </tr>\n",
       "    <tr>\n",
       "      <th>1</th>\n",
       "      <td>Pidgey2</td>\n",
       "      <td>Pidgey</td>\n",
       "      <td>366</td>\n",
       "      <td>54</td>\n",
       "      <td>1.67</td>\n",
       "      <td>0.29</td>\n",
       "      <td>2500.0</td>\n",
       "      <td>2</td>\n",
       "      <td>Quick Attack</td>\n",
       "      <td>Normal</td>\n",
       "      <td>...</td>\n",
       "      <td>1.93</td>\n",
       "      <td>1.05</td>\n",
       "      <td>2500</td>\n",
       "      <td>2</td>\n",
       "      <td>Wing Attack</td>\n",
       "      <td>Flying</td>\n",
       "      <td>9</td>\n",
       "      <td>Air Cutter</td>\n",
       "      <td>Flying</td>\n",
       "      <td>30</td>\n",
       "    </tr>\n",
       "    <tr>\n",
       "      <th>2</th>\n",
       "      <td>Pidgey3</td>\n",
       "      <td>Pidgey</td>\n",
       "      <td>353</td>\n",
       "      <td>55</td>\n",
       "      <td>1.94</td>\n",
       "      <td>0.30</td>\n",
       "      <td>3000.0</td>\n",
       "      <td>3</td>\n",
       "      <td>Quick Attack</td>\n",
       "      <td>Normal</td>\n",
       "      <td>...</td>\n",
       "      <td>3.51</td>\n",
       "      <td>1.11</td>\n",
       "      <td>3000</td>\n",
       "      <td>3</td>\n",
       "      <td>Wing Attack</td>\n",
       "      <td>Flying</td>\n",
       "      <td>9</td>\n",
       "      <td>Air Cutter</td>\n",
       "      <td>Flying</td>\n",
       "      <td>30</td>\n",
       "    </tr>\n",
       "    <tr>\n",
       "      <th>3</th>\n",
       "      <td>Pidgey4</td>\n",
       "      <td>Pidgey</td>\n",
       "      <td>338</td>\n",
       "      <td>51</td>\n",
       "      <td>1.73</td>\n",
       "      <td>0.31</td>\n",
       "      <td>3000.0</td>\n",
       "      <td>3</td>\n",
       "      <td>Tackle</td>\n",
       "      <td>Normal</td>\n",
       "      <td>...</td>\n",
       "      <td>30.00</td>\n",
       "      <td>1.12</td>\n",
       "      <td>3000</td>\n",
       "      <td>3</td>\n",
       "      <td>Steel Wing</td>\n",
       "      <td>Steel</td>\n",
       "      <td>15</td>\n",
       "      <td>Air Cutter</td>\n",
       "      <td>Flying</td>\n",
       "      <td>30</td>\n",
       "    </tr>\n",
       "    <tr>\n",
       "      <th>4</th>\n",
       "      <td>Pidgey5</td>\n",
       "      <td>Pidgey</td>\n",
       "      <td>242</td>\n",
       "      <td>45</td>\n",
       "      <td>1.44</td>\n",
       "      <td>0.27</td>\n",
       "      <td>1900.0</td>\n",
       "      <td>2</td>\n",
       "      <td>Quick Attack</td>\n",
       "      <td>Normal</td>\n",
       "      <td>...</td>\n",
       "      <td>1.42</td>\n",
       "      <td>0.98</td>\n",
       "      <td>1900</td>\n",
       "      <td>2</td>\n",
       "      <td>Wing Attack</td>\n",
       "      <td>Flying</td>\n",
       "      <td>9</td>\n",
       "      <td>Twister</td>\n",
       "      <td>Dragon</td>\n",
       "      <td>25</td>\n",
       "    </tr>\n",
       "  </tbody>\n",
       "</table>\n",
       "<p>5 rows × 26 columns</p>\n",
       "</div>"
      ],
      "text/plain": [
       "      name species   cp  hp  weight  height  power_up_stardust  \\\n",
       "0  Pidgey1  Pidgey  384  56    2.31    0.34             2500.0   \n",
       "1  Pidgey2  Pidgey  366  54    1.67    0.29             2500.0   \n",
       "2  Pidgey3  Pidgey  353  55    1.94    0.30             3000.0   \n",
       "3  Pidgey4  Pidgey  338  51    1.73    0.31             3000.0   \n",
       "4  Pidgey5  Pidgey  242  45    1.44    0.27             1900.0   \n",
       "\n",
       "   power_up_candy   attack_weak attack_weak_type  ...  weight_new height_new  \\\n",
       "0               2        Tackle           Normal  ...        2.60       1.24   \n",
       "1               2  Quick Attack           Normal  ...        1.93       1.05   \n",
       "2               3  Quick Attack           Normal  ...        3.51       1.11   \n",
       "3               3        Tackle           Normal  ...       30.00       1.12   \n",
       "4               2  Quick Attack           Normal  ...        1.42       0.98   \n",
       "\n",
       "  power_up_stardust_new  power_up_candy_new  attack_weak_new  \\\n",
       "0                  2500                   2       Steel Wing   \n",
       "1                  2500                   2      Wing Attack   \n",
       "2                  3000                   3      Wing Attack   \n",
       "3                  3000                   3       Steel Wing   \n",
       "4                  1900                   2      Wing Attack   \n",
       "\n",
       "   attack_weak_type_new  attack_weak_value_new  attack_strong_new  \\\n",
       "0                 Steel                     15         Air Cutter   \n",
       "1                Flying                      9         Air Cutter   \n",
       "2                Flying                      9         Air Cutter   \n",
       "3                 Steel                     15         Air Cutter   \n",
       "4                Flying                      9            Twister   \n",
       "\n",
       "   attack_strong_type_new  attack_strong_value_new  \n",
       "0                  Flying                       30  \n",
       "1                  Flying                       30  \n",
       "2                  Flying                       30  \n",
       "3                  Flying                       30  \n",
       "4                  Dragon                       25  \n",
       "\n",
       "[5 rows x 26 columns]"
      ]
     },
     "execution_count": 10,
     "metadata": {},
     "output_type": "execute_result"
    }
   ],
   "source": [
    "df=pd.read_csv('pokemon.csv', na_values=['data suppressed'])\n",
    "df.head()"
   ]
  },
  {
   "cell_type": "markdown",
   "metadata": {},
   "source": [
    "Now the **power_up_stardust** and the **cp_new** variables are correctly represented as variable comprised of exclusively numerical objects like 'float64'."
   ]
  },
  {
   "cell_type": "code",
   "execution_count": 11,
   "metadata": {},
   "outputs": [
    {
     "data": {
      "text/plain": [
       "name                        object\n",
       "species                     object\n",
       "cp                           int64\n",
       "hp                           int64\n",
       "weight                     float64\n",
       "height                     float64\n",
       "power_up_stardust          float64\n",
       "power_up_candy               int64\n",
       "attack_weak                 object\n",
       "attack_weak_type            object\n",
       "attack_weak_value            int64\n",
       "attack_strong               object\n",
       "attack_strong_type          object\n",
       "attack_strong_value          int64\n",
       "cp_new                     float64\n",
       "hp_new                       int64\n",
       "weight_new                 float64\n",
       "height_new                 float64\n",
       "power_up_stardust_new        int64\n",
       "power_up_candy_new           int64\n",
       "attack_weak_new             object\n",
       "attack_weak_type_new        object\n",
       "attack_weak_value_new        int64\n",
       "attack_strong_new           object\n",
       "attack_strong_type_new      object\n",
       "attack_strong_value_new      int64\n",
       "dtype: object"
      ]
     },
     "execution_count": 11,
     "metadata": {},
     "output_type": "execute_result"
    }
   ],
   "source": [
    "df.dtypes"
   ]
  },
  {
   "cell_type": "markdown",
   "metadata": {},
   "source": [
    "Finally, we will drop all rows with a NaN value in this dataframe."
   ]
  },
  {
   "cell_type": "code",
   "execution_count": 12,
   "metadata": {},
   "outputs": [
    {
     "data": {
      "text/html": [
       "<div>\n",
       "<style scoped>\n",
       "    .dataframe tbody tr th:only-of-type {\n",
       "        vertical-align: middle;\n",
       "    }\n",
       "\n",
       "    .dataframe tbody tr th {\n",
       "        vertical-align: top;\n",
       "    }\n",
       "\n",
       "    .dataframe thead th {\n",
       "        text-align: right;\n",
       "    }\n",
       "</style>\n",
       "<table border=\"1\" class=\"dataframe\">\n",
       "  <thead>\n",
       "    <tr style=\"text-align: right;\">\n",
       "      <th></th>\n",
       "      <th>name</th>\n",
       "      <th>species</th>\n",
       "      <th>cp</th>\n",
       "      <th>hp</th>\n",
       "      <th>weight</th>\n",
       "      <th>height</th>\n",
       "      <th>power_up_stardust</th>\n",
       "      <th>power_up_candy</th>\n",
       "      <th>attack_weak</th>\n",
       "      <th>attack_weak_type</th>\n",
       "      <th>...</th>\n",
       "      <th>weight_new</th>\n",
       "      <th>height_new</th>\n",
       "      <th>power_up_stardust_new</th>\n",
       "      <th>power_up_candy_new</th>\n",
       "      <th>attack_weak_new</th>\n",
       "      <th>attack_weak_type_new</th>\n",
       "      <th>attack_weak_value_new</th>\n",
       "      <th>attack_strong_new</th>\n",
       "      <th>attack_strong_type_new</th>\n",
       "      <th>attack_strong_value_new</th>\n",
       "    </tr>\n",
       "  </thead>\n",
       "  <tbody>\n",
       "    <tr>\n",
       "      <th>0</th>\n",
       "      <td>Pidgey1</td>\n",
       "      <td>Pidgey</td>\n",
       "      <td>384</td>\n",
       "      <td>56</td>\n",
       "      <td>2.31</td>\n",
       "      <td>0.34</td>\n",
       "      <td>2500.0</td>\n",
       "      <td>2</td>\n",
       "      <td>Tackle</td>\n",
       "      <td>Normal</td>\n",
       "      <td>...</td>\n",
       "      <td>2.60</td>\n",
       "      <td>1.24</td>\n",
       "      <td>2500</td>\n",
       "      <td>2</td>\n",
       "      <td>Steel Wing</td>\n",
       "      <td>Steel</td>\n",
       "      <td>15</td>\n",
       "      <td>Air Cutter</td>\n",
       "      <td>Flying</td>\n",
       "      <td>30</td>\n",
       "    </tr>\n",
       "    <tr>\n",
       "      <th>1</th>\n",
       "      <td>Pidgey2</td>\n",
       "      <td>Pidgey</td>\n",
       "      <td>366</td>\n",
       "      <td>54</td>\n",
       "      <td>1.67</td>\n",
       "      <td>0.29</td>\n",
       "      <td>2500.0</td>\n",
       "      <td>2</td>\n",
       "      <td>Quick Attack</td>\n",
       "      <td>Normal</td>\n",
       "      <td>...</td>\n",
       "      <td>1.93</td>\n",
       "      <td>1.05</td>\n",
       "      <td>2500</td>\n",
       "      <td>2</td>\n",
       "      <td>Wing Attack</td>\n",
       "      <td>Flying</td>\n",
       "      <td>9</td>\n",
       "      <td>Air Cutter</td>\n",
       "      <td>Flying</td>\n",
       "      <td>30</td>\n",
       "    </tr>\n",
       "    <tr>\n",
       "      <th>2</th>\n",
       "      <td>Pidgey3</td>\n",
       "      <td>Pidgey</td>\n",
       "      <td>353</td>\n",
       "      <td>55</td>\n",
       "      <td>1.94</td>\n",
       "      <td>0.30</td>\n",
       "      <td>3000.0</td>\n",
       "      <td>3</td>\n",
       "      <td>Quick Attack</td>\n",
       "      <td>Normal</td>\n",
       "      <td>...</td>\n",
       "      <td>3.51</td>\n",
       "      <td>1.11</td>\n",
       "      <td>3000</td>\n",
       "      <td>3</td>\n",
       "      <td>Wing Attack</td>\n",
       "      <td>Flying</td>\n",
       "      <td>9</td>\n",
       "      <td>Air Cutter</td>\n",
       "      <td>Flying</td>\n",
       "      <td>30</td>\n",
       "    </tr>\n",
       "    <tr>\n",
       "      <th>3</th>\n",
       "      <td>Pidgey4</td>\n",
       "      <td>Pidgey</td>\n",
       "      <td>338</td>\n",
       "      <td>51</td>\n",
       "      <td>1.73</td>\n",
       "      <td>0.31</td>\n",
       "      <td>3000.0</td>\n",
       "      <td>3</td>\n",
       "      <td>Tackle</td>\n",
       "      <td>Normal</td>\n",
       "      <td>...</td>\n",
       "      <td>30.00</td>\n",
       "      <td>1.12</td>\n",
       "      <td>3000</td>\n",
       "      <td>3</td>\n",
       "      <td>Steel Wing</td>\n",
       "      <td>Steel</td>\n",
       "      <td>15</td>\n",
       "      <td>Air Cutter</td>\n",
       "      <td>Flying</td>\n",
       "      <td>30</td>\n",
       "    </tr>\n",
       "    <tr>\n",
       "      <th>4</th>\n",
       "      <td>Pidgey5</td>\n",
       "      <td>Pidgey</td>\n",
       "      <td>242</td>\n",
       "      <td>45</td>\n",
       "      <td>1.44</td>\n",
       "      <td>0.27</td>\n",
       "      <td>1900.0</td>\n",
       "      <td>2</td>\n",
       "      <td>Quick Attack</td>\n",
       "      <td>Normal</td>\n",
       "      <td>...</td>\n",
       "      <td>1.42</td>\n",
       "      <td>0.98</td>\n",
       "      <td>1900</td>\n",
       "      <td>2</td>\n",
       "      <td>Wing Attack</td>\n",
       "      <td>Flying</td>\n",
       "      <td>9</td>\n",
       "      <td>Twister</td>\n",
       "      <td>Dragon</td>\n",
       "      <td>25</td>\n",
       "    </tr>\n",
       "  </tbody>\n",
       "</table>\n",
       "<p>5 rows × 26 columns</p>\n",
       "</div>"
      ],
      "text/plain": [
       "      name species   cp  hp  weight  height  power_up_stardust  \\\n",
       "0  Pidgey1  Pidgey  384  56    2.31    0.34             2500.0   \n",
       "1  Pidgey2  Pidgey  366  54    1.67    0.29             2500.0   \n",
       "2  Pidgey3  Pidgey  353  55    1.94    0.30             3000.0   \n",
       "3  Pidgey4  Pidgey  338  51    1.73    0.31             3000.0   \n",
       "4  Pidgey5  Pidgey  242  45    1.44    0.27             1900.0   \n",
       "\n",
       "   power_up_candy   attack_weak attack_weak_type  ...  weight_new height_new  \\\n",
       "0               2        Tackle           Normal  ...        2.60       1.24   \n",
       "1               2  Quick Attack           Normal  ...        1.93       1.05   \n",
       "2               3  Quick Attack           Normal  ...        3.51       1.11   \n",
       "3               3        Tackle           Normal  ...       30.00       1.12   \n",
       "4               2  Quick Attack           Normal  ...        1.42       0.98   \n",
       "\n",
       "  power_up_stardust_new  power_up_candy_new  attack_weak_new  \\\n",
       "0                  2500                   2       Steel Wing   \n",
       "1                  2500                   2      Wing Attack   \n",
       "2                  3000                   3      Wing Attack   \n",
       "3                  3000                   3       Steel Wing   \n",
       "4                  1900                   2      Wing Attack   \n",
       "\n",
       "   attack_weak_type_new  attack_weak_value_new  attack_strong_new  \\\n",
       "0                 Steel                     15         Air Cutter   \n",
       "1                Flying                      9         Air Cutter   \n",
       "2                Flying                      9         Air Cutter   \n",
       "3                 Steel                     15         Air Cutter   \n",
       "4                Flying                      9            Twister   \n",
       "\n",
       "   attack_strong_type_new  attack_strong_value_new  \n",
       "0                  Flying                       30  \n",
       "1                  Flying                       30  \n",
       "2                  Flying                       30  \n",
       "3                  Flying                       30  \n",
       "4                  Dragon                       25  \n",
       "\n",
       "[5 rows x 26 columns]"
      ]
     },
     "execution_count": 12,
     "metadata": {},
     "output_type": "execute_result"
    }
   ],
   "source": [
    "df=df.dropna()\n",
    "df.head()"
   ]
  },
  {
   "cell_type": "code",
   "execution_count": 13,
   "metadata": {},
   "outputs": [
    {
     "data": {
      "text/plain": [
       "(73, 26)"
      ]
     },
     "execution_count": 13,
     "metadata": {},
     "output_type": "execute_result"
    }
   ],
   "source": [
    "df.shape"
   ]
  },
  {
   "cell_type": "markdown",
   "metadata": {},
   "source": [
    "This dataframe originally had 75 observations and now it has 73. Thus 2 rows with missing values were dropped."
   ]
  },
  {
   "cell_type": "markdown",
   "metadata": {},
   "source": [
    "## 2. Dataframe Exploration\n",
    "\n",
    "### 2.1. Species of Pokemon\n",
    "\n",
    "How many of each species of pokemon are there in this dataset?"
   ]
  },
  {
   "cell_type": "code",
   "execution_count": 14,
   "metadata": {},
   "outputs": [
    {
     "data": {
      "text/plain": [
       "Pidgey      37\n",
       "Weedle      20\n",
       "Caterpie    10\n",
       "Eevee        6\n",
       "Name: species, dtype: int64"
      ]
     },
     "execution_count": 14,
     "metadata": {},
     "output_type": "execute_result"
    }
   ],
   "source": [
    "df['species'].value_counts()"
   ]
  },
  {
   "cell_type": "markdown",
   "metadata": {},
   "source": [
    "## 2.2. Pokemon Type\n",
    "\n",
    "Suppose we know that a Pidgey is a 'Normal' type of Pokemon, Weedle is a 'Poison' type of pokemon, Caterpie is a 'Bug' type of pokemon, and Eevee is a 'Normal' type of pokemon. Add this information as an additional corresponding column in the dataframe."
   ]
  },
  {
   "cell_type": "markdown",
   "metadata": {},
   "source": [
    "First we need to create a dataframe that matches the pokemon 'species' to the pokemon 'type'."
   ]
  },
  {
   "cell_type": "code",
   "execution_count": 15,
   "metadata": {},
   "outputs": [
    {
     "data": {
      "text/html": [
       "<div>\n",
       "<style scoped>\n",
       "    .dataframe tbody tr th:only-of-type {\n",
       "        vertical-align: middle;\n",
       "    }\n",
       "\n",
       "    .dataframe tbody tr th {\n",
       "        vertical-align: top;\n",
       "    }\n",
       "\n",
       "    .dataframe thead th {\n",
       "        text-align: right;\n",
       "    }\n",
       "</style>\n",
       "<table border=\"1\" class=\"dataframe\">\n",
       "  <thead>\n",
       "    <tr style=\"text-align: right;\">\n",
       "      <th></th>\n",
       "      <th>species</th>\n",
       "      <th>type</th>\n",
       "    </tr>\n",
       "  </thead>\n",
       "  <tbody>\n",
       "    <tr>\n",
       "      <th>0</th>\n",
       "      <td>Pidgey</td>\n",
       "      <td>Normal</td>\n",
       "    </tr>\n",
       "    <tr>\n",
       "      <th>1</th>\n",
       "      <td>Weedle</td>\n",
       "      <td>Poison</td>\n",
       "    </tr>\n",
       "    <tr>\n",
       "      <th>2</th>\n",
       "      <td>Caterpie</td>\n",
       "      <td>Bug</td>\n",
       "    </tr>\n",
       "    <tr>\n",
       "      <th>3</th>\n",
       "      <td>Eevee</td>\n",
       "      <td>Normal</td>\n",
       "    </tr>\n",
       "  </tbody>\n",
       "</table>\n",
       "</div>"
      ],
      "text/plain": [
       "    species    type\n",
       "0    Pidgey  Normal\n",
       "1    Weedle  Poison\n",
       "2  Caterpie     Bug\n",
       "3     Eevee  Normal"
      ]
     },
     "execution_count": 15,
     "metadata": {},
     "output_type": "execute_result"
    }
   ],
   "source": [
    "df_pokemon_type=pd.DataFrame({'species':['Pidgey', 'Weedle', 'Caterpie', 'Eevee'],\n",
    "                              'type': ['Normal', 'Poison', 'Bug', 'Normal']})\n",
    "df_pokemon_type"
   ]
  },
  {
   "cell_type": "markdown",
   "metadata": {},
   "source": [
    "Then we can merge this new dataframe to our df dataframe to create a new merged one."
   ]
  },
  {
   "cell_type": "code",
   "execution_count": 16,
   "metadata": {},
   "outputs": [
    {
     "data": {
      "text/html": [
       "<div>\n",
       "<style scoped>\n",
       "    .dataframe tbody tr th:only-of-type {\n",
       "        vertical-align: middle;\n",
       "    }\n",
       "\n",
       "    .dataframe tbody tr th {\n",
       "        vertical-align: top;\n",
       "    }\n",
       "\n",
       "    .dataframe thead th {\n",
       "        text-align: right;\n",
       "    }\n",
       "</style>\n",
       "<table border=\"1\" class=\"dataframe\">\n",
       "  <thead>\n",
       "    <tr style=\"text-align: right;\">\n",
       "      <th></th>\n",
       "      <th>name</th>\n",
       "      <th>species</th>\n",
       "      <th>cp</th>\n",
       "      <th>hp</th>\n",
       "      <th>weight</th>\n",
       "      <th>height</th>\n",
       "      <th>power_up_stardust</th>\n",
       "      <th>power_up_candy</th>\n",
       "      <th>attack_weak</th>\n",
       "      <th>attack_weak_type</th>\n",
       "      <th>...</th>\n",
       "      <th>height_new</th>\n",
       "      <th>power_up_stardust_new</th>\n",
       "      <th>power_up_candy_new</th>\n",
       "      <th>attack_weak_new</th>\n",
       "      <th>attack_weak_type_new</th>\n",
       "      <th>attack_weak_value_new</th>\n",
       "      <th>attack_strong_new</th>\n",
       "      <th>attack_strong_type_new</th>\n",
       "      <th>attack_strong_value_new</th>\n",
       "      <th>type</th>\n",
       "    </tr>\n",
       "  </thead>\n",
       "  <tbody>\n",
       "    <tr>\n",
       "      <th>0</th>\n",
       "      <td>Pidgey1</td>\n",
       "      <td>Pidgey</td>\n",
       "      <td>384</td>\n",
       "      <td>56</td>\n",
       "      <td>2.31</td>\n",
       "      <td>0.34</td>\n",
       "      <td>2500.0</td>\n",
       "      <td>2</td>\n",
       "      <td>Tackle</td>\n",
       "      <td>Normal</td>\n",
       "      <td>...</td>\n",
       "      <td>1.24</td>\n",
       "      <td>2500</td>\n",
       "      <td>2</td>\n",
       "      <td>Steel Wing</td>\n",
       "      <td>Steel</td>\n",
       "      <td>15</td>\n",
       "      <td>Air Cutter</td>\n",
       "      <td>Flying</td>\n",
       "      <td>30</td>\n",
       "      <td>Normal</td>\n",
       "    </tr>\n",
       "    <tr>\n",
       "      <th>1</th>\n",
       "      <td>Pidgey2</td>\n",
       "      <td>Pidgey</td>\n",
       "      <td>366</td>\n",
       "      <td>54</td>\n",
       "      <td>1.67</td>\n",
       "      <td>0.29</td>\n",
       "      <td>2500.0</td>\n",
       "      <td>2</td>\n",
       "      <td>Quick Attack</td>\n",
       "      <td>Normal</td>\n",
       "      <td>...</td>\n",
       "      <td>1.05</td>\n",
       "      <td>2500</td>\n",
       "      <td>2</td>\n",
       "      <td>Wing Attack</td>\n",
       "      <td>Flying</td>\n",
       "      <td>9</td>\n",
       "      <td>Air Cutter</td>\n",
       "      <td>Flying</td>\n",
       "      <td>30</td>\n",
       "      <td>Normal</td>\n",
       "    </tr>\n",
       "    <tr>\n",
       "      <th>2</th>\n",
       "      <td>Pidgey3</td>\n",
       "      <td>Pidgey</td>\n",
       "      <td>353</td>\n",
       "      <td>55</td>\n",
       "      <td>1.94</td>\n",
       "      <td>0.30</td>\n",
       "      <td>3000.0</td>\n",
       "      <td>3</td>\n",
       "      <td>Quick Attack</td>\n",
       "      <td>Normal</td>\n",
       "      <td>...</td>\n",
       "      <td>1.11</td>\n",
       "      <td>3000</td>\n",
       "      <td>3</td>\n",
       "      <td>Wing Attack</td>\n",
       "      <td>Flying</td>\n",
       "      <td>9</td>\n",
       "      <td>Air Cutter</td>\n",
       "      <td>Flying</td>\n",
       "      <td>30</td>\n",
       "      <td>Normal</td>\n",
       "    </tr>\n",
       "    <tr>\n",
       "      <th>3</th>\n",
       "      <td>Pidgey4</td>\n",
       "      <td>Pidgey</td>\n",
       "      <td>338</td>\n",
       "      <td>51</td>\n",
       "      <td>1.73</td>\n",
       "      <td>0.31</td>\n",
       "      <td>3000.0</td>\n",
       "      <td>3</td>\n",
       "      <td>Tackle</td>\n",
       "      <td>Normal</td>\n",
       "      <td>...</td>\n",
       "      <td>1.12</td>\n",
       "      <td>3000</td>\n",
       "      <td>3</td>\n",
       "      <td>Steel Wing</td>\n",
       "      <td>Steel</td>\n",
       "      <td>15</td>\n",
       "      <td>Air Cutter</td>\n",
       "      <td>Flying</td>\n",
       "      <td>30</td>\n",
       "      <td>Normal</td>\n",
       "    </tr>\n",
       "    <tr>\n",
       "      <th>4</th>\n",
       "      <td>Pidgey5</td>\n",
       "      <td>Pidgey</td>\n",
       "      <td>242</td>\n",
       "      <td>45</td>\n",
       "      <td>1.44</td>\n",
       "      <td>0.27</td>\n",
       "      <td>1900.0</td>\n",
       "      <td>2</td>\n",
       "      <td>Quick Attack</td>\n",
       "      <td>Normal</td>\n",
       "      <td>...</td>\n",
       "      <td>0.98</td>\n",
       "      <td>1900</td>\n",
       "      <td>2</td>\n",
       "      <td>Wing Attack</td>\n",
       "      <td>Flying</td>\n",
       "      <td>9</td>\n",
       "      <td>Twister</td>\n",
       "      <td>Dragon</td>\n",
       "      <td>25</td>\n",
       "      <td>Normal</td>\n",
       "    </tr>\n",
       "    <tr>\n",
       "      <th>...</th>\n",
       "      <td>...</td>\n",
       "      <td>...</td>\n",
       "      <td>...</td>\n",
       "      <td>...</td>\n",
       "      <td>...</td>\n",
       "      <td>...</td>\n",
       "      <td>...</td>\n",
       "      <td>...</td>\n",
       "      <td>...</td>\n",
       "      <td>...</td>\n",
       "      <td>...</td>\n",
       "      <td>...</td>\n",
       "      <td>...</td>\n",
       "      <td>...</td>\n",
       "      <td>...</td>\n",
       "      <td>...</td>\n",
       "      <td>...</td>\n",
       "      <td>...</td>\n",
       "      <td>...</td>\n",
       "      <td>...</td>\n",
       "      <td>...</td>\n",
       "    </tr>\n",
       "    <tr>\n",
       "      <th>68</th>\n",
       "      <td>Eevee3</td>\n",
       "      <td>Eevee</td>\n",
       "      <td>500</td>\n",
       "      <td>64</td>\n",
       "      <td>5.11</td>\n",
       "      <td>0.26</td>\n",
       "      <td>2200.0</td>\n",
       "      <td>2</td>\n",
       "      <td>Tackle</td>\n",
       "      <td>Normal</td>\n",
       "      <td>...</td>\n",
       "      <td>0.77</td>\n",
       "      <td>2200</td>\n",
       "      <td>2</td>\n",
       "      <td>Ember</td>\n",
       "      <td>Fire</td>\n",
       "      <td>10</td>\n",
       "      <td>Fire Blast</td>\n",
       "      <td>Fire</td>\n",
       "      <td>100</td>\n",
       "      <td>Normal</td>\n",
       "    </tr>\n",
       "    <tr>\n",
       "      <th>69</th>\n",
       "      <td>Eevee7</td>\n",
       "      <td>Eevee</td>\n",
       "      <td>606</td>\n",
       "      <td>74</td>\n",
       "      <td>10.42</td>\n",
       "      <td>0.38</td>\n",
       "      <td>2500.0</td>\n",
       "      <td>2</td>\n",
       "      <td>Tackle</td>\n",
       "      <td>Normal</td>\n",
       "      <td>...</td>\n",
       "      <td>1.26</td>\n",
       "      <td>2500</td>\n",
       "      <td>2</td>\n",
       "      <td>Water Gun</td>\n",
       "      <td>Water</td>\n",
       "      <td>6</td>\n",
       "      <td>Aqua Tail</td>\n",
       "      <td>Water</td>\n",
       "      <td>45</td>\n",
       "      <td>Normal</td>\n",
       "    </tr>\n",
       "    <tr>\n",
       "      <th>70</th>\n",
       "      <td>Eevee8</td>\n",
       "      <td>Eevee</td>\n",
       "      <td>548</td>\n",
       "      <td>66</td>\n",
       "      <td>6.87</td>\n",
       "      <td>0.32</td>\n",
       "      <td>2500.0</td>\n",
       "      <td>2</td>\n",
       "      <td>Tackle</td>\n",
       "      <td>Normal</td>\n",
       "      <td>...</td>\n",
       "      <td>0.95</td>\n",
       "      <td>2500</td>\n",
       "      <td>2</td>\n",
       "      <td>Ember</td>\n",
       "      <td>Fire</td>\n",
       "      <td>10</td>\n",
       "      <td>Heat Wave</td>\n",
       "      <td>Fire</td>\n",
       "      <td>80</td>\n",
       "      <td>Normal</td>\n",
       "    </tr>\n",
       "    <tr>\n",
       "      <th>71</th>\n",
       "      <td>Eevee9</td>\n",
       "      <td>Eevee</td>\n",
       "      <td>528</td>\n",
       "      <td>66</td>\n",
       "      <td>7.43</td>\n",
       "      <td>0.31</td>\n",
       "      <td>2200.0</td>\n",
       "      <td>2</td>\n",
       "      <td>Quick Attack</td>\n",
       "      <td>Normal</td>\n",
       "      <td>...</td>\n",
       "      <td>0.82</td>\n",
       "      <td>2200</td>\n",
       "      <td>2</td>\n",
       "      <td>Thunder Shock</td>\n",
       "      <td>Electric</td>\n",
       "      <td>5</td>\n",
       "      <td>Thunderbolt</td>\n",
       "      <td>Electric</td>\n",
       "      <td>55</td>\n",
       "      <td>Normal</td>\n",
       "    </tr>\n",
       "    <tr>\n",
       "      <th>72</th>\n",
       "      <td>Eevee10</td>\n",
       "      <td>Eevee</td>\n",
       "      <td>517</td>\n",
       "      <td>72</td>\n",
       "      <td>6.63</td>\n",
       "      <td>0.29</td>\n",
       "      <td>2500.0</td>\n",
       "      <td>2</td>\n",
       "      <td>Tackle</td>\n",
       "      <td>Normal</td>\n",
       "      <td>...</td>\n",
       "      <td>0.88</td>\n",
       "      <td>2500</td>\n",
       "      <td>2</td>\n",
       "      <td>Ember</td>\n",
       "      <td>Fire</td>\n",
       "      <td>10</td>\n",
       "      <td>Heat Wave</td>\n",
       "      <td>Fire</td>\n",
       "      <td>80</td>\n",
       "      <td>Normal</td>\n",
       "    </tr>\n",
       "  </tbody>\n",
       "</table>\n",
       "<p>73 rows × 27 columns</p>\n",
       "</div>"
      ],
      "text/plain": [
       "       name species   cp  hp  weight  height  power_up_stardust  \\\n",
       "0   Pidgey1  Pidgey  384  56    2.31    0.34             2500.0   \n",
       "1   Pidgey2  Pidgey  366  54    1.67    0.29             2500.0   \n",
       "2   Pidgey3  Pidgey  353  55    1.94    0.30             3000.0   \n",
       "3   Pidgey4  Pidgey  338  51    1.73    0.31             3000.0   \n",
       "4   Pidgey5  Pidgey  242  45    1.44    0.27             1900.0   \n",
       "..      ...     ...  ...  ..     ...     ...                ...   \n",
       "68   Eevee3   Eevee  500  64    5.11    0.26             2200.0   \n",
       "69   Eevee7   Eevee  606  74   10.42    0.38             2500.0   \n",
       "70   Eevee8   Eevee  548  66    6.87    0.32             2500.0   \n",
       "71   Eevee9   Eevee  528  66    7.43    0.31             2200.0   \n",
       "72  Eevee10   Eevee  517  72    6.63    0.29             2500.0   \n",
       "\n",
       "    power_up_candy   attack_weak attack_weak_type  ...  height_new  \\\n",
       "0                2        Tackle           Normal  ...        1.24   \n",
       "1                2  Quick Attack           Normal  ...        1.05   \n",
       "2                3  Quick Attack           Normal  ...        1.11   \n",
       "3                3        Tackle           Normal  ...        1.12   \n",
       "4                2  Quick Attack           Normal  ...        0.98   \n",
       "..             ...           ...              ...  ...         ...   \n",
       "68               2        Tackle           Normal  ...        0.77   \n",
       "69               2        Tackle           Normal  ...        1.26   \n",
       "70               2        Tackle           Normal  ...        0.95   \n",
       "71               2  Quick Attack           Normal  ...        0.82   \n",
       "72               2        Tackle           Normal  ...        0.88   \n",
       "\n",
       "   power_up_stardust_new power_up_candy_new  attack_weak_new  \\\n",
       "0                   2500                  2       Steel Wing   \n",
       "1                   2500                  2      Wing Attack   \n",
       "2                   3000                  3      Wing Attack   \n",
       "3                   3000                  3       Steel Wing   \n",
       "4                   1900                  2      Wing Attack   \n",
       "..                   ...                ...              ...   \n",
       "68                  2200                  2            Ember   \n",
       "69                  2500                  2        Water Gun   \n",
       "70                  2500                  2            Ember   \n",
       "71                  2200                  2    Thunder Shock   \n",
       "72                  2500                  2            Ember   \n",
       "\n",
       "    attack_weak_type_new  attack_weak_value_new  attack_strong_new  \\\n",
       "0                  Steel                     15         Air Cutter   \n",
       "1                 Flying                      9         Air Cutter   \n",
       "2                 Flying                      9         Air Cutter   \n",
       "3                  Steel                     15         Air Cutter   \n",
       "4                 Flying                      9            Twister   \n",
       "..                   ...                    ...                ...   \n",
       "68                  Fire                     10         Fire Blast   \n",
       "69                 Water                      6          Aqua Tail   \n",
       "70                  Fire                     10          Heat Wave   \n",
       "71              Electric                      5        Thunderbolt   \n",
       "72                  Fire                     10          Heat Wave   \n",
       "\n",
       "    attack_strong_type_new  attack_strong_value_new    type  \n",
       "0                   Flying                       30  Normal  \n",
       "1                   Flying                       30  Normal  \n",
       "2                   Flying                       30  Normal  \n",
       "3                   Flying                       30  Normal  \n",
       "4                   Dragon                       25  Normal  \n",
       "..                     ...                      ...     ...  \n",
       "68                    Fire                      100  Normal  \n",
       "69                   Water                       45  Normal  \n",
       "70                    Fire                       80  Normal  \n",
       "71                Electric                       55  Normal  \n",
       "72                    Fire                       80  Normal  \n",
       "\n",
       "[73 rows x 27 columns]"
      ]
     },
     "execution_count": 16,
     "metadata": {},
     "output_type": "execute_result"
    }
   ],
   "source": [
    "df=pd.merge(df,df_pokemon_type)\n",
    "df"
   ]
  },
  {
   "cell_type": "markdown",
   "metadata": {},
   "source": [
    "Now df has the type variable which list the type of pokemon each species is."
   ]
  },
  {
   "cell_type": "markdown",
   "metadata": {},
   "source": [
    "## 2.3. CP Analysis\n",
    "\n",
    "Next, we would like to analyze the CP values for the pokemon in the dataset. \n",
    "\n",
    "\n",
    "### 2.3.1. Highest and Lowest CP Values\n",
    "\n",
    "Display a dataframe that contains just the pokemon name, their species, their type, and the CP value. In addition, this dataframe should only display the pokemon with the 5 highest CP values and the 5 lowest CP values. These 10 rows should be in order from highest CP to lowest CP."
   ]
  },
  {
   "cell_type": "code",
   "execution_count": 17,
   "metadata": {},
   "outputs": [
    {
     "data": {
      "text/html": [
       "<div>\n",
       "<style scoped>\n",
       "    .dataframe tbody tr th:only-of-type {\n",
       "        vertical-align: middle;\n",
       "    }\n",
       "\n",
       "    .dataframe tbody tr th {\n",
       "        vertical-align: top;\n",
       "    }\n",
       "\n",
       "    .dataframe thead th {\n",
       "        text-align: right;\n",
       "    }\n",
       "</style>\n",
       "<table border=\"1\" class=\"dataframe\">\n",
       "  <thead>\n",
       "    <tr style=\"text-align: right;\">\n",
       "      <th></th>\n",
       "      <th>name</th>\n",
       "      <th>species</th>\n",
       "      <th>type</th>\n",
       "      <th>cp</th>\n",
       "    </tr>\n",
       "  </thead>\n",
       "  <tbody>\n",
       "    <tr>\n",
       "      <th>67</th>\n",
       "      <td>Eevee1</td>\n",
       "      <td>Eevee</td>\n",
       "      <td>Normal</td>\n",
       "      <td>619</td>\n",
       "    </tr>\n",
       "    <tr>\n",
       "      <th>69</th>\n",
       "      <td>Eevee7</td>\n",
       "      <td>Eevee</td>\n",
       "      <td>Normal</td>\n",
       "      <td>606</td>\n",
       "    </tr>\n",
       "    <tr>\n",
       "      <th>70</th>\n",
       "      <td>Eevee8</td>\n",
       "      <td>Eevee</td>\n",
       "      <td>Normal</td>\n",
       "      <td>548</td>\n",
       "    </tr>\n",
       "    <tr>\n",
       "      <th>71</th>\n",
       "      <td>Eevee9</td>\n",
       "      <td>Eevee</td>\n",
       "      <td>Normal</td>\n",
       "      <td>528</td>\n",
       "    </tr>\n",
       "    <tr>\n",
       "      <th>72</th>\n",
       "      <td>Eevee10</td>\n",
       "      <td>Eevee</td>\n",
       "      <td>Normal</td>\n",
       "      <td>517</td>\n",
       "    </tr>\n",
       "    <tr>\n",
       "      <th>8</th>\n",
       "      <td>Pidgey9</td>\n",
       "      <td>Pidgey</td>\n",
       "      <td>Normal</td>\n",
       "      <td>24</td>\n",
       "    </tr>\n",
       "    <tr>\n",
       "      <th>52</th>\n",
       "      <td>Weedle16</td>\n",
       "      <td>Weedle</td>\n",
       "      <td>Poison</td>\n",
       "      <td>16</td>\n",
       "    </tr>\n",
       "    <tr>\n",
       "      <th>38</th>\n",
       "      <td>Weedle2</td>\n",
       "      <td>Weedle</td>\n",
       "      <td>Poison</td>\n",
       "      <td>15</td>\n",
       "    </tr>\n",
       "    <tr>\n",
       "      <th>65</th>\n",
       "      <td>Caterpie9</td>\n",
       "      <td>Caterpie</td>\n",
       "      <td>Bug</td>\n",
       "      <td>10</td>\n",
       "    </tr>\n",
       "    <tr>\n",
       "      <th>6</th>\n",
       "      <td>Pidgey7</td>\n",
       "      <td>Pidgey</td>\n",
       "      <td>Normal</td>\n",
       "      <td>10</td>\n",
       "    </tr>\n",
       "  </tbody>\n",
       "</table>\n",
       "</div>"
      ],
      "text/plain": [
       "         name   species    type   cp\n",
       "67     Eevee1     Eevee  Normal  619\n",
       "69     Eevee7     Eevee  Normal  606\n",
       "70     Eevee8     Eevee  Normal  548\n",
       "71     Eevee9     Eevee  Normal  528\n",
       "72    Eevee10     Eevee  Normal  517\n",
       "8     Pidgey9    Pidgey  Normal   24\n",
       "52   Weedle16    Weedle  Poison   16\n",
       "38    Weedle2    Weedle  Poison   15\n",
       "65  Caterpie9  Caterpie     Bug   10\n",
       "6     Pidgey7    Pidgey  Normal   10"
      ]
     },
     "execution_count": 17,
     "metadata": {},
     "output_type": "execute_result"
    }
   ],
   "source": [
    "#One way\n",
    "df[['name','species','type','cp']].sort_values(by=['cp'], ascending=False).iloc[[0,1,2,3,4,68,69,70,71,72],:]"
   ]
  },
  {
   "cell_type": "markdown",
   "metadata": {},
   "source": [
    "### 2.3.2 Names of the Pokemon with the Highest CP for Each Species of Pokemon\n",
    "\n",
    "For **each of the 4 species** of Pokemon in this dataset (Eevee, Pidgey, Weedle, and Caterpie), find the **name** of the pokemon with the **highest CP**.\n",
    "\n",
    "Display your results in a dataframe that:\n",
    "* has three columns: species, name, and CP\n",
    "* has an index going from 0,1,2,... etc"
   ]
  },
  {
   "cell_type": "markdown",
   "metadata": {},
   "source": [
    "First, we can use the groupby function to find the highest pokemon CP value for each of the four types of species."
   ]
  },
  {
   "cell_type": "code",
   "execution_count": 18,
   "metadata": {},
   "outputs": [
    {
     "data": {
      "text/html": [
       "<div>\n",
       "<style scoped>\n",
       "    .dataframe tbody tr th:only-of-type {\n",
       "        vertical-align: middle;\n",
       "    }\n",
       "\n",
       "    .dataframe tbody tr th {\n",
       "        vertical-align: top;\n",
       "    }\n",
       "\n",
       "    .dataframe thead th {\n",
       "        text-align: right;\n",
       "    }\n",
       "</style>\n",
       "<table border=\"1\" class=\"dataframe\">\n",
       "  <thead>\n",
       "    <tr style=\"text-align: right;\">\n",
       "      <th></th>\n",
       "      <th>cp</th>\n",
       "    </tr>\n",
       "    <tr>\n",
       "      <th>species</th>\n",
       "      <th></th>\n",
       "    </tr>\n",
       "  </thead>\n",
       "  <tbody>\n",
       "    <tr>\n",
       "      <th>Caterpie</th>\n",
       "      <td>231</td>\n",
       "    </tr>\n",
       "    <tr>\n",
       "      <th>Eevee</th>\n",
       "      <td>619</td>\n",
       "    </tr>\n",
       "    <tr>\n",
       "      <th>Pidgey</th>\n",
       "      <td>384</td>\n",
       "    </tr>\n",
       "    <tr>\n",
       "      <th>Weedle</th>\n",
       "      <td>251</td>\n",
       "    </tr>\n",
       "  </tbody>\n",
       "</table>\n",
       "</div>"
      ],
      "text/plain": [
       "           cp\n",
       "species      \n",
       "Caterpie  231\n",
       "Eevee     619\n",
       "Pidgey    384\n",
       "Weedle    251"
      ]
     },
     "execution_count": 18,
     "metadata": {},
     "output_type": "execute_result"
    }
   ],
   "source": [
    "df_species_max_cp = df[['species', 'cp']].groupby(['species']).max()\n",
    "df_species_max_cp"
   ]
  },
  {
   "cell_type": "markdown",
   "metadata": {},
   "source": [
    "We would want to reset the index to create two columns: species and CP, rather than having the species as the index."
   ]
  },
  {
   "cell_type": "code",
   "execution_count": 19,
   "metadata": {},
   "outputs": [
    {
     "data": {
      "text/html": [
       "<div>\n",
       "<style scoped>\n",
       "    .dataframe tbody tr th:only-of-type {\n",
       "        vertical-align: middle;\n",
       "    }\n",
       "\n",
       "    .dataframe tbody tr th {\n",
       "        vertical-align: top;\n",
       "    }\n",
       "\n",
       "    .dataframe thead th {\n",
       "        text-align: right;\n",
       "    }\n",
       "</style>\n",
       "<table border=\"1\" class=\"dataframe\">\n",
       "  <thead>\n",
       "    <tr style=\"text-align: right;\">\n",
       "      <th></th>\n",
       "      <th>species</th>\n",
       "      <th>cp</th>\n",
       "    </tr>\n",
       "  </thead>\n",
       "  <tbody>\n",
       "    <tr>\n",
       "      <th>0</th>\n",
       "      <td>Caterpie</td>\n",
       "      <td>231</td>\n",
       "    </tr>\n",
       "    <tr>\n",
       "      <th>1</th>\n",
       "      <td>Eevee</td>\n",
       "      <td>619</td>\n",
       "    </tr>\n",
       "    <tr>\n",
       "      <th>2</th>\n",
       "      <td>Pidgey</td>\n",
       "      <td>384</td>\n",
       "    </tr>\n",
       "    <tr>\n",
       "      <th>3</th>\n",
       "      <td>Weedle</td>\n",
       "      <td>251</td>\n",
       "    </tr>\n",
       "  </tbody>\n",
       "</table>\n",
       "</div>"
      ],
      "text/plain": [
       "    species   cp\n",
       "0  Caterpie  231\n",
       "1     Eevee  619\n",
       "2    Pidgey  384\n",
       "3    Weedle  251"
      ]
     },
     "execution_count": 19,
     "metadata": {},
     "output_type": "execute_result"
    }
   ],
   "source": [
    "df_species_max_cp=df[['species', 'cp']].groupby(['species']).max().reset_index()\n",
    "df_species_max_cp"
   ]
  },
  {
   "cell_type": "markdown",
   "metadata": {},
   "source": [
    "Now, to find the **names** of the particular pokemon that are (Caterpie with a CP=231), (Eevee with a CP=619), (Pidgey with a CP=384), and (Weedle with a CP=251), we will **merge** our *df* dataframe with our *df_species_max_cp* on two primary key values: **species** and **cp**. \n",
    "\n",
    "That is, our merge will only return rows from both dataframes that have a *match* on both the *species* and the *cp* columns."
   ]
  },
  {
   "cell_type": "code",
   "execution_count": 20,
   "metadata": {},
   "outputs": [
    {
     "data": {
      "text/html": [
       "<div>\n",
       "<style scoped>\n",
       "    .dataframe tbody tr th:only-of-type {\n",
       "        vertical-align: middle;\n",
       "    }\n",
       "\n",
       "    .dataframe tbody tr th {\n",
       "        vertical-align: top;\n",
       "    }\n",
       "\n",
       "    .dataframe thead th {\n",
       "        text-align: right;\n",
       "    }\n",
       "</style>\n",
       "<table border=\"1\" class=\"dataframe\">\n",
       "  <thead>\n",
       "    <tr style=\"text-align: right;\">\n",
       "      <th></th>\n",
       "      <th>name</th>\n",
       "      <th>species</th>\n",
       "      <th>cp</th>\n",
       "      <th>hp</th>\n",
       "      <th>weight</th>\n",
       "      <th>height</th>\n",
       "      <th>power_up_stardust</th>\n",
       "      <th>power_up_candy</th>\n",
       "      <th>attack_weak</th>\n",
       "      <th>attack_weak_type</th>\n",
       "      <th>...</th>\n",
       "      <th>height_new</th>\n",
       "      <th>power_up_stardust_new</th>\n",
       "      <th>power_up_candy_new</th>\n",
       "      <th>attack_weak_new</th>\n",
       "      <th>attack_weak_type_new</th>\n",
       "      <th>attack_weak_value_new</th>\n",
       "      <th>attack_strong_new</th>\n",
       "      <th>attack_strong_type_new</th>\n",
       "      <th>attack_strong_value_new</th>\n",
       "      <th>type</th>\n",
       "    </tr>\n",
       "  </thead>\n",
       "  <tbody>\n",
       "    <tr>\n",
       "      <th>0</th>\n",
       "      <td>Pidgey1</td>\n",
       "      <td>Pidgey</td>\n",
       "      <td>384</td>\n",
       "      <td>56</td>\n",
       "      <td>2.31</td>\n",
       "      <td>0.34</td>\n",
       "      <td>2500.0</td>\n",
       "      <td>2</td>\n",
       "      <td>Tackle</td>\n",
       "      <td>Normal</td>\n",
       "      <td>...</td>\n",
       "      <td>1.24</td>\n",
       "      <td>2500</td>\n",
       "      <td>2</td>\n",
       "      <td>Steel Wing</td>\n",
       "      <td>Steel</td>\n",
       "      <td>15</td>\n",
       "      <td>Air Cutter</td>\n",
       "      <td>Flying</td>\n",
       "      <td>30</td>\n",
       "      <td>Normal</td>\n",
       "    </tr>\n",
       "    <tr>\n",
       "      <th>1</th>\n",
       "      <td>Weedle5</td>\n",
       "      <td>Weedle</td>\n",
       "      <td>251</td>\n",
       "      <td>56</td>\n",
       "      <td>4.51</td>\n",
       "      <td>0.34</td>\n",
       "      <td>2500.0</td>\n",
       "      <td>2</td>\n",
       "      <td>Poison Sting</td>\n",
       "      <td>Poison</td>\n",
       "      <td>...</td>\n",
       "      <td>0.67</td>\n",
       "      <td>2500</td>\n",
       "      <td>2</td>\n",
       "      <td>Poison Sting</td>\n",
       "      <td>Poison</td>\n",
       "      <td>6</td>\n",
       "      <td>Struggle</td>\n",
       "      <td>Normal</td>\n",
       "      <td>15</td>\n",
       "      <td>Poison</td>\n",
       "    </tr>\n",
       "    <tr>\n",
       "      <th>2</th>\n",
       "      <td>Caterpie2</td>\n",
       "      <td>Caterpie</td>\n",
       "      <td>231</td>\n",
       "      <td>62</td>\n",
       "      <td>3.80</td>\n",
       "      <td>0.32</td>\n",
       "      <td>2500.0</td>\n",
       "      <td>2</td>\n",
       "      <td>Bug Bite</td>\n",
       "      <td>Bug</td>\n",
       "      <td>...</td>\n",
       "      <td>0.75</td>\n",
       "      <td>2500</td>\n",
       "      <td>2</td>\n",
       "      <td>Tackle</td>\n",
       "      <td>Normal</td>\n",
       "      <td>12</td>\n",
       "      <td>Struggle</td>\n",
       "      <td>Normal</td>\n",
       "      <td>15</td>\n",
       "      <td>Bug</td>\n",
       "    </tr>\n",
       "    <tr>\n",
       "      <th>3</th>\n",
       "      <td>Eevee1</td>\n",
       "      <td>Eevee</td>\n",
       "      <td>619</td>\n",
       "      <td>74</td>\n",
       "      <td>2.87</td>\n",
       "      <td>0.20</td>\n",
       "      <td>3000.0</td>\n",
       "      <td>3</td>\n",
       "      <td>Quick Attack</td>\n",
       "      <td>Normal</td>\n",
       "      <td>...</td>\n",
       "      <td>0.68</td>\n",
       "      <td>3000</td>\n",
       "      <td>3</td>\n",
       "      <td>Water Gun</td>\n",
       "      <td>Water</td>\n",
       "      <td>6</td>\n",
       "      <td>Aqua Tail</td>\n",
       "      <td>Water</td>\n",
       "      <td>45</td>\n",
       "      <td>Normal</td>\n",
       "    </tr>\n",
       "  </tbody>\n",
       "</table>\n",
       "<p>4 rows × 27 columns</p>\n",
       "</div>"
      ],
      "text/plain": [
       "        name   species   cp  hp  weight  height  power_up_stardust  \\\n",
       "0    Pidgey1    Pidgey  384  56    2.31    0.34             2500.0   \n",
       "1    Weedle5    Weedle  251  56    4.51    0.34             2500.0   \n",
       "2  Caterpie2  Caterpie  231  62    3.80    0.32             2500.0   \n",
       "3     Eevee1     Eevee  619  74    2.87    0.20             3000.0   \n",
       "\n",
       "   power_up_candy   attack_weak attack_weak_type  ...  height_new  \\\n",
       "0               2        Tackle           Normal  ...        1.24   \n",
       "1               2  Poison Sting           Poison  ...        0.67   \n",
       "2               2      Bug Bite              Bug  ...        0.75   \n",
       "3               3  Quick Attack           Normal  ...        0.68   \n",
       "\n",
       "  power_up_stardust_new power_up_candy_new  attack_weak_new  \\\n",
       "0                  2500                  2       Steel Wing   \n",
       "1                  2500                  2     Poison Sting   \n",
       "2                  2500                  2           Tackle   \n",
       "3                  3000                  3        Water Gun   \n",
       "\n",
       "   attack_weak_type_new  attack_weak_value_new  attack_strong_new  \\\n",
       "0                 Steel                     15         Air Cutter   \n",
       "1                Poison                      6           Struggle   \n",
       "2                Normal                     12           Struggle   \n",
       "3                 Water                      6          Aqua Tail   \n",
       "\n",
       "   attack_strong_type_new  attack_strong_value_new    type  \n",
       "0                  Flying                       30  Normal  \n",
       "1                  Normal                       15  Poison  \n",
       "2                  Normal                       15     Bug  \n",
       "3                   Water                       45  Normal  \n",
       "\n",
       "[4 rows x 27 columns]"
      ]
     },
     "execution_count": 20,
     "metadata": {},
     "output_type": "execute_result"
    }
   ],
   "source": [
    "df_merge=pd.merge(df, df_species_max_cp, on=['species', 'cp'])\n",
    "df_merge"
   ]
  },
  {
   "cell_type": "markdown",
   "metadata": {},
   "source": [
    "The dataframe above returned too much information, we only want the **species**, **name**, and **cp** columns."
   ]
  },
  {
   "cell_type": "code",
   "execution_count": 21,
   "metadata": {},
   "outputs": [
    {
     "data": {
      "text/html": [
       "<div>\n",
       "<style scoped>\n",
       "    .dataframe tbody tr th:only-of-type {\n",
       "        vertical-align: middle;\n",
       "    }\n",
       "\n",
       "    .dataframe tbody tr th {\n",
       "        vertical-align: top;\n",
       "    }\n",
       "\n",
       "    .dataframe thead th {\n",
       "        text-align: right;\n",
       "    }\n",
       "</style>\n",
       "<table border=\"1\" class=\"dataframe\">\n",
       "  <thead>\n",
       "    <tr style=\"text-align: right;\">\n",
       "      <th></th>\n",
       "      <th>species</th>\n",
       "      <th>name</th>\n",
       "      <th>cp</th>\n",
       "    </tr>\n",
       "  </thead>\n",
       "  <tbody>\n",
       "    <tr>\n",
       "      <th>0</th>\n",
       "      <td>Pidgey</td>\n",
       "      <td>Pidgey1</td>\n",
       "      <td>384</td>\n",
       "    </tr>\n",
       "    <tr>\n",
       "      <th>1</th>\n",
       "      <td>Weedle</td>\n",
       "      <td>Weedle5</td>\n",
       "      <td>251</td>\n",
       "    </tr>\n",
       "    <tr>\n",
       "      <th>2</th>\n",
       "      <td>Caterpie</td>\n",
       "      <td>Caterpie2</td>\n",
       "      <td>231</td>\n",
       "    </tr>\n",
       "    <tr>\n",
       "      <th>3</th>\n",
       "      <td>Eevee</td>\n",
       "      <td>Eevee1</td>\n",
       "      <td>619</td>\n",
       "    </tr>\n",
       "  </tbody>\n",
       "</table>\n",
       "</div>"
      ],
      "text/plain": [
       "    species       name   cp\n",
       "0    Pidgey    Pidgey1  384\n",
       "1    Weedle    Weedle5  251\n",
       "2  Caterpie  Caterpie2  231\n",
       "3     Eevee     Eevee1  619"
      ]
     },
     "execution_count": 21,
     "metadata": {},
     "output_type": "execute_result"
    }
   ],
   "source": [
    "df_merge = df_merge[['species', 'name', 'cp']]\n",
    "df_merge"
   ]
  },
  {
   "cell_type": "markdown",
   "metadata": {},
   "source": [
    "## 3. Descriptive Analytics\n",
    "\n",
    "### 3.1. Species and Attack Weak Type Relationship\n",
    "\n",
    "Is there an association between the species of a pokemon and their attack weak types in this dataset? Visualize the relationship between these two variables. "
   ]
  },
  {
   "cell_type": "code",
   "execution_count": 22,
   "metadata": {},
   "outputs": [
    {
     "data": {
      "text/html": [
       "<div>\n",
       "<style scoped>\n",
       "    .dataframe tbody tr th:only-of-type {\n",
       "        vertical-align: middle;\n",
       "    }\n",
       "\n",
       "    .dataframe tbody tr th {\n",
       "        vertical-align: top;\n",
       "    }\n",
       "\n",
       "    .dataframe thead th {\n",
       "        text-align: right;\n",
       "    }\n",
       "</style>\n",
       "<table border=\"1\" class=\"dataframe\">\n",
       "  <thead>\n",
       "    <tr style=\"text-align: right;\">\n",
       "      <th>attack_weak</th>\n",
       "      <th>Bug Bite</th>\n",
       "      <th>Poison Sting</th>\n",
       "      <th>Quick Attack</th>\n",
       "      <th>Tackle</th>\n",
       "    </tr>\n",
       "    <tr>\n",
       "      <th>species</th>\n",
       "      <th></th>\n",
       "      <th></th>\n",
       "      <th></th>\n",
       "      <th></th>\n",
       "    </tr>\n",
       "  </thead>\n",
       "  <tbody>\n",
       "    <tr>\n",
       "      <th>Caterpie</th>\n",
       "      <td>0.5</td>\n",
       "      <td>0.0</td>\n",
       "      <td>0.000000</td>\n",
       "      <td>0.500000</td>\n",
       "    </tr>\n",
       "    <tr>\n",
       "      <th>Eevee</th>\n",
       "      <td>0.0</td>\n",
       "      <td>0.0</td>\n",
       "      <td>0.333333</td>\n",
       "      <td>0.666667</td>\n",
       "    </tr>\n",
       "    <tr>\n",
       "      <th>Pidgey</th>\n",
       "      <td>0.0</td>\n",
       "      <td>0.0</td>\n",
       "      <td>0.432432</td>\n",
       "      <td>0.567568</td>\n",
       "    </tr>\n",
       "    <tr>\n",
       "      <th>Weedle</th>\n",
       "      <td>0.5</td>\n",
       "      <td>0.5</td>\n",
       "      <td>0.000000</td>\n",
       "      <td>0.000000</td>\n",
       "    </tr>\n",
       "  </tbody>\n",
       "</table>\n",
       "</div>"
      ],
      "text/plain": [
       "attack_weak  Bug Bite  Poison Sting  Quick Attack    Tackle\n",
       "species                                                    \n",
       "Caterpie          0.5           0.0      0.000000  0.500000\n",
       "Eevee             0.0           0.0      0.333333  0.666667\n",
       "Pidgey            0.0           0.0      0.432432  0.567568\n",
       "Weedle            0.5           0.5      0.000000  0.000000"
      ]
     },
     "execution_count": 22,
     "metadata": {},
     "output_type": "execute_result"
    }
   ],
   "source": [
    "temp=pd.crosstab(df['species'], df['attack_weak'], normalize='index')\n",
    "temp"
   ]
  },
  {
   "cell_type": "code",
   "execution_count": 23,
   "metadata": {},
   "outputs": [
    {
     "data": {
      "image/png": "[encoded data removed]",
      "text/plain": [
       "<Figure size 432x288 with 1 Axes>"
      ]
     },
     "metadata": {
      "needs_background": "light"
     },
     "output_type": "display_data"
    }
   ],
   "source": [
    "temp.plot.bar()\n",
    "plt.title('Attack Weak Types of Different Species')\n",
    "plt.ylabel('Frequency')\n",
    "plt.legend(bbox_to_anchor=(1,1))\n",
    "plt.show()"
   ]
  },
  {
   "cell_type": "markdown",
   "metadata": {},
   "source": [
    "Yes, there is an association between species and attack weak types in this dataset. For instance, Pidgey's are more likely to use 'quick attacks' than Eevees. Thus, there is an association.\n",
    "\n",
    "\n",
    "(In general, if at least one color has boxes that are of different heights in the plot above, then there is an association between the two categorical variables.)"
   ]
  },
  {
   "cell_type": "markdown",
   "metadata": {},
   "source": [
    "### 3.2. Pokemon Type and CP Relationship\n",
    "\n",
    "Is there an association between the pokemon type and CP for the pokemon in this dataset?\n",
    "\n",
    "#### 3.1. Visualization\n",
    "\n",
    "Create a side-by-side boxplot, plotting the CP of the pokemon that have each of the three different pokemon types.\n",
    "Also create a side-by-side violin plot, plotting the CP of the pokemon that have each of the three different pokemon types."
   ]
  },
  {
   "cell_type": "code",
   "execution_count": 24,
   "metadata": {},
   "outputs": [
    {
     "data": {
      "image/png": "[encoded data removed]",
      "text/plain": [
       "<Figure size 432x288 with 1 Axes>"
      ]
     },
     "metadata": {
      "needs_background": "light"
     },
     "output_type": "display_data"
    }
   ],
   "source": [
    "sns.boxplot(x=\"type\", y=\"cp\", data=df)\n",
    "plt.title('Pokemon Type and CP')\n",
    "plt.show()"
   ]
  },
  {
   "cell_type": "code",
   "execution_count": 25,
   "metadata": {},
   "outputs": [
    {
     "data": {
      "image/png": "[encoded data removed]",
      "text/plain": [
       "<Figure size 432x288 with 1 Axes>"
      ]
     },
     "metadata": {
      "needs_background": "light"
     },
     "output_type": "display_data"
    }
   ],
   "source": [
    "sns.violinplot(x=\"type\", y=\"cp\", data=df)\n",
    "plt.title('Pokemon Type and CP')\n",
    "plt.show()"
   ]
  },
  {
   "cell_type": "markdown",
   "metadata": {},
   "source": [
    "#### 3.2. Comparison\n",
    "\n",
    "Compare the CP distributions of each of the three pokemon types.\n",
    "\n",
    "1. Compare the shapes of the three distributions\n",
    "2. Compare the measures of center for the three distributions (make sure you choose the appropriate measure of center to compare here). **Actually calculate these three measures of center below**.\n",
    "3. Compare the measures of spread for the three distributions (make sure you choose the appropriate measure of spread to compare here). **Actually calculate these three measures of spread below**.\n",
    "2. Compare the nature/existence of any outliers for the three distributions.\n",
    "\n",
    "\n"
   ]
  },
  {
   "cell_type": "markdown",
   "metadata": {},
   "source": [
    "1. <u>Shape</u>: The normal pokemon CPs are unimodal heavily skewed to the right, whereas the other types of pokemon CPs are more symmetric and unimodal.\n",
    "2. <u>Measure of Center</u>: The median CP of normal pokemon is higher than the median CPs of poison and bug type pokemon.\n",
    "3. <u>Measure of Spread</u>: The IQR of the normal pokemon types is larger than the IQR for the poison and bug types.\n",
    "4. <u>Outliers</u>: None of these three CP distributions have any outlier CP values."
   ]
  },
  {
   "cell_type": "markdown",
   "metadata": {},
   "source": [
    "Because the CP distribution for normal types of pokemon is skewed, we should use the medians as a measure of center to compare and the IQRs as a measure of spread to compare. These summary statistics are better at describing skewed distributions."
   ]
  },
  {
   "cell_type": "code",
   "execution_count": 26,
   "metadata": {},
   "outputs": [
    {
     "data": {
      "text/plain": [
       "226.0"
      ]
     },
     "execution_count": 26,
     "metadata": {},
     "output_type": "execute_result"
    }
   ],
   "source": [
    "df[df['type']=='Normal']['cp'].median()"
   ]
  },
  {
   "cell_type": "code",
   "execution_count": 27,
   "metadata": {},
   "outputs": [
    {
     "data": {
      "text/plain": [
       "134.0"
      ]
     },
     "execution_count": 27,
     "metadata": {},
     "output_type": "execute_result"
    }
   ],
   "source": [
    "df[df['type']=='Poison']['cp'].median()"
   ]
  },
  {
   "cell_type": "code",
   "execution_count": 28,
   "metadata": {},
   "outputs": [
    {
     "data": {
      "text/plain": [
       "138.0"
      ]
     },
     "execution_count": 28,
     "metadata": {},
     "output_type": "execute_result"
    }
   ],
   "source": [
    "df[df['type']=='Bug']['cp'].median()"
   ]
  },
  {
   "cell_type": "code",
   "execution_count": 29,
   "metadata": {},
   "outputs": [
    {
     "data": {
      "text/plain": [
       "224.5"
      ]
     },
     "execution_count": 29,
     "metadata": {},
     "output_type": "execute_result"
    }
   ],
   "source": [
    "df[df['type']=='Normal']['cp'].quantile(.75)-df[df['type']=='Normal']['cp'].quantile(.25)"
   ]
  },
  {
   "cell_type": "code",
   "execution_count": 30,
   "metadata": {},
   "outputs": [
    {
     "data": {
      "text/plain": [
       "113.0"
      ]
     },
     "execution_count": 30,
     "metadata": {},
     "output_type": "execute_result"
    }
   ],
   "source": [
    "df[df['type']=='Poison']['cp'].quantile(.75)-df[df['type']=='Poison']['cp'].quantile(.25)"
   ]
  },
  {
   "cell_type": "code",
   "execution_count": 31,
   "metadata": {},
   "outputs": [
    {
     "data": {
      "text/plain": [
       "80.25"
      ]
     },
     "execution_count": 31,
     "metadata": {},
     "output_type": "execute_result"
    }
   ],
   "source": [
    "df[df['type']=='Bug']['cp'].quantile(.75)-df[df['type']=='Bug']['cp'].quantile(.25)"
   ]
  },
  {
   "cell_type": "markdown",
   "metadata": {},
   "source": [
    "#### 3.3. Association\n",
    "\n",
    "Based on your answers in 3.1 and 3.2, would you say that there exists a *strong* relationship between pokemon type and CP? Why or why not?"
   ]
  },
  {
   "cell_type": "markdown",
   "metadata": {},
   "source": [
    "While the median CP of normal type pokemon is almost twice as high as the medians for Poison and Bug pokemon, because the IQRs of these three distributions overlap quite strongly, there is not a *strong* association between pokemon type and CP in this dataset."
   ]
  },
  {
   "cell_type": "markdown",
   "metadata": {},
   "source": [
    "#### 3.4. More visualizations\n",
    "\n",
    "Plot a histogram for the CP of the normal types of pokemon."
   ]
  },
  {
   "cell_type": "code",
   "execution_count": 32,
   "metadata": {},
   "outputs": [
    {
     "data": {
      "image/png": "[encoded data removed]",
      "text/plain": [
       "<Figure size 432x288 with 1 Axes>"
      ]
     },
     "metadata": {
      "needs_background": "light"
     },
     "output_type": "display_data"
    }
   ],
   "source": [
    "df[df['type']==\"Normal\"]['cp'].hist()\n",
    "plt.title('CP for Normal Types of Pokemon')\n",
    "plt.ylabel('Frequency')\n",
    "plt.xlabel('CP')\n",
    "plt.show()"
   ]
  },
  {
   "cell_type": "markdown",
   "metadata": {},
   "source": [
    "## 5. Probability - (2 Pidgeys, 1 Eevee, 1 Caterpie in a Sample)\n",
    "\n",
    "### 5.1. Theoretical Sample Probability\n",
    "If we were to collect a random sample of 4 pokemon from this dataset (without replacement), what is the probability that we had 2 Pidgeys, 1 Caterpie, and 1 Eevee in our sample?"
   ]
  },
  {
   "cell_type": "markdown",
   "metadata": {},
   "source": [
    "The count breakdown for each type of species in this dataset is shown below."
   ]
  },
  {
   "cell_type": "code",
   "execution_count": 33,
   "metadata": {},
   "outputs": [
    {
     "data": {
      "text/plain": [
       "Pidgey      37\n",
       "Weedle      20\n",
       "Caterpie    10\n",
       "Eevee        6\n",
       "Name: species, dtype: int64"
      ]
     },
     "execution_count": 33,
     "metadata": {},
     "output_type": "execute_result"
    }
   ],
   "source": [
    "df['species'].value_counts()"
   ]
  },
  {
   "cell_type": "markdown",
   "metadata": {},
   "source": [
    "**Does random sample experiment follow the uniform probability model?**\n",
    "The likelihood of selecting any one particular *pokemon* to be in this sample is no different than any other. Thus any sample of 4 pokemon from our dataset is no more likely than any other. So we can use the uniform probability model to calculate this probability.\n",
    "\n",
    "**Denominator**:\n",
    "First, we need to calculate how many ways we can create a sample of k=4 pokemon from a population of size n=73, where the **order/allocation of the pokemon in the sample does not matter**, and we are drawing from the population **without replacement**.\n",
    "\n",
    "This can be calculated with the function ${n\\choose k}={73\\choose 4}=\\frac{73\\times72\\times71\\times70\\times69...\\times 1}{(4\\times3\\times2\\times 1)(69\\times...\\times 1)}=1088430$"
   ]
  },
  {
   "cell_type": "code",
   "execution_count": 34,
   "metadata": {},
   "outputs": [
    {
     "data": {
      "text/plain": [
       "1088430.0"
      ]
     },
     "execution_count": 34,
     "metadata": {},
     "output_type": "execute_result"
    }
   ],
   "source": [
    "denominator=(73*72*71*70)/(4*3*2*1)\n",
    "denominator"
   ]
  },
  {
   "cell_type": "markdown",
   "metadata": {},
   "source": [
    "**Numerator**:\n",
    "Next, in our numerator we need to calculate all ways we could have 2 Pidgeys, 1 Caterpie, and 1 Eevee in the sample. Thus we have three decisions we would need to make:\n",
    "* Which k=2 Pidgeys out the n=37 do we put in the sample?\n",
    "    - We also do not care about the order/allocation of Pidgeys in this sample of 2.\n",
    "    - Thus the number of ways to have 2 pidgeys can be calculated as ${n\\choose k}={37\\choose 2}=\\frac{37\\times36\\times35...\\times 1}{(2\\times 1)(35\\times...\\times 1)}=666$\n",
    "* Which k=1 Caterpie out the n=10 do we put in the sample?\n",
    "    - We also do not care about the order/allocation of Caterpie in this sample of 1.\n",
    "    - Thus the number of ways to have 1 caterpie can be calculated as ${n\\choose k}={10\\choose 1}=10$\n",
    "* Which k=1 Eevee out the n=6 do we put in the sample?\n",
    "    - We also do not care about the order/allocation of eevee in this sample of 1.\n",
    "    - Thus the number of ways to have 1 eevee can be calculated as ${n\\choose k}={6\\choose 1}=6$\n",
    "\n",
    "Thus, the total number of ways we could have 2 Pidgeys, 1 Caterpie, and 1 Eevee in the sample is: $666\\times10\\times6=39960$"
   ]
  },
  {
   "cell_type": "code",
   "execution_count": 35,
   "metadata": {},
   "outputs": [
    {
     "data": {
      "text/plain": [
       "666.0"
      ]
     },
     "execution_count": 35,
     "metadata": {},
     "output_type": "execute_result"
    }
   ],
   "source": [
    "(37*36)/(2*1)"
   ]
  },
  {
   "cell_type": "code",
   "execution_count": 36,
   "metadata": {},
   "outputs": [
    {
     "data": {
      "text/plain": [
       "39960"
      ]
     },
     "execution_count": 36,
     "metadata": {},
     "output_type": "execute_result"
    }
   ],
   "source": [
    "numerator=666*10*6\n",
    "numerator"
   ]
  },
  {
   "cell_type": "markdown",
   "metadata": {},
   "source": [
    "Thus the probability of having 2 pidgeys, 1 caterpie, and 1 eevee in the sample is $\\frac{39960}{1088430}=0.0367$."
   ]
  },
  {
   "cell_type": "code",
   "execution_count": 37,
   "metadata": {},
   "outputs": [
    {
     "data": {
      "text/plain": [
       "0.03671343127256691"
      ]
     },
     "execution_count": 37,
     "metadata": {},
     "output_type": "execute_result"
    }
   ],
   "source": [
    "theoretical_proability=numerator/denominator\n",
    "theoretical_proability"
   ]
  },
  {
   "cell_type": "markdown",
   "metadata": {},
   "source": [
    "### 5.2. Approximating the Probability Through Simulations\n",
    "\n",
    "Next, we would like to approximate this probability that we randomly select a sample with 2 pidgeys, 1 caterpie and 1 eevee through a simulation."
   ]
  },
  {
   "cell_type": "markdown",
   "metadata": {},
   "source": [
    "**Tutorial:** We can use the **.tolist()** function to convert a pandas series into a list."
   ]
  },
  {
   "cell_type": "code",
   "execution_count": 38,
   "metadata": {},
   "outputs": [
    {
     "data": {
      "text/plain": [
       "0    Pidgey\n",
       "1    Pidgey\n",
       "2     Eevee\n",
       "dtype: object"
      ]
     },
     "execution_count": 38,
     "metadata": {},
     "output_type": "execute_result"
    }
   ],
   "source": [
    "sample = pd.Series(['Pidgey', 'Pidgey', 'Eevee'])\n",
    "sample"
   ]
  },
  {
   "cell_type": "code",
   "execution_count": 39,
   "metadata": {},
   "outputs": [
    {
     "data": {
      "text/plain": [
       "['Pidgey', 'Pidgey', 'Eevee']"
      ]
     },
     "execution_count": 39,
     "metadata": {},
     "output_type": "execute_result"
    }
   ],
   "source": [
    "sample_list=sample.tolist()\n",
    "sample_list"
   ]
  },
  {
   "cell_type": "markdown",
   "metadata": {},
   "source": [
    "#### 5.2.1. Random sample\n",
    "First, collect a random sample of 4 pokemon from the population without replacement. Use a random state of 88. Also, sort this sample alphabetically (by the species name)."
   ]
  },
  {
   "cell_type": "code",
   "execution_count": 40,
   "metadata": {},
   "outputs": [
    {
     "data": {
      "text/plain": [
       "60    Caterpie\n",
       "8       Pidgey\n",
       "27      Pidgey\n",
       "36      Pidgey\n",
       "Name: species, dtype: object"
      ]
     },
     "execution_count": 40,
     "metadata": {},
     "output_type": "execute_result"
    }
   ],
   "source": [
    "sample=df['species'].sample(4, random_state=88).sort_values()\n",
    "sample"
   ]
  },
  {
   "cell_type": "markdown",
   "metadata": {},
   "source": [
    "#### 5.2.2. Sample Checking Function\n",
    "\n",
    "Let's use this to make a function that checks whether our random sample is comprised of two pidgeys, one caterpie, and one eevee."
   ]
  },
  {
   "cell_type": "code",
   "execution_count": 41,
   "metadata": {},
   "outputs": [],
   "source": [
    "def is_success_sample(species_list):\n",
    "    if species_list==['Caterpie', 'Eevee', 'Pidgey', 'Pidgey']:\n",
    "        return True\n",
    "    else:\n",
    "        return False"
   ]
  },
  {
   "cell_type": "code",
   "execution_count": 42,
   "metadata": {},
   "outputs": [
    {
     "data": {
      "text/plain": [
       "False"
      ]
     },
     "execution_count": 42,
     "metadata": {},
     "output_type": "execute_result"
    }
   ],
   "source": [
    "is_success_sample(sample_list)"
   ]
  },
  {
   "cell_type": "markdown",
   "metadata": {},
   "source": [
    "#### 5.2.3. Let's use this function to approximate the probability of randomly selecting an Eevee, a caterpie, and two pidgeys in a random sample from this population.\n",
    "\n",
    "Collect 1000 random samples from the population without replacement and find the proportion of samples that have this species composition."
   ]
  },
  {
   "cell_type": "code",
   "execution_count": 43,
   "metadata": {},
   "outputs": [],
   "source": [
    "success_count=0\n",
    "for i in range(0,1000):\n",
    "    #Collect a random sample\n",
    "    sample=df['species'].sample(4).sort_values()\n",
    "    \n",
    "    #Remember to sort it so your function works\n",
    "    sample_list=sample.tolist()\n",
    "    \n",
    "    #Update the success count with a 1 (success sample) or a 0\n",
    "    success_count+=is_success_sample(sample_list)"
   ]
  },
  {
   "cell_type": "code",
   "execution_count": 44,
   "metadata": {},
   "outputs": [
    {
     "data": {
      "text/plain": [
       "0.037"
      ]
     },
     "execution_count": 44,
     "metadata": {},
     "output_type": "execute_result"
    }
   ],
   "source": [
    "approximated_probability=success_count/1000\n",
    "approximated_probability"
   ]
  },
  {
   "cell_type": "markdown",
   "metadata": {},
   "source": [
    "#### 5.2.4. Comparing\n",
    "\n",
    "How close is this approximate probability from 5.2.3 close to your theoretical probability from 5.1?"
   ]
  },
  {
   "cell_type": "code",
   "execution_count": 45,
   "metadata": {},
   "outputs": [
    {
     "data": {
      "text/plain": [
       "-0.0002865687274330869"
      ]
     },
     "execution_count": 45,
     "metadata": {},
     "output_type": "execute_result"
    }
   ],
   "source": [
    "theoretical_proability-approximated_probability"
   ]
  },
  {
   "cell_type": "markdown",
   "metadata": {},
   "source": [
    "## 6. Probability - Random Sample of 4 Pokemon with Replacement\n",
    "\n",
    "\n",
    "### 6.1. Expected Average Number of Pidgeys\n",
    "\n",
    "Suppose we were to collect many, many random samples of Pokemon from this dataset (WITH replacement). What would we expect the average number of Pidgeys in each of these samples to be?"
   ]
  },
  {
   "cell_type": "markdown",
   "metadata": {},
   "source": [
    "We can define a random variable that will help us answer this question.\n",
    "\n",
    "Let X = # of Pokemon in our random sample (out of n=4) that are a Pidgey.\n",
    "Because 50.7% of the pokemon in this dataset are Pidgeys and because we are randomly sampling WITH replacement, then the probability that each randomly sampled pokemon will be a Pidgey will always be p=0.507."
   ]
  },
  {
   "cell_type": "code",
   "execution_count": 46,
   "metadata": {},
   "outputs": [
    {
     "data": {
      "text/plain": [
       "0.5068493150684932"
      ]
     },
     "execution_count": 46,
     "metadata": {},
     "output_type": "execute_result"
    }
   ],
   "source": [
    "df[df['species']=='Pidgey'].shape[0]/df.shape[0]"
   ]
  },
  {
   "cell_type": "markdown",
   "metadata": {},
   "source": [
    "This random variable actually fits the definition of a binomial random variable. In other words:\n",
    "\n",
    "X = # of independent trials (ie. randomly sampled Pokemon) out of n=4 that are a success (ie. a Pidgey), where the probability of a success (ie. Pidgey) is $p=0.507$.\n",
    "\n",
    "We know that our trial outcomes (ie. whether or not a selected Pokemon is a Pidgey or not) are independent, because we are randomly sampling WITH replacement.\n",
    "\n",
    "Thus, $X\\sim Bin(n=4, p=0.507)$.\n",
    "\n",
    "Therefore, $E[X]$ represents the average value number of Pidgeys we would expect in many, many random samples (with replacement) of 4 pokemon.\n",
    "\n",
    "We know of two ways to calculate $E[X]$, when $X$ is a binomial random variable (you should know both).\n",
    "\n",
    "**Using Python Random Variable Functions**"
   ]
  },
  {
   "cell_type": "code",
   "execution_count": 47,
   "metadata": {},
   "outputs": [
    {
     "data": {
      "text/plain": [
       "2.028"
      ]
     },
     "execution_count": 47,
     "metadata": {},
     "output_type": "execute_result"
    }
   ],
   "source": [
    "from scipy.stats import binom\n",
    "expected_mean = binom.mean(n=4, p=0.507)\n",
    "expected_mean"
   ]
  },
  {
   "cell_type": "markdown",
   "metadata": {},
   "source": [
    "**Using the equation for $E[X]$, when $X\\sim Bin(n,p)$.**"
   ]
  },
  {
   "cell_type": "code",
   "execution_count": 48,
   "metadata": {},
   "outputs": [
    {
     "data": {
      "text/plain": [
       "2.028"
      ]
     },
     "execution_count": 48,
     "metadata": {},
     "output_type": "execute_result"
    }
   ],
   "source": [
    "n=4\n",
    "p=0.507\n",
    "expected_mean = n*p\n",
    "expected_mean"
   ]
  },
  {
   "cell_type": "markdown",
   "metadata": {},
   "source": [
    "### 6.2. Expected Standard Deviation of Pidgeys\n",
    "\n",
    "Suppose we were to collect many, many random samples of Pokemon from this dataset (WITH replacement). What would we expect the standard deviation of Pidgeys in each of these samples to be?"
   ]
  },
  {
   "cell_type": "markdown",
   "metadata": {},
   "source": [
    "$SD[X]$ represents the standard deviation of Pidgeys we would expect in many, many random samples (with replacement) of 4 pokemon.\n",
    "\n",
    "We know of two ways to calculate $sd[X]$, when $X$ is a binomial random variable (you should know both).\n",
    "\n",
    "**Using Python Random Variable Functions**"
   ]
  },
  {
   "cell_type": "code",
   "execution_count": 49,
   "metadata": {},
   "outputs": [
    {
     "data": {
      "text/plain": [
       "0.9999019951975293"
      ]
     },
     "execution_count": 49,
     "metadata": {},
     "output_type": "execute_result"
    }
   ],
   "source": [
    "from scipy.stats import binom\n",
    "expected_std = binom.std(n=4, p=0.507)\n",
    "expected_std"
   ]
  },
  {
   "cell_type": "code",
   "execution_count": 50,
   "metadata": {},
   "outputs": [
    {
     "data": {
      "text/plain": [
       "0.9999019951975293"
      ]
     },
     "execution_count": 50,
     "metadata": {},
     "output_type": "execute_result"
    }
   ],
   "source": [
    "n=4\n",
    "p=0.507\n",
    "expected_std = np.sqrt(n*p*(1-p))\n",
    "expected_std"
   ]
  },
  {
   "cell_type": "markdown",
   "metadata": {},
   "source": [
    "### 6.3. Random Variable Values for X\n",
    "\n",
    "Define a random variable **X = # of Pokemon in our random sample (out of n=4) that are a Pidgey.**\n",
    "\n",
    "#### 6.3.1. Generating Random Variable Values\n",
    "\n",
    " Generate 300 values for this random variable X and put them in a dataframe.\n",
    "\n",
    "(You how to do this in two ways. You should know how to do both)."
   ]
  },
  {
   "cell_type": "markdown",
   "metadata": {},
   "source": [
    "**Eaiser way, just use the .rvs() function**.\n",
    "\n",
    "Because $X\\sim Bin(n=4, p=0.507)$, then we can just use the **binom.rvs()** function generate 300 random variable values for X."
   ]
  },
  {
   "cell_type": "code",
   "execution_count": 51,
   "metadata": {},
   "outputs": [
    {
     "data": {
      "text/plain": [
       "array([3, 3, 3, 3, 1, 2, 3, 3, 3, 2, 1, 2, 1, 2, 1, 1, 1, 2, 3, 2, 2, 2,\n",
       "       2, 3, 1, 3, 2, 4, 2, 3, 2, 4, 2, 1, 1, 3, 2, 3, 2, 3, 2, 3, 3, 1,\n",
       "       4, 2, 1, 1, 2, 2, 3, 4, 3, 1, 3, 2, 3, 3, 3, 1, 1, 2, 1, 4, 2, 1,\n",
       "       3, 3, 2, 4, 3, 2, 3, 3, 2, 1, 2, 2, 3, 2, 3, 4, 2, 3, 3, 2, 3, 3,\n",
       "       3, 1, 1, 3, 2, 3, 3, 1, 3, 4, 2, 1, 3, 2, 1, 2, 0, 2, 1, 3, 2, 2,\n",
       "       2, 1, 4, 2, 1, 1, 2, 2, 1, 2, 3, 2, 1, 0, 2, 2, 2, 2, 1, 2, 2, 4,\n",
       "       3, 1, 1, 4, 2, 3, 2, 4, 1, 1, 3, 0, 1, 0, 2, 3, 3, 3, 1, 1, 2, 1,\n",
       "       2, 3, 2, 2, 4, 2, 0, 1, 4, 2, 1, 2, 2, 2, 2, 2, 2, 2, 1, 1, 0, 3,\n",
       "       1, 3, 2, 3, 4, 2, 2, 0, 2, 3, 1, 3, 1, 2, 2, 2, 3, 3, 2, 3, 1, 4,\n",
       "       3, 0, 2, 1, 4, 2, 0, 2, 1, 2, 4, 1, 1, 2, 1, 3, 1, 2, 3, 1, 1, 0,\n",
       "       1, 1, 2, 3, 3, 0, 4, 3, 1, 2, 3, 0, 2, 1, 1, 2, 1, 3, 0, 2, 2, 2,\n",
       "       3, 1, 2, 3, 1, 0, 2, 1, 1, 1, 3, 2, 2, 2, 2, 2, 2, 2, 4, 3, 3, 3,\n",
       "       2, 2, 0, 1, 2, 1, 3, 1, 1, 3, 1, 1, 2, 2, 1, 3, 2, 3, 2, 2, 2, 2,\n",
       "       3, 2, 1, 2, 1, 2, 2, 1, 2, 0, 2, 2, 3, 2])"
      ]
     },
     "execution_count": 51,
     "metadata": {},
     "output_type": "execute_result"
    }
   ],
   "source": [
    "X_list = binom.rvs(n=4, p=0.507, size=300)\n",
    "X_list"
   ]
  },
  {
   "cell_type": "code",
   "execution_count": 52,
   "metadata": {},
   "outputs": [
    {
     "data": {
      "text/html": [
       "<div>\n",
       "<style scoped>\n",
       "    .dataframe tbody tr th:only-of-type {\n",
       "        vertical-align: middle;\n",
       "    }\n",
       "\n",
       "    .dataframe tbody tr th {\n",
       "        vertical-align: top;\n",
       "    }\n",
       "\n",
       "    .dataframe thead th {\n",
       "        text-align: right;\n",
       "    }\n",
       "</style>\n",
       "<table border=\"1\" class=\"dataframe\">\n",
       "  <thead>\n",
       "    <tr style=\"text-align: right;\">\n",
       "      <th></th>\n",
       "      <th>X</th>\n",
       "    </tr>\n",
       "  </thead>\n",
       "  <tbody>\n",
       "    <tr>\n",
       "      <th>0</th>\n",
       "      <td>3</td>\n",
       "    </tr>\n",
       "    <tr>\n",
       "      <th>1</th>\n",
       "      <td>3</td>\n",
       "    </tr>\n",
       "    <tr>\n",
       "      <th>2</th>\n",
       "      <td>3</td>\n",
       "    </tr>\n",
       "    <tr>\n",
       "      <th>3</th>\n",
       "      <td>3</td>\n",
       "    </tr>\n",
       "    <tr>\n",
       "      <th>4</th>\n",
       "      <td>1</td>\n",
       "    </tr>\n",
       "    <tr>\n",
       "      <th>...</th>\n",
       "      <td>...</td>\n",
       "    </tr>\n",
       "    <tr>\n",
       "      <th>295</th>\n",
       "      <td>0</td>\n",
       "    </tr>\n",
       "    <tr>\n",
       "      <th>296</th>\n",
       "      <td>2</td>\n",
       "    </tr>\n",
       "    <tr>\n",
       "      <th>297</th>\n",
       "      <td>2</td>\n",
       "    </tr>\n",
       "    <tr>\n",
       "      <th>298</th>\n",
       "      <td>3</td>\n",
       "    </tr>\n",
       "    <tr>\n",
       "      <th>299</th>\n",
       "      <td>2</td>\n",
       "    </tr>\n",
       "  </tbody>\n",
       "</table>\n",
       "<p>300 rows × 1 columns</p>\n",
       "</div>"
      ],
      "text/plain": [
       "     X\n",
       "0    3\n",
       "1    3\n",
       "2    3\n",
       "3    3\n",
       "4    1\n",
       "..  ..\n",
       "295  0\n",
       "296  2\n",
       "297  2\n",
       "298  3\n",
       "299  2\n",
       "\n",
       "[300 rows x 1 columns]"
      ]
     },
     "execution_count": 52,
     "metadata": {},
     "output_type": "execute_result"
    }
   ],
   "source": [
    "df_X = pd.DataFrame({'X': X_list})\n",
    "df_X"
   ]
  },
  {
   "cell_type": "markdown",
   "metadata": {},
   "source": [
    "#### 6.3.2. Mean and Standard Deviation\n",
    "\n",
    "Calculate the mean and the standard deviation of these 300 values that you generated in 6.3.1."
   ]
  },
  {
   "cell_type": "code",
   "execution_count": 53,
   "metadata": {},
   "outputs": [
    {
     "data": {
      "text/plain": [
       "2.03"
      ]
     },
     "execution_count": 53,
     "metadata": {},
     "output_type": "execute_result"
    }
   ],
   "source": [
    "actual_mean = df_X['X'].mean()\n",
    "actual_mean"
   ]
  },
  {
   "cell_type": "code",
   "execution_count": 54,
   "metadata": {},
   "outputs": [
    {
     "data": {
      "text/plain": [
       "0.9928338549551741"
      ]
     },
     "execution_count": 54,
     "metadata": {},
     "output_type": "execute_result"
    }
   ],
   "source": [
    "actual_std = df_X['X'].std()\n",
    "actual_std"
   ]
  },
  {
   "cell_type": "markdown",
   "metadata": {},
   "source": [
    "#### 6.3.3. Comparision\n",
    "\n",
    "How close are your mean and standard deviation values from 6.3.1 and 6.3.2?"
   ]
  },
  {
   "cell_type": "code",
   "execution_count": 55,
   "metadata": {},
   "outputs": [
    {
     "data": {
      "text/plain": [
       "-0.0019999999999997797"
      ]
     },
     "execution_count": 55,
     "metadata": {},
     "output_type": "execute_result"
    }
   ],
   "source": [
    "expected_mean-actual_mean"
   ]
  },
  {
   "cell_type": "code",
   "execution_count": 56,
   "metadata": {},
   "outputs": [
    {
     "data": {
      "text/plain": [
       "0.0070681402423552475"
      ]
     },
     "execution_count": 56,
     "metadata": {},
     "output_type": "execute_result"
    }
   ],
   "source": [
    "expected_std-actual_std"
   ]
  },
  {
   "cell_type": "markdown",
   "metadata": {},
   "source": [
    "They are quite close. If we had collected even more random variable values for X, we would expect them to be even closer."
   ]
  },
  {
   "cell_type": "markdown",
   "metadata": {},
   "source": [
    "### 6.4. Random Variable Values for $\\bar{X}$\n",
    "\n",
    "Define a new random variable to be $\\bar{X}=\\frac{X_1+X_2+X_3+...+X_{300}}{300}$, where\n",
    "\n",
    "**$X_i$ = # of Pokemon in our $ith$ random sample (out of n=4) that are a Pidgey.**\n",
    "\n",
    "Generate 5 random variable values for $\\bar{X}$"
   ]
  },
  {
   "cell_type": "code",
   "execution_count": 57,
   "metadata": {},
   "outputs": [
    {
     "data": {
      "text/plain": [
       "[2.01, 1.99, 2.046666666666667, 2.0, 2.0033333333333334]"
      ]
     },
     "execution_count": 57,
     "metadata": {},
     "output_type": "execute_result"
    }
   ],
   "source": [
    "X_bar_list=[]\n",
    "\n",
    "for i in range(5):\n",
    "    \n",
    "    #1. Generate random variable values for X1, X2, ..., X300\n",
    "    X_list=binom.rvs(n=4, p=0.507, size=300)\n",
    "    df_X = pd.DataFrame({'X': X_list})\n",
    "    \n",
    "    #2. Generate a random variable value for X-bar(by taking the average of X1, X2, ..., X300)\n",
    "    X_bar = df_X['X'].mean()\n",
    "    \n",
    "    #3. Add this X_bar random variable value to our list\n",
    "    X_bar_list.append(X_bar)\n",
    "\n",
    "X_bar_list"
   ]
  },
  {
   "cell_type": "markdown",
   "metadata": {},
   "source": [
    "### 6.5. Probabilities\n",
    "\n",
    "#### 6.5.1. Exactly Two Pidgeys\n",
    "\n",
    "What is the probability that two of the Pokemon in our random sample (with replacement) of 4 Pokemon from this dataset are Pidgeys?"
   ]
  },
  {
   "cell_type": "markdown",
   "metadata": {},
   "source": [
    "This is equivalent to us asking: what is $P(X=2)$, where we know that $X\\sim Bin(n=4, p=0.507)$.\n",
    "\n",
    "We can solve this in one of two ways (you should know how to do both).\n",
    "\n",
    "**Using Python functions**"
   ]
  },
  {
   "cell_type": "code",
   "execution_count": 58,
   "metadata": {},
   "outputs": [
    {
     "data": {
      "text/plain": [
       "0.374853014406"
      ]
     },
     "execution_count": 58,
     "metadata": {},
     "output_type": "execute_result"
    }
   ],
   "source": [
    "p_2 = binom.pmf(n=4, p=0.507, k=2)\n",
    "p_2"
   ]
  },
  {
   "cell_type": "markdown",
   "metadata": {},
   "source": [
    "**Using the binomial PMF equation**\n",
    "\n",
    "$P(X=2) = {n\\choose 2} p^{2}(1-p)^{n-2} ={4\\choose 2} (0.507)^{2}(1-0.507)^{4-2} = \\frac{4!}{2!(4-2)!}(0.507)^{2}(1-0.507)^{4-2}$"
   ]
  },
  {
   "cell_type": "code",
   "execution_count": 59,
   "metadata": {},
   "outputs": [
    {
     "data": {
      "text/plain": [
       "0.374853014406"
      ]
     },
     "execution_count": 59,
     "metadata": {},
     "output_type": "execute_result"
    }
   ],
   "source": [
    "p_2 = ((4*3*2*1)/((2*1)*(2*1)))*(0.507**2)*(1-0.507)**(2)\n",
    "p_2"
   ]
  },
  {
   "cell_type": "markdown",
   "metadata": {},
   "source": [
    "#### 6.5.2. Two Pidgeys, 1 Caterpie, 1 Eevee (with replacement)\n",
    "\n",
    "What is the probability of collecting a random sample (with replacement) of two Pidgeys, 1 Caterpie, and 1 Eevee?"
   ]
  },
  {
   "cell_type": "markdown",
   "metadata": {},
   "source": [
    "Because we are randomly sampling WITH replacement, then we can assume that the events of drawing a pidgey, drawing another pidgey, drawing a caerpie, and drawing a eevee are all independent.\n",
    "\n",
    "Thus, we can use the probability equation below.\n",
    "\n",
    "$P(\\mbox{pidgey AND pidgey AND caterpie AND eevee}) = P(pidgey)P(pidgey)P(caterpie)P(eevee) = (0.507)(0.507)(0.137)(0.082)=0.00289$"
   ]
  },
  {
   "cell_type": "code",
   "execution_count": 60,
   "metadata": {},
   "outputs": [
    {
     "data": {
      "text/plain": [
       "0.5068493150684932"
      ]
     },
     "execution_count": 60,
     "metadata": {},
     "output_type": "execute_result"
    }
   ],
   "source": [
    "prob_pidgey = df[df['species']=='Pidgey'].shape[0]/df.shape[0]\n",
    "prob_pidgey"
   ]
  },
  {
   "cell_type": "code",
   "execution_count": 61,
   "metadata": {},
   "outputs": [
    {
     "data": {
      "text/plain": [
       "0.136986301369863"
      ]
     },
     "execution_count": 61,
     "metadata": {},
     "output_type": "execute_result"
    }
   ],
   "source": [
    "prob_cat = df[df['species']=='Caterpie'].shape[0]/df.shape[0]\n",
    "prob_cat"
   ]
  },
  {
   "cell_type": "code",
   "execution_count": 62,
   "metadata": {},
   "outputs": [
    {
     "data": {
      "text/plain": [
       "0.0821917808219178"
      ]
     },
     "execution_count": 62,
     "metadata": {},
     "output_type": "execute_result"
    }
   ],
   "source": [
    "prob_eevee = df[df['species']=='Eevee'].shape[0]/df.shape[0]\n",
    "prob_eevee"
   ]
  },
  {
   "cell_type": "code",
   "execution_count": 63,
   "metadata": {},
   "outputs": [
    {
     "data": {
      "text/plain": [
       "0.0028924326686290184"
      ]
     },
     "execution_count": 63,
     "metadata": {},
     "output_type": "execute_result"
    }
   ],
   "source": [
    "pidgey_2_cat_1_eevee_1 = prob_pidgey*prob_pidgey*prob_cat*prob_eevee\n",
    "pidgey_2_cat_1_eevee_1"
   ]
  },
  {
   "cell_type": "markdown",
   "metadata": {},
   "source": [
    "#### 6.5.3 Conditional Probabilities\n",
    "\n",
    "Suppose that we randomly select a sample of 4 Pokemon from this dataset with replacement, and we know that it ended up having 2 Pidgeys. What is the probability that this random sample has: 2 Pidgeys, 1 Eevee, and 1 Pidgey GIVEN that we know that it had 2 Pidgeys?"
   ]
  },
  {
   "cell_type": "markdown",
   "metadata": {},
   "source": [
    "The probability that we are trying to calculate is a conditional probability (notice the \"GIVEN\" key word), and it is as follows.\n",
    "\n",
    "$P(\\mbox{2 Pidgeys, 1 Eevee, 1 Caterpie}|\\mbox{2 Pidgeys, other 2 are not Pidgeys})$\n",
    "\n",
    "We can use Bayes equation to help us calculate this conditional probability.\n",
    "\n",
    "$P(\\mbox{2 Pidgeys, 1 Eevee, 1 Caterpie}|\\mbox{2 Pidgeys, other 2 are not Pidgeys}) = \\frac{P([\\mbox{2 Pidgeys, 1 Eevee, 1 Caterpie] AND [2 Pidgeys, other 2 are not Pidgeys}])}{P(\\mbox{2 Pidgeys, other 2 are not Pidgeys})}$\n",
    "\n",
    "\n",
    "In the numerator above, we can see that the event of \"2 Pidgeys, 1 Eevee, 1 Caterpie\" is a more specific subset of the event 2 \"Pidgeys, other 2 are not Pidgeys\". Thus, taking the intersection (ie. AND) of them is just equivalent to the outcome of \"2 Pidgeys, 1 Eevee, 1 Caterpie\". Thus this probability simplifies to:\n",
    "\n",
    "$= \\frac{P([\\mbox{2 Pidgeys, 1 Eevee, 1 Caterpie}])}{P(\\mbox{2 Pidgeys, other 2 are not Pidgeys})}$\n",
    "\n",
    "$= \\frac{P([\\mbox{2 Pidgeys, 1 Eevee, 1 Caterpie}])}{P(\\mbox{X=2})} = \\frac{.00289}{0.375} = 0.0077$\n",
    "\n"
   ]
  },
  {
   "cell_type": "code",
   "execution_count": 64,
   "metadata": {},
   "outputs": [
    {
     "data": {
      "text/plain": [
       "0.007716178228451566"
      ]
     },
     "execution_count": 64,
     "metadata": {},
     "output_type": "execute_result"
    }
   ],
   "source": [
    "conditional_prob = pidgey_2_cat_1_eevee_1/p_2\n",
    "conditional_prob"
   ]
  },
  {
   "cell_type": "markdown",
   "metadata": {},
   "source": [
    "## 7. TA Stipends (Not Using the Pokemon Dataset)\n",
    "\n",
    "Suppose that the yearly stipends (ie. salaries) of all TAs in the U.S. is normally distributed and has a standard deviation of $4000.\n",
    "\n",
    "\n",
    "### 7.1. Finding the Mean TA Stipend\n",
    "\n",
    "Suppose that you discover that a TA for one of your classes makes $50,000 and that only 30% of TAs in the country make more than this. What is the average stipend of all TAs in the country?"
   ]
  },
  {
   "attachments": {},
   "cell_type": "markdown",
   "metadata": {},
   "source": [
    "**1. Curating Problem Information**\n",
    "\n",
    "We can define a random variable\n",
    "X = stipend of a randomly selected TA in the U.S.\n",
    "\n",
    "We are told that: $X\\sim N(\\mu=?, \\sigma =4000)$.\n",
    "\n",
    "In this problem we need to figure out what $\\mu$ is (ie. the average stipend of all TAs in the country), based on the rest of the information that we are given.\n",
    "\n",
    "\n",
    "**2. X and the Z-score of X**\n",
    "\n",
    "Let's define another random variable $Z=\\frac{X-\\mu}{\\sigma}$ to be the z-score of a randomly selected TA stipend in the U.S. Because X is a normal random variable, then we know that $Z$ must be a standard normal random variable (ie. $Z\\sim N(\\mu=0, \\sigma=1)$).\n",
    "\n",
    "The PDFs for both X and Z are shown below.\n",
    "\n",
    "<img src=\"number_7.png\" width=\"800\" height=\"500\" alt=\"\" />\n",
    "\n",
    "**3. 50,000 stipend vs. the z-score of the 50,000 stipend**\n",
    "\n",
    "We know that a 50,000 dollar stipend is less than 30% of all TA stipends and greater than 70% of all TA stipends. In turn, we also know that the z-score of a $50,000 stipend is less than 30% of all TA stipend z-scores and greater than 70% of all TA stipend z-scores.\n",
    "\n",
    "**4. Two Ways to Represent the z-score of a $50,000 stipend**\n",
    "\n",
    "1. The first way to represent the z-score of a $50,000 is the simply just use the z-score equation\n",
    "\n",
    "$z-score = \\frac{50000-\\mu}{\\sigma} = \\frac{50000-\\mu}{4000} $\n",
    "\n",
    "2. The second way is realize to find the value of the $z-score$ in which $P(Z<z-score)=0.70$. Because $Z$ is the standard normal random variable, we can use the norm.ppf() function below to find this z-score value as well to be:\n",
    "\n",
    "**$z-score=0.524$**\n",
    "\n",
    "\n",
    "**5. Solving for $\\mu$**\n",
    "\n",
    "Finally we can set the two version of the z-score equal to each other and solve for $\\mu$.\n",
    "\n",
    "$\\frac{50000-\\mu}{4000} = 0.524$\n",
    "\n",
    "$\\mu=47904$\n",
    "\n",
    "\n",
    "\n"
   ]
  },
  {
   "cell_type": "code",
   "execution_count": 65,
   "metadata": {},
   "outputs": [
    {
     "data": {
      "text/plain": [
       "0.5244005127080407"
      ]
     },
     "execution_count": 65,
     "metadata": {},
     "output_type": "execute_result"
    }
   ],
   "source": [
    "from scipy.stats import norm\n",
    "norm.ppf(0.70, loc = 0, scale = 1)"
   ]
  },
  {
   "cell_type": "code",
   "execution_count": 66,
   "metadata": {},
   "outputs": [
    {
     "data": {
      "text/plain": [
       "47904.0"
      ]
     },
     "execution_count": 66,
     "metadata": {},
     "output_type": "execute_result"
    }
   ],
   "source": [
    "50000-4000*.524"
   ]
  },
  {
   "cell_type": "markdown",
   "metadata": {},
   "source": [
    "### 7.2. Stipend Probabilities\n",
    "\n",
    "Using the mean stipend that you found in 7.1, calculate the probability of randomly selecting a TA with a stipend that is between 40,000 and 45,000 dollars."
   ]
  },
  {
   "cell_type": "markdown",
   "metadata": {},
   "source": [
    "$P(40000\\leq X\\leq 45000) = P(X\\leq 45000) - P(X\\leq 40000) = 0.2339 - 0.0241 = 0.2098$"
   ]
  },
  {
   "cell_type": "code",
   "execution_count": 67,
   "metadata": {},
   "outputs": [
    {
     "data": {
      "text/plain": [
       "0.23391938527646383"
      ]
     },
     "execution_count": 67,
     "metadata": {},
     "output_type": "execute_result"
    }
   ],
   "source": [
    "p45 = norm.cdf(45000, loc=47904, scale=4000)\n",
    "p45"
   ]
  },
  {
   "cell_type": "code",
   "execution_count": 68,
   "metadata": {},
   "outputs": [
    {
     "data": {
      "text/plain": [
       "0.024077388601338706"
      ]
     },
     "execution_count": 68,
     "metadata": {},
     "output_type": "execute_result"
    }
   ],
   "source": [
    "p35 = norm.cdf(40000, loc=47904, scale=4000)\n",
    "p35"
   ]
  },
  {
   "cell_type": "code",
   "execution_count": 69,
   "metadata": {},
   "outputs": [
    {
     "data": {
      "text/plain": [
       "0.20984199667512513"
      ]
     },
     "execution_count": 69,
     "metadata": {},
     "output_type": "execute_result"
    }
   ],
   "source": [
    "prob = p45-p35\n",
    "prob"
   ]
  }
 ],
 "metadata": {
  "kernelspec": {
   "display_name": "Python 3 (ipykernel)",
   "language": "python",
   "name": "python3"
  },
  "language_info": {
   "codemirror_mode": {
    "name": "ipython",
    "version": 3
   },
   "file_extension": ".py",
   "mimetype": "text/x-python",
   "name": "python",
   "nbconvert_exporter": "python",
   "pygments_lexer": "ipython3",
   "version": "3.9.12"
  }
 },
 "nbformat": 4,
 "nbformat_minor": 4
}
