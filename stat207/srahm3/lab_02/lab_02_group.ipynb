{
 "cells": [
  {
   "cell_type": "markdown",
   "metadata": {},
   "source": [
    "# STAT 207 Lab Assignment 2 - Group Part - [5 total points] - Solutions\n"
   ]
  },
  {
   "cell_type": "markdown",
   "metadata": {},
   "source": [
    "Due: Tuesday, September 6, 11:59pm CST\n",
    "\n",
    "<hr>\n"
   ]
  },
  {
   "cell_type": "markdown",
   "metadata": {},
   "source": [
    "## <u>Case Study</u>: Learning More about Billionaires Continued\n",
    "\n",
    "In this case study we will explore a dataset comprised of all the world's billionaires from 2021 https://www.forbes.com/real-time-billionaires/#49c85f6e3d78, this dataset is contained in the attached **billionaire_2021.csv** file. This file contains the following variables.\n",
    "\n",
    "* **name** of the billionaire\n",
    "* **NetWorth_billions**: their networth in billions USD\n",
    "* **Country**: country that they reside in\n",
    "* **Source**: the source of their income\n",
    "* **Rank**: their ranking in the 2021 billionaire list\n",
    "* **Age**: their age in 2021\n",
    "* **Industry**: the industry that they derive their wealth from\n",
    "\n",
    "In addition, the **billionaire_demographic_information.csv** file contains even more information about people who were recently considered to be billionaires including the following variables.\n",
    "\n",
    "* **name** of the billioniare\n",
    "* **company_founded**: year their company was founded\n",
    "* **company_relationship**: their relationship to the company\n",
    "* **company_type**: the type of business this company is\n",
    "* **demographics_gender**: the gender of the billionaire\n",
    "* **location_region**: the region of the world this billionaire lives in\n",
    "* **wealth_type**: the type of billionaire they are\n",
    "* **wealth_how_category**: A category representing where their money came from.\n",
    "* **wealth_how_industry**: The specific industry this billionaire profitted from.\n",
    "* **wealth_how_inherited**: The way that this money was inherited (or not inherited). Inheritance can come from a spouse, the father, or from multiple generations within a family (either 3, 4, or 5+).\n",
    "\n",
    "*More Info if Interested: Building off the Forbes World’s Billionaires lists from 1996-2014, scholars at Peterson Institute for International Economics have added more variables about each billionaire - including whether they were self-made or inherited their wealth.*\n",
    "\n",
    "http://www.iie.com/publications/interstitial.cfm?ResearchID=2917\n",
    "\n",
    "\n",
    "<hr>\n",
    "\n",
    "## <u>Research Goal</u>:\n",
    "\n",
    "In this analysis you will choose two categorical variables that you are interested in (not the names or company names) and determine if there is an association between these two variables for the 2021 billionaires."
   ]
  },
  {
   "cell_type": "markdown",
   "metadata": {},
   "source": [
    "### Imports"
   ]
  },
  {
   "cell_type": "code",
   "execution_count": null,
   "metadata": {},
   "outputs": [],
   "source": []
  },
  {
   "cell_type": "markdown",
   "metadata": {},
   "source": [
    "### Contribution Report [0.25 pt]\n",
    "These contribution reports should be included in all group lab assignments. In this contribution report below you should list of the following:\n",
    "1. Names of each team member.\n",
    "2. Contributions of each team member to report.\n",
    "\n",
    "*For example:*\n",
    "\n",
    "*<u>Teammates:</u>*\n",
    "\n",
    "*1. John Smith: did number 1,2 and 3*\n",
    "\n",
    "*2. Jane Doe: did number 4, and 5*"
   ]
  },
  {
   "cell_type": "markdown",
   "metadata": {},
   "source": [
    "**insert here**\n"
   ]
  },
  {
   "cell_type": "markdown",
   "metadata": {},
   "source": [
    "### 1. [0.75  pt] Two Dataframes\n",
    "\n",
    "1. Read in the two csv files into two dataframes.\n",
    "2. Show the first five rows of each dataframe.\n",
    "3. Finally, display the number of rows and columns that each dataframe has as well."
   ]
  },
  {
   "cell_type": "code",
   "execution_count": null,
   "metadata": {},
   "outputs": [],
   "source": []
  },
  {
   "cell_type": "code",
   "execution_count": null,
   "metadata": {},
   "outputs": [],
   "source": []
  },
  {
   "cell_type": "code",
   "execution_count": null,
   "metadata": {},
   "outputs": [],
   "source": []
  },
  {
   "cell_type": "code",
   "execution_count": null,
   "metadata": {},
   "outputs": [],
   "source": []
  },
  {
   "cell_type": "markdown",
   "metadata": {},
   "source": [
    "## 2. [0.75 pt] Combine the two Dataframes\n",
    "\n",
    "1. Create a new dataframe by merging the two dataframes on the 'name' column. \n",
    "2. Display the first five rows of this new dataframe. \n",
    "3. Find the number of rows and columns of this new dataframe."
   ]
  },
  {
   "cell_type": "code",
   "execution_count": null,
   "metadata": {},
   "outputs": [],
   "source": []
  },
  {
   "cell_type": "code",
   "execution_count": null,
   "metadata": {},
   "outputs": [],
   "source": []
  },
  {
   "cell_type": "markdown",
   "metadata": {},
   "source": [
    "## 3. Inspecting the Dataframes\n",
    "\n",
    "### 3.1. [0.75 pt] Merge Success\n",
    "\n",
    "Do you think that all of the 2021 billionaires (ie. the ones from the **billionaire_2021.csv**) found a matching name with a billionaire listed in the **billionaire_demographic_information.csv** file? Why or why not?"
   ]
  },
  {
   "cell_type": "markdown",
   "metadata": {},
   "source": []
  },
  {
   "cell_type": "markdown",
   "metadata": {},
   "source": [
    "### 3.2. [0.75 pt] Dirty Dataset\n",
    "\n",
    "Take a look at the first five rows in the data that came from the **'billionaire_demographic_information.csv'** file. It looks like whoever created this csv file (originally) may have made a data entry error. What is it?"
   ]
  },
  {
   "cell_type": "markdown",
   "metadata": {},
   "source": []
  },
  {
   "cell_type": "markdown",
   "metadata": {},
   "source": [
    "## 4. Categorical Variable Associations\n",
    "\n",
    "Finally, in this section you should select two categorical variables (not the name or source variables) from your final dataframe from #2 and answer the following research question.\n",
    "\n",
    "**\"Is there an association between these two categorical variables in the 2021 Billionaires dataset?\"**\n",
    "\n",
    "### 4.1. [1 pt]  Visualizing the Relationship\n",
    "\n",
    "First, create a plot that visualizes the relationship between these two categorical variables that you selected. This plot should have the following specifications.\n",
    "\n",
    "1. Every combination of each categorical variable level should be displayed as a bar in the plot.\n",
    "2. The y-axis on your plot should visualize *percentages*, not *counts*.\n",
    "3. Give appropriate x- and y-axis labels and a title.\n",
    "4. Your labels should be readable.\n",
    "\n",
    "*Hint: If your categorical variable has too many levels, you might consider filtering for just a few levels of this categorical variable and focusing on just a few.*\n",
    "\n",
    "*Hint: If your plot legend gets in the way, you can use the following code to move it to the top right of the plot.*\n",
    "\n",
    "```plt.legend(bbox_to_anchor=(1,1))```\n",
    "\n",
    "\n"
   ]
  },
  {
   "cell_type": "code",
   "execution_count": null,
   "metadata": {},
   "outputs": [],
   "source": []
  },
  {
   "cell_type": "code",
   "execution_count": null,
   "metadata": {},
   "outputs": [],
   "source": []
  },
  {
   "cell_type": "markdown",
   "metadata": {},
   "source": [
    "### 4.2. [0.75 pt] Association between the Two Categorical Variables\n",
    "\n",
    "Does your plot above indicate that there is an association between the two variables that you selected in the 2021 Billionaire dataset?"
   ]
  },
  {
   "cell_type": "markdown",
   "metadata": {},
   "source": []
  }
 ],
 "metadata": {
  "kernelspec": {
   "display_name": "Python 3 (ipykernel)",
   "language": "python",
   "name": "python3"
  },
  "language_info": {
   "codemirror_mode": {
    "name": "ipython",
    "version": 3
   },
   "file_extension": ".py",
   "mimetype": "text/x-python",
   "name": "python",
   "nbconvert_exporter": "python",
   "pygments_lexer": "ipython3",
   "version": "3.9.12"
  }
 },
 "nbformat": 4,
 "nbformat_minor": 2
}
