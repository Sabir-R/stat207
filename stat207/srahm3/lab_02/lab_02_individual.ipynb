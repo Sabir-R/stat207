{
 "cells": [
  {
   "cell_type": "markdown",
   "metadata": {},
   "source": [
    "# STAT 207 Lab Assignment 2 - Individual Part - [25 total points]\n",
    "\n",
    "## Dataframe Manipulation and  Cleaning"
   ]
  },
  {
   "cell_type": "markdown",
   "metadata": {},
   "source": [
    "Due: Tuesday, September 6, 11:59pm CST\n",
    "\n",
    "<hr>\n"
   ]
  },
  {
   "cell_type": "markdown",
   "metadata": {},
   "source": [
    "## <u>Case Study</u>: Steam Game Play and Purchase Analysis\n",
    "Steam is the world's most popular PC Gaming hub. With a massive collection that includes everything from AAA blockbusters to small indie titles, great discovery tools can be super valuable for Steam. We would like to use the following dataset below to learn more about Steam player behavior.\n",
    "\n",
    "The dataset we will be analyzing is comprised of a random sample of 500 steam users and their game play and purchase behaviors. It has the following columns:\n",
    "* **user_id**\n",
    "* **game_name**,\n",
    "* **activity**:\n",
    "    - purchase: indicating that the user has *purchased* the corresponding game\n",
    "    - play: indicating that the user has *played* the corresponding game (for at least some amount of time.) \n",
    "* **hours_played_if_play**:\n",
    "    - if the row corresponds to a 'play' activity, this number represents the number of hours the user has played the game\n",
    "    - if the row corresponds to a 'purchase' activity, this number is always a 1 (and means nothing... it's a placeholder).\n",
    "\n",
    "<hr>\n",
    "\n",
    "\n",
    "### <u>Research Goals</u>\n",
    "\n",
    "In this analysis, we will consider a game's **\"all-star\" player** to be the person who had played this game for the most amount of hours.\n",
    "\n",
    "1. Identify any missing values in the dataset and drop any rows that have a missing value.\n",
    "2. Learn more about each game's \"all-star\" player.\n",
    "3. Learn more about the \"all-star\" players in this dataset.\n",
    "\n",
    "\n",
    "### <u>Points</u>\n",
    "<p>&nbsp;</p>\n",
    "<table style=\"border: none;border-collapse: collapse;width:123pt;\">\n",
    "    <tbody>\n",
    "        <tr>\n",
    "            <td style=\"color:black;font-size:15px;font-weight:700;font-style:normal;text-decoration:none;font-family:Calibri, sans-serif;text-align:general;vertical-align:bottom;border:.5pt solid windowtext;height:14.25pt;width:72pt;\">Problem</td>\n",
    "            <td style=\"color:black;font-size:15px;font-weight:700;font-style:normal;text-decoration:none;font-family:Calibri, sans-serif;text-align:general;vertical-align:bottom;border:.5pt solid windowtext;border-left:none;width:51pt;\">Points</td>\n",
    "        </tr>\n",
    "        <tr>\n",
    "            <td style=\"color:black;font-size:15px;font-weight:400;font-style:normal;text-decoration:none;font-family:Calibri, sans-serif;text-align:right;vertical-align:bottom;border:.5pt solid windowtext;height:14.25pt;border-top:none;\">1</td>\n",
    "            <td style=\"color:black;font-size:15px;font-weight:400;font-style:normal;text-decoration:none;font-family:Calibri, sans-serif;text-align:right;vertical-align:bottom;border:.5pt solid windowtext;border-top:none;border-left:none;\">1</td>\n",
    "        </tr>\n",
    "        <tr>\n",
    "            <td style=\"color:black;font-size:15px;font-weight:400;font-style:normal;text-decoration:none;font-family:Calibri, sans-serif;text-align:right;vertical-align:bottom;border:.5pt solid windowtext;height:14.25pt;border-top:none;\">2</td>\n",
    "            <td style=\"color:black;font-size:15px;font-weight:400;font-style:normal;text-decoration:none;font-family:Calibri, sans-serif;text-align:right;vertical-align:bottom;border:.5pt solid windowtext;border-top:none;border-left:none;\">0.75</td>\n",
    "        </tr>\n",
    "        <tr>\n",
    "            <td style=\"color:black;font-size:15px;font-weight:400;font-style:normal;text-decoration:none;font-family:Calibri, sans-serif;text-align:right;vertical-align:bottom;border:.5pt solid windowtext;height:14.25pt;border-top:none;\">3</td>\n",
    "            <td style=\"color:black;font-size:15px;font-weight:400;font-style:normal;text-decoration:none;font-family:Calibri, sans-serif;text-align:right;vertical-align:bottom;border:.5pt solid windowtext;border-top:none;border-left:none;\">5</td>\n",
    "        </tr>\n",
    "        <tr>\n",
    "            <td style=\"color:black;font-size:15px;font-weight:400;font-style:normal;text-decoration:none;font-family:Calibri, sans-serif;text-align:right;vertical-align:bottom;border:.5pt solid windowtext;height:14.25pt;border-top:none;\">4</td>\n",
    "            <td style=\"color:black;font-size:15px;font-weight:400;font-style:normal;text-decoration:none;font-family:Calibri, sans-serif;text-align:right;vertical-align:bottom;border:.5pt solid windowtext;border-top:none;border-left:none;\">0.75</td>\n",
    "        </tr>\n",
    "        <tr>\n",
    "            <td style=\"color:black;font-size:15px;font-weight:400;font-style:normal;text-decoration:none;font-family:Calibri, sans-serif;text-align:right;vertical-align:bottom;border:.5pt solid windowtext;height:14.25pt;border-top:none;\">5</td>\n",
    "            <td style=\"color:black;font-size:15px;font-weight:400;font-style:normal;text-decoration:none;font-family:Calibri, sans-serif;text-align:right;vertical-align:bottom;border:.5pt solid windowtext;border-top:none;border-left:none;\">2</td>\n",
    "        </tr>\n",
    "        <tr>\n",
    "            <td style=\"color:black;font-size:15px;font-weight:400;font-style:normal;text-decoration:none;font-family:Calibri, sans-serif;text-align:right;vertical-align:bottom;border:.5pt solid windowtext;height:14.25pt;border-top:none;\">6</td>\n",
    "            <td style=\"color:black;font-size:15px;font-weight:400;font-style:normal;text-decoration:none;font-family:Calibri, sans-serif;text-align:right;vertical-align:bottom;border:.5pt solid windowtext;border-top:none;border-left:none;\">1.5</td>\n",
    "        </tr>\n",
    "        <tr>\n",
    "            <td style=\"color:black;font-size:15px;font-weight:400;font-style:normal;text-decoration:none;font-family:Calibri, sans-serif;text-align:right;vertical-align:bottom;border:.5pt solid windowtext;height:14.25pt;border-top:none;\">7.1</td>\n",
    "            <td style=\"color:black;font-size:15px;font-weight:400;font-style:normal;text-decoration:none;font-family:Calibri, sans-serif;text-align:right;vertical-align:bottom;border:.5pt solid windowtext;border-top:none;border-left:none;\">1.5</td>\n",
    "        </tr>\n",
    "        <tr>\n",
    "            <td style=\"color:black;font-size:15px;font-weight:400;font-style:normal;text-decoration:none;font-family:Calibri, sans-serif;text-align:right;vertical-align:bottom;border:.5pt solid windowtext;height:14.25pt;border-top:none;\">7.2</td>\n",
    "            <td style=\"color:black;font-size:15px;font-weight:400;font-style:normal;text-decoration:none;font-family:Calibri, sans-serif;text-align:right;vertical-align:bottom;border:.5pt solid windowtext;border-top:none;border-left:none;\">2</td>\n",
    "        </tr>\n",
    "        <tr>\n",
    "            <td style=\"color:black;font-size:15px;font-weight:400;font-style:normal;text-decoration:none;font-family:Calibri, sans-serif;text-align:right;vertical-align:bottom;border:.5pt solid windowtext;height:14.25pt;border-top:none;\">8.1</td>\n",
    "            <td style=\"color:black;font-size:15px;font-weight:400;font-style:normal;text-decoration:none;font-family:Calibri, sans-serif;text-align:right;vertical-align:bottom;border:.5pt solid windowtext;border-top:none;border-left:none;\">2</td>\n",
    "        </tr>\n",
    "        <tr>\n",
    "            <td style=\"color:black;font-size:15px;font-weight:400;font-style:normal;text-decoration:none;font-family:Calibri, sans-serif;text-align:right;vertical-align:bottom;border:.5pt solid windowtext;height:14.25pt;border-top:none;\">8.2</td>\n",
    "            <td style=\"color:black;font-size:15px;font-weight:400;font-style:normal;text-decoration:none;font-family:Calibri, sans-serif;text-align:right;vertical-align:bottom;border:.5pt solid windowtext;border-top:none;border-left:none;\">2</td>\n",
    "        </tr>\n",
    "        <tr>\n",
    "            <td style=\"color:black;font-size:15px;font-weight:400;font-style:normal;text-decoration:none;font-family:Calibri, sans-serif;text-align:right;vertical-align:bottom;border:.5pt solid windowtext;height:14.25pt;border-top:none;\">8.3</td>\n",
    "            <td style=\"color:black;font-size:15px;font-weight:400;font-style:normal;text-decoration:none;font-family:Calibri, sans-serif;text-align:right;vertical-align:bottom;border:.5pt solid windowtext;border-top:none;border-left:none;\">2.5</td>\n",
    "        </tr>\n",
    "        <tr>\n",
    "            <td style=\"color:black;font-size:15px;font-weight:400;font-style:normal;text-decoration:none;font-family:Calibri, sans-serif;text-align:right;vertical-align:bottom;border:.5pt solid windowtext;height:14.25pt;border-top:none;\">9.1</td>\n",
    "            <td style=\"color:black;font-size:15px;font-weight:400;font-style:normal;text-decoration:none;font-family:Calibri, sans-serif;text-align:right;vertical-align:bottom;border:.5pt solid windowtext;border-top:none;border-left:none;\">2</td>\n",
    "        </tr>\n",
    "        <tr>\n",
    "            <td style=\"color:black;font-size:15px;font-weight:400;font-style:normal;text-decoration:none;font-family:Calibri, sans-serif;text-align:right;vertical-align:bottom;border:.5pt solid windowtext;height:14.25pt;border-top:none;\">9.2</td>\n",
    "            <td style=\"color:black;font-size:15px;font-weight:400;font-style:normal;text-decoration:none;font-family:Calibri, sans-serif;text-align:right;vertical-align:bottom;border:.5pt solid windowtext;border-top:none;border-left:none;\">2</td>\n",
    "        </tr>\n",
    "    </tbody>\n",
    "</table>"
   ]
  },
  {
   "cell_type": "markdown",
   "metadata": {},
   "source": [
    "<hr>\n",
    "\n",
    "### <u>Tutorial you Will Need</u>: Utilizing the *.shape* attribute\n",
    "\n",
    "The **.shape** attribute for a given dataframe returns a **tuple** of two values, the first value in the tuple is the number of rows, the second value is the number of columns."
   ]
  },
  {
   "cell_type": "code",
   "execution_count": 47,
   "metadata": {},
   "outputs": [
    {
     "data": {
      "text/html": [
       "<div>\n",
       "<style scoped>\n",
       "    .dataframe tbody tr th:only-of-type {\n",
       "        vertical-align: middle;\n",
       "    }\n",
       "\n",
       "    .dataframe tbody tr th {\n",
       "        vertical-align: top;\n",
       "    }\n",
       "\n",
       "    .dataframe thead th {\n",
       "        text-align: right;\n",
       "    }\n",
       "</style>\n",
       "<table border=\"1\" class=\"dataframe\">\n",
       "  <thead>\n",
       "    <tr style=\"text-align: right;\">\n",
       "      <th></th>\n",
       "      <th>a</th>\n",
       "      <th>b</th>\n",
       "    </tr>\n",
       "  </thead>\n",
       "  <tbody>\n",
       "    <tr>\n",
       "      <th>0</th>\n",
       "      <td>1</td>\n",
       "      <td>4</td>\n",
       "    </tr>\n",
       "    <tr>\n",
       "      <th>1</th>\n",
       "      <td>2</td>\n",
       "      <td>5</td>\n",
       "    </tr>\n",
       "    <tr>\n",
       "      <th>2</th>\n",
       "      <td>3</td>\n",
       "      <td>6</td>\n",
       "    </tr>\n",
       "  </tbody>\n",
       "</table>\n",
       "</div>"
      ],
      "text/plain": [
       "   a  b\n",
       "0  1  4\n",
       "1  2  5\n",
       "2  3  6"
      ]
     },
     "execution_count": 47,
     "metadata": {},
     "output_type": "execute_result"
    }
   ],
   "source": [
    "import pandas as pd\n",
    "demo_df=pd.DataFrame({'a': [1,2,3], 'b': [4,5,6]})\n",
    "demo_df"
   ]
  },
  {
   "cell_type": "markdown",
   "metadata": {},
   "source": [
    "We can index a tuple with 0 and 1 indices to extract the number of rows and columns from the dataframe separately."
   ]
  },
  {
   "cell_type": "code",
   "execution_count": 48,
   "metadata": {},
   "outputs": [
    {
     "data": {
      "text/plain": [
       "(3, 2)"
      ]
     },
     "execution_count": 48,
     "metadata": {},
     "output_type": "execute_result"
    }
   ],
   "source": [
    "#Number of rows and columns\n",
    "demo_df.shape"
   ]
  },
  {
   "cell_type": "code",
   "execution_count": 3,
   "metadata": {},
   "outputs": [
    {
     "data": {
      "text/plain": [
       "3"
      ]
     },
     "execution_count": 3,
     "metadata": {},
     "output_type": "execute_result"
    }
   ],
   "source": [
    "#Number of rows\n",
    "demo_df.shape[0]"
   ]
  },
  {
   "cell_type": "code",
   "execution_count": 4,
   "metadata": {},
   "outputs": [
    {
     "data": {
      "text/plain": [
       "2"
      ]
     },
     "execution_count": 4,
     "metadata": {},
     "output_type": "execute_result"
    }
   ],
   "source": [
    "#Number of columns\n",
    "demo_df.shape[1]"
   ]
  },
  {
   "cell_type": "markdown",
   "metadata": {},
   "source": [
    "<hr>\n",
    "\n",
    "### Imports"
   ]
  },
  {
   "cell_type": "code",
   "execution_count": 2,
   "metadata": {},
   "outputs": [
    {
     "data": {
      "text/plain": [
       "<function seaborn.rcmod.set(*args, **kwargs)>"
      ]
     },
     "execution_count": 2,
     "metadata": {},
     "output_type": "execute_result"
    }
   ],
   "source": [
    "import pandas as pd\n",
    "import matplotlib.pyplot as plt\n",
    "import seaborn as sns\n",
    "sns.set"
   ]
  },
  {
   "cell_type": "markdown",
   "metadata": {},
   "source": [
    "### 1. Read the csv\n",
    "First, read the **steam_sample.csv** file into a dataframe and display the first five rows of the dataframe."
   ]
  },
  {
   "cell_type": "code",
   "execution_count": 6,
   "metadata": {},
   "outputs": [
    {
     "data": {
      "text/html": [
       "<div>\n",
       "<style scoped>\n",
       "    .dataframe tbody tr th:only-of-type {\n",
       "        vertical-align: middle;\n",
       "    }\n",
       "\n",
       "    .dataframe tbody tr th {\n",
       "        vertical-align: top;\n",
       "    }\n",
       "\n",
       "    .dataframe thead th {\n",
       "        text-align: right;\n",
       "    }\n",
       "</style>\n",
       "<table border=\"1\" class=\"dataframe\">\n",
       "  <thead>\n",
       "    <tr style=\"text-align: right;\">\n",
       "      <th></th>\n",
       "      <th>user_id</th>\n",
       "      <th>game_name</th>\n",
       "      <th>activity</th>\n",
       "      <th>hours_played_if_play</th>\n",
       "    </tr>\n",
       "  </thead>\n",
       "  <tbody>\n",
       "    <tr>\n",
       "      <th>0</th>\n",
       "      <td>308653033</td>\n",
       "      <td>Unturned</td>\n",
       "      <td>purchase</td>\n",
       "      <td>1</td>\n",
       "    </tr>\n",
       "    <tr>\n",
       "      <th>1</th>\n",
       "      <td>308653033</td>\n",
       "      <td>Unturned</td>\n",
       "      <td>play</td>\n",
       "      <td>0.6</td>\n",
       "    </tr>\n",
       "    <tr>\n",
       "      <th>2</th>\n",
       "      <td>308653033</td>\n",
       "      <td>theHunter</td>\n",
       "      <td>purchase</td>\n",
       "      <td>1</td>\n",
       "    </tr>\n",
       "    <tr>\n",
       "      <th>3</th>\n",
       "      <td>144004384</td>\n",
       "      <td>Dota 2</td>\n",
       "      <td>purchase</td>\n",
       "      <td>1</td>\n",
       "    </tr>\n",
       "    <tr>\n",
       "      <th>4</th>\n",
       "      <td>144004384</td>\n",
       "      <td>Dota 2</td>\n",
       "      <td>play</td>\n",
       "      <td>22</td>\n",
       "    </tr>\n",
       "  </tbody>\n",
       "</table>\n",
       "</div>"
      ],
      "text/plain": [
       "     user_id  game_name  activity hours_played_if_play\n",
       "0  308653033   Unturned  purchase                    1\n",
       "1  308653033   Unturned      play                  0.6\n",
       "2  308653033  theHunter  purchase                    1\n",
       "3  144004384     Dota 2  purchase                    1\n",
       "4  144004384     Dota 2      play                   22"
      ]
     },
     "execution_count": 6,
     "metadata": {},
     "output_type": "execute_result"
    }
   ],
   "source": [
    "df = pd.read_csv('steam_sample.csv')\n",
    "df.head()"
   ]
  },
  {
   "cell_type": "markdown",
   "metadata": {},
   "source": [
    "### 2. How many rows does the dataframe have? (Use Python code to show this)."
   ]
  },
  {
   "cell_type": "code",
   "execution_count": 5,
   "metadata": {},
   "outputs": [
    {
     "data": {
      "text/plain": [
       "(7806, 4)"
      ]
     },
     "execution_count": 5,
     "metadata": {},
     "output_type": "execute_result"
    }
   ],
   "source": [
    "df.shape"
   ]
  },
  {
   "cell_type": "markdown",
   "metadata": {},
   "source": [
    "7,806 rows"
   ]
  },
  {
   "cell_type": "markdown",
   "metadata": {},
   "source": [
    "### 3. Data cleaning and data type checking\n",
    "\n",
    "We plan to analyze the **\"hours_played_if_play\"** variable in this assignment. In order to ensure that our subsequent functions work appropriately on this numerical variable, you should do the following.\n",
    "1. Identify any values (if any) that have been encoded in the csv to represent a **missing value**. \n",
    "2. Make sure that the values in your **\"hours_played_if_play\"** variable are represented as numerical values (either float64 or int64 object types). If not, fix this using the methods we discussed in class.\n",
    "3. Delete any rows in your dataframe that have missing values. Remember, some \"missing values\", in the way that they're currently encoded in the csv may not be initially detectable by Python. It is your job to figure out what these missing values are and make it so Python does detect them. And then delete any rows that have them."
   ]
  },
  {
   "cell_type": "code",
   "execution_count": 7,
   "metadata": {},
   "outputs": [
    {
     "data": {
      "text/plain": [
       "user_id                 0\n",
       "game_name               0\n",
       "activity                0\n",
       "hours_played_if_play    0\n",
       "dtype: int64"
      ]
     },
     "execution_count": 7,
     "metadata": {},
     "output_type": "execute_result"
    }
   ],
   "source": [
    "df.isna().sum()"
   ]
  },
  {
   "cell_type": "code",
   "execution_count": 8,
   "metadata": {},
   "outputs": [
    {
     "data": {
      "text/plain": [
       "user_id                  int64\n",
       "game_name               object\n",
       "activity                object\n",
       "hours_played_if_play    object\n",
       "dtype: object"
      ]
     },
     "execution_count": 8,
     "metadata": {},
     "output_type": "execute_result"
    }
   ],
   "source": [
    "df.dtypes"
   ]
  },
  {
   "cell_type": "code",
   "execution_count": 9,
   "metadata": {},
   "outputs": [
    {
     "data": {
      "text/plain": [
       "array(['1', '0.6', '22', '1028', '1008', '148', '108', '72', '36', '35',\n",
       "       '32', '21', '16', '15.8', '8.6', '7.8', '7.3', '3.1', '1.9', '1.7',\n",
       "       '1.1', '0.4', '153', '63', '26', '1.4', '639', '479', '70', '65',\n",
       "       '33', '30', '19.8', '16.2', '11.3', '4.2', '3.9', '2.3', '0.8',\n",
       "       '0.7', '0.5', '0.3', '396', '227', '13.4', '12.6', '11.2', '10.1',\n",
       "       '2.4', '210', '1.2', '0.2', '13.2', '48', '110', '0.1', '67',\n",
       "       '429', '5.5', '61', '1.6', '18.3', '9.9', '4.7', '1714', '441',\n",
       "       '197', '147', '117', '86', '73', '49', '46', '31', '24', '20',\n",
       "       '19.7', '18.2', '14.2', '11.6', '9.8', '9.7', '8.4', '6.5', '4.8',\n",
       "       '4.1', '3.7', '2.9', '2.7', '2.1', '222', 'unknown', '14.9',\n",
       "       '14.1', '83', '11.1', '3.2', '395', '251', '9.3', '7.4', '54',\n",
       "       '34', '1.8', '99', '98', '96', '29', '27', '23', '19.1', '18.7',\n",
       "       '17.5', '17', '16.6', '14.7', '13.3', '10.7', '10.2', '10', '9.6',\n",
       "       '9.5', '8', '7.9', '7.6', '7', '6.6', '6', '5.8', '5.6', '5.3',\n",
       "       '4.4', '4.3', '3.3', '3', '2.6', '2.5', '0.9', '6.2', '18.9',\n",
       "       '2.8', '4814', '4', '494', '1.3', '184', '13.8', '11.4', '8.9',\n",
       "       '6.7', '496', '1086', '525', '370', '270', '151', '85', '66', '56',\n",
       "       '15.3', '15.1', '11.5', '7.2', '3.8', '19.6', '2', '274', '7.1',\n",
       "       '4.9', '4.6', '3.6', '12.1', '103', '13.1', '60', '3309', '524',\n",
       "       '431', '428', '262', '250', '180', '154', '137', '106', '100',\n",
       "       '80', '68', '62', '50', '47', '44', '38', '37', '13.5', '12',\n",
       "       '11.9', '11', '9', '8.2', '8.1', '7.5', '6.8', '5.1', '5', '2.2',\n",
       "       '1.5', '57', '964', '41', '12.5', '10.4', '361', '88', '82',\n",
       "       '17.6', '17.1', '16.3', '15.2', '14.6', '11.7', '8.8', '8.3',\n",
       "       '5.9', '717', '303', '13.9', '10.6', '2179', '526', '28', '14.5',\n",
       "       '12.4', '149', '10.8', '15', '19.9', '113', '76', '646', '25',\n",
       "       '14', '546', '11.8', '381', '16.1', '215', '81', '19.5', '248',\n",
       "       '59', '42', '13.7', '3626', '997', '665', '622', '522', '344',\n",
       "       '224', '213', '208', '186', '95', '79', '78', '40', '18.1', '18',\n",
       "       '17.8', '17.4', '15.9', '15.5', '14.8', '12.3', '3.5', '3.4',\n",
       "       '116', '6.1', '393', '332', '238', '307', '157', '550', '52',\n",
       "       '9.2', '1343', '13.6', '8.5', '15.7', '202', '530', '43', '6.3',\n",
       "       '518', '232', '175', '58', '90', '15.4', '14.4', '193', '173',\n",
       "       '12.2', '1339', '190', '121', '7.7', '4.5', '249', '77', '399',\n",
       "       '278', '91', '6.4', '162', '89', '17.2', '9.1', '652', '517',\n",
       "       '125', '105', '75', '55', '17.9', '10.9', '8.7', '10.3', '5.7',\n",
       "       '5.4', '10.5', '118', '9.4', '284', '71', '19.3', '209', '5.2',\n",
       "       '1605', '1540', '710', '617', '312', '644', '189', '191', '176',\n",
       "       '136', '115', '39', '19', '69', '1912', '777', '686', '15.6',\n",
       "       '18.4', '539', '1760', '165', '17.3', '112', '386', '720', '466',\n",
       "       '124', '109', '87', '14.3', '6.9', '676', '449', '236', '119',\n",
       "       '53', '45', '3178', '1302', '795', '174', '123', '104', '101',\n",
       "       '64', '51', '16.9', '16.8', '16.5', '1030', '145', '214', '11754',\n",
       "       '144', '579', '263', '241', '160', '141', '120', '92', '13', '289',\n",
       "       '1337', '17.7', '2258', '217', '135', '389', '228', '187', '111',\n",
       "       '357', '923', '172', '1369', '1049', '488', '130', '126', '93',\n",
       "       '18.8', '1064', '18.5', '12.9', '458', '418', '194', '272', '16.4',\n",
       "       '419', '107', '290', '1499', '891', '693', '302', '273', '264',\n",
       "       '158', '133', '1301', '485', '1754', '231', '12.8', '132', '733',\n",
       "       '230', '127', '627', '994', '387', '487', '528', '138', '809',\n",
       "       '511', '2055', '402', '451', '170', '527', '206', '164', '207',\n",
       "       '196', '143', '1295', '520', '364', '1704'], dtype=object)"
      ]
     },
     "execution_count": 9,
     "metadata": {},
     "output_type": "execute_result"
    }
   ],
   "source": [
    "df['hours_played_if_play'].unique()"
   ]
  },
  {
   "cell_type": "code",
   "execution_count": 11,
   "metadata": {},
   "outputs": [
    {
     "data": {
      "text/plain": [
       "array([1.0000e+00, 6.0000e-01, 2.2000e+01, 1.0280e+03, 1.0080e+03,\n",
       "       1.4800e+02, 1.0800e+02, 7.2000e+01, 3.6000e+01, 3.5000e+01,\n",
       "       3.2000e+01, 2.1000e+01, 1.6000e+01, 1.5800e+01, 8.6000e+00,\n",
       "       7.8000e+00, 7.3000e+00, 3.1000e+00, 1.9000e+00, 1.7000e+00,\n",
       "       1.1000e+00, 4.0000e-01, 1.5300e+02, 6.3000e+01, 2.6000e+01,\n",
       "       1.4000e+00, 6.3900e+02, 4.7900e+02, 7.0000e+01, 6.5000e+01,\n",
       "       3.3000e+01, 3.0000e+01, 1.9800e+01, 1.6200e+01, 1.1300e+01,\n",
       "       4.2000e+00, 3.9000e+00, 2.3000e+00, 8.0000e-01, 7.0000e-01,\n",
       "       5.0000e-01, 3.0000e-01, 3.9600e+02, 2.2700e+02, 1.3400e+01,\n",
       "       1.2600e+01, 1.1200e+01, 1.0100e+01, 2.4000e+00, 2.1000e+02,\n",
       "       1.2000e+00, 2.0000e-01, 1.3200e+01, 4.8000e+01, 1.1000e+02,\n",
       "       1.0000e-01, 6.7000e+01, 4.2900e+02, 5.5000e+00, 6.1000e+01,\n",
       "       1.6000e+00, 1.8300e+01, 9.9000e+00, 4.7000e+00, 1.7140e+03,\n",
       "       4.4100e+02, 1.9700e+02, 1.4700e+02, 1.1700e+02, 8.6000e+01,\n",
       "       7.3000e+01, 4.9000e+01, 4.6000e+01, 3.1000e+01, 2.4000e+01,\n",
       "       2.0000e+01, 1.9700e+01, 1.8200e+01, 1.4200e+01, 1.1600e+01,\n",
       "       9.8000e+00, 9.7000e+00, 8.4000e+00, 6.5000e+00, 4.8000e+00,\n",
       "       4.1000e+00, 3.7000e+00, 2.9000e+00, 2.7000e+00, 2.1000e+00,\n",
       "       2.2200e+02,        nan, 1.4900e+01, 1.4100e+01, 8.3000e+01,\n",
       "       1.1100e+01, 3.2000e+00, 3.9500e+02, 2.5100e+02, 9.3000e+00,\n",
       "       7.4000e+00, 5.4000e+01, 3.4000e+01, 1.8000e+00, 9.9000e+01,\n",
       "       9.8000e+01, 9.6000e+01, 2.9000e+01, 2.7000e+01, 2.3000e+01,\n",
       "       1.9100e+01, 1.8700e+01, 1.7500e+01, 1.7000e+01, 1.6600e+01,\n",
       "       1.4700e+01, 1.3300e+01, 1.0700e+01, 1.0200e+01, 1.0000e+01,\n",
       "       9.6000e+00, 9.5000e+00, 8.0000e+00, 7.9000e+00, 7.6000e+00,\n",
       "       7.0000e+00, 6.6000e+00, 6.0000e+00, 5.8000e+00, 5.6000e+00,\n",
       "       5.3000e+00, 4.4000e+00, 4.3000e+00, 3.3000e+00, 3.0000e+00,\n",
       "       2.6000e+00, 2.5000e+00, 9.0000e-01, 6.2000e+00, 1.8900e+01,\n",
       "       2.8000e+00, 4.8140e+03, 4.0000e+00, 4.9400e+02, 1.3000e+00,\n",
       "       1.8400e+02, 1.3800e+01, 1.1400e+01, 8.9000e+00, 6.7000e+00,\n",
       "       4.9600e+02, 1.0860e+03, 5.2500e+02, 3.7000e+02, 2.7000e+02,\n",
       "       1.5100e+02, 8.5000e+01, 6.6000e+01, 5.6000e+01, 1.5300e+01,\n",
       "       1.5100e+01, 1.1500e+01, 7.2000e+00, 3.8000e+00, 1.9600e+01,\n",
       "       2.0000e+00, 2.7400e+02, 7.1000e+00, 4.9000e+00, 4.6000e+00,\n",
       "       3.6000e+00, 1.2100e+01, 1.0300e+02, 1.3100e+01, 6.0000e+01,\n",
       "       3.3090e+03, 5.2400e+02, 4.3100e+02, 4.2800e+02, 2.6200e+02,\n",
       "       2.5000e+02, 1.8000e+02, 1.5400e+02, 1.3700e+02, 1.0600e+02,\n",
       "       1.0000e+02, 8.0000e+01, 6.8000e+01, 6.2000e+01, 5.0000e+01,\n",
       "       4.7000e+01, 4.4000e+01, 3.8000e+01, 3.7000e+01, 1.3500e+01,\n",
       "       1.2000e+01, 1.1900e+01, 1.1000e+01, 9.0000e+00, 8.2000e+00,\n",
       "       8.1000e+00, 7.5000e+00, 6.8000e+00, 5.1000e+00, 5.0000e+00,\n",
       "       2.2000e+00, 1.5000e+00, 5.7000e+01, 9.6400e+02, 4.1000e+01,\n",
       "       1.2500e+01, 1.0400e+01, 3.6100e+02, 8.8000e+01, 8.2000e+01,\n",
       "       1.7600e+01, 1.7100e+01, 1.6300e+01, 1.5200e+01, 1.4600e+01,\n",
       "       1.1700e+01, 8.8000e+00, 8.3000e+00, 5.9000e+00, 7.1700e+02,\n",
       "       3.0300e+02, 1.3900e+01, 1.0600e+01, 2.1790e+03, 5.2600e+02,\n",
       "       2.8000e+01, 1.4500e+01, 1.2400e+01, 1.4900e+02, 1.0800e+01,\n",
       "       1.5000e+01, 1.9900e+01, 1.1300e+02, 7.6000e+01, 6.4600e+02,\n",
       "       2.5000e+01, 1.4000e+01, 5.4600e+02, 1.1800e+01, 3.8100e+02,\n",
       "       1.6100e+01, 2.1500e+02, 8.1000e+01, 1.9500e+01, 2.4800e+02,\n",
       "       5.9000e+01, 4.2000e+01, 1.3700e+01, 3.6260e+03, 9.9700e+02,\n",
       "       6.6500e+02, 6.2200e+02, 5.2200e+02, 3.4400e+02, 2.2400e+02,\n",
       "       2.1300e+02, 2.0800e+02, 1.8600e+02, 9.5000e+01, 7.9000e+01,\n",
       "       7.8000e+01, 4.0000e+01, 1.8100e+01, 1.8000e+01, 1.7800e+01,\n",
       "       1.7400e+01, 1.5900e+01, 1.5500e+01, 1.4800e+01, 1.2300e+01,\n",
       "       3.5000e+00, 3.4000e+00, 1.1600e+02, 6.1000e+00, 3.9300e+02,\n",
       "       3.3200e+02, 2.3800e+02, 3.0700e+02, 1.5700e+02, 5.5000e+02,\n",
       "       5.2000e+01, 9.2000e+00, 1.3430e+03, 1.3600e+01, 8.5000e+00,\n",
       "       1.5700e+01, 2.0200e+02, 5.3000e+02, 4.3000e+01, 6.3000e+00,\n",
       "       5.1800e+02, 2.3200e+02, 1.7500e+02, 5.8000e+01, 9.0000e+01,\n",
       "       1.5400e+01, 1.4400e+01, 1.9300e+02, 1.7300e+02, 1.2200e+01,\n",
       "       1.3390e+03, 1.9000e+02, 1.2100e+02, 7.7000e+00, 4.5000e+00,\n",
       "       2.4900e+02, 7.7000e+01, 3.9900e+02, 2.7800e+02, 9.1000e+01,\n",
       "       6.4000e+00, 1.6200e+02, 8.9000e+01, 1.7200e+01, 9.1000e+00,\n",
       "       6.5200e+02, 5.1700e+02, 1.2500e+02, 1.0500e+02, 7.5000e+01,\n",
       "       5.5000e+01, 1.7900e+01, 1.0900e+01, 8.7000e+00, 1.0300e+01,\n",
       "       5.7000e+00, 5.4000e+00, 1.0500e+01, 1.1800e+02, 9.4000e+00,\n",
       "       2.8400e+02, 7.1000e+01, 1.9300e+01, 2.0900e+02, 5.2000e+00,\n",
       "       1.6050e+03, 1.5400e+03, 7.1000e+02, 6.1700e+02, 3.1200e+02,\n",
       "       6.4400e+02, 1.8900e+02, 1.9100e+02, 1.7600e+02, 1.3600e+02,\n",
       "       1.1500e+02, 3.9000e+01, 1.9000e+01, 6.9000e+01, 1.9120e+03,\n",
       "       7.7700e+02, 6.8600e+02, 1.5600e+01, 1.8400e+01, 5.3900e+02,\n",
       "       1.7600e+03, 1.6500e+02, 1.7300e+01, 1.1200e+02, 3.8600e+02,\n",
       "       7.2000e+02, 4.6600e+02, 1.2400e+02, 1.0900e+02, 8.7000e+01,\n",
       "       1.4300e+01, 6.9000e+00, 6.7600e+02, 4.4900e+02, 2.3600e+02,\n",
       "       1.1900e+02, 5.3000e+01, 4.5000e+01, 3.1780e+03, 1.3020e+03,\n",
       "       7.9500e+02, 1.7400e+02, 1.2300e+02, 1.0400e+02, 1.0100e+02,\n",
       "       6.4000e+01, 5.1000e+01, 1.6900e+01, 1.6800e+01, 1.6500e+01,\n",
       "       1.0300e+03, 1.4500e+02, 2.1400e+02, 1.1754e+04, 1.4400e+02,\n",
       "       5.7900e+02, 2.6300e+02, 2.4100e+02, 1.6000e+02, 1.4100e+02,\n",
       "       1.2000e+02, 9.2000e+01, 1.3000e+01, 2.8900e+02, 1.3370e+03,\n",
       "       1.7700e+01, 2.2580e+03, 2.1700e+02, 1.3500e+02, 3.8900e+02,\n",
       "       2.2800e+02, 1.8700e+02, 1.1100e+02, 3.5700e+02, 9.2300e+02,\n",
       "       1.7200e+02, 1.3690e+03, 1.0490e+03, 4.8800e+02, 1.3000e+02,\n",
       "       1.2600e+02, 9.3000e+01, 1.8800e+01, 1.0640e+03, 1.8500e+01,\n",
       "       1.2900e+01, 4.5800e+02, 4.1800e+02, 1.9400e+02, 2.7200e+02,\n",
       "       1.6400e+01, 4.1900e+02, 1.0700e+02, 2.9000e+02, 1.4990e+03,\n",
       "       8.9100e+02, 6.9300e+02, 3.0200e+02, 2.7300e+02, 2.6400e+02,\n",
       "       1.5800e+02, 1.3300e+02, 1.3010e+03, 4.8500e+02, 1.7540e+03,\n",
       "       2.3100e+02, 1.2800e+01, 1.3200e+02, 7.3300e+02, 2.3000e+02,\n",
       "       1.2700e+02, 6.2700e+02, 9.9400e+02, 3.8700e+02, 4.8700e+02,\n",
       "       5.2800e+02, 1.3800e+02, 8.0900e+02, 5.1100e+02, 2.0550e+03,\n",
       "       4.0200e+02, 4.5100e+02, 1.7000e+02, 5.2700e+02, 2.0600e+02,\n",
       "       1.6400e+02, 2.0700e+02, 1.9600e+02, 1.4300e+02, 1.2950e+03,\n",
       "       5.2000e+02, 3.6400e+02, 1.7040e+03])"
      ]
     },
     "execution_count": 11,
     "metadata": {},
     "output_type": "execute_result"
    }
   ],
   "source": [
    "missing_values = [\"unknown\"]\n",
    "df = pd.read_csv('steam_sample.csv', na_values=missing_values)\n",
    "df['hours_played_if_play'].unique()"
   ]
  },
  {
   "cell_type": "code",
   "execution_count": 12,
   "metadata": {},
   "outputs": [
    {
     "data": {
      "text/plain": [
       "user_id                   int64\n",
       "game_name                object\n",
       "activity                 object\n",
       "hours_played_if_play    float64\n",
       "dtype: object"
      ]
     },
     "execution_count": 12,
     "metadata": {},
     "output_type": "execute_result"
    }
   ],
   "source": [
    "df.dtypes"
   ]
  },
  {
   "cell_type": "code",
   "execution_count": 13,
   "metadata": {},
   "outputs": [
    {
     "data": {
      "text/plain": [
       "user_id                 0\n",
       "game_name               0\n",
       "activity                0\n",
       "hours_played_if_play    8\n",
       "dtype: int64"
      ]
     },
     "execution_count": 13,
     "metadata": {},
     "output_type": "execute_result"
    }
   ],
   "source": [
    "df.isna().sum()"
   ]
  },
  {
   "cell_type": "code",
   "execution_count": 14,
   "metadata": {},
   "outputs": [],
   "source": [
    "df = df.dropna()"
   ]
  },
  {
   "cell_type": "code",
   "execution_count": 15,
   "metadata": {},
   "outputs": [
    {
     "data": {
      "text/plain": [
       "(7798, 4)"
      ]
     },
     "execution_count": 15,
     "metadata": {},
     "output_type": "execute_result"
    }
   ],
   "source": [
    "df.shape"
   ]
  },
  {
   "cell_type": "code",
   "execution_count": 17,
   "metadata": {},
   "outputs": [
    {
     "data": {
      "text/html": [
       "<div>\n",
       "<style scoped>\n",
       "    .dataframe tbody tr th:only-of-type {\n",
       "        vertical-align: middle;\n",
       "    }\n",
       "\n",
       "    .dataframe tbody tr th {\n",
       "        vertical-align: top;\n",
       "    }\n",
       "\n",
       "    .dataframe thead th {\n",
       "        text-align: right;\n",
       "    }\n",
       "</style>\n",
       "<table border=\"1\" class=\"dataframe\">\n",
       "  <thead>\n",
       "    <tr style=\"text-align: right;\">\n",
       "      <th></th>\n",
       "      <th>user_id</th>\n",
       "      <th>game_name</th>\n",
       "      <th>activity</th>\n",
       "      <th>hours_played_if_play</th>\n",
       "    </tr>\n",
       "  </thead>\n",
       "  <tbody>\n",
       "    <tr>\n",
       "      <th>0</th>\n",
       "      <td>308653033</td>\n",
       "      <td>Unturned</td>\n",
       "      <td>purchase</td>\n",
       "      <td>1.0</td>\n",
       "    </tr>\n",
       "    <tr>\n",
       "      <th>1</th>\n",
       "      <td>308653033</td>\n",
       "      <td>Unturned</td>\n",
       "      <td>play</td>\n",
       "      <td>0.6</td>\n",
       "    </tr>\n",
       "    <tr>\n",
       "      <th>2</th>\n",
       "      <td>308653033</td>\n",
       "      <td>theHunter</td>\n",
       "      <td>purchase</td>\n",
       "      <td>1.0</td>\n",
       "    </tr>\n",
       "    <tr>\n",
       "      <th>3</th>\n",
       "      <td>144004384</td>\n",
       "      <td>Dota 2</td>\n",
       "      <td>purchase</td>\n",
       "      <td>1.0</td>\n",
       "    </tr>\n",
       "    <tr>\n",
       "      <th>4</th>\n",
       "      <td>144004384</td>\n",
       "      <td>Dota 2</td>\n",
       "      <td>play</td>\n",
       "      <td>22.0</td>\n",
       "    </tr>\n",
       "  </tbody>\n",
       "</table>\n",
       "</div>"
      ],
      "text/plain": [
       "     user_id  game_name  activity  hours_played_if_play\n",
       "0  308653033   Unturned  purchase                   1.0\n",
       "1  308653033   Unturned      play                   0.6\n",
       "2  308653033  theHunter  purchase                   1.0\n",
       "3  144004384     Dota 2  purchase                   1.0\n",
       "4  144004384     Dota 2      play                  22.0"
      ]
     },
     "execution_count": 17,
     "metadata": {},
     "output_type": "execute_result"
    }
   ],
   "source": [
    "df.head()"
   ]
  },
  {
   "cell_type": "markdown",
   "metadata": {},
   "source": [
    "### 4. Number of Dropped Rows \n",
    "\n",
    "How many rows with missing values did you delete from your original dataframe?"
   ]
  },
  {
   "cell_type": "code",
   "execution_count": 16,
   "metadata": {},
   "outputs": [
    {
     "data": {
      "text/plain": [
       "(7798, 4)"
      ]
     },
     "execution_count": 16,
     "metadata": {},
     "output_type": "execute_result"
    }
   ],
   "source": [
    "df.shape"
   ]
  },
  {
   "cell_type": "markdown",
   "metadata": {},
   "source": [
    "8 rows were deleted"
   ]
  },
  {
   "cell_type": "markdown",
   "metadata": {},
   "source": [
    "### 5. Separate the dataframes. \n",
    "\n",
    "Next, in this analysis we would like to analyze the game purchase information and game play information separately. First create two new dataframes:\n",
    "* one that is comprised of the purchase rows\n",
    "* the other that is comprised of the play rows."
   ]
  },
  {
   "cell_type": "code",
   "execution_count": 122,
   "metadata": {},
   "outputs": [
    {
     "data": {
      "text/html": [
       "<div>\n",
       "<style scoped>\n",
       "    .dataframe tbody tr th:only-of-type {\n",
       "        vertical-align: middle;\n",
       "    }\n",
       "\n",
       "    .dataframe tbody tr th {\n",
       "        vertical-align: top;\n",
       "    }\n",
       "\n",
       "    .dataframe thead th {\n",
       "        text-align: right;\n",
       "    }\n",
       "</style>\n",
       "<table border=\"1\" class=\"dataframe\">\n",
       "  <thead>\n",
       "    <tr style=\"text-align: right;\">\n",
       "      <th></th>\n",
       "      <th>user_id</th>\n",
       "      <th>game_name</th>\n",
       "      <th>activity</th>\n",
       "      <th>hours_played_if_play</th>\n",
       "    </tr>\n",
       "  </thead>\n",
       "  <tbody>\n",
       "    <tr>\n",
       "      <th>0</th>\n",
       "      <td>308653033</td>\n",
       "      <td>Unturned</td>\n",
       "      <td>purchase</td>\n",
       "      <td>1.0</td>\n",
       "    </tr>\n",
       "    <tr>\n",
       "      <th>1</th>\n",
       "      <td>308653033</td>\n",
       "      <td>theHunter</td>\n",
       "      <td>purchase</td>\n",
       "      <td>1.0</td>\n",
       "    </tr>\n",
       "    <tr>\n",
       "      <th>2</th>\n",
       "      <td>144004384</td>\n",
       "      <td>Dota 2</td>\n",
       "      <td>purchase</td>\n",
       "      <td>1.0</td>\n",
       "    </tr>\n",
       "    <tr>\n",
       "      <th>3</th>\n",
       "      <td>54103616</td>\n",
       "      <td>Counter-Strike Global Offensive</td>\n",
       "      <td>purchase</td>\n",
       "      <td>1.0</td>\n",
       "    </tr>\n",
       "    <tr>\n",
       "      <th>4</th>\n",
       "      <td>54103616</td>\n",
       "      <td>Counter-Strike</td>\n",
       "      <td>purchase</td>\n",
       "      <td>1.0</td>\n",
       "    </tr>\n",
       "  </tbody>\n",
       "</table>\n",
       "</div>"
      ],
      "text/plain": [
       "     user_id                        game_name  activity  hours_played_if_play\n",
       "0  308653033                         Unturned  purchase                   1.0\n",
       "1  308653033                        theHunter  purchase                   1.0\n",
       "2  144004384                           Dota 2  purchase                   1.0\n",
       "3   54103616  Counter-Strike Global Offensive  purchase                   1.0\n",
       "4   54103616                   Counter-Strike  purchase                   1.0"
      ]
     },
     "execution_count": 122,
     "metadata": {},
     "output_type": "execute_result"
    }
   ],
   "source": [
    "df_purchase = df[df['activity'] == \"purchase\"]\n",
    "df_purchase = df_purchase.reset_index(drop=True)\n",
    "df_purchase.head()"
   ]
  },
  {
   "cell_type": "code",
   "execution_count": 119,
   "metadata": {},
   "outputs": [
    {
     "data": {
      "text/html": [
       "<div>\n",
       "<style scoped>\n",
       "    .dataframe tbody tr th:only-of-type {\n",
       "        vertical-align: middle;\n",
       "    }\n",
       "\n",
       "    .dataframe tbody tr th {\n",
       "        vertical-align: top;\n",
       "    }\n",
       "\n",
       "    .dataframe thead th {\n",
       "        text-align: right;\n",
       "    }\n",
       "</style>\n",
       "<table border=\"1\" class=\"dataframe\">\n",
       "  <thead>\n",
       "    <tr style=\"text-align: right;\">\n",
       "      <th></th>\n",
       "      <th>user_id</th>\n",
       "      <th>game_name</th>\n",
       "      <th>activity</th>\n",
       "      <th>hours_played_if_play</th>\n",
       "    </tr>\n",
       "  </thead>\n",
       "  <tbody>\n",
       "    <tr>\n",
       "      <th>0</th>\n",
       "      <td>308653033</td>\n",
       "      <td>Unturned</td>\n",
       "      <td>play</td>\n",
       "      <td>0.6</td>\n",
       "    </tr>\n",
       "    <tr>\n",
       "      <th>1</th>\n",
       "      <td>144004384</td>\n",
       "      <td>Dota 2</td>\n",
       "      <td>play</td>\n",
       "      <td>22.0</td>\n",
       "    </tr>\n",
       "    <tr>\n",
       "      <th>2</th>\n",
       "      <td>54103616</td>\n",
       "      <td>Counter-Strike Global Offensive</td>\n",
       "      <td>play</td>\n",
       "      <td>1028.0</td>\n",
       "    </tr>\n",
       "    <tr>\n",
       "      <th>3</th>\n",
       "      <td>54103616</td>\n",
       "      <td>Counter-Strike</td>\n",
       "      <td>play</td>\n",
       "      <td>1008.0</td>\n",
       "    </tr>\n",
       "    <tr>\n",
       "      <th>4</th>\n",
       "      <td>54103616</td>\n",
       "      <td>Left 4 Dead</td>\n",
       "      <td>play</td>\n",
       "      <td>148.0</td>\n",
       "    </tr>\n",
       "  </tbody>\n",
       "</table>\n",
       "</div>"
      ],
      "text/plain": [
       "     user_id                        game_name activity  hours_played_if_play\n",
       "0  308653033                         Unturned     play                   0.6\n",
       "1  144004384                           Dota 2     play                  22.0\n",
       "2   54103616  Counter-Strike Global Offensive     play                1028.0\n",
       "3   54103616                   Counter-Strike     play                1008.0\n",
       "4   54103616                      Left 4 Dead     play                 148.0"
      ]
     },
     "execution_count": 119,
     "metadata": {},
     "output_type": "execute_result"
    }
   ],
   "source": [
    "df_play = df[df['activity'] == \"play\"]\n",
    "df_play = df_play.reset_index(drop=True)\n",
    "df_play.head()"
   ]
  },
  {
   "cell_type": "markdown",
   "metadata": {},
   "source": [
    "### 6. Percentage of Game Purchases that are Actually Played\n",
    "\n",
    "What percentage of all game purchases in this dataset are actually played by the player that purchased them?\n",
    "\n",
    "*You can assume that a game and user id that has a 'play' row ALSO MUST have a 'purchase' row (but not the other way around).*\n",
    "\n",
    "**For full credit, use automated Python code to find your answer. (Ie. don't put something like '30/50', where you found the 30 and 50 from the output of other code.)**"
   ]
  },
  {
   "cell_type": "code",
   "execution_count": 120,
   "metadata": {},
   "outputs": [
    {
     "data": {
      "text/plain": [
       "0.5827075299370814"
      ]
     },
     "execution_count": 120,
     "metadata": {},
     "output_type": "execute_result"
    }
   ],
   "source": [
    "len(df_play)/len(df_purchase)"
   ]
  },
  {
   "cell_type": "markdown",
   "metadata": {},
   "source": [
    "### 7. Top Game Purchaser\n",
    "\n",
    "Next, we'd like to learn more about the people who *purchase* the most amount of games.\n",
    "\n",
    "#### 7.1. Most Amount of Games Purchased\n",
    "\n",
    "What is the user id of the player who has purchased the most amount of games in this dataset, and how many games have they purchased?"
   ]
  },
  {
   "cell_type": "code",
   "execution_count": 121,
   "metadata": {},
   "outputs": [
    {
     "data": {
      "text/html": [
       "<div>\n",
       "<style scoped>\n",
       "    .dataframe tbody tr th:only-of-type {\n",
       "        vertical-align: middle;\n",
       "    }\n",
       "\n",
       "    .dataframe tbody tr th {\n",
       "        vertical-align: top;\n",
       "    }\n",
       "\n",
       "    .dataframe thead th {\n",
       "        text-align: right;\n",
       "    }\n",
       "</style>\n",
       "<table border=\"1\" class=\"dataframe\">\n",
       "  <thead>\n",
       "    <tr style=\"text-align: right;\">\n",
       "      <th></th>\n",
       "      <th>user_id</th>\n",
       "      <th>index</th>\n",
       "      <th>hours_played_if_play</th>\n",
       "    </tr>\n",
       "  </thead>\n",
       "  <tbody>\n",
       "    <tr>\n",
       "      <th>0</th>\n",
       "      <td>683019</td>\n",
       "      <td>38516</td>\n",
       "      <td>13.0</td>\n",
       "    </tr>\n",
       "    <tr>\n",
       "      <th>1</th>\n",
       "      <td>1665511</td>\n",
       "      <td>49532</td>\n",
       "      <td>8.0</td>\n",
       "    </tr>\n",
       "    <tr>\n",
       "      <th>2</th>\n",
       "      <td>4877411</td>\n",
       "      <td>24087</td>\n",
       "      <td>12.0</td>\n",
       "    </tr>\n",
       "    <tr>\n",
       "      <th>3</th>\n",
       "      <td>4897767</td>\n",
       "      <td>49467</td>\n",
       "      <td>8.0</td>\n",
       "    </tr>\n",
       "    <tr>\n",
       "      <th>4</th>\n",
       "      <td>5600822</td>\n",
       "      <td>74429</td>\n",
       "      <td>12.0</td>\n",
       "    </tr>\n",
       "    <tr>\n",
       "      <th>...</th>\n",
       "      <td>...</td>\n",
       "      <td>...</td>\n",
       "      <td>...</td>\n",
       "    </tr>\n",
       "    <tr>\n",
       "      <th>494</th>\n",
       "      <td>306636026</td>\n",
       "      <td>5380</td>\n",
       "      <td>1.0</td>\n",
       "    </tr>\n",
       "    <tr>\n",
       "      <th>495</th>\n",
       "      <td>306950369</td>\n",
       "      <td>5679</td>\n",
       "      <td>1.0</td>\n",
       "    </tr>\n",
       "    <tr>\n",
       "      <th>496</th>\n",
       "      <td>308468736</td>\n",
       "      <td>16245</td>\n",
       "      <td>3.0</td>\n",
       "    </tr>\n",
       "    <tr>\n",
       "      <th>497</th>\n",
       "      <td>308653033</td>\n",
       "      <td>2</td>\n",
       "      <td>2.0</td>\n",
       "    </tr>\n",
       "    <tr>\n",
       "      <th>498</th>\n",
       "      <td>309265377</td>\n",
       "      <td>15454</td>\n",
       "      <td>2.0</td>\n",
       "    </tr>\n",
       "  </tbody>\n",
       "</table>\n",
       "<p>499 rows × 3 columns</p>\n",
       "</div>"
      ],
      "text/plain": [
       "       user_id  index  hours_played_if_play\n",
       "0       683019  38516                  13.0\n",
       "1      1665511  49532                   8.0\n",
       "2      4877411  24087                  12.0\n",
       "3      4897767  49467                   8.0\n",
       "4      5600822  74429                  12.0\n",
       "..         ...    ...                   ...\n",
       "494  306636026   5380                   1.0\n",
       "495  306950369   5679                   1.0\n",
       "496  308468736  16245                   3.0\n",
       "497  308653033      2                   2.0\n",
       "498  309265377  15454                   2.0\n",
       "\n",
       "[499 rows x 3 columns]"
      ]
     },
     "execution_count": 121,
     "metadata": {},
     "output_type": "execute_result"
    }
   ],
   "source": [
    "dfp1 = df_purchase.groupby('user_id').agg(sum).reset_index()\n",
    "dfp1"
   ]
  },
  {
   "cell_type": "code",
   "execution_count": 123,
   "metadata": {},
   "outputs": [
    {
     "data": {
      "text/html": [
       "<div>\n",
       "<style scoped>\n",
       "    .dataframe tbody tr th:only-of-type {\n",
       "        vertical-align: middle;\n",
       "    }\n",
       "\n",
       "    .dataframe tbody tr th {\n",
       "        vertical-align: top;\n",
       "    }\n",
       "\n",
       "    .dataframe thead th {\n",
       "        text-align: right;\n",
       "    }\n",
       "</style>\n",
       "<table border=\"1\" class=\"dataframe\">\n",
       "  <thead>\n",
       "    <tr style=\"text-align: right;\">\n",
       "      <th></th>\n",
       "      <th>user_id</th>\n",
       "      <th>index</th>\n",
       "      <th>hours_played_if_play</th>\n",
       "    </tr>\n",
       "  </thead>\n",
       "  <tbody>\n",
       "    <tr>\n",
       "      <th>0</th>\n",
       "      <td>48798067</td>\n",
       "      <td>1854885</td>\n",
       "      <td>399.0</td>\n",
       "    </tr>\n",
       "    <tr>\n",
       "      <th>1</th>\n",
       "      <td>99077905</td>\n",
       "      <td>164673</td>\n",
       "      <td>177.0</td>\n",
       "    </tr>\n",
       "    <tr>\n",
       "      <th>2</th>\n",
       "      <td>43684632</td>\n",
       "      <td>301839</td>\n",
       "      <td>172.0</td>\n",
       "    </tr>\n",
       "    <tr>\n",
       "      <th>3</th>\n",
       "      <td>88035166</td>\n",
       "      <td>431970</td>\n",
       "      <td>162.0</td>\n",
       "    </tr>\n",
       "    <tr>\n",
       "      <th>4</th>\n",
       "      <td>118852041</td>\n",
       "      <td>602063</td>\n",
       "      <td>152.0</td>\n",
       "    </tr>\n",
       "    <tr>\n",
       "      <th>...</th>\n",
       "      <td>...</td>\n",
       "      <td>...</td>\n",
       "      <td>...</td>\n",
       "    </tr>\n",
       "    <tr>\n",
       "      <th>494</th>\n",
       "      <td>120055850</td>\n",
       "      <td>1067</td>\n",
       "      <td>1.0</td>\n",
       "    </tr>\n",
       "    <tr>\n",
       "      <th>495</th>\n",
       "      <td>116000122</td>\n",
       "      <td>5610</td>\n",
       "      <td>1.0</td>\n",
       "    </tr>\n",
       "    <tr>\n",
       "      <th>496</th>\n",
       "      <td>200714421</td>\n",
       "      <td>1937</td>\n",
       "      <td>1.0</td>\n",
       "    </tr>\n",
       "    <tr>\n",
       "      <th>497</th>\n",
       "      <td>201269065</td>\n",
       "      <td>3262</td>\n",
       "      <td>1.0</td>\n",
       "    </tr>\n",
       "    <tr>\n",
       "      <th>498</th>\n",
       "      <td>159034250</td>\n",
       "      <td>6771</td>\n",
       "      <td>1.0</td>\n",
       "    </tr>\n",
       "  </tbody>\n",
       "</table>\n",
       "<p>499 rows × 3 columns</p>\n",
       "</div>"
      ],
      "text/plain": [
       "       user_id    index  hours_played_if_play\n",
       "0     48798067  1854885                 399.0\n",
       "1     99077905   164673                 177.0\n",
       "2     43684632   301839                 172.0\n",
       "3     88035166   431970                 162.0\n",
       "4    118852041   602063                 152.0\n",
       "..         ...      ...                   ...\n",
       "494  120055850     1067                   1.0\n",
       "495  116000122     5610                   1.0\n",
       "496  200714421     1937                   1.0\n",
       "497  201269065     3262                   1.0\n",
       "498  159034250     6771                   1.0\n",
       "\n",
       "[499 rows x 3 columns]"
      ]
     },
     "execution_count": 123,
     "metadata": {},
     "output_type": "execute_result"
    }
   ],
   "source": [
    "dfp1.sort_values(\"hours_played_if_play\",ascending=False).reset_index(drop=True)"
   ]
  },
  {
   "cell_type": "markdown",
   "metadata": {},
   "source": [
    "48798067"
   ]
  },
  {
   "cell_type": "markdown",
   "metadata": {},
   "source": [
    "#### 7.2. How many games has this user actually played?\n",
    "\n",
    "What percentage of the games did this player from 7.1 actually play?"
   ]
  },
  {
   "cell_type": "code",
   "execution_count": 124,
   "metadata": {},
   "outputs": [
    {
     "data": {
      "text/plain": [
       "0.6365914786967418"
      ]
     },
     "execution_count": 124,
     "metadata": {},
     "output_type": "execute_result"
    }
   ],
   "source": [
    "len(df_play[df_play[\"user_id\"] == 48798067]) / len(df_purchase[df_purchase[\"user_id\"] == 48798067])"
   ]
  },
  {
   "cell_type": "code",
   "execution_count": null,
   "metadata": {},
   "outputs": [],
   "source": []
  },
  {
   "cell_type": "markdown",
   "metadata": {},
   "source": [
    "## 8. Each Game's \"All-Star\" Player\n",
    "\n",
    "Next, we'd like to identify each game's \"all-star\" player, which in this analysis we will consider to be the player that has played the game the longest.\n",
    "\n",
    "### 8.1. Each Game's Highest Play Time\n",
    "\n",
    "In a single dataframe below, display the highest amount of time that each game was played.\n",
    "\n",
    "For full credit, your final resulting dataframe should:\n",
    "1. Be comprised of *two columns*\n",
    " * game_name\n",
    " * hours_played_if_play\n",
    " \n",
    "2. And should have an index going from 0,1,2,... etc."
   ]
  },
  {
   "cell_type": "code",
   "execution_count": 153,
   "metadata": {},
   "outputs": [
    {
     "data": {
      "text/html": [
       "<div>\n",
       "<style scoped>\n",
       "    .dataframe tbody tr th:only-of-type {\n",
       "        vertical-align: middle;\n",
       "    }\n",
       "\n",
       "    .dataframe tbody tr th {\n",
       "        vertical-align: top;\n",
       "    }\n",
       "\n",
       "    .dataframe thead th {\n",
       "        text-align: right;\n",
       "    }\n",
       "</style>\n",
       "<table border=\"1\" class=\"dataframe\">\n",
       "  <thead>\n",
       "    <tr style=\"text-align: right;\">\n",
       "      <th></th>\n",
       "      <th>game_name</th>\n",
       "      <th>hours_played_if_play</th>\n",
       "    </tr>\n",
       "  </thead>\n",
       "  <tbody>\n",
       "    <tr>\n",
       "      <th>0</th>\n",
       "      <td>1... 2... 3... KICK IT! (Drop That Beat Like a...</td>\n",
       "      <td>0.2</td>\n",
       "    </tr>\n",
       "    <tr>\n",
       "      <th>1</th>\n",
       "      <td>18 Wheels of Steel American Long Haul</td>\n",
       "      <td>5.8</td>\n",
       "    </tr>\n",
       "    <tr>\n",
       "      <th>2</th>\n",
       "      <td>3DMark</td>\n",
       "      <td>1.3</td>\n",
       "    </tr>\n",
       "    <tr>\n",
       "      <th>3</th>\n",
       "      <td>60 Seconds!</td>\n",
       "      <td>1.6</td>\n",
       "    </tr>\n",
       "    <tr>\n",
       "      <th>4</th>\n",
       "      <td>7 Days to Die</td>\n",
       "      <td>249.0</td>\n",
       "    </tr>\n",
       "    <tr>\n",
       "      <th>...</th>\n",
       "      <td>...</td>\n",
       "      <td>...</td>\n",
       "    </tr>\n",
       "    <tr>\n",
       "      <th>915</th>\n",
       "      <td>Zombies Monsters Robots</td>\n",
       "      <td>19.0</td>\n",
       "    </tr>\n",
       "    <tr>\n",
       "      <th>916</th>\n",
       "      <td>hocus</td>\n",
       "      <td>0.1</td>\n",
       "    </tr>\n",
       "    <tr>\n",
       "      <th>917</th>\n",
       "      <td>oO</td>\n",
       "      <td>0.2</td>\n",
       "    </tr>\n",
       "    <tr>\n",
       "      <th>918</th>\n",
       "      <td>sZone-Online</td>\n",
       "      <td>4.3</td>\n",
       "    </tr>\n",
       "    <tr>\n",
       "      <th>919</th>\n",
       "      <td>theHunter</td>\n",
       "      <td>13.2</td>\n",
       "    </tr>\n",
       "  </tbody>\n",
       "</table>\n",
       "<p>920 rows × 2 columns</p>\n",
       "</div>"
      ],
      "text/plain": [
       "                                             game_name  hours_played_if_play\n",
       "0    1... 2... 3... KICK IT! (Drop That Beat Like a...                   0.2\n",
       "1                18 Wheels of Steel American Long Haul                   5.8\n",
       "2                                               3DMark                   1.3\n",
       "3                                          60 Seconds!                   1.6\n",
       "4                                        7 Days to Die                 249.0\n",
       "..                                                 ...                   ...\n",
       "915                            Zombies Monsters Robots                  19.0\n",
       "916                                              hocus                   0.1\n",
       "917                                                 oO                   0.2\n",
       "918                                       sZone-Online                   4.3\n",
       "919                                          theHunter                  13.2\n",
       "\n",
       "[920 rows x 2 columns]"
      ]
     },
     "execution_count": 153,
     "metadata": {},
     "output_type": "execute_result"
    }
   ],
   "source": [
    "dfhpt = df_play.groupby(\"game_name\").agg(\"sum\").reset_index()\n",
    "dfhpt = dfhpt.iloc[:,[0,2]]\n",
    "dfhpt"
   ]
  },
  {
   "cell_type": "code",
   "execution_count": null,
   "metadata": {},
   "outputs": [],
   "source": []
  },
  {
   "cell_type": "markdown",
   "metadata": {},
   "source": [
    "### 8.2. Ranking the Games by Highest Maximum Game Play Time\n",
    "\n",
    "Sort your final resulting dataframe from 8.1 by the number of hours that the game was played by the all-star player *in descending order*.\n",
    "\n",
    "Overwrite your dataframe, so it remains sorted in this order."
   ]
  },
  {
   "cell_type": "code",
   "execution_count": 161,
   "metadata": {},
   "outputs": [
    {
     "data": {
      "text/html": [
       "<div>\n",
       "<style scoped>\n",
       "    .dataframe tbody tr th:only-of-type {\n",
       "        vertical-align: middle;\n",
       "    }\n",
       "\n",
       "    .dataframe tbody tr th {\n",
       "        vertical-align: top;\n",
       "    }\n",
       "\n",
       "    .dataframe thead th {\n",
       "        text-align: right;\n",
       "    }\n",
       "</style>\n",
       "<table border=\"1\" class=\"dataframe\">\n",
       "  <thead>\n",
       "    <tr style=\"text-align: right;\">\n",
       "      <th></th>\n",
       "      <th>game_name</th>\n",
       "      <th>hours_played_if_play</th>\n",
       "    </tr>\n",
       "  </thead>\n",
       "  <tbody>\n",
       "    <tr>\n",
       "      <th>0</th>\n",
       "      <td>Dota 2</td>\n",
       "      <td>31965.8</td>\n",
       "    </tr>\n",
       "    <tr>\n",
       "      <th>1</th>\n",
       "      <td>Counter-Strike Global Offensive</td>\n",
       "      <td>18345.2</td>\n",
       "    </tr>\n",
       "    <tr>\n",
       "      <th>2</th>\n",
       "      <td>Sid Meier's Civilization V</td>\n",
       "      <td>14490.0</td>\n",
       "    </tr>\n",
       "    <tr>\n",
       "      <th>3</th>\n",
       "      <td>Counter-Strike</td>\n",
       "      <td>10273.1</td>\n",
       "    </tr>\n",
       "    <tr>\n",
       "      <th>4</th>\n",
       "      <td>The Elder Scrolls V Skyrim</td>\n",
       "      <td>3737.2</td>\n",
       "    </tr>\n",
       "    <tr>\n",
       "      <th>...</th>\n",
       "      <td>...</td>\n",
       "      <td>...</td>\n",
       "    </tr>\n",
       "    <tr>\n",
       "      <th>915</th>\n",
       "      <td>Shan Gui</td>\n",
       "      <td>0.1</td>\n",
       "    </tr>\n",
       "    <tr>\n",
       "      <th>916</th>\n",
       "      <td>Remember Me</td>\n",
       "      <td>0.1</td>\n",
       "    </tr>\n",
       "    <tr>\n",
       "      <th>917</th>\n",
       "      <td>Star Wars Jedi Knight Dark Forces II</td>\n",
       "      <td>0.1</td>\n",
       "    </tr>\n",
       "    <tr>\n",
       "      <th>918</th>\n",
       "      <td>The Showdown Effect</td>\n",
       "      <td>0.1</td>\n",
       "    </tr>\n",
       "    <tr>\n",
       "      <th>919</th>\n",
       "      <td>The Way of Life Free Edition</td>\n",
       "      <td>0.1</td>\n",
       "    </tr>\n",
       "  </tbody>\n",
       "</table>\n",
       "<p>920 rows × 2 columns</p>\n",
       "</div>"
      ],
      "text/plain": [
       "                                game_name  hours_played_if_play\n",
       "0                                  Dota 2               31965.8\n",
       "1         Counter-Strike Global Offensive               18345.2\n",
       "2              Sid Meier's Civilization V               14490.0\n",
       "3                          Counter-Strike               10273.1\n",
       "4              The Elder Scrolls V Skyrim                3737.2\n",
       "..                                    ...                   ...\n",
       "915                              Shan Gui                   0.1\n",
       "916                           Remember Me                   0.1\n",
       "917  Star Wars Jedi Knight Dark Forces II                   0.1\n",
       "918                   The Showdown Effect                   0.1\n",
       "919          The Way of Life Free Edition                   0.1\n",
       "\n",
       "[920 rows x 2 columns]"
      ]
     },
     "execution_count": 161,
     "metadata": {},
     "output_type": "execute_result"
    }
   ],
   "source": [
    "dfhpt = dfhpt.sort_values(\"hours_played_if_play\",ascending=False).reset_index(drop=True)\n",
    "dfhpt"
   ]
  },
  {
   "cell_type": "markdown",
   "metadata": {},
   "source": [
    "### 8.3. Find the User Ids of each Games \"All-Star\" Player\n",
    "\n",
    "Finally, display a dataframe that shows the **user id** and the **hours played** of each corresponding **game's** all-star player(s).\n",
    "\n",
    "**For full credit, your final result should not contain an 'activity' column. It should just have a user id, hours played, and game column.**"
   ]
  },
  {
   "cell_type": "code",
   "execution_count": 182,
   "metadata": {},
   "outputs": [
    {
     "data": {
      "text/html": [
       "<div>\n",
       "<style scoped>\n",
       "    .dataframe tbody tr th:only-of-type {\n",
       "        vertical-align: middle;\n",
       "    }\n",
       "\n",
       "    .dataframe tbody tr th {\n",
       "        vertical-align: top;\n",
       "    }\n",
       "\n",
       "    .dataframe thead th {\n",
       "        text-align: right;\n",
       "    }\n",
       "</style>\n",
       "<table border=\"1\" class=\"dataframe\">\n",
       "  <thead>\n",
       "    <tr style=\"text-align: right;\">\n",
       "      <th></th>\n",
       "      <th>game_name</th>\n",
       "      <th>user_id</th>\n",
       "      <th>hours_played_if_play</th>\n",
       "    </tr>\n",
       "  </thead>\n",
       "  <tbody>\n",
       "    <tr>\n",
       "      <th>0</th>\n",
       "      <td>1... 2... 3... KICK IT! (Drop That Beat Like a...</td>\n",
       "      <td>78560022</td>\n",
       "      <td>0.2</td>\n",
       "    </tr>\n",
       "    <tr>\n",
       "      <th>1</th>\n",
       "      <td>18 Wheels of Steel American Long Haul</td>\n",
       "      <td>43684632</td>\n",
       "      <td>5.8</td>\n",
       "    </tr>\n",
       "    <tr>\n",
       "      <th>2</th>\n",
       "      <td>3DMark</td>\n",
       "      <td>48798067</td>\n",
       "      <td>1.3</td>\n",
       "    </tr>\n",
       "    <tr>\n",
       "      <th>3</th>\n",
       "      <td>60 Seconds!</td>\n",
       "      <td>95780749</td>\n",
       "      <td>1.6</td>\n",
       "    </tr>\n",
       "    <tr>\n",
       "      <th>4</th>\n",
       "      <td>7 Days to Die</td>\n",
       "      <td>174287424</td>\n",
       "      <td>175.0</td>\n",
       "    </tr>\n",
       "    <tr>\n",
       "      <th>...</th>\n",
       "      <td>...</td>\n",
       "      <td>...</td>\n",
       "      <td>...</td>\n",
       "    </tr>\n",
       "    <tr>\n",
       "      <th>915</th>\n",
       "      <td>Zombies Monsters Robots</td>\n",
       "      <td>118852041</td>\n",
       "      <td>19.0</td>\n",
       "    </tr>\n",
       "    <tr>\n",
       "      <th>916</th>\n",
       "      <td>hocus</td>\n",
       "      <td>195072781</td>\n",
       "      <td>0.1</td>\n",
       "    </tr>\n",
       "    <tr>\n",
       "      <th>917</th>\n",
       "      <td>oO</td>\n",
       "      <td>118852041</td>\n",
       "      <td>0.2</td>\n",
       "    </tr>\n",
       "    <tr>\n",
       "      <th>918</th>\n",
       "      <td>sZone-Online</td>\n",
       "      <td>294834367</td>\n",
       "      <td>2.3</td>\n",
       "    </tr>\n",
       "    <tr>\n",
       "      <th>919</th>\n",
       "      <td>theHunter</td>\n",
       "      <td>201708562</td>\n",
       "      <td>8.6</td>\n",
       "    </tr>\n",
       "  </tbody>\n",
       "</table>\n",
       "<p>920 rows × 3 columns</p>\n",
       "</div>"
      ],
      "text/plain": [
       "                                             game_name    user_id  \\\n",
       "0    1... 2... 3... KICK IT! (Drop That Beat Like a...   78560022   \n",
       "1                18 Wheels of Steel American Long Haul   43684632   \n",
       "2                                               3DMark   48798067   \n",
       "3                                          60 Seconds!   95780749   \n",
       "4                                        7 Days to Die  174287424   \n",
       "..                                                 ...        ...   \n",
       "915                            Zombies Monsters Robots  118852041   \n",
       "916                                              hocus  195072781   \n",
       "917                                                 oO  118852041   \n",
       "918                                       sZone-Online  294834367   \n",
       "919                                          theHunter  201708562   \n",
       "\n",
       "     hours_played_if_play  \n",
       "0                     0.2  \n",
       "1                     5.8  \n",
       "2                     1.3  \n",
       "3                     1.6  \n",
       "4                   175.0  \n",
       "..                    ...  \n",
       "915                  19.0  \n",
       "916                   0.1  \n",
       "917                   0.2  \n",
       "918                   2.3  \n",
       "919                   8.6  \n",
       "\n",
       "[920 rows x 3 columns]"
      ]
     },
     "execution_count": 182,
     "metadata": {},
     "output_type": "execute_result"
    }
   ],
   "source": [
    "dfasp = df_play.groupby(\"game_name\").agg(max).reset_index()\n",
    "dfasp = dfasp.iloc[:,[0,1,3]]\n",
    "dfasp"
   ]
  },
  {
   "cell_type": "markdown",
   "metadata": {},
   "source": [
    "## 9. Learning about the All-Star Players\n",
    "\n",
    "Is it possible that some players are an \"all-star\" player for *multiple games* in this dataset? Let's learn more.\n",
    "\n",
    "\n",
    "### 9.1. All-Star Player Game Count\n",
    "\n",
    "Considering the all-star players in the dataframe from 8.3, which player is the all-star for the *most amount of games*? And how many games are they all-star player for?"
   ]
  },
  {
   "cell_type": "code",
   "execution_count": 191,
   "metadata": {},
   "outputs": [
    {
     "data": {
      "text/html": [
       "<div>\n",
       "<style scoped>\n",
       "    .dataframe tbody tr th:only-of-type {\n",
       "        vertical-align: middle;\n",
       "    }\n",
       "\n",
       "    .dataframe tbody tr th {\n",
       "        vertical-align: top;\n",
       "    }\n",
       "\n",
       "    .dataframe thead th {\n",
       "        text-align: right;\n",
       "    }\n",
       "</style>\n",
       "<table border=\"1\" class=\"dataframe\">\n",
       "  <thead>\n",
       "    <tr style=\"text-align: right;\">\n",
       "      <th></th>\n",
       "      <th>game_name</th>\n",
       "      <th>user_id</th>\n",
       "      <th>hours_played_if_play</th>\n",
       "    </tr>\n",
       "  </thead>\n",
       "  <tbody>\n",
       "    <tr>\n",
       "      <th>0</th>\n",
       "      <td>Brawlhalla</td>\n",
       "      <td>309265377</td>\n",
       "      <td>7.4</td>\n",
       "    </tr>\n",
       "    <tr>\n",
       "      <th>1</th>\n",
       "      <td>MicroVolts Surge</td>\n",
       "      <td>309265377</td>\n",
       "      <td>2.4</td>\n",
       "    </tr>\n",
       "    <tr>\n",
       "      <th>2</th>\n",
       "      <td>Unturned</td>\n",
       "      <td>308653033</td>\n",
       "      <td>138.0</td>\n",
       "    </tr>\n",
       "    <tr>\n",
       "      <th>3</th>\n",
       "      <td>Magic Duels</td>\n",
       "      <td>308468736</td>\n",
       "      <td>34.0</td>\n",
       "    </tr>\n",
       "    <tr>\n",
       "      <th>4</th>\n",
       "      <td>War Thunder</td>\n",
       "      <td>308468736</td>\n",
       "      <td>458.0</td>\n",
       "    </tr>\n",
       "    <tr>\n",
       "      <th>...</th>\n",
       "      <td>...</td>\n",
       "      <td>...</td>\n",
       "      <td>...</td>\n",
       "    </tr>\n",
       "    <tr>\n",
       "      <th>915</th>\n",
       "      <td>DUNGEONS - Steam Special Edition</td>\n",
       "      <td>16084897</td>\n",
       "      <td>1.0</td>\n",
       "    </tr>\n",
       "    <tr>\n",
       "      <th>916</th>\n",
       "      <td>Shattered Union</td>\n",
       "      <td>16084897</td>\n",
       "      <td>116.0</td>\n",
       "    </tr>\n",
       "    <tr>\n",
       "      <th>917</th>\n",
       "      <td>Dementium II HD</td>\n",
       "      <td>16084897</td>\n",
       "      <td>0.7</td>\n",
       "    </tr>\n",
       "    <tr>\n",
       "      <th>918</th>\n",
       "      <td>Revolution Ace</td>\n",
       "      <td>14962163</td>\n",
       "      <td>0.2</td>\n",
       "    </tr>\n",
       "    <tr>\n",
       "      <th>919</th>\n",
       "      <td>Speedball 2 Tournament</td>\n",
       "      <td>10869571</td>\n",
       "      <td>0.4</td>\n",
       "    </tr>\n",
       "  </tbody>\n",
       "</table>\n",
       "<p>920 rows × 3 columns</p>\n",
       "</div>"
      ],
      "text/plain": [
       "                            game_name    user_id  hours_played_if_play\n",
       "0                          Brawlhalla  309265377                   7.4\n",
       "1                    MicroVolts Surge  309265377                   2.4\n",
       "2                            Unturned  308653033                 138.0\n",
       "3                         Magic Duels  308468736                  34.0\n",
       "4                         War Thunder  308468736                 458.0\n",
       "..                                ...        ...                   ...\n",
       "915  DUNGEONS - Steam Special Edition   16084897                   1.0\n",
       "916                   Shattered Union   16084897                 116.0\n",
       "917                   Dementium II HD   16084897                   0.7\n",
       "918                    Revolution Ace   14962163                   0.2\n",
       "919            Speedball 2 Tournament   10869571                   0.4\n",
       "\n",
       "[920 rows x 3 columns]"
      ]
     },
     "execution_count": 191,
     "metadata": {},
     "output_type": "execute_result"
    }
   ],
   "source": [
    "dfaspm = dfasp.sort_values(\"user_id\",ascending=False).reset_index(drop=True)\n",
    "dfaspm[\"user_id\"].mode()\n",
    "dfaspm"
   ]
  },
  {
   "cell_type": "code",
   "execution_count": 193,
   "metadata": {},
   "outputs": [
    {
     "data": {
      "text/html": [
       "<div>\n",
       "<style scoped>\n",
       "    .dataframe tbody tr th:only-of-type {\n",
       "        vertical-align: middle;\n",
       "    }\n",
       "\n",
       "    .dataframe tbody tr th {\n",
       "        vertical-align: top;\n",
       "    }\n",
       "\n",
       "    .dataframe thead th {\n",
       "        text-align: right;\n",
       "    }\n",
       "</style>\n",
       "<table border=\"1\" class=\"dataframe\">\n",
       "  <thead>\n",
       "    <tr style=\"text-align: right;\">\n",
       "      <th></th>\n",
       "      <th>game_name</th>\n",
       "      <th>user_id</th>\n",
       "      <th>hours_played_if_play</th>\n",
       "    </tr>\n",
       "  </thead>\n",
       "  <tbody>\n",
       "    <tr>\n",
       "      <th>731</th>\n",
       "      <td>3DMark</td>\n",
       "      <td>48798067</td>\n",
       "      <td>1.3</td>\n",
       "    </tr>\n",
       "    <tr>\n",
       "      <th>732</th>\n",
       "      <td>The Chronicles of Riddick Assault on Dark Athena</td>\n",
       "      <td>48798067</td>\n",
       "      <td>15.6</td>\n",
       "    </tr>\n",
       "    <tr>\n",
       "      <th>733</th>\n",
       "      <td>Zombie Panic Source</td>\n",
       "      <td>48798067</td>\n",
       "      <td>4.2</td>\n",
       "    </tr>\n",
       "    <tr>\n",
       "      <th>734</th>\n",
       "      <td>Hero Siege</td>\n",
       "      <td>48798067</td>\n",
       "      <td>8.1</td>\n",
       "    </tr>\n",
       "    <tr>\n",
       "      <th>735</th>\n",
       "      <td>The Elder Scrolls IV Oblivion</td>\n",
       "      <td>48798067</td>\n",
       "      <td>59.0</td>\n",
       "    </tr>\n",
       "    <tr>\n",
       "      <th>...</th>\n",
       "      <td>...</td>\n",
       "      <td>...</td>\n",
       "      <td>...</td>\n",
       "    </tr>\n",
       "    <tr>\n",
       "      <th>838</th>\n",
       "      <td>Another World</td>\n",
       "      <td>48798067</td>\n",
       "      <td>2.2</td>\n",
       "    </tr>\n",
       "    <tr>\n",
       "      <th>839</th>\n",
       "      <td>Joe Dever's Lone Wolf HD Remastered</td>\n",
       "      <td>48798067</td>\n",
       "      <td>14.3</td>\n",
       "    </tr>\n",
       "    <tr>\n",
       "      <th>840</th>\n",
       "      <td>Kane &amp; Lynch Dead Men</td>\n",
       "      <td>48798067</td>\n",
       "      <td>3.2</td>\n",
       "    </tr>\n",
       "    <tr>\n",
       "      <th>841</th>\n",
       "      <td>Kane &amp; Lynch 2 Dog Days</td>\n",
       "      <td>48798067</td>\n",
       "      <td>4.3</td>\n",
       "    </tr>\n",
       "    <tr>\n",
       "      <th>842</th>\n",
       "      <td>Lara Croft and the Guardian of Light</td>\n",
       "      <td>48798067</td>\n",
       "      <td>0.3</td>\n",
       "    </tr>\n",
       "  </tbody>\n",
       "</table>\n",
       "<p>112 rows × 3 columns</p>\n",
       "</div>"
      ],
      "text/plain": [
       "                                            game_name   user_id  \\\n",
       "731                                            3DMark  48798067   \n",
       "732  The Chronicles of Riddick Assault on Dark Athena  48798067   \n",
       "733                               Zombie Panic Source  48798067   \n",
       "734                                        Hero Siege  48798067   \n",
       "735                    The Elder Scrolls IV Oblivion   48798067   \n",
       "..                                                ...       ...   \n",
       "838                                     Another World  48798067   \n",
       "839               Joe Dever's Lone Wolf HD Remastered  48798067   \n",
       "840                             Kane & Lynch Dead Men  48798067   \n",
       "841                           Kane & Lynch 2 Dog Days  48798067   \n",
       "842              Lara Croft and the Guardian of Light  48798067   \n",
       "\n",
       "     hours_played_if_play  \n",
       "731                   1.3  \n",
       "732                  15.6  \n",
       "733                   4.2  \n",
       "734                   8.1  \n",
       "735                  59.0  \n",
       "..                    ...  \n",
       "838                   2.2  \n",
       "839                  14.3  \n",
       "840                   3.2  \n",
       "841                   4.3  \n",
       "842                   0.3  \n",
       "\n",
       "[112 rows x 3 columns]"
      ]
     },
     "execution_count": 193,
     "metadata": {},
     "output_type": "execute_result"
    }
   ],
   "source": [
    "check = dfaspm[dfaspm[\"user_id\"] == 48798067]\n",
    "check"
   ]
  },
  {
   "cell_type": "markdown",
   "metadata": {},
   "source": [
    "### 9.2. Top All-Star Player Stats\n",
    "\n",
    "For the top all-star player that you identified in 9.1 above, what percentage of the *games that they have actually played* are they an all-star player for?\n",
    "\n",
    "**Use automated Python code to help you answer this question. In other words, your final answer should not look something like '201/300', where you got 201 and 300 from other code.**"
   ]
  },
  {
   "cell_type": "code",
   "execution_count": 194,
   "metadata": {},
   "outputs": [
    {
     "data": {
      "text/plain": [
       "0.4409448818897638"
      ]
     },
     "execution_count": 194,
     "metadata": {},
     "output_type": "execute_result"
    }
   ],
   "source": [
    "len(check)/len(df_play[df_play[\"user_id\"] == 48798067])"
   ]
  },
  {
   "cell_type": "code",
   "execution_count": null,
   "metadata": {},
   "outputs": [],
   "source": []
  }
 ],
 "metadata": {
  "kernelspec": {
   "display_name": "Python 3 (ipykernel)",
   "language": "python",
   "name": "python3"
  },
  "language_info": {
   "codemirror_mode": {
    "name": "ipython",
    "version": 3
   },
   "file_extension": ".py",
   "mimetype": "text/x-python",
   "name": "python",
   "nbconvert_exporter": "python",
   "pygments_lexer": "ipython3",
   "version": "3.9.12"
  }
 },
 "nbformat": 4,
 "nbformat_minor": 2
}
