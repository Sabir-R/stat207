{
 "cells": [
  {
   "cell_type": "markdown",
   "metadata": {},
   "source": [
    "# STAT 207 Lab Assignment 3 - Individual Part - [25 total points]\n",
    "\n",
    "## Numerical Variable Descriptive Analytics"
   ]
  },
  {
   "cell_type": "markdown",
   "metadata": {},
   "source": [
    "Due: Tuesday, September 13, 11:59pm CST\n",
    "\n",
    "<hr>\n"
   ]
  },
  {
   "cell_type": "markdown",
   "metadata": {},
   "source": [
    "## <u>Case Study</u>: Steam Game Play and Purchase Analysis Continued\n",
    "Steam is the world's most popular PC Gaming hub. With a massive collection that includes everything from AAA blockbusters to small indie titles, great discovery tools can be super valuable for Steam. What can we learn about Steam gaming behavior?\n",
    "\n",
    "\n",
    "### Dataset Description\n",
    "The dataset we will be analyzing is comprised of a random sample of Steam users and their game play and purchase behaviors. It has the following columns:\n",
    "* **user_id**: the user id of the Steam user\n",
    "* **game_name**: the nume of the game that the user either *purchased* or *played*.\n",
    "* **activity**:\n",
    "    - <u>purchase</u>: indicating that the user has *purchased* the corresponding game\n",
    "    - <u>play</u>: indicating that the user has *played* the corresponding game (for at least some amount of time.) \n",
    "* **hours_played_if_play**:\n",
    "    - if the row corresponds to a 'play' activity, this number represents the number of hours the user has played the game\n",
    "    - if the row corresponds to a 'purchase' activity, this number is always a 1 (and means nothing... it's a placeholder).\n",
    "\n",
    "<hr>\n",
    "\n",
    "### Research Goals\n",
    "\n",
    "How do we know when a Steam game is popular? Our goal for this analysis will be to calculate and evaluate three different \"popularity metrics\" for every game in the dataset. Can we use any of these popularity metrics by themselves to get a true picture about how popular a game really is?\n",
    "\n",
    "\n",
    "\n",
    "### Points\n",
    "\n",
    "<p>&nbsp;</p>\n",
    "<table style=\"border: none;border-collapse: collapse;width:102pt;\">\n",
    "    <tbody>\n",
    "        <tr>\n",
    "            <td style=\"color:black;font-size:15px;font-weight:700;font-style:normal;text-decoration:none;font-family:Calibri, sans-serif;text-align:right;vertical-align:bottom;border:.5pt solid windowtext;height:14.25pt;width:51pt;\">Problem</td>\n",
    "            <td style=\"color:black;font-size:15px;font-weight:700;font-style:normal;text-decoration:none;font-family:Calibri, sans-serif;text-align:general;vertical-align:bottom;border:.5pt solid windowtext;border-left:none;width:51pt;\">Points</td>\n",
    "        </tr>\n",
    "        <tr>\n",
    "            <td style=\"color:black;font-size:15px;font-weight:400;font-style:normal;text-decoration:none;font-family:Calibri, sans-serif;text-align:right;vertical-align:bottom;border:.5pt solid windowtext;height:14.25pt;border-top:none;\">1.1</td>\n",
    "            <td style=\"color:black;font-size:15px;font-weight:400;font-style:normal;text-decoration:none;font-family:Calibri, sans-serif;text-align:right;vertical-align:bottom;border:.5pt solid windowtext;border-top:none;border-left:none;\">0.5</td>\n",
    "        </tr>\n",
    "        <tr>\n",
    "            <td style=\"color:black;font-size:15px;font-weight:400;font-style:normal;text-decoration:none;font-family:Calibri, sans-serif;text-align:right;vertical-align:bottom;border:.5pt solid windowtext;height:14.25pt;border-top:none;\">1.2</td>\n",
    "            <td style=\"color:black;font-size:15px;font-weight:400;font-style:normal;text-decoration:none;font-family:Calibri, sans-serif;text-align:right;vertical-align:bottom;border:.5pt solid windowtext;border-top:none;border-left:none;\">0.5</td>\n",
    "        </tr>\n",
    "        <tr>\n",
    "            <td style=\"color:black;font-size:15px;font-weight:400;font-style:normal;text-decoration:none;font-family:Calibri, sans-serif;text-align:right;vertical-align:bottom;border:.5pt solid windowtext;height:14.25pt;border-top:none;\">2.1.1</td>\n",
    "            <td style=\"color:black;font-size:15px;font-weight:400;font-style:normal;text-decoration:none;font-family:Calibri, sans-serif;text-align:right;vertical-align:bottom;border:.5pt solid windowtext;border-top:none;border-left:none;\">1</td>\n",
    "        </tr>\n",
    "        <tr>\n",
    "            <td style=\"color:black;font-size:15px;font-weight:400;font-style:normal;text-decoration:none;font-family:Calibri, sans-serif;text-align:right;vertical-align:bottom;border:.5pt solid windowtext;height:14.25pt;border-top:none;\">2.1.2</td>\n",
    "            <td style=\"color:black;font-size:15px;font-weight:400;font-style:normal;text-decoration:none;font-family:Calibri, sans-serif;text-align:right;vertical-align:bottom;border:.5pt solid windowtext;border-top:none;border-left:none;\">1</td>\n",
    "        </tr>\n",
    "        <tr>\n",
    "            <td style=\"color:black;font-size:15px;font-weight:400;font-style:normal;text-decoration:none;font-family:Calibri, sans-serif;text-align:right;vertical-align:bottom;border:.5pt solid windowtext;height:14.25pt;border-top:none;\">2.1.3</td>\n",
    "            <td style=\"color:black;font-size:15px;font-weight:400;font-style:normal;text-decoration:none;font-family:Calibri, sans-serif;text-align:right;vertical-align:bottom;border:.5pt solid windowtext;border-top:none;border-left:none;\">1.5</td>\n",
    "        </tr>\n",
    "        <tr>\n",
    "            <td style=\"color:black;font-size:15px;font-weight:400;font-style:normal;text-decoration:none;font-family:Calibri, sans-serif;text-align:right;vertical-align:bottom;border:.5pt solid windowtext;height:14.25pt;border-top:none;\">2.1.4</td>\n",
    "            <td style=\"color:black;font-size:15px;font-weight:400;font-style:normal;text-decoration:none;font-family:Calibri, sans-serif;text-align:right;vertical-align:bottom;border:.5pt solid windowtext;border-top:none;border-left:none;\">1</td>\n",
    "        </tr>\n",
    "        <tr>\n",
    "            <td style=\"color:black;font-size:15px;font-weight:400;font-style:normal;text-decoration:none;font-family:Calibri, sans-serif;text-align:right;vertical-align:bottom;border:.5pt solid windowtext;height:14.25pt;border-top:none;\">2.2.1</td>\n",
    "            <td style=\"color:black;font-size:15px;font-weight:400;font-style:normal;text-decoration:none;font-family:Calibri, sans-serif;text-align:right;vertical-align:bottom;border:.5pt solid windowtext;border-top:none;border-left:none;\">1.5</td>\n",
    "        </tr>\n",
    "        <tr>\n",
    "            <td style=\"color:black;font-size:15px;font-weight:400;font-style:normal;text-decoration:none;font-family:Calibri, sans-serif;text-align:right;vertical-align:bottom;border:.5pt solid windowtext;height:14.25pt;border-top:none;\">2.2.2</td>\n",
    "            <td style=\"color:black;font-size:15px;font-weight:400;font-style:normal;text-decoration:none;font-family:Calibri, sans-serif;text-align:right;vertical-align:bottom;border:.5pt solid windowtext;border-top:none;border-left:none;\">1</td>\n",
    "        </tr>\n",
    "        <tr>\n",
    "            <td style=\"color:black;font-size:15px;font-weight:400;font-style:normal;text-decoration:none;font-family:Calibri, sans-serif;text-align:right;vertical-align:bottom;border:.5pt solid windowtext;height:14.25pt;border-top:none;\">2.2.3</td>\n",
    "            <td style=\"color:black;font-size:15px;font-weight:400;font-style:normal;text-decoration:none;font-family:Calibri, sans-serif;text-align:right;vertical-align:bottom;border:.5pt solid windowtext;border-top:none;border-left:none;\">1.5</td>\n",
    "        </tr>\n",
    "        <tr>\n",
    "            <td style=\"color:black;font-size:15px;font-weight:400;font-style:normal;text-decoration:none;font-family:Calibri, sans-serif;text-align:right;vertical-align:bottom;border:.5pt solid windowtext;height:14.25pt;border-top:none;\">2.3.1</td>\n",
    "            <td style=\"color:black;font-size:15px;font-weight:400;font-style:normal;text-decoration:none;font-family:Calibri, sans-serif;text-align:right;vertical-align:bottom;border:.5pt solid windowtext;border-top:none;border-left:none;\">1.5</td>\n",
    "        </tr>\n",
    "        <tr>\n",
    "            <td style=\"color:black;font-size:15px;font-weight:400;font-style:normal;text-decoration:none;font-family:Calibri, sans-serif;text-align:right;vertical-align:bottom;border:.5pt solid windowtext;height:14.25pt;border-top:none;\">2.3.2</td>\n",
    "            <td style=\"color:black;font-size:15px;font-weight:400;font-style:normal;text-decoration:none;font-family:Calibri, sans-serif;text-align:right;vertical-align:bottom;border:.5pt solid windowtext;border-top:none;border-left:none;\">1</td>\n",
    "        </tr>\n",
    "        <tr>\n",
    "            <td style=\"color:black;font-size:15px;font-weight:400;font-style:normal;text-decoration:none;font-family:Calibri, sans-serif;text-align:right;vertical-align:bottom;border:.5pt solid windowtext;height:14.25pt;border-top:none;\">2.3.3</td>\n",
    "            <td style=\"color:black;font-size:15px;font-weight:400;font-style:normal;text-decoration:none;font-family:Calibri, sans-serif;text-align:right;vertical-align:bottom;border:.5pt solid windowtext;border-top:none;border-left:none;\">1.5</td>\n",
    "        </tr>\n",
    "        <tr>\n",
    "            <td style=\"color:black;font-size:15px;font-weight:400;font-style:normal;text-decoration:none;font-family:Calibri, sans-serif;text-align:right;vertical-align:bottom;border:.5pt solid windowtext;height:14.25pt;border-top:none;\">2.3.4</td>\n",
    "            <td style=\"color:black;font-size:15px;font-weight:400;font-style:normal;text-decoration:none;font-family:Calibri, sans-serif;text-align:right;vertical-align:bottom;border:.5pt solid windowtext;border-top:none;border-left:none;\">1.5</td>\n",
    "        </tr>\n",
    "        <tr>\n",
    "            <td style=\"color:black;font-size:15px;font-weight:400;font-style:normal;text-decoration:none;font-family:Calibri, sans-serif;text-align:right;vertical-align:bottom;border:.5pt solid windowtext;height:14.25pt;border-top:none;\">2.3.5</td>\n",
    "            <td style=\"color:black;font-size:15px;font-weight:400;font-style:normal;text-decoration:none;font-family:Calibri, sans-serif;text-align:right;vertical-align:bottom;border:.5pt solid windowtext;border-top:none;border-left:none;\">1</td>\n",
    "        </tr>\n",
    "        <tr>\n",
    "            <td style=\"color:black;font-size:15px;font-weight:400;font-style:normal;text-decoration:none;font-family:Calibri, sans-serif;text-align:right;vertical-align:bottom;border:.5pt solid windowtext;height:14.25pt;border-top:none;\">3.1</td>\n",
    "            <td style=\"color:black;font-size:15px;font-weight:400;font-style:normal;text-decoration:none;font-family:Calibri, sans-serif;text-align:right;vertical-align:bottom;border:.5pt solid windowtext;border-top:none;border-left:none;\">1.5</td>\n",
    "        </tr>\n",
    "        <tr>\n",
    "            <td style=\"color:black;font-size:15px;font-weight:400;font-style:normal;text-decoration:none;font-family:Calibri, sans-serif;text-align:right;vertical-align:bottom;border:.5pt solid windowtext;height:14.25pt;border-top:none;\">3.2</td>\n",
    "            <td style=\"color:black;font-size:15px;font-weight:400;font-style:normal;text-decoration:none;font-family:Calibri, sans-serif;text-align:right;vertical-align:bottom;border:.5pt solid windowtext;border-top:none;border-left:none;\">1.5</td>\n",
    "        </tr>\n",
    "        <tr>\n",
    "            <td style=\"color:black;font-size:15px;font-weight:400;font-style:normal;text-decoration:none;font-family:Calibri, sans-serif;text-align:right;vertical-align:bottom;border:.5pt solid windowtext;height:14.25pt;border-top:none;\">3.3</td>\n",
    "            <td style=\"color:black;font-size:15px;font-weight:400;font-style:normal;text-decoration:none;font-family:Calibri, sans-serif;text-align:right;vertical-align:bottom;border:.5pt solid windowtext;border-top:none;border-left:none;\">2</td>\n",
    "        </tr>\n",
    "        <tr>\n",
    "            <td style=\"color:black;font-size:15px;font-weight:400;font-style:normal;text-decoration:none;font-family:Calibri, sans-serif;text-align:right;vertical-align:bottom;border:.5pt solid windowtext;height:14.25pt;border-top:none;\">3.4</td>\n",
    "            <td style=\"color:black;font-size:15px;font-weight:400;font-style:normal;text-decoration:none;font-family:Calibri, sans-serif;text-align:right;vertical-align:bottom;border:.5pt solid windowtext;border-top:none;border-left:none;\">1</td>\n",
    "        </tr>\n",
    "        <tr>\n",
    "            <td style=\"color:black;font-size:15px;font-weight:400;font-style:normal;text-decoration:none;font-family:Calibri, sans-serif;text-align:right;vertical-align:bottom;border:.5pt solid windowtext;height:14.25pt;border-top:none;\">4.1</td>\n",
    "            <td style=\"color:black;font-size:15px;font-weight:400;font-style:normal;text-decoration:none;font-family:Calibri, sans-serif;text-align:right;vertical-align:bottom;border:.5pt solid windowtext;border-top:none;border-left:none;\">1.5</td>\n",
    "        </tr>\n",
    "        <tr>\n",
    "            <td style=\"color:black;font-size:15px;font-weight:400;font-style:normal;text-decoration:none;font-family:Calibri, sans-serif;text-align:right;vertical-align:bottom;border:.5pt solid windowtext;height:14.25pt;border-top:none;\">4.2</td>\n",
    "            <td style=\"color:black;font-size:15px;font-weight:400;font-style:normal;text-decoration:none;font-family:Calibri, sans-serif;text-align:right;vertical-align:bottom;border:.5pt solid windowtext;border-top:none;border-left:none;\">1.5</td>\n",
    "        </tr>\n",
    "    </tbody>\n",
    "</table>\n",
    "<hr>"
   ]
  },
  {
   "cell_type": "markdown",
   "metadata": {},
   "source": [
    "### Imports"
   ]
  },
  {
   "cell_type": "code",
   "execution_count": 2,
   "metadata": {},
   "outputs": [
    {
     "data": {
      "text/plain": [
       "<function seaborn.rcmod.set(*args, **kwargs)>"
      ]
     },
     "execution_count": 2,
     "metadata": {},
     "output_type": "execute_result"
    }
   ],
   "source": [
    "import pandas as pd\n",
    "import matplotlib.pyplot as plt\n",
    "import seaborn as sns\n",
    "sns.set"
   ]
  },
  {
   "cell_type": "markdown",
   "metadata": {},
   "source": [
    "## 1. Data Processing\n",
    "\n",
    "First, let's load and process this dataset.\n",
    "\n",
    "### 1.1 Read the csv\n",
    "First, read the **steam_sample_cleaned.csv** file into a dataframe and display the first five rows of the dataframe.\n",
    "\n",
    "**Note: The data in this 'steam_sample_cleaned.csv' file is the same data that we used in lab 2, except we have already cleaned and dropped all rows with missing values. So you do not need to perform any data cleaning in this assignment.**\n",
    "\n"
   ]
  },
  {
   "cell_type": "code",
   "execution_count": 3,
   "metadata": {},
   "outputs": [
    {
     "data": {
      "text/html": [
       "<div>\n",
       "<style scoped>\n",
       "    .dataframe tbody tr th:only-of-type {\n",
       "        vertical-align: middle;\n",
       "    }\n",
       "\n",
       "    .dataframe tbody tr th {\n",
       "        vertical-align: top;\n",
       "    }\n",
       "\n",
       "    .dataframe thead th {\n",
       "        text-align: right;\n",
       "    }\n",
       "</style>\n",
       "<table border=\"1\" class=\"dataframe\">\n",
       "  <thead>\n",
       "    <tr style=\"text-align: right;\">\n",
       "      <th></th>\n",
       "      <th>user_id</th>\n",
       "      <th>game_name</th>\n",
       "      <th>activity</th>\n",
       "      <th>hours_played_if_play</th>\n",
       "    </tr>\n",
       "  </thead>\n",
       "  <tbody>\n",
       "    <tr>\n",
       "      <th>0</th>\n",
       "      <td>308653033</td>\n",
       "      <td>Unturned</td>\n",
       "      <td>purchase</td>\n",
       "      <td>1.0</td>\n",
       "    </tr>\n",
       "    <tr>\n",
       "      <th>1</th>\n",
       "      <td>308653033</td>\n",
       "      <td>Unturned</td>\n",
       "      <td>play</td>\n",
       "      <td>0.6</td>\n",
       "    </tr>\n",
       "    <tr>\n",
       "      <th>2</th>\n",
       "      <td>308653033</td>\n",
       "      <td>theHunter</td>\n",
       "      <td>purchase</td>\n",
       "      <td>1.0</td>\n",
       "    </tr>\n",
       "    <tr>\n",
       "      <th>3</th>\n",
       "      <td>144004384</td>\n",
       "      <td>Dota 2</td>\n",
       "      <td>purchase</td>\n",
       "      <td>1.0</td>\n",
       "    </tr>\n",
       "    <tr>\n",
       "      <th>4</th>\n",
       "      <td>144004384</td>\n",
       "      <td>Dota 2</td>\n",
       "      <td>play</td>\n",
       "      <td>22.0</td>\n",
       "    </tr>\n",
       "  </tbody>\n",
       "</table>\n",
       "</div>"
      ],
      "text/plain": [
       "     user_id  game_name  activity  hours_played_if_play\n",
       "0  308653033   Unturned  purchase                   1.0\n",
       "1  308653033   Unturned      play                   0.6\n",
       "2  308653033  theHunter  purchase                   1.0\n",
       "3  144004384     Dota 2  purchase                   1.0\n",
       "4  144004384     Dota 2      play                  22.0"
      ]
     },
     "execution_count": 3,
     "metadata": {},
     "output_type": "execute_result"
    }
   ],
   "source": [
    "df = pd.read_csv('steam_sample_cleaned.csv')\n",
    "df.head()"
   ]
  },
  {
   "cell_type": "markdown",
   "metadata": {},
   "source": [
    "### 1.2. Separate the dataframes. \n",
    "\n",
    "Again, in this analysis we would like to analyze the game purchase information and game play information separately. First create two new dataframes:\n",
    "* one that is comprised of the purchase rows\n",
    "* the other that is comprised of the play rows."
   ]
  },
  {
   "cell_type": "code",
   "execution_count": 7,
   "metadata": {},
   "outputs": [
    {
     "data": {
      "text/html": [
       "<div>\n",
       "<style scoped>\n",
       "    .dataframe tbody tr th:only-of-type {\n",
       "        vertical-align: middle;\n",
       "    }\n",
       "\n",
       "    .dataframe tbody tr th {\n",
       "        vertical-align: top;\n",
       "    }\n",
       "\n",
       "    .dataframe thead th {\n",
       "        text-align: right;\n",
       "    }\n",
       "</style>\n",
       "<table border=\"1\" class=\"dataframe\">\n",
       "  <thead>\n",
       "    <tr style=\"text-align: right;\">\n",
       "      <th></th>\n",
       "      <th>user_id</th>\n",
       "      <th>game_name</th>\n",
       "      <th>activity</th>\n",
       "      <th>hours_played_if_play</th>\n",
       "    </tr>\n",
       "  </thead>\n",
       "  <tbody>\n",
       "    <tr>\n",
       "      <th>0</th>\n",
       "      <td>308653033</td>\n",
       "      <td>Unturned</td>\n",
       "      <td>purchase</td>\n",
       "      <td>1.0</td>\n",
       "    </tr>\n",
       "    <tr>\n",
       "      <th>1</th>\n",
       "      <td>308653033</td>\n",
       "      <td>theHunter</td>\n",
       "      <td>purchase</td>\n",
       "      <td>1.0</td>\n",
       "    </tr>\n",
       "    <tr>\n",
       "      <th>2</th>\n",
       "      <td>144004384</td>\n",
       "      <td>Dota 2</td>\n",
       "      <td>purchase</td>\n",
       "      <td>1.0</td>\n",
       "    </tr>\n",
       "    <tr>\n",
       "      <th>3</th>\n",
       "      <td>54103616</td>\n",
       "      <td>Counter-Strike Global Offensive</td>\n",
       "      <td>purchase</td>\n",
       "      <td>1.0</td>\n",
       "    </tr>\n",
       "    <tr>\n",
       "      <th>4</th>\n",
       "      <td>54103616</td>\n",
       "      <td>Counter-Strike</td>\n",
       "      <td>purchase</td>\n",
       "      <td>1.0</td>\n",
       "    </tr>\n",
       "  </tbody>\n",
       "</table>\n",
       "</div>"
      ],
      "text/plain": [
       "     user_id                        game_name  activity  hours_played_if_play\n",
       "0  308653033                         Unturned  purchase                   1.0\n",
       "1  308653033                        theHunter  purchase                   1.0\n",
       "2  144004384                           Dota 2  purchase                   1.0\n",
       "3   54103616  Counter-Strike Global Offensive  purchase                   1.0\n",
       "4   54103616                   Counter-Strike  purchase                   1.0"
      ]
     },
     "execution_count": 7,
     "metadata": {},
     "output_type": "execute_result"
    }
   ],
   "source": [
    "df_purchase = df[df['activity'] == 'purchase']\n",
    "df_purchase = df_purchase.reset_index(drop=True)\n",
    "df_purchase.head()"
   ]
  },
  {
   "cell_type": "code",
   "execution_count": 5,
   "metadata": {},
   "outputs": [
    {
     "data": {
      "text/html": [
       "<div>\n",
       "<style scoped>\n",
       "    .dataframe tbody tr th:only-of-type {\n",
       "        vertical-align: middle;\n",
       "    }\n",
       "\n",
       "    .dataframe tbody tr th {\n",
       "        vertical-align: top;\n",
       "    }\n",
       "\n",
       "    .dataframe thead th {\n",
       "        text-align: right;\n",
       "    }\n",
       "</style>\n",
       "<table border=\"1\" class=\"dataframe\">\n",
       "  <thead>\n",
       "    <tr style=\"text-align: right;\">\n",
       "      <th></th>\n",
       "      <th>user_id</th>\n",
       "      <th>game_name</th>\n",
       "      <th>activity</th>\n",
       "      <th>hours_played_if_play</th>\n",
       "    </tr>\n",
       "  </thead>\n",
       "  <tbody>\n",
       "    <tr>\n",
       "      <th>0</th>\n",
       "      <td>308653033</td>\n",
       "      <td>Unturned</td>\n",
       "      <td>play</td>\n",
       "      <td>0.6</td>\n",
       "    </tr>\n",
       "    <tr>\n",
       "      <th>1</th>\n",
       "      <td>144004384</td>\n",
       "      <td>Dota 2</td>\n",
       "      <td>play</td>\n",
       "      <td>22.0</td>\n",
       "    </tr>\n",
       "    <tr>\n",
       "      <th>2</th>\n",
       "      <td>54103616</td>\n",
       "      <td>Counter-Strike Global Offensive</td>\n",
       "      <td>play</td>\n",
       "      <td>1028.0</td>\n",
       "    </tr>\n",
       "    <tr>\n",
       "      <th>3</th>\n",
       "      <td>54103616</td>\n",
       "      <td>Counter-Strike</td>\n",
       "      <td>play</td>\n",
       "      <td>1008.0</td>\n",
       "    </tr>\n",
       "    <tr>\n",
       "      <th>4</th>\n",
       "      <td>54103616</td>\n",
       "      <td>Left 4 Dead</td>\n",
       "      <td>play</td>\n",
       "      <td>148.0</td>\n",
       "    </tr>\n",
       "  </tbody>\n",
       "</table>\n",
       "</div>"
      ],
      "text/plain": [
       "     user_id                        game_name activity  hours_played_if_play\n",
       "0  308653033                         Unturned     play                   0.6\n",
       "1  144004384                           Dota 2     play                  22.0\n",
       "2   54103616  Counter-Strike Global Offensive     play                1028.0\n",
       "3   54103616                   Counter-Strike     play                1008.0\n",
       "4   54103616                      Left 4 Dead     play                 148.0"
      ]
     },
     "execution_count": 5,
     "metadata": {},
     "output_type": "execute_result"
    }
   ],
   "source": [
    "df_play = df[df['activity'] == 'play']\n",
    "df_play = df_play.reset_index(drop=True)\n",
    "df_play.head()"
   ]
  },
  {
   "cell_type": "markdown",
   "metadata": {},
   "source": [
    "## 2. Popularity Metrics of the Games\n",
    "\n",
    "Next, we would like to learn more about the popularity of EACH game.\n",
    "\n",
    "\n",
    "### 2.1. <u>Popularity Metric 1</u>: Total Purchases\n",
    "\n",
    "One metric we can use to measure how popular a game is to count how many times it has been purchased. \n",
    "\n",
    "#### 2.1.1. Purchase Counts\n",
    "\n",
    "First, count up how many times each of the games have been purchased."
   ]
  },
  {
   "cell_type": "code",
   "execution_count": 23,
   "metadata": {},
   "outputs": [
    {
     "data": {
      "text/html": [
       "<div>\n",
       "<style scoped>\n",
       "    .dataframe tbody tr th:only-of-type {\n",
       "        vertical-align: middle;\n",
       "    }\n",
       "\n",
       "    .dataframe tbody tr th {\n",
       "        vertical-align: top;\n",
       "    }\n",
       "\n",
       "    .dataframe thead th {\n",
       "        text-align: right;\n",
       "    }\n",
       "</style>\n",
       "<table border=\"1\" class=\"dataframe\">\n",
       "  <thead>\n",
       "    <tr style=\"text-align: right;\">\n",
       "      <th></th>\n",
       "      <th>game_name</th>\n",
       "      <th>user_id</th>\n",
       "      <th>hours_played_if_play</th>\n",
       "    </tr>\n",
       "  </thead>\n",
       "  <tbody>\n",
       "    <tr>\n",
       "      <th>0</th>\n",
       "      <td>1... 2... 3... KICK IT! (Drop That Beat Like a...</td>\n",
       "      <td>78560022</td>\n",
       "      <td>1.0</td>\n",
       "    </tr>\n",
       "    <tr>\n",
       "      <th>1</th>\n",
       "      <td>18 Wheels of Steel American Long Haul</td>\n",
       "      <td>43684632</td>\n",
       "      <td>1.0</td>\n",
       "    </tr>\n",
       "    <tr>\n",
       "      <th>2</th>\n",
       "      <td>1954 Alcatraz</td>\n",
       "      <td>183315077</td>\n",
       "      <td>1.0</td>\n",
       "    </tr>\n",
       "    <tr>\n",
       "      <th>3</th>\n",
       "      <td>3DMark</td>\n",
       "      <td>48798067</td>\n",
       "      <td>1.0</td>\n",
       "    </tr>\n",
       "    <tr>\n",
       "      <th>4</th>\n",
       "      <td>60 Seconds!</td>\n",
       "      <td>95780749</td>\n",
       "      <td>1.0</td>\n",
       "    </tr>\n",
       "  </tbody>\n",
       "</table>\n",
       "</div>"
      ],
      "text/plain": [
       "                                           game_name    user_id  \\\n",
       "0  1... 2... 3... KICK IT! (Drop That Beat Like a...   78560022   \n",
       "1              18 Wheels of Steel American Long Haul   43684632   \n",
       "2                                      1954 Alcatraz  183315077   \n",
       "3                                             3DMark   48798067   \n",
       "4                                        60 Seconds!   95780749   \n",
       "\n",
       "   hours_played_if_play  \n",
       "0                   1.0  \n",
       "1                   1.0  \n",
       "2                   1.0  \n",
       "3                   1.0  \n",
       "4                   1.0  "
      ]
     },
     "execution_count": 23,
     "metadata": {},
     "output_type": "execute_result"
    }
   ],
   "source": [
    "df_purchase_count = df_purchase.groupby('game_name').agg('sum').reset_index()\n",
    "df_purchase_count.head()"
   ]
  },
  {
   "cell_type": "markdown",
   "metadata": {},
   "source": [
    "#### 2.1.2. Visualize\n",
    "\n",
    "Next, visualize the distribution of these purchase counts with a histogram.\n",
    "\n",
    "Be sure to give an appropriate title, x-axis labels, and y-axis labels."
   ]
  },
  {
   "cell_type": "code",
   "execution_count": 24,
   "metadata": {},
   "outputs": [
    {
     "data": {
      "image/png": "[encoded data removed]",
      "text/plain": [
       "<Figure size 432x288 with 1 Axes>"
      ]
     },
     "metadata": {
      "needs_background": "light"
     },
     "output_type": "display_data"
    }
   ],
   "source": [
    "df_purchase_count['hours_played_if_play'].hist()\n",
    "plt.xlabel(\"Game\")\n",
    "plt.ylabel(\"Number of Copies Purchased\")\n",
    "plt.title(\"Number of Copies Purchased per Game\")\n",
    "plt.show()"
   ]
  },
  {
   "cell_type": "markdown",
   "metadata": {},
   "source": [
    "#### 2.1.3 Describing the Distribution\n",
    "\n",
    "Describe the shape of this distribution. Also calculate an **appropriate** measure of center and spread to describe this distribution."
   ]
  },
  {
   "cell_type": "markdown",
   "metadata": {},
   "source": [
    "The shape of the distribution is right skewed and unimodal"
   ]
  },
  {
   "cell_type": "code",
   "execution_count": 25,
   "metadata": {},
   "outputs": [
    {
     "data": {
      "text/plain": [
       "1.0"
      ]
     },
     "execution_count": 25,
     "metadata": {},
     "output_type": "execute_result"
    }
   ],
   "source": [
    "df_purchase_count['hours_played_if_play'].median()"
   ]
  },
  {
   "cell_type": "code",
   "execution_count": 43,
   "metadata": {},
   "outputs": [
    {
     "data": {
      "text/plain": [
       "2.0"
      ]
     },
     "execution_count": 43,
     "metadata": {},
     "output_type": "execute_result"
    }
   ],
   "source": [
    "df_purchase_count['hours_played_if_play'].quantile(.75) - df_purchase_count['hours_played_if_play'].quantile(.25)"
   ]
  },
  {
   "cell_type": "markdown",
   "metadata": {},
   "source": [
    "#### 2.1.4. Overall Game Popularity\n",
    "\n",
    "Would you say that the majority of the games in this dataset are popular amongst the 500 players in this dataset using this metric? Why or why not?"
   ]
  },
  {
   "cell_type": "markdown",
   "metadata": {},
   "source": [
    "I don't think that the majority of the games are popular because the median is one and there is a low IQR, which means most games don't have a huge amount of copies bought per game."
   ]
  },
  {
   "cell_type": "markdown",
   "metadata": {},
   "source": [
    "\n",
    "### 2.2. <u>Popularity Metric 2</u>: Total Play Time\n",
    "\n",
    "Another metric we can use to measure how popular a game is to find out the total amount of time the game has been played by the users in this dataset.\n",
    "\n",
    "#### 2.2.1. Total Play Time\n",
    "\n",
    "First, find the sum of the total play time for each game ***that was played*** in this dataset. \n",
    "\n",
    "Your final answer should be:\n",
    "* a dataframe comprised of **just two columns**: *game_name* and *hours_played_if_play* \n",
    "* sorted in descending order by the *hours_played_if_play* column."
   ]
  },
  {
   "cell_type": "code",
   "execution_count": 31,
   "metadata": {},
   "outputs": [
    {
     "data": {
      "text/html": [
       "<div>\n",
       "<style scoped>\n",
       "    .dataframe tbody tr th:only-of-type {\n",
       "        vertical-align: middle;\n",
       "    }\n",
       "\n",
       "    .dataframe tbody tr th {\n",
       "        vertical-align: top;\n",
       "    }\n",
       "\n",
       "    .dataframe thead th {\n",
       "        text-align: right;\n",
       "    }\n",
       "</style>\n",
       "<table border=\"1\" class=\"dataframe\">\n",
       "  <thead>\n",
       "    <tr style=\"text-align: right;\">\n",
       "      <th></th>\n",
       "      <th>game_name</th>\n",
       "      <th>hours_played_if_play</th>\n",
       "    </tr>\n",
       "  </thead>\n",
       "  <tbody>\n",
       "    <tr>\n",
       "      <th>0</th>\n",
       "      <td>Dota 2</td>\n",
       "      <td>31965.0</td>\n",
       "    </tr>\n",
       "    <tr>\n",
       "      <th>1</th>\n",
       "      <td>Counter-Strike Global Offensive</td>\n",
       "      <td>17706.2</td>\n",
       "    </tr>\n",
       "    <tr>\n",
       "      <th>2</th>\n",
       "      <td>Sid Meier's Civilization V</td>\n",
       "      <td>14490.0</td>\n",
       "    </tr>\n",
       "    <tr>\n",
       "      <th>3</th>\n",
       "      <td>Counter-Strike</td>\n",
       "      <td>10273.1</td>\n",
       "    </tr>\n",
       "    <tr>\n",
       "      <th>4</th>\n",
       "      <td>The Elder Scrolls V Skyrim</td>\n",
       "      <td>3737.2</td>\n",
       "    </tr>\n",
       "  </tbody>\n",
       "</table>\n",
       "</div>"
      ],
      "text/plain": [
       "                         game_name  hours_played_if_play\n",
       "0                           Dota 2               31965.0\n",
       "1  Counter-Strike Global Offensive               17706.2\n",
       "2       Sid Meier's Civilization V               14490.0\n",
       "3                   Counter-Strike               10273.1\n",
       "4       The Elder Scrolls V Skyrim                3737.2"
      ]
     },
     "execution_count": 31,
     "metadata": {},
     "output_type": "execute_result"
    }
   ],
   "source": [
    "df_play_time = df_play.groupby('game_name').agg('sum').reset_index()\n",
    "df_play_time = df_play_time.iloc[:,[0,2]]\n",
    "df_play_time = df_play_time.sort_values(\"hours_played_if_play\",ascending=False).reset_index(drop=True)\n",
    "df_play_time.head()"
   ]
  },
  {
   "cell_type": "code",
   "execution_count": null,
   "metadata": {},
   "outputs": [],
   "source": []
  },
  {
   "cell_type": "markdown",
   "metadata": {},
   "source": [
    "#### 2.2.2. Visualize\n",
    "\n",
    "Next, visualize the distribution of these total play times with a histogram.\n",
    "\n",
    "Be sure to give an appropriate title, x-axis labels, and y-axis labels."
   ]
  },
  {
   "cell_type": "code",
   "execution_count": 33,
   "metadata": {},
   "outputs": [
    {
     "data": {
      "image/png": "[encoded data removed]",
      "text/plain": [
       "<Figure size 432x288 with 1 Axes>"
      ]
     },
     "metadata": {
      "needs_background": "light"
     },
     "output_type": "display_data"
    }
   ],
   "source": [
    "df_play_time['hours_played_if_play'].hist()\n",
    "plt.xlabel(\"Game\")\n",
    "plt.ylabel(\"Number of Hours Played\")\n",
    "plt.title(\"Number of Hours Played per Game\")\n",
    "plt.show()"
   ]
  },
  {
   "cell_type": "markdown",
   "metadata": {},
   "source": [
    "#### 2.2.3 Describing the Distribution\n",
    "\n",
    "Describe the shape of this distribution. Also give an **appropriate** measure of center and spread to describe this distribution."
   ]
  },
  {
   "cell_type": "markdown",
   "metadata": {},
   "source": [
    "The shape of the distribution is right skewed and unimodal"
   ]
  },
  {
   "cell_type": "code",
   "execution_count": 34,
   "metadata": {},
   "outputs": [
    {
     "data": {
      "text/plain": [
       "8.149999999999999"
      ]
     },
     "execution_count": 34,
     "metadata": {},
     "output_type": "execute_result"
    }
   ],
   "source": [
    "df_play_time['hours_played_if_play'].median()"
   ]
  },
  {
   "cell_type": "code",
   "execution_count": 36,
   "metadata": {},
   "outputs": [
    {
     "data": {
      "text/plain": [
       "39.2"
      ]
     },
     "execution_count": 36,
     "metadata": {},
     "output_type": "execute_result"
    }
   ],
   "source": [
    "df_play_time['hours_played_if_play'].quantile(.75) - df_play_time['hours_played_if_play'].quantile(.25)"
   ]
  },
  {
   "cell_type": "markdown",
   "metadata": {},
   "source": [
    "\n",
    "### 2.3. <u>Popularity Metric 3</u>: Median Play Time\n",
    "\n",
    "Another metric we can use to measure how popular a game is to find out the median amount of time the game has been played by the **users that played the game for some amount of time**.\n",
    "\n",
    "#### 2.3.1. Median Play Time\n",
    "\n",
    "First, find the median play time for each **game that was played** in this dataset by **users that actually played the game for some amount of time**.\n",
    "\n",
    "Your final answer should be:\n",
    "* a dataframe comprised of **just two columns**: *game_name* and *hours_played_if_play* \n",
    "* sorted in descending order by the *hours_played_if_play* column."
   ]
  },
  {
   "cell_type": "code",
   "execution_count": 38,
   "metadata": {},
   "outputs": [
    {
     "data": {
      "text/html": [
       "<div>\n",
       "<style scoped>\n",
       "    .dataframe tbody tr th:only-of-type {\n",
       "        vertical-align: middle;\n",
       "    }\n",
       "\n",
       "    .dataframe tbody tr th {\n",
       "        vertical-align: top;\n",
       "    }\n",
       "\n",
       "    .dataframe thead th {\n",
       "        text-align: right;\n",
       "    }\n",
       "</style>\n",
       "<table border=\"1\" class=\"dataframe\">\n",
       "  <thead>\n",
       "    <tr style=\"text-align: right;\">\n",
       "      <th></th>\n",
       "      <th>game_name</th>\n",
       "      <th>hours_played_if_play</th>\n",
       "    </tr>\n",
       "  </thead>\n",
       "  <tbody>\n",
       "    <tr>\n",
       "      <th>0</th>\n",
       "      <td>Eastside Hockey Manager</td>\n",
       "      <td>1295.0</td>\n",
       "    </tr>\n",
       "    <tr>\n",
       "      <th>1</th>\n",
       "      <td>Sid Meier's Civilization IV Beyond the Sword</td>\n",
       "      <td>1064.0</td>\n",
       "    </tr>\n",
       "    <tr>\n",
       "      <th>2</th>\n",
       "      <td>Blood Bowl Chaos Edition</td>\n",
       "      <td>891.0</td>\n",
       "    </tr>\n",
       "    <tr>\n",
       "      <th>3</th>\n",
       "      <td>Football Manager 2009</td>\n",
       "      <td>783.0</td>\n",
       "    </tr>\n",
       "    <tr>\n",
       "      <th>4</th>\n",
       "      <td>Out of the Park Baseball 16</td>\n",
       "      <td>652.0</td>\n",
       "    </tr>\n",
       "    <tr>\n",
       "      <th>...</th>\n",
       "      <td>...</td>\n",
       "      <td>...</td>\n",
       "    </tr>\n",
       "    <tr>\n",
       "      <th>913</th>\n",
       "      <td>Golden Rush</td>\n",
       "      <td>0.1</td>\n",
       "    </tr>\n",
       "    <tr>\n",
       "      <th>914</th>\n",
       "      <td>Cubemen</td>\n",
       "      <td>0.1</td>\n",
       "    </tr>\n",
       "    <tr>\n",
       "      <th>915</th>\n",
       "      <td>Dungeon Defenders II</td>\n",
       "      <td>0.1</td>\n",
       "    </tr>\n",
       "    <tr>\n",
       "      <th>916</th>\n",
       "      <td>Towns</td>\n",
       "      <td>0.1</td>\n",
       "    </tr>\n",
       "    <tr>\n",
       "      <th>917</th>\n",
       "      <td>The Showdown Effect</td>\n",
       "      <td>0.1</td>\n",
       "    </tr>\n",
       "  </tbody>\n",
       "</table>\n",
       "<p>918 rows × 2 columns</p>\n",
       "</div>"
      ],
      "text/plain": [
       "                                        game_name  hours_played_if_play\n",
       "0                         Eastside Hockey Manager                1295.0\n",
       "1    Sid Meier's Civilization IV Beyond the Sword                1064.0\n",
       "2                        Blood Bowl Chaos Edition                 891.0\n",
       "3                           Football Manager 2009                 783.0\n",
       "4                     Out of the Park Baseball 16                 652.0\n",
       "..                                            ...                   ...\n",
       "913                                   Golden Rush                   0.1\n",
       "914                                       Cubemen                   0.1\n",
       "915                          Dungeon Defenders II                   0.1\n",
       "916                                         Towns                   0.1\n",
       "917                           The Showdown Effect                   0.1\n",
       "\n",
       "[918 rows x 2 columns]"
      ]
     },
     "execution_count": 38,
     "metadata": {},
     "output_type": "execute_result"
    }
   ],
   "source": [
    "df_median_play_time = df_play.groupby('game_name').agg('median').reset_index()\n",
    "df_median_play_time = df_median_play_time.iloc[:,[0,2]]\n",
    "df_median_play_time = df_median_play_time.sort_values(\"hours_played_if_play\",ascending=False).reset_index(drop=True)\n",
    "df_median_play_time"
   ]
  },
  {
   "cell_type": "code",
   "execution_count": null,
   "metadata": {},
   "outputs": [],
   "source": []
  },
  {
   "cell_type": "markdown",
   "metadata": {},
   "source": [
    "#### 2.3.2. Visualize\n",
    "\n",
    "Next, visualize the distribution of these median play times with a histogram.\n",
    "\n",
    "Be sure to give an appropriate title, x-axis labels, and y-axis labels."
   ]
  },
  {
   "cell_type": "code",
   "execution_count": 40,
   "metadata": {},
   "outputs": [
    {
     "data": {
      "image/png": "[encoded data removed]",
      "text/plain": [
       "<Figure size 432x288 with 1 Axes>"
      ]
     },
     "metadata": {
      "needs_background": "light"
     },
     "output_type": "display_data"
    }
   ],
   "source": [
    "df_median_play_time['hours_played_if_play'].hist()\n",
    "plt.xlabel(\"Game\")\n",
    "plt.ylabel(\"Median Hours Played\")\n",
    "plt.title(\"Median Hours Played per Game\")\n",
    "plt.show()"
   ]
  },
  {
   "cell_type": "markdown",
   "metadata": {},
   "source": [
    "#### 2.3.3 Describing the Distribution\n",
    "\n",
    "Describe the shape of this distribution. Also give an **appropriate** measure of center and spread to describe this distribution."
   ]
  },
  {
   "cell_type": "markdown",
   "metadata": {},
   "source": [
    "The shape of the distribution is right skewed and unimodal"
   ]
  },
  {
   "cell_type": "code",
   "execution_count": 42,
   "metadata": {},
   "outputs": [
    {
     "data": {
      "text/plain": [
       "3.7"
      ]
     },
     "execution_count": 42,
     "metadata": {},
     "output_type": "execute_result"
    }
   ],
   "source": [
    "df_median_play_time['hours_played_if_play'].median()"
   ]
  },
  {
   "cell_type": "code",
   "execution_count": 41,
   "metadata": {},
   "outputs": [
    {
     "data": {
      "text/plain": [
       "10.475"
      ]
     },
     "execution_count": 41,
     "metadata": {},
     "output_type": "execute_result"
    }
   ],
   "source": [
    "df_median_play_time['hours_played_if_play'].quantile(.75) - df_play_time['hours_played_if_play'].quantile(.25)"
   ]
  },
  {
   "cell_type": "markdown",
   "metadata": {},
   "source": [
    "#### 2.3.4. Boxplot\n",
    "\n",
    "Next, visualize the distribution of these median play times with a boxplot.\n",
    "\n",
    "Be sure to give an appropriate title, x-axis labels, and y-axis labels."
   ]
  },
  {
   "cell_type": "code",
   "execution_count": 46,
   "metadata": {},
   "outputs": [
    {
     "name": "stderr",
     "output_type": "stream",
     "text": [
      "/Users/saber/miniconda3/lib/python3.9/site-packages/seaborn/_decorators.py:36: FutureWarning: Pass the following variable as a keyword arg: x. From version 0.12, the only valid positional argument will be `data`, and passing other arguments without an explicit keyword will result in an error or misinterpretation.\n",
      "  warnings.warn(\n"
     ]
    },
    {
     "data": {
      "image/png": "[encoded data removed]",
      "text/plain": [
       "<Figure size 432x288 with 1 Axes>"
      ]
     },
     "metadata": {
      "needs_background": "light"
     },
     "output_type": "display_data"
    }
   ],
   "source": [
    "sns.boxplot(df_median_play_time['hours_played_if_play'])\n",
    "plt.xlabel(\"Median Hours Played\")\n",
    "plt.ylabel(\"Game\")\n",
    "plt.title(\"Median Hours Played per Game\")\n",
    "plt.show()"
   ]
  },
  {
   "cell_type": "markdown",
   "metadata": {},
   "source": [
    "#### 2.3.5 Visualization Effectiveness\n",
    "\n",
    "How effective would you say that the boxplot and histogram are at displaying the distribution of the non-outliers of this numerical variable?"
   ]
  },
  {
   "cell_type": "markdown",
   "metadata": {},
   "source": [
    "I think it does a good job to show how most games have a similar distribution of hours per game and showing the outliers as well."
   ]
  },
  {
   "cell_type": "markdown",
   "metadata": {},
   "source": [
    "## 3. Comparing the Most \"Popular\" Games Based on Popularity Metrics #2 and #3\n",
    "\n",
    "Let's compare the distribution of play times for the most popular game based on \"popularity metric 2\" and the most popular game based on \"popularity metric 2\". And for comparison, let's also compare the distribution for the play times of 'Counter-Strike Global Offensive' as well.\n",
    "\n",
    "### 3.1. Side-by-Side Boxplots Visualization\n",
    "\n",
    "In a **single figure** below create a side-by-side boxplots visualization that visualizes three boxplots:\n",
    "* a boxplot visualizing the distribution of play times for the most popular game based on <u>popularity metric 2</u>\n",
    "* a boxplot visualizing the distribution of play times for the most popular game based on <u>popularity metric 3</u>\n",
    "* a boxplot visualizing the distribution of play times for <u>'Counter-Strike Global Offensive'</u>"
   ]
  },
  {
   "cell_type": "code",
   "execution_count": 72,
   "metadata": {},
   "outputs": [
    {
     "data": {
      "text/html": [
       "<div>\n",
       "<style scoped>\n",
       "    .dataframe tbody tr th:only-of-type {\n",
       "        vertical-align: middle;\n",
       "    }\n",
       "\n",
       "    .dataframe tbody tr th {\n",
       "        vertical-align: top;\n",
       "    }\n",
       "\n",
       "    .dataframe thead th {\n",
       "        text-align: right;\n",
       "    }\n",
       "</style>\n",
       "<table border=\"1\" class=\"dataframe\">\n",
       "  <thead>\n",
       "    <tr style=\"text-align: right;\">\n",
       "      <th></th>\n",
       "      <th>user_id</th>\n",
       "      <th>game_name</th>\n",
       "      <th>activity</th>\n",
       "      <th>hours_played_if_play</th>\n",
       "    </tr>\n",
       "  </thead>\n",
       "  <tbody>\n",
       "    <tr>\n",
       "      <th>1</th>\n",
       "      <td>144004384</td>\n",
       "      <td>Dota 2</td>\n",
       "      <td>play</td>\n",
       "      <td>22.0</td>\n",
       "    </tr>\n",
       "    <tr>\n",
       "      <th>2</th>\n",
       "      <td>54103616</td>\n",
       "      <td>Counter-Strike Global Offensive</td>\n",
       "      <td>play</td>\n",
       "      <td>1028.0</td>\n",
       "    </tr>\n",
       "    <tr>\n",
       "      <th>17</th>\n",
       "      <td>54103616</td>\n",
       "      <td>Dota 2</td>\n",
       "      <td>play</td>\n",
       "      <td>3.1</td>\n",
       "    </tr>\n",
       "    <tr>\n",
       "      <th>28</th>\n",
       "      <td>239397807</td>\n",
       "      <td>Dota 2</td>\n",
       "      <td>play</td>\n",
       "      <td>0.4</td>\n",
       "    </tr>\n",
       "    <tr>\n",
       "      <th>34</th>\n",
       "      <td>173857208</td>\n",
       "      <td>Dota 2</td>\n",
       "      <td>play</td>\n",
       "      <td>0.6</td>\n",
       "    </tr>\n",
       "    <tr>\n",
       "      <th>...</th>\n",
       "      <td>...</td>\n",
       "      <td>...</td>\n",
       "      <td>...</td>\n",
       "      <td>...</td>\n",
       "    </tr>\n",
       "    <tr>\n",
       "      <th>2811</th>\n",
       "      <td>126690600</td>\n",
       "      <td>Dota 2</td>\n",
       "      <td>play</td>\n",
       "      <td>0.2</td>\n",
       "    </tr>\n",
       "    <tr>\n",
       "      <th>2824</th>\n",
       "      <td>147444403</td>\n",
       "      <td>Dota 2</td>\n",
       "      <td>play</td>\n",
       "      <td>0.7</td>\n",
       "    </tr>\n",
       "    <tr>\n",
       "      <th>2825</th>\n",
       "      <td>154531790</td>\n",
       "      <td>Dota 2</td>\n",
       "      <td>play</td>\n",
       "      <td>0.1</td>\n",
       "    </tr>\n",
       "    <tr>\n",
       "      <th>2826</th>\n",
       "      <td>99096740</td>\n",
       "      <td>Dota 2</td>\n",
       "      <td>play</td>\n",
       "      <td>1704.0</td>\n",
       "    </tr>\n",
       "    <tr>\n",
       "      <th>2836</th>\n",
       "      <td>99096740</td>\n",
       "      <td>Counter-Strike Global Offensive</td>\n",
       "      <td>play</td>\n",
       "      <td>26.0</td>\n",
       "    </tr>\n",
       "  </tbody>\n",
       "</table>\n",
       "<p>258 rows × 4 columns</p>\n",
       "</div>"
      ],
      "text/plain": [
       "        user_id                        game_name activity  \\\n",
       "1     144004384                           Dota 2     play   \n",
       "2      54103616  Counter-Strike Global Offensive     play   \n",
       "17     54103616                           Dota 2     play   \n",
       "28    239397807                           Dota 2     play   \n",
       "34    173857208                           Dota 2     play   \n",
       "...         ...                              ...      ...   \n",
       "2811  126690600                           Dota 2     play   \n",
       "2824  147444403                           Dota 2     play   \n",
       "2825  154531790                           Dota 2     play   \n",
       "2826   99096740                           Dota 2     play   \n",
       "2836   99096740  Counter-Strike Global Offensive     play   \n",
       "\n",
       "      hours_played_if_play  \n",
       "1                     22.0  \n",
       "2                   1028.0  \n",
       "17                     3.1  \n",
       "28                     0.4  \n",
       "34                     0.6  \n",
       "...                    ...  \n",
       "2811                   0.2  \n",
       "2824                   0.7  \n",
       "2825                   0.1  \n",
       "2826                1704.0  \n",
       "2836                  26.0  \n",
       "\n",
       "[258 rows x 4 columns]"
      ]
     },
     "execution_count": 72,
     "metadata": {},
     "output_type": "execute_result"
    }
   ],
   "source": [
    "popular = df_play[(df_play[\"game_name\"] == \"Dota 2\") | (df_play[\"game_name\"] == \"Eastside Hockey Manager\") | (df_play[\"game_name\"] == \"Counter-Strike Global Offensive\")]\n",
    "popular"
   ]
  },
  {
   "cell_type": "code",
   "execution_count": 64,
   "metadata": {},
   "outputs": [
    {
     "data": {
      "image/png": "[encoded data removed]",
      "text/plain": [
       "<Figure size 1080x720 with 1 Axes>"
      ]
     },
     "metadata": {
      "needs_background": "light"
     },
     "output_type": "display_data"
    }
   ],
   "source": [
    "plt.figure(figsize = (15,10))\n",
    "sns.boxplot(data=popular, x = \"game_name\", y = \"hours_played_if_play\")\n",
    "plt.xlabel(\"Game Name\")\n",
    "plt.ylabel(\"Hours Played\")\n",
    "plt.title(\"Hours Played per Game\")\n",
    "plt.show()"
   ]
  },
  {
   "cell_type": "markdown",
   "metadata": {},
   "source": [
    "### 3.2. Side-by-Side Violinplots Visualization\n",
    "\n",
    "In a **single figure** below create a side-by-side violin plots visualization that visualizes three violinplots:\n",
    "* a violin plot visualizing the distribution of play times for the most popular game based on <u>popularity metric 2</u>\n",
    "* a violin plot visualizing the distribution of play times for the most popular game based on <u>popularity metric 3</u>\n",
    "* a violin plot visualizing the distribution of play times for <u>'Counter-Strike Global Offensive'</u>"
   ]
  },
  {
   "cell_type": "code",
   "execution_count": 65,
   "metadata": {},
   "outputs": [
    {
     "data": {
      "image/png": "[encoded data removed]",
      "text/plain": [
       "<Figure size 1080x720 with 1 Axes>"
      ]
     },
     "metadata": {
      "needs_background": "light"
     },
     "output_type": "display_data"
    }
   ],
   "source": [
    "plt.figure(figsize = (15,10))\n",
    "sns.violinplot(data=popular, x = \"game_name\", y = \"hours_played_if_play\")\n",
    "plt.xlabel(\"Game Name\")\n",
    "plt.ylabel(\"Hours Played\")\n",
    "plt.title(\"Hours Played per Game\")\n",
    "plt.show()"
   ]
  },
  {
   "cell_type": "markdown",
   "metadata": {},
   "source": [
    "### 3.3. Comparing Play Time Distributions\n",
    "\n",
    "Compare the following four things between the three play time distributions for the three games.\n",
    "1. Distribution shapes\n",
    "2. Measures of center (actually calculate these values and pick the appropriate ones to use)\n",
    "3. Measures of spread (actually calculate these values and pick the appropriate ones to use)\n",
    "4. Any outliers"
   ]
  },
  {
   "cell_type": "code",
   "execution_count": 80,
   "metadata": {},
   "outputs": [],
   "source": [
    "df_Dota = popular[popular[\"game_name\"] == \"Dota 2\"].reset_index(drop=True)\n",
    "df_CS = popular[popular[\"game_name\"] == \"Counter-Strike Global Offensive\"].reset_index(drop=True)\n",
    "df_Hockey = popular[popular[\"game_name\"] == \"Eastside Hockey Manager\"].reset_index(drop=True)"
   ]
  },
  {
   "cell_type": "code",
   "execution_count": 77,
   "metadata": {},
   "outputs": [
    {
     "data": {
      "text/plain": [
       "4.85"
      ]
     },
     "execution_count": 77,
     "metadata": {},
     "output_type": "execute_result"
    }
   ],
   "source": [
    "df_Dota['hours_played_if_play'].median()"
   ]
  },
  {
   "cell_type": "code",
   "execution_count": 78,
   "metadata": {},
   "outputs": [
    {
     "data": {
      "text/plain": [
       "68.05"
      ]
     },
     "execution_count": 78,
     "metadata": {},
     "output_type": "execute_result"
    }
   ],
   "source": [
    "df_Dota['hours_played_if_play'].quantile(.75) - df_Dota['hours_played_if_play'].quantile(.25)"
   ]
  },
  {
   "cell_type": "code",
   "execution_count": 81,
   "metadata": {},
   "outputs": [
    {
     "data": {
      "text/plain": [
       "109.0"
      ]
     },
     "execution_count": 81,
     "metadata": {},
     "output_type": "execute_result"
    }
   ],
   "source": [
    "df_CS['hours_played_if_play'].median()"
   ]
  },
  {
   "cell_type": "code",
   "execution_count": 82,
   "metadata": {},
   "outputs": [
    {
     "data": {
      "text/plain": [
       "373.3"
      ]
     },
     "execution_count": 82,
     "metadata": {},
     "output_type": "execute_result"
    }
   ],
   "source": [
    "df_CS['hours_played_if_play'].quantile(.75) - df_CS['hours_played_if_play'].quantile(.25)"
   ]
  },
  {
   "cell_type": "code",
   "execution_count": 83,
   "metadata": {},
   "outputs": [
    {
     "data": {
      "text/plain": [
       "1295.0"
      ]
     },
     "execution_count": 83,
     "metadata": {},
     "output_type": "execute_result"
    }
   ],
   "source": [
    "df_Hockey['hours_played_if_play'].median()"
   ]
  },
  {
   "cell_type": "code",
   "execution_count": 85,
   "metadata": {},
   "outputs": [
    {
     "data": {
      "text/plain": [
       "nan"
      ]
     },
     "execution_count": 85,
     "metadata": {},
     "output_type": "execute_result"
    }
   ],
   "source": [
    "df_Hockey['hours_played_if_play'].std()"
   ]
  },
  {
   "cell_type": "markdown",
   "metadata": {},
   "source": [
    "### 3.4. Association between Game and Play Time\n",
    "\n",
    "If we just consider the three games that we analyzed above, is there an association between the game and the play time in this dataset? Explain."
   ]
  },
  {
   "cell_type": "markdown",
   "metadata": {},
   "source": [
    "No because there are some players who just have a lot of hours where as others barely play at all"
   ]
  },
  {
   "cell_type": "markdown",
   "metadata": {},
   "source": [
    "## 4. Pros and Cons of the Popularity Metrics\n",
    "\n",
    "You may have noticed that the top games based on popularity metrics #2 and #3 mostly did not agree with each other. Thus it is a good idea to consult not just one of these metrics for gauging overall popularity.\n",
    "\n",
    "### 4.1. <u>Cons of Popularity Metric #2</u>: Total Play Time\n",
    "\n",
    "How might using *just* the total play time popularity metric be a limiting way to describe how popular a game is? "
   ]
  },
  {
   "cell_type": "markdown",
   "metadata": {},
   "source": [
    "Metric 2 just shows the game that has the most overall hours played, so it could not show games with a smaller player base that are still popular"
   ]
  },
  {
   "cell_type": "code",
   "execution_count": null,
   "metadata": {},
   "outputs": [],
   "source": []
  },
  {
   "cell_type": "markdown",
   "metadata": {},
   "source": [
    "\n",
    "### 4.2. <u>Cons of Popularity Metric #3</u>: Median Play Time\n",
    "\n",
    "How might using *just* the median play time popularity metric be a limiting way to describe how popular a game is? "
   ]
  },
  {
   "cell_type": "markdown",
   "metadata": {},
   "source": [
    "Metric 3 assumes each player has the same amount of hours played, so the larger playerbase there is for a game, the smaller hours there are per player."
   ]
  },
  {
   "cell_type": "code",
   "execution_count": null,
   "metadata": {},
   "outputs": [],
   "source": []
  }
 ],
 "metadata": {
  "kernelspec": {
   "display_name": "Python 3 (ipykernel)",
   "language": "python",
   "name": "python3"
  },
  "language_info": {
   "codemirror_mode": {
    "name": "ipython",
    "version": 3
   },
   "file_extension": ".py",
   "mimetype": "text/x-python",
   "name": "python",
   "nbconvert_exporter": "python",
   "pygments_lexer": "ipython3",
   "version": "3.9.12"
  }
 },
 "nbformat": 4,
 "nbformat_minor": 2
}
