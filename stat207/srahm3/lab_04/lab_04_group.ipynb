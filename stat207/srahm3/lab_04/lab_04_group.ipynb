{
 "cells": [
  {
   "cell_type": "markdown",
   "metadata": {},
   "source": [
    "# STAT 207 Lab Assignment 4 - Group Part - [5 total points]\n",
    "\n",
    "## Team Class-Year Probability"
   ]
  },
  {
   "cell_type": "markdown",
   "metadata": {},
   "source": [
    "Due: Tuesday, September 20, 11:59pm CST\n",
    "\n",
    "<hr>\n"
   ]
  },
  {
   "cell_type": "markdown",
   "metadata": {},
   "source": [
    "## <u>Case Study</u>: Team Class-Year Probability\n",
    "\n",
    "Suppose that your group that you are currently working with and the <a href=\"http://courses.las.illinois.edu/fall2022/stat207/staff.html\">six undergraduate course assistants</a> in this class decide to join forces and create a SUPER GROUP of 7-9 people.\n",
    "\n",
    "In this group assignment, we will calculate the probability of randomly selecting a group that has the same class-year composition that your super group has.\n",
    "\n",
    "\n",
    "## <u>Relevant Information</u>:\n",
    "\n",
    "### STAT207 Course Assistant Class Composition\n",
    "\n",
    "Of our 6 course assistants: 2 are seniors, 2 are juniors, and 2 are sophomores.\n",
    "\n",
    "### Total STAT207 Undergraduate Class Composition\n",
    "\n",
    "This STAT207 class has 85 total undergraduates affiliated with it *(including both students AND course assistants)*\n",
    "* 3 are freshmen\n",
    "* 27 are sophomores\n",
    "* 31 are juniors\n",
    "* 24 are seniors\n",
    "\n",
    "\n",
    "\n",
    "<hr>"
   ]
  },
  {
   "cell_type": "markdown",
   "metadata": {},
   "source": [
    "### Imports"
   ]
  },
  {
   "cell_type": "code",
   "execution_count": 3,
   "metadata": {},
   "outputs": [],
   "source": [
    "import pandas as pd\n",
    "import matplotlib.pyplot as plt\n",
    "import seaborn as sns\n",
    "sns.set\n",
    "from math import comb"
   ]
  },
  {
   "cell_type": "markdown",
   "metadata": {},
   "source": [
    "## Contribution Report\n",
    "These contribution reports should be included in all group lab assignments. In this contribution report below you should list of the following:\n",
    "1. Names of each team member.\n",
    "2. Contributions of each team member to report.\n",
    "\n",
    "*For example:*\n",
    "\n",
    "*<u>Teammates:</u>*\n",
    "\n",
    "*1. John Smith: did number 1,2 and 3*\n",
    "\n",
    "*2. Jane Doe: did number 4, and 5*"
   ]
  },
  {
   "cell_type": "markdown",
   "metadata": {},
   "source": [
    "Sabir Rahman, Rohan Bindu, Vahey Mouradian, Vikram Chandramouli"
   ]
  },
  {
   "cell_type": "markdown",
   "metadata": {},
   "source": [
    "<hr>"
   ]
  },
  {
   "cell_type": "markdown",
   "metadata": {},
   "source": [
    "## 1. Super Group Composition [0.25 pt]\n",
    "\n",
    "* How many freshmen are in your supergroup?\n",
    "* How many sophomores are in your supergroup?\n",
    "* How many juniors are in your supergroup?\n",
    "* How many seniors are in your supergroup?\n",
    "\n",
    "\n",
    "\n",
    "\n",
    "Modify the LaTeX code block below, inputting the corresponding numbers. LaTeX can be written in between dollar signs. So make sure your number is in between the two dollar signs.\n",
    "\n"
   ]
  },
  {
   "cell_type": "markdown",
   "metadata": {},
   "source": [
    "$k_{fresh}= 0$ \n",
    "\n",
    "$k_{soph}= 4$ \n",
    "\n",
    "$k_{jun}= 3$ \n",
    "\n",
    "$k_{sen}= 3$ "
   ]
  },
  {
   "cell_type": "markdown",
   "metadata": {},
   "source": [
    "\n",
    "\n",
    "## 2. Supergroup Composition Theoretical Probability [2.25 pt]\n",
    "\n",
    "* Suppose we were to randomly select $k$ undergraduates affiliated with this class **without replacement** (this could include students and/or course assistants), where $k$ is the size of your SUPERGROUP. \n",
    "* The **order** in which we selected the $k$ undergraduates in this group **didn't matter**. \n",
    "* Nor are there any specific \"patterns\" or \"allocations\" to any particular person in this group.\n",
    "\n",
    "**What is the probability that this randomly selected group of $k$ undergraduates has the same number of freshmen, sophomores, juniors, and seniors that your SUPERGROUP does?**\n",
    "\n",
    "* <u>Hint 1</u>: How many groups of size $k$ could you create from the 85 undergraduates affiliated with the class?\n",
    "* <u>Hint 2 (if you have freshmen in your supergroup)</u>: How many groups of size $k_{fresh}$ could you create from the 3 freshmen affiliated with the class?\n",
    "* <u>Hint 3 (if you have sophomores in your supergroup)</u>: How many groups of size $k_{soph}$ could you create from the 27 sophomores affiliated with the class?\n",
    "* <u>Hint 4 (if you have a juniors in your supergroup)</u>: How many groups of size $k_{jun}$ could you create from the 31 juniors affiliated with the class?\n",
    "* <u>Hint 5 (if you have a seniors in your supergroup)</u>: How many groups of size $k_{sen}$ could you create from the 24 seniors affiliated with the class?"
   ]
  },
  {
   "cell_type": "code",
   "execution_count": 4,
   "metadata": {},
   "outputs": [
    {
     "data": {
      "text/plain": [
       "3129162672636"
      ]
     },
     "execution_count": 4,
     "metadata": {},
     "output_type": "execute_result"
    }
   ],
   "source": [
    "denominator = comb(85,10)\n",
    "denominator"
   ]
  },
  {
   "cell_type": "code",
   "execution_count": 5,
   "metadata": {},
   "outputs": [
    {
     "data": {
      "text/plain": [
       "1"
      ]
     },
     "execution_count": 5,
     "metadata": {},
     "output_type": "execute_result"
    }
   ],
   "source": [
    "numFreshman = comb(3,0)\n",
    "numFreshman"
   ]
  },
  {
   "cell_type": "code",
   "execution_count": 6,
   "metadata": {},
   "outputs": [
    {
     "data": {
      "text/plain": [
       "17550"
      ]
     },
     "execution_count": 6,
     "metadata": {},
     "output_type": "execute_result"
    }
   ],
   "source": [
    "numSophmore = comb(27,4)\n",
    "numSophmore"
   ]
  },
  {
   "cell_type": "code",
   "execution_count": 7,
   "metadata": {},
   "outputs": [
    {
     "data": {
      "text/plain": [
       "4495"
      ]
     },
     "execution_count": 7,
     "metadata": {},
     "output_type": "execute_result"
    }
   ],
   "source": [
    "numJunior = comb(31,3)\n",
    "numJunior"
   ]
  },
  {
   "cell_type": "code",
   "execution_count": 8,
   "metadata": {},
   "outputs": [
    {
     "data": {
      "text/plain": [
       "2024"
      ]
     },
     "execution_count": 8,
     "metadata": {},
     "output_type": "execute_result"
    }
   ],
   "source": [
    "numSenior = comb(24,3)\n",
    "numSenior"
   ]
  },
  {
   "cell_type": "code",
   "execution_count": 9,
   "metadata": {},
   "outputs": [
    {
     "data": {
      "text/plain": [
       "0.05102572499546538"
      ]
     },
     "execution_count": 9,
     "metadata": {},
     "output_type": "execute_result"
    }
   ],
   "source": [
    "(numFreshman * numSophmore * numJunior * numSenior) / denominator"
   ]
  },
  {
   "cell_type": "markdown",
   "metadata": {},
   "source": [
    "## 3. [2.25 pt] Supergroup Composition Approximated Probability\n",
    "\n",
    "Next, design a simulation that will *approximate* the probability of randomly selecting a group of $k$ undergraduates affiliated with the class (without replacement) that has the same number of freshmen, sophomores, juniors, and seniors that your SUPERGROUP does.\n",
    "\n",
    "Your simulation should include 5000 trials (ie. you should simulate this random experiment of sampling $k$ students affiliated with the class 5000 times).\n",
    "\n",
    "*Hint: You may find the dataframe constructed below useful in your simulation.*\n",
    "\n",
    "*Hint: You may also find it useful to create a function that checks whether a given sample has the class-year composition that matches your supergroup.*\n"
   ]
  },
  {
   "cell_type": "code",
   "execution_count": 10,
   "metadata": {},
   "outputs": [
    {
     "name": "stdout",
     "output_type": "stream",
     "text": [
      "['freshmen', 'freshmen', 'freshmen', 'sophomore', 'sophomore', 'sophomore', 'sophomore', 'sophomore', 'sophomore', 'sophomore', 'sophomore', 'sophomore', 'sophomore', 'sophomore', 'sophomore', 'sophomore', 'sophomore', 'sophomore', 'sophomore', 'sophomore', 'sophomore', 'sophomore', 'sophomore', 'sophomore', 'sophomore', 'sophomore', 'sophomore', 'sophomore', 'sophomore', 'sophomore', 'junior', 'junior', 'junior', 'junior', 'junior', 'junior', 'junior', 'junior', 'junior', 'junior', 'junior', 'junior', 'junior', 'junior', 'junior', 'junior', 'junior', 'junior', 'junior', 'junior', 'junior', 'junior', 'junior', 'junior', 'junior', 'junior', 'junior', 'junior', 'junior', 'junior', 'junior', 'senior', 'senior', 'senior', 'senior', 'senior', 'senior', 'senior', 'senior', 'senior', 'senior', 'senior', 'senior', 'senior', 'senior', 'senior', 'senior', 'senior', 'senior', 'senior', 'senior', 'senior', 'senior', 'senior', 'senior']\n"
     ]
    },
    {
     "data": {
      "text/html": [
       "<div>\n",
       "<style scoped>\n",
       "    .dataframe tbody tr th:only-of-type {\n",
       "        vertical-align: middle;\n",
       "    }\n",
       "\n",
       "    .dataframe tbody tr th {\n",
       "        vertical-align: top;\n",
       "    }\n",
       "\n",
       "    .dataframe thead th {\n",
       "        text-align: right;\n",
       "    }\n",
       "</style>\n",
       "<table border=\"1\" class=\"dataframe\">\n",
       "  <thead>\n",
       "    <tr style=\"text-align: right;\">\n",
       "      <th></th>\n",
       "      <th>year</th>\n",
       "    </tr>\n",
       "  </thead>\n",
       "  <tbody>\n",
       "    <tr>\n",
       "      <th>0</th>\n",
       "      <td>freshmen</td>\n",
       "    </tr>\n",
       "    <tr>\n",
       "      <th>1</th>\n",
       "      <td>freshmen</td>\n",
       "    </tr>\n",
       "    <tr>\n",
       "      <th>2</th>\n",
       "      <td>freshmen</td>\n",
       "    </tr>\n",
       "    <tr>\n",
       "      <th>3</th>\n",
       "      <td>sophomore</td>\n",
       "    </tr>\n",
       "    <tr>\n",
       "      <th>4</th>\n",
       "      <td>sophomore</td>\n",
       "    </tr>\n",
       "    <tr>\n",
       "      <th>...</th>\n",
       "      <td>...</td>\n",
       "    </tr>\n",
       "    <tr>\n",
       "      <th>80</th>\n",
       "      <td>senior</td>\n",
       "    </tr>\n",
       "    <tr>\n",
       "      <th>81</th>\n",
       "      <td>senior</td>\n",
       "    </tr>\n",
       "    <tr>\n",
       "      <th>82</th>\n",
       "      <td>senior</td>\n",
       "    </tr>\n",
       "    <tr>\n",
       "      <th>83</th>\n",
       "      <td>senior</td>\n",
       "    </tr>\n",
       "    <tr>\n",
       "      <th>84</th>\n",
       "      <td>senior</td>\n",
       "    </tr>\n",
       "  </tbody>\n",
       "</table>\n",
       "<p>85 rows × 1 columns</p>\n",
       "</div>"
      ],
      "text/plain": [
       "         year\n",
       "0    freshmen\n",
       "1    freshmen\n",
       "2    freshmen\n",
       "3   sophomore\n",
       "4   sophomore\n",
       "..        ...\n",
       "80     senior\n",
       "81     senior\n",
       "82     senior\n",
       "83     senior\n",
       "84     senior\n",
       "\n",
       "[85 rows x 1 columns]"
      ]
     },
     "execution_count": 10,
     "metadata": {},
     "output_type": "execute_result"
    }
   ],
   "source": [
    "import numpy as np\n",
    "import pandas as pd\n",
    "class_list = list(np.repeat('freshmen', 3)) + list(np.repeat('sophomore', 27))+list(np.repeat('junior', 31))+list(np.repeat('senior', 24))\n",
    "print(class_list)\n",
    "\n",
    "df = pd.DataFrame({'year': class_list})\n",
    "df"
   ]
  },
  {
   "cell_type": "code",
   "execution_count": 45,
   "metadata": {},
   "outputs": [],
   "source": [
    "def check(df):\n",
    "    f = df[df['year'] == 'freshman'].shape[0]\n",
    "    s = df[df['year'] == 'sophomore'].shape[0]\n",
    "    j = df[df['year'] == 'junior'].shape[0]\n",
    "    se = df[df['year'] == 'senior'].shape[0]\n",
    "    if (f == 0 and s == 4 and j == 3 and se == 3):\n",
    "        return True\n",
    "    return False"
   ]
  },
  {
   "cell_type": "code",
   "execution_count": 46,
   "metadata": {},
   "outputs": [
    {
     "name": "stdout",
     "output_type": "stream",
     "text": [
      "0.0544\n"
     ]
    }
   ],
   "source": [
    "count = 0\n",
    "for i in range(5000):\n",
    "    sample = df.sample(10, replace=False)\n",
    "    if check(sample):\n",
    "        count += 1\n",
    "print(count/5000)"
   ]
  },
  {
   "cell_type": "code",
   "execution_count": null,
   "metadata": {},
   "outputs": [],
   "source": []
  },
  {
   "cell_type": "code",
   "execution_count": null,
   "metadata": {},
   "outputs": [],
   "source": []
  },
  {
   "cell_type": "code",
   "execution_count": null,
   "metadata": {},
   "outputs": [],
   "source": []
  },
  {
   "cell_type": "code",
   "execution_count": null,
   "metadata": {},
   "outputs": [],
   "source": []
  },
  {
   "cell_type": "code",
   "execution_count": null,
   "metadata": {},
   "outputs": [],
   "source": []
  },
  {
   "cell_type": "code",
   "execution_count": null,
   "metadata": {},
   "outputs": [],
   "source": []
  },
  {
   "cell_type": "markdown",
   "metadata": {},
   "source": [
    "## 4. [0.25 pt] Approximated and Theoretical Probability Comparison\n",
    "\n",
    "How close are your approximated probability from #3 and your theoretical probability from #2?"
   ]
  },
  {
   "cell_type": "code",
   "execution_count": null,
   "metadata": {},
   "outputs": [],
   "source": []
  }
 ],
 "metadata": {
  "kernelspec": {
   "display_name": "Python 3 (ipykernel)",
   "language": "python",
   "name": "python3"
  },
  "language_info": {
   "codemirror_mode": {
    "name": "ipython",
    "version": 3
   },
   "file_extension": ".py",
   "mimetype": "text/x-python",
   "name": "python",
   "nbconvert_exporter": "python",
   "pygments_lexer": "ipython3",
   "version": "3.9.12"
  }
 },
 "nbformat": 4,
 "nbformat_minor": 2
}
