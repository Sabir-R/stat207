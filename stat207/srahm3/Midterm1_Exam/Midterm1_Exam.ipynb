{
 "cells": [
  {
   "cell_type": "markdown",
   "metadata": {},
   "source": [
    "# Midterm 1 Exam - 70 Points\n",
    "\n",
    "## <u>Case Study</u>: IMDB Moving Rating Analysis\n",
    "\n",
    "In this analysis we would like to explore the relationships between various attributes of popular movies.\n",
    "\n",
    "IMDB.com is a well-known website that lists useful information about movies and TV shows and enables users to rate them. The data in the **imdb_popular.csv** file contains the following information about some of the most popular **movies** and **tv shows** listed on IMDB.\n",
    "\n",
    "\n",
    "* **Name**: name of the tv series or movie\n",
    "* **Date**: movie release year\n",
    "* **Rate**: IMDB's rating\n",
    "* **Genre**\n",
    "* **Duration**: Duration of the episode/movie \n",
    "* **Type**: Whether it's a 'Film' or 'Series'\n",
    "* **Certificate**: The rating letter ('G', 'PG', 'PG-13', 'R', etc)\n",
    "* **Nudity**: The level of nudity in the film/series\n",
    "* **Violence**: The level of violence in the film/series\n",
    "* **Profanity**: The level of profanity in the film/series\n",
    "* **Alcohol**: The level of alcohol use in the film/series\n",
    "* **Frightening**: The level of frightening content in the film/series\n",
    "\n",
    "\n",
    "### Research Goals:\n",
    "\n",
    "In this study we will explore the following research goals.\n",
    "\n",
    "1. Clean the dataset and manipulate it into a form that best helps us meet our other research goals.\n",
    "2. Find the top rated movies for each genre.\n",
    "3. Explore the relationship between the genre of the movie and IMDB movie ratings.\n",
    "4. Explore the relationship between the genre of the movies and the level of sensitive content in the movies.\n",
    "5. Perform preliminary analysis on the dataset that may help data scientists at Neflix make useful recommendations to different types of users.\n",
    "\n",
    "\n",
    "## <u>Points</u>\n",
    "\n",
    "<p>&nbsp;</p>\n",
    "<table style=\"border: none;border-collapse: collapse;width:102pt;\">\n",
    "    <tbody>\n",
    "        <tr>\n",
    "            <td style=\"color:black;font-size:15px;font-weight:700;font-style:normal;text-decoration:none;font-family:Calibri, sans-serif;text-align:right;vertical-align:bottom;border:.5pt solid windowtext;height:14.25pt;width:51pt;\">Problem</td>\n",
    "            <td style=\"color:black;font-size:15px;font-weight:700;font-style:normal;text-decoration:none;font-family:Calibri, sans-serif;text-align:general;vertical-align:bottom;border:.5pt solid windowtext;border-left:none;width:51pt;\">Points</td>\n",
    "        </tr>\n",
    "        <tr>\n",
    "            <td style=\"color:black;font-size:15px;font-weight:400;font-style:normal;text-decoration:none;font-family:Calibri, sans-serif;text-align:right;vertical-align:bottom;border:.5pt solid windowtext;height:14.25pt;border-top:none;\">1.1</td>\n",
    "            <td style=\"color:black;font-size:15px;font-weight:400;font-style:normal;text-decoration:none;font-family:Calibri, sans-serif;text-align:right;vertical-align:bottom;border:.5pt solid windowtext;border-top:none;border-left:none;\">5</td>\n",
    "        </tr>\n",
    "        <tr>\n",
    "            <td style=\"color:black;font-size:15px;font-weight:400;font-style:normal;text-decoration:none;font-family:Calibri, sans-serif;text-align:right;vertical-align:bottom;border:.5pt solid windowtext;height:14.25pt;border-top:none;\">1.2</td>\n",
    "            <td style=\"color:black;font-size:15px;font-weight:400;font-style:normal;text-decoration:none;font-family:Calibri, sans-serif;text-align:right;vertical-align:bottom;border:.5pt solid windowtext;border-top:none;border-left:none;\">0.5</td>\n",
    "        </tr>\n",
    "        <tr>\n",
    "            <td style=\"color:black;font-size:15px;font-weight:400;font-style:normal;text-decoration:none;font-family:Calibri, sans-serif;text-align:right;vertical-align:bottom;border:.5pt solid windowtext;height:14.25pt;border-top:none;\">1.3</td>\n",
    "            <td style=\"color:black;font-size:15px;font-weight:400;font-style:normal;text-decoration:none;font-family:Calibri, sans-serif;text-align:right;vertical-align:bottom;border:.5pt solid windowtext;border-top:none;border-left:none;\">2</td>\n",
    "        </tr>\n",
    "        <tr>\n",
    "            <td style=\"color:black;font-size:15px;font-weight:400;font-style:normal;text-decoration:none;font-family:Calibri, sans-serif;text-align:right;vertical-align:bottom;border:.5pt solid windowtext;height:14.25pt;border-top:none;\">1.4.1</td>\n",
    "            <td style=\"color:black;font-size:15px;font-weight:400;font-style:normal;text-decoration:none;font-family:Calibri, sans-serif;text-align:right;vertical-align:bottom;border:.5pt solid windowtext;border-top:none;border-left:none;\">2.5</td>\n",
    "        </tr>\n",
    "        <tr>\n",
    "            <td style=\"color:black;font-size:15px;font-weight:400;font-style:normal;text-decoration:none;font-family:Calibri, sans-serif;text-align:right;vertical-align:bottom;border:.5pt solid windowtext;height:14.25pt;border-top:none;\">1.4.2</td>\n",
    "            <td style=\"color:black;font-size:15px;font-weight:400;font-style:normal;text-decoration:none;font-family:Calibri, sans-serif;text-align:right;vertical-align:bottom;border:.5pt solid windowtext;border-top:none;border-left:none;\">2.5</td>\n",
    "        </tr>\n",
    "        <tr>\n",
    "            <td style=\"color:black;font-size:15px;font-weight:400;font-style:normal;text-decoration:none;font-family:Calibri, sans-serif;text-align:right;vertical-align:bottom;border:.5pt solid windowtext;height:14.25pt;border-top:none;\">1.4.3</td>\n",
    "            <td style=\"color:black;font-size:15px;font-weight:400;font-style:normal;text-decoration:none;font-family:Calibri, sans-serif;text-align:right;vertical-align:bottom;border:.5pt solid windowtext;border-top:none;border-left:none;\">3</td>\n",
    "        </tr>\n",
    "        <tr>\n",
    "            <td style=\"color:black;font-size:15px;font-weight:400;font-style:normal;text-decoration:none;font-family:Calibri, sans-serif;text-align:right;vertical-align:bottom;border:.5pt solid windowtext;height:14.25pt;border-top:none;\">1.5</td>\n",
    "            <td style=\"color:black;font-size:15px;font-weight:400;font-style:normal;text-decoration:none;font-family:Calibri, sans-serif;text-align:right;vertical-align:bottom;border:.5pt solid windowtext;border-top:none;border-left:none;\">0.5</td>\n",
    "        </tr>\n",
    "        <tr>\n",
    "            <td style=\"color:black;font-size:15px;font-weight:400;font-style:normal;text-decoration:none;font-family:Calibri, sans-serif;text-align:right;vertical-align:bottom;border:.5pt solid windowtext;height:14.25pt;border-top:none;\">2.1.1</td>\n",
    "            <td style=\"color:black;font-size:15px;font-weight:400;font-style:normal;text-decoration:none;font-family:Calibri, sans-serif;text-align:right;vertical-align:bottom;border:.5pt solid windowtext;border-top:none;border-left:none;\">2.5</td>\n",
    "        </tr>\n",
    "        <tr>\n",
    "            <td style=\"color:black;font-size:15px;font-weight:400;font-style:normal;text-decoration:none;font-family:Calibri, sans-serif;text-align:right;vertical-align:bottom;border:.5pt solid windowtext;height:14.25pt;border-top:none;\">2.1.2</td>\n",
    "            <td style=\"color:black;font-size:15px;font-weight:400;font-style:normal;text-decoration:none;font-family:Calibri, sans-serif;text-align:right;vertical-align:bottom;border:.5pt solid windowtext;border-top:none;border-left:none;\">3</td>\n",
    "        </tr>\n",
    "        <tr>\n",
    "            <td style=\"color:black;font-size:15px;font-weight:400;font-style:normal;text-decoration:none;font-family:Calibri, sans-serif;text-align:right;vertical-align:bottom;border:.5pt solid windowtext;height:14.25pt;border-top:none;\">2.2.1</td>\n",
    "            <td style=\"color:black;font-size:15px;font-weight:400;font-style:normal;text-decoration:none;font-family:Calibri, sans-serif;text-align:right;vertical-align:bottom;border:.5pt solid windowtext;border-top:none;border-left:none;\">2.5</td>\n",
    "        </tr>\n",
    "        <tr>\n",
    "            <td style=\"color:black;font-size:15px;font-weight:400;font-style:normal;text-decoration:none;font-family:Calibri, sans-serif;text-align:right;vertical-align:bottom;border:.5pt solid windowtext;height:14.25pt;border-top:none;\">2.2.2</td>\n",
    "            <td style=\"color:black;font-size:15px;font-weight:400;font-style:normal;text-decoration:none;font-family:Calibri, sans-serif;text-align:right;vertical-align:bottom;border:.5pt solid windowtext;border-top:none;border-left:none;\">3.5</td>\n",
    "        </tr>\n",
    "        <tr>\n",
    "            <td style=\"color:black;font-size:15px;font-weight:400;font-style:normal;text-decoration:none;font-family:Calibri, sans-serif;text-align:right;vertical-align:bottom;border:.5pt solid windowtext;height:14.25pt;border-top:none;\">3.1</td>\n",
    "            <td style=\"color:black;font-size:15px;font-weight:400;font-style:normal;text-decoration:none;font-family:Calibri, sans-serif;text-align:right;vertical-align:bottom;border:.5pt solid windowtext;border-top:none;border-left:none;\">3</td>\n",
    "        </tr>\n",
    "        <tr>\n",
    "            <td style=\"color:black;font-size:15px;font-weight:400;font-style:normal;text-decoration:none;font-family:Calibri, sans-serif;text-align:right;vertical-align:bottom;border:.5pt solid windowtext;height:14.25pt;border-top:none;\">3.2</td>\n",
    "            <td style=\"color:black;font-size:15px;font-weight:400;font-style:normal;text-decoration:none;font-family:Calibri, sans-serif;text-align:right;vertical-align:bottom;border:.5pt solid windowtext;border-top:none;border-left:none;\">1</td>\n",
    "        </tr>\n",
    "        <tr>\n",
    "            <td style=\"color:black;font-size:15px;font-weight:400;font-style:normal;text-decoration:none;font-family:Calibri, sans-serif;text-align:right;vertical-align:bottom;border:.5pt solid windowtext;height:14.25pt;border-top:none;\">4.1</td>\n",
    "            <td style=\"color:black;font-size:15px;font-weight:400;font-style:normal;text-decoration:none;font-family:Calibri, sans-serif;text-align:right;vertical-align:bottom;border:.5pt solid windowtext;border-top:none;border-left:none;\">3</td>\n",
    "        </tr>\n",
    "        <tr>\n",
    "            <td style=\"color:black;font-size:15px;font-weight:400;font-style:normal;text-decoration:none;font-family:Calibri, sans-serif;text-align:right;vertical-align:bottom;border:.5pt solid windowtext;height:14.25pt;border-top:none;\">4.2</td>\n",
    "            <td style=\"color:black;font-size:15px;font-weight:400;font-style:normal;text-decoration:none;font-family:Calibri, sans-serif;text-align:right;vertical-align:bottom;border:.5pt solid windowtext;border-top:none;border-left:none;\">3</td>\n",
    "        </tr>\n",
    "        <tr>\n",
    "            <td style=\"color:black;font-size:15px;font-weight:400;font-style:normal;text-decoration:none;font-family:Calibri, sans-serif;text-align:right;vertical-align:bottom;border:.5pt solid windowtext;height:14.25pt;border-top:none;\">4.3</td>\n",
    "            <td style=\"color:black;font-size:15px;font-weight:400;font-style:normal;text-decoration:none;font-family:Calibri, sans-serif;text-align:right;vertical-align:bottom;border:.5pt solid windowtext;border-top:none;border-left:none;\">2.5</td>\n",
    "        </tr>\n",
    "        <tr>\n",
    "            <td style=\"color:black;font-size:15px;font-weight:400;font-style:normal;text-decoration:none;font-family:Calibri, sans-serif;text-align:right;vertical-align:bottom;border:.5pt solid windowtext;height:14.25pt;border-top:none;\">5.1</td>\n",
    "            <td style=\"color:black;font-size:15px;font-weight:400;font-style:normal;text-decoration:none;font-family:Calibri, sans-serif;text-align:right;vertical-align:bottom;border:.5pt solid windowtext;border-top:none;border-left:none;\">2</td>\n",
    "        </tr>\n",
    "        <tr>\n",
    "            <td style=\"color:black;font-size:15px;font-weight:400;font-style:normal;text-decoration:none;font-family:Calibri, sans-serif;text-align:right;vertical-align:bottom;border:.5pt solid windowtext;height:14.25pt;border-top:none;\">5.2</td>\n",
    "            <td style=\"color:black;font-size:15px;font-weight:400;font-style:normal;text-decoration:none;font-family:Calibri, sans-serif;text-align:right;vertical-align:bottom;border:.5pt solid windowtext;border-top:none;border-left:none;\">4</td>\n",
    "        </tr>\n",
    "        <tr>\n",
    "            <td style=\"color:black;font-size:15px;font-weight:400;font-style:normal;text-decoration:none;font-family:Calibri, sans-serif;text-align:right;vertical-align:bottom;border:.5pt solid windowtext;height:14.25pt;border-top:none;\">5.3</td>\n",
    "            <td style=\"color:black;font-size:15px;font-weight:400;font-style:normal;text-decoration:none;font-family:Calibri, sans-serif;text-align:right;vertical-align:bottom;border:.5pt solid windowtext;border-top:none;border-left:none;\">1.75</td>\n",
    "        </tr>\n",
    "        <tr>\n",
    "            <td style=\"color:black;font-size:15px;font-weight:400;font-style:normal;text-decoration:none;font-family:Calibri, sans-serif;text-align:right;vertical-align:bottom;border:.5pt solid windowtext;height:14.25pt;border-top:none;\">5.4.1</td>\n",
    "            <td style=\"color:black;font-size:15px;font-weight:400;font-style:normal;text-decoration:none;font-family:Calibri, sans-serif;text-align:right;vertical-align:bottom;border:.5pt solid windowtext;border-top:none;border-left:none;\">2</td>\n",
    "        </tr>\n",
    "        <tr>\n",
    "            <td style=\"color:black;font-size:15px;font-weight:400;font-style:normal;text-decoration:none;font-family:Calibri, sans-serif;text-align:right;vertical-align:bottom;border:.5pt solid windowtext;height:14.25pt;border-top:none;\">5.4.2</td>\n",
    "            <td style=\"color:black;font-size:15px;font-weight:400;font-style:normal;text-decoration:none;font-family:Calibri, sans-serif;text-align:right;vertical-align:bottom;border:.5pt solid windowtext;border-top:none;border-left:none;\">0.75</td>\n",
    "        </tr>\n",
    "        <tr>\n",
    "            <td style=\"color:black;font-size:15px;font-weight:400;font-style:normal;text-decoration:none;font-family:Calibri, sans-serif;text-align:right;vertical-align:bottom;border:.5pt solid windowtext;height:14.25pt;border-top:none;\">6.1</td>\n",
    "            <td style=\"color:black;font-size:15px;font-weight:400;font-style:normal;text-decoration:none;font-family:Calibri, sans-serif;text-align:right;vertical-align:bottom;border:.5pt solid windowtext;border-top:none;border-left:none;\">4.5</td>\n",
    "        </tr>\n",
    "        <tr>\n",
    "            <td style=\"color:black;font-size:15px;font-weight:400;font-style:normal;text-decoration:none;font-family:Calibri, sans-serif;text-align:right;vertical-align:bottom;border:.5pt solid windowtext;height:14.25pt;border-top:none;\">6.2</td>\n",
    "            <td style=\"color:black;font-size:15px;font-weight:400;font-style:normal;text-decoration:none;font-family:Calibri, sans-serif;text-align:right;vertical-align:bottom;border:.5pt solid windowtext;border-top:none;border-left:none;\">1</td>\n",
    "        </tr>\n",
    "        <tr>\n",
    "            <td style=\"color:black;font-size:15px;font-weight:400;font-style:normal;text-decoration:none;font-family:Calibri, sans-serif;text-align:right;vertical-align:bottom;border:.5pt solid windowtext;height:14.25pt;border-top:none;\">7.1.1</td>\n",
    "            <td style=\"color:black;font-size:15px;font-weight:400;font-style:normal;text-decoration:none;font-family:Calibri, sans-serif;text-align:right;vertical-align:bottom;border:.5pt solid windowtext;border-top:none;border-left:none;\">1.5</td>\n",
    "        </tr>\n",
    "        <tr>\n",
    "            <td style=\"color:black;font-size:15px;font-weight:400;font-style:normal;text-decoration:none;font-family:Calibri, sans-serif;text-align:right;vertical-align:bottom;border:.5pt solid windowtext;height:14.25pt;border-top:none;\">7.1.2</td>\n",
    "            <td style=\"color:black;font-size:15px;font-weight:400;font-style:normal;text-decoration:none;font-family:Calibri, sans-serif;text-align:right;vertical-align:bottom;border:.5pt solid windowtext;border-top:none;border-left:none;\">1.5</td>\n",
    "        </tr>\n",
    "        <tr>\n",
    "            <td style=\"color:black;font-size:15px;font-weight:400;font-style:normal;text-decoration:none;font-family:Calibri, sans-serif;text-align:right;vertical-align:bottom;border:.5pt solid windowtext;height:14.25pt;border-top:none;\">7.2.1</td>\n",
    "            <td style=\"color:black;font-size:15px;font-weight:400;font-style:normal;text-decoration:none;font-family:Calibri, sans-serif;text-align:right;vertical-align:bottom;border:.5pt solid windowtext;border-top:none;border-left:none;\">3.5</td>\n",
    "        </tr>\n",
    "        <tr>\n",
    "            <td style=\"color:black;font-size:15px;font-weight:400;font-style:normal;text-decoration:none;font-family:Calibri, sans-serif;text-align:right;vertical-align:bottom;border:.5pt solid windowtext;height:14.25pt;border-top:none;\">7.2.2</td>\n",
    "            <td style=\"color:black;font-size:15px;font-weight:400;font-style:normal;text-decoration:none;font-family:Calibri, sans-serif;text-align:right;vertical-align:bottom;border:.5pt solid windowtext;border-top:none;border-left:none;\">1</td>\n",
    "        </tr>\n",
    "        <tr>\n",
    "            <td style=\"color:black;font-size:15px;font-weight:400;font-style:normal;text-decoration:none;font-family:Calibri, sans-serif;text-align:right;vertical-align:bottom;border:.5pt solid windowtext;height:14.25pt;border-top:none;\">8</td>\n",
    "            <td style=\"color:black;font-size:15px;font-weight:400;font-style:normal;text-decoration:none;font-family:Calibri, sans-serif;text-align:right;vertical-align:bottom;border:.5pt solid windowtext;border-top:none;border-left:none;\">1.5</td>\n",
    "        </tr>\n",
    "        <tr>\n",
    "            <td style=\"color:black;font-size:15px;font-weight:400;font-style:normal;text-decoration:none;font-family:Calibri, sans-serif;text-align:right;vertical-align:bottom;border:.5pt solid windowtext;height:14.25pt;border-top:none;\">9.1</td>\n",
    "            <td style=\"color:black;font-size:15px;font-weight:400;font-style:normal;text-decoration:none;font-family:Calibri, sans-serif;text-align:right;vertical-align:bottom;border:.5pt solid windowtext;border-top:none;border-left:none;\">3</td>\n",
    "        </tr>\n",
    "        <tr>\n",
    "            <td style=\"color:black;font-size:15px;font-weight:400;font-style:normal;text-decoration:none;font-family:Calibri, sans-serif;text-align:right;vertical-align:bottom;border:.5pt solid windowtext;height:14.25pt;border-top:none;\">9.2</td>\n",
    "            <td style=\"color:black;font-size:15px;font-weight:400;font-style:normal;text-decoration:none;font-family:Calibri, sans-serif;text-align:right;vertical-align:bottom;border:.5pt solid windowtext;border-top:none;border-left:none;\">2</td>\n",
    "        </tr>\n",
    "    </tbody>\n",
    "</table>\n",
    "\n",
    "## <u>UIUC Academic Integrity Policy</u>\n",
    "## <font style=\"color:red\">WRITE YOUR FULL NAME BELOW BEFORE BEGINNING </font>\n",
    "\n",
    "This is a an open notes takehome exam. <font style=\"color:red\">**However, you are not allowed to discuss this exam, open someone else's exam, or share/send your exam to anyone else except for Dr. Ellison until after the 24 hour exam period is over.**</font>\n",
    "\n",
    "By writing your full name in the textbox below you are indicating that you have read and are aware of the academic dishonesty policies http://courses.las.illinois.edu/fall2022/stat207/syllabus.html which indicates that <font style=\"color:red\">evidence of cheating on the exam results in an automatic F in the course. </font>\n"
   ]
  },
  {
   "cell_type": "markdown",
   "metadata": {},
   "source": [
    "Sabir Rahman"
   ]
  },
  {
   "cell_type": "markdown",
   "metadata": {},
   "source": [
    "### Imports"
   ]
  },
  {
   "cell_type": "code",
   "execution_count": 195,
   "metadata": {},
   "outputs": [],
   "source": [
    "import pandas as pd\n",
    "import numpy as np\n",
    "import seaborn as sns\n",
    "import matplotlib.pyplot as plt\n",
    "\n",
    "from scipy.stats import bernoulli\n",
    "from scipy.stats import binom\n",
    "from scipy.stats import norm"
   ]
  },
  {
   "cell_type": "markdown",
   "metadata": {},
   "source": [
    "## 1. Data Cleaning and Processing\n",
    "\n",
    "### 1.1. Missing Value Detection and Cleaning\n",
    "We plan to analyze all of variables in this dataset. In order to ensure that our subsequent functions work appropriately on these variables, you should do the following.\n",
    "1. Identify any values (if any) **in your numerical variables** that have been encoded in the csv to represent a **missing value**. \n",
    "2. Make sure that the values in each of your numerical variables are represented as numerical values (either float64 or int64 object types). If not, fix this using the methods we discussed in class.\n",
    "3. Delete any rows in your dataframe that have missing values. Remember, some \"missing values\", in the way that they're currently encoded in the csv may not be initially detectable by Python. It is your job to figure out what these missing values are represented by and make it so Python does detect them.\n",
    "4. **Delete any rows that have a missing value that you detected.**\n",
    "5. **Discuss how many rows that you dropped.**\n",
    "6. **Display the first five rows of your final cleaned dataframe.**"
   ]
  },
  {
   "cell_type": "code",
   "execution_count": 16,
   "metadata": {},
   "outputs": [
    {
     "data": {
      "text/html": [
       "<div>\n",
       "<style scoped>\n",
       "    .dataframe tbody tr th:only-of-type {\n",
       "        vertical-align: middle;\n",
       "    }\n",
       "\n",
       "    .dataframe tbody tr th {\n",
       "        vertical-align: top;\n",
       "    }\n",
       "\n",
       "    .dataframe thead th {\n",
       "        text-align: right;\n",
       "    }\n",
       "</style>\n",
       "<table border=\"1\" class=\"dataframe\">\n",
       "  <thead>\n",
       "    <tr style=\"text-align: right;\">\n",
       "      <th></th>\n",
       "      <th>Name</th>\n",
       "      <th>Date</th>\n",
       "      <th>Rate</th>\n",
       "      <th>Genre</th>\n",
       "      <th>Duration</th>\n",
       "      <th>Type</th>\n",
       "      <th>Certificate</th>\n",
       "      <th>Nudity</th>\n",
       "      <th>Violence</th>\n",
       "      <th>Profanity</th>\n",
       "      <th>Alcohol</th>\n",
       "      <th>Frightening</th>\n",
       "    </tr>\n",
       "  </thead>\n",
       "  <tbody>\n",
       "    <tr>\n",
       "      <th>0</th>\n",
       "      <td>No Time to Die</td>\n",
       "      <td>2021</td>\n",
       "      <td>7.6</td>\n",
       "      <td>Action</td>\n",
       "      <td>163.0</td>\n",
       "      <td>Film</td>\n",
       "      <td>PG-13</td>\n",
       "      <td>Mild</td>\n",
       "      <td>Moderate</td>\n",
       "      <td>Mild</td>\n",
       "      <td>Mild</td>\n",
       "      <td>Moderate</td>\n",
       "    </tr>\n",
       "    <tr>\n",
       "      <th>1</th>\n",
       "      <td>The Guilty</td>\n",
       "      <td>2021</td>\n",
       "      <td>6.3</td>\n",
       "      <td>Crime</td>\n",
       "      <td>90.0</td>\n",
       "      <td>Film</td>\n",
       "      <td>R</td>\n",
       "      <td>None</td>\n",
       "      <td>None</td>\n",
       "      <td>Severe</td>\n",
       "      <td>None</td>\n",
       "      <td>Moderate</td>\n",
       "    </tr>\n",
       "    <tr>\n",
       "      <th>2</th>\n",
       "      <td>The Many Saints of Newark</td>\n",
       "      <td>2021</td>\n",
       "      <td>6.4</td>\n",
       "      <td>Crime</td>\n",
       "      <td>120.0</td>\n",
       "      <td>Film</td>\n",
       "      <td>R</td>\n",
       "      <td>Moderate</td>\n",
       "      <td>Severe</td>\n",
       "      <td>Severe</td>\n",
       "      <td>Moderate</td>\n",
       "      <td>Moderate</td>\n",
       "    </tr>\n",
       "    <tr>\n",
       "      <th>3</th>\n",
       "      <td>Venom: Let There Be Carnage</td>\n",
       "      <td>2021</td>\n",
       "      <td>6.4</td>\n",
       "      <td>Action</td>\n",
       "      <td>97.0</td>\n",
       "      <td>Film</td>\n",
       "      <td>PG-13</td>\n",
       "      <td>None</td>\n",
       "      <td>Moderate</td>\n",
       "      <td>Moderate</td>\n",
       "      <td>Mild</td>\n",
       "      <td>Moderate</td>\n",
       "    </tr>\n",
       "    <tr>\n",
       "      <th>4</th>\n",
       "      <td>Dune</td>\n",
       "      <td>2021</td>\n",
       "      <td>8.3</td>\n",
       "      <td>Action</td>\n",
       "      <td>155.0</td>\n",
       "      <td>Film</td>\n",
       "      <td>PG-13</td>\n",
       "      <td>None</td>\n",
       "      <td>Moderate</td>\n",
       "      <td>None</td>\n",
       "      <td>Mild</td>\n",
       "      <td>Moderate</td>\n",
       "    </tr>\n",
       "    <tr>\n",
       "      <th>...</th>\n",
       "      <td>...</td>\n",
       "      <td>...</td>\n",
       "      <td>...</td>\n",
       "      <td>...</td>\n",
       "      <td>...</td>\n",
       "      <td>...</td>\n",
       "      <td>...</td>\n",
       "      <td>...</td>\n",
       "      <td>...</td>\n",
       "      <td>...</td>\n",
       "      <td>...</td>\n",
       "      <td>...</td>\n",
       "    </tr>\n",
       "    <tr>\n",
       "      <th>6173</th>\n",
       "      <td>The Human Centipede II (Full Sequence)</td>\n",
       "      <td>2011</td>\n",
       "      <td>3.8</td>\n",
       "      <td>Horror</td>\n",
       "      <td>91.0</td>\n",
       "      <td>Film</td>\n",
       "      <td>Not Rated</td>\n",
       "      <td>Severe</td>\n",
       "      <td>Severe</td>\n",
       "      <td>Severe</td>\n",
       "      <td>Mild</td>\n",
       "      <td>Severe</td>\n",
       "    </tr>\n",
       "    <tr>\n",
       "      <th>6174</th>\n",
       "      <td>Double Indemnity</td>\n",
       "      <td>1944</td>\n",
       "      <td>8.3</td>\n",
       "      <td>Crime</td>\n",
       "      <td>107.0</td>\n",
       "      <td>Film</td>\n",
       "      <td>Passed</td>\n",
       "      <td>None</td>\n",
       "      <td>Mild</td>\n",
       "      <td>None</td>\n",
       "      <td>Mild</td>\n",
       "      <td>Mild</td>\n",
       "    </tr>\n",
       "    <tr>\n",
       "      <th>6175</th>\n",
       "      <td>Before the Devil Knows You're Dead</td>\n",
       "      <td>2007</td>\n",
       "      <td>7.3</td>\n",
       "      <td>Crime</td>\n",
       "      <td>117.0</td>\n",
       "      <td>Film</td>\n",
       "      <td>R</td>\n",
       "      <td>Severe</td>\n",
       "      <td>Moderate</td>\n",
       "      <td>Severe</td>\n",
       "      <td>Severe</td>\n",
       "      <td>Severe</td>\n",
       "    </tr>\n",
       "    <tr>\n",
       "      <th>6176</th>\n",
       "      <td>Queen Bees</td>\n",
       "      <td>2021</td>\n",
       "      <td>6.0</td>\n",
       "      <td>Comedy</td>\n",
       "      <td>100.0</td>\n",
       "      <td>Film</td>\n",
       "      <td>PG-13</td>\n",
       "      <td>None</td>\n",
       "      <td>None</td>\n",
       "      <td>Mild</td>\n",
       "      <td>Moderate</td>\n",
       "      <td>None</td>\n",
       "    </tr>\n",
       "    <tr>\n",
       "      <th>6177</th>\n",
       "      <td>Death Race</td>\n",
       "      <td>2008</td>\n",
       "      <td>6.3</td>\n",
       "      <td>Action</td>\n",
       "      <td>105.0</td>\n",
       "      <td>Film</td>\n",
       "      <td>R</td>\n",
       "      <td>Mild</td>\n",
       "      <td>Severe</td>\n",
       "      <td>Severe</td>\n",
       "      <td>Mild</td>\n",
       "      <td>Moderate</td>\n",
       "    </tr>\n",
       "  </tbody>\n",
       "</table>\n",
       "<p>6178 rows × 12 columns</p>\n",
       "</div>"
      ],
      "text/plain": [
       "                                        Name  Date  Rate   Genre  Duration  \\\n",
       "0                             No Time to Die  2021   7.6  Action     163.0   \n",
       "1                                 The Guilty  2021   6.3   Crime      90.0   \n",
       "2                  The Many Saints of Newark  2021   6.4   Crime     120.0   \n",
       "3                Venom: Let There Be Carnage  2021   6.4  Action      97.0   \n",
       "4                                       Dune  2021   8.3  Action     155.0   \n",
       "...                                      ...   ...   ...     ...       ...   \n",
       "6173  The Human Centipede II (Full Sequence)  2011   3.8  Horror      91.0   \n",
       "6174                        Double Indemnity  1944   8.3   Crime     107.0   \n",
       "6175      Before the Devil Knows You're Dead  2007   7.3   Crime     117.0   \n",
       "6176                              Queen Bees  2021   6.0  Comedy     100.0   \n",
       "6177                              Death Race  2008   6.3  Action     105.0   \n",
       "\n",
       "      Type Certificate    Nudity  Violence Profanity   Alcohol Frightening  \n",
       "0     Film       PG-13      Mild  Moderate      Mild      Mild    Moderate  \n",
       "1     Film           R      None      None    Severe      None    Moderate  \n",
       "2     Film           R  Moderate    Severe    Severe  Moderate    Moderate  \n",
       "3     Film       PG-13      None  Moderate  Moderate      Mild    Moderate  \n",
       "4     Film       PG-13      None  Moderate      None      Mild    Moderate  \n",
       "...    ...         ...       ...       ...       ...       ...         ...  \n",
       "6173  Film   Not Rated    Severe    Severe    Severe      Mild      Severe  \n",
       "6174  Film      Passed      None      Mild      None      Mild        Mild  \n",
       "6175  Film           R    Severe  Moderate    Severe    Severe      Severe  \n",
       "6176  Film       PG-13      None      None      Mild  Moderate        None  \n",
       "6177  Film           R      Mild    Severe    Severe      Mild    Moderate  \n",
       "\n",
       "[6178 rows x 12 columns]"
      ]
     },
     "execution_count": 16,
     "metadata": {},
     "output_type": "execute_result"
    }
   ],
   "source": [
    "missing_values = [\"missing\"]\n",
    "df = pd.read_csv('imdb_popular.csv', na_values = missing_values)\n",
    "df"
   ]
  },
  {
   "cell_type": "code",
   "execution_count": 17,
   "metadata": {},
   "outputs": [
    {
     "data": {
      "text/plain": [
       "Name            object\n",
       "Date             int64\n",
       "Rate           float64\n",
       "Genre           object\n",
       "Duration       float64\n",
       "Type            object\n",
       "Certificate     object\n",
       "Nudity          object\n",
       "Violence        object\n",
       "Profanity       object\n",
       "Alcohol         object\n",
       "Frightening     object\n",
       "dtype: object"
      ]
     },
     "execution_count": 17,
     "metadata": {},
     "output_type": "execute_result"
    }
   ],
   "source": [
    "df.dtypes"
   ]
  },
  {
   "cell_type": "code",
   "execution_count": 15,
   "metadata": {},
   "outputs": [
    {
     "data": {
      "text/plain": [
       "array(['Moderate', 'None', 'Mild', 'No Rate', 'Severe'], dtype=object)"
      ]
     },
     "execution_count": 15,
     "metadata": {},
     "output_type": "execute_result"
    }
   ],
   "source": [
    "df['Frightening'].unique()"
   ]
  },
  {
   "cell_type": "code",
   "execution_count": 18,
   "metadata": {},
   "outputs": [
    {
     "data": {
      "text/html": [
       "<div>\n",
       "<style scoped>\n",
       "    .dataframe tbody tr th:only-of-type {\n",
       "        vertical-align: middle;\n",
       "    }\n",
       "\n",
       "    .dataframe tbody tr th {\n",
       "        vertical-align: top;\n",
       "    }\n",
       "\n",
       "    .dataframe thead th {\n",
       "        text-align: right;\n",
       "    }\n",
       "</style>\n",
       "<table border=\"1\" class=\"dataframe\">\n",
       "  <thead>\n",
       "    <tr style=\"text-align: right;\">\n",
       "      <th></th>\n",
       "      <th>Name</th>\n",
       "      <th>Date</th>\n",
       "      <th>Rate</th>\n",
       "      <th>Genre</th>\n",
       "      <th>Duration</th>\n",
       "      <th>Type</th>\n",
       "      <th>Certificate</th>\n",
       "      <th>Nudity</th>\n",
       "      <th>Violence</th>\n",
       "      <th>Profanity</th>\n",
       "      <th>Alcohol</th>\n",
       "      <th>Frightening</th>\n",
       "    </tr>\n",
       "  </thead>\n",
       "  <tbody>\n",
       "    <tr>\n",
       "      <th>0</th>\n",
       "      <td>No Time to Die</td>\n",
       "      <td>2021</td>\n",
       "      <td>7.6</td>\n",
       "      <td>Action</td>\n",
       "      <td>163.0</td>\n",
       "      <td>Film</td>\n",
       "      <td>PG-13</td>\n",
       "      <td>Mild</td>\n",
       "      <td>Moderate</td>\n",
       "      <td>Mild</td>\n",
       "      <td>Mild</td>\n",
       "      <td>Moderate</td>\n",
       "    </tr>\n",
       "    <tr>\n",
       "      <th>1</th>\n",
       "      <td>The Guilty</td>\n",
       "      <td>2021</td>\n",
       "      <td>6.3</td>\n",
       "      <td>Crime</td>\n",
       "      <td>90.0</td>\n",
       "      <td>Film</td>\n",
       "      <td>R</td>\n",
       "      <td>None</td>\n",
       "      <td>None</td>\n",
       "      <td>Severe</td>\n",
       "      <td>None</td>\n",
       "      <td>Moderate</td>\n",
       "    </tr>\n",
       "    <tr>\n",
       "      <th>2</th>\n",
       "      <td>The Many Saints of Newark</td>\n",
       "      <td>2021</td>\n",
       "      <td>6.4</td>\n",
       "      <td>Crime</td>\n",
       "      <td>120.0</td>\n",
       "      <td>Film</td>\n",
       "      <td>R</td>\n",
       "      <td>Moderate</td>\n",
       "      <td>Severe</td>\n",
       "      <td>Severe</td>\n",
       "      <td>Moderate</td>\n",
       "      <td>Moderate</td>\n",
       "    </tr>\n",
       "    <tr>\n",
       "      <th>3</th>\n",
       "      <td>Venom: Let There Be Carnage</td>\n",
       "      <td>2021</td>\n",
       "      <td>6.4</td>\n",
       "      <td>Action</td>\n",
       "      <td>97.0</td>\n",
       "      <td>Film</td>\n",
       "      <td>PG-13</td>\n",
       "      <td>None</td>\n",
       "      <td>Moderate</td>\n",
       "      <td>Moderate</td>\n",
       "      <td>Mild</td>\n",
       "      <td>Moderate</td>\n",
       "    </tr>\n",
       "    <tr>\n",
       "      <th>4</th>\n",
       "      <td>Dune</td>\n",
       "      <td>2021</td>\n",
       "      <td>8.3</td>\n",
       "      <td>Action</td>\n",
       "      <td>155.0</td>\n",
       "      <td>Film</td>\n",
       "      <td>PG-13</td>\n",
       "      <td>None</td>\n",
       "      <td>Moderate</td>\n",
       "      <td>None</td>\n",
       "      <td>Mild</td>\n",
       "      <td>Moderate</td>\n",
       "    </tr>\n",
       "    <tr>\n",
       "      <th>...</th>\n",
       "      <td>...</td>\n",
       "      <td>...</td>\n",
       "      <td>...</td>\n",
       "      <td>...</td>\n",
       "      <td>...</td>\n",
       "      <td>...</td>\n",
       "      <td>...</td>\n",
       "      <td>...</td>\n",
       "      <td>...</td>\n",
       "      <td>...</td>\n",
       "      <td>...</td>\n",
       "      <td>...</td>\n",
       "    </tr>\n",
       "    <tr>\n",
       "      <th>6173</th>\n",
       "      <td>The Human Centipede II (Full Sequence)</td>\n",
       "      <td>2011</td>\n",
       "      <td>3.8</td>\n",
       "      <td>Horror</td>\n",
       "      <td>91.0</td>\n",
       "      <td>Film</td>\n",
       "      <td>Not Rated</td>\n",
       "      <td>Severe</td>\n",
       "      <td>Severe</td>\n",
       "      <td>Severe</td>\n",
       "      <td>Mild</td>\n",
       "      <td>Severe</td>\n",
       "    </tr>\n",
       "    <tr>\n",
       "      <th>6174</th>\n",
       "      <td>Double Indemnity</td>\n",
       "      <td>1944</td>\n",
       "      <td>8.3</td>\n",
       "      <td>Crime</td>\n",
       "      <td>107.0</td>\n",
       "      <td>Film</td>\n",
       "      <td>Passed</td>\n",
       "      <td>None</td>\n",
       "      <td>Mild</td>\n",
       "      <td>None</td>\n",
       "      <td>Mild</td>\n",
       "      <td>Mild</td>\n",
       "    </tr>\n",
       "    <tr>\n",
       "      <th>6175</th>\n",
       "      <td>Before the Devil Knows You're Dead</td>\n",
       "      <td>2007</td>\n",
       "      <td>7.3</td>\n",
       "      <td>Crime</td>\n",
       "      <td>117.0</td>\n",
       "      <td>Film</td>\n",
       "      <td>R</td>\n",
       "      <td>Severe</td>\n",
       "      <td>Moderate</td>\n",
       "      <td>Severe</td>\n",
       "      <td>Severe</td>\n",
       "      <td>Severe</td>\n",
       "    </tr>\n",
       "    <tr>\n",
       "      <th>6176</th>\n",
       "      <td>Queen Bees</td>\n",
       "      <td>2021</td>\n",
       "      <td>6.0</td>\n",
       "      <td>Comedy</td>\n",
       "      <td>100.0</td>\n",
       "      <td>Film</td>\n",
       "      <td>PG-13</td>\n",
       "      <td>None</td>\n",
       "      <td>None</td>\n",
       "      <td>Mild</td>\n",
       "      <td>Moderate</td>\n",
       "      <td>None</td>\n",
       "    </tr>\n",
       "    <tr>\n",
       "      <th>6177</th>\n",
       "      <td>Death Race</td>\n",
       "      <td>2008</td>\n",
       "      <td>6.3</td>\n",
       "      <td>Action</td>\n",
       "      <td>105.0</td>\n",
       "      <td>Film</td>\n",
       "      <td>R</td>\n",
       "      <td>Mild</td>\n",
       "      <td>Severe</td>\n",
       "      <td>Severe</td>\n",
       "      <td>Mild</td>\n",
       "      <td>Moderate</td>\n",
       "    </tr>\n",
       "  </tbody>\n",
       "</table>\n",
       "<p>5846 rows × 12 columns</p>\n",
       "</div>"
      ],
      "text/plain": [
       "                                        Name  Date  Rate   Genre  Duration  \\\n",
       "0                             No Time to Die  2021   7.6  Action     163.0   \n",
       "1                                 The Guilty  2021   6.3   Crime      90.0   \n",
       "2                  The Many Saints of Newark  2021   6.4   Crime     120.0   \n",
       "3                Venom: Let There Be Carnage  2021   6.4  Action      97.0   \n",
       "4                                       Dune  2021   8.3  Action     155.0   \n",
       "...                                      ...   ...   ...     ...       ...   \n",
       "6173  The Human Centipede II (Full Sequence)  2011   3.8  Horror      91.0   \n",
       "6174                        Double Indemnity  1944   8.3   Crime     107.0   \n",
       "6175      Before the Devil Knows You're Dead  2007   7.3   Crime     117.0   \n",
       "6176                              Queen Bees  2021   6.0  Comedy     100.0   \n",
       "6177                              Death Race  2008   6.3  Action     105.0   \n",
       "\n",
       "      Type Certificate    Nudity  Violence Profanity   Alcohol Frightening  \n",
       "0     Film       PG-13      Mild  Moderate      Mild      Mild    Moderate  \n",
       "1     Film           R      None      None    Severe      None    Moderate  \n",
       "2     Film           R  Moderate    Severe    Severe  Moderate    Moderate  \n",
       "3     Film       PG-13      None  Moderate  Moderate      Mild    Moderate  \n",
       "4     Film       PG-13      None  Moderate      None      Mild    Moderate  \n",
       "...    ...         ...       ...       ...       ...       ...         ...  \n",
       "6173  Film   Not Rated    Severe    Severe    Severe      Mild      Severe  \n",
       "6174  Film      Passed      None      Mild      None      Mild        Mild  \n",
       "6175  Film           R    Severe  Moderate    Severe    Severe      Severe  \n",
       "6176  Film       PG-13      None      None      Mild  Moderate        None  \n",
       "6177  Film           R      Mild    Severe    Severe      Mild    Moderate  \n",
       "\n",
       "[5846 rows x 12 columns]"
      ]
     },
     "execution_count": 18,
     "metadata": {},
     "output_type": "execute_result"
    }
   ],
   "source": [
    "df = df.dropna()\n",
    "df"
   ]
  },
  {
   "cell_type": "code",
   "execution_count": 19,
   "metadata": {},
   "outputs": [
    {
     "data": {
      "text/html": [
       "<div>\n",
       "<style scoped>\n",
       "    .dataframe tbody tr th:only-of-type {\n",
       "        vertical-align: middle;\n",
       "    }\n",
       "\n",
       "    .dataframe tbody tr th {\n",
       "        vertical-align: top;\n",
       "    }\n",
       "\n",
       "    .dataframe thead th {\n",
       "        text-align: right;\n",
       "    }\n",
       "</style>\n",
       "<table border=\"1\" class=\"dataframe\">\n",
       "  <thead>\n",
       "    <tr style=\"text-align: right;\">\n",
       "      <th></th>\n",
       "      <th>Name</th>\n",
       "      <th>Date</th>\n",
       "      <th>Rate</th>\n",
       "      <th>Genre</th>\n",
       "      <th>Duration</th>\n",
       "      <th>Type</th>\n",
       "      <th>Certificate</th>\n",
       "      <th>Nudity</th>\n",
       "      <th>Violence</th>\n",
       "      <th>Profanity</th>\n",
       "      <th>Alcohol</th>\n",
       "      <th>Frightening</th>\n",
       "    </tr>\n",
       "  </thead>\n",
       "  <tbody>\n",
       "    <tr>\n",
       "      <th>0</th>\n",
       "      <td>No Time to Die</td>\n",
       "      <td>2021</td>\n",
       "      <td>7.6</td>\n",
       "      <td>Action</td>\n",
       "      <td>163.0</td>\n",
       "      <td>Film</td>\n",
       "      <td>PG-13</td>\n",
       "      <td>Mild</td>\n",
       "      <td>Moderate</td>\n",
       "      <td>Mild</td>\n",
       "      <td>Mild</td>\n",
       "      <td>Moderate</td>\n",
       "    </tr>\n",
       "    <tr>\n",
       "      <th>1</th>\n",
       "      <td>The Guilty</td>\n",
       "      <td>2021</td>\n",
       "      <td>6.3</td>\n",
       "      <td>Crime</td>\n",
       "      <td>90.0</td>\n",
       "      <td>Film</td>\n",
       "      <td>R</td>\n",
       "      <td>None</td>\n",
       "      <td>None</td>\n",
       "      <td>Severe</td>\n",
       "      <td>None</td>\n",
       "      <td>Moderate</td>\n",
       "    </tr>\n",
       "    <tr>\n",
       "      <th>2</th>\n",
       "      <td>The Many Saints of Newark</td>\n",
       "      <td>2021</td>\n",
       "      <td>6.4</td>\n",
       "      <td>Crime</td>\n",
       "      <td>120.0</td>\n",
       "      <td>Film</td>\n",
       "      <td>R</td>\n",
       "      <td>Moderate</td>\n",
       "      <td>Severe</td>\n",
       "      <td>Severe</td>\n",
       "      <td>Moderate</td>\n",
       "      <td>Moderate</td>\n",
       "    </tr>\n",
       "    <tr>\n",
       "      <th>3</th>\n",
       "      <td>Venom: Let There Be Carnage</td>\n",
       "      <td>2021</td>\n",
       "      <td>6.4</td>\n",
       "      <td>Action</td>\n",
       "      <td>97.0</td>\n",
       "      <td>Film</td>\n",
       "      <td>PG-13</td>\n",
       "      <td>None</td>\n",
       "      <td>Moderate</td>\n",
       "      <td>Moderate</td>\n",
       "      <td>Mild</td>\n",
       "      <td>Moderate</td>\n",
       "    </tr>\n",
       "    <tr>\n",
       "      <th>4</th>\n",
       "      <td>Dune</td>\n",
       "      <td>2021</td>\n",
       "      <td>8.3</td>\n",
       "      <td>Action</td>\n",
       "      <td>155.0</td>\n",
       "      <td>Film</td>\n",
       "      <td>PG-13</td>\n",
       "      <td>None</td>\n",
       "      <td>Moderate</td>\n",
       "      <td>None</td>\n",
       "      <td>Mild</td>\n",
       "      <td>Moderate</td>\n",
       "    </tr>\n",
       "  </tbody>\n",
       "</table>\n",
       "</div>"
      ],
      "text/plain": [
       "                          Name  Date  Rate   Genre  Duration  Type  \\\n",
       "0               No Time to Die  2021   7.6  Action     163.0  Film   \n",
       "1                   The Guilty  2021   6.3   Crime      90.0  Film   \n",
       "2    The Many Saints of Newark  2021   6.4   Crime     120.0  Film   \n",
       "3  Venom: Let There Be Carnage  2021   6.4  Action      97.0  Film   \n",
       "4                         Dune  2021   8.3  Action     155.0  Film   \n",
       "\n",
       "  Certificate    Nudity  Violence Profanity   Alcohol Frightening  \n",
       "0       PG-13      Mild  Moderate      Mild      Mild    Moderate  \n",
       "1           R      None      None    Severe      None    Moderate  \n",
       "2           R  Moderate    Severe    Severe  Moderate    Moderate  \n",
       "3       PG-13      None  Moderate  Moderate      Mild    Moderate  \n",
       "4       PG-13      None  Moderate      None      Mild    Moderate  "
      ]
     },
     "execution_count": 19,
     "metadata": {},
     "output_type": "execute_result"
    }
   ],
   "source": [
    "df.head()"
   ]
  },
  {
   "cell_type": "code",
   "execution_count": 20,
   "metadata": {},
   "outputs": [
    {
     "data": {
      "text/plain": [
       "332"
      ]
     },
     "execution_count": 20,
     "metadata": {},
     "output_type": "execute_result"
    }
   ],
   "source": [
    "6178 - 5846"
   ]
  },
  {
   "cell_type": "markdown",
   "metadata": {},
   "source": [
    "332 rows were dropped after cleaning the dataset"
   ]
  },
  {
   "cell_type": "code",
   "execution_count": null,
   "metadata": {},
   "outputs": [],
   "source": []
  },
  {
   "cell_type": "markdown",
   "metadata": {},
   "source": [
    "### 1.2. Checking your data cleaning.\n",
    "\n",
    "Calculate the average of each of your numerical variables in this cleaned dataset.\n",
    "\n",
    "*Hint: You will not be able to succesfully run this code if you did not appropriately clean your dataframe.*"
   ]
  },
  {
   "cell_type": "code",
   "execution_count": 21,
   "metadata": {},
   "outputs": [
    {
     "data": {
      "text/plain": [
       "2005.605713308245"
      ]
     },
     "execution_count": 21,
     "metadata": {},
     "output_type": "execute_result"
    }
   ],
   "source": [
    "date_average = df[\"Date\"].mean()\n",
    "date_average"
   ]
  },
  {
   "cell_type": "code",
   "execution_count": 22,
   "metadata": {},
   "outputs": [
    {
     "data": {
      "text/plain": [
       "6.8759322613753"
      ]
     },
     "execution_count": 22,
     "metadata": {},
     "output_type": "execute_result"
    }
   ],
   "source": [
    "rate_average = df[\"Rate\"].mean()\n",
    "rate_average"
   ]
  },
  {
   "cell_type": "code",
   "execution_count": 23,
   "metadata": {},
   "outputs": [
    {
     "data": {
      "text/plain": [
       "94.5078686281218"
      ]
     },
     "execution_count": 23,
     "metadata": {},
     "output_type": "execute_result"
    }
   ],
   "source": [
    "duration_average = df[\"Duration\"].mean()\n",
    "duration_average"
   ]
  },
  {
   "cell_type": "markdown",
   "metadata": {},
   "source": [
    "### 1.3. Exploring Just the Movies\n",
    "\n",
    "In this analysis, we'd like to just focus on just the 'Film' rows, and not the 'Series' rows. Create a new dataframe that is just comprised of films."
   ]
  },
  {
   "cell_type": "code",
   "execution_count": 27,
   "metadata": {},
   "outputs": [
    {
     "data": {
      "text/html": [
       "<div>\n",
       "<style scoped>\n",
       "    .dataframe tbody tr th:only-of-type {\n",
       "        vertical-align: middle;\n",
       "    }\n",
       "\n",
       "    .dataframe tbody tr th {\n",
       "        vertical-align: top;\n",
       "    }\n",
       "\n",
       "    .dataframe thead th {\n",
       "        text-align: right;\n",
       "    }\n",
       "</style>\n",
       "<table border=\"1\" class=\"dataframe\">\n",
       "  <thead>\n",
       "    <tr style=\"text-align: right;\">\n",
       "      <th></th>\n",
       "      <th>Name</th>\n",
       "      <th>Date</th>\n",
       "      <th>Rate</th>\n",
       "      <th>Genre</th>\n",
       "      <th>Duration</th>\n",
       "      <th>Type</th>\n",
       "      <th>Certificate</th>\n",
       "      <th>Nudity</th>\n",
       "      <th>Violence</th>\n",
       "      <th>Profanity</th>\n",
       "      <th>Alcohol</th>\n",
       "      <th>Frightening</th>\n",
       "    </tr>\n",
       "  </thead>\n",
       "  <tbody>\n",
       "    <tr>\n",
       "      <th>0</th>\n",
       "      <td>No Time to Die</td>\n",
       "      <td>2021</td>\n",
       "      <td>7.6</td>\n",
       "      <td>Action</td>\n",
       "      <td>163.0</td>\n",
       "      <td>Film</td>\n",
       "      <td>PG-13</td>\n",
       "      <td>Mild</td>\n",
       "      <td>Moderate</td>\n",
       "      <td>Mild</td>\n",
       "      <td>Mild</td>\n",
       "      <td>Moderate</td>\n",
       "    </tr>\n",
       "    <tr>\n",
       "      <th>1</th>\n",
       "      <td>The Guilty</td>\n",
       "      <td>2021</td>\n",
       "      <td>6.3</td>\n",
       "      <td>Crime</td>\n",
       "      <td>90.0</td>\n",
       "      <td>Film</td>\n",
       "      <td>R</td>\n",
       "      <td>None</td>\n",
       "      <td>None</td>\n",
       "      <td>Severe</td>\n",
       "      <td>None</td>\n",
       "      <td>Moderate</td>\n",
       "    </tr>\n",
       "    <tr>\n",
       "      <th>2</th>\n",
       "      <td>The Many Saints of Newark</td>\n",
       "      <td>2021</td>\n",
       "      <td>6.4</td>\n",
       "      <td>Crime</td>\n",
       "      <td>120.0</td>\n",
       "      <td>Film</td>\n",
       "      <td>R</td>\n",
       "      <td>Moderate</td>\n",
       "      <td>Severe</td>\n",
       "      <td>Severe</td>\n",
       "      <td>Moderate</td>\n",
       "      <td>Moderate</td>\n",
       "    </tr>\n",
       "    <tr>\n",
       "      <th>3</th>\n",
       "      <td>Venom: Let There Be Carnage</td>\n",
       "      <td>2021</td>\n",
       "      <td>6.4</td>\n",
       "      <td>Action</td>\n",
       "      <td>97.0</td>\n",
       "      <td>Film</td>\n",
       "      <td>PG-13</td>\n",
       "      <td>None</td>\n",
       "      <td>Moderate</td>\n",
       "      <td>Moderate</td>\n",
       "      <td>Mild</td>\n",
       "      <td>Moderate</td>\n",
       "    </tr>\n",
       "    <tr>\n",
       "      <th>4</th>\n",
       "      <td>Dune</td>\n",
       "      <td>2021</td>\n",
       "      <td>8.3</td>\n",
       "      <td>Action</td>\n",
       "      <td>155.0</td>\n",
       "      <td>Film</td>\n",
       "      <td>PG-13</td>\n",
       "      <td>None</td>\n",
       "      <td>Moderate</td>\n",
       "      <td>None</td>\n",
       "      <td>Mild</td>\n",
       "      <td>Moderate</td>\n",
       "    </tr>\n",
       "    <tr>\n",
       "      <th>...</th>\n",
       "      <td>...</td>\n",
       "      <td>...</td>\n",
       "      <td>...</td>\n",
       "      <td>...</td>\n",
       "      <td>...</td>\n",
       "      <td>...</td>\n",
       "      <td>...</td>\n",
       "      <td>...</td>\n",
       "      <td>...</td>\n",
       "      <td>...</td>\n",
       "      <td>...</td>\n",
       "      <td>...</td>\n",
       "    </tr>\n",
       "    <tr>\n",
       "      <th>4292</th>\n",
       "      <td>The Human Centipede II (Full Sequence)</td>\n",
       "      <td>2011</td>\n",
       "      <td>3.8</td>\n",
       "      <td>Horror</td>\n",
       "      <td>91.0</td>\n",
       "      <td>Film</td>\n",
       "      <td>Not Rated</td>\n",
       "      <td>Severe</td>\n",
       "      <td>Severe</td>\n",
       "      <td>Severe</td>\n",
       "      <td>Mild</td>\n",
       "      <td>Severe</td>\n",
       "    </tr>\n",
       "    <tr>\n",
       "      <th>4293</th>\n",
       "      <td>Double Indemnity</td>\n",
       "      <td>1944</td>\n",
       "      <td>8.3</td>\n",
       "      <td>Crime</td>\n",
       "      <td>107.0</td>\n",
       "      <td>Film</td>\n",
       "      <td>Passed</td>\n",
       "      <td>None</td>\n",
       "      <td>Mild</td>\n",
       "      <td>None</td>\n",
       "      <td>Mild</td>\n",
       "      <td>Mild</td>\n",
       "    </tr>\n",
       "    <tr>\n",
       "      <th>4294</th>\n",
       "      <td>Before the Devil Knows You're Dead</td>\n",
       "      <td>2007</td>\n",
       "      <td>7.3</td>\n",
       "      <td>Crime</td>\n",
       "      <td>117.0</td>\n",
       "      <td>Film</td>\n",
       "      <td>R</td>\n",
       "      <td>Severe</td>\n",
       "      <td>Moderate</td>\n",
       "      <td>Severe</td>\n",
       "      <td>Severe</td>\n",
       "      <td>Severe</td>\n",
       "    </tr>\n",
       "    <tr>\n",
       "      <th>4295</th>\n",
       "      <td>Queen Bees</td>\n",
       "      <td>2021</td>\n",
       "      <td>6.0</td>\n",
       "      <td>Comedy</td>\n",
       "      <td>100.0</td>\n",
       "      <td>Film</td>\n",
       "      <td>PG-13</td>\n",
       "      <td>None</td>\n",
       "      <td>None</td>\n",
       "      <td>Mild</td>\n",
       "      <td>Moderate</td>\n",
       "      <td>None</td>\n",
       "    </tr>\n",
       "    <tr>\n",
       "      <th>4296</th>\n",
       "      <td>Death Race</td>\n",
       "      <td>2008</td>\n",
       "      <td>6.3</td>\n",
       "      <td>Action</td>\n",
       "      <td>105.0</td>\n",
       "      <td>Film</td>\n",
       "      <td>R</td>\n",
       "      <td>Mild</td>\n",
       "      <td>Severe</td>\n",
       "      <td>Severe</td>\n",
       "      <td>Mild</td>\n",
       "      <td>Moderate</td>\n",
       "    </tr>\n",
       "  </tbody>\n",
       "</table>\n",
       "<p>4297 rows × 12 columns</p>\n",
       "</div>"
      ],
      "text/plain": [
       "                                        Name  Date  Rate   Genre  Duration  \\\n",
       "0                             No Time to Die  2021   7.6  Action     163.0   \n",
       "1                                 The Guilty  2021   6.3   Crime      90.0   \n",
       "2                  The Many Saints of Newark  2021   6.4   Crime     120.0   \n",
       "3                Venom: Let There Be Carnage  2021   6.4  Action      97.0   \n",
       "4                                       Dune  2021   8.3  Action     155.0   \n",
       "...                                      ...   ...   ...     ...       ...   \n",
       "4292  The Human Centipede II (Full Sequence)  2011   3.8  Horror      91.0   \n",
       "4293                        Double Indemnity  1944   8.3   Crime     107.0   \n",
       "4294      Before the Devil Knows You're Dead  2007   7.3   Crime     117.0   \n",
       "4295                              Queen Bees  2021   6.0  Comedy     100.0   \n",
       "4296                              Death Race  2008   6.3  Action     105.0   \n",
       "\n",
       "      Type Certificate    Nudity  Violence Profanity   Alcohol Frightening  \n",
       "0     Film       PG-13      Mild  Moderate      Mild      Mild    Moderate  \n",
       "1     Film           R      None      None    Severe      None    Moderate  \n",
       "2     Film           R  Moderate    Severe    Severe  Moderate    Moderate  \n",
       "3     Film       PG-13      None  Moderate  Moderate      Mild    Moderate  \n",
       "4     Film       PG-13      None  Moderate      None      Mild    Moderate  \n",
       "...    ...         ...       ...       ...       ...       ...         ...  \n",
       "4292  Film   Not Rated    Severe    Severe    Severe      Mild      Severe  \n",
       "4293  Film      Passed      None      Mild      None      Mild        Mild  \n",
       "4294  Film           R    Severe  Moderate    Severe    Severe      Severe  \n",
       "4295  Film       PG-13      None      None      Mild  Moderate        None  \n",
       "4296  Film           R      Mild    Severe    Severe      Mild    Moderate  \n",
       "\n",
       "[4297 rows x 12 columns]"
      ]
     },
     "execution_count": 27,
     "metadata": {},
     "output_type": "execute_result"
    }
   ],
   "source": [
    "df_films = df[df[\"Type\"] == \"Film\"].reset_index(drop=True)\n",
    "df_films"
   ]
  },
  {
   "cell_type": "markdown",
   "metadata": {},
   "source": [
    "### 1.4. More Cleaning \n",
    "\n",
    "To simplify this analysis, let's perform some more cleaning below."
   ]
  },
  {
   "cell_type": "markdown",
   "metadata": {},
   "source": [
    "#### 1.4.1. Only Content Variables with Ratings\n",
    "\n",
    "Each of the sensitive content variables (Nudity, Violence, Profanity, Alcohol, Frightening) have some values listed as 'No Rate'. For the purpose of this analysis, we will interpret these too as missing values. For each of the sensitive content variables, get rid of any rows that have a 'No Rate' value."
   ]
  },
  {
   "cell_type": "code",
   "execution_count": 41,
   "metadata": {},
   "outputs": [
    {
     "data": {
      "text/html": [
       "<div>\n",
       "<style scoped>\n",
       "    .dataframe tbody tr th:only-of-type {\n",
       "        vertical-align: middle;\n",
       "    }\n",
       "\n",
       "    .dataframe tbody tr th {\n",
       "        vertical-align: top;\n",
       "    }\n",
       "\n",
       "    .dataframe thead th {\n",
       "        text-align: right;\n",
       "    }\n",
       "</style>\n",
       "<table border=\"1\" class=\"dataframe\">\n",
       "  <thead>\n",
       "    <tr style=\"text-align: right;\">\n",
       "      <th></th>\n",
       "      <th>Name</th>\n",
       "      <th>Date</th>\n",
       "      <th>Rate</th>\n",
       "      <th>Genre</th>\n",
       "      <th>Duration</th>\n",
       "      <th>Type</th>\n",
       "      <th>Certificate</th>\n",
       "      <th>Nudity</th>\n",
       "      <th>Violence</th>\n",
       "      <th>Profanity</th>\n",
       "      <th>Alcohol</th>\n",
       "      <th>Frightening</th>\n",
       "    </tr>\n",
       "  </thead>\n",
       "  <tbody>\n",
       "    <tr>\n",
       "      <th>0</th>\n",
       "      <td>No Time to Die</td>\n",
       "      <td>2021</td>\n",
       "      <td>7.6</td>\n",
       "      <td>Action</td>\n",
       "      <td>163.0</td>\n",
       "      <td>Film</td>\n",
       "      <td>PG-13</td>\n",
       "      <td>Mild</td>\n",
       "      <td>Moderate</td>\n",
       "      <td>Mild</td>\n",
       "      <td>Mild</td>\n",
       "      <td>Moderate</td>\n",
       "    </tr>\n",
       "    <tr>\n",
       "      <th>1</th>\n",
       "      <td>The Guilty</td>\n",
       "      <td>2021</td>\n",
       "      <td>6.3</td>\n",
       "      <td>Crime</td>\n",
       "      <td>90.0</td>\n",
       "      <td>Film</td>\n",
       "      <td>R</td>\n",
       "      <td>None</td>\n",
       "      <td>None</td>\n",
       "      <td>Severe</td>\n",
       "      <td>None</td>\n",
       "      <td>Moderate</td>\n",
       "    </tr>\n",
       "    <tr>\n",
       "      <th>2</th>\n",
       "      <td>The Many Saints of Newark</td>\n",
       "      <td>2021</td>\n",
       "      <td>6.4</td>\n",
       "      <td>Crime</td>\n",
       "      <td>120.0</td>\n",
       "      <td>Film</td>\n",
       "      <td>R</td>\n",
       "      <td>Moderate</td>\n",
       "      <td>Severe</td>\n",
       "      <td>Severe</td>\n",
       "      <td>Moderate</td>\n",
       "      <td>Moderate</td>\n",
       "    </tr>\n",
       "    <tr>\n",
       "      <th>3</th>\n",
       "      <td>Venom: Let There Be Carnage</td>\n",
       "      <td>2021</td>\n",
       "      <td>6.4</td>\n",
       "      <td>Action</td>\n",
       "      <td>97.0</td>\n",
       "      <td>Film</td>\n",
       "      <td>PG-13</td>\n",
       "      <td>None</td>\n",
       "      <td>Moderate</td>\n",
       "      <td>Moderate</td>\n",
       "      <td>Mild</td>\n",
       "      <td>Moderate</td>\n",
       "    </tr>\n",
       "    <tr>\n",
       "      <th>4</th>\n",
       "      <td>Dune</td>\n",
       "      <td>2021</td>\n",
       "      <td>8.3</td>\n",
       "      <td>Action</td>\n",
       "      <td>155.0</td>\n",
       "      <td>Film</td>\n",
       "      <td>PG-13</td>\n",
       "      <td>None</td>\n",
       "      <td>Moderate</td>\n",
       "      <td>None</td>\n",
       "      <td>Mild</td>\n",
       "      <td>Moderate</td>\n",
       "    </tr>\n",
       "    <tr>\n",
       "      <th>...</th>\n",
       "      <td>...</td>\n",
       "      <td>...</td>\n",
       "      <td>...</td>\n",
       "      <td>...</td>\n",
       "      <td>...</td>\n",
       "      <td>...</td>\n",
       "      <td>...</td>\n",
       "      <td>...</td>\n",
       "      <td>...</td>\n",
       "      <td>...</td>\n",
       "      <td>...</td>\n",
       "      <td>...</td>\n",
       "    </tr>\n",
       "    <tr>\n",
       "      <th>4292</th>\n",
       "      <td>The Human Centipede II (Full Sequence)</td>\n",
       "      <td>2011</td>\n",
       "      <td>3.8</td>\n",
       "      <td>Horror</td>\n",
       "      <td>91.0</td>\n",
       "      <td>Film</td>\n",
       "      <td>Not Rated</td>\n",
       "      <td>Severe</td>\n",
       "      <td>Severe</td>\n",
       "      <td>Severe</td>\n",
       "      <td>Mild</td>\n",
       "      <td>Severe</td>\n",
       "    </tr>\n",
       "    <tr>\n",
       "      <th>4293</th>\n",
       "      <td>Double Indemnity</td>\n",
       "      <td>1944</td>\n",
       "      <td>8.3</td>\n",
       "      <td>Crime</td>\n",
       "      <td>107.0</td>\n",
       "      <td>Film</td>\n",
       "      <td>Passed</td>\n",
       "      <td>None</td>\n",
       "      <td>Mild</td>\n",
       "      <td>None</td>\n",
       "      <td>Mild</td>\n",
       "      <td>Mild</td>\n",
       "    </tr>\n",
       "    <tr>\n",
       "      <th>4294</th>\n",
       "      <td>Before the Devil Knows You're Dead</td>\n",
       "      <td>2007</td>\n",
       "      <td>7.3</td>\n",
       "      <td>Crime</td>\n",
       "      <td>117.0</td>\n",
       "      <td>Film</td>\n",
       "      <td>R</td>\n",
       "      <td>Severe</td>\n",
       "      <td>Moderate</td>\n",
       "      <td>Severe</td>\n",
       "      <td>Severe</td>\n",
       "      <td>Severe</td>\n",
       "    </tr>\n",
       "    <tr>\n",
       "      <th>4295</th>\n",
       "      <td>Queen Bees</td>\n",
       "      <td>2021</td>\n",
       "      <td>6.0</td>\n",
       "      <td>Comedy</td>\n",
       "      <td>100.0</td>\n",
       "      <td>Film</td>\n",
       "      <td>PG-13</td>\n",
       "      <td>None</td>\n",
       "      <td>None</td>\n",
       "      <td>Mild</td>\n",
       "      <td>Moderate</td>\n",
       "      <td>None</td>\n",
       "    </tr>\n",
       "    <tr>\n",
       "      <th>4296</th>\n",
       "      <td>Death Race</td>\n",
       "      <td>2008</td>\n",
       "      <td>6.3</td>\n",
       "      <td>Action</td>\n",
       "      <td>105.0</td>\n",
       "      <td>Film</td>\n",
       "      <td>R</td>\n",
       "      <td>Mild</td>\n",
       "      <td>Severe</td>\n",
       "      <td>Severe</td>\n",
       "      <td>Mild</td>\n",
       "      <td>Moderate</td>\n",
       "    </tr>\n",
       "  </tbody>\n",
       "</table>\n",
       "<p>4000 rows × 12 columns</p>\n",
       "</div>"
      ],
      "text/plain": [
       "                                        Name  Date  Rate   Genre  Duration  \\\n",
       "0                             No Time to Die  2021   7.6  Action     163.0   \n",
       "1                                 The Guilty  2021   6.3   Crime      90.0   \n",
       "2                  The Many Saints of Newark  2021   6.4   Crime     120.0   \n",
       "3                Venom: Let There Be Carnage  2021   6.4  Action      97.0   \n",
       "4                                       Dune  2021   8.3  Action     155.0   \n",
       "...                                      ...   ...   ...     ...       ...   \n",
       "4292  The Human Centipede II (Full Sequence)  2011   3.8  Horror      91.0   \n",
       "4293                        Double Indemnity  1944   8.3   Crime     107.0   \n",
       "4294      Before the Devil Knows You're Dead  2007   7.3   Crime     117.0   \n",
       "4295                              Queen Bees  2021   6.0  Comedy     100.0   \n",
       "4296                              Death Race  2008   6.3  Action     105.0   \n",
       "\n",
       "      Type Certificate    Nudity  Violence Profanity   Alcohol Frightening  \n",
       "0     Film       PG-13      Mild  Moderate      Mild      Mild    Moderate  \n",
       "1     Film           R      None      None    Severe      None    Moderate  \n",
       "2     Film           R  Moderate    Severe    Severe  Moderate    Moderate  \n",
       "3     Film       PG-13      None  Moderate  Moderate      Mild    Moderate  \n",
       "4     Film       PG-13      None  Moderate      None      Mild    Moderate  \n",
       "...    ...         ...       ...       ...       ...       ...         ...  \n",
       "4292  Film   Not Rated    Severe    Severe    Severe      Mild      Severe  \n",
       "4293  Film      Passed      None      Mild      None      Mild        Mild  \n",
       "4294  Film           R    Severe  Moderate    Severe    Severe      Severe  \n",
       "4295  Film       PG-13      None      None      Mild  Moderate        None  \n",
       "4296  Film           R      Mild    Severe    Severe      Mild    Moderate  \n",
       "\n",
       "[4000 rows x 12 columns]"
      ]
     },
     "execution_count": 41,
     "metadata": {},
     "output_type": "execute_result"
    }
   ],
   "source": [
    "df_films = df_films[df_films[\"Nudity\"] != \"No Rate\"]\n",
    "df_films = df_films[df_films[\"Violence\"] != \"No Rate\"]\n",
    "df_films = df_films[df_films[\"Profanity\"] != \"No Rate\"]\n",
    "df_films = df_films[df_films[\"Alcohol\"] != \"No Rate\"]\n",
    "df_films = df_films[df_films[\"Frightening\"] != \"No Rate\"]\n",
    "df_films"
   ]
  },
  {
   "cell_type": "markdown",
   "metadata": {},
   "source": [
    "#### 1.4.2. Most Well Known Certificates\n",
    "\n",
    "Let's also just keep the most common known certificate levels in this dataset: **'R','PG-13', 'PG', 'G'**. Drop all rows that do not have one of these certificate levels."
   ]
  },
  {
   "cell_type": "code",
   "execution_count": 44,
   "metadata": {},
   "outputs": [
    {
     "data": {
      "text/plain": [
       "array(['PG-13', 'R', 'TV-MA', 'PG', 'TV-PG', 'TV-14', 'Not Rated', 'TV-G',\n",
       "       'E', 'NC-17', '(Banned)', 'Unrated', 'Approved', 'G', 'GP',\n",
       "       'Passed', 'M', 'X', 'TV-Y7', 'M/PG'], dtype=object)"
      ]
     },
     "execution_count": 44,
     "metadata": {},
     "output_type": "execute_result"
    }
   ],
   "source": [
    "df_films[\"Certificate\"].unique()"
   ]
  },
  {
   "cell_type": "code",
   "execution_count": 47,
   "metadata": {},
   "outputs": [
    {
     "data": {
      "text/html": [
       "<div>\n",
       "<style scoped>\n",
       "    .dataframe tbody tr th:only-of-type {\n",
       "        vertical-align: middle;\n",
       "    }\n",
       "\n",
       "    .dataframe tbody tr th {\n",
       "        vertical-align: top;\n",
       "    }\n",
       "\n",
       "    .dataframe thead th {\n",
       "        text-align: right;\n",
       "    }\n",
       "</style>\n",
       "<table border=\"1\" class=\"dataframe\">\n",
       "  <thead>\n",
       "    <tr style=\"text-align: right;\">\n",
       "      <th></th>\n",
       "      <th>Name</th>\n",
       "      <th>Date</th>\n",
       "      <th>Rate</th>\n",
       "      <th>Genre</th>\n",
       "      <th>Duration</th>\n",
       "      <th>Type</th>\n",
       "      <th>Certificate</th>\n",
       "      <th>Nudity</th>\n",
       "      <th>Violence</th>\n",
       "      <th>Profanity</th>\n",
       "      <th>Alcohol</th>\n",
       "      <th>Frightening</th>\n",
       "    </tr>\n",
       "  </thead>\n",
       "  <tbody>\n",
       "    <tr>\n",
       "      <th>0</th>\n",
       "      <td>No Time to Die</td>\n",
       "      <td>2021</td>\n",
       "      <td>7.6</td>\n",
       "      <td>Action</td>\n",
       "      <td>163.0</td>\n",
       "      <td>Film</td>\n",
       "      <td>PG-13</td>\n",
       "      <td>Mild</td>\n",
       "      <td>Moderate</td>\n",
       "      <td>Mild</td>\n",
       "      <td>Mild</td>\n",
       "      <td>Moderate</td>\n",
       "    </tr>\n",
       "    <tr>\n",
       "      <th>1</th>\n",
       "      <td>The Guilty</td>\n",
       "      <td>2021</td>\n",
       "      <td>6.3</td>\n",
       "      <td>Crime</td>\n",
       "      <td>90.0</td>\n",
       "      <td>Film</td>\n",
       "      <td>R</td>\n",
       "      <td>None</td>\n",
       "      <td>None</td>\n",
       "      <td>Severe</td>\n",
       "      <td>None</td>\n",
       "      <td>Moderate</td>\n",
       "    </tr>\n",
       "    <tr>\n",
       "      <th>2</th>\n",
       "      <td>The Many Saints of Newark</td>\n",
       "      <td>2021</td>\n",
       "      <td>6.4</td>\n",
       "      <td>Crime</td>\n",
       "      <td>120.0</td>\n",
       "      <td>Film</td>\n",
       "      <td>R</td>\n",
       "      <td>Moderate</td>\n",
       "      <td>Severe</td>\n",
       "      <td>Severe</td>\n",
       "      <td>Moderate</td>\n",
       "      <td>Moderate</td>\n",
       "    </tr>\n",
       "    <tr>\n",
       "      <th>3</th>\n",
       "      <td>Venom: Let There Be Carnage</td>\n",
       "      <td>2021</td>\n",
       "      <td>6.4</td>\n",
       "      <td>Action</td>\n",
       "      <td>97.0</td>\n",
       "      <td>Film</td>\n",
       "      <td>PG-13</td>\n",
       "      <td>None</td>\n",
       "      <td>Moderate</td>\n",
       "      <td>Moderate</td>\n",
       "      <td>Mild</td>\n",
       "      <td>Moderate</td>\n",
       "    </tr>\n",
       "    <tr>\n",
       "      <th>4</th>\n",
       "      <td>Dune</td>\n",
       "      <td>2021</td>\n",
       "      <td>8.3</td>\n",
       "      <td>Action</td>\n",
       "      <td>155.0</td>\n",
       "      <td>Film</td>\n",
       "      <td>PG-13</td>\n",
       "      <td>None</td>\n",
       "      <td>Moderate</td>\n",
       "      <td>None</td>\n",
       "      <td>Mild</td>\n",
       "      <td>Moderate</td>\n",
       "    </tr>\n",
       "    <tr>\n",
       "      <th>...</th>\n",
       "      <td>...</td>\n",
       "      <td>...</td>\n",
       "      <td>...</td>\n",
       "      <td>...</td>\n",
       "      <td>...</td>\n",
       "      <td>...</td>\n",
       "      <td>...</td>\n",
       "      <td>...</td>\n",
       "      <td>...</td>\n",
       "      <td>...</td>\n",
       "      <td>...</td>\n",
       "      <td>...</td>\n",
       "    </tr>\n",
       "    <tr>\n",
       "      <th>4288</th>\n",
       "      <td>Alvin and the Chipmunks: The Road Chip</td>\n",
       "      <td>2015</td>\n",
       "      <td>5.0</td>\n",
       "      <td>Animation</td>\n",
       "      <td>92.0</td>\n",
       "      <td>Film</td>\n",
       "      <td>PG</td>\n",
       "      <td>Mild</td>\n",
       "      <td>Mild</td>\n",
       "      <td>Mild</td>\n",
       "      <td>Mild</td>\n",
       "      <td>Mild</td>\n",
       "    </tr>\n",
       "    <tr>\n",
       "      <th>4290</th>\n",
       "      <td>How High</td>\n",
       "      <td>2001</td>\n",
       "      <td>6.3</td>\n",
       "      <td>Comedy</td>\n",
       "      <td>93.0</td>\n",
       "      <td>Film</td>\n",
       "      <td>R</td>\n",
       "      <td>Moderate</td>\n",
       "      <td>Mild</td>\n",
       "      <td>Severe</td>\n",
       "      <td>Severe</td>\n",
       "      <td>None</td>\n",
       "    </tr>\n",
       "    <tr>\n",
       "      <th>4294</th>\n",
       "      <td>Before the Devil Knows You're Dead</td>\n",
       "      <td>2007</td>\n",
       "      <td>7.3</td>\n",
       "      <td>Crime</td>\n",
       "      <td>117.0</td>\n",
       "      <td>Film</td>\n",
       "      <td>R</td>\n",
       "      <td>Severe</td>\n",
       "      <td>Moderate</td>\n",
       "      <td>Severe</td>\n",
       "      <td>Severe</td>\n",
       "      <td>Severe</td>\n",
       "    </tr>\n",
       "    <tr>\n",
       "      <th>4295</th>\n",
       "      <td>Queen Bees</td>\n",
       "      <td>2021</td>\n",
       "      <td>6.0</td>\n",
       "      <td>Comedy</td>\n",
       "      <td>100.0</td>\n",
       "      <td>Film</td>\n",
       "      <td>PG-13</td>\n",
       "      <td>None</td>\n",
       "      <td>None</td>\n",
       "      <td>Mild</td>\n",
       "      <td>Moderate</td>\n",
       "      <td>None</td>\n",
       "    </tr>\n",
       "    <tr>\n",
       "      <th>4296</th>\n",
       "      <td>Death Race</td>\n",
       "      <td>2008</td>\n",
       "      <td>6.3</td>\n",
       "      <td>Action</td>\n",
       "      <td>105.0</td>\n",
       "      <td>Film</td>\n",
       "      <td>R</td>\n",
       "      <td>Mild</td>\n",
       "      <td>Severe</td>\n",
       "      <td>Severe</td>\n",
       "      <td>Mild</td>\n",
       "      <td>Moderate</td>\n",
       "    </tr>\n",
       "  </tbody>\n",
       "</table>\n",
       "<p>3525 rows × 12 columns</p>\n",
       "</div>"
      ],
      "text/plain": [
       "                                        Name  Date  Rate      Genre  Duration  \\\n",
       "0                             No Time to Die  2021   7.6     Action     163.0   \n",
       "1                                 The Guilty  2021   6.3      Crime      90.0   \n",
       "2                  The Many Saints of Newark  2021   6.4      Crime     120.0   \n",
       "3                Venom: Let There Be Carnage  2021   6.4     Action      97.0   \n",
       "4                                       Dune  2021   8.3     Action     155.0   \n",
       "...                                      ...   ...   ...        ...       ...   \n",
       "4288  Alvin and the Chipmunks: The Road Chip  2015   5.0  Animation      92.0   \n",
       "4290                                How High  2001   6.3     Comedy      93.0   \n",
       "4294      Before the Devil Knows You're Dead  2007   7.3      Crime     117.0   \n",
       "4295                              Queen Bees  2021   6.0     Comedy     100.0   \n",
       "4296                              Death Race  2008   6.3     Action     105.0   \n",
       "\n",
       "      Type Certificate    Nudity  Violence Profanity   Alcohol Frightening  \n",
       "0     Film       PG-13      Mild  Moderate      Mild      Mild    Moderate  \n",
       "1     Film           R      None      None    Severe      None    Moderate  \n",
       "2     Film           R  Moderate    Severe    Severe  Moderate    Moderate  \n",
       "3     Film       PG-13      None  Moderate  Moderate      Mild    Moderate  \n",
       "4     Film       PG-13      None  Moderate      None      Mild    Moderate  \n",
       "...    ...         ...       ...       ...       ...       ...         ...  \n",
       "4288  Film          PG      Mild      Mild      Mild      Mild        Mild  \n",
       "4290  Film           R  Moderate      Mild    Severe    Severe        None  \n",
       "4294  Film           R    Severe  Moderate    Severe    Severe      Severe  \n",
       "4295  Film       PG-13      None      None      Mild  Moderate        None  \n",
       "4296  Film           R      Mild    Severe    Severe      Mild    Moderate  \n",
       "\n",
       "[3525 rows x 12 columns]"
      ]
     },
     "execution_count": 47,
     "metadata": {},
     "output_type": "execute_result"
    }
   ],
   "source": [
    "df_films = df_films[df_films[\"Certificate\"] != \"TV-MA\"]\n",
    "df_films = df_films[df_films[\"Certificate\"] != \"TV-PG\"]\n",
    "df_films = df_films[df_films[\"Certificate\"] != \"TV-14\"]\n",
    "df_films = df_films[df_films[\"Certificate\"] != \"Not Rated\"]\n",
    "df_films = df_films[df_films[\"Certificate\"] != \"TV-G\"]\n",
    "df_films = df_films[df_films[\"Certificate\"] != \"E\"]\n",
    "df_films = df_films[df_films[\"Certificate\"] != \"NC-17\"]\n",
    "df_films = df_films[df_films[\"Certificate\"] != \"(Banned)\"]\n",
    "df_films = df_films[df_films[\"Certificate\"] != \"Unrated\"]\n",
    "df_films = df_films[df_films[\"Certificate\"] != \"Approved\"]\n",
    "df_films = df_films[df_films[\"Certificate\"] != \"GP\"]\n",
    "df_films = df_films[df_films[\"Certificate\"] != \"Passed\"]\n",
    "df_films = df_films[df_films[\"Certificate\"] != \"M\"]\n",
    "df_films = df_films[df_films[\"Certificate\"] != \"X\"]\n",
    "df_films = df_films[df_films[\"Certificate\"] != \"TV-Y7\"]\n",
    "df_films = df_films[df_films[\"Certificate\"] != \"M/PG\"]\n",
    "df_films"
   ]
  },
  {
   "cell_type": "code",
   "execution_count": 50,
   "metadata": {},
   "outputs": [
    {
     "data": {
      "text/plain": [
       "array(['PG-13', 'R', 'PG', 'G'], dtype=object)"
      ]
     },
     "execution_count": 50,
     "metadata": {},
     "output_type": "execute_result"
    }
   ],
   "source": [
    "df_films[\"Certificate\"].unique()"
   ]
  },
  {
   "cell_type": "markdown",
   "metadata": {},
   "source": [
    "#### 1.4.3. Most Common Genres\n",
    "\n",
    "To simplify this analysis, let's filter our dataset to be comprised of just the **top 5 most common genres** in this dataset.\n",
    "\n",
    "Create your filtered dataframe below."
   ]
  },
  {
   "cell_type": "code",
   "execution_count": 70,
   "metadata": {},
   "outputs": [
    {
     "data": {
      "text/html": [
       "<div>\n",
       "<style scoped>\n",
       "    .dataframe tbody tr th:only-of-type {\n",
       "        vertical-align: middle;\n",
       "    }\n",
       "\n",
       "    .dataframe tbody tr th {\n",
       "        vertical-align: top;\n",
       "    }\n",
       "\n",
       "    .dataframe thead th {\n",
       "        text-align: right;\n",
       "    }\n",
       "</style>\n",
       "<table border=\"1\" class=\"dataframe\">\n",
       "  <thead>\n",
       "    <tr style=\"text-align: right;\">\n",
       "      <th></th>\n",
       "      <th>Genre</th>\n",
       "      <th>Name</th>\n",
       "      <th>Date</th>\n",
       "      <th>Rate</th>\n",
       "      <th>Duration</th>\n",
       "      <th>Type</th>\n",
       "      <th>Certificate</th>\n",
       "      <th>Nudity</th>\n",
       "      <th>Violence</th>\n",
       "      <th>Profanity</th>\n",
       "      <th>Alcohol</th>\n",
       "      <th>Frightening</th>\n",
       "    </tr>\n",
       "  </thead>\n",
       "  <tbody>\n",
       "    <tr>\n",
       "      <th>0</th>\n",
       "      <td>Action</td>\n",
       "      <td>1057</td>\n",
       "      <td>1057</td>\n",
       "      <td>1057</td>\n",
       "      <td>1057</td>\n",
       "      <td>1057</td>\n",
       "      <td>1057</td>\n",
       "      <td>1057</td>\n",
       "      <td>1057</td>\n",
       "      <td>1057</td>\n",
       "      <td>1057</td>\n",
       "      <td>1057</td>\n",
       "    </tr>\n",
       "    <tr>\n",
       "      <th>4</th>\n",
       "      <td>Comedy</td>\n",
       "      <td>735</td>\n",
       "      <td>735</td>\n",
       "      <td>735</td>\n",
       "      <td>735</td>\n",
       "      <td>735</td>\n",
       "      <td>735</td>\n",
       "      <td>735</td>\n",
       "      <td>735</td>\n",
       "      <td>735</td>\n",
       "      <td>735</td>\n",
       "      <td>735</td>\n",
       "    </tr>\n",
       "    <tr>\n",
       "      <th>6</th>\n",
       "      <td>Drama</td>\n",
       "      <td>582</td>\n",
       "      <td>582</td>\n",
       "      <td>582</td>\n",
       "      <td>582</td>\n",
       "      <td>582</td>\n",
       "      <td>582</td>\n",
       "      <td>582</td>\n",
       "      <td>582</td>\n",
       "      <td>582</td>\n",
       "      <td>582</td>\n",
       "      <td>582</td>\n",
       "    </tr>\n",
       "    <tr>\n",
       "      <th>10</th>\n",
       "      <td>Horror</td>\n",
       "      <td>250</td>\n",
       "      <td>250</td>\n",
       "      <td>250</td>\n",
       "      <td>250</td>\n",
       "      <td>250</td>\n",
       "      <td>250</td>\n",
       "      <td>250</td>\n",
       "      <td>250</td>\n",
       "      <td>250</td>\n",
       "      <td>250</td>\n",
       "      <td>250</td>\n",
       "    </tr>\n",
       "    <tr>\n",
       "      <th>5</th>\n",
       "      <td>Crime</td>\n",
       "      <td>231</td>\n",
       "      <td>231</td>\n",
       "      <td>231</td>\n",
       "      <td>231</td>\n",
       "      <td>231</td>\n",
       "      <td>231</td>\n",
       "      <td>231</td>\n",
       "      <td>231</td>\n",
       "      <td>231</td>\n",
       "      <td>231</td>\n",
       "      <td>231</td>\n",
       "    </tr>\n",
       "  </tbody>\n",
       "</table>\n",
       "</div>"
      ],
      "text/plain": [
       "     Genre  Name  Date  Rate  Duration  Type  Certificate  Nudity  Violence  \\\n",
       "0   Action  1057  1057  1057      1057  1057         1057    1057      1057   \n",
       "4   Comedy   735   735   735       735   735          735     735       735   \n",
       "6    Drama   582   582   582       582   582          582     582       582   \n",
       "10  Horror   250   250   250       250   250          250     250       250   \n",
       "5    Crime   231   231   231       231   231          231     231       231   \n",
       "\n",
       "    Profanity  Alcohol  Frightening  \n",
       "0        1057     1057         1057  \n",
       "4         735      735          735  \n",
       "6         582      582          582  \n",
       "10        250      250          250  \n",
       "5         231      231          231  "
      ]
     },
     "execution_count": 70,
     "metadata": {},
     "output_type": "execute_result"
    }
   ],
   "source": [
    "df_top_genres = df_films.groupby(\"Genre\").count().reset_index()\n",
    "df_top_genres = df_top_genres.sort_values(by=[\"Name\"], ascending=False)\n",
    "df_top_genres.head()"
   ]
  },
  {
   "cell_type": "code",
   "execution_count": 72,
   "metadata": {},
   "outputs": [
    {
     "data": {
      "text/plain": [
       "array(['Action', 'Crime', 'Horror', 'Animation', 'Drama', 'Comedy',\n",
       "       'Adventure', 'Biography', 'Mystery', 'Fantasy', 'Thriller',\n",
       "       'Western', 'Family', 'Musical', 'Sci-Fi', 'History', 'Romance'],\n",
       "      dtype=object)"
      ]
     },
     "execution_count": 72,
     "metadata": {},
     "output_type": "execute_result"
    }
   ],
   "source": [
    "df_films[\"Genre\"].unique()"
   ]
  },
  {
   "cell_type": "code",
   "execution_count": 73,
   "metadata": {},
   "outputs": [
    {
     "data": {
      "text/html": [
       "<div>\n",
       "<style scoped>\n",
       "    .dataframe tbody tr th:only-of-type {\n",
       "        vertical-align: middle;\n",
       "    }\n",
       "\n",
       "    .dataframe tbody tr th {\n",
       "        vertical-align: top;\n",
       "    }\n",
       "\n",
       "    .dataframe thead th {\n",
       "        text-align: right;\n",
       "    }\n",
       "</style>\n",
       "<table border=\"1\" class=\"dataframe\">\n",
       "  <thead>\n",
       "    <tr style=\"text-align: right;\">\n",
       "      <th></th>\n",
       "      <th>Name</th>\n",
       "      <th>Date</th>\n",
       "      <th>Rate</th>\n",
       "      <th>Genre</th>\n",
       "      <th>Duration</th>\n",
       "      <th>Type</th>\n",
       "      <th>Certificate</th>\n",
       "      <th>Nudity</th>\n",
       "      <th>Violence</th>\n",
       "      <th>Profanity</th>\n",
       "      <th>Alcohol</th>\n",
       "      <th>Frightening</th>\n",
       "    </tr>\n",
       "  </thead>\n",
       "  <tbody>\n",
       "    <tr>\n",
       "      <th>0</th>\n",
       "      <td>No Time to Die</td>\n",
       "      <td>2021</td>\n",
       "      <td>7.6</td>\n",
       "      <td>Action</td>\n",
       "      <td>163.0</td>\n",
       "      <td>Film</td>\n",
       "      <td>PG-13</td>\n",
       "      <td>Mild</td>\n",
       "      <td>Moderate</td>\n",
       "      <td>Mild</td>\n",
       "      <td>Mild</td>\n",
       "      <td>Moderate</td>\n",
       "    </tr>\n",
       "    <tr>\n",
       "      <th>1</th>\n",
       "      <td>The Guilty</td>\n",
       "      <td>2021</td>\n",
       "      <td>6.3</td>\n",
       "      <td>Crime</td>\n",
       "      <td>90.0</td>\n",
       "      <td>Film</td>\n",
       "      <td>R</td>\n",
       "      <td>None</td>\n",
       "      <td>None</td>\n",
       "      <td>Severe</td>\n",
       "      <td>None</td>\n",
       "      <td>Moderate</td>\n",
       "    </tr>\n",
       "    <tr>\n",
       "      <th>2</th>\n",
       "      <td>The Many Saints of Newark</td>\n",
       "      <td>2021</td>\n",
       "      <td>6.4</td>\n",
       "      <td>Crime</td>\n",
       "      <td>120.0</td>\n",
       "      <td>Film</td>\n",
       "      <td>R</td>\n",
       "      <td>Moderate</td>\n",
       "      <td>Severe</td>\n",
       "      <td>Severe</td>\n",
       "      <td>Moderate</td>\n",
       "      <td>Moderate</td>\n",
       "    </tr>\n",
       "    <tr>\n",
       "      <th>3</th>\n",
       "      <td>Venom: Let There Be Carnage</td>\n",
       "      <td>2021</td>\n",
       "      <td>6.4</td>\n",
       "      <td>Action</td>\n",
       "      <td>97.0</td>\n",
       "      <td>Film</td>\n",
       "      <td>PG-13</td>\n",
       "      <td>None</td>\n",
       "      <td>Moderate</td>\n",
       "      <td>Moderate</td>\n",
       "      <td>Mild</td>\n",
       "      <td>Moderate</td>\n",
       "    </tr>\n",
       "    <tr>\n",
       "      <th>4</th>\n",
       "      <td>Dune</td>\n",
       "      <td>2021</td>\n",
       "      <td>8.3</td>\n",
       "      <td>Action</td>\n",
       "      <td>155.0</td>\n",
       "      <td>Film</td>\n",
       "      <td>PG-13</td>\n",
       "      <td>None</td>\n",
       "      <td>Moderate</td>\n",
       "      <td>None</td>\n",
       "      <td>Mild</td>\n",
       "      <td>Moderate</td>\n",
       "    </tr>\n",
       "    <tr>\n",
       "      <th>...</th>\n",
       "      <td>...</td>\n",
       "      <td>...</td>\n",
       "      <td>...</td>\n",
       "      <td>...</td>\n",
       "      <td>...</td>\n",
       "      <td>...</td>\n",
       "      <td>...</td>\n",
       "      <td>...</td>\n",
       "      <td>...</td>\n",
       "      <td>...</td>\n",
       "      <td>...</td>\n",
       "      <td>...</td>\n",
       "    </tr>\n",
       "    <tr>\n",
       "      <th>4287</th>\n",
       "      <td>Daddy Day Care</td>\n",
       "      <td>2003</td>\n",
       "      <td>5.6</td>\n",
       "      <td>Comedy</td>\n",
       "      <td>92.0</td>\n",
       "      <td>Film</td>\n",
       "      <td>PG</td>\n",
       "      <td>None</td>\n",
       "      <td>Mild</td>\n",
       "      <td>Mild</td>\n",
       "      <td>None</td>\n",
       "      <td>None</td>\n",
       "    </tr>\n",
       "    <tr>\n",
       "      <th>4290</th>\n",
       "      <td>How High</td>\n",
       "      <td>2001</td>\n",
       "      <td>6.3</td>\n",
       "      <td>Comedy</td>\n",
       "      <td>93.0</td>\n",
       "      <td>Film</td>\n",
       "      <td>R</td>\n",
       "      <td>Moderate</td>\n",
       "      <td>Mild</td>\n",
       "      <td>Severe</td>\n",
       "      <td>Severe</td>\n",
       "      <td>None</td>\n",
       "    </tr>\n",
       "    <tr>\n",
       "      <th>4294</th>\n",
       "      <td>Before the Devil Knows You're Dead</td>\n",
       "      <td>2007</td>\n",
       "      <td>7.3</td>\n",
       "      <td>Crime</td>\n",
       "      <td>117.0</td>\n",
       "      <td>Film</td>\n",
       "      <td>R</td>\n",
       "      <td>Severe</td>\n",
       "      <td>Moderate</td>\n",
       "      <td>Severe</td>\n",
       "      <td>Severe</td>\n",
       "      <td>Severe</td>\n",
       "    </tr>\n",
       "    <tr>\n",
       "      <th>4295</th>\n",
       "      <td>Queen Bees</td>\n",
       "      <td>2021</td>\n",
       "      <td>6.0</td>\n",
       "      <td>Comedy</td>\n",
       "      <td>100.0</td>\n",
       "      <td>Film</td>\n",
       "      <td>PG-13</td>\n",
       "      <td>None</td>\n",
       "      <td>None</td>\n",
       "      <td>Mild</td>\n",
       "      <td>Moderate</td>\n",
       "      <td>None</td>\n",
       "    </tr>\n",
       "    <tr>\n",
       "      <th>4296</th>\n",
       "      <td>Death Race</td>\n",
       "      <td>2008</td>\n",
       "      <td>6.3</td>\n",
       "      <td>Action</td>\n",
       "      <td>105.0</td>\n",
       "      <td>Film</td>\n",
       "      <td>R</td>\n",
       "      <td>Mild</td>\n",
       "      <td>Severe</td>\n",
       "      <td>Severe</td>\n",
       "      <td>Mild</td>\n",
       "      <td>Moderate</td>\n",
       "    </tr>\n",
       "  </tbody>\n",
       "</table>\n",
       "<p>2855 rows × 12 columns</p>\n",
       "</div>"
      ],
      "text/plain": [
       "                                    Name  Date  Rate   Genre  Duration  Type  \\\n",
       "0                         No Time to Die  2021   7.6  Action     163.0  Film   \n",
       "1                             The Guilty  2021   6.3   Crime      90.0  Film   \n",
       "2              The Many Saints of Newark  2021   6.4   Crime     120.0  Film   \n",
       "3            Venom: Let There Be Carnage  2021   6.4  Action      97.0  Film   \n",
       "4                                   Dune  2021   8.3  Action     155.0  Film   \n",
       "...                                  ...   ...   ...     ...       ...   ...   \n",
       "4287                      Daddy Day Care  2003   5.6  Comedy      92.0  Film   \n",
       "4290                            How High  2001   6.3  Comedy      93.0  Film   \n",
       "4294  Before the Devil Knows You're Dead  2007   7.3   Crime     117.0  Film   \n",
       "4295                          Queen Bees  2021   6.0  Comedy     100.0  Film   \n",
       "4296                          Death Race  2008   6.3  Action     105.0  Film   \n",
       "\n",
       "     Certificate    Nudity  Violence Profanity   Alcohol Frightening  \n",
       "0          PG-13      Mild  Moderate      Mild      Mild    Moderate  \n",
       "1              R      None      None    Severe      None    Moderate  \n",
       "2              R  Moderate    Severe    Severe  Moderate    Moderate  \n",
       "3          PG-13      None  Moderate  Moderate      Mild    Moderate  \n",
       "4          PG-13      None  Moderate      None      Mild    Moderate  \n",
       "...          ...       ...       ...       ...       ...         ...  \n",
       "4287          PG      None      Mild      Mild      None        None  \n",
       "4290           R  Moderate      Mild    Severe    Severe        None  \n",
       "4294           R    Severe  Moderate    Severe    Severe      Severe  \n",
       "4295       PG-13      None      None      Mild  Moderate        None  \n",
       "4296           R      Mild    Severe    Severe      Mild    Moderate  \n",
       "\n",
       "[2855 rows x 12 columns]"
      ]
     },
     "execution_count": 73,
     "metadata": {},
     "output_type": "execute_result"
    }
   ],
   "source": [
    "df_films = df_films[df_films[\"Genre\"] != \"Animation\"]\n",
    "df_films = df_films[df_films[\"Genre\"] != \"Adventure\"]\n",
    "df_films = df_films[df_films[\"Genre\"] != \"Biography\"]\n",
    "df_films = df_films[df_films[\"Genre\"] != \"Mystery\"]\n",
    "df_films = df_films[df_films[\"Genre\"] != \"Fantasy\"]\n",
    "df_films = df_films[df_films[\"Genre\"] != \"Thriller\"]\n",
    "df_films = df_films[df_films[\"Genre\"] != \"Western\"]\n",
    "df_films = df_films[df_films[\"Genre\"] != \"Family\"]\n",
    "df_films = df_films[df_films[\"Genre\"] != \"Musical\"]\n",
    "df_films = df_films[df_films[\"Genre\"] != \"Sci-Fi\"]\n",
    "df_films = df_films[df_films[\"Genre\"] != \"History\"]\n",
    "df_films = df_films[df_films[\"Genre\"] != \"Romance\"]\n",
    "df_films"
   ]
  },
  {
   "cell_type": "code",
   "execution_count": null,
   "metadata": {},
   "outputs": [],
   "source": []
  },
  {
   "cell_type": "markdown",
   "metadata": {},
   "source": [
    "### 1.5. Final Cleaned Dataset\n",
    "\n",
    "We will use this final resulting dataframe from 1.4.3 throughout the rest of the analysis. How many rows are in this remaining dataset? "
   ]
  },
  {
   "cell_type": "markdown",
   "metadata": {},
   "source": [
    "There are 2,855 rows remaining"
   ]
  },
  {
   "cell_type": "markdown",
   "metadata": {},
   "source": [
    "## 2. Exploring Movie Ratings\n",
    "\n",
    "Next we would like to learn more about the general ratings of these movies in the dataset.\n",
    "\n",
    "### 2.1. Movie Rating Distribution\n",
    "\n",
    "\n",
    "#### 2.1.1. Histogram and Boxplot\n",
    "Plot a histogram showing the distribution of movie ratings for all remaining movies in this dataset. Make sure you give an appropriate title, x-axis label, and y-axis label.\n",
    "\n",
    "Also plot a boxplot showing the distribution of movie ratings for all remaining movies in this dataset. Make sure you give an appropriate title.\n",
    "\n",
    "\n"
   ]
  },
  {
   "cell_type": "code",
   "execution_count": 79,
   "metadata": {},
   "outputs": [
    {
     "data": {
      "image/png": "[encoded data removed]",
      "text/plain": [
       "<Figure size 432x288 with 1 Axes>"
      ]
     },
     "metadata": {
      "needs_background": "light"
     },
     "output_type": "display_data"
    }
   ],
   "source": [
    "df_films[\"Rate\"].hist()\n",
    "plt.xlabel(\"Movie Rating\")\n",
    "plt.ylabel(\"Frequency\")\n",
    "plt.title(\"Movie Rating Frequencies\")\n",
    "plt.show()"
   ]
  },
  {
   "cell_type": "code",
   "execution_count": 86,
   "metadata": {},
   "outputs": [
    {
     "data": {
      "image/png": "[encoded data removed]",
      "text/plain": [
       "<Figure size 432x288 with 1 Axes>"
      ]
     },
     "metadata": {
      "needs_background": "light"
     },
     "output_type": "display_data"
    }
   ],
   "source": [
    "sns.boxplot(data = df_films[\"Rate\"])\n",
    "plt.xlabel(\"Movies\")\n",
    "plt.ylabel(\"Rating\")\n",
    "plt.title(\"Movie Ratings\")\n",
    "plt.show()"
   ]
  },
  {
   "cell_type": "markdown",
   "metadata": {},
   "source": [
    "#### 2.1.2. Describing the Distribution\n",
    "\n",
    "1. Describe the shape of the movie ratings distribution. \n",
    "2. Calculate an *appropriate* measure of center and spread for this distribution. Why are these measure of center and spread appropriate?\n",
    "3. Describe the nature of any outliers in this distribution of ratings."
   ]
  },
  {
   "cell_type": "markdown",
   "metadata": {},
   "source": [
    "1. The distribution of the movie ratings is unimodal and left skewed.\n",
    "\n",
    "2. An appropriate measure of center is 6.7 and an appropriate measure of spread is 1.2000000000000002. I used the median for the measure of center and IQR for the spread since the distribution is skewed.\n",
    "\n",
    "3. The outliers in this distribution are for movies that are rated very highly because they are very good or rated very low because they are really bad, which makes sense"
   ]
  },
  {
   "cell_type": "code",
   "execution_count": 87,
   "metadata": {},
   "outputs": [
    {
     "data": {
      "text/plain": [
       "6.7"
      ]
     },
     "execution_count": 87,
     "metadata": {},
     "output_type": "execute_result"
    }
   ],
   "source": [
    "df_films[\"Rate\"].median()"
   ]
  },
  {
   "cell_type": "code",
   "execution_count": 88,
   "metadata": {},
   "outputs": [
    {
     "data": {
      "text/plain": [
       "1.2000000000000002"
      ]
     },
     "execution_count": 88,
     "metadata": {},
     "output_type": "execute_result"
    }
   ],
   "source": [
    "df_films[\"Rate\"].quantile(.75) - df_films[\"Rate\"].quantile(.25)"
   ]
  },
  {
   "cell_type": "markdown",
   "metadata": {},
   "source": [
    "### 2.2. Highest Rated Movies for Each Genre\n",
    "\n",
    "Next, we would ultimately like to find the **rating** and the **name** of the highest rated movie(s) for each genre in this dataset.\n",
    "\n",
    "#### 2.2.1 Highest Movie Ratings for Each Genre\n",
    "\n",
    "Create a dataframe below that shows the highest movie rating for each genre in the dataset. Your final dataframe should have the following specifications.\n",
    "\n",
    "1. Just two columns: **genre** and **rating**\n",
    "2. An **index with numbers** (not genre types)\n",
    "3. Sorted by the rating column, in descending order.\n",
    "\n",
    "Show this dataframe."
   ]
  },
  {
   "cell_type": "code",
   "execution_count": 98,
   "metadata": {},
   "outputs": [
    {
     "data": {
      "text/html": [
       "<div>\n",
       "<style scoped>\n",
       "    .dataframe tbody tr th:only-of-type {\n",
       "        vertical-align: middle;\n",
       "    }\n",
       "\n",
       "    .dataframe tbody tr th {\n",
       "        vertical-align: top;\n",
       "    }\n",
       "\n",
       "    .dataframe thead th {\n",
       "        text-align: right;\n",
       "    }\n",
       "</style>\n",
       "<table border=\"1\" class=\"dataframe\">\n",
       "  <thead>\n",
       "    <tr style=\"text-align: right;\">\n",
       "      <th></th>\n",
       "      <th>Genre</th>\n",
       "      <th>Rate</th>\n",
       "    </tr>\n",
       "  </thead>\n",
       "  <tbody>\n",
       "    <tr>\n",
       "      <th>0</th>\n",
       "      <td>Drama</td>\n",
       "      <td>9.3</td>\n",
       "    </tr>\n",
       "    <tr>\n",
       "      <th>1</th>\n",
       "      <td>Crime</td>\n",
       "      <td>9.2</td>\n",
       "    </tr>\n",
       "    <tr>\n",
       "      <th>2</th>\n",
       "      <td>Action</td>\n",
       "      <td>9.0</td>\n",
       "    </tr>\n",
       "    <tr>\n",
       "      <th>3</th>\n",
       "      <td>Comedy</td>\n",
       "      <td>8.6</td>\n",
       "    </tr>\n",
       "    <tr>\n",
       "      <th>4</th>\n",
       "      <td>Horror</td>\n",
       "      <td>8.5</td>\n",
       "    </tr>\n",
       "  </tbody>\n",
       "</table>\n",
       "</div>"
      ],
      "text/plain": [
       "    Genre  Rate\n",
       "0   Drama   9.3\n",
       "1   Crime   9.2\n",
       "2  Action   9.0\n",
       "3  Comedy   8.6\n",
       "4  Horror   8.5"
      ]
     },
     "execution_count": 98,
     "metadata": {},
     "output_type": "execute_result"
    }
   ],
   "source": [
    "df_films_highest_rated = df_films.groupby(\"Genre\").max().reset_index()\n",
    "df_films_highest_rated = df_films_highest_rated.iloc[:, [0,3]]\n",
    "df_films_highest_rated= df_films_highest_rated.sort_values(by=[\"Rate\"], ascending=False).reset_index(drop=True)\n",
    "df_films_highest_rated"
   ]
  },
  {
   "cell_type": "code",
   "execution_count": null,
   "metadata": {},
   "outputs": [],
   "source": []
  },
  {
   "cell_type": "code",
   "execution_count": null,
   "metadata": {},
   "outputs": [],
   "source": []
  },
  {
   "cell_type": "markdown",
   "metadata": {},
   "source": [
    "#### 2.2.2. Rating and Name of the Highest Rated Movie(s) for Each Genre\n",
    "\n",
    "Finally, find the **rating** AND the **name** of the highest rated movie(s) for each **genre**.\n",
    "\n",
    "Your final dataframe that you display should contain just the **name**, **rating**, and **genre** variables."
   ]
  },
  {
   "cell_type": "code",
   "execution_count": 102,
   "metadata": {},
   "outputs": [
    {
     "data": {
      "text/html": [
       "<div>\n",
       "<style scoped>\n",
       "    .dataframe tbody tr th:only-of-type {\n",
       "        vertical-align: middle;\n",
       "    }\n",
       "\n",
       "    .dataframe tbody tr th {\n",
       "        vertical-align: top;\n",
       "    }\n",
       "\n",
       "    .dataframe thead th {\n",
       "        text-align: right;\n",
       "    }\n",
       "</style>\n",
       "<table border=\"1\" class=\"dataframe\">\n",
       "  <thead>\n",
       "    <tr style=\"text-align: right;\">\n",
       "      <th></th>\n",
       "      <th>Genre</th>\n",
       "      <th>Name</th>\n",
       "      <th>Rate</th>\n",
       "    </tr>\n",
       "  </thead>\n",
       "  <tbody>\n",
       "    <tr>\n",
       "      <th>0</th>\n",
       "      <td>Drama</td>\n",
       "      <td>Ôdishon</td>\n",
       "      <td>9.3</td>\n",
       "    </tr>\n",
       "    <tr>\n",
       "      <th>1</th>\n",
       "      <td>Crime</td>\n",
       "      <td>Zodiac</td>\n",
       "      <td>9.2</td>\n",
       "    </tr>\n",
       "    <tr>\n",
       "      <th>2</th>\n",
       "      <td>Action</td>\n",
       "      <td>xXx: Return of Xander Cage</td>\n",
       "      <td>9.0</td>\n",
       "    </tr>\n",
       "    <tr>\n",
       "      <th>3</th>\n",
       "      <td>Comedy</td>\n",
       "      <td>Zoolander</td>\n",
       "      <td>8.6</td>\n",
       "    </tr>\n",
       "    <tr>\n",
       "      <th>4</th>\n",
       "      <td>Horror</td>\n",
       "      <td>À l'intérieur</td>\n",
       "      <td>8.5</td>\n",
       "    </tr>\n",
       "  </tbody>\n",
       "</table>\n",
       "</div>"
      ],
      "text/plain": [
       "    Genre                        Name  Rate\n",
       "0   Drama                     Ôdishon   9.3\n",
       "1   Crime                      Zodiac   9.2\n",
       "2  Action  xXx: Return of Xander Cage   9.0\n",
       "3  Comedy                   Zoolander   8.6\n",
       "4  Horror               À l'intérieur   8.5"
      ]
     },
     "execution_count": 102,
     "metadata": {},
     "output_type": "execute_result"
    }
   ],
   "source": [
    "df_top_rated = df_films.groupby(\"Genre\").max().reset_index()\n",
    "df_top_rated = df_top_rated.sort_values(by=[\"Rate\"], ascending=False).reset_index(drop=True)\n",
    "df_top_rated = df_top_rated.iloc[:, [0, 1, 3]]\n",
    "df_top_rated"
   ]
  },
  {
   "cell_type": "code",
   "execution_count": null,
   "metadata": {},
   "outputs": [],
   "source": []
  },
  {
   "cell_type": "markdown",
   "metadata": {},
   "source": [
    "## 3. Relationships between Movie Ratings and what the Movie is About\n",
    "\n",
    "Next, we would like to explore the relationship between the following pairs of variables.\n",
    "* movie rating and genre\n",
    "* movie rating and certificate\n",
    "* movie rating and nudity level\n",
    "* movie rating and violence level\n",
    "* movie rating and profanity level\n",
    "* movie rating and alcohol level\n",
    "* movie rating and frightening level\n",
    "\n",
    "\n",
    "### 3.1. Strongest Relationship\n",
    "\n",
    "**Which one of these 7 pairs of variables exhibits the strongest association?** \n",
    "\n",
    "* Explain and show your work.\n",
    "* Your explanation should include 7 side-by-side boxplots visualizations, one for each pair.\n",
    "* Make sure any plot you use is appropriately titled and has appropriate x- and y-axis labels.\n"
   ]
  },
  {
   "cell_type": "markdown",
   "metadata": {},
   "source": [
    "The association between movie ratings and genre has the strongest association out of the 7 pairs since there is the least overlap for the box plots."
   ]
  },
  {
   "cell_type": "code",
   "execution_count": 264,
   "metadata": {
    "scrolled": false
   },
   "outputs": [
    {
     "data": {
      "image/png": "[encoded data removed]",
      "text/plain": [
       "<Figure size 432x288 with 1 Axes>"
      ]
     },
     "metadata": {
      "needs_background": "light"
     },
     "output_type": "display_data"
    }
   ],
   "source": [
    "sns.boxplot(data = df_films, x = \"Genre\", y = \"Rate\")\n",
    "plt.xlabel(\"Genre\")\n",
    "plt.ylabel(\"Rating\")\n",
    "plt.title(\"Genre to Ratings\")\n",
    "plt.show()"
   ]
  },
  {
   "cell_type": "code",
   "execution_count": 112,
   "metadata": {},
   "outputs": [
    {
     "data": {
      "image/png": "[encoded data removed]",
      "text/plain": [
       "<Figure size 432x288 with 1 Axes>"
      ]
     },
     "metadata": {
      "needs_background": "light"
     },
     "output_type": "display_data"
    }
   ],
   "source": [
    "sns.boxplot(data = df_films, x = \"Certificate\", y = \"Rate\")\n",
    "plt.xlabel(\"Certificate\")\n",
    "plt.ylabel(\"Rating\")\n",
    "plt.title(\"Certificate to Ratings\")\n",
    "plt.show()"
   ]
  },
  {
   "cell_type": "code",
   "execution_count": 113,
   "metadata": {},
   "outputs": [
    {
     "data": {
      "image/png": "[encoded data removed]",
      "text/plain": [
       "<Figure size 432x288 with 1 Axes>"
      ]
     },
     "metadata": {
      "needs_background": "light"
     },
     "output_type": "display_data"
    }
   ],
   "source": [
    "sns.boxplot(data = df_films, x = \"Nudity\", y = \"Rate\")\n",
    "plt.xlabel(\"Nudity\")\n",
    "plt.ylabel(\"Rating\")\n",
    "plt.title(\"Nudity to Ratings\")\n",
    "plt.show()"
   ]
  },
  {
   "cell_type": "code",
   "execution_count": 114,
   "metadata": {},
   "outputs": [
    {
     "data": {
      "image/png": "[encoded data removed]",
      "text/plain": [
       "<Figure size 432x288 with 1 Axes>"
      ]
     },
     "metadata": {
      "needs_background": "light"
     },
     "output_type": "display_data"
    }
   ],
   "source": [
    "sns.boxplot(data = df_films, x = \"Violence\", y = \"Rate\")\n",
    "plt.xlabel(\"Violence\")\n",
    "plt.ylabel(\"Rating\")\n",
    "plt.title(\"Violence to Ratings\")\n",
    "plt.show()"
   ]
  },
  {
   "cell_type": "code",
   "execution_count": 115,
   "metadata": {},
   "outputs": [
    {
     "data": {
      "image/png": "[encoded data removed]",
      "text/plain": [
       "<Figure size 432x288 with 1 Axes>"
      ]
     },
     "metadata": {
      "needs_background": "light"
     },
     "output_type": "display_data"
    }
   ],
   "source": [
    "sns.boxplot(data = df_films, x = \"Profanity\", y = \"Rate\")\n",
    "plt.xlabel(\"Profanity\")\n",
    "plt.ylabel(\"Rating\")\n",
    "plt.title(\"Profanity to Ratings\")\n",
    "plt.show()"
   ]
  },
  {
   "cell_type": "code",
   "execution_count": 116,
   "metadata": {},
   "outputs": [
    {
     "data": {
      "image/png": "[encoded data removed]",
      "text/plain": [
       "<Figure size 432x288 with 1 Axes>"
      ]
     },
     "metadata": {
      "needs_background": "light"
     },
     "output_type": "display_data"
    }
   ],
   "source": [
    "sns.boxplot(data = df_films, x = \"Alcohol\", y = \"Rate\")\n",
    "plt.xlabel(\"Alcohol\")\n",
    "plt.ylabel(\"Rating\")\n",
    "plt.title(\"Alcohol to Ratings\")\n",
    "plt.show()"
   ]
  },
  {
   "cell_type": "code",
   "execution_count": 117,
   "metadata": {},
   "outputs": [
    {
     "data": {
      "image/png": "[encoded data removed]",
      "text/plain": [
       "<Figure size 432x288 with 1 Axes>"
      ]
     },
     "metadata": {
      "needs_background": "light"
     },
     "output_type": "display_data"
    }
   ],
   "source": [
    "sns.boxplot(data = df_films, x = \"Frightening\", y = \"Rate\")\n",
    "plt.xlabel(\"Frightening\")\n",
    "plt.ylabel(\"Rating\")\n",
    "plt.title(\"Frightening to Ratings\")\n",
    "plt.show()"
   ]
  },
  {
   "cell_type": "markdown",
   "metadata": {},
   "source": [
    "### 3.2. Strength of the Relationship\n",
    "\n",
    "Would you say that this variable pairing that you selected in 3.1. demonstrates a *strong* association between the two variables? Why or why not?"
   ]
  },
  {
   "cell_type": "markdown",
   "metadata": {},
   "source": [
    "I wouldn't say the variable pairing determines a strong association because there is still a bit of overlap between the boxplots but not as much as the other boxplots."
   ]
  },
  {
   "cell_type": "markdown",
   "metadata": {},
   "source": [
    "## 4. Relationships between Movie Genre and Sensitivity Attributes\n",
    "\n",
    "\n",
    "### 4.1. Visualizing the Relationships \n",
    "\n",
    "Next, we would like to explore the relationships between the following pairs of variables.\n",
    "* genre and certificate\n",
    "* genre and nudity level\n",
    "* genre and violence level\n",
    "* genre and profanity level\n",
    "* genre and alcohol level\n",
    "* genre and frightening level\n",
    "\n",
    "\n",
    "For each of the 6 pairs of categorical variables above, create an appropriate plot that visualizes the relationship between these two variables.\n",
    "* In a given plot, there should be a bar for each combination of levels of the two corresponding categorical variables.\n",
    "* Make sure your plots have appropriate titles."
   ]
  },
  {
   "cell_type": "code",
   "execution_count": 181,
   "metadata": {},
   "outputs": [
    {
     "data": {
      "text/plain": [
       "<AxesSubplot:title={'center':'Genre and Certificate Frequency'}, xlabel='Genre', ylabel='Frequency'>"
      ]
     },
     "execution_count": 181,
     "metadata": {},
     "output_type": "execute_result"
    },
    {
     "data": {
      "image/png": "[encoded data removed]",
      "text/plain": [
       "<Figure size 432x288 with 1 Axes>"
      ]
     },
     "metadata": {
      "needs_background": "light"
     },
     "output_type": "display_data"
    }
   ],
   "source": [
    "a = df_films.groupby([\"Genre\", \"Certificate\"]).size()\n",
    "a = a.unstack()\n",
    "\n",
    "a.plot(xlabel = \"Genre\", ylabel = \"Frequency\", title = \"Genre and Certificate Frequency\", kind = \"bar\")"
   ]
  },
  {
   "cell_type": "code",
   "execution_count": 185,
   "metadata": {},
   "outputs": [
    {
     "data": {
      "text/plain": [
       "<AxesSubplot:title={'center':'Genre and Nudity Frequency'}, xlabel='Genre', ylabel='Frequency'>"
      ]
     },
     "execution_count": 185,
     "metadata": {},
     "output_type": "execute_result"
    },
    {
     "data": {
      "image/png": "[encoded data removed]",
      "text/plain": [
       "<Figure size 432x288 with 1 Axes>"
      ]
     },
     "metadata": {
      "needs_background": "light"
     },
     "output_type": "display_data"
    }
   ],
   "source": [
    "a = df_films.groupby([\"Genre\", \"Nudity\"]).size()\n",
    "a = a.unstack()\n",
    "\n",
    "a.plot(xlabel = \"Genre\", ylabel = \"Frequency\", title = \"Genre and Nudity Frequency\", kind = \"bar\")"
   ]
  },
  {
   "cell_type": "code",
   "execution_count": 184,
   "metadata": {
    "scrolled": false
   },
   "outputs": [
    {
     "data": {
      "text/plain": [
       "<AxesSubplot:title={'center':'Genre and Violence Frequency'}, xlabel='Genre', ylabel='Frequency'>"
      ]
     },
     "execution_count": 184,
     "metadata": {},
     "output_type": "execute_result"
    },
    {
     "data": {
      "image/png": "[encoded data removed]",
      "text/plain": [
       "<Figure size 432x288 with 1 Axes>"
      ]
     },
     "metadata": {
      "needs_background": "light"
     },
     "output_type": "display_data"
    }
   ],
   "source": [
    "a = df_films.groupby([\"Genre\", \"Violence\"]).size()\n",
    "a = a.unstack()\n",
    "\n",
    "a.plot(xlabel = \"Genre\", ylabel = \"Frequency\", title = \"Genre and Violence Frequency\", kind = \"bar\")"
   ]
  },
  {
   "cell_type": "code",
   "execution_count": 186,
   "metadata": {},
   "outputs": [
    {
     "data": {
      "text/plain": [
       "<AxesSubplot:title={'center':'Genre and Profanity Frequency'}, xlabel='Genre', ylabel='Frequency'>"
      ]
     },
     "execution_count": 186,
     "metadata": {},
     "output_type": "execute_result"
    },
    {
     "data": {
      "image/png": "[encoded data removed]",
      "text/plain": [
       "<Figure size 432x288 with 1 Axes>"
      ]
     },
     "metadata": {
      "needs_background": "light"
     },
     "output_type": "display_data"
    }
   ],
   "source": [
    "a = df_films.groupby([\"Genre\", \"Profanity\"]).size()\n",
    "a = a.unstack()\n",
    "\n",
    "a.plot(xlabel = \"Genre\", ylabel = \"Frequency\", title = \"Genre and Profanity Frequency\", kind = \"bar\")"
   ]
  },
  {
   "cell_type": "code",
   "execution_count": 187,
   "metadata": {},
   "outputs": [
    {
     "data": {
      "text/plain": [
       "<AxesSubplot:title={'center':'Genre and Alcohol Frequency'}, xlabel='Genre', ylabel='Frequency'>"
      ]
     },
     "execution_count": 187,
     "metadata": {},
     "output_type": "execute_result"
    },
    {
     "data": {
      "image/png": "[encoded data removed]",
      "text/plain": [
       "<Figure size 432x288 with 1 Axes>"
      ]
     },
     "metadata": {
      "needs_background": "light"
     },
     "output_type": "display_data"
    }
   ],
   "source": [
    "a = df_films.groupby([\"Genre\", \"Alcohol\"]).size()\n",
    "a = a.unstack()\n",
    "\n",
    "a.plot(xlabel = \"Genre\", ylabel = \"Frequency\", title = \"Genre and Alcohol Frequency\", kind = \"bar\")"
   ]
  },
  {
   "cell_type": "code",
   "execution_count": 188,
   "metadata": {},
   "outputs": [
    {
     "data": {
      "text/plain": [
       "<AxesSubplot:title={'center':'Genre and Frightening Frequency'}, xlabel='Genre', ylabel='Frequency'>"
      ]
     },
     "execution_count": 188,
     "metadata": {},
     "output_type": "execute_result"
    },
    {
     "data": {
      "image/png": "[encoded data removed]",
      "text/plain": [
       "<Figure size 432x288 with 1 Axes>"
      ]
     },
     "metadata": {
      "needs_background": "light"
     },
     "output_type": "display_data"
    }
   ],
   "source": [
    "a = df_films.groupby([\"Genre\", \"Frightening\"]).size()\n",
    "a = a.unstack()\n",
    "\n",
    "a.plot(xlabel = \"Genre\", ylabel = \"Frequency\", title = \"Genre and Frightening Frequency\", kind = \"bar\")"
   ]
  },
  {
   "cell_type": "markdown",
   "metadata": {},
   "source": [
    "### 4.2. Learning More\n",
    "\n",
    "Your plots above *might* be useful in helping you answer some of the questions below, depending on how you constructed them. However, you will have to create at least one additional plot to help you answer some of these questions.\n",
    "\n",
    "1. Which genre has the highest percentage of rated R films?\n",
    "2. What genre is a rated-R film most likely to be?\n",
    "3. What genre of movie is most likely to have no violence?\n",
    "4. What genre of movie is most likely to have no profanity?\n",
    "\n"
   ]
  },
  {
   "cell_type": "markdown",
   "metadata": {},
   "source": [
    "1. Action\n",
    "2. Action\n",
    "3. Crime\n",
    "4. Crime"
   ]
  },
  {
   "cell_type": "code",
   "execution_count": null,
   "metadata": {},
   "outputs": [],
   "source": []
  },
  {
   "cell_type": "markdown",
   "metadata": {},
   "source": [
    "### 4.3. Assessing Associations\n",
    "For each of the pairs of categorical variables listed below, state whether there is an association or not. Explain.\n",
    "* genre and certificate\n",
    "* genre and nudity level\n",
    "* genre and violence level\n",
    "* genre and profanity level\n",
    "* genre and alcohol level\n",
    "* genre and frightening level\n",
    "\n"
   ]
  },
  {
   "cell_type": "markdown",
   "metadata": {},
   "source": [
    "Genre and Certificate have an association because there isn't a lot of overlap.\n",
    "\n",
    "Genre and Nudity Level have an association because there isn't a lot of overlap.\n",
    "\n",
    "Genre and Violence Level don't have an association because there is a lot of overlap.\n",
    "\n",
    "Genre and Profanity Level don't have an association because there is a lot of overlap.\n",
    "\n",
    "Genre and Alcohol Level have an association because there isn't a lot of overlap.\n",
    "\n",
    "Genre and Frightening Level have an association because there isn't a lot of overlap."
   ]
  },
  {
   "cell_type": "markdown",
   "metadata": {},
   "source": [
    "## 5. Violent Content Moderation for Netflix Accounts with Children\n",
    "\n",
    "Suppose that you are a data scientist that works at Netflix. You would like to develop movie recommendation strategies to advertise to parents who happen to have small children in the house. In particular, this would be a service that recommends a random selection of top IMDB rated movies of a particular genre to parent account holders, that also tries to cut down on the amount of movies with severe violence suggested in the selection.\n",
    "\n",
    "### 5.1. Comedies with Severe Violence\n",
    "\n",
    "First, what is the probability that a randomly selected comedy in this dataset will have severe violence?"
   ]
  },
  {
   "cell_type": "code",
   "execution_count": 191,
   "metadata": {},
   "outputs": [
    {
     "data": {
      "text/plain": [
       "0.26024518388791595"
      ]
     },
     "execution_count": 191,
     "metadata": {},
     "output_type": "execute_result"
    }
   ],
   "source": [
    "len(df_films[df_films[\"Violence\"] == \"Severe\"]) / len(df_films)"
   ]
  },
  {
   "cell_type": "markdown",
   "metadata": {},
   "source": [
    "### 5.2 Random Selection of 10 Comedy Movies\n",
    "\n",
    "Suppose that your proposed recommendation strategy will display a random selection of 10 top rated IMDB movies for a given genre. For this new service for houses with small children, Netflix would like to offer a guarantee that no more than 1 of a given random selection's movies will contain a movie with severe violence.\n",
    "\n",
    "\n",
    "Without any interventions from the data scientist team, what is the probability that a random sample of 10 comedy movies from this dataset will not meet this guarantee?\n",
    "\n",
    "*Note: You should assume that the population of comedy movies in this dataset is sufficiently much large with respect to a sample of size 10*.\n",
    "\n"
   ]
  },
  {
   "cell_type": "code",
   "execution_count": 204,
   "metadata": {},
   "outputs": [
    {
     "data": {
      "text/plain": [
       "0.35279336700793135"
      ]
     },
     "execution_count": 204,
     "metadata": {},
     "output_type": "execute_result"
    }
   ],
   "source": [
    "df_comedy = df_films[df_films[\"Genre\"] == \"Comedy\"].reset_index(drop=True)\n",
    "cov = len(df_comedy[df_comedy[\"Violence\"] == \"Severe\"]) / len(df_comedy)\n",
    "x = binom.pmf(n = 10, p = cov, k =1)\n",
    "x"
   ]
  },
  {
   "cell_type": "markdown",
   "metadata": {},
   "source": [
    "### 5.3. Expected Average Number of Severely Violent Comedies in Many, Many Recommended Samples\n",
    "\n",
    "If the Netflix team were to create many, many random samples of 10 comedy movies, on average what number of the movies in each of the samples would have severe violence?"
   ]
  },
  {
   "cell_type": "markdown",
   "metadata": {},
   "source": [
    "4"
   ]
  },
  {
   "cell_type": "markdown",
   "metadata": {},
   "source": [
    "### 5.4. Simulating 30 Random Samples of 10 Comedies\n",
    "\n",
    "#### 5.4.1 Generating Random Variable Values\n",
    "\n",
    "Next, simulate this 10 comedy random sample 40 times, and for each of these simulated random samples show $X=$ the number of comedies in the sample that had severe violence.\n",
    "\n",
    "**For full credit, you should do this in just 1-3 lines of code. In other words, there is a function that will do all this for you.**\n",
    "\n",
    "**Put each of these X values for the 40 simulated random samples in a dataframe.**"
   ]
  },
  {
   "cell_type": "code",
   "execution_count": 217,
   "metadata": {},
   "outputs": [
    {
     "data": {
      "text/html": [
       "<div>\n",
       "<style scoped>\n",
       "    .dataframe tbody tr th:only-of-type {\n",
       "        vertical-align: middle;\n",
       "    }\n",
       "\n",
       "    .dataframe tbody tr th {\n",
       "        vertical-align: top;\n",
       "    }\n",
       "\n",
       "    .dataframe thead th {\n",
       "        text-align: right;\n",
       "    }\n",
       "</style>\n",
       "<table border=\"1\" class=\"dataframe\">\n",
       "  <thead>\n",
       "    <tr style=\"text-align: right;\">\n",
       "      <th></th>\n",
       "      <th>0</th>\n",
       "    </tr>\n",
       "  </thead>\n",
       "  <tbody>\n",
       "    <tr>\n",
       "      <th>0</th>\n",
       "      <td>0</td>\n",
       "    </tr>\n",
       "    <tr>\n",
       "      <th>1</th>\n",
       "      <td>2</td>\n",
       "    </tr>\n",
       "    <tr>\n",
       "      <th>2</th>\n",
       "      <td>0</td>\n",
       "    </tr>\n",
       "    <tr>\n",
       "      <th>3</th>\n",
       "      <td>1</td>\n",
       "    </tr>\n",
       "    <tr>\n",
       "      <th>4</th>\n",
       "      <td>1</td>\n",
       "    </tr>\n",
       "    <tr>\n",
       "      <th>5</th>\n",
       "      <td>0</td>\n",
       "    </tr>\n",
       "    <tr>\n",
       "      <th>6</th>\n",
       "      <td>2</td>\n",
       "    </tr>\n",
       "    <tr>\n",
       "      <th>7</th>\n",
       "      <td>1</td>\n",
       "    </tr>\n",
       "    <tr>\n",
       "      <th>8</th>\n",
       "      <td>1</td>\n",
       "    </tr>\n",
       "    <tr>\n",
       "      <th>9</th>\n",
       "      <td>2</td>\n",
       "    </tr>\n",
       "    <tr>\n",
       "      <th>10</th>\n",
       "      <td>1</td>\n",
       "    </tr>\n",
       "    <tr>\n",
       "      <th>11</th>\n",
       "      <td>2</td>\n",
       "    </tr>\n",
       "    <tr>\n",
       "      <th>12</th>\n",
       "      <td>0</td>\n",
       "    </tr>\n",
       "    <tr>\n",
       "      <th>13</th>\n",
       "      <td>0</td>\n",
       "    </tr>\n",
       "    <tr>\n",
       "      <th>14</th>\n",
       "      <td>2</td>\n",
       "    </tr>\n",
       "    <tr>\n",
       "      <th>15</th>\n",
       "      <td>2</td>\n",
       "    </tr>\n",
       "    <tr>\n",
       "      <th>16</th>\n",
       "      <td>0</td>\n",
       "    </tr>\n",
       "    <tr>\n",
       "      <th>17</th>\n",
       "      <td>1</td>\n",
       "    </tr>\n",
       "    <tr>\n",
       "      <th>18</th>\n",
       "      <td>0</td>\n",
       "    </tr>\n",
       "    <tr>\n",
       "      <th>19</th>\n",
       "      <td>0</td>\n",
       "    </tr>\n",
       "    <tr>\n",
       "      <th>20</th>\n",
       "      <td>0</td>\n",
       "    </tr>\n",
       "    <tr>\n",
       "      <th>21</th>\n",
       "      <td>2</td>\n",
       "    </tr>\n",
       "    <tr>\n",
       "      <th>22</th>\n",
       "      <td>0</td>\n",
       "    </tr>\n",
       "    <tr>\n",
       "      <th>23</th>\n",
       "      <td>3</td>\n",
       "    </tr>\n",
       "    <tr>\n",
       "      <th>24</th>\n",
       "      <td>2</td>\n",
       "    </tr>\n",
       "    <tr>\n",
       "      <th>25</th>\n",
       "      <td>1</td>\n",
       "    </tr>\n",
       "    <tr>\n",
       "      <th>26</th>\n",
       "      <td>1</td>\n",
       "    </tr>\n",
       "    <tr>\n",
       "      <th>27</th>\n",
       "      <td>0</td>\n",
       "    </tr>\n",
       "    <tr>\n",
       "      <th>28</th>\n",
       "      <td>1</td>\n",
       "    </tr>\n",
       "    <tr>\n",
       "      <th>29</th>\n",
       "      <td>1</td>\n",
       "    </tr>\n",
       "    <tr>\n",
       "      <th>30</th>\n",
       "      <td>0</td>\n",
       "    </tr>\n",
       "    <tr>\n",
       "      <th>31</th>\n",
       "      <td>1</td>\n",
       "    </tr>\n",
       "    <tr>\n",
       "      <th>32</th>\n",
       "      <td>0</td>\n",
       "    </tr>\n",
       "    <tr>\n",
       "      <th>33</th>\n",
       "      <td>2</td>\n",
       "    </tr>\n",
       "    <tr>\n",
       "      <th>34</th>\n",
       "      <td>0</td>\n",
       "    </tr>\n",
       "    <tr>\n",
       "      <th>35</th>\n",
       "      <td>0</td>\n",
       "    </tr>\n",
       "    <tr>\n",
       "      <th>36</th>\n",
       "      <td>1</td>\n",
       "    </tr>\n",
       "    <tr>\n",
       "      <th>37</th>\n",
       "      <td>0</td>\n",
       "    </tr>\n",
       "    <tr>\n",
       "      <th>38</th>\n",
       "      <td>1</td>\n",
       "    </tr>\n",
       "    <tr>\n",
       "      <th>39</th>\n",
       "      <td>0</td>\n",
       "    </tr>\n",
       "  </tbody>\n",
       "</table>\n",
       "</div>"
      ],
      "text/plain": [
       "    0\n",
       "0   0\n",
       "1   2\n",
       "2   0\n",
       "3   1\n",
       "4   1\n",
       "5   0\n",
       "6   2\n",
       "7   1\n",
       "8   1\n",
       "9   2\n",
       "10  1\n",
       "11  2\n",
       "12  0\n",
       "13  0\n",
       "14  2\n",
       "15  2\n",
       "16  0\n",
       "17  1\n",
       "18  0\n",
       "19  0\n",
       "20  0\n",
       "21  2\n",
       "22  0\n",
       "23  3\n",
       "24  2\n",
       "25  1\n",
       "26  1\n",
       "27  0\n",
       "28  1\n",
       "29  1\n",
       "30  0\n",
       "31  1\n",
       "32  0\n",
       "33  2\n",
       "34  0\n",
       "35  0\n",
       "36  1\n",
       "37  0\n",
       "38  1\n",
       "39  0"
      ]
     },
     "execution_count": 217,
     "metadata": {},
     "output_type": "execute_result"
    }
   ],
   "source": [
    "data = []\n",
    "for i in range(40):\n",
    "    data.append( binom.rvs(n=10, p=cov, size = 1) )\n",
    "df_rcs = pd.DataFrame(data)\n",
    "df_rcs"
   ]
  },
  {
   "cell_type": "markdown",
   "metadata": {},
   "source": [
    "#### 5.4.2 Average of Random Variable Values\n",
    "\n",
    "Calculate the average of these random variable values that you generated in 5.4.1."
   ]
  },
  {
   "cell_type": "code",
   "execution_count": 216,
   "metadata": {},
   "outputs": [
    {
     "data": {
      "text/plain": [
       "0.55"
      ]
     },
     "execution_count": 216,
     "metadata": {},
     "output_type": "execute_result"
    }
   ],
   "source": [
    "df_rcs[0].mean()"
   ]
  },
  {
   "cell_type": "markdown",
   "metadata": {},
   "source": [
    "## 6. Genre Diversity in Netflix Recommendations\n",
    "\n",
    "Suppose that you are a data scientist that works at Netflix, working on a different project. Next, you would like to build a recommendation service that is guaranteed to recommend a genre-diverse random selection of 5 top IMDB rated movies. \n",
    "\n",
    "\n",
    "### 6.1. Probability of a Completely Homogeneous Random Sample\n",
    "To help us learn more about what strategies might be needed, we would like calculate the **probability (without intervention) of randomly selecting 5 top IMDB rated movies from this dataset that are ALL of the SAME genre.**\n",
    "\n",
    "*Ex: (crime, crime, crime, crime, crime) or (drama, drama, drama, drama, drama) OR etc.*\n",
    "\n",
    "**Design a simulation below that approximates this probability.**\n",
    "\n",
    "Your simulation should:\n",
    "* have 5000 trials\n",
    "* randomly sample without replacement from the population of IMDB top rated movies\n",
    "\n",
    "*Building a function that checks whether all of the movies in a sample are of the same genre may be helpful*.\n"
   ]
  },
  {
   "cell_type": "code",
   "execution_count": 218,
   "metadata": {},
   "outputs": [],
   "source": [
    "def check(df):\n",
    "    drama = df[df['Genre'] == 'Drama'].shape[0]\n",
    "    crime = df[df['Genre'] == 'Crime'].shape[0]\n",
    "    action = df[df['Genre'] == 'Action'].shape[0]\n",
    "    comedy = df[df['Genre'] == 'Comedy'].shape[0]\n",
    "    horror = df[df['Genre'] == 'Horror'].shape[0]\n",
    "    if (drama == 5 or crime == 5 or action == 5 or comedy == 5 or horror == 5):\n",
    "        return True\n",
    "    return False"
   ]
  },
  {
   "cell_type": "code",
   "execution_count": 219,
   "metadata": {},
   "outputs": [
    {
     "name": "stdout",
     "output_type": "stream",
     "text": [
      "0.2706\n"
     ]
    }
   ],
   "source": [
    "count = 0\n",
    "\n",
    "for i in range(5000):\n",
    "    film_sample = df_films.sample(10, replace=False)\n",
    "    if check(film_sample):\n",
    "        count += 1\n",
    "print(count/5000)"
   ]
  },
  {
   "cell_type": "code",
   "execution_count": null,
   "metadata": {},
   "outputs": [],
   "source": []
  },
  {
   "cell_type": "code",
   "execution_count": null,
   "metadata": {},
   "outputs": [],
   "source": []
  },
  {
   "cell_type": "code",
   "execution_count": null,
   "metadata": {},
   "outputs": [],
   "source": []
  },
  {
   "cell_type": "code",
   "execution_count": null,
   "metadata": {},
   "outputs": [],
   "source": []
  },
  {
   "cell_type": "markdown",
   "metadata": {},
   "source": [
    "### 6.2. Probability of a Random Sample that is Not Completely Homogeneous\n",
    "Use your answer from 6.1 to calculate the **probability (without intervention) of randomly selecting 5 top IMDB rated movies from this dataset that are NOT ALL of the SAME genre.**"
   ]
  },
  {
   "cell_type": "code",
   "execution_count": 226,
   "metadata": {},
   "outputs": [
    {
     "name": "stdout",
     "output_type": "stream",
     "text": [
      "0.7294\n"
     ]
    }
   ],
   "source": [
    "c2 = 5000 - count\n",
    "print(c2/5000)"
   ]
  },
  {
   "cell_type": "markdown",
   "metadata": {},
   "source": [
    "## 7. Sampling Distribution\n",
    "\n",
    "Let's now consider our dataframe of popular IMDB movies to be our **population** of interest.\n",
    "\n",
    "### 7.1. Theoretical Sampling Distribution\n",
    "\n",
    "*Suppose* that we were to create a sampling distribution, comprised of many, many sample mean ratings, where each of our random samples were of size 40 and drawn from our population.\n",
    "\n",
    "#### 7.1.1. Expected Mean\n",
    "\n",
    "What would we *expect* the mean of this sampling distribution to be?"
   ]
  },
  {
   "cell_type": "code",
   "execution_count": 267,
   "metadata": {},
   "outputs": [
    {
     "data": {
      "text/plain": [
       "6.612959719789845"
      ]
     },
     "execution_count": 267,
     "metadata": {},
     "output_type": "execute_result"
    }
   ],
   "source": [
    "df_films[\"Rate\"].mean()"
   ]
  },
  {
   "cell_type": "markdown",
   "metadata": {},
   "source": [
    "#### 7.1.2. Expected Standard Deviation\n",
    "\n",
    "What would we *expect* the standard deviation of this sampling distribution to be?"
   ]
  },
  {
   "cell_type": "code",
   "execution_count": 270,
   "metadata": {},
   "outputs": [
    {
     "data": {
      "text/plain": [
       "0.9452534189609622"
      ]
     },
     "execution_count": 270,
     "metadata": {},
     "output_type": "execute_result"
    }
   ],
   "source": [
    "df_films[\"Rate\"].std()"
   ]
  },
  {
   "cell_type": "markdown",
   "metadata": {},
   "source": [
    "### 7.2. Actual Sampling Distribution\n",
    "\n",
    "#### 7.2.1. Creating an Actual Sampling Distribution\n",
    "\n",
    "Create an *actual* sampling distribution of sample mean movie ratings from your population. \n",
    "* Each of your random samples should be of size 40. \n",
    "* This sampling distribution should be comprised of 500 sample means. \n",
    "* This sampling distribution should be in the form of a dataframe."
   ]
  },
  {
   "cell_type": "code",
   "execution_count": 229,
   "metadata": {},
   "outputs": [
    {
     "data": {
      "text/html": [
       "<div>\n",
       "<style scoped>\n",
       "    .dataframe tbody tr th:only-of-type {\n",
       "        vertical-align: middle;\n",
       "    }\n",
       "\n",
       "    .dataframe tbody tr th {\n",
       "        vertical-align: top;\n",
       "    }\n",
       "\n",
       "    .dataframe thead th {\n",
       "        text-align: right;\n",
       "    }\n",
       "</style>\n",
       "<table border=\"1\" class=\"dataframe\">\n",
       "  <thead>\n",
       "    <tr style=\"text-align: right;\">\n",
       "      <th></th>\n",
       "      <th>0</th>\n",
       "    </tr>\n",
       "  </thead>\n",
       "  <tbody>\n",
       "    <tr>\n",
       "      <th>0</th>\n",
       "      <td>6.4525</td>\n",
       "    </tr>\n",
       "    <tr>\n",
       "      <th>1</th>\n",
       "      <td>6.7250</td>\n",
       "    </tr>\n",
       "    <tr>\n",
       "      <th>2</th>\n",
       "      <td>6.5050</td>\n",
       "    </tr>\n",
       "    <tr>\n",
       "      <th>3</th>\n",
       "      <td>6.5700</td>\n",
       "    </tr>\n",
       "    <tr>\n",
       "      <th>4</th>\n",
       "      <td>6.5125</td>\n",
       "    </tr>\n",
       "    <tr>\n",
       "      <th>...</th>\n",
       "      <td>...</td>\n",
       "    </tr>\n",
       "    <tr>\n",
       "      <th>495</th>\n",
       "      <td>6.5750</td>\n",
       "    </tr>\n",
       "    <tr>\n",
       "      <th>496</th>\n",
       "      <td>6.5475</td>\n",
       "    </tr>\n",
       "    <tr>\n",
       "      <th>497</th>\n",
       "      <td>6.8400</td>\n",
       "    </tr>\n",
       "    <tr>\n",
       "      <th>498</th>\n",
       "      <td>6.5400</td>\n",
       "    </tr>\n",
       "    <tr>\n",
       "      <th>499</th>\n",
       "      <td>6.4225</td>\n",
       "    </tr>\n",
       "  </tbody>\n",
       "</table>\n",
       "<p>500 rows × 1 columns</p>\n",
       "</div>"
      ],
      "text/plain": [
       "          0\n",
       "0    6.4525\n",
       "1    6.7250\n",
       "2    6.5050\n",
       "3    6.5700\n",
       "4    6.5125\n",
       "..      ...\n",
       "495  6.5750\n",
       "496  6.5475\n",
       "497  6.8400\n",
       "498  6.5400\n",
       "499  6.4225\n",
       "\n",
       "[500 rows x 1 columns]"
      ]
     },
     "execution_count": 229,
     "metadata": {},
     "output_type": "execute_result"
    }
   ],
   "source": [
    "sample_data = []\n",
    "for i in range(500):\n",
    "    film_sample_distribution = df_films.sample(40, replace=False)\n",
    "    sample_data.append(film_sample_distribution[\"Rate\"].mean())\n",
    "df_film_sample_distribution = pd.DataFrame(sample_data)\n",
    "df_film_sample_distribution"
   ]
  },
  {
   "cell_type": "markdown",
   "metadata": {},
   "source": [
    "#### 7.2.2. Sampling Distribution Mean and Standard Deviation\n",
    "\n",
    "Calculate the mean and standard deviation of this *actual* sampling distribution that you created in 7.2.1."
   ]
  },
  {
   "cell_type": "code",
   "execution_count": 230,
   "metadata": {},
   "outputs": [
    {
     "data": {
      "text/plain": [
       "6.617700000000009"
      ]
     },
     "execution_count": 230,
     "metadata": {},
     "output_type": "execute_result"
    }
   ],
   "source": [
    "sample_distribution_mean = df_film_sample_distribution[0].mean()\n",
    "sample_distribution_mean"
   ]
  },
  {
   "cell_type": "code",
   "execution_count": 231,
   "metadata": {},
   "outputs": [
    {
     "data": {
      "text/plain": [
       "0.15052117208716184"
      ]
     },
     "execution_count": 231,
     "metadata": {},
     "output_type": "execute_result"
    }
   ],
   "source": [
    "sample_distribution_std = df_film_sample_distribution[0].std()\n",
    "sample_distribution_std"
   ]
  },
  {
   "cell_type": "markdown",
   "metadata": {},
   "source": [
    "## 8. Adding One More Movie\n",
    "\n",
    "Finally, let's create a **new** movies dataframe that has added one more movie to it, specifically this one below.\n",
    "\n",
    "* 'Name': 'Charlie the Unicorn'\n",
    "* 'Date': 2008\n",
    "* 'Rate': 9.10\n",
    "* 'Genre': 'Terrific'\n",
    "* 'Duration': 5.71\n",
    "* 'Type': 'Film'\n",
    "* 'Certificate': 'R'\n",
    "* 'Nudity': 'None'\n",
    "* 'Violence': 'Severe'\n",
    "* 'Profanity': 'Quite High'\n",
    "* 'Alcohol': 'None'\n",
    "* 'Frightening': 'Severe' \n",
    "\n",
    "Show this new dataframe below."
   ]
  },
  {
   "cell_type": "code",
   "execution_count": 234,
   "metadata": {},
   "outputs": [
    {
     "name": "stderr",
     "output_type": "stream",
     "text": [
      "/var/folders/cq/6tc94x2n2sv3_73k9hymp3fm0000gn/T/ipykernel_3334/1893031404.py:1: FutureWarning: The frame.append method is deprecated and will be removed from pandas in a future version. Use pandas.concat instead.\n",
      "  df_new_films = df_films.append({'Name':'Charilie the Unicorn', 'Date':2008, 'Rate':9.1, 'Genre':'Terrific', 'Duration':5.71, 'Type': 'Film', 'Certificate': 'R', 'Nudity': 'None', 'Violence': 'Severe', 'Profanity': 'Quite High', 'Alcohol': 'None', 'Frightening': 'Severe'}, ignore_index=True)\n"
     ]
    },
    {
     "data": {
      "text/html": [
       "<div>\n",
       "<style scoped>\n",
       "    .dataframe tbody tr th:only-of-type {\n",
       "        vertical-align: middle;\n",
       "    }\n",
       "\n",
       "    .dataframe tbody tr th {\n",
       "        vertical-align: top;\n",
       "    }\n",
       "\n",
       "    .dataframe thead th {\n",
       "        text-align: right;\n",
       "    }\n",
       "</style>\n",
       "<table border=\"1\" class=\"dataframe\">\n",
       "  <thead>\n",
       "    <tr style=\"text-align: right;\">\n",
       "      <th></th>\n",
       "      <th>Name</th>\n",
       "      <th>Date</th>\n",
       "      <th>Rate</th>\n",
       "      <th>Genre</th>\n",
       "      <th>Duration</th>\n",
       "      <th>Type</th>\n",
       "      <th>Certificate</th>\n",
       "      <th>Nudity</th>\n",
       "      <th>Violence</th>\n",
       "      <th>Profanity</th>\n",
       "      <th>Alcohol</th>\n",
       "      <th>Frightening</th>\n",
       "    </tr>\n",
       "  </thead>\n",
       "  <tbody>\n",
       "    <tr>\n",
       "      <th>0</th>\n",
       "      <td>No Time to Die</td>\n",
       "      <td>2021</td>\n",
       "      <td>7.6</td>\n",
       "      <td>Action</td>\n",
       "      <td>163.00</td>\n",
       "      <td>Film</td>\n",
       "      <td>PG-13</td>\n",
       "      <td>Mild</td>\n",
       "      <td>Moderate</td>\n",
       "      <td>Mild</td>\n",
       "      <td>Mild</td>\n",
       "      <td>Moderate</td>\n",
       "    </tr>\n",
       "    <tr>\n",
       "      <th>1</th>\n",
       "      <td>The Guilty</td>\n",
       "      <td>2021</td>\n",
       "      <td>6.3</td>\n",
       "      <td>Crime</td>\n",
       "      <td>90.00</td>\n",
       "      <td>Film</td>\n",
       "      <td>R</td>\n",
       "      <td>None</td>\n",
       "      <td>None</td>\n",
       "      <td>Severe</td>\n",
       "      <td>None</td>\n",
       "      <td>Moderate</td>\n",
       "    </tr>\n",
       "    <tr>\n",
       "      <th>2</th>\n",
       "      <td>The Many Saints of Newark</td>\n",
       "      <td>2021</td>\n",
       "      <td>6.4</td>\n",
       "      <td>Crime</td>\n",
       "      <td>120.00</td>\n",
       "      <td>Film</td>\n",
       "      <td>R</td>\n",
       "      <td>Moderate</td>\n",
       "      <td>Severe</td>\n",
       "      <td>Severe</td>\n",
       "      <td>Moderate</td>\n",
       "      <td>Moderate</td>\n",
       "    </tr>\n",
       "    <tr>\n",
       "      <th>3</th>\n",
       "      <td>Venom: Let There Be Carnage</td>\n",
       "      <td>2021</td>\n",
       "      <td>6.4</td>\n",
       "      <td>Action</td>\n",
       "      <td>97.00</td>\n",
       "      <td>Film</td>\n",
       "      <td>PG-13</td>\n",
       "      <td>None</td>\n",
       "      <td>Moderate</td>\n",
       "      <td>Moderate</td>\n",
       "      <td>Mild</td>\n",
       "      <td>Moderate</td>\n",
       "    </tr>\n",
       "    <tr>\n",
       "      <th>4</th>\n",
       "      <td>Dune</td>\n",
       "      <td>2021</td>\n",
       "      <td>8.3</td>\n",
       "      <td>Action</td>\n",
       "      <td>155.00</td>\n",
       "      <td>Film</td>\n",
       "      <td>PG-13</td>\n",
       "      <td>None</td>\n",
       "      <td>Moderate</td>\n",
       "      <td>None</td>\n",
       "      <td>Mild</td>\n",
       "      <td>Moderate</td>\n",
       "    </tr>\n",
       "    <tr>\n",
       "      <th>...</th>\n",
       "      <td>...</td>\n",
       "      <td>...</td>\n",
       "      <td>...</td>\n",
       "      <td>...</td>\n",
       "      <td>...</td>\n",
       "      <td>...</td>\n",
       "      <td>...</td>\n",
       "      <td>...</td>\n",
       "      <td>...</td>\n",
       "      <td>...</td>\n",
       "      <td>...</td>\n",
       "      <td>...</td>\n",
       "    </tr>\n",
       "    <tr>\n",
       "      <th>2851</th>\n",
       "      <td>How High</td>\n",
       "      <td>2001</td>\n",
       "      <td>6.3</td>\n",
       "      <td>Comedy</td>\n",
       "      <td>93.00</td>\n",
       "      <td>Film</td>\n",
       "      <td>R</td>\n",
       "      <td>Moderate</td>\n",
       "      <td>Mild</td>\n",
       "      <td>Severe</td>\n",
       "      <td>Severe</td>\n",
       "      <td>None</td>\n",
       "    </tr>\n",
       "    <tr>\n",
       "      <th>2852</th>\n",
       "      <td>Before the Devil Knows You're Dead</td>\n",
       "      <td>2007</td>\n",
       "      <td>7.3</td>\n",
       "      <td>Crime</td>\n",
       "      <td>117.00</td>\n",
       "      <td>Film</td>\n",
       "      <td>R</td>\n",
       "      <td>Severe</td>\n",
       "      <td>Moderate</td>\n",
       "      <td>Severe</td>\n",
       "      <td>Severe</td>\n",
       "      <td>Severe</td>\n",
       "    </tr>\n",
       "    <tr>\n",
       "      <th>2853</th>\n",
       "      <td>Queen Bees</td>\n",
       "      <td>2021</td>\n",
       "      <td>6.0</td>\n",
       "      <td>Comedy</td>\n",
       "      <td>100.00</td>\n",
       "      <td>Film</td>\n",
       "      <td>PG-13</td>\n",
       "      <td>None</td>\n",
       "      <td>None</td>\n",
       "      <td>Mild</td>\n",
       "      <td>Moderate</td>\n",
       "      <td>None</td>\n",
       "    </tr>\n",
       "    <tr>\n",
       "      <th>2854</th>\n",
       "      <td>Death Race</td>\n",
       "      <td>2008</td>\n",
       "      <td>6.3</td>\n",
       "      <td>Action</td>\n",
       "      <td>105.00</td>\n",
       "      <td>Film</td>\n",
       "      <td>R</td>\n",
       "      <td>Mild</td>\n",
       "      <td>Severe</td>\n",
       "      <td>Severe</td>\n",
       "      <td>Mild</td>\n",
       "      <td>Moderate</td>\n",
       "    </tr>\n",
       "    <tr>\n",
       "      <th>2855</th>\n",
       "      <td>Charilie the Unicorn</td>\n",
       "      <td>2008</td>\n",
       "      <td>9.1</td>\n",
       "      <td>Terrific</td>\n",
       "      <td>5.71</td>\n",
       "      <td>Film</td>\n",
       "      <td>R</td>\n",
       "      <td>None</td>\n",
       "      <td>Severe</td>\n",
       "      <td>Quite High</td>\n",
       "      <td>None</td>\n",
       "      <td>Severe</td>\n",
       "    </tr>\n",
       "  </tbody>\n",
       "</table>\n",
       "<p>2856 rows × 12 columns</p>\n",
       "</div>"
      ],
      "text/plain": [
       "                                    Name  Date  Rate     Genre  Duration  \\\n",
       "0                         No Time to Die  2021   7.6    Action    163.00   \n",
       "1                             The Guilty  2021   6.3     Crime     90.00   \n",
       "2              The Many Saints of Newark  2021   6.4     Crime    120.00   \n",
       "3            Venom: Let There Be Carnage  2021   6.4    Action     97.00   \n",
       "4                                   Dune  2021   8.3    Action    155.00   \n",
       "...                                  ...   ...   ...       ...       ...   \n",
       "2851                            How High  2001   6.3    Comedy     93.00   \n",
       "2852  Before the Devil Knows You're Dead  2007   7.3     Crime    117.00   \n",
       "2853                          Queen Bees  2021   6.0    Comedy    100.00   \n",
       "2854                          Death Race  2008   6.3    Action    105.00   \n",
       "2855                Charilie the Unicorn  2008   9.1  Terrific      5.71   \n",
       "\n",
       "      Type Certificate    Nudity  Violence   Profanity   Alcohol Frightening  \n",
       "0     Film       PG-13      Mild  Moderate        Mild      Mild    Moderate  \n",
       "1     Film           R      None      None      Severe      None    Moderate  \n",
       "2     Film           R  Moderate    Severe      Severe  Moderate    Moderate  \n",
       "3     Film       PG-13      None  Moderate    Moderate      Mild    Moderate  \n",
       "4     Film       PG-13      None  Moderate        None      Mild    Moderate  \n",
       "...    ...         ...       ...       ...         ...       ...         ...  \n",
       "2851  Film           R  Moderate      Mild      Severe    Severe        None  \n",
       "2852  Film           R    Severe  Moderate      Severe    Severe      Severe  \n",
       "2853  Film       PG-13      None      None        Mild  Moderate        None  \n",
       "2854  Film           R      Mild    Severe      Severe      Mild    Moderate  \n",
       "2855  Film           R      None    Severe  Quite High      None      Severe  \n",
       "\n",
       "[2856 rows x 12 columns]"
      ]
     },
     "execution_count": 234,
     "metadata": {},
     "output_type": "execute_result"
    }
   ],
   "source": [
    "df_new_films = df_films.append({'Name':'Charilie the Unicorn', 'Date':2008, 'Rate':9.1, 'Genre':'Terrific', 'Duration':5.71, 'Type': 'Film', 'Certificate': 'R', 'Nudity': 'None', 'Violence': 'Severe', 'Profanity': 'Quite High', 'Alcohol': 'None', 'Frightening': 'Severe'}, ignore_index=True)\n",
    "df_new_films"
   ]
  },
  {
   "cell_type": "markdown",
   "metadata": {},
   "source": [
    "## <u>Case Study 2</u>: Practice with Normal Random Variables\n",
    "\n",
    "### 9.1. Finding $\\sigma$ in a Normal Distribution\n",
    "\n",
    "Suppose that the distribution of final class grades is normally distributed with a mean grade of 89. You got 93 in the class and your grade was in the top 10%. What is the standard deviation of the class grades?"
   ]
  },
  {
   "cell_type": "code",
   "execution_count": 244,
   "metadata": {},
   "outputs": [
    {
     "data": {
      "text/plain": [
       "4.216370213557839"
      ]
     },
     "execution_count": 244,
     "metadata": {},
     "output_type": "execute_result"
    }
   ],
   "source": [
    "c_mean = 89;\n",
    "std = 93 - c_mean\n",
    "std = std * std\n",
    "std = std/.9\n",
    "std = np.sqrt(std) \n",
    "std"
   ]
  },
  {
   "cell_type": "code",
   "execution_count": 256,
   "metadata": {},
   "outputs": [
    {
     "data": {
      "text/plain": [
       "1.2815515655446004"
      ]
     },
     "execution_count": 256,
     "metadata": {},
     "output_type": "execute_result"
    }
   ],
   "source": [
    "norm.ppf(.9)"
   ]
  },
  {
   "cell_type": "markdown",
   "metadata": {},
   "source": [
    "### 9.2. Normal Probabilities\n",
    "\n",
    "What is the probability that a randomly selected student grade from this class will be between 75 to 80. \n",
    "\n",
    "*Use the value of $\\sigma$ that you found in 9.1. If you were stumped from 9.1, you can make up a value of $\\sigma$ to proceed with 9.2.*."
   ]
  },
  {
   "cell_type": "code",
   "execution_count": 251,
   "metadata": {},
   "outputs": [
    {
     "data": {
      "text/plain": [
       "0.00044945639405704485"
      ]
     },
     "execution_count": 251,
     "metadata": {},
     "output_type": "execute_result"
    }
   ],
   "source": [
    "p75 = norm.cdf(75, loc = c_mean, scale = std)\n",
    "p75"
   ]
  },
  {
   "cell_type": "code",
   "execution_count": 252,
   "metadata": {},
   "outputs": [
    {
     "data": {
      "text/plain": [
       "0.016399406932772816"
      ]
     },
     "execution_count": 252,
     "metadata": {},
     "output_type": "execute_result"
    }
   ],
   "source": [
    "p80 = norm.cdf(80, loc = c_mean, scale = std)\n",
    "p80"
   ]
  },
  {
   "cell_type": "code",
   "execution_count": 253,
   "metadata": {},
   "outputs": [
    {
     "name": "stdout",
     "output_type": "stream",
     "text": [
      "0.01594995053871577\n"
     ]
    }
   ],
   "source": [
    "print(p80-p75)"
   ]
  },
  {
   "cell_type": "markdown",
   "metadata": {},
   "source": [
    "## 🎉🎉🎉Enjoy the weekend! 🎉🎉🎉"
   ]
  }
 ],
 "metadata": {
  "kernelspec": {
   "display_name": "Python 3 (ipykernel)",
   "language": "python",
   "name": "python3"
  },
  "language_info": {
   "codemirror_mode": {
    "name": "ipython",
    "version": 3
   },
   "file_extension": ".py",
   "mimetype": "text/x-python",
   "name": "python",
   "nbconvert_exporter": "python",
   "pygments_lexer": "ipython3",
   "version": "3.9.12"
  }
 },
 "nbformat": 4,
 "nbformat_minor": 4
}
