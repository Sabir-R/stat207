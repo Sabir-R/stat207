{
 "cells": [
  {
   "cell_type": "markdown",
   "metadata": {},
   "source": [
    "# Final Exam Review - Part 1 - Solutions\n",
    "\n",
    "The **final exam will be cumulative**, however the purpose of *this document* is to help review the material that was not covered in any of the lab assignments that is more applied.\n",
    "\n",
    "To review for this *cumulative exam*, I would suggest reviewing:\n",
    "* these practice problems (*I would strongly suggest working through these practice problems yourself before looking at the solutions*)\n",
    "* the lab assignments\n",
    "* the lecture notes\n",
    "* previous exams\n",
    "\n",
    "## <u>Case Study</u>: U.K. Smoker's Dataset\n",
    "\n",
    "In this part 1 of our final exam review, let's return to our U.K. smoking dataset.\n",
    "\n",
    "This dataset is comprised of a random sample of 421 smokers that live in the U.K.\n",
    "\n",
    "The dataset contains information about the smokers including their:\n",
    "* sex\n",
    "* age\n",
    "* marital status\n",
    "* highest qualification\n",
    "* nationality\n",
    "* gross income\n",
    "* region of the U.K. that live in.\n",
    "\n",
    "The dataset also contains information about the habits of each of the smokers including:\n",
    "* the amount of cigarettes that they smoke on the weekends\n",
    "* the amount of cigarettes that they smoke on the weekdays\n",
    "* the type of cigarettes that they smoke.\n",
    "\n",
    "### Research Goals\n",
    "\n",
    "In this analysis we have the following research goals.\n",
    "1. <u>**Predictive Analytics**</u>: Build a classifier model that will be able to effectively classify whether or not a U.K. smoker smokes 'Packets' for **new datasets** (ie. not the observations in this dataset in which we know whether or not the person smokes packets).\n",
    "2. <u>**Inferential Statistics**</u>: Use our selected logistic regression model to learn more about the relationship between whether or not a UK smoker smokes packets and various other demographic information.\n",
    "\n",
    "\n"
   ]
  },
  {
   "cell_type": "code",
   "execution_count": 1,
   "metadata": {},
   "outputs": [],
   "source": [
    "import pandas as pd\n",
    "import numpy as np\n",
    "import seaborn as sns\n",
    "import matplotlib.pyplot as plt\n",
    "\n",
    "from scipy.stats import t, norm, f\n",
    "\n",
    "import statsmodels.api as sm\n",
    "import statsmodels.formula.api as smf\n",
    "\n",
    "from sklearn.linear_model import LogisticRegression"
   ]
  },
  {
   "cell_type": "markdown",
   "metadata": {},
   "source": [
    "## 1. Data Processing and Cleaning\n",
    "\n",
    "First, let's load, clean, and transform our dataset."
   ]
  },
  {
   "cell_type": "markdown",
   "metadata": {},
   "source": [
    "### 1.1. Loading Data\n",
    "\n",
    "Read the smoking.csv file into a dataframe."
   ]
  },
  {
   "cell_type": "code",
   "execution_count": 2,
   "metadata": {},
   "outputs": [
    {
     "data": {
      "text/html": [
       "<div>\n",
       "<style scoped>\n",
       "    .dataframe tbody tr th:only-of-type {\n",
       "        vertical-align: middle;\n",
       "    }\n",
       "\n",
       "    .dataframe tbody tr th {\n",
       "        vertical-align: top;\n",
       "    }\n",
       "\n",
       "    .dataframe thead th {\n",
       "        text-align: right;\n",
       "    }\n",
       "</style>\n",
       "<table border=\"1\" class=\"dataframe\">\n",
       "  <thead>\n",
       "    <tr style=\"text-align: right;\">\n",
       "      <th></th>\n",
       "      <th>sex</th>\n",
       "      <th>age</th>\n",
       "      <th>marital_status</th>\n",
       "      <th>highest_qualification</th>\n",
       "      <th>nationality</th>\n",
       "      <th>gross_income</th>\n",
       "      <th>region</th>\n",
       "      <th>smoke</th>\n",
       "      <th>amt_weekends</th>\n",
       "      <th>amt_weekdays</th>\n",
       "      <th>type</th>\n",
       "    </tr>\n",
       "  </thead>\n",
       "  <tbody>\n",
       "    <tr>\n",
       "      <th>0</th>\n",
       "      <td>Female</td>\n",
       "      <td>42</td>\n",
       "      <td>Single</td>\n",
       "      <td>No Qualification</td>\n",
       "      <td>British</td>\n",
       "      <td>Under 2,600</td>\n",
       "      <td>The North</td>\n",
       "      <td>Yes</td>\n",
       "      <td>12</td>\n",
       "      <td>12</td>\n",
       "      <td>Packets</td>\n",
       "    </tr>\n",
       "    <tr>\n",
       "      <th>1</th>\n",
       "      <td>Male</td>\n",
       "      <td>53</td>\n",
       "      <td>Married</td>\n",
       "      <td>Degree</td>\n",
       "      <td>British</td>\n",
       "      <td>Above 36,400</td>\n",
       "      <td>The North</td>\n",
       "      <td>Yes</td>\n",
       "      <td>6</td>\n",
       "      <td>6</td>\n",
       "      <td>Packets</td>\n",
       "    </tr>\n",
       "    <tr>\n",
       "      <th>2</th>\n",
       "      <td>Male</td>\n",
       "      <td>40</td>\n",
       "      <td>Single</td>\n",
       "      <td>GCSE/CSE</td>\n",
       "      <td>English</td>\n",
       "      <td>2,600 to 5,200</td>\n",
       "      <td>The North</td>\n",
       "      <td>Yes</td>\n",
       "      <td>8</td>\n",
       "      <td>8</td>\n",
       "      <td>Hand-Rolled</td>\n",
       "    </tr>\n",
       "    <tr>\n",
       "      <th>3</th>\n",
       "      <td>Female</td>\n",
       "      <td>41</td>\n",
       "      <td>Married</td>\n",
       "      <td>No Qualification</td>\n",
       "      <td>English</td>\n",
       "      <td>5,200 to 10,400</td>\n",
       "      <td>The North</td>\n",
       "      <td>Yes</td>\n",
       "      <td>15</td>\n",
       "      <td>12</td>\n",
       "      <td>Packets</td>\n",
       "    </tr>\n",
       "    <tr>\n",
       "      <th>4</th>\n",
       "      <td>Female</td>\n",
       "      <td>34</td>\n",
       "      <td>Married</td>\n",
       "      <td>GCSE/CSE</td>\n",
       "      <td>British</td>\n",
       "      <td>2,600 to 5,200</td>\n",
       "      <td>The North</td>\n",
       "      <td>Yes</td>\n",
       "      <td>6</td>\n",
       "      <td>12</td>\n",
       "      <td>Packets</td>\n",
       "    </tr>\n",
       "  </tbody>\n",
       "</table>\n",
       "</div>"
      ],
      "text/plain": [
       "      sex  age marital_status highest_qualification nationality  \\\n",
       "0  Female   42         Single      No Qualification     British   \n",
       "1    Male   53        Married                Degree     British   \n",
       "2    Male   40         Single              GCSE/CSE     English   \n",
       "3  Female   41        Married      No Qualification     English   \n",
       "4  Female   34        Married              GCSE/CSE     British   \n",
       "\n",
       "      gross_income     region smoke  amt_weekends  amt_weekdays         type  \n",
       "0      Under 2,600  The North   Yes            12            12      Packets  \n",
       "1     Above 36,400  The North   Yes             6             6      Packets  \n",
       "2   2,600 to 5,200  The North   Yes             8             8  Hand-Rolled  \n",
       "3  5,200 to 10,400  The North   Yes            15            12      Packets  \n",
       "4   2,600 to 5,200  The North   Yes             6            12      Packets  "
      ]
     },
     "execution_count": 2,
     "metadata": {},
     "output_type": "execute_result"
    }
   ],
   "source": [
    "df=pd.read_csv('smoking.csv')\n",
    "df.head()"
   ]
  },
  {
   "cell_type": "markdown",
   "metadata": {},
   "source": [
    "### 1.2. Missing Value Checking\n",
    "\n",
    "Does this dataset contain any missing values?"
   ]
  },
  {
   "cell_type": "markdown",
   "metadata": {},
   "source": [
    "First we check the data types of each of the variables."
   ]
  },
  {
   "cell_type": "code",
   "execution_count": 3,
   "metadata": {},
   "outputs": [
    {
     "data": {
      "text/plain": [
       "sex                      object\n",
       "age                       int64\n",
       "marital_status           object\n",
       "highest_qualification    object\n",
       "nationality              object\n",
       "gross_income             object\n",
       "region                   object\n",
       "smoke                    object\n",
       "amt_weekends              int64\n",
       "amt_weekdays              int64\n",
       "type                     object\n",
       "dtype: object"
      ]
     },
     "execution_count": 3,
     "metadata": {},
     "output_type": "execute_result"
    }
   ],
   "source": [
    "df.dtypes"
   ]
  },
  {
   "cell_type": "markdown",
   "metadata": {},
   "source": [
    "It look slike all of the intended numerical variables are represented as an int64 (or float64). Thus all of the values in these columns are read as numerical values and not string values. This indicates that there are no string values in these numerical columns that are used to represent a missing value (other than these values which are automatically converted to NaN: #N/A’, ‘#N/A N/A’, ‘#NA’, ‘-1.#IND’, ‘-1.#QNAN’, ‘-NaN’, ‘-nan’, ‘1.#IND’, ‘1.#QNAN’, ‘<NA>’, ‘N/A’, ‘NA’, ‘NULL’, ‘NaN’, ‘n/a’, ‘nan’, ‘null’.)\n",
    "    \n",
    "Let's inspect the categorical variables as well by looking at the unique values."
   ]
  },
  {
   "cell_type": "code",
   "execution_count": 4,
   "metadata": {},
   "outputs": [
    {
     "name": "stdout",
     "output_type": "stream",
     "text": [
      "Unique values for the sex column.\n",
      "['Female' 'Male']\n",
      "\n",
      "Unique values for the marital_status column.\n",
      "['Single' 'Married' 'Divorced' 'Widowed' 'Separated']\n",
      "\n",
      "Unique values for the highest_qualification column.\n",
      "['No Qualification' 'Degree' 'GCSE/CSE' 'GCSE/O Level' 'Other/Sub Degree'\n",
      " 'A Levels' 'ONC/BTEC' 'Higher/Sub Degree']\n",
      "\n",
      "Unique values for the nationality column.\n",
      "['British' 'English' 'Welsh' 'Irish' 'Scottish' 'Other' 'Unknown'\n",
      " 'Refused']\n",
      "\n",
      "Unique values for the gross_income column.\n",
      "['Under 2,600' 'Above 36,400' '2,600 to 5,200' '5,200 to 10,400' 'Refused'\n",
      " '15,600 to 20,800' '20,800 to 28,600' '10,400 to 15,600'\n",
      " '28,600 to 36,400' 'Unknown']\n",
      "\n",
      "Unique values for the region column.\n",
      "['The North' 'Midlands & East Anglia' 'London' 'South East' 'South West'\n",
      " 'Wales' 'Scotland']\n",
      "\n",
      "Unique values for the smoke column.\n",
      "['Yes']\n",
      "\n",
      "Unique values for the type column.\n",
      "['Packets' 'Hand-Rolled' 'Both/Mainly Packets' 'Both/Mainly Hand-Rolled']\n",
      "\n"
     ]
    }
   ],
   "source": [
    "for col in ['sex', 'marital_status', 'highest_qualification', 'nationality', 'gross_income', 'region', 'smoke', 'type']:\n",
    "    print('Unique values for the '+col+' column.')\n",
    "    print(df[col].unique())\n",
    "    print()"
   ]
  },
  {
   "cell_type": "markdown",
   "metadata": {},
   "source": [
    "While we see that some of these categorical variables have a 'Unknown' value, we'd like to keep these values. Finally, let's check to make sure that there are no NaN values in all of our columns."
   ]
  },
  {
   "cell_type": "code",
   "execution_count": 5,
   "metadata": {},
   "outputs": [
    {
     "data": {
      "text/plain": [
       "sex                      0\n",
       "age                      0\n",
       "marital_status           0\n",
       "highest_qualification    0\n",
       "nationality              0\n",
       "gross_income             0\n",
       "region                   0\n",
       "smoke                    0\n",
       "amt_weekends             0\n",
       "amt_weekdays             0\n",
       "type                     0\n",
       "dtype: int64"
      ]
     },
     "execution_count": 5,
     "metadata": {},
     "output_type": "execute_result"
    }
   ],
   "source": [
    "df.isna().sum()"
   ]
  },
  {
   "cell_type": "markdown",
   "metadata": {},
   "source": [
    "There are no NaN values in any of our columns. Thus, (as long as we don't consider 'Unknown' to be a 'missing value', this dataset does not contain any missing values."
   ]
  },
  {
   "cell_type": "markdown",
   "metadata": {},
   "source": [
    "### 1.3. Packets or Not Packets\n",
    "\n",
    "Create a new variable y in your dataframe that is equal to a 1 if the type of cigarette smoked is 'Packets' and 0 otherwise."
   ]
  },
  {
   "cell_type": "code",
   "execution_count": 6,
   "metadata": {},
   "outputs": [
    {
     "data": {
      "text/html": [
       "<div>\n",
       "<style scoped>\n",
       "    .dataframe tbody tr th:only-of-type {\n",
       "        vertical-align: middle;\n",
       "    }\n",
       "\n",
       "    .dataframe tbody tr th {\n",
       "        vertical-align: top;\n",
       "    }\n",
       "\n",
       "    .dataframe thead th {\n",
       "        text-align: right;\n",
       "    }\n",
       "</style>\n",
       "<table border=\"1\" class=\"dataframe\">\n",
       "  <thead>\n",
       "    <tr style=\"text-align: right;\">\n",
       "      <th></th>\n",
       "      <th>sex</th>\n",
       "      <th>age</th>\n",
       "      <th>marital_status</th>\n",
       "      <th>highest_qualification</th>\n",
       "      <th>nationality</th>\n",
       "      <th>gross_income</th>\n",
       "      <th>region</th>\n",
       "      <th>smoke</th>\n",
       "      <th>amt_weekends</th>\n",
       "      <th>amt_weekdays</th>\n",
       "      <th>type</th>\n",
       "      <th>y</th>\n",
       "    </tr>\n",
       "  </thead>\n",
       "  <tbody>\n",
       "    <tr>\n",
       "      <th>0</th>\n",
       "      <td>Female</td>\n",
       "      <td>42</td>\n",
       "      <td>Single</td>\n",
       "      <td>No Qualification</td>\n",
       "      <td>British</td>\n",
       "      <td>Under 2,600</td>\n",
       "      <td>The North</td>\n",
       "      <td>Yes</td>\n",
       "      <td>12</td>\n",
       "      <td>12</td>\n",
       "      <td>Packets</td>\n",
       "      <td>1</td>\n",
       "    </tr>\n",
       "    <tr>\n",
       "      <th>1</th>\n",
       "      <td>Male</td>\n",
       "      <td>53</td>\n",
       "      <td>Married</td>\n",
       "      <td>Degree</td>\n",
       "      <td>British</td>\n",
       "      <td>Above 36,400</td>\n",
       "      <td>The North</td>\n",
       "      <td>Yes</td>\n",
       "      <td>6</td>\n",
       "      <td>6</td>\n",
       "      <td>Packets</td>\n",
       "      <td>1</td>\n",
       "    </tr>\n",
       "    <tr>\n",
       "      <th>2</th>\n",
       "      <td>Male</td>\n",
       "      <td>40</td>\n",
       "      <td>Single</td>\n",
       "      <td>GCSE/CSE</td>\n",
       "      <td>English</td>\n",
       "      <td>2,600 to 5,200</td>\n",
       "      <td>The North</td>\n",
       "      <td>Yes</td>\n",
       "      <td>8</td>\n",
       "      <td>8</td>\n",
       "      <td>Hand-Rolled</td>\n",
       "      <td>0</td>\n",
       "    </tr>\n",
       "    <tr>\n",
       "      <th>3</th>\n",
       "      <td>Female</td>\n",
       "      <td>41</td>\n",
       "      <td>Married</td>\n",
       "      <td>No Qualification</td>\n",
       "      <td>English</td>\n",
       "      <td>5,200 to 10,400</td>\n",
       "      <td>The North</td>\n",
       "      <td>Yes</td>\n",
       "      <td>15</td>\n",
       "      <td>12</td>\n",
       "      <td>Packets</td>\n",
       "      <td>1</td>\n",
       "    </tr>\n",
       "    <tr>\n",
       "      <th>4</th>\n",
       "      <td>Female</td>\n",
       "      <td>34</td>\n",
       "      <td>Married</td>\n",
       "      <td>GCSE/CSE</td>\n",
       "      <td>British</td>\n",
       "      <td>2,600 to 5,200</td>\n",
       "      <td>The North</td>\n",
       "      <td>Yes</td>\n",
       "      <td>6</td>\n",
       "      <td>12</td>\n",
       "      <td>Packets</td>\n",
       "      <td>1</td>\n",
       "    </tr>\n",
       "  </tbody>\n",
       "</table>\n",
       "</div>"
      ],
      "text/plain": [
       "      sex  age marital_status highest_qualification nationality  \\\n",
       "0  Female   42         Single      No Qualification     British   \n",
       "1    Male   53        Married                Degree     British   \n",
       "2    Male   40         Single              GCSE/CSE     English   \n",
       "3  Female   41        Married      No Qualification     English   \n",
       "4  Female   34        Married              GCSE/CSE     British   \n",
       "\n",
       "      gross_income     region smoke  amt_weekends  amt_weekdays         type  \\\n",
       "0      Under 2,600  The North   Yes            12            12      Packets   \n",
       "1     Above 36,400  The North   Yes             6             6      Packets   \n",
       "2   2,600 to 5,200  The North   Yes             8             8  Hand-Rolled   \n",
       "3  5,200 to 10,400  The North   Yes            15            12      Packets   \n",
       "4   2,600 to 5,200  The North   Yes             6            12      Packets   \n",
       "\n",
       "   y  \n",
       "0  1  \n",
       "1  1  \n",
       "2  0  \n",
       "3  1  \n",
       "4  1  "
      ]
     },
     "execution_count": 6,
     "metadata": {},
     "output_type": "execute_result"
    }
   ],
   "source": [
    "df['y']=1*(df['type']=='Packets')\n",
    "df.head()"
   ]
  },
  {
   "cell_type": "markdown",
   "metadata": {},
   "source": [
    "### 1.4. Training Data and Test Data\n",
    "\n",
    "To help us predict how well our final classifier model will do in classifying packet and non-packet smokers for new datasets, we will randomly split up our dataset into a training dataset and test dataset. We will use our training dataset to train our classifier models, and our test dataset to test our classifier models.\n",
    "\n",
    "Using a random state of 100, create a training dataset that is comprised of a random sample of 80% of the observations in our dataset and a test dataset that is comprised the remaining 20% of observations.\n"
   ]
  },
  {
   "cell_type": "code",
   "execution_count": 7,
   "metadata": {},
   "outputs": [],
   "source": [
    "from sklearn.model_selection import train_test_split\n",
    "\n",
    "df_train, df_test = train_test_split(df, \n",
    "                                   test_size=0.20, \n",
    "                                   random_state=100)"
   ]
  },
  {
   "cell_type": "code",
   "execution_count": 8,
   "metadata": {},
   "outputs": [
    {
     "data": {
      "text/html": [
       "<div>\n",
       "<style scoped>\n",
       "    .dataframe tbody tr th:only-of-type {\n",
       "        vertical-align: middle;\n",
       "    }\n",
       "\n",
       "    .dataframe tbody tr th {\n",
       "        vertical-align: top;\n",
       "    }\n",
       "\n",
       "    .dataframe thead th {\n",
       "        text-align: right;\n",
       "    }\n",
       "</style>\n",
       "<table border=\"1\" class=\"dataframe\">\n",
       "  <thead>\n",
       "    <tr style=\"text-align: right;\">\n",
       "      <th></th>\n",
       "      <th>sex</th>\n",
       "      <th>age</th>\n",
       "      <th>marital_status</th>\n",
       "      <th>highest_qualification</th>\n",
       "      <th>nationality</th>\n",
       "      <th>gross_income</th>\n",
       "      <th>region</th>\n",
       "      <th>smoke</th>\n",
       "      <th>amt_weekends</th>\n",
       "      <th>amt_weekdays</th>\n",
       "      <th>type</th>\n",
       "      <th>y</th>\n",
       "    </tr>\n",
       "  </thead>\n",
       "  <tbody>\n",
       "    <tr>\n",
       "      <th>332</th>\n",
       "      <td>Male</td>\n",
       "      <td>22</td>\n",
       "      <td>Single</td>\n",
       "      <td>GCSE/CSE</td>\n",
       "      <td>English</td>\n",
       "      <td>20,800 to 28,600</td>\n",
       "      <td>South West</td>\n",
       "      <td>Yes</td>\n",
       "      <td>20</td>\n",
       "      <td>5</td>\n",
       "      <td>Packets</td>\n",
       "      <td>1</td>\n",
       "    </tr>\n",
       "    <tr>\n",
       "      <th>248</th>\n",
       "      <td>Female</td>\n",
       "      <td>22</td>\n",
       "      <td>Single</td>\n",
       "      <td>GCSE/CSE</td>\n",
       "      <td>English</td>\n",
       "      <td>10,400 to 15,600</td>\n",
       "      <td>South East</td>\n",
       "      <td>Yes</td>\n",
       "      <td>15</td>\n",
       "      <td>7</td>\n",
       "      <td>Packets</td>\n",
       "      <td>1</td>\n",
       "    </tr>\n",
       "    <tr>\n",
       "      <th>407</th>\n",
       "      <td>Male</td>\n",
       "      <td>52</td>\n",
       "      <td>Single</td>\n",
       "      <td>GCSE/CSE</td>\n",
       "      <td>Irish</td>\n",
       "      <td>15,600 to 20,800</td>\n",
       "      <td>Scotland</td>\n",
       "      <td>Yes</td>\n",
       "      <td>25</td>\n",
       "      <td>20</td>\n",
       "      <td>Both/Mainly Packets</td>\n",
       "      <td>0</td>\n",
       "    </tr>\n",
       "    <tr>\n",
       "      <th>184</th>\n",
       "      <td>Female</td>\n",
       "      <td>55</td>\n",
       "      <td>Married</td>\n",
       "      <td>No Qualification</td>\n",
       "      <td>English</td>\n",
       "      <td>2,600 to 5,200</td>\n",
       "      <td>Midlands &amp; East Anglia</td>\n",
       "      <td>Yes</td>\n",
       "      <td>1</td>\n",
       "      <td>0</td>\n",
       "      <td>Packets</td>\n",
       "      <td>1</td>\n",
       "    </tr>\n",
       "    <tr>\n",
       "      <th>69</th>\n",
       "      <td>Female</td>\n",
       "      <td>40</td>\n",
       "      <td>Divorced</td>\n",
       "      <td>GCSE/CSE</td>\n",
       "      <td>English</td>\n",
       "      <td>10,400 to 15,600</td>\n",
       "      <td>The North</td>\n",
       "      <td>Yes</td>\n",
       "      <td>5</td>\n",
       "      <td>0</td>\n",
       "      <td>Packets</td>\n",
       "      <td>1</td>\n",
       "    </tr>\n",
       "    <tr>\n",
       "      <th>...</th>\n",
       "      <td>...</td>\n",
       "      <td>...</td>\n",
       "      <td>...</td>\n",
       "      <td>...</td>\n",
       "      <td>...</td>\n",
       "      <td>...</td>\n",
       "      <td>...</td>\n",
       "      <td>...</td>\n",
       "      <td>...</td>\n",
       "      <td>...</td>\n",
       "      <td>...</td>\n",
       "      <td>...</td>\n",
       "    </tr>\n",
       "    <tr>\n",
       "      <th>343</th>\n",
       "      <td>Female</td>\n",
       "      <td>34</td>\n",
       "      <td>Single</td>\n",
       "      <td>GCSE/O Level</td>\n",
       "      <td>English</td>\n",
       "      <td>5,200 to 10,400</td>\n",
       "      <td>South West</td>\n",
       "      <td>Yes</td>\n",
       "      <td>20</td>\n",
       "      <td>20</td>\n",
       "      <td>Hand-Rolled</td>\n",
       "      <td>0</td>\n",
       "    </tr>\n",
       "    <tr>\n",
       "      <th>359</th>\n",
       "      <td>Female</td>\n",
       "      <td>52</td>\n",
       "      <td>Divorced</td>\n",
       "      <td>No Qualification</td>\n",
       "      <td>Welsh</td>\n",
       "      <td>5,200 to 10,400</td>\n",
       "      <td>Wales</td>\n",
       "      <td>Yes</td>\n",
       "      <td>5</td>\n",
       "      <td>5</td>\n",
       "      <td>Packets</td>\n",
       "      <td>1</td>\n",
       "    </tr>\n",
       "    <tr>\n",
       "      <th>323</th>\n",
       "      <td>Male</td>\n",
       "      <td>42</td>\n",
       "      <td>Married</td>\n",
       "      <td>Higher/Sub Degree</td>\n",
       "      <td>English</td>\n",
       "      <td>20,800 to 28,600</td>\n",
       "      <td>South West</td>\n",
       "      <td>Yes</td>\n",
       "      <td>12</td>\n",
       "      <td>0</td>\n",
       "      <td>Packets</td>\n",
       "      <td>1</td>\n",
       "    </tr>\n",
       "    <tr>\n",
       "      <th>280</th>\n",
       "      <td>Female</td>\n",
       "      <td>33</td>\n",
       "      <td>Single</td>\n",
       "      <td>Degree</td>\n",
       "      <td>English</td>\n",
       "      <td>15,600 to 20,800</td>\n",
       "      <td>South East</td>\n",
       "      <td>Yes</td>\n",
       "      <td>10</td>\n",
       "      <td>6</td>\n",
       "      <td>Both/Mainly Packets</td>\n",
       "      <td>0</td>\n",
       "    </tr>\n",
       "    <tr>\n",
       "      <th>8</th>\n",
       "      <td>Female</td>\n",
       "      <td>42</td>\n",
       "      <td>Married</td>\n",
       "      <td>GCSE/O Level</td>\n",
       "      <td>British</td>\n",
       "      <td>Refused</td>\n",
       "      <td>The North</td>\n",
       "      <td>Yes</td>\n",
       "      <td>40</td>\n",
       "      <td>15</td>\n",
       "      <td>Packets</td>\n",
       "      <td>1</td>\n",
       "    </tr>\n",
       "  </tbody>\n",
       "</table>\n",
       "<p>336 rows × 12 columns</p>\n",
       "</div>"
      ],
      "text/plain": [
       "        sex  age marital_status highest_qualification nationality  \\\n",
       "332    Male   22         Single              GCSE/CSE     English   \n",
       "248  Female   22         Single              GCSE/CSE     English   \n",
       "407    Male   52         Single              GCSE/CSE       Irish   \n",
       "184  Female   55        Married      No Qualification     English   \n",
       "69   Female   40       Divorced              GCSE/CSE     English   \n",
       "..      ...  ...            ...                   ...         ...   \n",
       "343  Female   34         Single          GCSE/O Level     English   \n",
       "359  Female   52       Divorced      No Qualification       Welsh   \n",
       "323    Male   42        Married     Higher/Sub Degree     English   \n",
       "280  Female   33         Single                Degree     English   \n",
       "8    Female   42        Married          GCSE/O Level     British   \n",
       "\n",
       "         gross_income                  region smoke  amt_weekends  \\\n",
       "332  20,800 to 28,600              South West   Yes            20   \n",
       "248  10,400 to 15,600              South East   Yes            15   \n",
       "407  15,600 to 20,800                Scotland   Yes            25   \n",
       "184    2,600 to 5,200  Midlands & East Anglia   Yes             1   \n",
       "69   10,400 to 15,600               The North   Yes             5   \n",
       "..                ...                     ...   ...           ...   \n",
       "343   5,200 to 10,400              South West   Yes            20   \n",
       "359   5,200 to 10,400                   Wales   Yes             5   \n",
       "323  20,800 to 28,600              South West   Yes            12   \n",
       "280  15,600 to 20,800              South East   Yes            10   \n",
       "8             Refused               The North   Yes            40   \n",
       "\n",
       "     amt_weekdays                 type  y  \n",
       "332             5              Packets  1  \n",
       "248             7              Packets  1  \n",
       "407            20  Both/Mainly Packets  0  \n",
       "184             0              Packets  1  \n",
       "69              0              Packets  1  \n",
       "..            ...                  ... ..  \n",
       "343            20          Hand-Rolled  0  \n",
       "359             5              Packets  1  \n",
       "323             0              Packets  1  \n",
       "280             6  Both/Mainly Packets  0  \n",
       "8              15              Packets  1  \n",
       "\n",
       "[336 rows x 12 columns]"
      ]
     },
     "execution_count": 8,
     "metadata": {},
     "output_type": "execute_result"
    }
   ],
   "source": [
    "df_train"
   ]
  },
  {
   "cell_type": "code",
   "execution_count": 9,
   "metadata": {},
   "outputs": [
    {
     "data": {
      "text/html": [
       "<div>\n",
       "<style scoped>\n",
       "    .dataframe tbody tr th:only-of-type {\n",
       "        vertical-align: middle;\n",
       "    }\n",
       "\n",
       "    .dataframe tbody tr th {\n",
       "        vertical-align: top;\n",
       "    }\n",
       "\n",
       "    .dataframe thead th {\n",
       "        text-align: right;\n",
       "    }\n",
       "</style>\n",
       "<table border=\"1\" class=\"dataframe\">\n",
       "  <thead>\n",
       "    <tr style=\"text-align: right;\">\n",
       "      <th></th>\n",
       "      <th>sex</th>\n",
       "      <th>age</th>\n",
       "      <th>marital_status</th>\n",
       "      <th>highest_qualification</th>\n",
       "      <th>nationality</th>\n",
       "      <th>gross_income</th>\n",
       "      <th>region</th>\n",
       "      <th>smoke</th>\n",
       "      <th>amt_weekends</th>\n",
       "      <th>amt_weekdays</th>\n",
       "      <th>type</th>\n",
       "      <th>y</th>\n",
       "    </tr>\n",
       "  </thead>\n",
       "  <tbody>\n",
       "    <tr>\n",
       "      <th>136</th>\n",
       "      <td>Female</td>\n",
       "      <td>44</td>\n",
       "      <td>Married</td>\n",
       "      <td>No Qualification</td>\n",
       "      <td>English</td>\n",
       "      <td>10,400 to 15,600</td>\n",
       "      <td>Midlands &amp; East Anglia</td>\n",
       "      <td>Yes</td>\n",
       "      <td>20</td>\n",
       "      <td>20</td>\n",
       "      <td>Packets</td>\n",
       "      <td>1</td>\n",
       "    </tr>\n",
       "    <tr>\n",
       "      <th>269</th>\n",
       "      <td>Female</td>\n",
       "      <td>48</td>\n",
       "      <td>Divorced</td>\n",
       "      <td>No Qualification</td>\n",
       "      <td>Irish</td>\n",
       "      <td>2,600 to 5,200</td>\n",
       "      <td>South East</td>\n",
       "      <td>Yes</td>\n",
       "      <td>40</td>\n",
       "      <td>20</td>\n",
       "      <td>Packets</td>\n",
       "      <td>1</td>\n",
       "    </tr>\n",
       "    <tr>\n",
       "      <th>300</th>\n",
       "      <td>Female</td>\n",
       "      <td>18</td>\n",
       "      <td>Single</td>\n",
       "      <td>GCSE/O Level</td>\n",
       "      <td>English</td>\n",
       "      <td>2,600 to 5,200</td>\n",
       "      <td>South East</td>\n",
       "      <td>Yes</td>\n",
       "      <td>25</td>\n",
       "      <td>25</td>\n",
       "      <td>Both/Mainly Hand-Rolled</td>\n",
       "      <td>0</td>\n",
       "    </tr>\n",
       "    <tr>\n",
       "      <th>152</th>\n",
       "      <td>Female</td>\n",
       "      <td>24</td>\n",
       "      <td>Single</td>\n",
       "      <td>GCSE/CSE</td>\n",
       "      <td>British</td>\n",
       "      <td>10,400 to 15,600</td>\n",
       "      <td>Midlands &amp; East Anglia</td>\n",
       "      <td>Yes</td>\n",
       "      <td>8</td>\n",
       "      <td>2</td>\n",
       "      <td>Packets</td>\n",
       "      <td>1</td>\n",
       "    </tr>\n",
       "    <tr>\n",
       "      <th>23</th>\n",
       "      <td>Female</td>\n",
       "      <td>22</td>\n",
       "      <td>Single</td>\n",
       "      <td>GCSE/CSE</td>\n",
       "      <td>English</td>\n",
       "      <td>2,600 to 5,200</td>\n",
       "      <td>The North</td>\n",
       "      <td>Yes</td>\n",
       "      <td>20</td>\n",
       "      <td>20</td>\n",
       "      <td>Packets</td>\n",
       "      <td>1</td>\n",
       "    </tr>\n",
       "    <tr>\n",
       "      <th>...</th>\n",
       "      <td>...</td>\n",
       "      <td>...</td>\n",
       "      <td>...</td>\n",
       "      <td>...</td>\n",
       "      <td>...</td>\n",
       "      <td>...</td>\n",
       "      <td>...</td>\n",
       "      <td>...</td>\n",
       "      <td>...</td>\n",
       "      <td>...</td>\n",
       "      <td>...</td>\n",
       "      <td>...</td>\n",
       "    </tr>\n",
       "    <tr>\n",
       "      <th>158</th>\n",
       "      <td>Male</td>\n",
       "      <td>28</td>\n",
       "      <td>Single</td>\n",
       "      <td>GCSE/O Level</td>\n",
       "      <td>British</td>\n",
       "      <td>5,200 to 10,400</td>\n",
       "      <td>Midlands &amp; East Anglia</td>\n",
       "      <td>Yes</td>\n",
       "      <td>5</td>\n",
       "      <td>5</td>\n",
       "      <td>Both/Mainly Packets</td>\n",
       "      <td>0</td>\n",
       "    </tr>\n",
       "    <tr>\n",
       "      <th>5</th>\n",
       "      <td>Female</td>\n",
       "      <td>36</td>\n",
       "      <td>Married</td>\n",
       "      <td>GCSE/O Level</td>\n",
       "      <td>English</td>\n",
       "      <td>5,200 to 10,400</td>\n",
       "      <td>The North</td>\n",
       "      <td>Yes</td>\n",
       "      <td>5</td>\n",
       "      <td>2</td>\n",
       "      <td>Packets</td>\n",
       "      <td>1</td>\n",
       "    </tr>\n",
       "    <tr>\n",
       "      <th>366</th>\n",
       "      <td>Female</td>\n",
       "      <td>27</td>\n",
       "      <td>Single</td>\n",
       "      <td>GCSE/O Level</td>\n",
       "      <td>Welsh</td>\n",
       "      <td>5,200 to 10,400</td>\n",
       "      <td>Wales</td>\n",
       "      <td>Yes</td>\n",
       "      <td>5</td>\n",
       "      <td>5</td>\n",
       "      <td>Packets</td>\n",
       "      <td>1</td>\n",
       "    </tr>\n",
       "    <tr>\n",
       "      <th>121</th>\n",
       "      <td>Male</td>\n",
       "      <td>40</td>\n",
       "      <td>Married</td>\n",
       "      <td>GCSE/O Level</td>\n",
       "      <td>English</td>\n",
       "      <td>5,200 to 10,400</td>\n",
       "      <td>Midlands &amp; East Anglia</td>\n",
       "      <td>Yes</td>\n",
       "      <td>20</td>\n",
       "      <td>20</td>\n",
       "      <td>Both/Mainly Packets</td>\n",
       "      <td>0</td>\n",
       "    </tr>\n",
       "    <tr>\n",
       "      <th>134</th>\n",
       "      <td>Female</td>\n",
       "      <td>50</td>\n",
       "      <td>Married</td>\n",
       "      <td>Other/Sub Degree</td>\n",
       "      <td>British</td>\n",
       "      <td>10,400 to 15,600</td>\n",
       "      <td>Midlands &amp; East Anglia</td>\n",
       "      <td>Yes</td>\n",
       "      <td>20</td>\n",
       "      <td>15</td>\n",
       "      <td>Packets</td>\n",
       "      <td>1</td>\n",
       "    </tr>\n",
       "  </tbody>\n",
       "</table>\n",
       "<p>85 rows × 12 columns</p>\n",
       "</div>"
      ],
      "text/plain": [
       "        sex  age marital_status highest_qualification nationality  \\\n",
       "136  Female   44        Married      No Qualification     English   \n",
       "269  Female   48       Divorced      No Qualification       Irish   \n",
       "300  Female   18         Single          GCSE/O Level     English   \n",
       "152  Female   24         Single              GCSE/CSE     British   \n",
       "23   Female   22         Single              GCSE/CSE     English   \n",
       "..      ...  ...            ...                   ...         ...   \n",
       "158    Male   28         Single          GCSE/O Level     British   \n",
       "5    Female   36        Married          GCSE/O Level     English   \n",
       "366  Female   27         Single          GCSE/O Level       Welsh   \n",
       "121    Male   40        Married          GCSE/O Level     English   \n",
       "134  Female   50        Married      Other/Sub Degree     British   \n",
       "\n",
       "         gross_income                  region smoke  amt_weekends  \\\n",
       "136  10,400 to 15,600  Midlands & East Anglia   Yes            20   \n",
       "269    2,600 to 5,200              South East   Yes            40   \n",
       "300    2,600 to 5,200              South East   Yes            25   \n",
       "152  10,400 to 15,600  Midlands & East Anglia   Yes             8   \n",
       "23     2,600 to 5,200               The North   Yes            20   \n",
       "..                ...                     ...   ...           ...   \n",
       "158   5,200 to 10,400  Midlands & East Anglia   Yes             5   \n",
       "5     5,200 to 10,400               The North   Yes             5   \n",
       "366   5,200 to 10,400                   Wales   Yes             5   \n",
       "121   5,200 to 10,400  Midlands & East Anglia   Yes            20   \n",
       "134  10,400 to 15,600  Midlands & East Anglia   Yes            20   \n",
       "\n",
       "     amt_weekdays                     type  y  \n",
       "136            20                  Packets  1  \n",
       "269            20                  Packets  1  \n",
       "300            25  Both/Mainly Hand-Rolled  0  \n",
       "152             2                  Packets  1  \n",
       "23             20                  Packets  1  \n",
       "..            ...                      ... ..  \n",
       "158             5      Both/Mainly Packets  0  \n",
       "5               2                  Packets  1  \n",
       "366             5                  Packets  1  \n",
       "121            20      Both/Mainly Packets  0  \n",
       "134            15                  Packets  1  \n",
       "\n",
       "[85 rows x 12 columns]"
      ]
     },
     "execution_count": 9,
     "metadata": {},
     "output_type": "execute_result"
    }
   ],
   "source": [
    "df_test"
   ]
  },
  {
   "cell_type": "markdown",
   "metadata": {},
   "source": [
    "## 2. <u>Full Model</u>\n",
    "\n",
    "In this analysis, we would like to build a logistic regression model that can be used as a classifier model to predict whether or not a UK smoker smokes packets. Specifically, we would like to build and evaluate a series of logistic regression models that that predict the probability that a UK smoker smokes *packets*, using some subset (or all) of the following explanatory variables:\n",
    "* age\n",
    "* sex\n",
    "* marital status\n",
    "* the amount of cigarettes smoked on the weekends\n",
    "* the amount of cigarettes smoked on the weekdays\n",
    "\n",
    "To start, our **full model** will use all of these 5 explanatory variables.\n"
   ]
  },
  {
   "cell_type": "markdown",
   "metadata": {},
   "source": [
    "### 2.1. Fitting the Full Logistic Regression Model\n",
    "\n",
    "Fit this full logistic regression model **with the training dataset** and display the summary output table below."
   ]
  },
  {
   "cell_type": "code",
   "execution_count": 10,
   "metadata": {},
   "outputs": [
    {
     "name": "stdout",
     "output_type": "stream",
     "text": [
      "Optimization terminated successfully.\n",
      "         Current function value: 0.573133\n",
      "         Iterations 6\n"
     ]
    },
    {
     "data": {
      "text/html": [
       "<table class=\"simpletable\">\n",
       "<caption>Logit Regression Results</caption>\n",
       "<tr>\n",
       "  <th>Dep. Variable:</th>           <td>y</td>        <th>  No. Observations:  </th>  <td>   336</td>  \n",
       "</tr>\n",
       "<tr>\n",
       "  <th>Model:</th>                 <td>Logit</td>      <th>  Df Residuals:      </th>  <td>   327</td>  \n",
       "</tr>\n",
       "<tr>\n",
       "  <th>Method:</th>                 <td>MLE</td>       <th>  Df Model:          </th>  <td>     8</td>  \n",
       "</tr>\n",
       "<tr>\n",
       "  <th>Date:</th>            <td>Fri, 02 Dec 2022</td> <th>  Pseudo R-squ.:     </th>  <td>0.06635</td> \n",
       "</tr>\n",
       "<tr>\n",
       "  <th>Time:</th>                <td>15:53:22</td>     <th>  Log-Likelihood:    </th> <td> -192.57</td> \n",
       "</tr>\n",
       "<tr>\n",
       "  <th>converged:</th>             <td>True</td>       <th>  LL-Null:           </th> <td> -206.26</td> \n",
       "</tr>\n",
       "<tr>\n",
       "  <th>Covariance Type:</th>     <td>nonrobust</td>    <th>  LLR p-value:       </th> <td>0.0006105</td>\n",
       "</tr>\n",
       "</table>\n",
       "<table class=\"simpletable\">\n",
       "<tr>\n",
       "               <td></td>                  <th>coef</th>     <th>std err</th>      <th>z</th>      <th>P>|z|</th>  <th>[0.025</th>    <th>0.975]</th>  \n",
       "</tr>\n",
       "<tr>\n",
       "  <th>Intercept</th>                   <td>    1.5779</td> <td>    0.649</td> <td>    2.431</td> <td> 0.015</td> <td>    0.306</td> <td>    2.850</td>\n",
       "</tr>\n",
       "<tr>\n",
       "  <th>sex[T.Male]</th>                 <td>   -0.7945</td> <td>    0.260</td> <td>   -3.050</td> <td> 0.002</td> <td>   -1.305</td> <td>   -0.284</td>\n",
       "</tr>\n",
       "<tr>\n",
       "  <th>marital_status[T.Married]</th>   <td>    0.2933</td> <td>    0.410</td> <td>    0.716</td> <td> 0.474</td> <td>   -0.510</td> <td>    1.097</td>\n",
       "</tr>\n",
       "<tr>\n",
       "  <th>marital_status[T.Separated]</th> <td>   -0.2515</td> <td>    0.589</td> <td>   -0.427</td> <td> 0.670</td> <td>   -1.407</td> <td>    0.904</td>\n",
       "</tr>\n",
       "<tr>\n",
       "  <th>marital_status[T.Single]</th>    <td>   -0.3539</td> <td>    0.432</td> <td>   -0.819</td> <td> 0.413</td> <td>   -1.201</td> <td>    0.493</td>\n",
       "</tr>\n",
       "<tr>\n",
       "  <th>marital_status[T.Widowed]</th>   <td>    0.9625</td> <td>    0.657</td> <td>    1.464</td> <td> 0.143</td> <td>   -0.326</td> <td>    2.251</td>\n",
       "</tr>\n",
       "<tr>\n",
       "  <th>age</th>                         <td>   -0.0005</td> <td>    0.011</td> <td>   -0.046</td> <td> 0.963</td> <td>   -0.023</td> <td>    0.022</td>\n",
       "</tr>\n",
       "<tr>\n",
       "  <th>amt_weekends</th>                <td>    0.0049</td> <td>    0.020</td> <td>    0.245</td> <td> 0.806</td> <td>   -0.034</td> <td>    0.044</td>\n",
       "</tr>\n",
       "<tr>\n",
       "  <th>amt_weekdays</th>                <td>   -0.0311</td> <td>    0.022</td> <td>   -1.435</td> <td> 0.151</td> <td>   -0.074</td> <td>    0.011</td>\n",
       "</tr>\n",
       "</table>"
      ],
      "text/plain": [
       "<class 'statsmodels.iolib.summary.Summary'>\n",
       "\"\"\"\n",
       "                           Logit Regression Results                           \n",
       "==============================================================================\n",
       "Dep. Variable:                      y   No. Observations:                  336\n",
       "Model:                          Logit   Df Residuals:                      327\n",
       "Method:                           MLE   Df Model:                            8\n",
       "Date:                Fri, 02 Dec 2022   Pseudo R-squ.:                 0.06635\n",
       "Time:                        15:53:22   Log-Likelihood:                -192.57\n",
       "converged:                       True   LL-Null:                       -206.26\n",
       "Covariance Type:            nonrobust   LLR p-value:                 0.0006105\n",
       "===============================================================================================\n",
       "                                  coef    std err          z      P>|z|      [0.025      0.975]\n",
       "-----------------------------------------------------------------------------------------------\n",
       "Intercept                       1.5779      0.649      2.431      0.015       0.306       2.850\n",
       "sex[T.Male]                    -0.7945      0.260     -3.050      0.002      -1.305      -0.284\n",
       "marital_status[T.Married]       0.2933      0.410      0.716      0.474      -0.510       1.097\n",
       "marital_status[T.Separated]    -0.2515      0.589     -0.427      0.670      -1.407       0.904\n",
       "marital_status[T.Single]       -0.3539      0.432     -0.819      0.413      -1.201       0.493\n",
       "marital_status[T.Widowed]       0.9625      0.657      1.464      0.143      -0.326       2.251\n",
       "age                            -0.0005      0.011     -0.046      0.963      -0.023       0.022\n",
       "amt_weekends                    0.0049      0.020      0.245      0.806      -0.034       0.044\n",
       "amt_weekdays                   -0.0311      0.022     -1.435      0.151      -0.074       0.011\n",
       "===============================================================================================\n",
       "\"\"\""
      ]
     },
     "execution_count": 10,
     "metadata": {},
     "output_type": "execute_result"
    }
   ],
   "source": [
    "full_mod=smf.logit('y~age+sex+marital_status+amt_weekends+amt_weekdays', data=df_train).fit()\n",
    "full_mod.summary()"
   ]
  },
  {
   "cell_type": "markdown",
   "metadata": {},
   "source": [
    "### 2.2. Predictive Probabilities\n",
    "\n",
    "Next, use this full logistic regression model to calculate the predictive probabilities for the observations in the **test dataset.**"
   ]
  },
  {
   "cell_type": "code",
   "execution_count": 11,
   "metadata": {},
   "outputs": [
    {
     "data": {
      "text/plain": [
       "136    0.789812\n",
       "269    0.755223\n",
       "300    0.636268\n",
       "152    0.766467\n",
       "23     0.665562\n",
       "Name: phat_test, dtype: float64"
      ]
     },
     "execution_count": 11,
     "metadata": {},
     "output_type": "execute_result"
    }
   ],
   "source": [
    "df_test['phat_test'] = full_mod.predict(exog=df_test)\n",
    "df_test['phat_test'].head() "
   ]
  },
  {
   "cell_type": "markdown",
   "metadata": {},
   "source": [
    "### 2.3. ROC and AUC\n",
    "\n",
    "Finally, display the ROC curve and AUC score for this **full logistic regression model** and the **test dataset**."
   ]
  },
  {
   "cell_type": "code",
   "execution_count": 12,
   "metadata": {},
   "outputs": [],
   "source": [
    "from sklearn.metrics import roc_curve\n",
    "from sklearn.metrics import roc_auc_score\n",
    "\n",
    "fpr, tpr, score = roc_curve(y_true=df_test['y'], y_score=df_test['phat_test'])\n",
    "auc = roc_auc_score(y_true=df_test['y'], y_score=df_test['phat_test'])"
   ]
  },
  {
   "cell_type": "code",
   "execution_count": 13,
   "metadata": {},
   "outputs": [],
   "source": [
    "def plot_roc(fpr, tpr, auc, lw=2):\n",
    "    plt.plot(fpr, tpr, color='darkorange', lw=lw,\n",
    "             label='ROC curve (area = '+str(round(auc,3))+')')\n",
    "    plt.plot([0, 1], [0, 1], color='navy', lw=lw, linestyle='--')\n",
    "    plt.xlabel('False Positive Rate')\n",
    "    plt.ylabel('True Positive Rate')\n",
    "    plt.title('ROC Curve')\n",
    "    plt.legend(loc=\"lower right\")\n",
    "    plt.show()"
   ]
  },
  {
   "cell_type": "code",
   "execution_count": 14,
   "metadata": {},
   "outputs": [
    {
     "data": {
      "image/png": "[encoded data removed]",
      "text/plain": [
       "<Figure size 432x288 with 1 Axes>"
      ]
     },
     "metadata": {
      "needs_background": "light"
     },
     "output_type": "display_data"
    }
   ],
   "source": [
    "plot_roc(fpr, tpr, auc)"
   ]
  },
  {
   "cell_type": "markdown",
   "metadata": {},
   "source": [
    "## 3. <u>Reduced Model 1</u> -  Found with Backwards Elimination\n",
    "\n",
    "Is it possible that we may be overfitting our classifier model, by using ALL of the 5 explanatory variables that we used in the full model? Is it possible that there exists a reduced logistic regression model that will yield better classifications of the observations in our test dataset?\n",
    "\n",
    "To help us answer these questions, let's use a backwards elimination algorithm with AIC score to help us find a sensible reduced model to compare to the full model.\n",
    "\n",
    "### 3.1. Finding a Reduced Model with Backwards Elimination Algorithm\n",
    "Starting with your full model, perform the backwards elimination algorithm, using AIC **with your training dataset**. Once your algorithm has finished, fit your final model (**also with the training dataset**) one more time, and display the summary output table."
   ]
  },
  {
   "cell_type": "markdown",
   "metadata": {},
   "source": [
    "### <u>Iteration 1 of Backwards Elimination</u>\n",
    "\n",
    "#### Current Model"
   ]
  },
  {
   "cell_type": "code",
   "execution_count": 15,
   "metadata": {},
   "outputs": [
    {
     "name": "stdout",
     "output_type": "stream",
     "text": [
      "Optimization terminated successfully.\n",
      "         Current function value: 0.573133\n",
      "         Iterations 6\n",
      "ITERATION 1: AIC of the Current Model 403.1456051163881\n"
     ]
    }
   ],
   "source": [
    "current_mod=smf.logit('y~age+sex+marital_status+amt_weekends+amt_weekdays', data=df_train).fit()\n",
    "print('ITERATION 1: AIC of the Current Model',current_mod.aic)"
   ]
  },
  {
   "cell_type": "markdown",
   "metadata": {},
   "source": [
    "#### Test Models"
   ]
  },
  {
   "cell_type": "code",
   "execution_count": 16,
   "metadata": {},
   "outputs": [
    {
     "name": "stdout",
     "output_type": "stream",
     "text": [
      "Optimization terminated successfully.\n",
      "         Current function value: 0.576291\n",
      "         Iterations 6\n",
      "AIC of Test Model that Deletes amt_weekdays from the Current Model 403.26759351431133\n"
     ]
    }
   ],
   "source": [
    "test_mod=smf.logit('y~age+sex+marital_status+amt_weekends', data=df_train).fit()\n",
    "print('AIC of Test Model that Deletes amt_weekdays from the Current Model',test_mod.aic)"
   ]
  },
  {
   "cell_type": "code",
   "execution_count": 17,
   "metadata": {},
   "outputs": [
    {
     "name": "stdout",
     "output_type": "stream",
     "text": [
      "Optimization terminated successfully.\n",
      "         Current function value: 0.573224\n",
      "         Iterations 6\n",
      "AIC of Test Model that Deletes amt_weekENDS from the Current Model 401.2063198982888\n"
     ]
    }
   ],
   "source": [
    "test_mod=smf.logit('y~age+sex+marital_status+amt_weekdays', data=df_train).fit()\n",
    "print('AIC of Test Model that Deletes amt_weekENDS from the Current Model',test_mod.aic)"
   ]
  },
  {
   "cell_type": "code",
   "execution_count": 18,
   "metadata": {},
   "outputs": [
    {
     "name": "stdout",
     "output_type": "stream",
     "text": [
      "Optimization terminated successfully.\n",
      "         Current function value: 0.581044\n",
      "         Iterations 5\n",
      "AIC of Test Model that Deletes marital_status from the Current Model 400.4614332359487\n"
     ]
    }
   ],
   "source": [
    "test_mod=smf.logit('y~age+sex+amt_weekends+amt_weekdays', data=df_train).fit()\n",
    "print('AIC of Test Model that Deletes marital_status from the Current Model',test_mod.aic)"
   ]
  },
  {
   "cell_type": "code",
   "execution_count": 19,
   "metadata": {},
   "outputs": [
    {
     "name": "stdout",
     "output_type": "stream",
     "text": [
      "Optimization terminated successfully.\n",
      "         Current function value: 0.587137\n",
      "         Iterations 6\n",
      "AIC of Test Model that Deletes sex from the Current Model 410.55581437016974\n"
     ]
    }
   ],
   "source": [
    "test_mod=smf.logit('y~age+marital_status+amt_weekends+amt_weekdays', data=df_train).fit()\n",
    "print('AIC of Test Model that Deletes sex from the Current Model',test_mod.aic)"
   ]
  },
  {
   "cell_type": "code",
   "execution_count": 20,
   "metadata": {},
   "outputs": [
    {
     "name": "stdout",
     "output_type": "stream",
     "text": [
      "Optimization terminated successfully.\n",
      "         Current function value: 0.573136\n",
      "         Iterations 6\n",
      "AIC of Test Model that Deletes age from the Current Model 401.14771728881726\n"
     ]
    }
   ],
   "source": [
    "test_mod=smf.logit('y~sex+marital_status+amt_weekends+amt_weekdays', data=df_train).fit()\n",
    "print('AIC of Test Model that Deletes age from the Current Model',test_mod.aic)"
   ]
  },
  {
   "cell_type": "markdown",
   "metadata": {},
   "source": [
    "The test model with the lowest AIC score was the one that deleted **marital_status**. This test model had a lower AIC score than the current model. Thus, we permanently drop marital_status from the current model and continue the algorithm."
   ]
  },
  {
   "cell_type": "markdown",
   "metadata": {},
   "source": [
    "### <u>Iteration 2 of Backwards Elimination</u>\n",
    "\n",
    "#### Current Model"
   ]
  },
  {
   "cell_type": "code",
   "execution_count": 21,
   "metadata": {},
   "outputs": [
    {
     "name": "stdout",
     "output_type": "stream",
     "text": [
      "Optimization terminated successfully.\n",
      "         Current function value: 0.581044\n",
      "         Iterations 5\n",
      "ITERATION 1: AIC of the Current Model 400.4614332359487\n"
     ]
    }
   ],
   "source": [
    "current_mod=smf.logit('y~sex+age+amt_weekends+amt_weekdays', data=df_train).fit()\n",
    "print('ITERATION 1: AIC of the Current Model',current_mod.aic)"
   ]
  },
  {
   "cell_type": "markdown",
   "metadata": {},
   "source": [
    "#### Test Models"
   ]
  },
  {
   "cell_type": "code",
   "execution_count": 22,
   "metadata": {},
   "outputs": [
    {
     "name": "stdout",
     "output_type": "stream",
     "text": [
      "Optimization terminated successfully.\n",
      "         Current function value: 0.584198\n",
      "         Iterations 5\n",
      "AIC of Test Model that Deletes amt_weekdays from the Current Model 400.5813715230104\n"
     ]
    }
   ],
   "source": [
    "test_mod=smf.logit('y~sex+age+amt_weekends', data=df_train).fit()\n",
    "print('AIC of Test Model that Deletes amt_weekdays from the Current Model',test_mod.aic)"
   ]
  },
  {
   "cell_type": "code",
   "execution_count": 23,
   "metadata": {},
   "outputs": [
    {
     "name": "stdout",
     "output_type": "stream",
     "text": [
      "Optimization terminated successfully.\n",
      "         Current function value: 0.581148\n",
      "         Iterations 5\n",
      "AIC of Test Model that Deletes amt_weekends from the Current Model 398.5314082941696\n"
     ]
    }
   ],
   "source": [
    "test_mod=smf.logit('y~sex+age+amt_weekdays', data=df_train).fit()\n",
    "print('AIC of Test Model that Deletes amt_weekends from the Current Model',test_mod.aic)"
   ]
  },
  {
   "cell_type": "code",
   "execution_count": 24,
   "metadata": {},
   "outputs": [
    {
     "name": "stdout",
     "output_type": "stream",
     "text": [
      "Optimization terminated successfully.\n",
      "         Current function value: 0.586963\n",
      "         Iterations 5\n",
      "AIC of Test Model that Deletes age from the Current Model 402.43896096086326\n"
     ]
    }
   ],
   "source": [
    "test_mod=smf.logit('y~sex+amt_weekends+amt_weekdays', data=df_train).fit()\n",
    "print('AIC of Test Model that Deletes age from the Current Model',test_mod.aic)"
   ]
  },
  {
   "cell_type": "code",
   "execution_count": 25,
   "metadata": {},
   "outputs": [
    {
     "name": "stdout",
     "output_type": "stream",
     "text": [
      "Optimization terminated successfully.\n",
      "         Current function value: 0.597108\n",
      "         Iterations 5\n",
      "AIC of Test Model that Deletes sex from the Current Model 409.2567180771339\n"
     ]
    }
   ],
   "source": [
    "test_mod=smf.logit('y~age+amt_weekends+amt_weekdays', data=df_train).fit()\n",
    "print('AIC of Test Model that Deletes sex from the Current Model',test_mod.aic)"
   ]
  },
  {
   "cell_type": "markdown",
   "metadata": {},
   "source": [
    "The test model with the lowest AIC score was the one that deleted **amt_weekends**. This test model had a lower AIC score than the current model. Thus, we permanently drop amt_weekends from the current model and continue the algorithm."
   ]
  },
  {
   "cell_type": "markdown",
   "metadata": {},
   "source": [
    "### <u>Iteration 3 of Backwards Elimination</u>\n",
    "\n",
    "#### Current Model"
   ]
  },
  {
   "cell_type": "code",
   "execution_count": 26,
   "metadata": {},
   "outputs": [
    {
     "name": "stdout",
     "output_type": "stream",
     "text": [
      "Optimization terminated successfully.\n",
      "         Current function value: 0.581148\n",
      "         Iterations 5\n",
      "ITERATION 1: AIC of the Current Model 398.5314082941696\n"
     ]
    }
   ],
   "source": [
    "current_mod=smf.logit('y~sex+age+amt_weekdays', data=df_train).fit()\n",
    "print('ITERATION 1: AIC of the Current Model',current_mod.aic)"
   ]
  },
  {
   "cell_type": "markdown",
   "metadata": {},
   "source": [
    "#### Test Models"
   ]
  },
  {
   "cell_type": "code",
   "execution_count": 27,
   "metadata": {},
   "outputs": [
    {
     "name": "stdout",
     "output_type": "stream",
     "text": [
      "Optimization terminated successfully.\n",
      "         Current function value: 0.587350\n",
      "         Iterations 5\n",
      "AIC of Test Model that Deletes amt_weekdays from the Current Model 400.6994691995907\n"
     ]
    }
   ],
   "source": [
    "test_mod=smf.logit('y~sex+age', data=df_train).fit()\n",
    "print('AIC of Test Model that Deletes amt_weekdays from the Current Model',test_mod.aic)"
   ]
  },
  {
   "cell_type": "code",
   "execution_count": 28,
   "metadata": {},
   "outputs": [
    {
     "name": "stdout",
     "output_type": "stream",
     "text": [
      "Optimization terminated successfully.\n",
      "         Current function value: 0.586979\n",
      "         Iterations 5\n",
      "AIC of Test Model that Deletes age from the Current Model 400.44989761079717\n"
     ]
    }
   ],
   "source": [
    "test_mod=smf.logit('y~sex+amt_weekdays', data=df_train).fit()\n",
    "print('AIC of Test Model that Deletes age from the Current Model',test_mod.aic)"
   ]
  },
  {
   "cell_type": "code",
   "execution_count": 29,
   "metadata": {},
   "outputs": [
    {
     "name": "stdout",
     "output_type": "stream",
     "text": [
      "Optimization terminated successfully.\n",
      "         Current function value: 0.597237\n",
      "         Iterations 5\n",
      "AIC of Test Model that Deletes sex from the Current Model 407.34341146469933\n"
     ]
    }
   ],
   "source": [
    "test_mod=smf.logit('y~age+amt_weekdays', data=df_train).fit()\n",
    "print('AIC of Test Model that Deletes sex from the Current Model',test_mod.aic)"
   ]
  },
  {
   "cell_type": "markdown",
   "metadata": {},
   "source": [
    "The test model with the lowest AIC score was the one that deleted **age**. This test model DID NOT HAVE a lower AIC score than the current model. Thus, we stop the algorithm and stick with the current model.\n",
    "\n",
    "### <u>Final Model</u>\n",
    "Thus our final model is the logistic regression model that predicts the probability that a UK smoker is a packet smoker with the following explanatory variables:\n",
    "* sex\n",
    "* age\n",
    "* amount smoked on the weekdays"
   ]
  },
  {
   "cell_type": "code",
   "execution_count": 30,
   "metadata": {},
   "outputs": [
    {
     "name": "stdout",
     "output_type": "stream",
     "text": [
      "Optimization terminated successfully.\n",
      "         Current function value: 0.581148\n",
      "         Iterations 5\n"
     ]
    },
    {
     "data": {
      "text/html": [
       "<table class=\"simpletable\">\n",
       "<caption>Logit Regression Results</caption>\n",
       "<tr>\n",
       "  <th>Dep. Variable:</th>           <td>y</td>        <th>  No. Observations:  </th>  <td>   336</td>  \n",
       "</tr>\n",
       "<tr>\n",
       "  <th>Model:</th>                 <td>Logit</td>      <th>  Df Residuals:      </th>  <td>   332</td>  \n",
       "</tr>\n",
       "<tr>\n",
       "  <th>Method:</th>                 <td>MLE</td>       <th>  Df Model:          </th>  <td>     3</td>  \n",
       "</tr>\n",
       "<tr>\n",
       "  <th>Date:</th>            <td>Fri, 02 Dec 2022</td> <th>  Pseudo R-squ.:     </th>  <td>0.05329</td> \n",
       "</tr>\n",
       "<tr>\n",
       "  <th>Time:</th>                <td>15:53:23</td>     <th>  Log-Likelihood:    </th> <td> -195.27</td> \n",
       "</tr>\n",
       "<tr>\n",
       "  <th>converged:</th>             <td>True</td>       <th>  LL-Null:           </th> <td> -206.26</td> \n",
       "</tr>\n",
       "<tr>\n",
       "  <th>Covariance Type:</th>     <td>nonrobust</td>    <th>  LLR p-value:       </th> <td>6.578e-05</td>\n",
       "</tr>\n",
       "</table>\n",
       "<table class=\"simpletable\">\n",
       "<tr>\n",
       "        <td></td>          <th>coef</th>     <th>std err</th>      <th>z</th>      <th>P>|z|</th>  <th>[0.025</th>    <th>0.975]</th>  \n",
       "</tr>\n",
       "<tr>\n",
       "  <th>Intercept</th>    <td>    0.9337</td> <td>    0.376</td> <td>    2.485</td> <td> 0.013</td> <td>    0.197</td> <td>    1.670</td>\n",
       "</tr>\n",
       "<tr>\n",
       "  <th>sex[T.Male]</th>  <td>   -0.8266</td> <td>    0.253</td> <td>   -3.269</td> <td> 0.001</td> <td>   -1.322</td> <td>   -0.331</td>\n",
       "</tr>\n",
       "<tr>\n",
       "  <th>age</th>          <td>    0.0156</td> <td>    0.008</td> <td>    1.939</td> <td> 0.053</td> <td>   -0.000</td> <td>    0.031</td>\n",
       "</tr>\n",
       "<tr>\n",
       "  <th>amt_weekdays</th> <td>   -0.0263</td> <td>    0.013</td> <td>   -2.029</td> <td> 0.042</td> <td>   -0.052</td> <td>   -0.001</td>\n",
       "</tr>\n",
       "</table>"
      ],
      "text/plain": [
       "<class 'statsmodels.iolib.summary.Summary'>\n",
       "\"\"\"\n",
       "                           Logit Regression Results                           \n",
       "==============================================================================\n",
       "Dep. Variable:                      y   No. Observations:                  336\n",
       "Model:                          Logit   Df Residuals:                      332\n",
       "Method:                           MLE   Df Model:                            3\n",
       "Date:                Fri, 02 Dec 2022   Pseudo R-squ.:                 0.05329\n",
       "Time:                        15:53:23   Log-Likelihood:                -195.27\n",
       "converged:                       True   LL-Null:                       -206.26\n",
       "Covariance Type:            nonrobust   LLR p-value:                 6.578e-05\n",
       "================================================================================\n",
       "                   coef    std err          z      P>|z|      [0.025      0.975]\n",
       "--------------------------------------------------------------------------------\n",
       "Intercept        0.9337      0.376      2.485      0.013       0.197       1.670\n",
       "sex[T.Male]     -0.8266      0.253     -3.269      0.001      -1.322      -0.331\n",
       "age              0.0156      0.008      1.939      0.053      -0.000       0.031\n",
       "amt_weekdays    -0.0263      0.013     -2.029      0.042      -0.052      -0.001\n",
       "================================================================================\n",
       "\"\"\""
      ]
     },
     "execution_count": 30,
     "metadata": {},
     "output_type": "execute_result"
    }
   ],
   "source": [
    "red_mod1=smf.logit('y~sex+age+amt_weekdays', data=df_train).fit()\n",
    "red_mod1.summary()"
   ]
  },
  {
   "cell_type": "markdown",
   "metadata": {},
   "source": [
    "### 3.2. Test Data Predictive Probabilities with Reduced Model 1\n",
    "\n",
    "Next, use this reduced logistic regression model that you found in 3.1 (ie. your final model) to calculate the predictive probabilities for the observations in the **test dataset.**"
   ]
  },
  {
   "cell_type": "code",
   "execution_count": 31,
   "metadata": {},
   "outputs": [
    {
     "data": {
      "text/plain": [
       "136    0.749483\n",
       "269    0.761049\n",
       "300    0.635873\n",
       "152    0.778434\n",
       "23     0.679536\n",
       "Name: phat_test, dtype: float64"
      ]
     },
     "execution_count": 31,
     "metadata": {},
     "output_type": "execute_result"
    }
   ],
   "source": [
    "df_test['phat_test'] = red_mod1.predict(exog=df_test)\n",
    "df_test['phat_test'].head() "
   ]
  },
  {
   "cell_type": "markdown",
   "metadata": {},
   "source": [
    "### 2.3. ROC and AUC\n",
    "\n",
    "Finally, display the ROC curve and AUC score for this **reduced logistic regression model 1** and the **test dataset**."
   ]
  },
  {
   "cell_type": "code",
   "execution_count": 32,
   "metadata": {},
   "outputs": [],
   "source": [
    "from sklearn.metrics import roc_curve\n",
    "from sklearn.metrics import roc_auc_score\n",
    "\n",
    "fpr, tpr, score = roc_curve(y_true=df_test['y'], y_score=df_test['phat_test'])\n",
    "auc = roc_auc_score(y_true=df_test['y'], y_score=df_test['phat_test'])"
   ]
  },
  {
   "cell_type": "code",
   "execution_count": 33,
   "metadata": {},
   "outputs": [],
   "source": [
    "def plot_roc(fpr, tpr, auc, lw=2):\n",
    "    plt.plot(fpr, tpr, color='darkorange', lw=lw,\n",
    "             label='ROC curve (area = '+str(round(auc,3))+')')\n",
    "    plt.plot([0, 1], [0, 1], color='navy', lw=lw, linestyle='--')\n",
    "    plt.xlabel('False Positive Rate')\n",
    "    plt.ylabel('True Positive Rate')\n",
    "    plt.title('ROC Curve')\n",
    "    plt.legend(loc=\"lower right\")\n",
    "    plt.show()"
   ]
  },
  {
   "cell_type": "code",
   "execution_count": 34,
   "metadata": {},
   "outputs": [
    {
     "data": {
      "image/png": "[encoded data removed]",
      "text/plain": [
       "<Figure size 432x288 with 1 Axes>"
      ]
     },
     "metadata": {
      "needs_background": "light"
     },
     "output_type": "display_data"
    }
   ],
   "source": [
    "plot_roc(fpr, tpr, auc)"
   ]
  },
  {
   "cell_type": "markdown",
   "metadata": {},
   "source": [
    "## 4. Searching for Reduced Model 2 with with Regularized Logistic Regression\n",
    "\n",
    "Is it possible that we may be overfitting our classifier model, by using ALL of the 5 explanatory variables that we used in the full model? Is it possible that there exists a reduced logistic regression model that will yield better classifications of the observations in our test dataset?\n",
    "\n",
    "*Now* to help us answer these questions, let's use some **regularized logistic regression models** to help us find another sensible reduced model to compare to the full model.\n",
    "\n",
    "### 4.1. Features Matrix and Target Array of the Training Dataset and Test Dataset\n",
    "\n",
    "First, using the same training dataset and test dataset that you created in #1.4, split each of these datasets into a features matrix and a target array. Your features matrices should be comprised of the following explanatory variables from your full model:\n",
    "\n",
    "* age\n",
    "* sex\n",
    "* marital status\n",
    "* the amount of cigarettes smoked on the weekends\n",
    "* the amount of cigarettes smoked on the weekdays\n",
    "\n",
    "**Don't forget to turn any categorical explanatory variables in your feature matrices into the appropriate indicator variables columns that will be used in a logistic regression model!**"
   ]
  },
  {
   "cell_type": "code",
   "execution_count": 35,
   "metadata": {},
   "outputs": [
    {
     "data": {
      "text/html": [
       "<div>\n",
       "<style scoped>\n",
       "    .dataframe tbody tr th:only-of-type {\n",
       "        vertical-align: middle;\n",
       "    }\n",
       "\n",
       "    .dataframe tbody tr th {\n",
       "        vertical-align: top;\n",
       "    }\n",
       "\n",
       "    .dataframe thead th {\n",
       "        text-align: right;\n",
       "    }\n",
       "</style>\n",
       "<table border=\"1\" class=\"dataframe\">\n",
       "  <thead>\n",
       "    <tr style=\"text-align: right;\">\n",
       "      <th></th>\n",
       "      <th>age</th>\n",
       "      <th>sex</th>\n",
       "      <th>marital_status</th>\n",
       "      <th>amt_weekends</th>\n",
       "      <th>amt_weekdays</th>\n",
       "    </tr>\n",
       "  </thead>\n",
       "  <tbody>\n",
       "    <tr>\n",
       "      <th>332</th>\n",
       "      <td>22</td>\n",
       "      <td>Male</td>\n",
       "      <td>Single</td>\n",
       "      <td>20</td>\n",
       "      <td>5</td>\n",
       "    </tr>\n",
       "    <tr>\n",
       "      <th>248</th>\n",
       "      <td>22</td>\n",
       "      <td>Female</td>\n",
       "      <td>Single</td>\n",
       "      <td>15</td>\n",
       "      <td>7</td>\n",
       "    </tr>\n",
       "    <tr>\n",
       "      <th>407</th>\n",
       "      <td>52</td>\n",
       "      <td>Male</td>\n",
       "      <td>Single</td>\n",
       "      <td>25</td>\n",
       "      <td>20</td>\n",
       "    </tr>\n",
       "    <tr>\n",
       "      <th>184</th>\n",
       "      <td>55</td>\n",
       "      <td>Female</td>\n",
       "      <td>Married</td>\n",
       "      <td>1</td>\n",
       "      <td>0</td>\n",
       "    </tr>\n",
       "    <tr>\n",
       "      <th>69</th>\n",
       "      <td>40</td>\n",
       "      <td>Female</td>\n",
       "      <td>Divorced</td>\n",
       "      <td>5</td>\n",
       "      <td>0</td>\n",
       "    </tr>\n",
       "  </tbody>\n",
       "</table>\n",
       "</div>"
      ],
      "text/plain": [
       "     age     sex marital_status  amt_weekends  amt_weekdays\n",
       "332   22    Male         Single            20             5\n",
       "248   22  Female         Single            15             7\n",
       "407   52    Male         Single            25            20\n",
       "184   55  Female        Married             1             0\n",
       "69    40  Female       Divorced             5             0"
      ]
     },
     "execution_count": 35,
     "metadata": {},
     "output_type": "execute_result"
    }
   ],
   "source": [
    "X_train = df_train[['age', 'sex', 'marital_status', 'amt_weekends', 'amt_weekdays']]\n",
    "X_train.head()"
   ]
  },
  {
   "cell_type": "code",
   "execution_count": 36,
   "metadata": {},
   "outputs": [
    {
     "data": {
      "text/html": [
       "<div>\n",
       "<style scoped>\n",
       "    .dataframe tbody tr th:only-of-type {\n",
       "        vertical-align: middle;\n",
       "    }\n",
       "\n",
       "    .dataframe tbody tr th {\n",
       "        vertical-align: top;\n",
       "    }\n",
       "\n",
       "    .dataframe thead th {\n",
       "        text-align: right;\n",
       "    }\n",
       "</style>\n",
       "<table border=\"1\" class=\"dataframe\">\n",
       "  <thead>\n",
       "    <tr style=\"text-align: right;\">\n",
       "      <th></th>\n",
       "      <th>age</th>\n",
       "      <th>amt_weekends</th>\n",
       "      <th>amt_weekdays</th>\n",
       "      <th>sex_Male</th>\n",
       "      <th>marital_status_Married</th>\n",
       "      <th>marital_status_Separated</th>\n",
       "      <th>marital_status_Single</th>\n",
       "      <th>marital_status_Widowed</th>\n",
       "    </tr>\n",
       "  </thead>\n",
       "  <tbody>\n",
       "    <tr>\n",
       "      <th>332</th>\n",
       "      <td>22</td>\n",
       "      <td>20</td>\n",
       "      <td>5</td>\n",
       "      <td>1</td>\n",
       "      <td>0</td>\n",
       "      <td>0</td>\n",
       "      <td>1</td>\n",
       "      <td>0</td>\n",
       "    </tr>\n",
       "    <tr>\n",
       "      <th>248</th>\n",
       "      <td>22</td>\n",
       "      <td>15</td>\n",
       "      <td>7</td>\n",
       "      <td>0</td>\n",
       "      <td>0</td>\n",
       "      <td>0</td>\n",
       "      <td>1</td>\n",
       "      <td>0</td>\n",
       "    </tr>\n",
       "    <tr>\n",
       "      <th>407</th>\n",
       "      <td>52</td>\n",
       "      <td>25</td>\n",
       "      <td>20</td>\n",
       "      <td>1</td>\n",
       "      <td>0</td>\n",
       "      <td>0</td>\n",
       "      <td>1</td>\n",
       "      <td>0</td>\n",
       "    </tr>\n",
       "    <tr>\n",
       "      <th>184</th>\n",
       "      <td>55</td>\n",
       "      <td>1</td>\n",
       "      <td>0</td>\n",
       "      <td>0</td>\n",
       "      <td>1</td>\n",
       "      <td>0</td>\n",
       "      <td>0</td>\n",
       "      <td>0</td>\n",
       "    </tr>\n",
       "    <tr>\n",
       "      <th>69</th>\n",
       "      <td>40</td>\n",
       "      <td>5</td>\n",
       "      <td>0</td>\n",
       "      <td>0</td>\n",
       "      <td>0</td>\n",
       "      <td>0</td>\n",
       "      <td>0</td>\n",
       "      <td>0</td>\n",
       "    </tr>\n",
       "  </tbody>\n",
       "</table>\n",
       "</div>"
      ],
      "text/plain": [
       "     age  amt_weekends  amt_weekdays  sex_Male  marital_status_Married  \\\n",
       "332   22            20             5         1                       0   \n",
       "248   22            15             7         0                       0   \n",
       "407   52            25            20         1                       0   \n",
       "184   55             1             0         0                       1   \n",
       "69    40             5             0         0                       0   \n",
       "\n",
       "     marital_status_Separated  marital_status_Single  marital_status_Widowed  \n",
       "332                         0                      1                       0  \n",
       "248                         0                      1                       0  \n",
       "407                         0                      1                       0  \n",
       "184                         0                      0                       0  \n",
       "69                          0                      0                       0  "
      ]
     },
     "execution_count": 36,
     "metadata": {},
     "output_type": "execute_result"
    }
   ],
   "source": [
    "X_train = pd.get_dummies(X_train, drop_first=True)\n",
    "X_train.head()"
   ]
  },
  {
   "cell_type": "code",
   "execution_count": 37,
   "metadata": {},
   "outputs": [
    {
     "data": {
      "text/plain": [
       "332    1\n",
       "248    1\n",
       "407    0\n",
       "184    1\n",
       "69     1\n",
       "Name: y, dtype: int32"
      ]
     },
     "execution_count": 37,
     "metadata": {},
     "output_type": "execute_result"
    }
   ],
   "source": [
    "y_train = df_train['y']\n",
    "y_train.head()"
   ]
  },
  {
   "cell_type": "code",
   "execution_count": 38,
   "metadata": {},
   "outputs": [
    {
     "data": {
      "text/html": [
       "<div>\n",
       "<style scoped>\n",
       "    .dataframe tbody tr th:only-of-type {\n",
       "        vertical-align: middle;\n",
       "    }\n",
       "\n",
       "    .dataframe tbody tr th {\n",
       "        vertical-align: top;\n",
       "    }\n",
       "\n",
       "    .dataframe thead th {\n",
       "        text-align: right;\n",
       "    }\n",
       "</style>\n",
       "<table border=\"1\" class=\"dataframe\">\n",
       "  <thead>\n",
       "    <tr style=\"text-align: right;\">\n",
       "      <th></th>\n",
       "      <th>age</th>\n",
       "      <th>sex</th>\n",
       "      <th>marital_status</th>\n",
       "      <th>amt_weekends</th>\n",
       "      <th>amt_weekdays</th>\n",
       "    </tr>\n",
       "  </thead>\n",
       "  <tbody>\n",
       "    <tr>\n",
       "      <th>136</th>\n",
       "      <td>44</td>\n",
       "      <td>Female</td>\n",
       "      <td>Married</td>\n",
       "      <td>20</td>\n",
       "      <td>20</td>\n",
       "    </tr>\n",
       "    <tr>\n",
       "      <th>269</th>\n",
       "      <td>48</td>\n",
       "      <td>Female</td>\n",
       "      <td>Divorced</td>\n",
       "      <td>40</td>\n",
       "      <td>20</td>\n",
       "    </tr>\n",
       "    <tr>\n",
       "      <th>300</th>\n",
       "      <td>18</td>\n",
       "      <td>Female</td>\n",
       "      <td>Single</td>\n",
       "      <td>25</td>\n",
       "      <td>25</td>\n",
       "    </tr>\n",
       "    <tr>\n",
       "      <th>152</th>\n",
       "      <td>24</td>\n",
       "      <td>Female</td>\n",
       "      <td>Single</td>\n",
       "      <td>8</td>\n",
       "      <td>2</td>\n",
       "    </tr>\n",
       "    <tr>\n",
       "      <th>23</th>\n",
       "      <td>22</td>\n",
       "      <td>Female</td>\n",
       "      <td>Single</td>\n",
       "      <td>20</td>\n",
       "      <td>20</td>\n",
       "    </tr>\n",
       "  </tbody>\n",
       "</table>\n",
       "</div>"
      ],
      "text/plain": [
       "     age     sex marital_status  amt_weekends  amt_weekdays\n",
       "136   44  Female        Married            20            20\n",
       "269   48  Female       Divorced            40            20\n",
       "300   18  Female         Single            25            25\n",
       "152   24  Female         Single             8             2\n",
       "23    22  Female         Single            20            20"
      ]
     },
     "execution_count": 38,
     "metadata": {},
     "output_type": "execute_result"
    }
   ],
   "source": [
    "X_test = df_test[['age', 'sex', 'marital_status', 'amt_weekends', 'amt_weekdays']]\n",
    "X_test.head()"
   ]
  },
  {
   "cell_type": "code",
   "execution_count": 39,
   "metadata": {},
   "outputs": [
    {
     "data": {
      "text/html": [
       "<div>\n",
       "<style scoped>\n",
       "    .dataframe tbody tr th:only-of-type {\n",
       "        vertical-align: middle;\n",
       "    }\n",
       "\n",
       "    .dataframe tbody tr th {\n",
       "        vertical-align: top;\n",
       "    }\n",
       "\n",
       "    .dataframe thead th {\n",
       "        text-align: right;\n",
       "    }\n",
       "</style>\n",
       "<table border=\"1\" class=\"dataframe\">\n",
       "  <thead>\n",
       "    <tr style=\"text-align: right;\">\n",
       "      <th></th>\n",
       "      <th>age</th>\n",
       "      <th>amt_weekends</th>\n",
       "      <th>amt_weekdays</th>\n",
       "      <th>sex_Male</th>\n",
       "      <th>marital_status_Married</th>\n",
       "      <th>marital_status_Separated</th>\n",
       "      <th>marital_status_Single</th>\n",
       "      <th>marital_status_Widowed</th>\n",
       "    </tr>\n",
       "  </thead>\n",
       "  <tbody>\n",
       "    <tr>\n",
       "      <th>136</th>\n",
       "      <td>44</td>\n",
       "      <td>20</td>\n",
       "      <td>20</td>\n",
       "      <td>0</td>\n",
       "      <td>1</td>\n",
       "      <td>0</td>\n",
       "      <td>0</td>\n",
       "      <td>0</td>\n",
       "    </tr>\n",
       "    <tr>\n",
       "      <th>269</th>\n",
       "      <td>48</td>\n",
       "      <td>40</td>\n",
       "      <td>20</td>\n",
       "      <td>0</td>\n",
       "      <td>0</td>\n",
       "      <td>0</td>\n",
       "      <td>0</td>\n",
       "      <td>0</td>\n",
       "    </tr>\n",
       "    <tr>\n",
       "      <th>300</th>\n",
       "      <td>18</td>\n",
       "      <td>25</td>\n",
       "      <td>25</td>\n",
       "      <td>0</td>\n",
       "      <td>0</td>\n",
       "      <td>0</td>\n",
       "      <td>1</td>\n",
       "      <td>0</td>\n",
       "    </tr>\n",
       "    <tr>\n",
       "      <th>152</th>\n",
       "      <td>24</td>\n",
       "      <td>8</td>\n",
       "      <td>2</td>\n",
       "      <td>0</td>\n",
       "      <td>0</td>\n",
       "      <td>0</td>\n",
       "      <td>1</td>\n",
       "      <td>0</td>\n",
       "    </tr>\n",
       "    <tr>\n",
       "      <th>23</th>\n",
       "      <td>22</td>\n",
       "      <td>20</td>\n",
       "      <td>20</td>\n",
       "      <td>0</td>\n",
       "      <td>0</td>\n",
       "      <td>0</td>\n",
       "      <td>1</td>\n",
       "      <td>0</td>\n",
       "    </tr>\n",
       "  </tbody>\n",
       "</table>\n",
       "</div>"
      ],
      "text/plain": [
       "     age  amt_weekends  amt_weekdays  sex_Male  marital_status_Married  \\\n",
       "136   44            20            20         0                       1   \n",
       "269   48            40            20         0                       0   \n",
       "300   18            25            25         0                       0   \n",
       "152   24             8             2         0                       0   \n",
       "23    22            20            20         0                       0   \n",
       "\n",
       "     marital_status_Separated  marital_status_Single  marital_status_Widowed  \n",
       "136                         0                      0                       0  \n",
       "269                         0                      0                       0  \n",
       "300                         0                      1                       0  \n",
       "152                         0                      1                       0  \n",
       "23                          0                      1                       0  "
      ]
     },
     "execution_count": 39,
     "metadata": {},
     "output_type": "execute_result"
    }
   ],
   "source": [
    "X_test = pd.get_dummies(X_test, drop_first=True)\n",
    "X_test.head()"
   ]
  },
  {
   "cell_type": "code",
   "execution_count": 40,
   "metadata": {},
   "outputs": [
    {
     "data": {
      "text/plain": [
       "136    1\n",
       "269    1\n",
       "300    0\n",
       "152    1\n",
       "23     1\n",
       "Name: y, dtype: int32"
      ]
     },
     "execution_count": 40,
     "metadata": {},
     "output_type": "execute_result"
    }
   ],
   "source": [
    "y_test = df_test['y']\n",
    "y_test.head()"
   ]
  },
  {
   "cell_type": "markdown",
   "metadata": {},
   "source": [
    "### 4.2. LASSO Logistic Regression Model with Penalty Term $\\lambda=5$\n",
    "\n",
    "#### 4.2.1. Fitting the Model\n",
    "Next, use your training features matrix and target array to fit a LASSO logistic regression model using:\n",
    "* the liblinear solver,\n",
    "* a regularization penalty parameter of $\\lambda=5$,\n",
    "* and a maximum number of solver iterations of 1000."
   ]
  },
  {
   "cell_type": "code",
   "execution_count": 41,
   "metadata": {},
   "outputs": [
    {
     "data": {
      "text/plain": [
       "LogisticRegression(C=0.2, max_iter=1000, penalty='l1', solver='liblinear')"
      ]
     },
     "execution_count": 41,
     "metadata": {},
     "output_type": "execute_result"
    }
   ],
   "source": [
    "lasso_mod_5 = LogisticRegression('l1', solver='liblinear', \n",
    "                          max_iter=1000, C=1/5)\n",
    "lasso_mod_5.fit(X_train,y_train)"
   ]
  },
  {
   "cell_type": "markdown",
   "metadata": {},
   "source": [
    "#### 4.2.2. Extracting the Slopes\n",
    "\n",
    "Next, extract the slopes for this LASSO logistic regression model."
   ]
  },
  {
   "cell_type": "code",
   "execution_count": 42,
   "metadata": {},
   "outputs": [
    {
     "data": {
      "text/html": [
       "<div>\n",
       "<style scoped>\n",
       "    .dataframe tbody tr th:only-of-type {\n",
       "        vertical-align: middle;\n",
       "    }\n",
       "\n",
       "    .dataframe tbody tr th {\n",
       "        vertical-align: top;\n",
       "    }\n",
       "\n",
       "    .dataframe thead th {\n",
       "        text-align: right;\n",
       "    }\n",
       "</style>\n",
       "<table border=\"1\" class=\"dataframe\">\n",
       "  <thead>\n",
       "    <tr style=\"text-align: right;\">\n",
       "      <th></th>\n",
       "      <th>lasso_5_slopes</th>\n",
       "    </tr>\n",
       "  </thead>\n",
       "  <tbody>\n",
       "    <tr>\n",
       "      <th>age</th>\n",
       "      <td>0.028199</td>\n",
       "    </tr>\n",
       "    <tr>\n",
       "      <th>amt_weekends</th>\n",
       "      <td>0.016418</td>\n",
       "    </tr>\n",
       "    <tr>\n",
       "      <th>amt_weekdays</th>\n",
       "      <td>-0.038604</td>\n",
       "    </tr>\n",
       "    <tr>\n",
       "      <th>sex_Male</th>\n",
       "      <td>-0.413925</td>\n",
       "    </tr>\n",
       "    <tr>\n",
       "      <th>marital_status_Married</th>\n",
       "      <td>0.000000</td>\n",
       "    </tr>\n",
       "    <tr>\n",
       "      <th>marital_status_Separated</th>\n",
       "      <td>0.000000</td>\n",
       "    </tr>\n",
       "    <tr>\n",
       "      <th>marital_status_Single</th>\n",
       "      <td>0.000000</td>\n",
       "    </tr>\n",
       "    <tr>\n",
       "      <th>marital_status_Widowed</th>\n",
       "      <td>0.000000</td>\n",
       "    </tr>\n",
       "  </tbody>\n",
       "</table>\n",
       "</div>"
      ],
      "text/plain": [
       "                          lasso_5_slopes\n",
       "age                             0.028199\n",
       "amt_weekends                    0.016418\n",
       "amt_weekdays                   -0.038604\n",
       "sex_Male                       -0.413925\n",
       "marital_status_Married          0.000000\n",
       "marital_status_Separated        0.000000\n",
       "marital_status_Single           0.000000\n",
       "marital_status_Widowed          0.000000"
      ]
     },
     "execution_count": 42,
     "metadata": {},
     "output_type": "execute_result"
    }
   ],
   "source": [
    "df_slope = pd.DataFrame(lasso_mod_5.coef_.T, columns=['lasso_5_slopes'], index=X_train.columns)\n",
    "df_slope"
   ]
  },
  {
   "cell_type": "markdown",
   "metadata": {},
   "source": [
    "#### 4.2.3. Interpreting the Slopes\n",
    "\n",
    "What do the results of this LASSO logistic regression model with regularization penalty $\\lambda=5$ suggest?\n",
    "\n",
    "If we were to create a reduced model based on the resulting slope values of this model, which explanatory variables should be included in the model?"
   ]
  },
  {
   "cell_type": "markdown",
   "metadata": {},
   "source": [
    "The results of this LASSO logistic regression model with regularization penalty $\\lambda=5$ suggest that only the age, amt_weekends, amt_weekdays, and sex explanatory variables bring enough predictive power to logistic regression model to warrant leaving them in the model (as these are the only slopes in the model that are non-zero).\n",
    "\n",
    "If we were to use these results to create a reduced model for further testing, this would indicate that we would only want to use age, amt_Weekends, amt_weekdays, and sex as explanatory variables."
   ]
  },
  {
   "cell_type": "markdown",
   "metadata": {},
   "source": [
    "### 4.3. LASSO Logistic Regression Model with Penalty Term $\\lambda=2$\n",
    "\n",
    "#### 4.3.1. Fitting the Model\n",
    "\n",
    "Next, use your training features matrix and target array to fit a LASSO logistic regression model using:\n",
    "* the liblinear solver,\n",
    "* a regularization penalty parameter of $\\lambda=2$,\n",
    "* and a maximum number of solver iterations of 1000."
   ]
  },
  {
   "cell_type": "code",
   "execution_count": 43,
   "metadata": {},
   "outputs": [
    {
     "data": {
      "text/plain": [
       "LogisticRegression(C=0.5, max_iter=1000, penalty='l1', solver='liblinear')"
      ]
     },
     "execution_count": 43,
     "metadata": {},
     "output_type": "execute_result"
    }
   ],
   "source": [
    "lasso_mod_2 = LogisticRegression('l1', solver='liblinear', \n",
    "                          max_iter=1000, C=1/2)\n",
    "lasso_mod_2.fit(X_train,y_train)"
   ]
  },
  {
   "cell_type": "markdown",
   "metadata": {},
   "source": [
    "#### 4.3.2. Extracting the Slopes\n",
    "\n",
    "Next, extract the slopes for this logistic regression model."
   ]
  },
  {
   "cell_type": "code",
   "execution_count": 44,
   "metadata": {},
   "outputs": [
    {
     "data": {
      "text/html": [
       "<div>\n",
       "<style scoped>\n",
       "    .dataframe tbody tr th:only-of-type {\n",
       "        vertical-align: middle;\n",
       "    }\n",
       "\n",
       "    .dataframe tbody tr th {\n",
       "        vertical-align: top;\n",
       "    }\n",
       "\n",
       "    .dataframe thead th {\n",
       "        text-align: right;\n",
       "    }\n",
       "</style>\n",
       "<table border=\"1\" class=\"dataframe\">\n",
       "  <thead>\n",
       "    <tr style=\"text-align: right;\">\n",
       "      <th></th>\n",
       "      <th>lasso_5_slopes</th>\n",
       "      <th>lasso_2_slopes</th>\n",
       "    </tr>\n",
       "  </thead>\n",
       "  <tbody>\n",
       "    <tr>\n",
       "      <th>age</th>\n",
       "      <td>0.028199</td>\n",
       "      <td>0.019102</td>\n",
       "    </tr>\n",
       "    <tr>\n",
       "      <th>amt_weekends</th>\n",
       "      <td>0.016418</td>\n",
       "      <td>0.010160</td>\n",
       "    </tr>\n",
       "    <tr>\n",
       "      <th>amt_weekdays</th>\n",
       "      <td>-0.038604</td>\n",
       "      <td>-0.034143</td>\n",
       "    </tr>\n",
       "    <tr>\n",
       "      <th>sex_Male</th>\n",
       "      <td>-0.413925</td>\n",
       "      <td>-0.669232</td>\n",
       "    </tr>\n",
       "    <tr>\n",
       "      <th>marital_status_Married</th>\n",
       "      <td>0.000000</td>\n",
       "      <td>0.170803</td>\n",
       "    </tr>\n",
       "    <tr>\n",
       "      <th>marital_status_Separated</th>\n",
       "      <td>0.000000</td>\n",
       "      <td>0.000000</td>\n",
       "    </tr>\n",
       "    <tr>\n",
       "      <th>marital_status_Single</th>\n",
       "      <td>0.000000</td>\n",
       "      <td>0.000000</td>\n",
       "    </tr>\n",
       "    <tr>\n",
       "      <th>marital_status_Widowed</th>\n",
       "      <td>0.000000</td>\n",
       "      <td>0.074299</td>\n",
       "    </tr>\n",
       "  </tbody>\n",
       "</table>\n",
       "</div>"
      ],
      "text/plain": [
       "                          lasso_5_slopes  lasso_2_slopes\n",
       "age                             0.028199        0.019102\n",
       "amt_weekends                    0.016418        0.010160\n",
       "amt_weekdays                   -0.038604       -0.034143\n",
       "sex_Male                       -0.413925       -0.669232\n",
       "marital_status_Married          0.000000        0.170803\n",
       "marital_status_Separated        0.000000        0.000000\n",
       "marital_status_Single           0.000000        0.000000\n",
       "marital_status_Widowed          0.000000        0.074299"
      ]
     },
     "execution_count": 44,
     "metadata": {},
     "output_type": "execute_result"
    }
   ],
   "source": [
    "df_slope['lasso_2_slopes'] = lasso_mod_2.coef_.T\n",
    "df_slope"
   ]
  },
  {
   "cell_type": "markdown",
   "metadata": {},
   "source": [
    "#### 4.3.3. Interpreting the Slopes\n",
    "\n",
    "What do the results of this LASSO logistic regression model with regularization penalty $\\lambda=2$ suggest?\n",
    "\n",
    "If we were to create a reduced model based on the resulting slope values of this model, which explanatory variables should be included in the model?"
   ]
  },
  {
   "cell_type": "markdown",
   "metadata": {},
   "source": [
    "The results of this LASSO logistic regression model with regularization penalty $\\lambda=2$ suggest that all 5 explanatory variables age, amt_weekends, amt_weekdays, sex, and marital status explanatory variables bring enough predictive power to logistic regression model to warrant leaving them in the model. The age, amt_weekends, amt_weekdays, and sex_Male variables all have non-zero slopes. In addition, while some of the marital status indicator variables have zero slopes, because at least one of the indicator variables for marital status has a non-zero slope, this indicates that at least one of the levels of marital status brings enough predictive power to the model to warrant leaving the marital status explanatory variable (and all of it's 4 indicator variables) in the model.\n",
    "\n",
    "\n",
    "Because of our results above, our \"reduced model\" would actually just be the full model which uses all 5 explanatory variables, as our LASSO results with $\\lambda=2$ suggested that none of the explanatory variables should be dropped."
   ]
  },
  {
   "cell_type": "markdown",
   "metadata": {},
   "source": [
    "### 4.4. Elastic Net Logistic Regression Model with Penalty Term $\\lambda=5$ and $\\alpha = 0.9$\n",
    "\n",
    "#### 4.4.1. Fitting the Model\n",
    "\n",
    "Next, use your training features matrix and target array to fit an elastic net logistic regression model using:\n",
    "* the saga solver,\n",
    "* a regularization penalty parameter of $\\lambda=5$,\n",
    "* and a maximum number of solver iterations of 1000,\n",
    "* and an $\\alpha=0.9$."
   ]
  },
  {
   "cell_type": "code",
   "execution_count": 45,
   "metadata": {},
   "outputs": [
    {
     "name": "stderr",
     "output_type": "stream",
     "text": [
      "C:\\Users\\vellison\\AppData\\Roaming\\Python\\Python39\\site-packages\\sklearn\\linear_model\\_sag.py:352: ConvergenceWarning: The max_iter was reached which means the coef_ did not converge\n",
      "  warnings.warn(\n"
     ]
    },
    {
     "data": {
      "text/plain": [
       "LogisticRegression(C=0.2, l1_ratio=0.9, max_iter=1000, penalty='elasticnet',\n",
       "                   solver='saga')"
      ]
     },
     "execution_count": 45,
     "metadata": {},
     "output_type": "execute_result"
    }
   ],
   "source": [
    "enet_mod = LogisticRegression('elasticnet', solver='saga', \n",
    "                          max_iter=1000, C=1/5, l1_ratio=0.9)\n",
    "enet_mod.fit(X_train,y_train)"
   ]
  },
  {
   "cell_type": "markdown",
   "metadata": {},
   "source": [
    "#### 4.4.2. Extracting the Slopes\n",
    "\n",
    "Next, extract the slopes for this logistic regression model."
   ]
  },
  {
   "cell_type": "code",
   "execution_count": 46,
   "metadata": {},
   "outputs": [
    {
     "data": {
      "text/html": [
       "<div>\n",
       "<style scoped>\n",
       "    .dataframe tbody tr th:only-of-type {\n",
       "        vertical-align: middle;\n",
       "    }\n",
       "\n",
       "    .dataframe tbody tr th {\n",
       "        vertical-align: top;\n",
       "    }\n",
       "\n",
       "    .dataframe thead th {\n",
       "        text-align: right;\n",
       "    }\n",
       "</style>\n",
       "<table border=\"1\" class=\"dataframe\">\n",
       "  <thead>\n",
       "    <tr style=\"text-align: right;\">\n",
       "      <th></th>\n",
       "      <th>lasso_5_slopes</th>\n",
       "      <th>lasso_2_slopes</th>\n",
       "      <th>elastic_net_slopes</th>\n",
       "    </tr>\n",
       "  </thead>\n",
       "  <tbody>\n",
       "    <tr>\n",
       "      <th>age</th>\n",
       "      <td>0.028199</td>\n",
       "      <td>0.019102</td>\n",
       "      <td>0.019915</td>\n",
       "    </tr>\n",
       "    <tr>\n",
       "      <th>amt_weekends</th>\n",
       "      <td>0.016418</td>\n",
       "      <td>0.010160</td>\n",
       "      <td>0.007228</td>\n",
       "    </tr>\n",
       "    <tr>\n",
       "      <th>amt_weekdays</th>\n",
       "      <td>-0.038604</td>\n",
       "      <td>-0.034143</td>\n",
       "      <td>-0.034094</td>\n",
       "    </tr>\n",
       "    <tr>\n",
       "      <th>sex_Male</th>\n",
       "      <td>-0.413925</td>\n",
       "      <td>-0.669232</td>\n",
       "      <td>-0.456783</td>\n",
       "    </tr>\n",
       "    <tr>\n",
       "      <th>marital_status_Married</th>\n",
       "      <td>0.000000</td>\n",
       "      <td>0.170803</td>\n",
       "      <td>0.000000</td>\n",
       "    </tr>\n",
       "    <tr>\n",
       "      <th>marital_status_Separated</th>\n",
       "      <td>0.000000</td>\n",
       "      <td>0.000000</td>\n",
       "      <td>0.000000</td>\n",
       "    </tr>\n",
       "    <tr>\n",
       "      <th>marital_status_Single</th>\n",
       "      <td>0.000000</td>\n",
       "      <td>0.000000</td>\n",
       "      <td>0.000000</td>\n",
       "    </tr>\n",
       "    <tr>\n",
       "      <th>marital_status_Widowed</th>\n",
       "      <td>0.000000</td>\n",
       "      <td>0.074299</td>\n",
       "      <td>0.000000</td>\n",
       "    </tr>\n",
       "  </tbody>\n",
       "</table>\n",
       "</div>"
      ],
      "text/plain": [
       "                          lasso_5_slopes  lasso_2_slopes  elastic_net_slopes\n",
       "age                             0.028199        0.019102            0.019915\n",
       "amt_weekends                    0.016418        0.010160            0.007228\n",
       "amt_weekdays                   -0.038604       -0.034143           -0.034094\n",
       "sex_Male                       -0.413925       -0.669232           -0.456783\n",
       "marital_status_Married          0.000000        0.170803            0.000000\n",
       "marital_status_Separated        0.000000        0.000000            0.000000\n",
       "marital_status_Single           0.000000        0.000000            0.000000\n",
       "marital_status_Widowed          0.000000        0.074299            0.000000"
      ]
     },
     "execution_count": 46,
     "metadata": {},
     "output_type": "execute_result"
    }
   ],
   "source": [
    "df_slope['elastic_net_slopes'] = enet_mod.coef_.T\n",
    "df_slope"
   ]
  },
  {
   "cell_type": "markdown",
   "metadata": {},
   "source": [
    "#### 4.4.3. Interpreting the Slopes\n",
    "\n",
    "What do the results of this elastic net logistic regression model with regularization penalty $\\lambda=5$ and $\\alpha=0.9$ suggest?\n",
    "\n",
    "If we were to create a reduced model based on the resulting slope values of this model, which explanatory variables should be included in the model?"
   ]
  },
  {
   "cell_type": "markdown",
   "metadata": {},
   "source": [
    "The results of this elastic net logistic regression model with regularization penalty $\\lambda=5$ and $\\alpha=0.9$ suggest that only the age, amt_weekends, amt_weekdays, and sex explanatory variables bring enough predictive power to logistic regression model to warrant leaving them in the model (as these are the only slopes in the model that are non-zero).\n",
    "\n",
    "If we were to use these results to create a reduced model for further testing, this would indicate that we would only want to use age, amt_Weekends, amt_weekdays, and sex as explanatory variables."
   ]
  },
  {
   "cell_type": "markdown",
   "metadata": {},
   "source": [
    "### 4.5. Ridge Logistic Regression Model with Penalty Term $\\lambda=5$\n",
    "\n",
    "#### 4.5.1. Fitting the Model\n",
    "\n",
    "Next, use your training features matrix and target array to fit a ridge logistic regression model using:\n",
    "* the liblinear solver,\n",
    "* a regularization penalty parameter of $\\lambda=5$,\n",
    "* and a maximum number of solver iterations of 1000."
   ]
  },
  {
   "cell_type": "code",
   "execution_count": 47,
   "metadata": {},
   "outputs": [
    {
     "data": {
      "text/plain": [
       "LogisticRegression(C=0.2, max_iter=1000, solver='liblinear')"
      ]
     },
     "execution_count": 47,
     "metadata": {},
     "output_type": "execute_result"
    }
   ],
   "source": [
    "r_mod = LogisticRegression('l2', solver='liblinear', \n",
    "                          max_iter=1000, C=1/5)\n",
    "r_mod.fit(X_train,y_train)"
   ]
  },
  {
   "cell_type": "markdown",
   "metadata": {},
   "source": [
    "#### 4.5.2. Extracting the Slopes\n",
    "\n",
    "Next, extract the slopes for this logistic regression model."
   ]
  },
  {
   "cell_type": "code",
   "execution_count": 48,
   "metadata": {},
   "outputs": [
    {
     "data": {
      "text/html": [
       "<div>\n",
       "<style scoped>\n",
       "    .dataframe tbody tr th:only-of-type {\n",
       "        vertical-align: middle;\n",
       "    }\n",
       "\n",
       "    .dataframe tbody tr th {\n",
       "        vertical-align: top;\n",
       "    }\n",
       "\n",
       "    .dataframe thead th {\n",
       "        text-align: right;\n",
       "    }\n",
       "</style>\n",
       "<table border=\"1\" class=\"dataframe\">\n",
       "  <thead>\n",
       "    <tr style=\"text-align: right;\">\n",
       "      <th></th>\n",
       "      <th>lasso_5_slopes</th>\n",
       "      <th>lasso_2_slopes</th>\n",
       "      <th>elastic_net_slopes</th>\n",
       "      <th>ridge_reg_slopes</th>\n",
       "    </tr>\n",
       "  </thead>\n",
       "  <tbody>\n",
       "    <tr>\n",
       "      <th>age</th>\n",
       "      <td>0.028199</td>\n",
       "      <td>0.019102</td>\n",
       "      <td>0.019915</td>\n",
       "      <td>0.018139</td>\n",
       "    </tr>\n",
       "    <tr>\n",
       "      <th>amt_weekends</th>\n",
       "      <td>0.016418</td>\n",
       "      <td>0.010160</td>\n",
       "      <td>0.007228</td>\n",
       "      <td>0.013308</td>\n",
       "    </tr>\n",
       "    <tr>\n",
       "      <th>amt_weekdays</th>\n",
       "      <td>-0.038604</td>\n",
       "      <td>-0.034143</td>\n",
       "      <td>-0.034094</td>\n",
       "      <td>-0.037380</td>\n",
       "    </tr>\n",
       "    <tr>\n",
       "      <th>sex_Male</th>\n",
       "      <td>-0.413925</td>\n",
       "      <td>-0.669232</td>\n",
       "      <td>-0.456783</td>\n",
       "      <td>-0.591127</td>\n",
       "    </tr>\n",
       "    <tr>\n",
       "      <th>marital_status_Married</th>\n",
       "      <td>0.000000</td>\n",
       "      <td>0.170803</td>\n",
       "      <td>0.000000</td>\n",
       "      <td>0.236380</td>\n",
       "    </tr>\n",
       "    <tr>\n",
       "      <th>marital_status_Separated</th>\n",
       "      <td>0.000000</td>\n",
       "      <td>0.000000</td>\n",
       "      <td>0.000000</td>\n",
       "      <td>-0.066120</td>\n",
       "    </tr>\n",
       "    <tr>\n",
       "      <th>marital_status_Single</th>\n",
       "      <td>0.000000</td>\n",
       "      <td>0.000000</td>\n",
       "      <td>0.000000</td>\n",
       "      <td>-0.037263</td>\n",
       "    </tr>\n",
       "    <tr>\n",
       "      <th>marital_status_Widowed</th>\n",
       "      <td>0.000000</td>\n",
       "      <td>0.074299</td>\n",
       "      <td>0.000000</td>\n",
       "      <td>0.268752</td>\n",
       "    </tr>\n",
       "  </tbody>\n",
       "</table>\n",
       "</div>"
      ],
      "text/plain": [
       "                          lasso_5_slopes  lasso_2_slopes  elastic_net_slopes  \\\n",
       "age                             0.028199        0.019102            0.019915   \n",
       "amt_weekends                    0.016418        0.010160            0.007228   \n",
       "amt_weekdays                   -0.038604       -0.034143           -0.034094   \n",
       "sex_Male                       -0.413925       -0.669232           -0.456783   \n",
       "marital_status_Married          0.000000        0.170803            0.000000   \n",
       "marital_status_Separated        0.000000        0.000000            0.000000   \n",
       "marital_status_Single           0.000000        0.000000            0.000000   \n",
       "marital_status_Widowed          0.000000        0.074299            0.000000   \n",
       "\n",
       "                          ridge_reg_slopes  \n",
       "age                               0.018139  \n",
       "amt_weekends                      0.013308  \n",
       "amt_weekdays                     -0.037380  \n",
       "sex_Male                         -0.591127  \n",
       "marital_status_Married            0.236380  \n",
       "marital_status_Separated         -0.066120  \n",
       "marital_status_Single            -0.037263  \n",
       "marital_status_Widowed            0.268752  "
      ]
     },
     "execution_count": 48,
     "metadata": {},
     "output_type": "execute_result"
    }
   ],
   "source": [
    "df_slope['ridge_reg_slopes'] = r_mod.coef_.T\n",
    "df_slope"
   ]
  },
  {
   "cell_type": "markdown",
   "metadata": {},
   "source": [
    "### 4.6. Non-Regularized Logistic Regression Model\n",
    "\n",
    "#### 4.5.1. Fitting the Model\n",
    "\n",
    "Next, use your training features matrix and target array to fit a non-regularized logistic regression model using:\n",
    "* the newton-cg solver,\n",
    "* and a maximum number of solver iterations of 1000."
   ]
  },
  {
   "cell_type": "code",
   "execution_count": 49,
   "metadata": {},
   "outputs": [
    {
     "data": {
      "text/plain": [
       "LogisticRegression(max_iter=1000, penalty='none', solver='newton-cg')"
      ]
     },
     "execution_count": 49,
     "metadata": {},
     "output_type": "execute_result"
    }
   ],
   "source": [
    "log_reg = LogisticRegression('none', solver='newton-cg', \n",
    "                          max_iter=1000)\n",
    "log_reg.fit(X_train,y_train)"
   ]
  },
  {
   "cell_type": "markdown",
   "metadata": {},
   "source": [
    "#### 4.5.2. Extracting the Slopes\n",
    "\n",
    "Next, extract the slopes for this logistic regression model."
   ]
  },
  {
   "cell_type": "code",
   "execution_count": 50,
   "metadata": {},
   "outputs": [
    {
     "data": {
      "text/html": [
       "<div>\n",
       "<style scoped>\n",
       "    .dataframe tbody tr th:only-of-type {\n",
       "        vertical-align: middle;\n",
       "    }\n",
       "\n",
       "    .dataframe tbody tr th {\n",
       "        vertical-align: top;\n",
       "    }\n",
       "\n",
       "    .dataframe thead th {\n",
       "        text-align: right;\n",
       "    }\n",
       "</style>\n",
       "<table border=\"1\" class=\"dataframe\">\n",
       "  <thead>\n",
       "    <tr style=\"text-align: right;\">\n",
       "      <th></th>\n",
       "      <th>lasso_5_slopes</th>\n",
       "      <th>lasso_2_slopes</th>\n",
       "      <th>elastic_net_slopes</th>\n",
       "      <th>ridge_reg_slopes</th>\n",
       "      <th>log_reg_slopes</th>\n",
       "    </tr>\n",
       "  </thead>\n",
       "  <tbody>\n",
       "    <tr>\n",
       "      <th>age</th>\n",
       "      <td>0.028199</td>\n",
       "      <td>0.019102</td>\n",
       "      <td>0.019915</td>\n",
       "      <td>0.018139</td>\n",
       "      <td>-0.000524</td>\n",
       "    </tr>\n",
       "    <tr>\n",
       "      <th>amt_weekends</th>\n",
       "      <td>0.016418</td>\n",
       "      <td>0.010160</td>\n",
       "      <td>0.007228</td>\n",
       "      <td>0.013308</td>\n",
       "      <td>0.004912</td>\n",
       "    </tr>\n",
       "    <tr>\n",
       "      <th>amt_weekdays</th>\n",
       "      <td>-0.038604</td>\n",
       "      <td>-0.034143</td>\n",
       "      <td>-0.034094</td>\n",
       "      <td>-0.037380</td>\n",
       "      <td>-0.031127</td>\n",
       "    </tr>\n",
       "    <tr>\n",
       "      <th>sex_Male</th>\n",
       "      <td>-0.413925</td>\n",
       "      <td>-0.669232</td>\n",
       "      <td>-0.456783</td>\n",
       "      <td>-0.591127</td>\n",
       "      <td>-0.794481</td>\n",
       "    </tr>\n",
       "    <tr>\n",
       "      <th>marital_status_Married</th>\n",
       "      <td>0.000000</td>\n",
       "      <td>0.170803</td>\n",
       "      <td>0.000000</td>\n",
       "      <td>0.236380</td>\n",
       "      <td>0.293273</td>\n",
       "    </tr>\n",
       "    <tr>\n",
       "      <th>marital_status_Separated</th>\n",
       "      <td>0.000000</td>\n",
       "      <td>0.000000</td>\n",
       "      <td>0.000000</td>\n",
       "      <td>-0.066120</td>\n",
       "      <td>-0.251487</td>\n",
       "    </tr>\n",
       "    <tr>\n",
       "      <th>marital_status_Single</th>\n",
       "      <td>0.000000</td>\n",
       "      <td>0.000000</td>\n",
       "      <td>0.000000</td>\n",
       "      <td>-0.037263</td>\n",
       "      <td>-0.353866</td>\n",
       "    </tr>\n",
       "    <tr>\n",
       "      <th>marital_status_Widowed</th>\n",
       "      <td>0.000000</td>\n",
       "      <td>0.074299</td>\n",
       "      <td>0.000000</td>\n",
       "      <td>0.268752</td>\n",
       "      <td>0.962542</td>\n",
       "    </tr>\n",
       "  </tbody>\n",
       "</table>\n",
       "</div>"
      ],
      "text/plain": [
       "                          lasso_5_slopes  lasso_2_slopes  elastic_net_slopes  \\\n",
       "age                             0.028199        0.019102            0.019915   \n",
       "amt_weekends                    0.016418        0.010160            0.007228   \n",
       "amt_weekdays                   -0.038604       -0.034143           -0.034094   \n",
       "sex_Male                       -0.413925       -0.669232           -0.456783   \n",
       "marital_status_Married          0.000000        0.170803            0.000000   \n",
       "marital_status_Separated        0.000000        0.000000            0.000000   \n",
       "marital_status_Single           0.000000        0.000000            0.000000   \n",
       "marital_status_Widowed          0.000000        0.074299            0.000000   \n",
       "\n",
       "                          ridge_reg_slopes  log_reg_slopes  \n",
       "age                               0.018139       -0.000524  \n",
       "amt_weekends                      0.013308        0.004912  \n",
       "amt_weekdays                     -0.037380       -0.031127  \n",
       "sex_Male                         -0.591127       -0.794481  \n",
       "marital_status_Married            0.236380        0.293273  \n",
       "marital_status_Separated         -0.066120       -0.251487  \n",
       "marital_status_Single            -0.037263       -0.353866  \n",
       "marital_status_Widowed            0.268752        0.962542  "
      ]
     },
     "execution_count": 50,
     "metadata": {},
     "output_type": "execute_result"
    }
   ],
   "source": [
    "df_slope['log_reg_slopes'] = log_reg.coef_.T\n",
    "df_slope"
   ]
  },
  {
   "cell_type": "markdown",
   "metadata": {},
   "source": [
    "### 4.7. Comparing Ridge Logistic Regression Slopes to Non-Regularized Logistic Regression Slopes\n",
    "\n",
    "Next, find the ratio of each ridge regression slope to it's corresponding non-regularized logistic regression slope. \n",
    "* Which slopes significantly decreased in magnitude in the logistic ridge regression model compared to the non-regularized logistic regression model?\n",
    "* Which slopes significantly increased in magnitude in the logistic ridge regression model compared to the non-regularized logistic regression model?"
   ]
  },
  {
   "cell_type": "code",
   "execution_count": 51,
   "metadata": {},
   "outputs": [
    {
     "data": {
      "text/plain": [
       "age                        -34.626477\n",
       "amt_weekends                 2.709391\n",
       "amt_weekdays                 1.200894\n",
       "sex_Male                     0.744042\n",
       "marital_status_Married       0.806006\n",
       "marital_status_Separated     0.262914\n",
       "marital_status_Single        0.105301\n",
       "marital_status_Widowed       0.279211\n",
       "dtype: float64"
      ]
     },
     "execution_count": 51,
     "metadata": {},
     "output_type": "execute_result"
    }
   ],
   "source": [
    "df_slope['ridge_reg_slopes']/df_slope['log_reg_slopes']"
   ]
  },
  {
   "cell_type": "markdown",
   "metadata": {},
   "source": [
    "The marital_status_Separated, marital_status_Single, and marital_status_Widowed slopes significantly decreased and the age slope significantly increased."
   ]
  },
  {
   "cell_type": "markdown",
   "metadata": {},
   "source": [
    "### 4.8. LASSO vs. Ridge Regression Interpretability\n",
    "\n",
    "Do our LASSO logistic regression results or our ridge logistic regression results yield more straightforward suggestions about how to construct an insightful reduced model? Explain."
   ]
  },
  {
   "cell_type": "markdown",
   "metadata": {},
   "source": [
    "Our LASSO logistic regression results are much more straightforward about which explanatory variables to exclude and include in a reduced model. In the LASSO model, many of the slopes are set exactly equal to 0, suggesting that these corresponding explanatory variables do not bring enough predictive power to the model. Thus we might consider excluding these explanatory variables from a reduced model to use for further testing.\n",
    "\n",
    "Alternatively, ridge regression models will often not set any of the slopes EXACTLY equal to 0. This makes interpretation difficult as some slopes in a logistic may be:\n",
    "* set to be small because they do not bring enough preditive power to the model OR\n",
    "* the relationship between this variable and the response variable may just be naturally small.\n",
    "\n",
    "It is more difficult to determine \"how small of a slope is small enough\" to determine that the corresponding variable does not contribute enough predictive power to the model."
   ]
  },
  {
   "cell_type": "markdown",
   "metadata": {},
   "source": [
    "## 5. <u>Reduced Model 2</u> Testing the Reduced Model\n",
    "\n",
    "Use your suggestions from 4.2.3 to fit one more reduced logistic regression model."
   ]
  },
  {
   "cell_type": "markdown",
   "metadata": {},
   "source": [
    "### 5.1. Fitting the Full Logistic Regression Model\n",
    "\n",
    "Fit this reduced logistic regression model 2 **with the training dataset** and display the summary output table below."
   ]
  },
  {
   "cell_type": "code",
   "execution_count": 52,
   "metadata": {},
   "outputs": [
    {
     "name": "stdout",
     "output_type": "stream",
     "text": [
      "Optimization terminated successfully.\n",
      "         Current function value: 0.581044\n",
      "         Iterations 5\n"
     ]
    },
    {
     "data": {
      "text/html": [
       "<table class=\"simpletable\">\n",
       "<caption>Logit Regression Results</caption>\n",
       "<tr>\n",
       "  <th>Dep. Variable:</th>           <td>y</td>        <th>  No. Observations:  </th>  <td>   336</td>  \n",
       "</tr>\n",
       "<tr>\n",
       "  <th>Model:</th>                 <td>Logit</td>      <th>  Df Residuals:      </th>  <td>   331</td>  \n",
       "</tr>\n",
       "<tr>\n",
       "  <th>Method:</th>                 <td>MLE</td>       <th>  Df Model:          </th>  <td>     4</td>  \n",
       "</tr>\n",
       "<tr>\n",
       "  <th>Date:</th>            <td>Fri, 02 Dec 2022</td> <th>  Pseudo R-squ.:     </th>  <td>0.05346</td> \n",
       "</tr>\n",
       "<tr>\n",
       "  <th>Time:</th>                <td>15:53:25</td>     <th>  Log-Likelihood:    </th> <td> -195.23</td> \n",
       "</tr>\n",
       "<tr>\n",
       "  <th>converged:</th>             <td>True</td>       <th>  LL-Null:           </th> <td> -206.26</td> \n",
       "</tr>\n",
       "<tr>\n",
       "  <th>Covariance Type:</th>     <td>nonrobust</td>    <th>  LLR p-value:       </th> <td>0.0001957</td>\n",
       "</tr>\n",
       "</table>\n",
       "<table class=\"simpletable\">\n",
       "<tr>\n",
       "        <td></td>          <th>coef</th>     <th>std err</th>      <th>z</th>      <th>P>|z|</th>  <th>[0.025</th>    <th>0.975]</th>  \n",
       "</tr>\n",
       "<tr>\n",
       "  <th>Intercept</th>    <td>    0.8925</td> <td>    0.406</td> <td>    2.197</td> <td> 0.028</td> <td>    0.096</td> <td>    1.689</td>\n",
       "</tr>\n",
       "<tr>\n",
       "  <th>sex[T.Male]</th>  <td>   -0.8261</td> <td>    0.253</td> <td>   -3.266</td> <td> 0.001</td> <td>   -1.322</td> <td>   -0.330</td>\n",
       "</tr>\n",
       "<tr>\n",
       "  <th>age</th>          <td>    0.0160</td> <td>    0.008</td> <td>    1.956</td> <td> 0.051</td> <td>-3.58e-05</td> <td>    0.032</td>\n",
       "</tr>\n",
       "<tr>\n",
       "  <th>amt_weekends</th> <td>    0.0052</td> <td>    0.020</td> <td>    0.263</td> <td> 0.792</td> <td>   -0.034</td> <td>    0.044</td>\n",
       "</tr>\n",
       "<tr>\n",
       "  <th>amt_weekdays</th> <td>   -0.0308</td> <td>    0.021</td> <td>   -1.439</td> <td> 0.150</td> <td>   -0.073</td> <td>    0.011</td>\n",
       "</tr>\n",
       "</table>"
      ],
      "text/plain": [
       "<class 'statsmodels.iolib.summary.Summary'>\n",
       "\"\"\"\n",
       "                           Logit Regression Results                           \n",
       "==============================================================================\n",
       "Dep. Variable:                      y   No. Observations:                  336\n",
       "Model:                          Logit   Df Residuals:                      331\n",
       "Method:                           MLE   Df Model:                            4\n",
       "Date:                Fri, 02 Dec 2022   Pseudo R-squ.:                 0.05346\n",
       "Time:                        15:53:25   Log-Likelihood:                -195.23\n",
       "converged:                       True   LL-Null:                       -206.26\n",
       "Covariance Type:            nonrobust   LLR p-value:                 0.0001957\n",
       "================================================================================\n",
       "                   coef    std err          z      P>|z|      [0.025      0.975]\n",
       "--------------------------------------------------------------------------------\n",
       "Intercept        0.8925      0.406      2.197      0.028       0.096       1.689\n",
       "sex[T.Male]     -0.8261      0.253     -3.266      0.001      -1.322      -0.330\n",
       "age              0.0160      0.008      1.956      0.051   -3.58e-05       0.032\n",
       "amt_weekends     0.0052      0.020      0.263      0.792      -0.034       0.044\n",
       "amt_weekdays    -0.0308      0.021     -1.439      0.150      -0.073       0.011\n",
       "================================================================================\n",
       "\"\"\""
      ]
     },
     "execution_count": 52,
     "metadata": {},
     "output_type": "execute_result"
    }
   ],
   "source": [
    "red_mod2=smf.logit('y~age+sex+amt_weekends+amt_weekdays', data=df_train).fit()\n",
    "red_mod2.summary()"
   ]
  },
  {
   "cell_type": "markdown",
   "metadata": {},
   "source": [
    "### 5.2. Predictive Probabilities\n",
    "\n",
    "Next, use this reduced logistic regression model 2 to calculate the predictive probabilities for the observations in the **test dataset.**"
   ]
  },
  {
   "cell_type": "code",
   "execution_count": 53,
   "metadata": {},
   "outputs": [
    {
     "data": {
      "text/plain": [
       "136    0.747687\n",
       "269    0.778120\n",
       "300    0.632229\n",
       "152    0.778565\n",
       "23     0.675625\n",
       "Name: phat_test, dtype: float64"
      ]
     },
     "execution_count": 53,
     "metadata": {},
     "output_type": "execute_result"
    }
   ],
   "source": [
    "df_test['phat_test'] = red_mod2.predict(exog=df_test)\n",
    "df_test['phat_test'].head() "
   ]
  },
  {
   "cell_type": "markdown",
   "metadata": {},
   "source": [
    "### 5.3. ROC and AUC\n",
    "\n",
    "Finally, display the ROC curve and AUC score for this **full logistic regression model** and the **test dataset**."
   ]
  },
  {
   "cell_type": "code",
   "execution_count": 54,
   "metadata": {},
   "outputs": [],
   "source": [
    "from sklearn.metrics import roc_curve\n",
    "from sklearn.metrics import roc_auc_score\n",
    "\n",
    "fpr, tpr, score = roc_curve(y_true=df_test['y'], y_score=df_test['phat_test'])\n",
    "auc = roc_auc_score(y_true=df_test['y'], y_score=df_test['phat_test'])"
   ]
  },
  {
   "cell_type": "code",
   "execution_count": 55,
   "metadata": {},
   "outputs": [],
   "source": [
    "def plot_roc(fpr, tpr, auc, lw=2):\n",
    "    plt.plot(fpr, tpr, color='darkorange', lw=lw,\n",
    "             label='ROC curve (area = '+str(round(auc,3))+')')\n",
    "    plt.plot([0, 1], [0, 1], color='navy', lw=lw, linestyle='--')\n",
    "    plt.xlabel('False Positive Rate')\n",
    "    plt.ylabel('True Positive Rate')\n",
    "    plt.title('ROC Curve')\n",
    "    plt.legend(loc=\"lower right\")\n",
    "    plt.show()"
   ]
  },
  {
   "cell_type": "code",
   "execution_count": 56,
   "metadata": {},
   "outputs": [
    {
     "data": {
      "image/png": "[encoded data removed]",
      "text/plain": [
       "<Figure size 432x288 with 1 Axes>"
      ]
     },
     "metadata": {
      "needs_background": "light"
     },
     "output_type": "display_data"
    }
   ],
   "source": [
    "plot_roc(fpr, tpr, auc)"
   ]
  },
  {
   "cell_type": "markdown",
   "metadata": {},
   "source": [
    "## 6. Comparing the 3 Classifier Models\n",
    "\n",
    "Next, we would like to compare the performance of all 3 classifier models that we have selected ie.:\n",
    "* the full model\n",
    "* reduced model 1\n",
    "* reduced model 2\n",
    "\n",
    "### 6.1. Best Test Dataset Performance with Test Dataset\n",
    "\n",
    "Which of these three classifier models performed the best when it came to classifying the test dataset? Explain."
   ]
  },
  {
   "cell_type": "markdown",
   "metadata": {},
   "source": [
    "It actually turns out that the full model had the best performance out of all 3 classifier models. It's AUC for the test dataset was the highest. This indicates that the full classifier model had a predictive probability threshold that got the closest to having the ideal classification scenario of a fpr = 0 and a tpr = 1."
   ]
  },
  {
   "cell_type": "markdown",
   "metadata": {},
   "source": [
    "### 6.2. Assessing General Performance\n",
    "\n",
    "Did any of these classifier models perform exceptionally well at classifying the observations in the test dataset? Explain."
   ]
  },
  {
   "cell_type": "markdown",
   "metadata": {},
   "source": [
    "None of these classifiers performed exceptionally well in classifying the observations in the test dataset. The full model had the highest AUC of 0.657. This indicates that none of these logistic regression models had a predictive probability threshold that got anywhere close to yielding the ideal classification scenario of a fpr = 0 and a tpr =1 (which would have yielded an AUC of 1). \n",
    "\n",
    "Even our best logistic regression model is much closer to an AUC of 0.5, which would be the type of classifier model performance we would expect to get if we had simpy just assigned a 1 (ie. packets) classification and 0 (ie. non-packets classification) to the data in our test dataset at random."
   ]
  },
  {
   "cell_type": "markdown",
   "metadata": {},
   "source": [
    "### 6.3. Model Comparison with Hypothesis Testing\n",
    "\n",
    "Finally, let's compare our reduced model 1 to our full model using the log likelihood ratio test.\n",
    "\n",
    "#### 6.3.1. Hypotheses\n",
    "\n",
    "First set up your hypotheses for this hypothesis test below."
   ]
  },
  {
   "cell_type": "markdown",
   "metadata": {},
   "source": [
    "$\n",
    "\\begin{align}\n",
    "H_0: &\\quad \\mbox{Reduced Model is correct},\\\\\n",
    "\\\\\n",
    "H_A: &\\quad \\mbox{Reduced Model is incorrect because the missing 'marital_status' indicator variable coefficients as well as the amt_weekends coefficient in Reduced Model are not zero}.\\\\\n",
    "\\end{align}\n",
    "$"
   ]
  },
  {
   "cell_type": "markdown",
   "metadata": {},
   "source": [
    "#### 6.3.2. Test Statistic\n",
    "\n",
    "Next, calculate the test statistic for this hypothesis test."
   ]
  },
  {
   "cell_type": "code",
   "execution_count": 57,
   "metadata": {},
   "outputs": [
    {
     "data": {
      "text/plain": [
       "5.385803177781497"
      ]
     },
     "execution_count": 57,
     "metadata": {},
     "output_type": "execute_result"
    }
   ],
   "source": [
    "test_stat = -2*(red_mod1.llf - full_mod.llf)\n",
    "test_stat"
   ]
  },
  {
   "cell_type": "markdown",
   "metadata": {},
   "source": [
    "#### 6.3.3. p-value\n",
    "\n",
    "Then, calculate the p-value for this hypothesis test."
   ]
  },
  {
   "cell_type": "markdown",
   "metadata": {},
   "source": [
    "There were 5 slopes that were deleted in going from the full model to reduced model 1 (ie. the 4 indicator variable slopes for marital status and the 1 slope for the amt_weekend variable). \n",
    "\n",
    "Thus, our p-value is the area under the Chi-Squared distribution with df = 5 going to the right of our test statistic."
   ]
  },
  {
   "cell_type": "code",
   "execution_count": 58,
   "metadata": {},
   "outputs": [
    {
     "data": {
      "text/plain": [
       "0.370630499784671"
      ]
     },
     "execution_count": 58,
     "metadata": {},
     "output_type": "execute_result"
    }
   ],
   "source": [
    "from scipy.stats import chi2\n",
    "pvalue = 1 - chi2.cdf(test_stat, df=5)\n",
    "pvalue"
   ]
  },
  {
   "cell_type": "markdown",
   "metadata": {},
   "source": [
    "#### 6.3.4. Conclusion\n",
    "\n",
    "Use your p-value and a significance level of $\\alpha = 0.05$ to evaluate your hypotheses."
   ]
  },
  {
   "cell_type": "markdown",
   "metadata": {},
   "source": [
    "Because our p-value = $0.37\\geq \\alpha=0.05$ we fail to reject our null hypothesis. Thus, there is not sufficient evidence to suggest that the reduced Model is incorrect because the missing 'marital_status' indicator variable coefficients as well as the amt_weekends coefficients in Reduced Model are not zero. "
   ]
  },
  {
   "cell_type": "markdown",
   "metadata": {},
   "source": [
    "### 6.4. Comparison of Results\n",
    "\n",
    "Does your analyses in 6.1 and 6.3 agree?"
   ]
  },
  {
   "cell_type": "markdown",
   "metadata": {},
   "source": [
    "No. Our ROC curves constructed for the test data indicate that the full model slightly outperformed both of the reduced models. However, our log-likelihood ratio test in 6.3 suggests that reduced model 1 is more parsimonious than the full model, and is therefore suggests is less likely to be overfitting the model and thereby get better performance for new datasets.\n",
    "\n",
    "To further test why this disagreement might be happening, we might consider trying out different splits of the dataset into training and test data. It may be the case that our reduced models may outperform the full model for different test datasets."
   ]
  },
  {
   "cell_type": "markdown",
   "metadata": {},
   "source": [
    "## 7. Full Classifier Model Test Data Performance\n",
    "\n",
    "Finally, let's examine our **full logistic regression classifier model** with our **training dataset**."
   ]
  },
  {
   "cell_type": "markdown",
   "metadata": {},
   "source": [
    "### 7.1. Evaluating FPR/TPR Combinations in the ROC Curve\n",
    "\n",
    "Let's examine two predictive probability thresholds that we could use with our full model.\n",
    "\n",
    "* One threshold creates a classification of the test data with tpr = 0.746, fpr = 0.591.\n",
    "* The other threshold creates a classification of the test data with tpr = 0.492, fpr = 0.136\n",
    "\n",
    "Suppose that we work for a public health organization in the U.K. and we are trying to target a public health awareness ad campaign specifically to people that smoke packet cigarettes. We do not know if these people smoke packets or not, but we do know their sex, age, marital status, and how many cigarettes they smoke on the weekends and weekdays.\n",
    "\n",
    "It is very important that we direct these ads to as many packet smokers as possible. However, it is not a big deal if we direct these ads to quite a lot of non-packet smokers as well. Which of these two thresholds will better help us meet our goal?"
   ]
  },
  {
   "cell_type": "markdown",
   "metadata": {},
   "source": [
    "The first threshold that produces a tpr = 0.746, fpr = 0.636 will be better. Because we want to accurately predict as many packet smokers (ie. y=1 observations) as possible, we would like for our true positive rate to be high. However, we do not care as much if we incorrectly classify a lot of non-packet smokers (ie. y=0 observations). In other words, we do not care if our false positive rate is high."
   ]
  },
  {
   "cell_type": "markdown",
   "metadata": {},
   "source": [
    "### 7.2. Predictive Probability Threshold\n",
    "\n",
    "Find the predictive probability threshold that will yield the tpr and fpr combination for the test data that you selected above in 7.1."
   ]
  },
  {
   "cell_type": "code",
   "execution_count": 59,
   "metadata": {},
   "outputs": [
    {
     "data": {
      "text/plain": [
       "136    0.789812\n",
       "269    0.755223\n",
       "300    0.636268\n",
       "152    0.766467\n",
       "23     0.665562\n",
       "Name: phat_test, dtype: float64"
      ]
     },
     "execution_count": 59,
     "metadata": {},
     "output_type": "execute_result"
    }
   ],
   "source": [
    "df_test['phat_test'] = full_mod.predict(exog=df_test)\n",
    "df_test['phat_test'].head() "
   ]
  },
  {
   "cell_type": "code",
   "execution_count": 60,
   "metadata": {},
   "outputs": [],
   "source": [
    "from sklearn.metrics import roc_curve\n",
    "from sklearn.metrics import roc_auc_score\n",
    "\n",
    "fpr, tpr, score = roc_curve(y_true=df_test['y'], y_score=df_test['phat_test'])\n",
    "auc = roc_auc_score(y_true=df_test['y'], y_score=df_test['phat_test'])"
   ]
  },
  {
   "cell_type": "code",
   "execution_count": 61,
   "metadata": {},
   "outputs": [
    {
     "data": {
      "image/png": "[encoded data removed]",
      "text/plain": [
       "<Figure size 432x288 with 1 Axes>"
      ]
     },
     "metadata": {
      "needs_background": "light"
     },
     "output_type": "display_data"
    }
   ],
   "source": [
    "plot_roc(fpr, tpr, auc)"
   ]
  },
  {
   "cell_type": "code",
   "execution_count": 62,
   "metadata": {},
   "outputs": [],
   "source": [
    "from sklearn.metrics import confusion_matrix\n",
    "\n",
    "def tpr_fpr_thresh(y, pred_prob, thresh):\n",
    "    yhat = 1*(pred_prob >= thresh)\n",
    "    tn, fp, fn, tp = confusion_matrix(y_true=y, y_pred=yhat).ravel()\n",
    "    tpr = tp / (fn + tp)\n",
    "    fpr = fp / (fp + tn)\n",
    "    return pd.DataFrame({'threshold':[thresh],\n",
    "                         'tpr':[tpr], \n",
    "                         'fpr':[fpr]})"
   ]
  },
  {
   "cell_type": "code",
   "execution_count": 63,
   "metadata": {
    "scrolled": false
   },
   "outputs": [
    {
     "name": "stdout",
     "output_type": "stream",
     "text": [
      "   threshold  tpr  fpr\n",
      "0        0.0  1.0  1.0\n",
      "   threshold  tpr  fpr\n",
      "0       0.01  1.0  1.0\n",
      "   threshold  tpr  fpr\n",
      "0       0.02  1.0  1.0\n",
      "   threshold  tpr  fpr\n",
      "0       0.03  1.0  1.0\n",
      "   threshold  tpr  fpr\n",
      "0       0.04  1.0  1.0\n",
      "   threshold  tpr  fpr\n",
      "0       0.05  1.0  1.0\n",
      "   threshold  tpr  fpr\n",
      "0       0.06  1.0  1.0\n",
      "   threshold  tpr  fpr\n",
      "0       0.07  1.0  1.0\n",
      "   threshold  tpr  fpr\n",
      "0       0.08  1.0  1.0\n",
      "   threshold  tpr  fpr\n",
      "0       0.09  1.0  1.0\n",
      "   threshold  tpr  fpr\n",
      "0        0.1  1.0  1.0\n",
      "   threshold  tpr  fpr\n",
      "0       0.11  1.0  1.0\n",
      "   threshold  tpr  fpr\n",
      "0       0.12  1.0  1.0\n",
      "   threshold  tpr  fpr\n",
      "0       0.13  1.0  1.0\n",
      "   threshold  tpr  fpr\n",
      "0       0.14  1.0  1.0\n",
      "   threshold  tpr  fpr\n",
      "0       0.15  1.0  1.0\n",
      "   threshold  tpr  fpr\n",
      "0       0.16  1.0  1.0\n",
      "   threshold  tpr  fpr\n",
      "0       0.17  1.0  1.0\n",
      "   threshold  tpr  fpr\n",
      "0       0.18  1.0  1.0\n",
      "   threshold  tpr  fpr\n",
      "0       0.19  1.0  1.0\n",
      "   threshold  tpr  fpr\n",
      "0        0.2  1.0  1.0\n",
      "   threshold  tpr  fpr\n",
      "0       0.21  1.0  1.0\n",
      "   threshold  tpr  fpr\n",
      "0       0.22  1.0  1.0\n",
      "   threshold  tpr  fpr\n",
      "0       0.23  1.0  1.0\n",
      "   threshold  tpr  fpr\n",
      "0       0.24  1.0  1.0\n",
      "   threshold  tpr  fpr\n",
      "0       0.25  1.0  1.0\n",
      "   threshold  tpr  fpr\n",
      "0       0.26  1.0  1.0\n",
      "   threshold  tpr  fpr\n",
      "0       0.27  1.0  1.0\n",
      "   threshold  tpr  fpr\n",
      "0       0.28  1.0  1.0\n",
      "   threshold  tpr  fpr\n",
      "0       0.29  1.0  1.0\n",
      "   threshold  tpr  fpr\n",
      "0        0.3  1.0  1.0\n",
      "   threshold  tpr  fpr\n",
      "0       0.31  1.0  1.0\n",
      "   threshold  tpr  fpr\n",
      "0       0.32  1.0  1.0\n",
      "   threshold  tpr  fpr\n",
      "0       0.33  1.0  1.0\n",
      "   threshold  tpr  fpr\n",
      "0       0.34  1.0  1.0\n",
      "   threshold  tpr  fpr\n",
      "0       0.35  1.0  1.0\n",
      "   threshold  tpr  fpr\n",
      "0       0.36  1.0  1.0\n",
      "   threshold  tpr  fpr\n",
      "0       0.37  1.0  1.0\n",
      "   threshold  tpr  fpr\n",
      "0       0.38  1.0  1.0\n",
      "   threshold  tpr  fpr\n",
      "0       0.39  1.0  1.0\n",
      "   threshold  tpr  fpr\n",
      "0        0.4  1.0  1.0\n",
      "   threshold  tpr  fpr\n",
      "0       0.41  1.0  1.0\n",
      "   threshold  tpr  fpr\n",
      "0       0.42  1.0  1.0\n",
      "   threshold  tpr  fpr\n",
      "0       0.43  1.0  1.0\n",
      "   threshold  tpr  fpr\n",
      "0       0.44  1.0  1.0\n",
      "   threshold  tpr  fpr\n",
      "0       0.45  1.0  1.0\n",
      "   threshold       tpr  fpr\n",
      "0       0.46  0.984127  1.0\n",
      "   threshold       tpr  fpr\n",
      "0       0.47  0.952381  1.0\n",
      "   threshold       tpr  fpr\n",
      "0       0.48  0.936508  1.0\n",
      "   threshold       tpr       fpr\n",
      "0       0.49  0.936508  0.954545\n",
      "   threshold       tpr       fpr\n",
      "0        0.5  0.920635  0.954545\n",
      "   threshold       tpr       fpr\n",
      "0       0.51  0.904762  0.909091\n",
      "   threshold       tpr       fpr\n",
      "0       0.52  0.904762  0.909091\n",
      "   threshold       tpr       fpr\n",
      "0       0.53  0.904762  0.909091\n",
      "   threshold       tpr       fpr\n",
      "0       0.54  0.857143  0.909091\n",
      "   threshold      tpr       fpr\n",
      "0       0.55  0.84127  0.863636\n",
      "   threshold       tpr       fpr\n",
      "0       0.56  0.825397  0.818182\n",
      "   threshold       tpr       fpr\n",
      "0       0.57  0.809524  0.818182\n",
      "   threshold       tpr       fpr\n",
      "0       0.58  0.793651  0.772727\n",
      "   threshold       tpr       fpr\n",
      "0       0.59  0.793651  0.772727\n",
      "   threshold       tpr       fpr\n",
      "0        0.6  0.777778  0.772727\n",
      "   threshold       tpr       fpr\n",
      "0       0.61  0.761905  0.772727\n",
      "   threshold       tpr       fpr\n",
      "0       0.62  0.761905  0.772727\n",
      "   threshold       tpr       fpr\n",
      "0       0.63  0.746032  0.727273\n",
      "   threshold       tpr       fpr\n",
      "0       0.64  0.746032  0.636364\n",
      "   threshold       tpr       fpr\n",
      "0       0.65  0.746032  0.590909\n",
      "   threshold       tpr       fpr\n",
      "0       0.66  0.730159  0.590909\n",
      "   threshold      tpr       fpr\n",
      "0       0.67  0.68254  0.545455\n",
      "   threshold      tpr  fpr\n",
      "0       0.68  0.68254  0.5\n",
      "   threshold       tpr       fpr\n",
      "0       0.69  0.666667  0.409091\n",
      "   threshold       tpr       fpr\n",
      "0        0.7  0.634921  0.318182\n",
      "   threshold       tpr       fpr\n",
      "0       0.71  0.619048  0.318182\n",
      "   threshold      tpr       fpr\n",
      "0       0.72  0.52381  0.227273\n",
      "   threshold       tpr       fpr\n",
      "0       0.73  0.507937  0.181818\n",
      "   threshold       tpr       fpr\n",
      "0       0.74  0.492063  0.136364\n",
      "   threshold       tpr       fpr\n",
      "0       0.75  0.365079  0.090909\n",
      "   threshold       tpr       fpr\n",
      "0       0.76  0.333333  0.045455\n",
      "   threshold       tpr       fpr\n",
      "0       0.77  0.285714  0.045455\n",
      "   threshold       tpr       fpr\n",
      "0       0.78  0.285714  0.045455\n",
      "   threshold       tpr       fpr\n",
      "0       0.79  0.174603  0.045455\n",
      "   threshold       tpr       fpr\n",
      "0        0.8  0.126984  0.045455\n",
      "   threshold       tpr  fpr\n",
      "0       0.81  0.126984  0.0\n",
      "   threshold       tpr  fpr\n",
      "0       0.82  0.111111  0.0\n",
      "   threshold       tpr  fpr\n",
      "0       0.83  0.111111  0.0\n",
      "   threshold       tpr  fpr\n",
      "0       0.84  0.079365  0.0\n",
      "   threshold       tpr  fpr\n",
      "0       0.85  0.079365  0.0\n",
      "   threshold       tpr  fpr\n",
      "0       0.86  0.047619  0.0\n",
      "   threshold       tpr  fpr\n",
      "0       0.87  0.015873  0.0\n",
      "   threshold       tpr  fpr\n",
      "0       0.88  0.015873  0.0\n",
      "   threshold       tpr  fpr\n",
      "0       0.89  0.015873  0.0\n",
      "   threshold       tpr  fpr\n",
      "0        0.9  0.015873  0.0\n",
      "   threshold       tpr  fpr\n",
      "0       0.91  0.015873  0.0\n",
      "   threshold  tpr  fpr\n",
      "0       0.92  0.0  0.0\n",
      "   threshold  tpr  fpr\n",
      "0       0.93  0.0  0.0\n",
      "   threshold  tpr  fpr\n",
      "0       0.94  0.0  0.0\n",
      "   threshold  tpr  fpr\n",
      "0       0.95  0.0  0.0\n",
      "   threshold  tpr  fpr\n",
      "0       0.96  0.0  0.0\n",
      "   threshold  tpr  fpr\n",
      "0       0.97  0.0  0.0\n",
      "   threshold  tpr  fpr\n",
      "0       0.98  0.0  0.0\n",
      "   threshold  tpr  fpr\n",
      "0       0.99  0.0  0.0\n"
     ]
    }
   ],
   "source": [
    "for thresh in np.arange(0,1,.01):\n",
    "    print(tpr_fpr_thresh(df_test['y'], df_test['phat_test'], thresh))"
   ]
  },
  {
   "cell_type": "markdown",
   "metadata": {},
   "source": [
    "A predictive probability threshold of $p_0=0.65$ will yield a test data tpr=0.746032 and fpr = 0.590909."
   ]
  },
  {
   "cell_type": "markdown",
   "metadata": {},
   "source": [
    "### 7.3 Confusion Matrix\n",
    "\n",
    "Use this threshold to calculate a confusion matrix for the test dataset.\n",
    "* How many packet smokers in the test dataset were correctly classified as packet smokers?\n",
    "* How many packet smokers in the test dataset were incorrectly classified as non-packet smokers?\n",
    "* How many non-packet smokers in the test dataset were correctly classified as non-packet smokers?\n",
    "* How many non-packet smokers in the test dataset were incorrectly classified as packet smokers?"
   ]
  },
  {
   "cell_type": "code",
   "execution_count": 64,
   "metadata": {},
   "outputs": [
    {
     "data": {
      "text/html": [
       "<div>\n",
       "<style scoped>\n",
       "    .dataframe tbody tr th:only-of-type {\n",
       "        vertical-align: middle;\n",
       "    }\n",
       "\n",
       "    .dataframe tbody tr th {\n",
       "        vertical-align: top;\n",
       "    }\n",
       "\n",
       "    .dataframe thead th {\n",
       "        text-align: right;\n",
       "    }\n",
       "</style>\n",
       "<table border=\"1\" class=\"dataframe\">\n",
       "  <thead>\n",
       "    <tr style=\"text-align: right;\">\n",
       "      <th></th>\n",
       "      <th>sex</th>\n",
       "      <th>age</th>\n",
       "      <th>marital_status</th>\n",
       "      <th>highest_qualification</th>\n",
       "      <th>nationality</th>\n",
       "      <th>gross_income</th>\n",
       "      <th>region</th>\n",
       "      <th>smoke</th>\n",
       "      <th>amt_weekends</th>\n",
       "      <th>amt_weekdays</th>\n",
       "      <th>type</th>\n",
       "      <th>y</th>\n",
       "      <th>phat_test</th>\n",
       "      <th>yhat</th>\n",
       "    </tr>\n",
       "  </thead>\n",
       "  <tbody>\n",
       "    <tr>\n",
       "      <th>136</th>\n",
       "      <td>Female</td>\n",
       "      <td>44</td>\n",
       "      <td>Married</td>\n",
       "      <td>No Qualification</td>\n",
       "      <td>English</td>\n",
       "      <td>10,400 to 15,600</td>\n",
       "      <td>Midlands &amp; East Anglia</td>\n",
       "      <td>Yes</td>\n",
       "      <td>20</td>\n",
       "      <td>20</td>\n",
       "      <td>Packets</td>\n",
       "      <td>1</td>\n",
       "      <td>0.789812</td>\n",
       "      <td>1</td>\n",
       "    </tr>\n",
       "    <tr>\n",
       "      <th>269</th>\n",
       "      <td>Female</td>\n",
       "      <td>48</td>\n",
       "      <td>Divorced</td>\n",
       "      <td>No Qualification</td>\n",
       "      <td>Irish</td>\n",
       "      <td>2,600 to 5,200</td>\n",
       "      <td>South East</td>\n",
       "      <td>Yes</td>\n",
       "      <td>40</td>\n",
       "      <td>20</td>\n",
       "      <td>Packets</td>\n",
       "      <td>1</td>\n",
       "      <td>0.755223</td>\n",
       "      <td>1</td>\n",
       "    </tr>\n",
       "    <tr>\n",
       "      <th>300</th>\n",
       "      <td>Female</td>\n",
       "      <td>18</td>\n",
       "      <td>Single</td>\n",
       "      <td>GCSE/O Level</td>\n",
       "      <td>English</td>\n",
       "      <td>2,600 to 5,200</td>\n",
       "      <td>South East</td>\n",
       "      <td>Yes</td>\n",
       "      <td>25</td>\n",
       "      <td>25</td>\n",
       "      <td>Both/Mainly Hand-Rolled</td>\n",
       "      <td>0</td>\n",
       "      <td>0.636268</td>\n",
       "      <td>0</td>\n",
       "    </tr>\n",
       "    <tr>\n",
       "      <th>152</th>\n",
       "      <td>Female</td>\n",
       "      <td>24</td>\n",
       "      <td>Single</td>\n",
       "      <td>GCSE/CSE</td>\n",
       "      <td>British</td>\n",
       "      <td>10,400 to 15,600</td>\n",
       "      <td>Midlands &amp; East Anglia</td>\n",
       "      <td>Yes</td>\n",
       "      <td>8</td>\n",
       "      <td>2</td>\n",
       "      <td>Packets</td>\n",
       "      <td>1</td>\n",
       "      <td>0.766467</td>\n",
       "      <td>1</td>\n",
       "    </tr>\n",
       "    <tr>\n",
       "      <th>23</th>\n",
       "      <td>Female</td>\n",
       "      <td>22</td>\n",
       "      <td>Single</td>\n",
       "      <td>GCSE/CSE</td>\n",
       "      <td>English</td>\n",
       "      <td>2,600 to 5,200</td>\n",
       "      <td>The North</td>\n",
       "      <td>Yes</td>\n",
       "      <td>20</td>\n",
       "      <td>20</td>\n",
       "      <td>Packets</td>\n",
       "      <td>1</td>\n",
       "      <td>0.665562</td>\n",
       "      <td>1</td>\n",
       "    </tr>\n",
       "  </tbody>\n",
       "</table>\n",
       "</div>"
      ],
      "text/plain": [
       "        sex  age marital_status highest_qualification nationality  \\\n",
       "136  Female   44        Married      No Qualification     English   \n",
       "269  Female   48       Divorced      No Qualification       Irish   \n",
       "300  Female   18         Single          GCSE/O Level     English   \n",
       "152  Female   24         Single              GCSE/CSE     British   \n",
       "23   Female   22         Single              GCSE/CSE     English   \n",
       "\n",
       "         gross_income                  region smoke  amt_weekends  \\\n",
       "136  10,400 to 15,600  Midlands & East Anglia   Yes            20   \n",
       "269    2,600 to 5,200              South East   Yes            40   \n",
       "300    2,600 to 5,200              South East   Yes            25   \n",
       "152  10,400 to 15,600  Midlands & East Anglia   Yes             8   \n",
       "23     2,600 to 5,200               The North   Yes            20   \n",
       "\n",
       "     amt_weekdays                     type  y  phat_test  yhat  \n",
       "136            20                  Packets  1   0.789812     1  \n",
       "269            20                  Packets  1   0.755223     1  \n",
       "300            25  Both/Mainly Hand-Rolled  0   0.636268     0  \n",
       "152             2                  Packets  1   0.766467     1  \n",
       "23             20                  Packets  1   0.665562     1  "
      ]
     },
     "execution_count": 64,
     "metadata": {},
     "output_type": "execute_result"
    }
   ],
   "source": [
    "df_test['yhat'] = 1*(df_test['phat_test'] >= 0.65)\n",
    "df_test.head()"
   ]
  },
  {
   "cell_type": "code",
   "execution_count": 65,
   "metadata": {},
   "outputs": [
    {
     "name": "stdout",
     "output_type": "stream",
     "text": [
      "9 13 16 47\n"
     ]
    }
   ],
   "source": [
    "tn, fp, fn, tp = confusion_matrix(y_true=df_test['y'], y_pred=df_test['yhat']).ravel()\n",
    "print(tn, fp, fn, tp)"
   ]
  },
  {
   "cell_type": "markdown",
   "metadata": {},
   "source": [
    "* 47 packet smokers in the test dataset were correctly classified as packet smokers\n",
    "* 16 packet smokers in the test dataset were incorrectly classified as non-packet smokers\n",
    "* 9 non-packet smokers in the test dataset were correctly classified as non-packet smokers\n",
    "* 13 non-packet smokers in the test dataset were incorrectly classified as packet smokers"
   ]
  },
  {
   "cell_type": "markdown",
   "metadata": {},
   "source": [
    "### 7.4. Sensitivity and Specificity\n",
    "\n",
    "Calculate the sensitivity and specificity of your test dataset observations with this full model logistic regression classifier and the threshold that you chose."
   ]
  },
  {
   "cell_type": "code",
   "execution_count": 66,
   "metadata": {},
   "outputs": [
    {
     "data": {
      "text/plain": [
       "0.746031746031746"
      ]
     },
     "execution_count": 66,
     "metadata": {},
     "output_type": "execute_result"
    }
   ],
   "source": [
    "sensitivity = tp/(tp+fn)\n",
    "sensitivity"
   ]
  },
  {
   "cell_type": "code",
   "execution_count": 67,
   "metadata": {},
   "outputs": [
    {
     "data": {
      "text/plain": [
       "0.4090909090909091"
      ]
     },
     "execution_count": 67,
     "metadata": {},
     "output_type": "execute_result"
    }
   ],
   "source": [
    "specificity = tn/(tn+fp)\n",
    "specificity"
   ]
  },
  {
   "cell_type": "markdown",
   "metadata": {},
   "source": [
    "## 8. Full Logistic Regression Model Equation and Prediction\n",
    "\n",
    "\n",
    "### 8.1 Logistic Regression Equation\n",
    "Next, write out the full logistic regression model equation (found with your **training dataset**). Make sure to use the right notation."
   ]
  },
  {
   "cell_type": "code",
   "execution_count": 68,
   "metadata": {},
   "outputs": [
    {
     "name": "stdout",
     "output_type": "stream",
     "text": [
      "Optimization terminated successfully.\n",
      "         Current function value: 0.573133\n",
      "         Iterations 6\n"
     ]
    },
    {
     "data": {
      "text/html": [
       "<table class=\"simpletable\">\n",
       "<caption>Logit Regression Results</caption>\n",
       "<tr>\n",
       "  <th>Dep. Variable:</th>           <td>y</td>        <th>  No. Observations:  </th>  <td>   336</td>  \n",
       "</tr>\n",
       "<tr>\n",
       "  <th>Model:</th>                 <td>Logit</td>      <th>  Df Residuals:      </th>  <td>   327</td>  \n",
       "</tr>\n",
       "<tr>\n",
       "  <th>Method:</th>                 <td>MLE</td>       <th>  Df Model:          </th>  <td>     8</td>  \n",
       "</tr>\n",
       "<tr>\n",
       "  <th>Date:</th>            <td>Fri, 02 Dec 2022</td> <th>  Pseudo R-squ.:     </th>  <td>0.06635</td> \n",
       "</tr>\n",
       "<tr>\n",
       "  <th>Time:</th>                <td>15:53:27</td>     <th>  Log-Likelihood:    </th> <td> -192.57</td> \n",
       "</tr>\n",
       "<tr>\n",
       "  <th>converged:</th>             <td>True</td>       <th>  LL-Null:           </th> <td> -206.26</td> \n",
       "</tr>\n",
       "<tr>\n",
       "  <th>Covariance Type:</th>     <td>nonrobust</td>    <th>  LLR p-value:       </th> <td>0.0006105</td>\n",
       "</tr>\n",
       "</table>\n",
       "<table class=\"simpletable\">\n",
       "<tr>\n",
       "               <td></td>                  <th>coef</th>     <th>std err</th>      <th>z</th>      <th>P>|z|</th>  <th>[0.025</th>    <th>0.975]</th>  \n",
       "</tr>\n",
       "<tr>\n",
       "  <th>Intercept</th>                   <td>    1.5779</td> <td>    0.649</td> <td>    2.431</td> <td> 0.015</td> <td>    0.306</td> <td>    2.850</td>\n",
       "</tr>\n",
       "<tr>\n",
       "  <th>sex[T.Male]</th>                 <td>   -0.7945</td> <td>    0.260</td> <td>   -3.050</td> <td> 0.002</td> <td>   -1.305</td> <td>   -0.284</td>\n",
       "</tr>\n",
       "<tr>\n",
       "  <th>marital_status[T.Married]</th>   <td>    0.2933</td> <td>    0.410</td> <td>    0.716</td> <td> 0.474</td> <td>   -0.510</td> <td>    1.097</td>\n",
       "</tr>\n",
       "<tr>\n",
       "  <th>marital_status[T.Separated]</th> <td>   -0.2515</td> <td>    0.589</td> <td>   -0.427</td> <td> 0.670</td> <td>   -1.407</td> <td>    0.904</td>\n",
       "</tr>\n",
       "<tr>\n",
       "  <th>marital_status[T.Single]</th>    <td>   -0.3539</td> <td>    0.432</td> <td>   -0.819</td> <td> 0.413</td> <td>   -1.201</td> <td>    0.493</td>\n",
       "</tr>\n",
       "<tr>\n",
       "  <th>marital_status[T.Widowed]</th>   <td>    0.9625</td> <td>    0.657</td> <td>    1.464</td> <td> 0.143</td> <td>   -0.326</td> <td>    2.251</td>\n",
       "</tr>\n",
       "<tr>\n",
       "  <th>age</th>                         <td>   -0.0005</td> <td>    0.011</td> <td>   -0.046</td> <td> 0.963</td> <td>   -0.023</td> <td>    0.022</td>\n",
       "</tr>\n",
       "<tr>\n",
       "  <th>amt_weekends</th>                <td>    0.0049</td> <td>    0.020</td> <td>    0.245</td> <td> 0.806</td> <td>   -0.034</td> <td>    0.044</td>\n",
       "</tr>\n",
       "<tr>\n",
       "  <th>amt_weekdays</th>                <td>   -0.0311</td> <td>    0.022</td> <td>   -1.435</td> <td> 0.151</td> <td>   -0.074</td> <td>    0.011</td>\n",
       "</tr>\n",
       "</table>"
      ],
      "text/plain": [
       "<class 'statsmodels.iolib.summary.Summary'>\n",
       "\"\"\"\n",
       "                           Logit Regression Results                           \n",
       "==============================================================================\n",
       "Dep. Variable:                      y   No. Observations:                  336\n",
       "Model:                          Logit   Df Residuals:                      327\n",
       "Method:                           MLE   Df Model:                            8\n",
       "Date:                Fri, 02 Dec 2022   Pseudo R-squ.:                 0.06635\n",
       "Time:                        15:53:27   Log-Likelihood:                -192.57\n",
       "converged:                       True   LL-Null:                       -206.26\n",
       "Covariance Type:            nonrobust   LLR p-value:                 0.0006105\n",
       "===============================================================================================\n",
       "                                  coef    std err          z      P>|z|      [0.025      0.975]\n",
       "-----------------------------------------------------------------------------------------------\n",
       "Intercept                       1.5779      0.649      2.431      0.015       0.306       2.850\n",
       "sex[T.Male]                    -0.7945      0.260     -3.050      0.002      -1.305      -0.284\n",
       "marital_status[T.Married]       0.2933      0.410      0.716      0.474      -0.510       1.097\n",
       "marital_status[T.Separated]    -0.2515      0.589     -0.427      0.670      -1.407       0.904\n",
       "marital_status[T.Single]       -0.3539      0.432     -0.819      0.413      -1.201       0.493\n",
       "marital_status[T.Widowed]       0.9625      0.657      1.464      0.143      -0.326       2.251\n",
       "age                            -0.0005      0.011     -0.046      0.963      -0.023       0.022\n",
       "amt_weekends                    0.0049      0.020      0.245      0.806      -0.034       0.044\n",
       "amt_weekdays                   -0.0311      0.022     -1.435      0.151      -0.074       0.011\n",
       "===============================================================================================\n",
       "\"\"\""
      ]
     },
     "execution_count": 68,
     "metadata": {},
     "output_type": "execute_result"
    }
   ],
   "source": [
    "full_mod=smf.logit('y~age+sex+marital_status+amt_weekends+amt_weekdays', data=df_train).fit()\n",
    "full_mod.summary()"
   ]
  },
  {
   "cell_type": "markdown",
   "metadata": {},
   "source": [
    "$\\log(\\frac{\\hat{p}}{(1-\\hat{p})}) = 1.5779\t-0.7945sex[T.Male]+0.2933marital\\_status[T.Married]-0.2515marital\\_status[T.Separated]\t-0.3539marital\\_status[T.Single]+0.9625marital\\_status[T.Widowed]\t-0.0005age+0.0049amt\\_weekends-0.0311amt\\_weekdays$"
   ]
  },
  {
   "cell_type": "markdown",
   "metadata": {},
   "source": [
    "### 8.2. Probability Prediction\n",
    "\n",
    "What is the predictive probability that a 20-year-old, single, female, that smokes 1 cigarette on the weekends and 1 cigarette on the weekdays smokes packets?"
   ]
  },
  {
   "cell_type": "code",
   "execution_count": 69,
   "metadata": {},
   "outputs": [
    {
     "data": {
      "text/plain": [
       "0.7662593188037505"
      ]
     },
     "execution_count": 69,
     "metadata": {},
     "output_type": "execute_result"
    }
   ],
   "source": [
    "prob=full_mod.predict(exog=dict(sex='Female',age=20, marital_status='Single', amt_weekends=1, amt_weekdays=1)).iloc[0]\n",
    "prob"
   ]
  },
  {
   "cell_type": "markdown",
   "metadata": {},
   "source": [
    "### 8.3. Classification\n",
    "\n",
    "Would we classify this person from 8.2. as a packet smoker or non-packet smoker using the threshold that we selected?"
   ]
  },
  {
   "cell_type": "markdown",
   "metadata": {},
   "source": [
    "This person's predictive probability is above the threshold of $p_0=0.65$, thus we would classify this person as a packet smoker (ie. y=1)."
   ]
  },
  {
   "cell_type": "markdown",
   "metadata": {},
   "source": [
    "### 8.4. Odds Prediction\n",
    "\n",
    "What are the odds that this person from 8.2. is a packet smoker? Put these odds into words."
   ]
  },
  {
   "cell_type": "code",
   "execution_count": 70,
   "metadata": {},
   "outputs": [
    {
     "data": {
      "text/plain": [
       "3.2782454251529995"
      ]
     },
     "execution_count": 70,
     "metadata": {},
     "output_type": "execute_result"
    }
   ],
   "source": [
    "odds = prob/(1-prob)\n",
    "odds"
   ]
  },
  {
   "cell_type": "markdown",
   "metadata": {},
   "source": [
    "The numerical odds that this person is a packet smoker is 3.28 (ie. 3.28/1)\n",
    "\n",
    "Putting this into words, we could say that the odds that this person is a packet smoker are 3.28 to 1. Putting these numbers into an integer format we can multiply the 3.28 and the 1 by 100.\n",
    "\n",
    "So more succintly, we can say that the odds that this person is a packet smoker are 328 to 100.\n",
    "\n"
   ]
  },
  {
   "cell_type": "markdown",
   "metadata": {},
   "source": [
    "### 8.5. Interpretations\n",
    "\n",
    "#### 8.5.1. Baseline Odds\n",
    "\n",
    "What is the baseline odds of this logistic regression equation. Put this baseline odds into words.\n"
   ]
  },
  {
   "cell_type": "code",
   "execution_count": 71,
   "metadata": {},
   "outputs": [
    {
     "data": {
      "text/plain": [
       "4.844771101721707"
      ]
     },
     "execution_count": 71,
     "metadata": {},
     "output_type": "execute_result"
    }
   ],
   "source": [
    "np.exp(1.5779)"
   ]
  },
  {
   "cell_type": "markdown",
   "metadata": {},
   "source": [
    "We would expect the odds of a divorced female that is 0 years old that smokes 0 cigarettes on the weekends and 0 cigarettes on the weekdays being a packet smoker to be 4.84, on average."
   ]
  },
  {
   "cell_type": "markdown",
   "metadata": {},
   "source": [
    "#### 8.5.2 Odds Multiplier for Amount Smoked on the Weekend\n",
    "\n",
    "What is the odds multiplier for the amount of cigarettes smoked on the weekend for this model? Put this odds multiplier into words."
   ]
  },
  {
   "cell_type": "code",
   "execution_count": 72,
   "metadata": {},
   "outputs": [
    {
     "data": {
      "text/plain": [
       "1.0049120246322103"
      ]
     },
     "execution_count": 72,
     "metadata": {},
     "output_type": "execute_result"
    }
   ],
   "source": [
    "np.exp(0.0049)"
   ]
  },
  {
   "cell_type": "markdown",
   "metadata": {},
   "source": [
    "All else held equal, if we were to increase the number of cigarettes that a UK smoker smokes on the weekends by 1 cigarette, then we would expect the odds that this person is a packet smoker to increase by a multiple of 1.0049, on average."
   ]
  },
  {
   "cell_type": "markdown",
   "metadata": {},
   "source": [
    "#### 8.5.3. Odds Ratio\n",
    "\n",
    "All else held equal, what would we expect the ratio of the odds that a male UK smoker smokes packets over the odds that a female smoker smokes packets to be, on average?"
   ]
  },
  {
   "cell_type": "code",
   "execution_count": 73,
   "metadata": {},
   "outputs": [
    {
     "data": {
      "text/plain": [
       "0.451807081997117"
      ]
     },
     "execution_count": 73,
     "metadata": {},
     "output_type": "execute_result"
    }
   ],
   "source": [
    "np.exp(-0.7945)"
   ]
  },
  {
   "cell_type": "markdown",
   "metadata": {},
   "source": [
    "We would expect $\\frac{odds_{male}}{odds_{female}}=0.452$, on average, all else held equal."
   ]
  },
  {
   "cell_type": "markdown",
   "metadata": {},
   "source": [
    "## 9. Full Logistic Regression Model Inference"
   ]
  },
  {
   "cell_type": "markdown",
   "metadata": {},
   "source": [
    "### 9.1 90% Confidence for the Odds Multiplier\n",
    "\n",
    "Create a 90% confidence interval for the population **odds multiplier** for amt_weekends in the corresponding population logistic regression model."
   ]
  },
  {
   "cell_type": "markdown",
   "metadata": {},
   "source": [
    "In order to create a 90% confidence interval for $e^{\\beta_7}$ (ie. the odds multiplier for amt_weekends in the population model), we need to create a 90% confidence interval for $\\beta_7$ (ie. the slope for amt_weekends in the population model)."
   ]
  },
  {
   "cell_type": "code",
   "execution_count": 74,
   "metadata": {},
   "outputs": [
    {
     "data": {
      "text/plain": [
       "1.6448536269514722"
      ]
     },
     "execution_count": 74,
     "metadata": {},
     "output_type": "execute_result"
    }
   ],
   "source": [
    "point_estimate = 0.0049\n",
    "standard_error = 0.020\n",
    "\n",
    "critical_value =norm.ppf(0.95)\n",
    "\n",
    "critical_value"
   ]
  },
  {
   "cell_type": "code",
   "execution_count": 75,
   "metadata": {},
   "outputs": [
    {
     "name": "stdout",
     "output_type": "stream",
     "text": [
      "-0.027997072539029444 0.03779707253902945\n"
     ]
    }
   ],
   "source": [
    "lower_bound = point_estimate - critical_value * standard_error\n",
    "upper_bound = point_estimate + critical_value * standard_error\n",
    "\n",
    "print(lower_bound, upper_bound)"
   ]
  },
  {
   "cell_type": "markdown",
   "metadata": {},
   "source": [
    "So the 90% confidence interval for $\\beta_7$ is above. In order to get the 90% confidence interval for $e^{\\beta_7}$, all we need to do is exponentiate both bounds of the confidence interval for $\\beta_7$."
   ]
  },
  {
   "cell_type": "code",
   "execution_count": 76,
   "metadata": {},
   "outputs": [
    {
     "name": "stdout",
     "output_type": "stream",
     "text": [
      "0.9723912134344056 1.038520467172577\n"
     ]
    }
   ],
   "source": [
    "lower_odds_mult_bound =np.exp(lower_bound)\n",
    "upper_odds_mult_bound =np.exp(upper_bound)\n",
    "\n",
    "print(lower_odds_mult_bound, upper_odds_mult_bound)"
   ]
  },
  {
   "cell_type": "markdown",
   "metadata": {},
   "source": [
    "### 9.2. Interpretation of 90% Confidence Interval\n",
    "\n",
    "Put this confidence interval into words."
   ]
  },
  {
   "cell_type": "markdown",
   "metadata": {},
   "source": [
    "We are 90% confident that the odds multiplier for amt_weekends in the corresponding population model is between 0.972 and 1.039."
   ]
  },
  {
   "cell_type": "markdown",
   "metadata": {},
   "source": [
    "### 9.3 Hypothesis Testing\n",
    "\n",
    "We would like to determine if we have sufficient evidence to suggest that the odds multiplier for amt_weekends variable in the population logistic regression model is not equal to 1 by hand.\n",
    "\n",
    "This is equivalent to assessing whether there is a relationship between the amount of cigarettes smoked on the weekend by all UK smokers and whether or not the person smokes packets.\n",
    "\n",
    "#### 9.3.1. Hypotheses\n",
    "\n",
    "Set up the hypothesis for this test. Make sure you define any parameters that you use."
   ]
  },
  {
   "cell_type": "markdown",
   "metadata": {},
   "source": [
    "Because $\\beta_7$ represents the population slope for amt_weekends, $e^{\\beta_7}$ is the odds multiplier for the amt_weekends variable in the population logistic regression model."
   ]
  },
  {
   "cell_type": "markdown",
   "metadata": {},
   "source": [
    "$H_0: e^{\\beta_7}=1$\n",
    "\n",
    "$H_A: e^{\\beta_7} \\neq 1$\n",
    "\n",
    "is equivalent to\n",
    "\n",
    "$H_0: \\beta_7=0$\n",
    "\n",
    "$H_A: \\beta_7 \\neq 0$"
   ]
  },
  {
   "cell_type": "markdown",
   "metadata": {},
   "source": [
    "#### 9.3.2. Test statistic\n",
    "\n",
    "Calculate the test statistic for this test by hand."
   ]
  },
  {
   "cell_type": "code",
   "execution_count": 77,
   "metadata": {},
   "outputs": [
    {
     "name": "stdout",
     "output_type": "stream",
     "text": [
      "Test Statistic 0.245\n"
     ]
    }
   ],
   "source": [
    "point_estimate = 0.0049\n",
    "standard_error = 0.020\n",
    "null_value=0\n",
    "\n",
    "test_stat=(point_estimate-null_value)/standard_error\n",
    "print(\"Test Statistic\",test_stat)"
   ]
  },
  {
   "cell_type": "markdown",
   "metadata": {},
   "source": [
    "#### 9.3.3. p-value\n",
    "\n",
    "Calculate the p-value for this test by hand."
   ]
  },
  {
   "cell_type": "code",
   "execution_count": 78,
   "metadata": {},
   "outputs": [
    {
     "name": "stdout",
     "output_type": "stream",
     "text": [
      "pvalue 0.8064564313589513\n"
     ]
    }
   ],
   "source": [
    "p_value=2*(1-norm.cdf(np.abs(test_stat)))\n",
    "print('pvalue', p_value)"
   ]
  },
  {
   "cell_type": "markdown",
   "metadata": {},
   "source": [
    "#### 9.3.4. Conclusion with p-value\n",
    "\n",
    "Evaluate these hypotheses using your p-value and a significance level of $\\alpha=0.05$."
   ]
  },
  {
   "cell_type": "markdown",
   "metadata": {},
   "source": [
    "Because the $p-value = 0.806 \\geq \\alpha=0.05$ we fail to reject the null hypothesis. Thus there is not sufficient evidence to suggest $e^{\\beta_7}$ (the odds multiplier for amt_weekend in the population model) is not equal to 1.\n",
    "\n",
    "(Or in other words, there is not sufficient evidence to suggest that there is a relationship between smoking packets and the amount of cigarettes smoked on the weekend for all UK smokers in this corresponding population model)."
   ]
  },
  {
   "cell_type": "markdown",
   "metadata": {},
   "source": [
    "#### 9.3.5. Conclusion with confidence interval\n",
    "\n",
    "Evaluate these hypotheses using your confidence intervalfor the **odds multiplier** that you found in 9.1."
   ]
  },
  {
   "cell_type": "markdown",
   "metadata": {},
   "source": [
    "Because the null value $e^{\\beta_7}=1$ is inside the confidence interval, we fail to reject the null hypothesis. Thus there is not sufficient evidence to suggest $e^{\\beta_7}$ (the odds multiplier for amt_weekend in the population model) is not equal to 1.\n",
    "\n",
    "(Or in other words, there is not sufficient evidence to suggest that there is a relationship between smoking packets and the amount of cigarettes smoked on the weekend for all UK smokers in this corresponding population model)."
   ]
  },
  {
   "cell_type": "markdown",
   "metadata": {},
   "source": [
    "## 10. Descriptive Analytics\n",
    "\n",
    "### 10.1. Packet Smokers Status and Sex\n",
    "\n",
    "Visualize the relationship between sex and whether or not someone smokes packets in the full dataset. Is there a relationship between sex and packet smoker status in this dataset?"
   ]
  },
  {
   "cell_type": "code",
   "execution_count": 79,
   "metadata": {},
   "outputs": [
    {
     "data": {
      "text/html": [
       "<div>\n",
       "<style scoped>\n",
       "    .dataframe tbody tr th:only-of-type {\n",
       "        vertical-align: middle;\n",
       "    }\n",
       "\n",
       "    .dataframe tbody tr th {\n",
       "        vertical-align: top;\n",
       "    }\n",
       "\n",
       "    .dataframe thead th {\n",
       "        text-align: right;\n",
       "    }\n",
       "</style>\n",
       "<table border=\"1\" class=\"dataframe\">\n",
       "  <thead>\n",
       "    <tr style=\"text-align: right;\">\n",
       "      <th>y</th>\n",
       "      <th>0</th>\n",
       "      <th>1</th>\n",
       "    </tr>\n",
       "    <tr>\n",
       "      <th>sex</th>\n",
       "      <th></th>\n",
       "      <th></th>\n",
       "    </tr>\n",
       "  </thead>\n",
       "  <tbody>\n",
       "    <tr>\n",
       "      <th>Female</th>\n",
       "      <td>0.205128</td>\n",
       "      <td>0.794872</td>\n",
       "    </tr>\n",
       "    <tr>\n",
       "      <th>Male</th>\n",
       "      <td>0.406417</td>\n",
       "      <td>0.593583</td>\n",
       "    </tr>\n",
       "  </tbody>\n",
       "</table>\n",
       "</div>"
      ],
      "text/plain": [
       "y              0         1\n",
       "sex                       \n",
       "Female  0.205128  0.794872\n",
       "Male    0.406417  0.593583"
      ]
     },
     "execution_count": 79,
     "metadata": {},
     "output_type": "execute_result"
    }
   ],
   "source": [
    "tmp = pd.crosstab(df['sex'], df['y'], normalize='index')\n",
    "tmp"
   ]
  },
  {
   "cell_type": "code",
   "execution_count": 80,
   "metadata": {},
   "outputs": [
    {
     "data": {
      "image/png": "[encoded data removed]",
      "text/plain": [
       "<Figure size 432x288 with 1 Axes>"
      ]
     },
     "metadata": {
      "needs_background": "light"
     },
     "output_type": "display_data"
    }
   ],
   "source": [
    "tmp.plot.bar()\n",
    "plt.title('Relationship between Packet Status and Sex')\n",
    "plt.ylabel('Relative Frequency')\n",
    "plt.show()"
   ]
  },
  {
   "cell_type": "markdown",
   "metadata": {},
   "source": [
    "There is an association between sex and packet smoker status. For instance, female smokers are much more likely to be packet smokers (79.48%) than male smokers (59.36%)."
   ]
  },
  {
   "cell_type": "markdown",
   "metadata": {},
   "source": [
    "### 10.2. Packet Smoker Status and Age\n",
    "\n",
    "Visualize the relationship between packet smoker status and age for the full dataset. \n",
    "\n",
    "Is there a strong association between packet smoker status and age for this full dataset?\n",
    "\n",
    "Compare the two distributions of ages for packet smokers and non-smokers (**be thorough**)."
   ]
  },
  {
   "cell_type": "code",
   "execution_count": 81,
   "metadata": {},
   "outputs": [
    {
     "data": {
      "image/png": "[encoded data removed]",
      "text/plain": [
       "<Figure size 432x288 with 1 Axes>"
      ]
     },
     "metadata": {
      "needs_background": "light"
     },
     "output_type": "display_data"
    }
   ],
   "source": [
    "sns.boxplot(x='y', y='age', data=df)\n",
    "plt.show()"
   ]
  },
  {
   "cell_type": "code",
   "execution_count": 82,
   "metadata": {},
   "outputs": [
    {
     "data": {
      "image/png": "[encoded data removed]",
      "text/plain": [
       "<Figure size 432x288 with 1 Axes>"
      ]
     },
     "metadata": {
      "needs_background": "light"
     },
     "output_type": "display_data"
    }
   ],
   "source": [
    "sns.violinplot(x='y', y='age', data=df)\n",
    "plt.show()"
   ]
  },
  {
   "cell_type": "code",
   "execution_count": 83,
   "metadata": {},
   "outputs": [
    {
     "data": {
      "text/html": [
       "<div>\n",
       "<style scoped>\n",
       "    .dataframe tbody tr th:only-of-type {\n",
       "        vertical-align: middle;\n",
       "    }\n",
       "\n",
       "    .dataframe tbody tr th {\n",
       "        vertical-align: top;\n",
       "    }\n",
       "\n",
       "    .dataframe thead th {\n",
       "        text-align: right;\n",
       "    }\n",
       "</style>\n",
       "<table border=\"1\" class=\"dataframe\">\n",
       "  <thead>\n",
       "    <tr style=\"text-align: right;\">\n",
       "      <th></th>\n",
       "      <th>age</th>\n",
       "    </tr>\n",
       "    <tr>\n",
       "      <th>y</th>\n",
       "      <th></th>\n",
       "    </tr>\n",
       "  </thead>\n",
       "  <tbody>\n",
       "    <tr>\n",
       "      <th>0</th>\n",
       "      <td>39.0</td>\n",
       "    </tr>\n",
       "    <tr>\n",
       "      <th>1</th>\n",
       "      <td>41.0</td>\n",
       "    </tr>\n",
       "  </tbody>\n",
       "</table>\n",
       "</div>"
      ],
      "text/plain": [
       "    age\n",
       "y      \n",
       "0  39.0\n",
       "1  41.0"
      ]
     },
     "execution_count": 83,
     "metadata": {},
     "output_type": "execute_result"
    }
   ],
   "source": [
    "df[['y','age']].groupby(['y']).median()"
   ]
  },
  {
   "cell_type": "code",
   "execution_count": 84,
   "metadata": {},
   "outputs": [
    {
     "data": {
      "text/html": [
       "<div>\n",
       "<style scoped>\n",
       "    .dataframe tbody tr th:only-of-type {\n",
       "        vertical-align: middle;\n",
       "    }\n",
       "\n",
       "    .dataframe tbody tr th {\n",
       "        vertical-align: top;\n",
       "    }\n",
       "\n",
       "    .dataframe thead th {\n",
       "        text-align: right;\n",
       "    }\n",
       "</style>\n",
       "<table border=\"1\" class=\"dataframe\">\n",
       "  <thead>\n",
       "    <tr style=\"text-align: right;\">\n",
       "      <th></th>\n",
       "      <th>age</th>\n",
       "    </tr>\n",
       "    <tr>\n",
       "      <th>y</th>\n",
       "      <th></th>\n",
       "    </tr>\n",
       "  </thead>\n",
       "  <tbody>\n",
       "    <tr>\n",
       "      <th>0</th>\n",
       "      <td>19.5</td>\n",
       "    </tr>\n",
       "    <tr>\n",
       "      <th>1</th>\n",
       "      <td>25.0</td>\n",
       "    </tr>\n",
       "  </tbody>\n",
       "</table>\n",
       "</div>"
      ],
      "text/plain": [
       "    age\n",
       "y      \n",
       "0  19.5\n",
       "1  25.0"
      ]
     },
     "execution_count": 84,
     "metadata": {},
     "output_type": "execute_result"
    }
   ],
   "source": [
    "df[['y','age']].groupby(['y']).quantile(0.75)-df[['y','age']].groupby(['y']).quantile(0.25)"
   ]
  },
  {
   "cell_type": "markdown",
   "metadata": {},
   "source": [
    "There is not a strong association between age and packet smoker status. The median age of packet and non-packet smokers are very close with respect the IQR. The IQRs of the two age distributions have a strong overlap.\n",
    "\n",
    "1. The median age of packet smokers is 41 and the median age of non-packet smokers is 39.\n",
    "2. The IQR age of packet smokers is 25 and the IQR age of non-packet smokers is 19.5.\n",
    "3. The age distributions of both packet and non-packet smokers are roughly unimodal and right-skewed.\n",
    "4. Packet smokers have a high age outlier."
   ]
  },
  {
   "cell_type": "markdown",
   "metadata": {},
   "source": [
    "### 10.3. Packet Smoker Status,  Age, and Sex\n",
    "\n",
    "Visualize the relationship between packet smoker status, age, and sex for the full dataset. \n",
    "\n",
    "Compare the association between age and smoker status (for both sexes). Is the relationship between age and smoker status stronger for a certain sex?"
   ]
  },
  {
   "cell_type": "code",
   "execution_count": 85,
   "metadata": {},
   "outputs": [
    {
     "data": {
      "image/png": "[encoded data removed]",
      "text/plain": [
       "<Figure size 432x288 with 1 Axes>"
      ]
     },
     "metadata": {
      "needs_background": "light"
     },
     "output_type": "display_data"
    }
   ],
   "source": [
    "sns.boxplot(x='sex', y='age', hue='y', data=df)\n",
    "plt.show()"
   ]
  },
  {
   "cell_type": "code",
   "execution_count": 86,
   "metadata": {},
   "outputs": [
    {
     "data": {
      "image/png": "[encoded data removed]",
      "text/plain": [
       "<Figure size 432x288 with 1 Axes>"
      ]
     },
     "metadata": {
      "needs_background": "light"
     },
     "output_type": "display_data"
    }
   ],
   "source": [
    "sns.violinplot(x='sex', y='age', hue='y', data=df)\n",
    "plt.show()"
   ]
  },
  {
   "cell_type": "markdown",
   "metadata": {},
   "source": [
    "Because the difference in the median age of packet and non-packet smokers for **females smokers** is much larger than the difference in the median age of packet and non-packet smoker for **male smokers**, we can say that the association between age and packet status is stronger for female smokers."
   ]
  },
  {
   "cell_type": "markdown",
   "metadata": {},
   "source": [
    "### 10.4 Packet Smoker Status and Amount Smoked on the Weekdays and Weekends\n",
    "\n",
    "#### 10.4.1 Visualization\n",
    "In a single plot visualize the relationship between:\n",
    "* the amount smoked on the weekdays\n",
    "* the amount smoked on the weekends\n",
    "* packet smoker status"
   ]
  },
  {
   "cell_type": "code",
   "execution_count": 87,
   "metadata": {},
   "outputs": [
    {
     "data": {
      "image/png": "[encoded data removed]",
      "text/plain": [
       "<Figure size 402.375x360 with 1 Axes>"
      ]
     },
     "metadata": {
      "needs_background": "light"
     },
     "output_type": "display_data"
    }
   ],
   "source": [
    "sns.lmplot(x='amt_weekdays', y='amt_weekends', hue='y', data=df)\n",
    "plt.show()"
   ]
  },
  {
   "cell_type": "markdown",
   "metadata": {},
   "source": [
    "#### 10.4.2. Comparing Relationships\n",
    "\n",
    "Compare the relationship between the amount smoked on the weekends vs. weekdays (for packet and non-packet smokers). **Be thorough in describing these two relationships**.\n",
    "\n"
   ]
  },
  {
   "cell_type": "markdown",
   "metadata": {},
   "source": [
    "1. The relationship between amt_weekdays and amt_weekends is linear for both packet and non-packet smokers.\n",
    "2. The relationship between amt_weekdays and amt_weekends is positive for both packet and non-packet smokers.\n",
    "3. The linear relationship between amt_weekdays and amt_weekends is strong for both packet and non-packet smokers. However, the relationship is stronger for non-packet smokers (R=0.876) than for packet smokers (R=0.766).\n",
    "4. Packet smokers seems to have more outliers in the relationship between amt_weekdays and amt_weekends than non-packet smokers.\n",
    "5. The slopes (0.8403 vs. 0.8545) and intercepts (4.8566 vs. 4.6327) of the linear regression lines are relatively similar for both packet and non-packet smokers."
   ]
  },
  {
   "cell_type": "code",
   "execution_count": 88,
   "metadata": {},
   "outputs": [
    {
     "data": {
      "text/html": [
       "<div>\n",
       "<style scoped>\n",
       "    .dataframe tbody tr th:only-of-type {\n",
       "        vertical-align: middle;\n",
       "    }\n",
       "\n",
       "    .dataframe tbody tr th {\n",
       "        vertical-align: top;\n",
       "    }\n",
       "\n",
       "    .dataframe thead th {\n",
       "        text-align: right;\n",
       "    }\n",
       "</style>\n",
       "<table border=\"1\" class=\"dataframe\">\n",
       "  <thead>\n",
       "    <tr style=\"text-align: right;\">\n",
       "      <th></th>\n",
       "      <th></th>\n",
       "      <th>amt_weekdays</th>\n",
       "      <th>amt_weekends</th>\n",
       "    </tr>\n",
       "    <tr>\n",
       "      <th>y</th>\n",
       "      <th></th>\n",
       "      <th></th>\n",
       "      <th></th>\n",
       "    </tr>\n",
       "  </thead>\n",
       "  <tbody>\n",
       "    <tr>\n",
       "      <th rowspan=\"2\" valign=\"top\">0</th>\n",
       "      <th>amt_weekdays</th>\n",
       "      <td>1.000000</td>\n",
       "      <td>0.876356</td>\n",
       "    </tr>\n",
       "    <tr>\n",
       "      <th>amt_weekends</th>\n",
       "      <td>0.876356</td>\n",
       "      <td>1.000000</td>\n",
       "    </tr>\n",
       "    <tr>\n",
       "      <th rowspan=\"2\" valign=\"top\">1</th>\n",
       "      <th>amt_weekdays</th>\n",
       "      <td>1.000000</td>\n",
       "      <td>0.765602</td>\n",
       "    </tr>\n",
       "    <tr>\n",
       "      <th>amt_weekends</th>\n",
       "      <td>0.765602</td>\n",
       "      <td>1.000000</td>\n",
       "    </tr>\n",
       "  </tbody>\n",
       "</table>\n",
       "</div>"
      ],
      "text/plain": [
       "                amt_weekdays  amt_weekends\n",
       "y                                         \n",
       "0 amt_weekdays      1.000000      0.876356\n",
       "  amt_weekends      0.876356      1.000000\n",
       "1 amt_weekdays      1.000000      0.765602\n",
       "  amt_weekends      0.765602      1.000000"
      ]
     },
     "execution_count": 88,
     "metadata": {},
     "output_type": "execute_result"
    }
   ],
   "source": [
    "df[['amt_weekdays', 'amt_weekends','y']].groupby(['y']).corr()"
   ]
  },
  {
   "cell_type": "code",
   "execution_count": 89,
   "metadata": {},
   "outputs": [
    {
     "data": {
      "text/html": [
       "<table class=\"simpletable\">\n",
       "<caption>OLS Regression Results</caption>\n",
       "<tr>\n",
       "  <th>Dep. Variable:</th>      <td>amt_weekends</td>   <th>  R-squared:         </th> <td>   0.586</td>\n",
       "</tr>\n",
       "<tr>\n",
       "  <th>Model:</th>                   <td>OLS</td>       <th>  Adj. R-squared:    </th> <td>   0.585</td>\n",
       "</tr>\n",
       "<tr>\n",
       "  <th>Method:</th>             <td>Least Squares</td>  <th>  F-statistic:       </th> <td>   417.8</td>\n",
       "</tr>\n",
       "<tr>\n",
       "  <th>Date:</th>             <td>Fri, 02 Dec 2022</td> <th>  Prob (F-statistic):</th> <td>1.85e-58</td>\n",
       "</tr>\n",
       "<tr>\n",
       "  <th>Time:</th>                 <td>15:53:32</td>     <th>  Log-Likelihood:    </th> <td> -969.15</td>\n",
       "</tr>\n",
       "<tr>\n",
       "  <th>No. Observations:</th>      <td>   297</td>      <th>  AIC:               </th> <td>   1942.</td>\n",
       "</tr>\n",
       "<tr>\n",
       "  <th>Df Residuals:</th>          <td>   295</td>      <th>  BIC:               </th> <td>   1950.</td>\n",
       "</tr>\n",
       "<tr>\n",
       "  <th>Df Model:</th>              <td>     1</td>      <th>                     </th>     <td> </td>   \n",
       "</tr>\n",
       "<tr>\n",
       "  <th>Covariance Type:</th>      <td>nonrobust</td>    <th>                     </th>     <td> </td>   \n",
       "</tr>\n",
       "</table>\n",
       "<table class=\"simpletable\">\n",
       "<tr>\n",
       "        <td></td>          <th>coef</th>     <th>std err</th>      <th>t</th>      <th>P>|t|</th>  <th>[0.025</th>    <th>0.975]</th>  \n",
       "</tr>\n",
       "<tr>\n",
       "  <th>Intercept</th>    <td>    4.8566</td> <td>    0.649</td> <td>    7.484</td> <td> 0.000</td> <td>    3.579</td> <td>    6.134</td>\n",
       "</tr>\n",
       "<tr>\n",
       "  <th>amt_weekdays</th> <td>    0.8403</td> <td>    0.041</td> <td>   20.440</td> <td> 0.000</td> <td>    0.759</td> <td>    0.921</td>\n",
       "</tr>\n",
       "</table>\n",
       "<table class=\"simpletable\">\n",
       "<tr>\n",
       "  <th>Omnibus:</th>       <td>75.274</td> <th>  Durbin-Watson:     </th> <td>   1.970</td>\n",
       "</tr>\n",
       "<tr>\n",
       "  <th>Prob(Omnibus):</th> <td> 0.000</td> <th>  Jarque-Bera (JB):  </th> <td>1959.249</td>\n",
       "</tr>\n",
       "<tr>\n",
       "  <th>Skew:</th>          <td> 0.222</td> <th>  Prob(JB):          </th> <td>    0.00</td>\n",
       "</tr>\n",
       "<tr>\n",
       "  <th>Kurtosis:</th>      <td>15.575</td> <th>  Cond. No.          </th> <td>    27.9</td>\n",
       "</tr>\n",
       "</table><br/><br/>Notes:<br/>[1] Standard Errors assume that the covariance matrix of the errors is correctly specified."
      ],
      "text/plain": [
       "<class 'statsmodels.iolib.summary.Summary'>\n",
       "\"\"\"\n",
       "                            OLS Regression Results                            \n",
       "==============================================================================\n",
       "Dep. Variable:           amt_weekends   R-squared:                       0.586\n",
       "Model:                            OLS   Adj. R-squared:                  0.585\n",
       "Method:                 Least Squares   F-statistic:                     417.8\n",
       "Date:                Fri, 02 Dec 2022   Prob (F-statistic):           1.85e-58\n",
       "Time:                        15:53:32   Log-Likelihood:                -969.15\n",
       "No. Observations:                 297   AIC:                             1942.\n",
       "Df Residuals:                     295   BIC:                             1950.\n",
       "Df Model:                           1                                         \n",
       "Covariance Type:            nonrobust                                         \n",
       "================================================================================\n",
       "                   coef    std err          t      P>|t|      [0.025      0.975]\n",
       "--------------------------------------------------------------------------------\n",
       "Intercept        4.8566      0.649      7.484      0.000       3.579       6.134\n",
       "amt_weekdays     0.8403      0.041     20.440      0.000       0.759       0.921\n",
       "==============================================================================\n",
       "Omnibus:                       75.274   Durbin-Watson:                   1.970\n",
       "Prob(Omnibus):                  0.000   Jarque-Bera (JB):             1959.249\n",
       "Skew:                           0.222   Prob(JB):                         0.00\n",
       "Kurtosis:                      15.575   Cond. No.                         27.9\n",
       "==============================================================================\n",
       "\n",
       "Notes:\n",
       "[1] Standard Errors assume that the covariance matrix of the errors is correctly specified.\n",
       "\"\"\""
      ]
     },
     "execution_count": 89,
     "metadata": {},
     "output_type": "execute_result"
    }
   ],
   "source": [
    "packet_lin = smf.ols('amt_weekends~amt_weekdays', data=df[df['y']==1]).fit()\n",
    "packet_lin.summary()"
   ]
  },
  {
   "cell_type": "code",
   "execution_count": 90,
   "metadata": {},
   "outputs": [
    {
     "data": {
      "text/html": [
       "<table class=\"simpletable\">\n",
       "<caption>OLS Regression Results</caption>\n",
       "<tr>\n",
       "  <th>Dep. Variable:</th>      <td>amt_weekends</td>   <th>  R-squared:         </th> <td>   0.768</td>\n",
       "</tr>\n",
       "<tr>\n",
       "  <th>Model:</th>                   <td>OLS</td>       <th>  Adj. R-squared:    </th> <td>   0.766</td>\n",
       "</tr>\n",
       "<tr>\n",
       "  <th>Method:</th>             <td>Least Squares</td>  <th>  F-statistic:       </th> <td>   403.9</td>\n",
       "</tr>\n",
       "<tr>\n",
       "  <th>Date:</th>             <td>Fri, 02 Dec 2022</td> <th>  Prob (F-statistic):</th> <td>1.62e-40</td>\n",
       "</tr>\n",
       "<tr>\n",
       "  <th>Time:</th>                 <td>15:53:32</td>     <th>  Log-Likelihood:    </th> <td> -368.93</td>\n",
       "</tr>\n",
       "<tr>\n",
       "  <th>No. Observations:</th>      <td>   124</td>      <th>  AIC:               </th> <td>   741.9</td>\n",
       "</tr>\n",
       "<tr>\n",
       "  <th>Df Residuals:</th>          <td>   122</td>      <th>  BIC:               </th> <td>   747.5</td>\n",
       "</tr>\n",
       "<tr>\n",
       "  <th>Df Model:</th>              <td>     1</td>      <th>                     </th>     <td> </td>   \n",
       "</tr>\n",
       "<tr>\n",
       "  <th>Covariance Type:</th>      <td>nonrobust</td>    <th>                     </th>     <td> </td>   \n",
       "</tr>\n",
       "</table>\n",
       "<table class=\"simpletable\">\n",
       "<tr>\n",
       "        <td></td>          <th>coef</th>     <th>std err</th>      <th>t</th>      <th>P>|t|</th>  <th>[0.025</th>    <th>0.975]</th>  \n",
       "</tr>\n",
       "<tr>\n",
       "  <th>Intercept</th>    <td>    4.6327</td> <td>    0.788</td> <td>    5.877</td> <td> 0.000</td> <td>    3.072</td> <td>    6.193</td>\n",
       "</tr>\n",
       "<tr>\n",
       "  <th>amt_weekdays</th> <td>    0.8545</td> <td>    0.043</td> <td>   20.096</td> <td> 0.000</td> <td>    0.770</td> <td>    0.939</td>\n",
       "</tr>\n",
       "</table>\n",
       "<table class=\"simpletable\">\n",
       "<tr>\n",
       "  <th>Omnibus:</th>       <td>33.694</td> <th>  Durbin-Watson:     </th> <td>   1.815</td>\n",
       "</tr>\n",
       "<tr>\n",
       "  <th>Prob(Omnibus):</th> <td> 0.000</td> <th>  Jarque-Bera (JB):  </th> <td>  66.260</td>\n",
       "</tr>\n",
       "<tr>\n",
       "  <th>Skew:</th>          <td> 1.154</td> <th>  Prob(JB):          </th> <td>4.09e-15</td>\n",
       "</tr>\n",
       "<tr>\n",
       "  <th>Kurtosis:</th>      <td> 5.739</td> <th>  Cond. No.          </th> <td>    34.1</td>\n",
       "</tr>\n",
       "</table><br/><br/>Notes:<br/>[1] Standard Errors assume that the covariance matrix of the errors is correctly specified."
      ],
      "text/plain": [
       "<class 'statsmodels.iolib.summary.Summary'>\n",
       "\"\"\"\n",
       "                            OLS Regression Results                            \n",
       "==============================================================================\n",
       "Dep. Variable:           amt_weekends   R-squared:                       0.768\n",
       "Model:                            OLS   Adj. R-squared:                  0.766\n",
       "Method:                 Least Squares   F-statistic:                     403.9\n",
       "Date:                Fri, 02 Dec 2022   Prob (F-statistic):           1.62e-40\n",
       "Time:                        15:53:32   Log-Likelihood:                -368.93\n",
       "No. Observations:                 124   AIC:                             741.9\n",
       "Df Residuals:                     122   BIC:                             747.5\n",
       "Df Model:                           1                                         \n",
       "Covariance Type:            nonrobust                                         \n",
       "================================================================================\n",
       "                   coef    std err          t      P>|t|      [0.025      0.975]\n",
       "--------------------------------------------------------------------------------\n",
       "Intercept        4.6327      0.788      5.877      0.000       3.072       6.193\n",
       "amt_weekdays     0.8545      0.043     20.096      0.000       0.770       0.939\n",
       "==============================================================================\n",
       "Omnibus:                       33.694   Durbin-Watson:                   1.815\n",
       "Prob(Omnibus):                  0.000   Jarque-Bera (JB):               66.260\n",
       "Skew:                           1.154   Prob(JB):                     4.09e-15\n",
       "Kurtosis:                       5.739   Cond. No.                         34.1\n",
       "==============================================================================\n",
       "\n",
       "Notes:\n",
       "[1] Standard Errors assume that the covariance matrix of the errors is correctly specified.\n",
       "\"\"\""
      ]
     },
     "execution_count": 90,
     "metadata": {},
     "output_type": "execute_result"
    }
   ],
   "source": [
    "packet_lin = smf.ols('amt_weekends~amt_weekdays', data=df[df['y']==0]).fit()\n",
    "packet_lin.summary()"
   ]
  }
 ],
 "metadata": {
  "kernelspec": {
   "display_name": "Python 3 (ipykernel)",
   "language": "python",
   "name": "python3"
  },
  "language_info": {
   "codemirror_mode": {
    "name": "ipython",
    "version": 3
   },
   "file_extension": ".py",
   "mimetype": "text/x-python",
   "name": "python",
   "nbconvert_exporter": "python",
   "pygments_lexer": "ipython3",
   "version": "3.9.12"
  }
 },
 "nbformat": 4,
 "nbformat_minor": 4
}
