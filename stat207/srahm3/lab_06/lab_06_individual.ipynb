{
 "cells": [
  {
   "cell_type": "markdown",
   "metadata": {},
   "source": [
    "# STAT 207 Lab 6 - Individual Part - [25 total points]\n",
    "\n",
    "## <u>Case Study</u>: U.S. County Unemployment Rate Analysis\n",
    "\n",
    "Due: Tuesday, October 4, 11:59pm CST\n",
    "\n",
    "In this analysis, we will learn more about the **unemployment rates** of U.S. counties in our **county.csv** file. One of our research goals for this analysis will be to create a **confidence interval** for the **average unemployment rate** of **all U.S. counties**.\n",
    "\n",
    "For the purpose of learning more about the nature of confidence intervals and how they work, this analysis will be atypical from most case studies in which we would want to calculate a confidence interval of a population parameter. What is atypical about this case study is that ***we will assume to have the population data** (ie. all U.S. counties in this case).*\n",
    "\n",
    "Typically, the main purpose of creating a confidence interval is to create plausible range of values for some **population parameter that we do not know**. However, in the case of this assignment, we will *actually know* our **population mean**, so we can \"check our answers\" and develop our understanding of how confidence intervals work.\n",
    "\n",
    "<p>&nbsp;</p>\n",
    "<table style=\"border: none;border-collapse: collapse;width:102pt;\">\n",
    "    <tbody>\n",
    "        <tr>\n",
    "            <td style=\"color:black;font-size:15px;font-weight:700;font-style:normal;text-decoration:none;font-family:Calibri, sans-serif;text-align:right;vertical-align:bottom;border:.5pt solid windowtext;height:14.25pt;width:51pt;\">Problem</td>\n",
    "            <td style=\"color:black;font-size:15px;font-weight:700;font-style:normal;text-decoration:none;font-family:Calibri, sans-serif;text-align:right;vertical-align:bottom;border:.5pt solid windowtext;border-left:none;width:51pt;\">Points</td>\n",
    "        </tr>\n",
    "        <tr>\n",
    "            <td style=\"color:black;font-size:15px;font-weight:400;font-style:normal;text-decoration:none;font-family:Calibri, sans-serif;text-align:right;vertical-align:bottom;border:.5pt solid windowtext;height:14.25pt;border-top:none;\">1.1</td>\n",
    "            <td style=\"color:black;font-size:15px;font-weight:400;font-style:normal;text-decoration:none;font-family:Calibri, sans-serif;text-align:right;vertical-align:bottom;border:.5pt solid windowtext;border-top:none;border-left:none;\">0.5</td>\n",
    "        </tr>\n",
    "        <tr>\n",
    "            <td style=\"color:black;font-size:15px;font-weight:400;font-style:normal;text-decoration:none;font-family:Calibri, sans-serif;text-align:right;vertical-align:bottom;border:.5pt solid windowtext;height:14.25pt;border-top:none;\">1.2</td>\n",
    "            <td style=\"color:black;font-size:15px;font-weight:400;font-style:normal;text-decoration:none;font-family:Calibri, sans-serif;text-align:right;vertical-align:bottom;border:.5pt solid windowtext;border-top:none;border-left:none;\">0.5</td>\n",
    "        </tr>\n",
    "        <tr>\n",
    "            <td style=\"color:black;font-size:15px;font-weight:400;font-style:normal;text-decoration:none;font-family:Calibri, sans-serif;text-align:right;vertical-align:bottom;border:.5pt solid windowtext;height:14.25pt;border-top:none;\">2.1</td>\n",
    "            <td style=\"color:black;font-size:15px;font-weight:400;font-style:normal;text-decoration:none;font-family:Calibri, sans-serif;text-align:right;vertical-align:bottom;border:.5pt solid windowtext;border-top:none;border-left:none;\">0.5</td>\n",
    "        </tr>\n",
    "        <tr>\n",
    "            <td style=\"color:black;font-size:15px;font-weight:400;font-style:normal;text-decoration:none;font-family:Calibri, sans-serif;text-align:right;vertical-align:bottom;border:.5pt solid windowtext;height:14.25pt;border-top:none;\">2.2</td>\n",
    "            <td style=\"color:black;font-size:15px;font-weight:400;font-style:normal;text-decoration:none;font-family:Calibri, sans-serif;text-align:right;vertical-align:bottom;border:.5pt solid windowtext;border-top:none;border-left:none;\">0.5</td>\n",
    "        </tr>\n",
    "        <tr>\n",
    "            <td style=\"color:black;font-size:15px;font-weight:400;font-style:normal;text-decoration:none;font-family:Calibri, sans-serif;text-align:right;vertical-align:bottom;border:.5pt solid windowtext;height:14.25pt;border-top:none;\">3.1</td>\n",
    "            <td style=\"color:black;font-size:15px;font-weight:400;font-style:normal;text-decoration:none;font-family:Calibri, sans-serif;text-align:right;vertical-align:bottom;border:.5pt solid windowtext;border-top:none;border-left:none;\">0.75</td>\n",
    "        </tr>\n",
    "        <tr>\n",
    "            <td style=\"color:black;font-size:15px;font-weight:400;font-style:normal;text-decoration:none;font-family:Calibri, sans-serif;text-align:right;vertical-align:bottom;border:.5pt solid windowtext;height:14.25pt;border-top:none;\">3.2</td>\n",
    "            <td style=\"color:black;font-size:15px;font-weight:400;font-style:normal;text-decoration:none;font-family:Calibri, sans-serif;text-align:right;vertical-align:bottom;border:.5pt solid windowtext;border-top:none;border-left:none;\">0.5</td>\n",
    "        </tr>\n",
    "        <tr>\n",
    "            <td style=\"color:black;font-size:15px;font-weight:400;font-style:normal;text-decoration:none;font-family:Calibri, sans-serif;text-align:right;vertical-align:bottom;border:.5pt solid windowtext;height:14.25pt;border-top:none;\">3.3</td>\n",
    "            <td style=\"color:black;font-size:15px;font-weight:400;font-style:normal;text-decoration:none;font-family:Calibri, sans-serif;text-align:right;vertical-align:bottom;border:.5pt solid windowtext;border-top:none;border-left:none;\">0.5</td>\n",
    "        </tr>\n",
    "        <tr>\n",
    "            <td style=\"color:black;font-size:15px;font-weight:400;font-style:normal;text-decoration:none;font-family:Calibri, sans-serif;text-align:right;vertical-align:bottom;border:.5pt solid windowtext;height:14.25pt;border-top:none;\">4.1</td>\n",
    "            <td style=\"color:black;font-size:15px;font-weight:400;font-style:normal;text-decoration:none;font-family:Calibri, sans-serif;text-align:right;vertical-align:bottom;border:.5pt solid windowtext;border-top:none;border-left:none;\">1</td>\n",
    "        </tr>\n",
    "        <tr>\n",
    "            <td style=\"color:black;font-size:15px;font-weight:400;font-style:normal;text-decoration:none;font-family:Calibri, sans-serif;text-align:right;vertical-align:bottom;border:.5pt solid windowtext;height:14.25pt;border-top:none;\">4.2</td>\n",
    "            <td style=\"color:black;font-size:15px;font-weight:400;font-style:normal;text-decoration:none;font-family:Calibri, sans-serif;text-align:right;vertical-align:bottom;border:.5pt solid windowtext;border-top:none;border-left:none;\">1</td>\n",
    "        </tr>\n",
    "        <tr>\n",
    "            <td style=\"color:black;font-size:15px;font-weight:400;font-style:normal;text-decoration:none;font-family:Calibri, sans-serif;text-align:right;vertical-align:bottom;border:.5pt solid windowtext;height:14.25pt;border-top:none;\">4.3</td>\n",
    "            <td style=\"color:black;font-size:15px;font-weight:400;font-style:normal;text-decoration:none;font-family:Calibri, sans-serif;text-align:right;vertical-align:bottom;border:.5pt solid windowtext;border-top:none;border-left:none;\">1.5</td>\n",
    "        </tr>\n",
    "        <tr>\n",
    "            <td style=\"color:black;font-size:15px;font-weight:400;font-style:normal;text-decoration:none;font-family:Calibri, sans-serif;text-align:right;vertical-align:bottom;border:.5pt solid windowtext;height:14.25pt;border-top:none;\">4.4</td>\n",
    "            <td style=\"color:black;font-size:15px;font-weight:400;font-style:normal;text-decoration:none;font-family:Calibri, sans-serif;text-align:right;vertical-align:bottom;border:.5pt solid windowtext;border-top:none;border-left:none;\">1.5</td>\n",
    "        </tr>\n",
    "        <tr>\n",
    "            <td style=\"color:black;font-size:15px;font-weight:400;font-style:normal;text-decoration:none;font-family:Calibri, sans-serif;text-align:right;vertical-align:bottom;border:.5pt solid windowtext;height:14.25pt;border-top:none;\">4.5</td>\n",
    "            <td style=\"color:black;font-size:15px;font-weight:400;font-style:normal;text-decoration:none;font-family:Calibri, sans-serif;text-align:right;vertical-align:bottom;border:.5pt solid windowtext;border-top:none;border-left:none;\">0.5</td>\n",
    "        </tr>\n",
    "        <tr>\n",
    "            <td style=\"color:black;font-size:15px;font-weight:400;font-style:normal;text-decoration:none;font-family:Calibri, sans-serif;text-align:right;vertical-align:bottom;border:.5pt solid windowtext;height:14.25pt;border-top:none;\">4.6</td>\n",
    "            <td style=\"color:black;font-size:15px;font-weight:400;font-style:normal;text-decoration:none;font-family:Calibri, sans-serif;text-align:right;vertical-align:bottom;border:.5pt solid windowtext;border-top:none;border-left:none;\">1.5</td>\n",
    "        </tr>\n",
    "        <tr>\n",
    "            <td style=\"color:black;font-size:15px;font-weight:400;font-style:normal;text-decoration:none;font-family:Calibri, sans-serif;text-align:right;vertical-align:bottom;border:.5pt solid windowtext;height:14.25pt;border-top:none;\">5.1</td>\n",
    "            <td style=\"color:black;font-size:15px;font-weight:400;font-style:normal;text-decoration:none;font-family:Calibri, sans-serif;text-align:right;vertical-align:bottom;border:.5pt solid windowtext;border-top:none;border-left:none;\">2</td>\n",
    "        </tr>\n",
    "        <tr>\n",
    "            <td style=\"color:black;font-size:15px;font-weight:400;font-style:normal;text-decoration:none;font-family:Calibri, sans-serif;text-align:right;vertical-align:bottom;border:.5pt solid windowtext;height:14.25pt;border-top:none;\">5.2</td>\n",
    "            <td style=\"color:black;font-size:15px;font-weight:400;font-style:normal;text-decoration:none;font-family:Calibri, sans-serif;text-align:right;vertical-align:bottom;border:.5pt solid windowtext;border-top:none;border-left:none;\">0.75</td>\n",
    "        </tr>\n",
    "        <tr>\n",
    "            <td style=\"color:black;font-size:15px;font-weight:400;font-style:normal;text-decoration:none;font-family:Calibri, sans-serif;text-align:right;vertical-align:bottom;border:.5pt solid windowtext;height:14.25pt;border-top:none;\">5.3</td>\n",
    "            <td style=\"color:black;font-size:15px;font-weight:400;font-style:normal;text-decoration:none;font-family:Calibri, sans-serif;text-align:right;vertical-align:bottom;border:.5pt solid windowtext;border-top:none;border-left:none;\">0.5</td>\n",
    "        </tr>\n",
    "        <tr>\n",
    "            <td style=\"color:black;font-size:15px;font-weight:400;font-style:normal;text-decoration:none;font-family:Calibri, sans-serif;text-align:right;vertical-align:bottom;border:.5pt solid windowtext;height:14.25pt;border-top:none;\">5.4</td>\n",
    "            <td style=\"color:black;font-size:15px;font-weight:400;font-style:normal;text-decoration:none;font-family:Calibri, sans-serif;text-align:right;vertical-align:bottom;border:.5pt solid windowtext;border-top:none;border-left:none;\">0.5</td>\n",
    "        </tr>\n",
    "        <tr>\n",
    "            <td style=\"color:black;font-size:15px;font-weight:400;font-style:normal;text-decoration:none;font-family:Calibri, sans-serif;text-align:right;vertical-align:bottom;border:.5pt solid windowtext;height:14.25pt;border-top:none;\">5.5</td>\n",
    "            <td style=\"color:black;font-size:15px;font-weight:400;font-style:normal;text-decoration:none;font-family:Calibri, sans-serif;text-align:right;vertical-align:bottom;border:.5pt solid windowtext;border-top:none;border-left:none;\">0.5</td>\n",
    "        </tr>\n",
    "        <tr>\n",
    "            <td style=\"color:black;font-size:15px;font-weight:400;font-style:normal;text-decoration:none;font-family:Calibri, sans-serif;text-align:right;vertical-align:bottom;border:.5pt solid windowtext;height:14.25pt;border-top:none;\">6.1</td>\n",
    "            <td style=\"color:black;font-size:15px;font-weight:400;font-style:normal;text-decoration:none;font-family:Calibri, sans-serif;text-align:right;vertical-align:bottom;border:.5pt solid windowtext;border-top:none;border-left:none;\">1.5</td>\n",
    "        </tr>\n",
    "        <tr>\n",
    "            <td style=\"color:black;font-size:15px;font-weight:400;font-style:normal;text-decoration:none;font-family:Calibri, sans-serif;text-align:right;vertical-align:bottom;border:.5pt solid windowtext;height:14.25pt;border-top:none;\">6.2</td>\n",
    "            <td style=\"color:black;font-size:15px;font-weight:400;font-style:normal;text-decoration:none;font-family:Calibri, sans-serif;text-align:right;vertical-align:bottom;border:.5pt solid windowtext;border-top:none;border-left:none;\">2.5</td>\n",
    "        </tr>\n",
    "        <tr>\n",
    "            <td style=\"color:black;font-size:15px;font-weight:400;font-style:normal;text-decoration:none;font-family:Calibri, sans-serif;text-align:right;vertical-align:bottom;border:.5pt solid windowtext;height:14.25pt;border-top:none;\">6.3</td>\n",
    "            <td style=\"color:black;font-size:15px;font-weight:400;font-style:normal;text-decoration:none;font-family:Calibri, sans-serif;text-align:right;vertical-align:bottom;border:.5pt solid windowtext;border-top:none;border-left:none;\">1</td>\n",
    "        </tr>\n",
    "        <tr>\n",
    "            <td style=\"color:black;font-size:15px;font-weight:400;font-style:normal;text-decoration:none;font-family:Calibri, sans-serif;text-align:right;vertical-align:bottom;border:.5pt solid windowtext;height:14.25pt;border-top:none;\">6.4</td>\n",
    "            <td style=\"color:black;font-size:15px;font-weight:400;font-style:normal;text-decoration:none;font-family:Calibri, sans-serif;text-align:right;vertical-align:bottom;border:.5pt solid windowtext;border-top:none;border-left:none;\">0.25</td>\n",
    "        </tr>\n",
    "        <tr>\n",
    "            <td style=\"color:black;font-size:15px;font-weight:400;font-style:normal;text-decoration:none;font-family:Calibri, sans-serif;text-align:right;vertical-align:bottom;border:.5pt solid windowtext;height:14.25pt;border-top:none;\">6.5</td>\n",
    "            <td style=\"color:black;font-size:15px;font-weight:400;font-style:normal;text-decoration:none;font-family:Calibri, sans-serif;text-align:right;vertical-align:bottom;border:.5pt solid windowtext;border-top:none;border-left:none;\">0.75</td>\n",
    "        </tr>\n",
    "        <tr>\n",
    "            <td style=\"color:black;font-size:15px;font-weight:400;font-style:normal;text-decoration:none;font-family:Calibri, sans-serif;text-align:right;vertical-align:bottom;border:.5pt solid windowtext;height:14.25pt;border-top:none;\">7.1</td>\n",
    "            <td style=\"color:black;font-size:15px;font-weight:400;font-style:normal;text-decoration:none;font-family:Calibri, sans-serif;text-align:right;vertical-align:bottom;border:.5pt solid windowtext;border-top:none;border-left:none;\">1</td>\n",
    "        </tr>\n",
    "        <tr>\n",
    "            <td style=\"color:black;font-size:15px;font-weight:400;font-style:normal;text-decoration:none;font-family:Calibri, sans-serif;text-align:right;vertical-align:bottom;border:.5pt solid windowtext;height:14.25pt;border-top:none;\">7.2</td>\n",
    "            <td style=\"color:black;font-size:15px;font-weight:400;font-style:normal;text-decoration:none;font-family:Calibri, sans-serif;text-align:right;vertical-align:bottom;border:.5pt solid windowtext;border-top:none;border-left:none;\">0.75</td>\n",
    "        </tr>\n",
    "        <tr>\n",
    "            <td style=\"color:black;font-size:15px;font-weight:400;font-style:normal;text-decoration:none;font-family:Calibri, sans-serif;text-align:right;vertical-align:bottom;border:.5pt solid windowtext;height:14.25pt;border-top:none;\">7.3</td>\n",
    "            <td style=\"color:black;font-size:15px;font-weight:400;font-style:normal;text-decoration:none;font-family:Calibri, sans-serif;text-align:right;vertical-align:bottom;border:.5pt solid windowtext;border-top:none;border-left:none;\">2</td>\n",
    "        </tr>\n",
    "        <tr>\n",
    "            <td style=\"color:black;font-size:15px;font-weight:400;font-style:normal;text-decoration:none;font-family:Calibri, sans-serif;text-align:right;vertical-align:bottom;border:.5pt solid windowtext;height:14.25pt;border-top:none;\">7.4</td>\n",
    "            <td style=\"color:black;font-size:15px;font-weight:400;font-style:normal;text-decoration:none;font-family:Calibri, sans-serif;text-align:right;vertical-align:bottom;border:.5pt solid windowtext;border-top:none;border-left:none;\">0.25</td>\n",
    "        </tr>\n",
    "    </tbody>\n",
    "</table>"
   ]
  },
  {
   "cell_type": "markdown",
   "metadata": {},
   "source": [
    "### Imports"
   ]
  },
  {
   "cell_type": "code",
   "execution_count": 2,
   "metadata": {},
   "outputs": [
    {
     "name": "stderr",
     "output_type": "stream",
     "text": [
      "/Users/saber/miniconda3/lib/python3.9/site-packages/scipy/__init__.py:146: UserWarning: A NumPy version >=1.16.5 and <1.23.0 is required for this version of SciPy (detected version 1.23.1\n",
      "  warnings.warn(f\"A NumPy version >={np_minversion} and <{np_maxversion}\"\n"
     ]
    }
   ],
   "source": [
    "import pandas as pd\n",
    "import numpy as np\n",
    "import matplotlib.pyplot as plt\n",
    "\n",
    "import math\n",
    "\n",
    "from scipy.stats import bernoulli\n",
    "from scipy.stats import binom\n",
    "from scipy.stats import norm"
   ]
  },
  {
   "cell_type": "markdown",
   "metadata": {},
   "source": [
    "### 1. Population Data Processing and Cleaning\n",
    "\n",
    "#### 1.1. Read in the CSV File - Encoding Missing Values as NaN\n",
    "\n",
    "Read the county.csv file into a dataframe. This **csv file has missing values**! Specifically, the phrase **'data unavailable'** represents missing values in this csv. Make sure that these missing values are automatically encoded to NaN values when you read the data in.\n",
    "\n"
   ]
  },
  {
   "cell_type": "code",
   "execution_count": 3,
   "metadata": {},
   "outputs": [
    {
     "data": {
      "text/html": [
       "<div>\n",
       "<style scoped>\n",
       "    .dataframe tbody tr th:only-of-type {\n",
       "        vertical-align: middle;\n",
       "    }\n",
       "\n",
       "    .dataframe tbody tr th {\n",
       "        vertical-align: top;\n",
       "    }\n",
       "\n",
       "    .dataframe thead th {\n",
       "        text-align: right;\n",
       "    }\n",
       "</style>\n",
       "<table border=\"1\" class=\"dataframe\">\n",
       "  <thead>\n",
       "    <tr style=\"text-align: right;\">\n",
       "      <th></th>\n",
       "      <th>name</th>\n",
       "      <th>state</th>\n",
       "      <th>pop2000</th>\n",
       "      <th>pop2010</th>\n",
       "      <th>pop2017</th>\n",
       "      <th>pop_change</th>\n",
       "      <th>poverty</th>\n",
       "      <th>homeownership</th>\n",
       "      <th>multi_unit</th>\n",
       "      <th>unemployment_rate</th>\n",
       "      <th>metro</th>\n",
       "      <th>median_edu</th>\n",
       "      <th>per_capita_income</th>\n",
       "      <th>median_hh_income</th>\n",
       "      <th>smoking_ban</th>\n",
       "    </tr>\n",
       "  </thead>\n",
       "  <tbody>\n",
       "    <tr>\n",
       "      <th>0</th>\n",
       "      <td>Autauga County</td>\n",
       "      <td>Alabama</td>\n",
       "      <td>43671.0</td>\n",
       "      <td>54571</td>\n",
       "      <td>55504.0</td>\n",
       "      <td>1.48</td>\n",
       "      <td>13.7</td>\n",
       "      <td>77.5</td>\n",
       "      <td>7.2</td>\n",
       "      <td>3.86</td>\n",
       "      <td>yes</td>\n",
       "      <td>some_college</td>\n",
       "      <td>27841.70</td>\n",
       "      <td>55317.0</td>\n",
       "      <td>none</td>\n",
       "    </tr>\n",
       "    <tr>\n",
       "      <th>1</th>\n",
       "      <td>Baldwin County</td>\n",
       "      <td>Alabama</td>\n",
       "      <td>140415.0</td>\n",
       "      <td>182265</td>\n",
       "      <td>212628.0</td>\n",
       "      <td>9.19</td>\n",
       "      <td>11.8</td>\n",
       "      <td>76.7</td>\n",
       "      <td>22.6</td>\n",
       "      <td>3.99</td>\n",
       "      <td>yes</td>\n",
       "      <td>some_college</td>\n",
       "      <td>27779.85</td>\n",
       "      <td>52562.0</td>\n",
       "      <td>none</td>\n",
       "    </tr>\n",
       "    <tr>\n",
       "      <th>2</th>\n",
       "      <td>Barbour County</td>\n",
       "      <td>Alabama</td>\n",
       "      <td>29038.0</td>\n",
       "      <td>27457</td>\n",
       "      <td>25270.0</td>\n",
       "      <td>-6.22</td>\n",
       "      <td>27.2</td>\n",
       "      <td>68.0</td>\n",
       "      <td>11.1</td>\n",
       "      <td>5.90</td>\n",
       "      <td>no</td>\n",
       "      <td>hs_diploma</td>\n",
       "      <td>17891.73</td>\n",
       "      <td>33368.0</td>\n",
       "      <td>partial</td>\n",
       "    </tr>\n",
       "    <tr>\n",
       "      <th>3</th>\n",
       "      <td>Bibb County</td>\n",
       "      <td>Alabama</td>\n",
       "      <td>20826.0</td>\n",
       "      <td>22915</td>\n",
       "      <td>22668.0</td>\n",
       "      <td>0.73</td>\n",
       "      <td>15.2</td>\n",
       "      <td>82.9</td>\n",
       "      <td>6.6</td>\n",
       "      <td>4.39</td>\n",
       "      <td>yes</td>\n",
       "      <td>hs_diploma</td>\n",
       "      <td>20572.05</td>\n",
       "      <td>43404.0</td>\n",
       "      <td>none</td>\n",
       "    </tr>\n",
       "    <tr>\n",
       "      <th>4</th>\n",
       "      <td>Blount County</td>\n",
       "      <td>Alabama</td>\n",
       "      <td>51024.0</td>\n",
       "      <td>57322</td>\n",
       "      <td>58013.0</td>\n",
       "      <td>0.68</td>\n",
       "      <td>15.6</td>\n",
       "      <td>82.0</td>\n",
       "      <td>3.7</td>\n",
       "      <td>4.02</td>\n",
       "      <td>yes</td>\n",
       "      <td>hs_diploma</td>\n",
       "      <td>21367.39</td>\n",
       "      <td>47412.0</td>\n",
       "      <td>none</td>\n",
       "    </tr>\n",
       "    <tr>\n",
       "      <th>...</th>\n",
       "      <td>...</td>\n",
       "      <td>...</td>\n",
       "      <td>...</td>\n",
       "      <td>...</td>\n",
       "      <td>...</td>\n",
       "      <td>...</td>\n",
       "      <td>...</td>\n",
       "      <td>...</td>\n",
       "      <td>...</td>\n",
       "      <td>...</td>\n",
       "      <td>...</td>\n",
       "      <td>...</td>\n",
       "      <td>...</td>\n",
       "      <td>...</td>\n",
       "      <td>...</td>\n",
       "    </tr>\n",
       "    <tr>\n",
       "      <th>3137</th>\n",
       "      <td>Sweetwater County</td>\n",
       "      <td>Wyoming</td>\n",
       "      <td>37613.0</td>\n",
       "      <td>43806</td>\n",
       "      <td>43534.0</td>\n",
       "      <td>-3.57</td>\n",
       "      <td>12.0</td>\n",
       "      <td>73.7</td>\n",
       "      <td>14.6</td>\n",
       "      <td>4.55</td>\n",
       "      <td>no</td>\n",
       "      <td>some_college</td>\n",
       "      <td>30282.59</td>\n",
       "      <td>71083.0</td>\n",
       "      <td>none</td>\n",
       "    </tr>\n",
       "    <tr>\n",
       "      <th>3138</th>\n",
       "      <td>Teton County</td>\n",
       "      <td>Wyoming</td>\n",
       "      <td>18251.0</td>\n",
       "      <td>21294</td>\n",
       "      <td>23265.0</td>\n",
       "      <td>4.21</td>\n",
       "      <td>6.8</td>\n",
       "      <td>60.8</td>\n",
       "      <td>31.9</td>\n",
       "      <td>2.99</td>\n",
       "      <td>no</td>\n",
       "      <td>bachelors</td>\n",
       "      <td>48557.37</td>\n",
       "      <td>80049.0</td>\n",
       "      <td>partial</td>\n",
       "    </tr>\n",
       "    <tr>\n",
       "      <th>3139</th>\n",
       "      <td>Uinta County</td>\n",
       "      <td>Wyoming</td>\n",
       "      <td>19742.0</td>\n",
       "      <td>21118</td>\n",
       "      <td>20495.0</td>\n",
       "      <td>-2.22</td>\n",
       "      <td>14.9</td>\n",
       "      <td>73.7</td>\n",
       "      <td>17.0</td>\n",
       "      <td>4.50</td>\n",
       "      <td>no</td>\n",
       "      <td>some_college</td>\n",
       "      <td>27048.12</td>\n",
       "      <td>54672.0</td>\n",
       "      <td>none</td>\n",
       "    </tr>\n",
       "    <tr>\n",
       "      <th>3140</th>\n",
       "      <td>Washakie County</td>\n",
       "      <td>Wyoming</td>\n",
       "      <td>8289.0</td>\n",
       "      <td>8533</td>\n",
       "      <td>8064.0</td>\n",
       "      <td>-4.31</td>\n",
       "      <td>12.8</td>\n",
       "      <td>70.9</td>\n",
       "      <td>10.0</td>\n",
       "      <td>4.08</td>\n",
       "      <td>no</td>\n",
       "      <td>some_college</td>\n",
       "      <td>27494.83</td>\n",
       "      <td>51362.0</td>\n",
       "      <td>none</td>\n",
       "    </tr>\n",
       "    <tr>\n",
       "      <th>3141</th>\n",
       "      <td>Weston County</td>\n",
       "      <td>Wyoming</td>\n",
       "      <td>6644.0</td>\n",
       "      <td>7208</td>\n",
       "      <td>6927.0</td>\n",
       "      <td>-2.93</td>\n",
       "      <td>14.4</td>\n",
       "      <td>77.9</td>\n",
       "      <td>6.5</td>\n",
       "      <td>3.98</td>\n",
       "      <td>no</td>\n",
       "      <td>some_college</td>\n",
       "      <td>33296.70</td>\n",
       "      <td>59605.0</td>\n",
       "      <td>none</td>\n",
       "    </tr>\n",
       "  </tbody>\n",
       "</table>\n",
       "<p>3142 rows × 15 columns</p>\n",
       "</div>"
      ],
      "text/plain": [
       "                   name    state   pop2000  pop2010   pop2017  pop_change  \\\n",
       "0        Autauga County  Alabama   43671.0    54571   55504.0        1.48   \n",
       "1        Baldwin County  Alabama  140415.0   182265  212628.0        9.19   \n",
       "2        Barbour County  Alabama   29038.0    27457   25270.0       -6.22   \n",
       "3           Bibb County  Alabama   20826.0    22915   22668.0        0.73   \n",
       "4         Blount County  Alabama   51024.0    57322   58013.0        0.68   \n",
       "...                 ...      ...       ...      ...       ...         ...   \n",
       "3137  Sweetwater County  Wyoming   37613.0    43806   43534.0       -3.57   \n",
       "3138       Teton County  Wyoming   18251.0    21294   23265.0        4.21   \n",
       "3139       Uinta County  Wyoming   19742.0    21118   20495.0       -2.22   \n",
       "3140    Washakie County  Wyoming    8289.0     8533    8064.0       -4.31   \n",
       "3141      Weston County  Wyoming    6644.0     7208    6927.0       -2.93   \n",
       "\n",
       "      poverty  homeownership  multi_unit  unemployment_rate metro  \\\n",
       "0        13.7           77.5         7.2               3.86   yes   \n",
       "1        11.8           76.7        22.6               3.99   yes   \n",
       "2        27.2           68.0        11.1               5.90    no   \n",
       "3        15.2           82.9         6.6               4.39   yes   \n",
       "4        15.6           82.0         3.7               4.02   yes   \n",
       "...       ...            ...         ...                ...   ...   \n",
       "3137     12.0           73.7        14.6               4.55    no   \n",
       "3138      6.8           60.8        31.9               2.99    no   \n",
       "3139     14.9           73.7        17.0               4.50    no   \n",
       "3140     12.8           70.9        10.0               4.08    no   \n",
       "3141     14.4           77.9         6.5               3.98    no   \n",
       "\n",
       "        median_edu  per_capita_income  median_hh_income smoking_ban  \n",
       "0     some_college           27841.70           55317.0        none  \n",
       "1     some_college           27779.85           52562.0        none  \n",
       "2       hs_diploma           17891.73           33368.0     partial  \n",
       "3       hs_diploma           20572.05           43404.0        none  \n",
       "4       hs_diploma           21367.39           47412.0        none  \n",
       "...            ...                ...               ...         ...  \n",
       "3137  some_college           30282.59           71083.0        none  \n",
       "3138     bachelors           48557.37           80049.0     partial  \n",
       "3139  some_college           27048.12           54672.0        none  \n",
       "3140  some_college           27494.83           51362.0        none  \n",
       "3141  some_college           33296.70           59605.0        none  \n",
       "\n",
       "[3142 rows x 15 columns]"
      ]
     },
     "execution_count": 3,
     "metadata": {},
     "output_type": "execute_result"
    }
   ],
   "source": [
    "missing_values = [\"data unavailable\"]\n",
    "df = pd.read_csv('county.csv', na_values=missing_values)\n",
    "df"
   ]
  },
  {
   "cell_type": "markdown",
   "metadata": {},
   "source": [
    "#### 1.2. Dropping Missing Values\n",
    "\n",
    "Create a pandas dataframe that is comprised of just the **name**, **state**, and **unemployment_rate** columns. THEN drop all rows in this dataframe that have missing values.\n",
    "\n",
    "**From this point forward, you should consider this dataframe with the dropped values to be your population**.\n"
   ]
  },
  {
   "cell_type": "code",
   "execution_count": 4,
   "metadata": {},
   "outputs": [
    {
     "data": {
      "text/html": [
       "<div>\n",
       "<style scoped>\n",
       "    .dataframe tbody tr th:only-of-type {\n",
       "        vertical-align: middle;\n",
       "    }\n",
       "\n",
       "    .dataframe tbody tr th {\n",
       "        vertical-align: top;\n",
       "    }\n",
       "\n",
       "    .dataframe thead th {\n",
       "        text-align: right;\n",
       "    }\n",
       "</style>\n",
       "<table border=\"1\" class=\"dataframe\">\n",
       "  <thead>\n",
       "    <tr style=\"text-align: right;\">\n",
       "      <th></th>\n",
       "      <th>name</th>\n",
       "      <th>state</th>\n",
       "      <th>unemployment_rate</th>\n",
       "    </tr>\n",
       "  </thead>\n",
       "  <tbody>\n",
       "    <tr>\n",
       "      <th>0</th>\n",
       "      <td>Autauga County</td>\n",
       "      <td>Alabama</td>\n",
       "      <td>3.86</td>\n",
       "    </tr>\n",
       "    <tr>\n",
       "      <th>1</th>\n",
       "      <td>Baldwin County</td>\n",
       "      <td>Alabama</td>\n",
       "      <td>3.99</td>\n",
       "    </tr>\n",
       "    <tr>\n",
       "      <th>2</th>\n",
       "      <td>Barbour County</td>\n",
       "      <td>Alabama</td>\n",
       "      <td>5.90</td>\n",
       "    </tr>\n",
       "    <tr>\n",
       "      <th>3</th>\n",
       "      <td>Bibb County</td>\n",
       "      <td>Alabama</td>\n",
       "      <td>4.39</td>\n",
       "    </tr>\n",
       "    <tr>\n",
       "      <th>4</th>\n",
       "      <td>Blount County</td>\n",
       "      <td>Alabama</td>\n",
       "      <td>4.02</td>\n",
       "    </tr>\n",
       "    <tr>\n",
       "      <th>...</th>\n",
       "      <td>...</td>\n",
       "      <td>...</td>\n",
       "      <td>...</td>\n",
       "    </tr>\n",
       "    <tr>\n",
       "      <th>3137</th>\n",
       "      <td>Sweetwater County</td>\n",
       "      <td>Wyoming</td>\n",
       "      <td>4.55</td>\n",
       "    </tr>\n",
       "    <tr>\n",
       "      <th>3138</th>\n",
       "      <td>Teton County</td>\n",
       "      <td>Wyoming</td>\n",
       "      <td>2.99</td>\n",
       "    </tr>\n",
       "    <tr>\n",
       "      <th>3139</th>\n",
       "      <td>Uinta County</td>\n",
       "      <td>Wyoming</td>\n",
       "      <td>4.50</td>\n",
       "    </tr>\n",
       "    <tr>\n",
       "      <th>3140</th>\n",
       "      <td>Washakie County</td>\n",
       "      <td>Wyoming</td>\n",
       "      <td>4.08</td>\n",
       "    </tr>\n",
       "    <tr>\n",
       "      <th>3141</th>\n",
       "      <td>Weston County</td>\n",
       "      <td>Wyoming</td>\n",
       "      <td>3.98</td>\n",
       "    </tr>\n",
       "  </tbody>\n",
       "</table>\n",
       "<p>3139 rows × 3 columns</p>\n",
       "</div>"
      ],
      "text/plain": [
       "                   name    state  unemployment_rate\n",
       "0        Autauga County  Alabama               3.86\n",
       "1        Baldwin County  Alabama               3.99\n",
       "2        Barbour County  Alabama               5.90\n",
       "3           Bibb County  Alabama               4.39\n",
       "4         Blount County  Alabama               4.02\n",
       "...                 ...      ...                ...\n",
       "3137  Sweetwater County  Wyoming               4.55\n",
       "3138       Teton County  Wyoming               2.99\n",
       "3139       Uinta County  Wyoming               4.50\n",
       "3140    Washakie County  Wyoming               4.08\n",
       "3141      Weston County  Wyoming               3.98\n",
       "\n",
       "[3139 rows x 3 columns]"
      ]
     },
     "execution_count": 4,
     "metadata": {},
     "output_type": "execute_result"
    }
   ],
   "source": [
    "df2 = df.iloc[:, [0, 1, 9]]\n",
    "df2 = df2.dropna()\n",
    "df2"
   ]
  },
  {
   "cell_type": "markdown",
   "metadata": {},
   "source": [
    "### 2. Exploring the Population of Unemployment Rates\n",
    "\n",
    "Let's assume that this cleaned dataframe from 1 represents the **population** of all U.S. counties.\n",
    "\n",
    "#### 2.1. Population Mean and Standard Deviation\n",
    "\n",
    "Calculate the population mean and the population standard deviation unemployment rates."
   ]
  },
  {
   "cell_type": "code",
   "execution_count": 5,
   "metadata": {},
   "outputs": [
    {
     "data": {
      "text/plain": [
       "4.611443134756305"
      ]
     },
     "execution_count": 5,
     "metadata": {},
     "output_type": "execute_result"
    }
   ],
   "source": [
    "mean = df2['unemployment_rate'].mean()\n",
    "mean"
   ]
  },
  {
   "cell_type": "code",
   "execution_count": 6,
   "metadata": {},
   "outputs": [
    {
     "data": {
      "text/plain": [
       "1.6487610856225392"
      ]
     },
     "execution_count": 6,
     "metadata": {},
     "output_type": "execute_result"
    }
   ],
   "source": [
    "std = df2['unemployment_rate'].std()\n",
    "std"
   ]
  },
  {
   "cell_type": "markdown",
   "metadata": {},
   "source": [
    "#### 2.2. Population Distribution   \n",
    "\n",
    "Plot the population distribution of unemployment rates in a histogram. Make sure you give an appropriate title and x- and y-axis labels."
   ]
  },
  {
   "cell_type": "code",
   "execution_count": 7,
   "metadata": {},
   "outputs": [
    {
     "data": {
      "image/png": "[encoded data removed]",
      "text/plain": [
       "<Figure size 432x288 with 1 Axes>"
      ]
     },
     "metadata": {
      "needs_background": "light"
     },
     "output_type": "display_data"
    }
   ],
   "source": [
    "df2['unemployment_rate'].hist()\n",
    "plt.title('Frequency of Unemployment')\n",
    "plt.xlabel('Unemployement Rate')\n",
    "plt.ylabel('Frequency')\n",
    "plt.show()"
   ]
  },
  {
   "cell_type": "markdown",
   "metadata": {},
   "source": [
    "### 3. Random Sample of County Unemployment Rates\n",
    "\n",
    "#### 3.1. Collecting a random sample\n",
    "\n",
    "Collect a random sample of 50 counties from the population (using a random state of 100) WITHOUT replacement."
   ]
  },
  {
   "cell_type": "code",
   "execution_count": 8,
   "metadata": {},
   "outputs": [
    {
     "data": {
      "text/html": [
       "<div>\n",
       "<style scoped>\n",
       "    .dataframe tbody tr th:only-of-type {\n",
       "        vertical-align: middle;\n",
       "    }\n",
       "\n",
       "    .dataframe tbody tr th {\n",
       "        vertical-align: top;\n",
       "    }\n",
       "\n",
       "    .dataframe thead th {\n",
       "        text-align: right;\n",
       "    }\n",
       "</style>\n",
       "<table border=\"1\" class=\"dataframe\">\n",
       "  <thead>\n",
       "    <tr style=\"text-align: right;\">\n",
       "      <th></th>\n",
       "      <th>name</th>\n",
       "      <th>state</th>\n",
       "      <th>unemployment_rate</th>\n",
       "    </tr>\n",
       "  </thead>\n",
       "  <tbody>\n",
       "    <tr>\n",
       "      <th>0</th>\n",
       "      <td>Terrebonne Parish</td>\n",
       "      <td>Louisiana</td>\n",
       "      <td>5.69</td>\n",
       "    </tr>\n",
       "    <tr>\n",
       "      <th>1</th>\n",
       "      <td>Jefferson County</td>\n",
       "      <td>Kentucky</td>\n",
       "      <td>4.43</td>\n",
       "    </tr>\n",
       "    <tr>\n",
       "      <th>2</th>\n",
       "      <td>Menard County</td>\n",
       "      <td>Texas</td>\n",
       "      <td>4.83</td>\n",
       "    </tr>\n",
       "    <tr>\n",
       "      <th>3</th>\n",
       "      <td>Thayer County</td>\n",
       "      <td>Nebraska</td>\n",
       "      <td>2.25</td>\n",
       "    </tr>\n",
       "    <tr>\n",
       "      <th>4</th>\n",
       "      <td>Teton County</td>\n",
       "      <td>Wyoming</td>\n",
       "      <td>2.99</td>\n",
       "    </tr>\n",
       "    <tr>\n",
       "      <th>5</th>\n",
       "      <td>Peach County</td>\n",
       "      <td>Georgia</td>\n",
       "      <td>5.85</td>\n",
       "    </tr>\n",
       "    <tr>\n",
       "      <th>6</th>\n",
       "      <td>Mills County</td>\n",
       "      <td>Iowa</td>\n",
       "      <td>2.77</td>\n",
       "    </tr>\n",
       "    <tr>\n",
       "      <th>7</th>\n",
       "      <td>Stanton County</td>\n",
       "      <td>Nebraska</td>\n",
       "      <td>2.82</td>\n",
       "    </tr>\n",
       "    <tr>\n",
       "      <th>8</th>\n",
       "      <td>Osage County</td>\n",
       "      <td>Kansas</td>\n",
       "      <td>3.96</td>\n",
       "    </tr>\n",
       "    <tr>\n",
       "      <th>9</th>\n",
       "      <td>Dakota County</td>\n",
       "      <td>Minnesota</td>\n",
       "      <td>3.02</td>\n",
       "    </tr>\n",
       "    <tr>\n",
       "      <th>10</th>\n",
       "      <td>Aroostook County</td>\n",
       "      <td>Maine</td>\n",
       "      <td>4.81</td>\n",
       "    </tr>\n",
       "    <tr>\n",
       "      <th>11</th>\n",
       "      <td>Spencer County</td>\n",
       "      <td>Kentucky</td>\n",
       "      <td>3.84</td>\n",
       "    </tr>\n",
       "    <tr>\n",
       "      <th>12</th>\n",
       "      <td>Calhoun County</td>\n",
       "      <td>Arkansas</td>\n",
       "      <td>3.94</td>\n",
       "    </tr>\n",
       "    <tr>\n",
       "      <th>13</th>\n",
       "      <td>Presidio County</td>\n",
       "      <td>Texas</td>\n",
       "      <td>9.36</td>\n",
       "    </tr>\n",
       "    <tr>\n",
       "      <th>14</th>\n",
       "      <td>Edwards County</td>\n",
       "      <td>Illinois</td>\n",
       "      <td>4.51</td>\n",
       "    </tr>\n",
       "    <tr>\n",
       "      <th>15</th>\n",
       "      <td>Warren County</td>\n",
       "      <td>Indiana</td>\n",
       "      <td>3.36</td>\n",
       "    </tr>\n",
       "    <tr>\n",
       "      <th>16</th>\n",
       "      <td>Leelanau County</td>\n",
       "      <td>Michigan</td>\n",
       "      <td>4.90</td>\n",
       "    </tr>\n",
       "    <tr>\n",
       "      <th>17</th>\n",
       "      <td>LaMoure County</td>\n",
       "      <td>North Dakota</td>\n",
       "      <td>1.87</td>\n",
       "    </tr>\n",
       "    <tr>\n",
       "      <th>18</th>\n",
       "      <td>Jefferson County</td>\n",
       "      <td>Pennsylvania</td>\n",
       "      <td>5.61</td>\n",
       "    </tr>\n",
       "    <tr>\n",
       "      <th>19</th>\n",
       "      <td>Saunders County</td>\n",
       "      <td>Nebraska</td>\n",
       "      <td>2.80</td>\n",
       "    </tr>\n",
       "    <tr>\n",
       "      <th>20</th>\n",
       "      <td>Rice County</td>\n",
       "      <td>Kansas</td>\n",
       "      <td>3.22</td>\n",
       "    </tr>\n",
       "    <tr>\n",
       "      <th>21</th>\n",
       "      <td>Richardson County</td>\n",
       "      <td>Nebraska</td>\n",
       "      <td>3.28</td>\n",
       "    </tr>\n",
       "    <tr>\n",
       "      <th>22</th>\n",
       "      <td>Morton County</td>\n",
       "      <td>North Dakota</td>\n",
       "      <td>3.04</td>\n",
       "    </tr>\n",
       "    <tr>\n",
       "      <th>23</th>\n",
       "      <td>Jasper County</td>\n",
       "      <td>South Carolina</td>\n",
       "      <td>3.64</td>\n",
       "    </tr>\n",
       "    <tr>\n",
       "      <th>24</th>\n",
       "      <td>Madison County</td>\n",
       "      <td>Arkansas</td>\n",
       "      <td>2.80</td>\n",
       "    </tr>\n",
       "    <tr>\n",
       "      <th>25</th>\n",
       "      <td>Greenbrier County</td>\n",
       "      <td>West Virginia</td>\n",
       "      <td>4.83</td>\n",
       "    </tr>\n",
       "    <tr>\n",
       "      <th>26</th>\n",
       "      <td>Carter County</td>\n",
       "      <td>Oklahoma</td>\n",
       "      <td>4.60</td>\n",
       "    </tr>\n",
       "    <tr>\n",
       "      <th>27</th>\n",
       "      <td>Franklin County</td>\n",
       "      <td>Alabama</td>\n",
       "      <td>4.23</td>\n",
       "    </tr>\n",
       "    <tr>\n",
       "      <th>28</th>\n",
       "      <td>Greene County</td>\n",
       "      <td>Alabama</td>\n",
       "      <td>7.66</td>\n",
       "    </tr>\n",
       "    <tr>\n",
       "      <th>29</th>\n",
       "      <td>Bay County</td>\n",
       "      <td>Florida</td>\n",
       "      <td>4.09</td>\n",
       "    </tr>\n",
       "    <tr>\n",
       "      <th>30</th>\n",
       "      <td>Franklin County</td>\n",
       "      <td>Missouri</td>\n",
       "      <td>3.62</td>\n",
       "    </tr>\n",
       "    <tr>\n",
       "      <th>31</th>\n",
       "      <td>Ottawa County</td>\n",
       "      <td>Kansas</td>\n",
       "      <td>3.07</td>\n",
       "    </tr>\n",
       "    <tr>\n",
       "      <th>32</th>\n",
       "      <td>Liberty County</td>\n",
       "      <td>Florida</td>\n",
       "      <td>4.48</td>\n",
       "    </tr>\n",
       "    <tr>\n",
       "      <th>33</th>\n",
       "      <td>Hopkins County</td>\n",
       "      <td>Kentucky</td>\n",
       "      <td>4.83</td>\n",
       "    </tr>\n",
       "    <tr>\n",
       "      <th>34</th>\n",
       "      <td>Tipton County</td>\n",
       "      <td>Indiana</td>\n",
       "      <td>3.06</td>\n",
       "    </tr>\n",
       "    <tr>\n",
       "      <th>35</th>\n",
       "      <td>Wilkes County</td>\n",
       "      <td>North Carolina</td>\n",
       "      <td>4.30</td>\n",
       "    </tr>\n",
       "    <tr>\n",
       "      <th>36</th>\n",
       "      <td>Summers County</td>\n",
       "      <td>West Virginia</td>\n",
       "      <td>5.60</td>\n",
       "    </tr>\n",
       "    <tr>\n",
       "      <th>37</th>\n",
       "      <td>Marshall County</td>\n",
       "      <td>South Dakota</td>\n",
       "      <td>4.61</td>\n",
       "    </tr>\n",
       "    <tr>\n",
       "      <th>38</th>\n",
       "      <td>Boone County</td>\n",
       "      <td>Nebraska</td>\n",
       "      <td>2.47</td>\n",
       "    </tr>\n",
       "    <tr>\n",
       "      <th>39</th>\n",
       "      <td>Hidalgo County</td>\n",
       "      <td>Texas</td>\n",
       "      <td>7.39</td>\n",
       "    </tr>\n",
       "    <tr>\n",
       "      <th>40</th>\n",
       "      <td>Franklin County</td>\n",
       "      <td>Pennsylvania</td>\n",
       "      <td>4.45</td>\n",
       "    </tr>\n",
       "    <tr>\n",
       "      <th>41</th>\n",
       "      <td>Catoosa County</td>\n",
       "      <td>Georgia</td>\n",
       "      <td>4.15</td>\n",
       "    </tr>\n",
       "    <tr>\n",
       "      <th>42</th>\n",
       "      <td>Ottawa County</td>\n",
       "      <td>Michigan</td>\n",
       "      <td>3.35</td>\n",
       "    </tr>\n",
       "    <tr>\n",
       "      <th>43</th>\n",
       "      <td>Houghton County</td>\n",
       "      <td>Michigan</td>\n",
       "      <td>6.06</td>\n",
       "    </tr>\n",
       "    <tr>\n",
       "      <th>44</th>\n",
       "      <td>Grafton County</td>\n",
       "      <td>New Hampshire</td>\n",
       "      <td>2.18</td>\n",
       "    </tr>\n",
       "    <tr>\n",
       "      <th>45</th>\n",
       "      <td>Custer County</td>\n",
       "      <td>Idaho</td>\n",
       "      <td>4.23</td>\n",
       "    </tr>\n",
       "    <tr>\n",
       "      <th>46</th>\n",
       "      <td>Taylor County</td>\n",
       "      <td>Kentucky</td>\n",
       "      <td>4.68</td>\n",
       "    </tr>\n",
       "    <tr>\n",
       "      <th>47</th>\n",
       "      <td>Erie County</td>\n",
       "      <td>Pennsylvania</td>\n",
       "      <td>5.78</td>\n",
       "    </tr>\n",
       "    <tr>\n",
       "      <th>48</th>\n",
       "      <td>Lancaster County</td>\n",
       "      <td>Nebraska</td>\n",
       "      <td>2.64</td>\n",
       "    </tr>\n",
       "    <tr>\n",
       "      <th>49</th>\n",
       "      <td>Shelby County</td>\n",
       "      <td>Illinois</td>\n",
       "      <td>4.41</td>\n",
       "    </tr>\n",
       "  </tbody>\n",
       "</table>\n",
       "</div>"
      ],
      "text/plain": [
       "                 name           state  unemployment_rate\n",
       "0   Terrebonne Parish       Louisiana               5.69\n",
       "1    Jefferson County        Kentucky               4.43\n",
       "2       Menard County           Texas               4.83\n",
       "3       Thayer County        Nebraska               2.25\n",
       "4        Teton County         Wyoming               2.99\n",
       "5        Peach County         Georgia               5.85\n",
       "6        Mills County            Iowa               2.77\n",
       "7      Stanton County        Nebraska               2.82\n",
       "8        Osage County          Kansas               3.96\n",
       "9       Dakota County       Minnesota               3.02\n",
       "10   Aroostook County           Maine               4.81\n",
       "11     Spencer County        Kentucky               3.84\n",
       "12     Calhoun County        Arkansas               3.94\n",
       "13    Presidio County           Texas               9.36\n",
       "14     Edwards County        Illinois               4.51\n",
       "15      Warren County         Indiana               3.36\n",
       "16    Leelanau County        Michigan               4.90\n",
       "17     LaMoure County    North Dakota               1.87\n",
       "18   Jefferson County    Pennsylvania               5.61\n",
       "19    Saunders County        Nebraska               2.80\n",
       "20        Rice County          Kansas               3.22\n",
       "21  Richardson County        Nebraska               3.28\n",
       "22      Morton County    North Dakota               3.04\n",
       "23      Jasper County  South Carolina               3.64\n",
       "24     Madison County        Arkansas               2.80\n",
       "25  Greenbrier County   West Virginia               4.83\n",
       "26      Carter County        Oklahoma               4.60\n",
       "27    Franklin County         Alabama               4.23\n",
       "28      Greene County         Alabama               7.66\n",
       "29         Bay County         Florida               4.09\n",
       "30    Franklin County        Missouri               3.62\n",
       "31      Ottawa County          Kansas               3.07\n",
       "32     Liberty County         Florida               4.48\n",
       "33     Hopkins County        Kentucky               4.83\n",
       "34      Tipton County         Indiana               3.06\n",
       "35      Wilkes County  North Carolina               4.30\n",
       "36     Summers County   West Virginia               5.60\n",
       "37    Marshall County    South Dakota               4.61\n",
       "38       Boone County        Nebraska               2.47\n",
       "39     Hidalgo County           Texas               7.39\n",
       "40    Franklin County    Pennsylvania               4.45\n",
       "41     Catoosa County         Georgia               4.15\n",
       "42      Ottawa County        Michigan               3.35\n",
       "43    Houghton County        Michigan               6.06\n",
       "44     Grafton County   New Hampshire               2.18\n",
       "45      Custer County           Idaho               4.23\n",
       "46      Taylor County        Kentucky               4.68\n",
       "47        Erie County    Pennsylvania               5.78\n",
       "48   Lancaster County        Nebraska               2.64\n",
       "49      Shelby County        Illinois               4.41"
      ]
     },
     "execution_count": 8,
     "metadata": {},
     "output_type": "execute_result"
    }
   ],
   "source": [
    "df_sample = df2.sample(n = 50, random_state = 100, replace = False).reset_index(drop=True)\n",
    "df_sample"
   ]
  },
  {
   "cell_type": "markdown",
   "metadata": {},
   "source": [
    "#### 3.2.  Sample Mean and Standard Deviation\n",
    "\n",
    "Calculate the sample mean and standard deviation of this sample from 3.1."
   ]
  },
  {
   "cell_type": "code",
   "execution_count": 9,
   "metadata": {},
   "outputs": [
    {
     "data": {
      "text/plain": [
       "4.207199999999999"
      ]
     },
     "execution_count": 9,
     "metadata": {},
     "output_type": "execute_result"
    }
   ],
   "source": [
    "df_sample_mean = df_sample['unemployment_rate'].mean()\n",
    "df_sample_mean"
   ]
  },
  {
   "cell_type": "code",
   "execution_count": 10,
   "metadata": {},
   "outputs": [
    {
     "data": {
      "text/plain": [
       "1.457668028610305"
      ]
     },
     "execution_count": 10,
     "metadata": {},
     "output_type": "execute_result"
    }
   ],
   "source": [
    "df_sample_std = df_sample['unemployment_rate'].std()\n",
    "df_sample_std"
   ]
  },
  {
   "cell_type": "markdown",
   "metadata": {},
   "source": [
    "#### 3.3  Sample Distribution\n",
    "\n",
    "Plot the sample distribution of unemployment rates in a histogram. Make sure that you label the x-axis, y-axis, and title appropriately."
   ]
  },
  {
   "cell_type": "code",
   "execution_count": 11,
   "metadata": {},
   "outputs": [
    {
     "data": {
      "image/png": "[encoded data removed]",
      "text/plain": [
       "<Figure size 432x288 with 1 Axes>"
      ]
     },
     "metadata": {
      "needs_background": "light"
     },
     "output_type": "display_data"
    }
   ],
   "source": [
    "df_sample['unemployment_rate'].hist()\n",
    "plt.title('Sample Frequency of Unemployment Rate')\n",
    "plt.xlabel('Unemployement Rate')\n",
    "plt.ylabel('Frequency')\n",
    "plt.show()"
   ]
  },
  {
   "cell_type": "markdown",
   "metadata": {},
   "source": [
    "### 4. Sampling Distribution of Sample Means - *Theoretical*\n",
    "\n",
    "SUPPOSE we were to create a sampling distribution with many, many sample means unemployment rates, where each sample was of size 50 (drawn **with replacement** from the population of all county unemployment rates).\n",
    "\n",
    "#### 4.1. Expected Mean of the Sampling Distribution\n",
    "\n",
    "What would we *expect* the mean of this *theoretical* sampling distribution to be?\n",
    "\n",
    "<u>Hint</u>: *In this part, we are not actually looking for you to calculate the mean of an **actual** sampling distribution (ie. one that you have created).*"
   ]
  },
  {
   "cell_type": "code",
   "execution_count": 12,
   "metadata": {},
   "outputs": [
    {
     "data": {
      "text/plain": [
       "4.611443134756305"
      ]
     },
     "execution_count": 12,
     "metadata": {},
     "output_type": "execute_result"
    }
   ],
   "source": [
    "mean"
   ]
  },
  {
   "cell_type": "markdown",
   "metadata": {},
   "source": [
    "#### 4.2. Expected Standard Deviation of the Sampling Distribution\n",
    "\n",
    "What would we *expect* the standard deviation of this *theoretical* sampling distribution to be?\n",
    "\n",
    "<u>Hint</u>: *In this part, we are not actually looking for you to calculate the standard deviation of an **actual** sampling distribution (ie. one that you have created).*"
   ]
  },
  {
   "cell_type": "code",
   "execution_count": 13,
   "metadata": {},
   "outputs": [
    {
     "data": {
      "text/plain": [
       "0.23317002884003826"
      ]
     },
     "execution_count": 13,
     "metadata": {},
     "output_type": "execute_result"
    }
   ],
   "source": [
    "x = std/np.sqrt(50)\n",
    "x"
   ]
  },
  {
   "cell_type": "markdown",
   "metadata": {},
   "source": [
    "#### 4.3. Expected Sampling Distribution Normality\n",
    "\n",
    "Will this sampling distribution of sample means be approximately normal? Explain."
   ]
  },
  {
   "cell_type": "markdown",
   "metadata": {},
   "source": [
    "Yes because the central limit theorem conditions are met"
   ]
  },
  {
   "cell_type": "markdown",
   "metadata": {},
   "source": [
    "#### 4.4 Probability of our Observed Sample Mean\n",
    "\n",
    "Calculate the probability that a randomly selected sample mean unemployment rate (from this *theoretical* sampling distribution with many, many sample means) is less than or equal to the sample mean that we calculated in (4.2). \n",
    "\n",
    "*(<u>Hint</u>: You should assume that the sampling distribution is normal (ie. $\\bar{X}\\sim N(\\mbox{mean of sampling distribution}, \\mbox{std of sampling distribution})$).)*"
   ]
  },
  {
   "cell_type": "code",
   "execution_count": 14,
   "metadata": {},
   "outputs": [
    {
     "data": {
      "text/plain": [
       "0.04148708862741809"
      ]
     },
     "execution_count": 14,
     "metadata": {},
     "output_type": "execute_result"
    }
   ],
   "source": [
    "norm.cdf(df_sample_mean, loc = mean, scale = x)"
   ]
  },
  {
   "cell_type": "markdown",
   "metadata": {},
   "source": [
    "#### 4.5. Sample Mean That's Equally Extreme\n",
    "\n",
    "What is the value of a sample mean that is equally far away from the sampling distribution mean (as the one from 4.2 is), but is greater than the sampling distribution mean)?"
   ]
  },
  {
   "cell_type": "code",
   "execution_count": 15,
   "metadata": {},
   "outputs": [
    {
     "data": {
      "text/plain": [
       "0.4042431347563058"
      ]
     },
     "execution_count": 15,
     "metadata": {},
     "output_type": "execute_result"
    }
   ],
   "source": [
    "mean - df_sample_mean"
   ]
  },
  {
   "cell_type": "code",
   "execution_count": 16,
   "metadata": {},
   "outputs": [
    {
     "data": {
      "text/plain": [
       "5.015686269512611"
      ]
     },
     "execution_count": 16,
     "metadata": {},
     "output_type": "execute_result"
    }
   ],
   "source": [
    "bigmean = mean + 0.4042431347563058\n",
    "bigmean"
   ]
  },
  {
   "cell_type": "markdown",
   "metadata": {},
   "source": [
    "#### 4.6. Probability of Equally Far Away Sample Mean\n",
    "\n",
    "Calculate the probability that a randomly selected sample mean (from this sampling distribution) is greater than or equal to the sample mean that we calculated in 4.5"
   ]
  },
  {
   "cell_type": "code",
   "execution_count": 17,
   "metadata": {},
   "outputs": [
    {
     "data": {
      "text/plain": [
       "0.9585129113725819"
      ]
     },
     "execution_count": 17,
     "metadata": {},
     "output_type": "execute_result"
    }
   ],
   "source": [
    "1 - norm.cdf(df_sample_mean, loc = mean, scale = x)"
   ]
  },
  {
   "cell_type": "markdown",
   "metadata": {},
   "source": [
    "### 5. Sampling Distribution of Sample Means - *Theoretical*\n",
    "\n",
    "#### 5.1. Create an actual sampling distribution\n",
    "\n",
    "Now, using your population of county unemployment rates, create an **actual sampling distribution** of sample mean unemployment rates. We would like our sampling distribution to contain 1000 sample means, each calculated on samples of size 50.\n"
   ]
  },
  {
   "cell_type": "code",
   "execution_count": 18,
   "metadata": {},
   "outputs": [
    {
     "data": {
      "text/html": [
       "<div>\n",
       "<style scoped>\n",
       "    .dataframe tbody tr th:only-of-type {\n",
       "        vertical-align: middle;\n",
       "    }\n",
       "\n",
       "    .dataframe tbody tr th {\n",
       "        vertical-align: top;\n",
       "    }\n",
       "\n",
       "    .dataframe thead th {\n",
       "        text-align: right;\n",
       "    }\n",
       "</style>\n",
       "<table border=\"1\" class=\"dataframe\">\n",
       "  <thead>\n",
       "    <tr style=\"text-align: right;\">\n",
       "      <th></th>\n",
       "      <th>0</th>\n",
       "    </tr>\n",
       "  </thead>\n",
       "  <tbody>\n",
       "    <tr>\n",
       "      <th>0</th>\n",
       "      <td>4.7566</td>\n",
       "    </tr>\n",
       "    <tr>\n",
       "      <th>1</th>\n",
       "      <td>4.7552</td>\n",
       "    </tr>\n",
       "    <tr>\n",
       "      <th>2</th>\n",
       "      <td>4.2640</td>\n",
       "    </tr>\n",
       "    <tr>\n",
       "      <th>3</th>\n",
       "      <td>4.3602</td>\n",
       "    </tr>\n",
       "    <tr>\n",
       "      <th>4</th>\n",
       "      <td>4.7236</td>\n",
       "    </tr>\n",
       "    <tr>\n",
       "      <th>...</th>\n",
       "      <td>...</td>\n",
       "    </tr>\n",
       "    <tr>\n",
       "      <th>995</th>\n",
       "      <td>4.4236</td>\n",
       "    </tr>\n",
       "    <tr>\n",
       "      <th>996</th>\n",
       "      <td>4.5986</td>\n",
       "    </tr>\n",
       "    <tr>\n",
       "      <th>997</th>\n",
       "      <td>4.8320</td>\n",
       "    </tr>\n",
       "    <tr>\n",
       "      <th>998</th>\n",
       "      <td>4.4918</td>\n",
       "    </tr>\n",
       "    <tr>\n",
       "      <th>999</th>\n",
       "      <td>4.2576</td>\n",
       "    </tr>\n",
       "  </tbody>\n",
       "</table>\n",
       "<p>1000 rows × 1 columns</p>\n",
       "</div>"
      ],
      "text/plain": [
       "          0\n",
       "0    4.7566\n",
       "1    4.7552\n",
       "2    4.2640\n",
       "3    4.3602\n",
       "4    4.7236\n",
       "..      ...\n",
       "995  4.4236\n",
       "996  4.5986\n",
       "997  4.8320\n",
       "998  4.4918\n",
       "999  4.2576\n",
       "\n",
       "[1000 rows x 1 columns]"
      ]
     },
     "execution_count": 18,
     "metadata": {},
     "output_type": "execute_result"
    }
   ],
   "source": [
    "def simulation():\n",
    "    tmean = 0\n",
    "    tdf = df2.sample(n = 50, replace = False).reset_index(drop=True)\n",
    "    tmean = tdf['unemployment_rate'].mean()\n",
    "    return tmean\n",
    "\n",
    "data = []\n",
    "for i in range(1000):\n",
    "    data.append(simulation())\n",
    "sample_dist = pd.DataFrame(data)\n",
    "sample_dist"
   ]
  },
  {
   "cell_type": "markdown",
   "metadata": {},
   "source": [
    "#### 5.2. Actual Sampling Distribution Mean and Standard Deviation\n",
    "\n",
    "Calculate the mean and the standard deviation of this *actual* sampling distribution you created in 5.1."
   ]
  },
  {
   "cell_type": "code",
   "execution_count": 19,
   "metadata": {},
   "outputs": [
    {
     "data": {
      "text/plain": [
       "4.619763799999996"
      ]
     },
     "execution_count": 19,
     "metadata": {},
     "output_type": "execute_result"
    }
   ],
   "source": [
    "sdmean = sample_dist[0].mean()\n",
    "sdmean"
   ]
  },
  {
   "cell_type": "code",
   "execution_count": 20,
   "metadata": {},
   "outputs": [
    {
     "data": {
      "text/plain": [
       "0.23394403001303246"
      ]
     },
     "execution_count": 20,
     "metadata": {},
     "output_type": "execute_result"
    }
   ],
   "source": [
    "sdstd = sample_dist[0].std()\n",
    "sdstd"
   ]
  },
  {
   "cell_type": "markdown",
   "metadata": {},
   "source": [
    "#### 5.3.  Comparison\n",
    "\n",
    "How do the mean and standard deviation values from 6.2 compare to the values in 4.1 and 4.2?"
   ]
  },
  {
   "cell_type": "code",
   "execution_count": 21,
   "metadata": {},
   "outputs": [
    {
     "data": {
      "text/plain": [
       "0.008320665243690684"
      ]
     },
     "execution_count": 21,
     "metadata": {},
     "output_type": "execute_result"
    }
   ],
   "source": [
    "sdmean - mean"
   ]
  },
  {
   "cell_type": "code",
   "execution_count": 22,
   "metadata": {},
   "outputs": [
    {
     "data": {
      "text/plain": [
       "0.22577206904163852"
      ]
     },
     "execution_count": 22,
     "metadata": {},
     "output_type": "execute_result"
    }
   ],
   "source": [
    "x - (sdstd/np.sqrt(1000))"
   ]
  },
  {
   "cell_type": "markdown",
   "metadata": {},
   "source": [
    "They are very similar"
   ]
  },
  {
   "cell_type": "markdown",
   "metadata": {},
   "source": [
    "#### 5.4. Actual Sampling Distribution Shape\n",
    "\n",
    "Plot the *actual* sampling distribution that you created in 5.1. Make sure to appropriately label the x-axis, y-axis, and title of this plot."
   ]
  },
  {
   "cell_type": "code",
   "execution_count": 23,
   "metadata": {},
   "outputs": [
    {
     "data": {
      "image/png": "[encoded data removed]",
      "text/plain": [
       "<Figure size 432x288 with 1 Axes>"
      ]
     },
     "metadata": {
      "needs_background": "light"
     },
     "output_type": "display_data"
    }
   ],
   "source": [
    "sample_dist[0].hist()\n",
    "plt.title('Sample Distribution of Frequency of Unemployment Rate')\n",
    "plt.xlabel('Unemployement Rate')\n",
    "plt.ylabel('Frequency')\n",
    "plt.show()"
   ]
  },
  {
   "cell_type": "markdown",
   "metadata": {},
   "source": [
    "#### 5.5. Comparison\n",
    "\n",
    "How does the shape of this ACTUAL sampling distribution that you plotted in 5.4 compare to what you said about the THEORETICAL sampling distribution in 4.3?"
   ]
  },
  {
   "cell_type": "markdown",
   "metadata": {},
   "source": [
    "There is an apparent bell curve in 5.4 compared to 4.3"
   ]
  },
  {
   "cell_type": "markdown",
   "metadata": {},
   "source": [
    "## 6. 92% a Single Confidence Interval for a Population Mean\n",
    "\n",
    "While we technically have the population of all U.S. county unemployment rates (and can therefore *actually* know the population mean), we would still like to calculate a confidence interval for this population mean to learn more about how confidence intervals behave. (By having a population, it allows us to \"check\" our answers to see how well our confidence intervals did. NOTE THAT THIS IS OFTEN NOT THE CASE AND WE WILL NOT BE ABLE TO \"CHECK\" OUR CONFIDENCE INTERVAL.)\n",
    "\n",
    "Remember, that the main purpose of constructing a confidence interval is to give us a plausible range of values for which an UNKNOWN population parameter might be.\n",
    "\n",
    "First, we would like to construct a *single* 92% confidence interval for the average unemployment rate of ALL U.S. counties.\n",
    "\n",
    "### 6.1.   Confidence Interval Conditions\n",
    "\n",
    "First, check the conditions for creating an accurate confidence interval for the average unemployment rate of all U.S. counties."
   ]
  },
  {
   "cell_type": "markdown",
   "metadata": {},
   "source": [
    "Since the central limit theorem are met, we. can find a confidence interval"
   ]
  },
  {
   "cell_type": "markdown",
   "metadata": {},
   "source": [
    "### 6.2. Creating the Confidence Inteval\n",
    "\n",
    "Now, create this 92% confidence interval using the random sample that you collected in 3.1.\n",
    "\n",
    "**ASSUME THAT YOU DO NOT KNOW WHAT THE POPULATION STANDARD DEVIATION UNEMPLOYMENT RATE IS.**"
   ]
  },
  {
   "cell_type": "code",
   "execution_count": 24,
   "metadata": {},
   "outputs": [
    {
     "data": {
      "text/plain": [
       "1.4050715603096329"
      ]
     },
     "execution_count": 24,
     "metadata": {},
     "output_type": "execute_result"
    }
   ],
   "source": [
    "critical_value = norm.ppf(.92)\n",
    "critical_value"
   ]
  },
  {
   "cell_type": "code",
   "execution_count": 25,
   "metadata": {},
   "outputs": [
    {
     "data": {
      "text/plain": [
       "0.2061453895498346"
      ]
     },
     "execution_count": 25,
     "metadata": {},
     "output_type": "execute_result"
    }
   ],
   "source": [
    "standard_error = df_sample_std / np.sqrt(50)\n",
    "standard_error"
   ]
  },
  {
   "cell_type": "code",
   "execution_count": 26,
   "metadata": {},
   "outputs": [
    {
     "data": {
      "text/plain": [
       "4.321794110610882"
      ]
     },
     "execution_count": 26,
     "metadata": {},
     "output_type": "execute_result"
    }
   ],
   "source": [
    "left = mean - (critical_value*standard_error)\n",
    "left"
   ]
  },
  {
   "cell_type": "code",
   "execution_count": 27,
   "metadata": {},
   "outputs": [
    {
     "data": {
      "text/plain": [
       "4.9010921589017284"
      ]
     },
     "execution_count": 27,
     "metadata": {},
     "output_type": "execute_result"
    }
   ],
   "source": [
    "right = mean + (critical_value*standard_error)\n",
    "right"
   ]
  },
  {
   "cell_type": "markdown",
   "metadata": {},
   "source": [
    "### 6.3. Interpret the Confidence Interval\n",
    "\n",
    "Put this confidence interval into words."
   ]
  },
  {
   "cell_type": "markdown",
   "metadata": {},
   "source": [
    "There is a 92% chance that the mean of the unemployment rate lies between 4.321794110610882 and 4.9010921589017284"
   ]
  },
  {
   "cell_type": "markdown",
   "metadata": {},
   "source": [
    "### 6.4 Extra \"Check\" for Learning Purposes\n",
    "\n",
    "Because we *actually* know the mean unemployment rate of all U.S. counties, check whether this population mean falls within this confidence interval you just calculated."
   ]
  },
  {
   "cell_type": "markdown",
   "metadata": {},
   "source": [
    "The population mean of 4.61 falls into the interval"
   ]
  },
  {
   "cell_type": "markdown",
   "metadata": {},
   "source": [
    "### 6.5. What does \"92% confident\" mean?\n",
    "\n",
    "Suppose we were to collect 1000 random samples (all of size $n=50$) from the population of U.S. county unemployment rates. From each of these random samples, we would calculate the corresponding sample mean, and construct a 92% confidence interval around each of these sample means. How many of these 1000 confidence intervals would you expect to actually contain the average unemployment rate of all U.S. counties?"
   ]
  },
  {
   "cell_type": "markdown",
   "metadata": {},
   "source": [
    "I expect 920 of the 1000 samples to have a an average unemployment rate that falls between that interval"
   ]
  },
  {
   "cell_type": "markdown",
   "metadata": {},
   "source": [
    "## 7. Creating Many, Many 92% Confidence Intervals for a Population Mean\n",
    "\n",
    "Next, let's actually construct 1000 92% confidence intervals for the average unemployment rate of ALL U.S. counties.\n",
    "\n",
    "### 7.1.  Create a function that does the following.\n",
    "* <u>Input</u> The input for your function should take in the following values.\n",
    "    - a lower bound of a confidence interval\n",
    "    - an upper bound of a confidence interval\n",
    "    - a population mean $\\mu$\n",
    "* <u>What it does</u>\n",
    "    - Your function should check whether $lower \\: bound\\leq \\mu\\leq upper\\: bound$.\n",
    "    - If this is the case, it should return True\n",
    "    - If this is not the case, then it should return False."
   ]
  },
  {
   "cell_type": "code",
   "execution_count": 28,
   "metadata": {},
   "outputs": [],
   "source": [
    "def cicheck(lower, upper, p_mean):\n",
    "    if (lower <= p_mean <= upper):\n",
    "        return True\n",
    "    else:\n",
    "        return False\n",
    "\n"
   ]
  },
  {
   "cell_type": "markdown",
   "metadata": {},
   "source": [
    "### 7.2. Testing the Function\n",
    "\n",
    "Test your function out using the population mean and the confidence interval from 6.2."
   ]
  },
  {
   "cell_type": "code",
   "execution_count": 29,
   "metadata": {},
   "outputs": [
    {
     "data": {
      "text/plain": [
       "True"
      ]
     },
     "execution_count": 29,
     "metadata": {},
     "output_type": "execute_result"
    }
   ],
   "source": [
    "cicheck(left, right, mean)"
   ]
  },
  {
   "cell_type": "markdown",
   "metadata": {},
   "source": [
    "### 7.3. Creating Many, Many 92% Confidence Intervals\n",
    "\n",
    "Use your function above to do the following:\n",
    "* Collect 1000 random samples (each of size 50 **with** replacement) from the population of all U.S. county unemployment rates.\n",
    "* Calculate the sample mean unemployment rate and sample standard deviation of each of these random samples.\n",
    "* Create a 92% confidence interval around each of these sample means (assume that you don't know the population standard deviation).\n",
    "\n",
    "**What percent of these 1000 confidence intervals *actually* contained the population mean poverty rate?**"
   ]
  },
  {
   "cell_type": "code",
   "execution_count": 30,
   "metadata": {},
   "outputs": [
    {
     "data": {
      "text/html": [
       "<div>\n",
       "<style scoped>\n",
       "    .dataframe tbody tr th:only-of-type {\n",
       "        vertical-align: middle;\n",
       "    }\n",
       "\n",
       "    .dataframe tbody tr th {\n",
       "        vertical-align: top;\n",
       "    }\n",
       "\n",
       "    .dataframe thead th {\n",
       "        text-align: right;\n",
       "    }\n",
       "</style>\n",
       "<table border=\"1\" class=\"dataframe\">\n",
       "  <thead>\n",
       "    <tr style=\"text-align: right;\">\n",
       "      <th></th>\n",
       "      <th>0</th>\n",
       "    </tr>\n",
       "  </thead>\n",
       "  <tbody>\n",
       "    <tr>\n",
       "      <th>0</th>\n",
       "      <td>True</td>\n",
       "    </tr>\n",
       "    <tr>\n",
       "      <th>1</th>\n",
       "      <td>True</td>\n",
       "    </tr>\n",
       "    <tr>\n",
       "      <th>2</th>\n",
       "      <td>True</td>\n",
       "    </tr>\n",
       "    <tr>\n",
       "      <th>3</th>\n",
       "      <td>True</td>\n",
       "    </tr>\n",
       "    <tr>\n",
       "      <th>4</th>\n",
       "      <td>False</td>\n",
       "    </tr>\n",
       "    <tr>\n",
       "      <th>...</th>\n",
       "      <td>...</td>\n",
       "    </tr>\n",
       "    <tr>\n",
       "      <th>995</th>\n",
       "      <td>True</td>\n",
       "    </tr>\n",
       "    <tr>\n",
       "      <th>996</th>\n",
       "      <td>False</td>\n",
       "    </tr>\n",
       "    <tr>\n",
       "      <th>997</th>\n",
       "      <td>True</td>\n",
       "    </tr>\n",
       "    <tr>\n",
       "      <th>998</th>\n",
       "      <td>True</td>\n",
       "    </tr>\n",
       "    <tr>\n",
       "      <th>999</th>\n",
       "      <td>True</td>\n",
       "    </tr>\n",
       "  </tbody>\n",
       "</table>\n",
       "<p>1000 rows × 1 columns</p>\n",
       "</div>"
      ],
      "text/plain": [
       "         0\n",
       "0     True\n",
       "1     True\n",
       "2     True\n",
       "3     True\n",
       "4    False\n",
       "..     ...\n",
       "995   True\n",
       "996  False\n",
       "997   True\n",
       "998   True\n",
       "999   True\n",
       "\n",
       "[1000 rows x 1 columns]"
      ]
     },
     "execution_count": 30,
     "metadata": {},
     "output_type": "execute_result"
    }
   ],
   "source": [
    "final_data = []\n",
    "\n",
    "for i in range(1000):\n",
    "    final_data.append(cicheck(left,right,simulation()))\n",
    "interval_check = pd.DataFrame(final_data)\n",
    "interval_check"
   ]
  },
  {
   "cell_type": "markdown",
   "metadata": {},
   "source": [
    "### 7.4. Comparison\n",
    "\n",
    "How does your percent that you actually calculated compare to what you said you would expect in 6.5?"
   ]
  },
  {
   "cell_type": "code",
   "execution_count": 31,
   "metadata": {},
   "outputs": [
    {
     "data": {
      "text/plain": [
       "0.809"
      ]
     },
     "execution_count": 31,
     "metadata": {},
     "output_type": "execute_result"
    }
   ],
   "source": [
    "len(interval_check[interval_check[0] == True]) / len(interval_check)"
   ]
  },
  {
   "cell_type": "markdown",
   "metadata": {},
   "source": [
    "It was lower than expected"
   ]
  },
  {
   "cell_type": "code",
   "execution_count": null,
   "metadata": {},
   "outputs": [],
   "source": []
  }
 ],
 "metadata": {
  "kernelspec": {
   "display_name": "Python 3 (ipykernel)",
   "language": "python",
   "name": "python3"
  },
  "language_info": {
   "codemirror_mode": {
    "name": "ipython",
    "version": 3
   },
   "file_extension": ".py",
   "mimetype": "text/x-python",
   "name": "python",
   "nbconvert_exporter": "python",
   "pygments_lexer": "ipython3",
   "version": "3.9.12"
  }
 },
 "nbformat": 4,
 "nbformat_minor": 2
}
