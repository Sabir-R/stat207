{
 "cells": [
  {
   "cell_type": "markdown",
   "metadata": {},
   "source": [
    "# STAT 207 Lab 5 - Group Part - [5 total points] - Solutions\n",
    "\n",
    "## Random Variables\n",
    "\n",
    "Due: Tuesday, September 27, 11:59pm CST"
   ]
  },
  {
   "cell_type": "markdown",
   "metadata": {},
   "source": [
    "### <u>Necessary Tutorial</u>: Using a While Loop\n",
    "\n",
    "In this analysis, you will need to use a **while loop**.\n"
   ]
  },
  {
   "cell_type": "code",
   "execution_count": 1,
   "metadata": {},
   "outputs": [
    {
     "data": {
      "text/html": [
       "<div>\n",
       "<style scoped>\n",
       "    .dataframe tbody tr th:only-of-type {\n",
       "        vertical-align: middle;\n",
       "    }\n",
       "\n",
       "    .dataframe tbody tr th {\n",
       "        vertical-align: top;\n",
       "    }\n",
       "\n",
       "    .dataframe thead th {\n",
       "        text-align: right;\n",
       "    }\n",
       "</style>\n",
       "<table border=\"1\" class=\"dataframe\">\n",
       "  <thead>\n",
       "    <tr style=\"text-align: right;\">\n",
       "      <th></th>\n",
       "      <th>person</th>\n",
       "    </tr>\n",
       "  </thead>\n",
       "  <tbody>\n",
       "    <tr>\n",
       "      <th>0</th>\n",
       "      <td>Kim</td>\n",
       "    </tr>\n",
       "    <tr>\n",
       "      <th>1</th>\n",
       "      <td>Kendall</td>\n",
       "    </tr>\n",
       "    <tr>\n",
       "      <th>2</th>\n",
       "      <td>Kylie</td>\n",
       "    </tr>\n",
       "    <tr>\n",
       "      <th>3</th>\n",
       "      <td>Kourtney</td>\n",
       "    </tr>\n",
       "    <tr>\n",
       "      <th>4</th>\n",
       "      <td>Khloe</td>\n",
       "    </tr>\n",
       "  </tbody>\n",
       "</table>\n",
       "</div>"
      ],
      "text/plain": [
       "     person\n",
       "0       Kim\n",
       "1   Kendall\n",
       "2     Kylie\n",
       "3  Kourtney\n",
       "4     Khloe"
      ]
     },
     "execution_count": 1,
     "metadata": {},
     "output_type": "execute_result"
    }
   ],
   "source": [
    "import pandas as pd\n",
    "tmp = pd.DataFrame({'person': ['Kim', 'Kendall', 'Kylie', 'Kourtney', 'Khloe']})\n",
    "tmp"
   ]
  },
  {
   "cell_type": "markdown",
   "metadata": {},
   "source": [
    "We can use a **while** loop (as shown below) to keep iterating through the commands below the start of the **while** until the \"entry condition\" for the while loop is no longer met.\n",
    "\n",
    "We enter into the while loop at the beginning of a code block if the while loop condition is met. If we enter the while loop, we complete the commands inside the while loop statement. \n",
    "\n",
    "Then, when we're done with these commands we **go back to the top of the while loop** and **determine if we should enter the while loop again** (ie. if the while loop condition is met).\n",
    "\n",
    "If the while loop condition is met, you proceed through the while loop conditions again. If not, you skip over the while loop commands and move on to the next line of code below the while loop commands."
   ]
  },
  {
   "cell_type": "code",
   "execution_count": 2,
   "metadata": {},
   "outputs": [
    {
     "name": "stdout",
     "output_type": "stream",
     "text": [
      "Khloe\n",
      "Kendall\n",
      "Kourtney\n",
      "Kylie\n",
      "Kendall\n",
      "Kim\n",
      "While Loop Complete. Kim has been selected.\n"
     ]
    }
   ],
   "source": [
    "selected_person = 'Bob'\n",
    "\n",
    "while selected_person!='Kim':\n",
    "    \n",
    "    #Selects a person from the tmp dataframe\n",
    "    selected_person=tmp.sample().iloc[0,0]\n",
    "    print(selected_person)\n",
    "    \n",
    "print('While Loop Complete. Kim has been selected.')"
   ]
  },
  {
   "cell_type": "markdown",
   "metadata": {},
   "source": [
    "\n",
    "\n",
    "### <u>Case Study</u>: Online Advertising Campaign\n",
    "\n",
    "#### Target Population Identification\n",
    "Suppose that you own an Etsy store and you are interested in advertising your products online. You have already conducted quite a lot of research, identifying a large population of people (along with their corresponding browser ids) that would be *most* likely to buy your product. We call this the **target population**. You decide to only advertise to these people in the target population with online ads. \n",
    "\n",
    "*(If you're interested to learn more about you would do this, STAT430-Unsupervised Learning can be a useful class).*\n",
    "\n",
    "#### Online Advertising Effectiveness\n",
    "From your prior research, you have determined that once a person in the target population has been exposed to an online ad for your product, there is a 20% chance that they will actually buy the product.\n",
    "\n",
    "#### Inventory Decisions\n",
    "Unfortunately, your product can only be made in 'batches' of size 6. So once, you have sold your sixth product, you would need to stop your advertising campaign to make another batch.\n",
    "\n",
    "### <u>Defining a Random Variable</u>\n",
    "To help us learn more about our advertising campaign, let's define a random variable:\n",
    "\n",
    "**X = the number of people in the target population that you have to advertise your product to until 6 of these people have purchased your product.**\n",
    "\n",
    "<hr>\n",
    "\n",
    "### 1. [2.5 pt] <u>Simulation Design</u>\n",
    "Design and execute a simulation that randomly generates a value for this random variable X that we defined above.\n",
    "\n",
    "*Hint: You might find the dataframe created below useful in your simulation. What is the probability of randomly sampling a person from this 'simulated_pop' that has purchased the product? What is the probabilty of randomly sampling a person from this 'simulated_pop' that has not purchased the product?*"
   ]
  },
  {
   "cell_type": "code",
   "execution_count": 3,
   "metadata": {},
   "outputs": [
    {
     "data": {
      "text/html": [
       "<div>\n",
       "<style scoped>\n",
       "    .dataframe tbody tr th:only-of-type {\n",
       "        vertical-align: middle;\n",
       "    }\n",
       "\n",
       "    .dataframe tbody tr th {\n",
       "        vertical-align: top;\n",
       "    }\n",
       "\n",
       "    .dataframe thead th {\n",
       "        text-align: right;\n",
       "    }\n",
       "</style>\n",
       "<table border=\"1\" class=\"dataframe\">\n",
       "  <thead>\n",
       "    <tr style=\"text-align: right;\">\n",
       "      <th></th>\n",
       "      <th>purchased_product</th>\n",
       "    </tr>\n",
       "  </thead>\n",
       "  <tbody>\n",
       "    <tr>\n",
       "      <th>0</th>\n",
       "      <td>yes</td>\n",
       "    </tr>\n",
       "    <tr>\n",
       "      <th>1</th>\n",
       "      <td>no</td>\n",
       "    </tr>\n",
       "    <tr>\n",
       "      <th>2</th>\n",
       "      <td>no</td>\n",
       "    </tr>\n",
       "    <tr>\n",
       "      <th>3</th>\n",
       "      <td>no</td>\n",
       "    </tr>\n",
       "    <tr>\n",
       "      <th>4</th>\n",
       "      <td>no</td>\n",
       "    </tr>\n",
       "  </tbody>\n",
       "</table>\n",
       "</div>"
      ],
      "text/plain": [
       "  purchased_product\n",
       "0               yes\n",
       "1                no\n",
       "2                no\n",
       "3                no\n",
       "4                no"
      ]
     },
     "execution_count": 3,
     "metadata": {},
     "output_type": "execute_result"
    }
   ],
   "source": [
    "import pandas as pd\n",
    "simulated_pop=pd.DataFrame({'purchased_product':['yes','no','no','no','no']})\n",
    "simulated_pop"
   ]
  },
  {
   "cell_type": "code",
   "execution_count": null,
   "metadata": {},
   "outputs": [],
   "source": []
  },
  {
   "cell_type": "code",
   "execution_count": null,
   "metadata": {},
   "outputs": [],
   "source": []
  },
  {
   "cell_type": "code",
   "execution_count": null,
   "metadata": {},
   "outputs": [],
   "source": []
  },
  {
   "cell_type": "markdown",
   "metadata": {},
   "source": [
    "### 2. [2 pt] <u>Multiple Random Variable Values Generation</u>\n",
    "\n",
    "Now, use this simulation that you created above to randomly generate **100** values for the random variable X. Put these 100 random variable values that you generated in a dataframe."
   ]
  },
  {
   "cell_type": "code",
   "execution_count": null,
   "metadata": {},
   "outputs": [],
   "source": []
  },
  {
   "cell_type": "code",
   "execution_count": null,
   "metadata": {},
   "outputs": [],
   "source": []
  },
  {
   "cell_type": "code",
   "execution_count": null,
   "metadata": {},
   "outputs": [],
   "source": []
  },
  {
   "cell_type": "markdown",
   "metadata": {},
   "source": [
    "### 3. [0.5 pt] <u>Average Number of Ads</u> \n",
    "\n",
    "Use these 100 randomly genereated values from #2 to approximate the **average** number of online ads you need to show to your target population in order to sell the six products in your inventory."
   ]
  },
  {
   "cell_type": "code",
   "execution_count": null,
   "metadata": {},
   "outputs": [],
   "source": []
  },
  {
   "cell_type": "markdown",
   "metadata": {},
   "source": [
    "### 4. <u>Contribution Report</u>"
   ]
  },
  {
   "cell_type": "markdown",
   "metadata": {},
   "source": [
    "Sabir Rahman, Rohan Bindu, Vahey Mouradian(turning in the group file), Griffin Rhode, did the work together"
   ]
  },
  {
   "cell_type": "code",
   "execution_count": null,
   "metadata": {},
   "outputs": [],
   "source": []
  }
 ],
 "metadata": {
  "kernelspec": {
   "display_name": "Python 3 (ipykernel)",
   "language": "python",
   "name": "python3"
  },
  "language_info": {
   "codemirror_mode": {
    "name": "ipython",
    "version": 3
   },
   "file_extension": ".py",
   "mimetype": "text/x-python",
   "name": "python",
   "nbconvert_exporter": "python",
   "pygments_lexer": "ipython3",
   "version": "3.9.12"
  }
 },
 "nbformat": 4,
 "nbformat_minor": 2
}
