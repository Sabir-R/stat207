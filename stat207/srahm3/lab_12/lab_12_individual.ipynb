{
 "cells": [
  {
   "cell_type": "markdown",
   "metadata": {},
   "source": [
    "# STAT 207 Lab 12- Individual Part - [25 total points] - Solutions\n",
    "\n",
    "## Logistic Regression"
   ]
  },
  {
   "cell_type": "markdown",
   "metadata": {},
   "source": [
    "Due: Wednesday, November 29 11:59pm CST\n",
    "\n",
    "## <u>Case Study</u>: Predicting Airbnb Superhost Status\n",
    "\n",
    "Suppose that you have a spare room in your house (in Seattle) and you are considering advertising this room to guests on Airbnb. Airbnb superhosts are considered to be experienced hosts who provide a shining example for other hosts, and extraordinary experiences for their guests. Once a host reaches Superhost status, a superhost badge will automatically appear on their listing and profile to help guests identify them. You would like to assess your chances of being named a superhost with your property.\n",
    "\n",
    "The following dataset is a sample (assume random) of available Airbnb listings in Seattle, WA. These listings were collected in January 2016, and filtered to just contain listings from the five most popular Seattlbe neighborhoods (for Airbnb listings) and just contain listings that are either in a house or apartment property.\n",
    "\n",
    "This dataset contains the following variables.\n",
    "\n",
    "**Listing Information**\n",
    "The dataset contains the following information about the Airbnb *listing*:\n",
    "* <u>price</u>: price of the listing (per night)(in US dollars)\n",
    "* <u>review_scores_rating</u>: the average rating of the listing [0,100] (100 is the best)\n",
    "* <u>number_of_reviews</u>: the number of reviews for the listing\n",
    "* <u>security_deposit</u>: the security deposit required for the listing (in US dollars)\n",
    "* <u>cleaning_fee</u>: the cleaning fee required for the listing (in US dollars)\n",
    "* <u>neighborhood</u>: the neighborhood of Seattle the listing is located in\n",
    "* <u>property_type</u>: is the listing in a 'House' or 'Apartment'\n",
    "* <u>room_type</u>: is the listing a 'Entire home/apt', 'Private room', or 'Shared room'\n",
    "* <u>accommodates</u>: how many guests will the listing accommodate\n",
    "* <u>bathrooms</u>:how many bathrooms does the listing have\n",
    "* <u>beds</u>: how many beds does the listing have\n",
    "\n",
    "**Host Information**\n",
    "The dataset also contains the following information about the *host* of the given Airbnb listing:\n",
    "* <u>host_is_superhost</u>: is the host a \"superhost\": t=True, f=False\n",
    "* <u>host_has_profile_pic</u>: does the host have a profile pic in their bio: t=True, f=False\n",
    "* <u>host_response_time</u>: how fast will the host respond to requests (on average)\n",
    "* <u>host_acceptance_rate</u>: what percent of booking requests will the host accept\n",
    "\n",
    "\n",
    "<p>&nbsp;</p>\n",
    "<table style=\"border: none;border-collapse: collapse;width:102pt;\">\n",
    "    <tbody>\n",
    "        <tr>\n",
    "            <td style=\"color:black;font-size:15px;font-weight:700;font-style:normal;text-decoration:none;font-family:Calibri, sans-serif;text-align:right;vertical-align:bottom;border:.5pt solid windowtext;height:14.25pt;width:51pt;\">Problem</td>\n",
    "            <td style=\"color:black;font-size:15px;font-weight:700;font-style:normal;text-decoration:none;font-family:Calibri, sans-serif;text-align:right;vertical-align:bottom;border:.5pt solid windowtext;border-left:none;width:51pt;\">Points</td>\n",
    "        </tr>\n",
    "        <tr>\n",
    "            <td style=\"color:black;font-size:15px;font-weight:400;font-style:normal;text-decoration:none;font-family:Calibri, sans-serif;text-align:right;vertical-align:bottom;border:.5pt solid windowtext;height:14.25pt;border-top:none;\">1</td>\n",
    "            <td style=\"color:black;font-size:15px;font-weight:400;font-style:normal;text-decoration:none;font-family:Calibri, sans-serif;text-align:right;vertical-align:bottom;border:.5pt solid windowtext;border-top:none;border-left:none;\">0.25</td>\n",
    "        </tr>\n",
    "        <tr>\n",
    "            <td style=\"color:black;font-size:15px;font-weight:400;font-style:normal;text-decoration:none;font-family:Calibri, sans-serif;text-align:right;vertical-align:bottom;border:.5pt solid windowtext;height:14.25pt;border-top:none;\">2.1.1</td>\n",
    "            <td style=\"color:black;font-size:15px;font-weight:400;font-style:normal;text-decoration:none;font-family:Calibri, sans-serif;text-align:right;vertical-align:bottom;border:.5pt solid windowtext;border-top:none;border-left:none;\">0.5</td>\n",
    "        </tr>\n",
    "        <tr>\n",
    "            <td style=\"color:black;font-size:15px;font-weight:400;font-style:normal;text-decoration:none;font-family:Calibri, sans-serif;text-align:right;vertical-align:bottom;border:.5pt solid windowtext;height:14.25pt;border-top:none;\">2.1.2</td>\n",
    "            <td style=\"color:black;font-size:15px;font-weight:400;font-style:normal;text-decoration:none;font-family:Calibri, sans-serif;text-align:right;vertical-align:bottom;border:.5pt solid windowtext;border-top:none;border-left:none;\">0.5</td>\n",
    "        </tr>\n",
    "        <tr>\n",
    "            <td style=\"color:black;font-size:15px;font-weight:400;font-style:normal;text-decoration:none;font-family:Calibri, sans-serif;text-align:right;vertical-align:bottom;border:.5pt solid windowtext;height:14.25pt;border-top:none;\">2.1.3</td>\n",
    "            <td style=\"color:black;font-size:15px;font-weight:400;font-style:normal;text-decoration:none;font-family:Calibri, sans-serif;text-align:right;vertical-align:bottom;border:.5pt solid windowtext;border-top:none;border-left:none;\">0.5</td>\n",
    "        </tr>\n",
    "        <tr>\n",
    "            <td style=\"color:black;font-size:15px;font-weight:400;font-style:normal;text-decoration:none;font-family:Calibri, sans-serif;text-align:right;vertical-align:bottom;border:.5pt solid windowtext;height:14.25pt;border-top:none;\">2.2.1</td>\n",
    "            <td style=\"color:black;font-size:15px;font-weight:400;font-style:normal;text-decoration:none;font-family:Calibri, sans-serif;text-align:right;vertical-align:bottom;border:.5pt solid windowtext;border-top:none;border-left:none;\">0.5</td>\n",
    "        </tr>\n",
    "        <tr>\n",
    "            <td style=\"color:black;font-size:15px;font-weight:400;font-style:normal;text-decoration:none;font-family:Calibri, sans-serif;text-align:right;vertical-align:bottom;border:.5pt solid windowtext;height:14.25pt;border-top:none;\">2.2.2</td>\n",
    "            <td style=\"color:black;font-size:15px;font-weight:400;font-style:normal;text-decoration:none;font-family:Calibri, sans-serif;text-align:right;vertical-align:bottom;border:.5pt solid windowtext;border-top:none;border-left:none;\">0.5</td>\n",
    "        </tr>\n",
    "        <tr>\n",
    "            <td style=\"color:black;font-size:15px;font-weight:400;font-style:normal;text-decoration:none;font-family:Calibri, sans-serif;text-align:right;vertical-align:bottom;border:.5pt solid windowtext;height:14.25pt;border-top:none;\">2.2.3</td>\n",
    "            <td style=\"color:black;font-size:15px;font-weight:400;font-style:normal;text-decoration:none;font-family:Calibri, sans-serif;text-align:right;vertical-align:bottom;border:.5pt solid windowtext;border-top:none;border-left:none;\">1</td>\n",
    "        </tr>\n",
    "        <tr>\n",
    "            <td style=\"color:black;font-size:15px;font-weight:400;font-style:normal;text-decoration:none;font-family:Calibri, sans-serif;text-align:right;vertical-align:bottom;border:.5pt solid windowtext;height:14.25pt;border-top:none;\">2.2.4</td>\n",
    "            <td style=\"color:black;font-size:15px;font-weight:400;font-style:normal;text-decoration:none;font-family:Calibri, sans-serif;text-align:right;vertical-align:bottom;border:.5pt solid windowtext;border-top:none;border-left:none;\">1</td>\n",
    "        </tr>\n",
    "        <tr>\n",
    "            <td style=\"color:black;font-size:15px;font-weight:400;font-style:normal;text-decoration:none;font-family:Calibri, sans-serif;text-align:right;vertical-align:bottom;border:.5pt solid windowtext;height:14.25pt;border-top:none;\">3.1</td>\n",
    "            <td style=\"color:black;font-size:15px;font-weight:400;font-style:normal;text-decoration:none;font-family:Calibri, sans-serif;text-align:right;vertical-align:bottom;border:.5pt solid windowtext;border-top:none;border-left:none;\">0.75</td>\n",
    "        </tr>\n",
    "        <tr>\n",
    "            <td style=\"color:black;font-size:15px;font-weight:400;font-style:normal;text-decoration:none;font-family:Calibri, sans-serif;text-align:right;vertical-align:bottom;border:.5pt solid windowtext;height:14.25pt;border-top:none;\">3.2</td>\n",
    "            <td style=\"color:black;font-size:15px;font-weight:400;font-style:normal;text-decoration:none;font-family:Calibri, sans-serif;text-align:right;vertical-align:bottom;border:.5pt solid windowtext;border-top:none;border-left:none;\">0.75</td>\n",
    "        </tr>\n",
    "        <tr>\n",
    "            <td style=\"color:black;font-size:15px;font-weight:400;font-style:normal;text-decoration:none;font-family:Calibri, sans-serif;text-align:right;vertical-align:bottom;border:.5pt solid windowtext;height:14.25pt;border-top:none;\">3.3</td>\n",
    "            <td style=\"color:black;font-size:15px;font-weight:400;font-style:normal;text-decoration:none;font-family:Calibri, sans-serif;text-align:right;vertical-align:bottom;border:.5pt solid windowtext;border-top:none;border-left:none;\">0.5</td>\n",
    "        </tr>\n",
    "        <tr>\n",
    "            <td style=\"color:black;font-size:15px;font-weight:400;font-style:normal;text-decoration:none;font-family:Calibri, sans-serif;text-align:right;vertical-align:bottom;border:.5pt solid windowtext;height:14.25pt;border-top:none;\">3.4</td>\n",
    "            <td style=\"color:black;font-size:15px;font-weight:400;font-style:normal;text-decoration:none;font-family:Calibri, sans-serif;text-align:right;vertical-align:bottom;border:.5pt solid windowtext;border-top:none;border-left:none;\">0.5</td>\n",
    "        </tr>\n",
    "        <tr>\n",
    "            <td style=\"color:black;font-size:15px;font-weight:400;font-style:normal;text-decoration:none;font-family:Calibri, sans-serif;text-align:right;vertical-align:bottom;border:.5pt solid windowtext;height:14.25pt;border-top:none;\">3.5</td>\n",
    "            <td style=\"color:black;font-size:15px;font-weight:400;font-style:normal;text-decoration:none;font-family:Calibri, sans-serif;text-align:right;vertical-align:bottom;border:.5pt solid windowtext;border-top:none;border-left:none;\">0.5</td>\n",
    "        </tr>\n",
    "        <tr>\n",
    "            <td style=\"color:black;font-size:15px;font-weight:400;font-style:normal;text-decoration:none;font-family:Calibri, sans-serif;text-align:right;vertical-align:bottom;border:.5pt solid windowtext;height:14.25pt;border-top:none;\">3.6</td>\n",
    "            <td style=\"color:black;font-size:15px;font-weight:400;font-style:normal;text-decoration:none;font-family:Calibri, sans-serif;text-align:right;vertical-align:bottom;border:.5pt solid windowtext;border-top:none;border-left:none;\">0.5</td>\n",
    "        </tr>\n",
    "        <tr>\n",
    "            <td style=\"color:black;font-size:15px;font-weight:400;font-style:normal;text-decoration:none;font-family:Calibri, sans-serif;text-align:right;vertical-align:bottom;border:.5pt solid windowtext;height:14.25pt;border-top:none;\">4.1</td>\n",
    "            <td style=\"color:black;font-size:15px;font-weight:400;font-style:normal;text-decoration:none;font-family:Calibri, sans-serif;text-align:right;vertical-align:bottom;border:.5pt solid windowtext;border-top:none;border-left:none;\">1.5</td>\n",
    "        </tr>\n",
    "        <tr>\n",
    "            <td style=\"color:black;font-size:15px;font-weight:400;font-style:normal;text-decoration:none;font-family:Calibri, sans-serif;text-align:right;vertical-align:bottom;border:.5pt solid windowtext;height:14.25pt;border-top:none;\">4.2.1</td>\n",
    "            <td style=\"color:black;font-size:15px;font-weight:400;font-style:normal;text-decoration:none;font-family:Calibri, sans-serif;text-align:right;vertical-align:bottom;border:.5pt solid windowtext;border-top:none;border-left:none;\">1.5</td>\n",
    "        </tr>\n",
    "        <tr>\n",
    "            <td style=\"color:black;font-size:15px;font-weight:400;font-style:normal;text-decoration:none;font-family:Calibri, sans-serif;text-align:right;vertical-align:bottom;border:.5pt solid windowtext;height:14.25pt;border-top:none;\">4.2.2</td>\n",
    "            <td style=\"color:black;font-size:15px;font-weight:400;font-style:normal;text-decoration:none;font-family:Calibri, sans-serif;text-align:right;vertical-align:bottom;border:.5pt solid windowtext;border-top:none;border-left:none;\">0.5</td>\n",
    "        </tr>\n",
    "        <tr>\n",
    "            <td style=\"color:black;font-size:15px;font-weight:400;font-style:normal;text-decoration:none;font-family:Calibri, sans-serif;text-align:right;vertical-align:bottom;border:.5pt solid windowtext;height:14.25pt;border-top:none;\">4.2.3</td>\n",
    "            <td style=\"color:black;font-size:15px;font-weight:400;font-style:normal;text-decoration:none;font-family:Calibri, sans-serif;text-align:right;vertical-align:bottom;border:.5pt solid windowtext;border-top:none;border-left:none;\">0.75</td>\n",
    "        </tr>\n",
    "        <tr>\n",
    "            <td style=\"color:black;font-size:15px;font-weight:400;font-style:normal;text-decoration:none;font-family:Calibri, sans-serif;text-align:right;vertical-align:bottom;border:.5pt solid windowtext;height:14.25pt;border-top:none;\">4.2.4</td>\n",
    "            <td style=\"color:black;font-size:15px;font-weight:400;font-style:normal;text-decoration:none;font-family:Calibri, sans-serif;text-align:right;vertical-align:bottom;border:.5pt solid windowtext;border-top:none;border-left:none;\">0.5</td>\n",
    "        </tr>\n",
    "        <tr>\n",
    "            <td style=\"color:black;font-size:15px;font-weight:400;font-style:normal;text-decoration:none;font-family:Calibri, sans-serif;text-align:right;vertical-align:bottom;border:.5pt solid windowtext;height:14.25pt;border-top:none;\">4.3.1</td>\n",
    "            <td style=\"color:black;font-size:15px;font-weight:400;font-style:normal;text-decoration:none;font-family:Calibri, sans-serif;text-align:right;vertical-align:bottom;border:.5pt solid windowtext;border-top:none;border-left:none;\">0.5</td>\n",
    "        </tr>\n",
    "        <tr>\n",
    "            <td style=\"color:black;font-size:15px;font-weight:400;font-style:normal;text-decoration:none;font-family:Calibri, sans-serif;text-align:right;vertical-align:bottom;border:.5pt solid windowtext;height:14.25pt;border-top:none;\">4.3.2</td>\n",
    "            <td style=\"color:black;font-size:15px;font-weight:400;font-style:normal;text-decoration:none;font-family:Calibri, sans-serif;text-align:right;vertical-align:bottom;border:.5pt solid windowtext;border-top:none;border-left:none;\">1.5</td>\n",
    "        </tr>\n",
    "        <tr>\n",
    "            <td style=\"color:black;font-size:15px;font-weight:400;font-style:normal;text-decoration:none;font-family:Calibri, sans-serif;text-align:right;vertical-align:bottom;border:.5pt solid windowtext;height:14.25pt;border-top:none;\">4.3.3</td>\n",
    "            <td style=\"color:black;font-size:15px;font-weight:400;font-style:normal;text-decoration:none;font-family:Calibri, sans-serif;text-align:right;vertical-align:bottom;border:.5pt solid windowtext;border-top:none;border-left:none;\">1.5</td>\n",
    "        </tr>\n",
    "        <tr>\n",
    "            <td style=\"color:black;font-size:15px;font-weight:400;font-style:normal;text-decoration:none;font-family:Calibri, sans-serif;text-align:right;vertical-align:bottom;border:.5pt solid windowtext;height:14.25pt;border-top:none;\">4.3.4</td>\n",
    "            <td style=\"color:black;font-size:15px;font-weight:400;font-style:normal;text-decoration:none;font-family:Calibri, sans-serif;text-align:right;vertical-align:bottom;border:.5pt solid windowtext;border-top:none;border-left:none;\">0.5</td>\n",
    "        </tr>\n",
    "        <tr>\n",
    "            <td style=\"color:black;font-size:15px;font-weight:400;font-style:normal;text-decoration:none;font-family:Calibri, sans-serif;text-align:right;vertical-align:bottom;border:.5pt solid windowtext;height:14.25pt;border-top:none;\">4.3.5</td>\n",
    "            <td style=\"color:black;font-size:15px;font-weight:400;font-style:normal;text-decoration:none;font-family:Calibri, sans-serif;text-align:right;vertical-align:bottom;border:.5pt solid windowtext;border-top:none;border-left:none;\">0.5</td>\n",
    "        </tr>\n",
    "        <tr>\n",
    "            <td style=\"color:black;font-size:15px;font-weight:400;font-style:normal;text-decoration:none;font-family:Calibri, sans-serif;text-align:right;vertical-align:bottom;border:.5pt solid windowtext;height:14.25pt;border-top:none;\">4.4.1</td>\n",
    "            <td style=\"color:black;font-size:15px;font-weight:400;font-style:normal;text-decoration:none;font-family:Calibri, sans-serif;text-align:right;vertical-align:bottom;border:.5pt solid windowtext;border-top:none;border-left:none;\">0.5</td>\n",
    "        </tr>\n",
    "        <tr>\n",
    "            <td style=\"color:black;font-size:15px;font-weight:400;font-style:normal;text-decoration:none;font-family:Calibri, sans-serif;text-align:right;vertical-align:bottom;border:.5pt solid windowtext;height:14.25pt;border-top:none;\">4.4.2</td>\n",
    "            <td style=\"color:black;font-size:15px;font-weight:400;font-style:normal;text-decoration:none;font-family:Calibri, sans-serif;text-align:right;vertical-align:bottom;border:.5pt solid windowtext;border-top:none;border-left:none;\">0.5</td>\n",
    "        </tr>\n",
    "        <tr>\n",
    "            <td style=\"color:black;font-size:15px;font-weight:400;font-style:normal;text-decoration:none;font-family:Calibri, sans-serif;text-align:right;vertical-align:bottom;border:.5pt solid windowtext;height:14.25pt;border-top:none;\">4.4.3</td>\n",
    "            <td style=\"color:black;font-size:15px;font-weight:400;font-style:normal;text-decoration:none;font-family:Calibri, sans-serif;text-align:right;vertical-align:bottom;border:.5pt solid windowtext;border-top:none;border-left:none;\">0.5</td>\n",
    "        </tr>\n",
    "        <tr>\n",
    "            <td style=\"color:black;font-size:15px;font-weight:400;font-style:normal;text-decoration:none;font-family:Calibri, sans-serif;text-align:right;vertical-align:bottom;border:.5pt solid windowtext;height:14.25pt;border-top:none;\">4.5</td>\n",
    "            <td style=\"color:black;font-size:15px;font-weight:400;font-style:normal;text-decoration:none;font-family:Calibri, sans-serif;text-align:right;vertical-align:bottom;border:.5pt solid windowtext;border-top:none;border-left:none;\">0.5</td>\n",
    "        </tr>\n",
    "        <tr>\n",
    "            <td style=\"color:black;font-size:15px;font-weight:400;font-style:normal;text-decoration:none;font-family:Calibri, sans-serif;text-align:right;vertical-align:bottom;border:.5pt solid windowtext;height:14.25pt;border-top:none;\">5.1</td>\n",
    "            <td style=\"color:black;font-size:15px;font-weight:400;font-style:normal;text-decoration:none;font-family:Calibri, sans-serif;text-align:right;vertical-align:bottom;border:.5pt solid windowtext;border-top:none;border-left:none;\">0.75</td>\n",
    "        </tr>\n",
    "        <tr>\n",
    "            <td style=\"color:black;font-size:15px;font-weight:400;font-style:normal;text-decoration:none;font-family:Calibri, sans-serif;text-align:right;vertical-align:bottom;border:.5pt solid windowtext;height:14.25pt;border-top:none;\">5.2</td>\n",
    "            <td style=\"color:black;font-size:15px;font-weight:400;font-style:normal;text-decoration:none;font-family:Calibri, sans-serif;text-align:right;vertical-align:bottom;border:.5pt solid windowtext;border-top:none;border-left:none;\">0.75</td>\n",
    "        </tr>\n",
    "        <tr>\n",
    "            <td style=\"color:black;font-size:15px;font-weight:400;font-style:normal;text-decoration:none;font-family:Calibri, sans-serif;text-align:right;vertical-align:bottom;border:.5pt solid windowtext;height:14.25pt;border-top:none;\">5.3</td>\n",
    "            <td style=\"color:black;font-size:15px;font-weight:400;font-style:normal;text-decoration:none;font-family:Calibri, sans-serif;text-align:right;vertical-align:bottom;border:.5pt solid windowtext;border-top:none;border-left:none;\">0.75</td>\n",
    "        </tr>\n",
    "        <tr>\n",
    "            <td style=\"color:black;font-size:15px;font-weight:400;font-style:normal;text-decoration:none;font-family:Calibri, sans-serif;text-align:right;vertical-align:bottom;border:.5pt solid windowtext;height:14.25pt;border-top:none;\">6.1</td>\n",
    "            <td style=\"color:black;font-size:15px;font-weight:400;font-style:normal;text-decoration:none;font-family:Calibri, sans-serif;text-align:right;vertical-align:bottom;border:.5pt solid windowtext;border-top:none;border-left:none;\">0.75</td>\n",
    "        </tr>\n",
    "        <tr>\n",
    "            <td style=\"color:black;font-size:15px;font-weight:400;font-style:normal;text-decoration:none;font-family:Calibri, sans-serif;text-align:right;vertical-align:bottom;border:.5pt solid windowtext;height:14.25pt;border-top:none;\">6.2</td>\n",
    "            <td style=\"color:black;font-size:15px;font-weight:400;font-style:normal;text-decoration:none;font-family:Calibri, sans-serif;text-align:right;vertical-align:bottom;border:.5pt solid windowtext;border-top:none;border-left:none;\">0.5</td>\n",
    "        </tr>\n",
    "        <tr>\n",
    "            <td style=\"color:black;font-size:15px;font-weight:400;font-style:normal;text-decoration:none;font-family:Calibri, sans-serif;text-align:right;vertical-align:bottom;border:.5pt solid windowtext;height:14.25pt;border-top:none;\">6.3</td>\n",
    "            <td style=\"color:black;font-size:15px;font-weight:400;font-style:normal;text-decoration:none;font-family:Calibri, sans-serif;text-align:right;vertical-align:bottom;border:.5pt solid windowtext;border-top:none;border-left:none;\">0.75</td>\n",
    "        </tr>\n",
    "        <tr>\n",
    "            <td style=\"color:black;font-size:15px;font-weight:400;font-style:normal;text-decoration:none;font-family:Calibri, sans-serif;text-align:right;vertical-align:bottom;border:.5pt solid windowtext;height:14.25pt;border-top:none;\">6.4</td>\n",
    "            <td style=\"color:black;font-size:15px;font-weight:400;font-style:normal;text-decoration:none;font-family:Calibri, sans-serif;text-align:right;vertical-align:bottom;border:.5pt solid windowtext;border-top:none;border-left:none;\">0.75</td>\n",
    "        </tr>\n",
    "        <tr>\n",
    "            <td style=\"color:black;font-size:15px;font-weight:400;font-style:normal;text-decoration:none;font-family:Calibri, sans-serif;text-align:right;vertical-align:bottom;border:.5pt solid windowtext;height:14.25pt;border-top:none;\">6.5</td>\n",
    "            <td style=\"color:black;font-size:15px;font-weight:400;font-style:normal;text-decoration:none;font-family:Calibri, sans-serif;text-align:right;vertical-align:bottom;border:.5pt solid windowtext;border-top:none;border-left:none;\">0.5</td>\n",
    "        </tr>\n",
    "    </tbody>\n",
    "</table>\n",
    "\n"
   ]
  },
  {
   "cell_type": "markdown",
   "metadata": {},
   "source": [
    "### Imports"
   ]
  },
  {
   "cell_type": "code",
   "execution_count": 1,
   "metadata": {},
   "outputs": [],
   "source": [
    "import pandas as pd\n",
    "import seaborn as sns\n",
    "import statsmodels.formula.api as smf\n",
    "import numpy as np\n",
    "import matplotlib.pyplot as plt\n",
    "from scipy.stats import t, norm, f"
   ]
  },
  {
   "cell_type": "markdown",
   "metadata": {},
   "source": [
    "## 1. Data Processing and Cleaning\n",
    "\n",
    "First, read the seattle_airbnb_listings_cleaned.csv file into a dataframe. This csv file does not contain any missing values."
   ]
  },
  {
   "cell_type": "code",
   "execution_count": 3,
   "metadata": {
    "scrolled": true
   },
   "outputs": [],
   "source": [
    "df = pd.read_csv('seattle_airbnb_listings_cleaned.csv')"
   ]
  },
  {
   "cell_type": "code",
   "execution_count": 4,
   "metadata": {},
   "outputs": [
    {
     "data": {
      "text/html": [
       "<div>\n",
       "<style scoped>\n",
       "    .dataframe tbody tr th:only-of-type {\n",
       "        vertical-align: middle;\n",
       "    }\n",
       "\n",
       "    .dataframe tbody tr th {\n",
       "        vertical-align: top;\n",
       "    }\n",
       "\n",
       "    .dataframe thead th {\n",
       "        text-align: right;\n",
       "    }\n",
       "</style>\n",
       "<table border=\"1\" class=\"dataframe\">\n",
       "  <thead>\n",
       "    <tr style=\"text-align: right;\">\n",
       "      <th></th>\n",
       "      <th>price</th>\n",
       "      <th>review_scores_rating</th>\n",
       "      <th>number_of_reviews</th>\n",
       "      <th>security_deposit</th>\n",
       "      <th>cleaning_fee</th>\n",
       "      <th>neighborhood</th>\n",
       "      <th>property_type</th>\n",
       "      <th>room_type</th>\n",
       "      <th>accommodates</th>\n",
       "      <th>bathrooms</th>\n",
       "      <th>beds</th>\n",
       "      <th>host_response_time</th>\n",
       "      <th>host_response_rate</th>\n",
       "      <th>host_acceptance_rate</th>\n",
       "      <th>host_is_superhost</th>\n",
       "      <th>host_has_profile_pic</th>\n",
       "      <th>host_identity_verified</th>\n",
       "    </tr>\n",
       "  </thead>\n",
       "  <tbody>\n",
       "    <tr>\n",
       "      <th>0</th>\n",
       "      <td>300</td>\n",
       "      <td>100</td>\n",
       "      <td>24</td>\n",
       "      <td>500</td>\n",
       "      <td>95</td>\n",
       "      <td>Wallingford</td>\n",
       "      <td>House</td>\n",
       "      <td>Entire home/apt</td>\n",
       "      <td>5</td>\n",
       "      <td>1.5</td>\n",
       "      <td>3</td>\n",
       "      <td>within a few hours</td>\n",
       "      <td>1.0</td>\n",
       "      <td>1</td>\n",
       "      <td>t</td>\n",
       "      <td>t</td>\n",
       "      <td>t</td>\n",
       "    </tr>\n",
       "    <tr>\n",
       "      <th>1</th>\n",
       "      <td>149</td>\n",
       "      <td>96</td>\n",
       "      <td>11</td>\n",
       "      <td>300</td>\n",
       "      <td>105</td>\n",
       "      <td>Wallingford</td>\n",
       "      <td>Apartment</td>\n",
       "      <td>Entire home/apt</td>\n",
       "      <td>6</td>\n",
       "      <td>1.0</td>\n",
       "      <td>3</td>\n",
       "      <td>within an hour</td>\n",
       "      <td>1.0</td>\n",
       "      <td>1</td>\n",
       "      <td>f</td>\n",
       "      <td>t</td>\n",
       "      <td>t</td>\n",
       "    </tr>\n",
       "    <tr>\n",
       "      <th>2</th>\n",
       "      <td>95</td>\n",
       "      <td>95</td>\n",
       "      <td>79</td>\n",
       "      <td>150</td>\n",
       "      <td>40</td>\n",
       "      <td>Wallingford</td>\n",
       "      <td>Apartment</td>\n",
       "      <td>Entire home/apt</td>\n",
       "      <td>3</td>\n",
       "      <td>1.0</td>\n",
       "      <td>2</td>\n",
       "      <td>within an hour</td>\n",
       "      <td>1.0</td>\n",
       "      <td>1</td>\n",
       "      <td>f</td>\n",
       "      <td>t</td>\n",
       "      <td>t</td>\n",
       "    </tr>\n",
       "    <tr>\n",
       "      <th>3</th>\n",
       "      <td>105</td>\n",
       "      <td>100</td>\n",
       "      <td>13</td>\n",
       "      <td>500</td>\n",
       "      <td>50</td>\n",
       "      <td>Wallingford</td>\n",
       "      <td>House</td>\n",
       "      <td>Private room</td>\n",
       "      <td>2</td>\n",
       "      <td>2.0</td>\n",
       "      <td>1</td>\n",
       "      <td>within a few hours</td>\n",
       "      <td>1.0</td>\n",
       "      <td>1</td>\n",
       "      <td>t</td>\n",
       "      <td>t</td>\n",
       "      <td>t</td>\n",
       "    </tr>\n",
       "    <tr>\n",
       "      <th>4</th>\n",
       "      <td>140</td>\n",
       "      <td>99</td>\n",
       "      <td>30</td>\n",
       "      <td>250</td>\n",
       "      <td>65</td>\n",
       "      <td>Wallingford</td>\n",
       "      <td>House</td>\n",
       "      <td>Entire home/apt</td>\n",
       "      <td>2</td>\n",
       "      <td>1.0</td>\n",
       "      <td>1</td>\n",
       "      <td>within an hour</td>\n",
       "      <td>1.0</td>\n",
       "      <td>1</td>\n",
       "      <td>t</td>\n",
       "      <td>t</td>\n",
       "      <td>t</td>\n",
       "    </tr>\n",
       "  </tbody>\n",
       "</table>\n",
       "</div>"
      ],
      "text/plain": [
       "   price  review_scores_rating  number_of_reviews  security_deposit  \\\n",
       "0    300                   100                 24               500   \n",
       "1    149                    96                 11               300   \n",
       "2     95                    95                 79               150   \n",
       "3    105                   100                 13               500   \n",
       "4    140                    99                 30               250   \n",
       "\n",
       "   cleaning_fee neighborhood property_type        room_type  accommodates  \\\n",
       "0            95  Wallingford         House  Entire home/apt             5   \n",
       "1           105  Wallingford     Apartment  Entire home/apt             6   \n",
       "2            40  Wallingford     Apartment  Entire home/apt             3   \n",
       "3            50  Wallingford         House     Private room             2   \n",
       "4            65  Wallingford         House  Entire home/apt             2   \n",
       "\n",
       "   bathrooms  beds  host_response_time  host_response_rate  \\\n",
       "0        1.5     3  within a few hours                 1.0   \n",
       "1        1.0     3      within an hour                 1.0   \n",
       "2        1.0     2      within an hour                 1.0   \n",
       "3        2.0     1  within a few hours                 1.0   \n",
       "4        1.0     1      within an hour                 1.0   \n",
       "\n",
       "   host_acceptance_rate host_is_superhost host_has_profile_pic  \\\n",
       "0                     1                 t                    t   \n",
       "1                     1                 f                    t   \n",
       "2                     1                 f                    t   \n",
       "3                     1                 t                    t   \n",
       "4                     1                 t                    t   \n",
       "\n",
       "  host_identity_verified  \n",
       "0                      t  \n",
       "1                      t  \n",
       "2                      t  \n",
       "3                      t  \n",
       "4                      t  "
      ]
     },
     "execution_count": 4,
     "metadata": {},
     "output_type": "execute_result"
    }
   ],
   "source": [
    "df.head()"
   ]
  },
  {
   "cell_type": "markdown",
   "metadata": {},
   "source": [
    "## 2. Associations with Super Host Status\n",
    "\n",
    "In this analysis we will be building several logistic regression models. Each of these logistic regression models will predict the likelihood that a Seattle Airbnb host is a superhost.\n",
    "\n",
    "To get a sense as to what explanatory variables to use in this model let's analyze the relationships between the **host_is_superhost** categorical variable and some of the other variables in the dataset.\n",
    "\n",
    "### 2.1. Side-by-side boxplots\n",
    "\n",
    "#### 2.1.1. Super Host Status and Price\n",
    "\n",
    "Use a side-by-side boxplots visualization to visualize the relationship between a host's listing price and their superhost status."
   ]
  },
  {
   "cell_type": "code",
   "execution_count": 5,
   "metadata": {},
   "outputs": [
    {
     "data": {
      "image/png": "[encoded data removed]",
      "text/plain": [
       "<Figure size 432x288 with 1 Axes>"
      ]
     },
     "metadata": {
      "needs_background": "light"
     },
     "output_type": "display_data"
    }
   ],
   "source": [
    "sns.boxplot(data = df, y = \"price\", x = \"host_is_superhost\")\n",
    "plt.show()"
   ]
  },
  {
   "cell_type": "markdown",
   "metadata": {},
   "source": [
    "#### 2.1.2. Super Host Status and Review Score's Rating\n",
    "\n",
    "Use a side-by-side boxplots visualization to visualize the relationship between a host's review score rating and their superhost status."
   ]
  },
  {
   "cell_type": "code",
   "execution_count": 6,
   "metadata": {},
   "outputs": [
    {
     "data": {
      "image/png": "[encoded data removed]",
      "text/plain": [
       "<Figure size 432x288 with 1 Axes>"
      ]
     },
     "metadata": {
      "needs_background": "light"
     },
     "output_type": "display_data"
    }
   ],
   "source": [
    "sns.boxplot(data = df, y = \"review_scores_rating\", x = \"host_is_superhost\")\n",
    "plt.show()"
   ]
  },
  {
   "cell_type": "markdown",
   "metadata": {},
   "source": [
    "#### 2.1.3. Super Host Status and Number of Reviews\n",
    "\n",
    "Use a side-by-side boxplots visualization to visualize the relationship between the number of reviews for a hosts listing and their superhost status."
   ]
  },
  {
   "cell_type": "code",
   "execution_count": 7,
   "metadata": {},
   "outputs": [
    {
     "data": {
      "image/png": "[encoded data removed]",
      "text/plain": [
       "<Figure size 432x288 with 1 Axes>"
      ]
     },
     "metadata": {
      "needs_background": "light"
     },
     "output_type": "display_data"
    }
   ],
   "source": [
    "sns.boxplot(data = df, y = \"number_of_reviews\", x = \"host_is_superhost\")\n",
    "plt.show()"
   ]
  },
  {
   "cell_type": "markdown",
   "metadata": {},
   "source": [
    "### 2.2. Barplots\n",
    "\n",
    "#### 2.2.1. Super Host Status and Neighborhood\n",
    "\n",
    "Use a barplot visualization to visualize the relationship between a host's superhost status and the neighborhood that their property is located in.\n",
    "\n",
    "This plot should display the following percentages:\n",
    "* the percentage of Belltown property owners that are superhosts\n",
    "* the percentage of Belltown property owners that are not superhosts\n",
    "* the percentage of Broadway property owners that are superhosts\n",
    "* the percentage of Broadway property owners that are not superhosts\n",
    "* the percentage of Minor property owners that are superhosts\n",
    "* the percentage of Minor property owners that are not superhosts\n",
    "* the percentage of Fremont property owners that are superhosts\n",
    "* the percentage of Fremont property owners that are not superhosts\n",
    "* the percentage of Wallingford property owners that are superhosts\n",
    "* the percentage of Wallingford property owners that are not superhosts"
   ]
  },
  {
   "cell_type": "code",
   "execution_count": 12,
   "metadata": {},
   "outputs": [
    {
     "data": {
      "text/plain": [
       "Text(0.5, 1.0, 'Neighborhood ratio of superhosts')"
      ]
     },
     "execution_count": 12,
     "metadata": {},
     "output_type": "execute_result"
    },
    {
     "data": {
      "image/png": "[encoded data removed]",
      "text/plain": [
       "<Figure size 432x288 with 1 Axes>"
      ]
     },
     "metadata": {
      "needs_background": "light"
     },
     "output_type": "display_data"
    }
   ],
   "source": [
    "sns.histplot(x = \"neighborhood\", hue = \"host_is_superhost\", multiple = \"stack\", data = df)\n",
    "plt.legend([\"Is Not Superhost\", \"Is Superhost\"])\n",
    "plt.title(\"Neighborhood ratio of superhosts\")"
   ]
  },
  {
   "cell_type": "code",
   "execution_count": null,
   "metadata": {},
   "outputs": [],
   "source": []
  },
  {
   "cell_type": "markdown",
   "metadata": {},
   "source": [
    "#### 2.2.2 Interpretation\n",
    "\n",
    "Is there a relationship between the superhost status of a host and the neighborhood that their property is located in *in this dataset*? Which neighborhood has the highest percentage of their hosts as superhosts?"
   ]
  },
  {
   "cell_type": "markdown",
   "metadata": {},
   "source": [
    "No relationship and Belltown has the highest percentage of hosts as superhosts"
   ]
  },
  {
   "cell_type": "markdown",
   "metadata": {},
   "source": [
    "#### 2.2.3. Super Host Status and Property Type\n",
    "\n",
    "Use a barplot visualization to visualize the relationship between a host's superhost status and the property type\n",
    "\n",
    "This plot should display the following percentages:\n",
    "* the percentage of house property owners that are superhosts\n",
    "* the percentage of house property owners that are not superhosts\n",
    "* the percentage of apartment property owners that are superhosts\n",
    "* the percentage of apartment property owners that are not superhosts"
   ]
  },
  {
   "cell_type": "code",
   "execution_count": 13,
   "metadata": {},
   "outputs": [
    {
     "data": {
      "text/plain": [
       "Text(0.5, 1.0, 'Property type ratio of superhosts')"
      ]
     },
     "execution_count": 13,
     "metadata": {},
     "output_type": "execute_result"
    },
    {
     "data": {
      "image/png": "[encoded data removed]",
      "text/plain": [
       "<Figure size 432x288 with 1 Axes>"
      ]
     },
     "metadata": {
      "needs_background": "light"
     },
     "output_type": "display_data"
    }
   ],
   "source": [
    "sns.histplot(x = \"property_type\", hue = \"host_is_superhost\", multiple = \"stack\", data = df)\n",
    "plt.legend([\"Is Not Superhost\", \"Is Superhost\"])\n",
    "plt.title(\"Property Type ratio of superhosts\")"
   ]
  },
  {
   "cell_type": "code",
   "execution_count": null,
   "metadata": {},
   "outputs": [],
   "source": []
  },
  {
   "cell_type": "markdown",
   "metadata": {},
   "source": [
    "#### 2.2.4 Interpretation\n",
    "\n",
    "Based on your plots from 2.2.1 and 2.2.3, which variable has a stronger association with superhost status: neighborhood or property type?"
   ]
  },
  {
   "cell_type": "markdown",
   "metadata": {},
   "source": [
    "Property type"
   ]
  },
  {
   "cell_type": "markdown",
   "metadata": {},
   "source": [
    "## 3. Fitting and Interpreting Logistic Regression Model\n",
    "\n",
    "First, we would like to fit a logistic regression model that will predict the probability that a given Airbnb listing host **is a superhost** ie. **(y=1)**, given the following explanatory variables:\n",
    "* listing price\n",
    "* review scores rating\n",
    "* number of reviews\n",
    "* neighborhod\n",
    "* property type\n",
    "\n",
    "### 3.1. Fitting the model\n",
    "\n",
    "Fit this logistic regression model below and display the summary output table."
   ]
  },
  {
   "cell_type": "code",
   "execution_count": 14,
   "metadata": {},
   "outputs": [
    {
     "data": {
      "text/html": [
       "<div>\n",
       "<style scoped>\n",
       "    .dataframe tbody tr th:only-of-type {\n",
       "        vertical-align: middle;\n",
       "    }\n",
       "\n",
       "    .dataframe tbody tr th {\n",
       "        vertical-align: top;\n",
       "    }\n",
       "\n",
       "    .dataframe thead th {\n",
       "        text-align: right;\n",
       "    }\n",
       "</style>\n",
       "<table border=\"1\" class=\"dataframe\">\n",
       "  <thead>\n",
       "    <tr style=\"text-align: right;\">\n",
       "      <th></th>\n",
       "      <th>price</th>\n",
       "      <th>review_scores_rating</th>\n",
       "      <th>number_of_reviews</th>\n",
       "      <th>security_deposit</th>\n",
       "      <th>cleaning_fee</th>\n",
       "      <th>neighborhood</th>\n",
       "      <th>property_type</th>\n",
       "      <th>room_type</th>\n",
       "      <th>accommodates</th>\n",
       "      <th>bathrooms</th>\n",
       "      <th>beds</th>\n",
       "      <th>host_response_time</th>\n",
       "      <th>host_response_rate</th>\n",
       "      <th>host_acceptance_rate</th>\n",
       "      <th>host_is_superhost</th>\n",
       "      <th>host_has_profile_pic</th>\n",
       "      <th>host_identity_verified</th>\n",
       "      <th>y</th>\n",
       "    </tr>\n",
       "  </thead>\n",
       "  <tbody>\n",
       "    <tr>\n",
       "      <th>0</th>\n",
       "      <td>300</td>\n",
       "      <td>100</td>\n",
       "      <td>24</td>\n",
       "      <td>500</td>\n",
       "      <td>95</td>\n",
       "      <td>Wallingford</td>\n",
       "      <td>House</td>\n",
       "      <td>Entire home/apt</td>\n",
       "      <td>5</td>\n",
       "      <td>1.5</td>\n",
       "      <td>3</td>\n",
       "      <td>within a few hours</td>\n",
       "      <td>1.0</td>\n",
       "      <td>1</td>\n",
       "      <td>t</td>\n",
       "      <td>t</td>\n",
       "      <td>t</td>\n",
       "      <td>1</td>\n",
       "    </tr>\n",
       "    <tr>\n",
       "      <th>1</th>\n",
       "      <td>149</td>\n",
       "      <td>96</td>\n",
       "      <td>11</td>\n",
       "      <td>300</td>\n",
       "      <td>105</td>\n",
       "      <td>Wallingford</td>\n",
       "      <td>Apartment</td>\n",
       "      <td>Entire home/apt</td>\n",
       "      <td>6</td>\n",
       "      <td>1.0</td>\n",
       "      <td>3</td>\n",
       "      <td>within an hour</td>\n",
       "      <td>1.0</td>\n",
       "      <td>1</td>\n",
       "      <td>f</td>\n",
       "      <td>t</td>\n",
       "      <td>t</td>\n",
       "      <td>0</td>\n",
       "    </tr>\n",
       "    <tr>\n",
       "      <th>2</th>\n",
       "      <td>95</td>\n",
       "      <td>95</td>\n",
       "      <td>79</td>\n",
       "      <td>150</td>\n",
       "      <td>40</td>\n",
       "      <td>Wallingford</td>\n",
       "      <td>Apartment</td>\n",
       "      <td>Entire home/apt</td>\n",
       "      <td>3</td>\n",
       "      <td>1.0</td>\n",
       "      <td>2</td>\n",
       "      <td>within an hour</td>\n",
       "      <td>1.0</td>\n",
       "      <td>1</td>\n",
       "      <td>f</td>\n",
       "      <td>t</td>\n",
       "      <td>t</td>\n",
       "      <td>0</td>\n",
       "    </tr>\n",
       "    <tr>\n",
       "      <th>3</th>\n",
       "      <td>105</td>\n",
       "      <td>100</td>\n",
       "      <td>13</td>\n",
       "      <td>500</td>\n",
       "      <td>50</td>\n",
       "      <td>Wallingford</td>\n",
       "      <td>House</td>\n",
       "      <td>Private room</td>\n",
       "      <td>2</td>\n",
       "      <td>2.0</td>\n",
       "      <td>1</td>\n",
       "      <td>within a few hours</td>\n",
       "      <td>1.0</td>\n",
       "      <td>1</td>\n",
       "      <td>t</td>\n",
       "      <td>t</td>\n",
       "      <td>t</td>\n",
       "      <td>1</td>\n",
       "    </tr>\n",
       "    <tr>\n",
       "      <th>4</th>\n",
       "      <td>140</td>\n",
       "      <td>99</td>\n",
       "      <td>30</td>\n",
       "      <td>250</td>\n",
       "      <td>65</td>\n",
       "      <td>Wallingford</td>\n",
       "      <td>House</td>\n",
       "      <td>Entire home/apt</td>\n",
       "      <td>2</td>\n",
       "      <td>1.0</td>\n",
       "      <td>1</td>\n",
       "      <td>within an hour</td>\n",
       "      <td>1.0</td>\n",
       "      <td>1</td>\n",
       "      <td>t</td>\n",
       "      <td>t</td>\n",
       "      <td>t</td>\n",
       "      <td>1</td>\n",
       "    </tr>\n",
       "  </tbody>\n",
       "</table>\n",
       "</div>"
      ],
      "text/plain": [
       "   price  review_scores_rating  number_of_reviews  security_deposit  \\\n",
       "0    300                   100                 24               500   \n",
       "1    149                    96                 11               300   \n",
       "2     95                    95                 79               150   \n",
       "3    105                   100                 13               500   \n",
       "4    140                    99                 30               250   \n",
       "\n",
       "   cleaning_fee neighborhood property_type        room_type  accommodates  \\\n",
       "0            95  Wallingford         House  Entire home/apt             5   \n",
       "1           105  Wallingford     Apartment  Entire home/apt             6   \n",
       "2            40  Wallingford     Apartment  Entire home/apt             3   \n",
       "3            50  Wallingford         House     Private room             2   \n",
       "4            65  Wallingford         House  Entire home/apt             2   \n",
       "\n",
       "   bathrooms  beds  host_response_time  host_response_rate  \\\n",
       "0        1.5     3  within a few hours                 1.0   \n",
       "1        1.0     3      within an hour                 1.0   \n",
       "2        1.0     2      within an hour                 1.0   \n",
       "3        2.0     1  within a few hours                 1.0   \n",
       "4        1.0     1      within an hour                 1.0   \n",
       "\n",
       "   host_acceptance_rate host_is_superhost host_has_profile_pic  \\\n",
       "0                     1                 t                    t   \n",
       "1                     1                 f                    t   \n",
       "2                     1                 f                    t   \n",
       "3                     1                 t                    t   \n",
       "4                     1                 t                    t   \n",
       "\n",
       "  host_identity_verified  y  \n",
       "0                      t  1  \n",
       "1                      t  0  \n",
       "2                      t  0  \n",
       "3                      t  1  \n",
       "4                      t  1  "
      ]
     },
     "execution_count": 14,
     "metadata": {},
     "output_type": "execute_result"
    }
   ],
   "source": [
    "df[\"y\"] = df[\"host_is_superhost\"].map({'t': 1, 'f': 0})\n",
    "df.head()"
   ]
  },
  {
   "cell_type": "code",
   "execution_count": 15,
   "metadata": {},
   "outputs": [
    {
     "name": "stdout",
     "output_type": "stream",
     "text": [
      "Optimization terminated successfully.\n",
      "         Current function value: 0.490114\n",
      "         Iterations 8\n"
     ]
    },
    {
     "data": {
      "text/html": [
       "<table class=\"simpletable\">\n",
       "<caption>Logit Regression Results</caption>\n",
       "<tr>\n",
       "  <th>Dep. Variable:</th>           <td>y</td>        <th>  No. Observations:  </th>  <td>   339</td>  \n",
       "</tr>\n",
       "<tr>\n",
       "  <th>Model:</th>                 <td>Logit</td>      <th>  Df Residuals:      </th>  <td>   330</td>  \n",
       "</tr>\n",
       "<tr>\n",
       "  <th>Method:</th>                 <td>MLE</td>       <th>  Df Model:          </th>  <td>     8</td>  \n",
       "</tr>\n",
       "<tr>\n",
       "  <th>Date:</th>            <td>Tue, 29 Nov 2022</td> <th>  Pseudo R-squ.:     </th>  <td>0.1954</td>  \n",
       "</tr>\n",
       "<tr>\n",
       "  <th>Time:</th>                <td>22:30:04</td>     <th>  Log-Likelihood:    </th> <td> -166.15</td> \n",
       "</tr>\n",
       "<tr>\n",
       "  <th>converged:</th>             <td>True</td>       <th>  LL-Null:           </th> <td> -206.49</td> \n",
       "</tr>\n",
       "<tr>\n",
       "  <th>Covariance Type:</th>     <td>nonrobust</td>    <th>  LLR p-value:       </th> <td>3.574e-14</td>\n",
       "</tr>\n",
       "</table>\n",
       "<table class=\"simpletable\">\n",
       "<tr>\n",
       "               <td></td>                  <th>coef</th>     <th>std err</th>      <th>z</th>      <th>P>|z|</th>  <th>[0.025</th>    <th>0.975]</th>  \n",
       "</tr>\n",
       "<tr>\n",
       "  <th>Intercept</th>                   <td>  -27.8074</td> <td>    5.148</td> <td>   -5.402</td> <td> 0.000</td> <td>  -37.896</td> <td>  -17.718</td>\n",
       "</tr>\n",
       "<tr>\n",
       "  <th>neighborhood[T.Broadway]</th>    <td>   -1.1046</td> <td>    0.393</td> <td>   -2.813</td> <td> 0.005</td> <td>   -1.874</td> <td>   -0.335</td>\n",
       "</tr>\n",
       "<tr>\n",
       "  <th>neighborhood[T.Fremont]</th>     <td>   -0.7215</td> <td>    0.492</td> <td>   -1.467</td> <td> 0.142</td> <td>   -1.685</td> <td>    0.242</td>\n",
       "</tr>\n",
       "<tr>\n",
       "  <th>neighborhood[T.Minor]</th>       <td>    0.0272</td> <td>    0.490</td> <td>    0.056</td> <td> 0.956</td> <td>   -0.933</td> <td>    0.987</td>\n",
       "</tr>\n",
       "<tr>\n",
       "  <th>neighborhood[T.Wallingford]</th> <td>   -0.4037</td> <td>    0.472</td> <td>   -0.855</td> <td> 0.392</td> <td>   -1.329</td> <td>    0.521</td>\n",
       "</tr>\n",
       "<tr>\n",
       "  <th>property_type[T.House]</th>      <td>   -0.3405</td> <td>    0.338</td> <td>   -1.009</td> <td> 0.313</td> <td>   -1.002</td> <td>    0.321</td>\n",
       "</tr>\n",
       "<tr>\n",
       "  <th>price</th>                       <td>    0.0013</td> <td>    0.001</td> <td>    0.924</td> <td> 0.356</td> <td>   -0.001</td> <td>    0.004</td>\n",
       "</tr>\n",
       "<tr>\n",
       "  <th>review_scores_rating</th>        <td>    0.2792</td> <td>    0.052</td> <td>    5.333</td> <td> 0.000</td> <td>    0.177</td> <td>    0.382</td>\n",
       "</tr>\n",
       "<tr>\n",
       "  <th>number_of_reviews</th>           <td>    0.0182</td> <td>    0.004</td> <td>    4.470</td> <td> 0.000</td> <td>    0.010</td> <td>    0.026</td>\n",
       "</tr>\n",
       "</table>"
      ],
      "text/plain": [
       "<class 'statsmodels.iolib.summary.Summary'>\n",
       "\"\"\"\n",
       "                           Logit Regression Results                           \n",
       "==============================================================================\n",
       "Dep. Variable:                      y   No. Observations:                  339\n",
       "Model:                          Logit   Df Residuals:                      330\n",
       "Method:                           MLE   Df Model:                            8\n",
       "Date:                Tue, 29 Nov 2022   Pseudo R-squ.:                  0.1954\n",
       "Time:                        22:30:04   Log-Likelihood:                -166.15\n",
       "converged:                       True   LL-Null:                       -206.49\n",
       "Covariance Type:            nonrobust   LLR p-value:                 3.574e-14\n",
       "===============================================================================================\n",
       "                                  coef    std err          z      P>|z|      [0.025      0.975]\n",
       "-----------------------------------------------------------------------------------------------\n",
       "Intercept                     -27.8074      5.148     -5.402      0.000     -37.896     -17.718\n",
       "neighborhood[T.Broadway]       -1.1046      0.393     -2.813      0.005      -1.874      -0.335\n",
       "neighborhood[T.Fremont]        -0.7215      0.492     -1.467      0.142      -1.685       0.242\n",
       "neighborhood[T.Minor]           0.0272      0.490      0.056      0.956      -0.933       0.987\n",
       "neighborhood[T.Wallingford]    -0.4037      0.472     -0.855      0.392      -1.329       0.521\n",
       "property_type[T.House]         -0.3405      0.338     -1.009      0.313      -1.002       0.321\n",
       "price                           0.0013      0.001      0.924      0.356      -0.001       0.004\n",
       "review_scores_rating            0.2792      0.052      5.333      0.000       0.177       0.382\n",
       "number_of_reviews               0.0182      0.004      4.470      0.000       0.010       0.026\n",
       "===============================================================================================\n",
       "\"\"\""
      ]
     },
     "execution_count": 15,
     "metadata": {},
     "output_type": "execute_result"
    }
   ],
   "source": [
    "mod1 = smf.logit(formula = 'y ~ price + review_scores_rating + number_of_reviews + neighborhood + property_type' ,data = df).fit()\n",
    "mod1.summary()"
   ]
  },
  {
   "cell_type": "markdown",
   "metadata": {},
   "source": [
    "### 3.2. Logistic Regression Model Output\n",
    "\n",
    "Write out the logistic regression model equation. Make sure to use the correct notation."
   ]
  },
  {
   "cell_type": "markdown",
   "metadata": {},
   "source": [
    "-27.804 + 0.0013(price) + 0.2792(review_scores_rating) + 0.0182(number_of_reviews) -1.1046(neighborhood[T.Broadway]) - 0.7215(neighborhood[T.Fremont]) + 0.0272(neighborhood[T.Minor]) - 0.4037(neighborhood[T.Wallingford]) - 0.3405(property_type[T.House])"
   ]
  },
  {
   "cell_type": "markdown",
   "metadata": {},
   "source": [
    "### 3.3. Intercept Interpretation\n",
    "\n",
    "If $\\hat{\\beta}_0$ is your intercept, calculate $e^{\\hat{\\beta}_0}$ and put it into words. **Make sure to not use causal language!**"
   ]
  },
  {
   "cell_type": "code",
   "execution_count": 17,
   "metadata": {},
   "outputs": [
    {
     "data": {
      "text/plain": [
       "8.383003045266744e-13"
      ]
     },
     "execution_count": 17,
     "metadata": {},
     "output_type": "execute_result"
    }
   ],
   "source": [
    "np.exp(-27.8074)"
   ]
  },
  {
   "cell_type": "markdown",
   "metadata": {},
   "source": []
  },
  {
   "cell_type": "markdown",
   "metadata": {},
   "source": [
    "### 3.4. Numerical Explanatory Variable Slope Interpretation\n",
    "\n",
    "If $\\hat{\\beta}_i$ is your slope that corresponds to listing price, calculate $e^{\\hat{\\beta}_i}$ and put it into words. **Make sure to not use causal language!**"
   ]
  },
  {
   "cell_type": "code",
   "execution_count": null,
   "metadata": {},
   "outputs": [],
   "source": []
  },
  {
   "cell_type": "markdown",
   "metadata": {},
   "source": []
  },
  {
   "cell_type": "markdown",
   "metadata": {},
   "source": [
    "### 3.5. Indicator Variable Slope Interpretation\n",
    "\n",
    "If $\\hat{\\beta}_j$ is your slope that corresponds to the property_type[HOUSE] indicator variable, then calculate $e^{\\hat{\\beta}_j}$ and put it into words. **Make sure to not use causal language!**"
   ]
  },
  {
   "cell_type": "code",
   "execution_count": null,
   "metadata": {},
   "outputs": [],
   "source": []
  },
  {
   "cell_type": "markdown",
   "metadata": {},
   "source": []
  },
  {
   "cell_type": "markdown",
   "metadata": {},
   "source": [
    "### 3.6. More Interpretation\n",
    "\n",
    "Suppose that our model has predicted that the odds that a host with a 100 dollar listing was a super host is 0.20 (numerical odds format). Suppose this Airbnb host decided to raise their listing price to 101 dollars. What would our model predict the new odds to be that they were a super host? "
   ]
  },
  {
   "cell_type": "code",
   "execution_count": null,
   "metadata": {},
   "outputs": [],
   "source": []
  },
  {
   "cell_type": "markdown",
   "metadata": {},
   "source": [
    "## 4.Conducting Inference on the Slopes of the Logistic Regression Model\n",
    "\n",
    "We would like to conduct inference on the **number of reviews slope** in the population logistic regression model that corresponds to our model.  We would also like to conduct inference on the **odds multiplier for number of reviews** in the population logistic regression model that corresponds to our model.\n",
    "\n"
   ]
  },
  {
   "cell_type": "markdown",
   "metadata": {},
   "source": [
    "### 4.1. Conditions for Inference\n",
    "\n",
    "Check the conditions for conducting inference on your logistic regression population slopes below."
   ]
  },
  {
   "cell_type": "markdown",
   "metadata": {},
   "source": []
  },
  {
   "cell_type": "markdown",
   "metadata": {},
   "source": []
  },
  {
   "cell_type": "code",
   "execution_count": null,
   "metadata": {},
   "outputs": [],
   "source": []
  },
  {
   "cell_type": "code",
   "execution_count": null,
   "metadata": {},
   "outputs": [],
   "source": []
  },
  {
   "cell_type": "code",
   "execution_count": null,
   "metadata": {},
   "outputs": [],
   "source": []
  },
  {
   "cell_type": "markdown",
   "metadata": {},
   "source": []
  },
  {
   "cell_type": "code",
   "execution_count": null,
   "metadata": {},
   "outputs": [],
   "source": []
  },
  {
   "cell_type": "code",
   "execution_count": null,
   "metadata": {},
   "outputs": [],
   "source": []
  },
  {
   "cell_type": "markdown",
   "metadata": {},
   "source": [
    "### 4.2. 99% Confidence Intervals\n",
    "\n",
    "#### 4.2.1. Confidence Interval for Slope\n",
    "\n",
    "First, create a 99% confidence interval for the **number_of_reviews** slope (ie. a $\\beta_i$) in the population logistic regression model that corresponds to our model."
   ]
  },
  {
   "cell_type": "code",
   "execution_count": null,
   "metadata": {},
   "outputs": [],
   "source": []
  },
  {
   "cell_type": "code",
   "execution_count": null,
   "metadata": {},
   "outputs": [],
   "source": []
  },
  {
   "cell_type": "code",
   "execution_count": null,
   "metadata": {},
   "outputs": [],
   "source": []
  },
  {
   "cell_type": "code",
   "execution_count": null,
   "metadata": {},
   "outputs": [],
   "source": []
  },
  {
   "cell_type": "markdown",
   "metadata": {},
   "source": [
    "#### 4.2.2. Slope Confidence Interval in Words\n",
    "\n",
    "Put this confidence interval from 4.2.1 into words."
   ]
  },
  {
   "cell_type": "markdown",
   "metadata": {},
   "source": []
  },
  {
   "cell_type": "markdown",
   "metadata": {},
   "source": [
    "#### 4.2.3. Confidence Interval for the Odds Multiplier\n",
    "\n",
    "Then, create a 99% confidence interval for the **odds multiplier for number_of_reviews** in the population logistic regression model that corresponds to our model."
   ]
  },
  {
   "cell_type": "code",
   "execution_count": null,
   "metadata": {},
   "outputs": [],
   "source": []
  },
  {
   "cell_type": "code",
   "execution_count": null,
   "metadata": {},
   "outputs": [],
   "source": []
  },
  {
   "cell_type": "markdown",
   "metadata": {},
   "source": [
    "#### 4.2.4. Odds Multiplier Confidence Interval in Words\n",
    "\n",
    "Put this confidence interval from 4.2.3 into words."
   ]
  },
  {
   "cell_type": "markdown",
   "metadata": {},
   "source": []
  },
  {
   "cell_type": "markdown",
   "metadata": {},
   "source": [
    "### 4.3. Hypothesis Testing for the Population Slope\n",
    "\n",
    "Next, we would like to determine if there is sufficient evidence to suggest that there is an association between superhost status and the number of reviews that the host's listing has for the hosts of ALL Seattle Airbnb listings from the top 5 neighborhoods.\n",
    "\n",
    "To help us test this association, first we would like to test if we have enough evidence to suggest the slope for number_of_reviews is non-zero in the population model.\n",
    "\n",
    "#### 4.3.1. Hypotheses\n",
    "\n",
    "Set up the hypotheses for this test below. Make sure you define any parameters that you use."
   ]
  },
  {
   "cell_type": "markdown",
   "metadata": {},
   "source": []
  },
  {
   "cell_type": "markdown",
   "metadata": {},
   "source": [
    "#### 4.3.2. Test Statistic\n",
    "\n",
    "Use the summary output table to calculate the test statistic for this test **by hand**. You can use the summary output table to check your work, but it may be a bit different due to rounding errors."
   ]
  },
  {
   "cell_type": "code",
   "execution_count": null,
   "metadata": {},
   "outputs": [],
   "source": []
  },
  {
   "cell_type": "code",
   "execution_count": null,
   "metadata": {},
   "outputs": [],
   "source": []
  },
  {
   "cell_type": "code",
   "execution_count": null,
   "metadata": {},
   "outputs": [],
   "source": []
  },
  {
   "cell_type": "markdown",
   "metadata": {},
   "source": [
    "#### 4.3.3. p-value\n",
    "\n",
    "Use your test statistic that you calculated in 4.3.2. to calculate the p-value for this test **by hand**. You can use scipy.stats functions to help you. Again, you can use the summary output table to check your work, but it may be a bit different due to rounding errors."
   ]
  },
  {
   "cell_type": "code",
   "execution_count": null,
   "metadata": {},
   "outputs": [],
   "source": []
  },
  {
   "cell_type": "markdown",
   "metadata": {},
   "source": [
    "#### 4.3.4. Conclusions with a p-value\n",
    "\n",
    "Use your p-value and a significance level of $\\alpha=0.01$ to make a conclusion about your hypotheses in 4.3.1."
   ]
  },
  {
   "cell_type": "markdown",
   "metadata": {},
   "source": []
  },
  {
   "cell_type": "markdown",
   "metadata": {},
   "source": [
    "#### 4.3.5. Conclusions with a confidence interval\n",
    "\n",
    "Use the appropriate 99% confidence interval to make a conclusion about your hypotheses in 4.3.1."
   ]
  },
  {
   "cell_type": "markdown",
   "metadata": {},
   "source": []
  },
  {
   "cell_type": "markdown",
   "metadata": {},
   "source": [
    "### 4.4. Hypothesis Testing for the Population Odds Multiplier\n",
    "\n",
    "Alternatively, we can use the population odds multiplier for the number of reviews in the corresponding population model to help us test for an association between superhost status and the number of reviews that they have for the hosts of ALL Seattle Airbnb listings from the top 5 neighborhoods.\n",
    "\n",
    "Specifically, we will test if we have enough evidence to suggest that the odds multiplier for number of reviews is not equal to 1 in the corresponding population model.\n",
    "\n",
    "#### 4.4.1. Hypotheses\n",
    "\n",
    "Set up the hypotheses for this test below. Make sure you define any parameters that you use."
   ]
  },
  {
   "cell_type": "markdown",
   "metadata": {},
   "source": []
  },
  {
   "cell_type": "markdown",
   "metadata": {},
   "source": [
    "#### 4.4.2. Conclusion with a p-value\n",
    "\n",
    "Use a p-value and a significance level of $\\alpha=0.01$ to make a conclusion about your hypotheses in 4.4.1."
   ]
  },
  {
   "cell_type": "markdown",
   "metadata": {},
   "source": []
  },
  {
   "cell_type": "markdown",
   "metadata": {},
   "source": [
    "#### 4.4.3. Conclusion with a confidence interval\n",
    "\n",
    "Use the appropriate 99% confidence interval to make a conclusion about your hypotheses in 4.4.1.\n"
   ]
  },
  {
   "cell_type": "markdown",
   "metadata": {},
   "source": []
  },
  {
   "cell_type": "markdown",
   "metadata": {},
   "source": [
    "### 4.5. Summarization\n",
    "\n",
    "Based on your conclusions in 4.3.4, 4.3.5, 4.4.2, and 4.4.3, do we have sufficient evidence to suggest that there is an association between superhost status and the number of reviews that the host's listing has for ALL Seattle Airbnb listings from the top 5 neighborhoods?  "
   ]
  },
  {
   "cell_type": "markdown",
   "metadata": {},
   "source": []
  },
  {
   "cell_type": "markdown",
   "metadata": {},
   "source": [
    "## 5. Model Prediction"
   ]
  },
  {
   "cell_type": "markdown",
   "metadata": {},
   "source": [
    "### 5.1. Log odds prediction\n",
    "\n",
    "Use your model to predict the **log odds** that an Airbnb host of a \\$200/night house in the Belltown neighborhood with 20 reviews and a review scores rating of 95 is **a super host**."
   ]
  },
  {
   "cell_type": "code",
   "execution_count": null,
   "metadata": {},
   "outputs": [],
   "source": []
  },
  {
   "cell_type": "markdown",
   "metadata": {},
   "source": [
    "### 5.2. Odds prediction\n",
    "\n",
    "Use your model to predict the **odds** that an Airbnb host of a \\$200/night house in the Belltown neighborhood with 20 reviews and a review scores rating of 95 is **a super host**.\n",
    "\n",
    "Put your odds into words.\n",
    "* ie. \"The odds of ```<INSERT HERE>``` are ```NUMBER``` to ```NUMBER```\n",
    "* your \"NUMBERS\" should be integers"
   ]
  },
  {
   "cell_type": "code",
   "execution_count": null,
   "metadata": {},
   "outputs": [],
   "source": []
  },
  {
   "cell_type": "markdown",
   "metadata": {},
   "source": []
  },
  {
   "cell_type": "markdown",
   "metadata": {},
   "source": [
    "### 5.3. Probability Prediction\n",
    "\n",
    "Use your model to predict the **probability** that an Airbnb host of a \\$200/night house in the Belltown neighborhood with 20 reviews and a review scores rating of 95 is **a super host**."
   ]
  },
  {
   "cell_type": "code",
   "execution_count": null,
   "metadata": {},
   "outputs": [],
   "source": []
  },
  {
   "cell_type": "code",
   "execution_count": null,
   "metadata": {},
   "outputs": [],
   "source": []
  },
  {
   "cell_type": "markdown",
   "metadata": {},
   "source": [
    "## 6. Interaction\n",
    "\n",
    "### 6.1. Number of Reviews vs. Superhost Status by Property Type\n",
    "Plot a scatterplot with your 0/1 super host status response variable and the number_of_reviews variable. Color code your points by the property type. Finally, fit a logistic regression curve to each set of these points (ie. a logistic regression curve for apartments and a logistic regression curve for houses). "
   ]
  },
  {
   "cell_type": "code",
   "execution_count": null,
   "metadata": {},
   "outputs": [],
   "source": []
  },
  {
   "cell_type": "markdown",
   "metadata": {},
   "source": [
    "### 6.2. Interaction Effect\n",
    "\n",
    "Do you think that there is an interaction between property type and number of reviews when predicting the superhost status of an airbnb host in this data? Why or why not?"
   ]
  },
  {
   "cell_type": "markdown",
   "metadata": {},
   "source": []
  },
  {
   "cell_type": "markdown",
   "metadata": {},
   "source": [
    "### 6.3. New Logistic Regression Model with Interaction Term\n",
    "\n",
    "Fit a new a logistic regression model that will predict the probability that a given Airbnb listing host **is a superhost** ie. **(y=1)**, given the following explanatory variables:\n",
    "* listing price\n",
    "* review scores rating\n",
    "* number of reviews\n",
    "* neighborhod\n",
    "* property type\n",
    "* interaction between property type and number of reviews"
   ]
  },
  {
   "cell_type": "code",
   "execution_count": null,
   "metadata": {},
   "outputs": [],
   "source": []
  },
  {
   "cell_type": "markdown",
   "metadata": {},
   "source": [
    "### 6.4. Fit the Model\n",
    "\n",
    "Write out your new logistic regression model equation below."
   ]
  },
  {
   "cell_type": "markdown",
   "metadata": {},
   "source": []
  },
  {
   "cell_type": "markdown",
   "metadata": {},
   "source": [
    "### 6.5. Interaction Effect in the Population Model\n",
    "\n",
    "Do we have sufficient evidence to suggest that there is an interaction effect between property type and number of reviews in the corresponding population model? Use a significance level of $\\alpha=0.01$ to explain your answer."
   ]
  },
  {
   "cell_type": "markdown",
   "metadata": {},
   "source": []
  }
 ],
 "metadata": {
  "kernelspec": {
   "display_name": "Python 3 (ipykernel)",
   "language": "python",
   "name": "python3"
  },
  "language_info": {
   "codemirror_mode": {
    "name": "ipython",
    "version": 3
   },
   "file_extension": ".py",
   "mimetype": "text/x-python",
   "name": "python",
   "nbconvert_exporter": "python",
   "pygments_lexer": "ipython3",
   "version": "3.9.12"
  }
 },
 "nbformat": 4,
 "nbformat_minor": 2
}
