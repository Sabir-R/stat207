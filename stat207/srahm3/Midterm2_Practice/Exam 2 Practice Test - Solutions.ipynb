{
 "cells": [
  {
   "cell_type": "markdown",
   "metadata": {},
   "source": [
    "# Exam 2 Review - Solutions\n",
    "\n",
    "## <u>Case Study</u>: U.K. Smoker's Dataset\n",
    "\n",
    "In this Exam 2 Review, we will explore our U.K. smoking dataset.\n",
    "\n",
    "This dataset is comprised of a random sample of 421 smokers that live in the U.K.\n",
    "\n",
    "The dataset contains information about the smokers including their:\n",
    "* sex\n",
    "* age\n",
    "* marital status\n",
    "* highest qualification\n",
    "* nationality\n",
    "* gross income\n",
    "* region of the U.K. that live in.\n",
    "\n",
    "The dataset also contains information about the habits of each of the smokers including:\n",
    "* the amount of cigarettes that they smoke on the weekends\n",
    "* the amount of cigarettes that they smoke on the weekdays\n",
    "* the type of cigarettes that they smoke.\n",
    "\n",
    "\n"
   ]
  },
  {
   "cell_type": "code",
   "execution_count": 2,
   "metadata": {},
   "outputs": [],
   "source": [
    "import pandas as pd\n",
    "import numpy as np\n",
    "import seaborn as sns\n",
    "import matplotlib.pyplot as plt\n",
    "\n",
    "from scipy.stats import t, norm, f\n",
    "\n",
    "import statsmodels.api as sm\n",
    "import statsmodels.formula.api as smf"
   ]
  },
  {
   "cell_type": "markdown",
   "metadata": {},
   "source": [
    "## 1. Data Processing and Cleaning"
   ]
  },
  {
   "cell_type": "markdown",
   "metadata": {},
   "source": [
    "### 1.1. Loading Data\n",
    "\n",
    "Read the smoking.csv file into a dataframe."
   ]
  },
  {
   "cell_type": "code",
   "execution_count": 3,
   "metadata": {},
   "outputs": [
    {
     "data": {
      "text/html": [
       "<div>\n",
       "<style scoped>\n",
       "    .dataframe tbody tr th:only-of-type {\n",
       "        vertical-align: middle;\n",
       "    }\n",
       "\n",
       "    .dataframe tbody tr th {\n",
       "        vertical-align: top;\n",
       "    }\n",
       "\n",
       "    .dataframe thead th {\n",
       "        text-align: right;\n",
       "    }\n",
       "</style>\n",
       "<table border=\"1\" class=\"dataframe\">\n",
       "  <thead>\n",
       "    <tr style=\"text-align: right;\">\n",
       "      <th></th>\n",
       "      <th>sex</th>\n",
       "      <th>age</th>\n",
       "      <th>marital_status</th>\n",
       "      <th>highest_qualification</th>\n",
       "      <th>nationality</th>\n",
       "      <th>gross_income</th>\n",
       "      <th>region</th>\n",
       "      <th>smoke</th>\n",
       "      <th>amt_weekends</th>\n",
       "      <th>amt_weekdays</th>\n",
       "      <th>type</th>\n",
       "    </tr>\n",
       "  </thead>\n",
       "  <tbody>\n",
       "    <tr>\n",
       "      <th>0</th>\n",
       "      <td>Female</td>\n",
       "      <td>42</td>\n",
       "      <td>Single</td>\n",
       "      <td>No Qualification</td>\n",
       "      <td>British</td>\n",
       "      <td>Under 2,600</td>\n",
       "      <td>The North</td>\n",
       "      <td>Yes</td>\n",
       "      <td>12</td>\n",
       "      <td>12</td>\n",
       "      <td>Packets</td>\n",
       "    </tr>\n",
       "    <tr>\n",
       "      <th>1</th>\n",
       "      <td>Male</td>\n",
       "      <td>53</td>\n",
       "      <td>Married</td>\n",
       "      <td>Degree</td>\n",
       "      <td>British</td>\n",
       "      <td>Above 36,400</td>\n",
       "      <td>The North</td>\n",
       "      <td>Yes</td>\n",
       "      <td>6</td>\n",
       "      <td>6</td>\n",
       "      <td>Packets</td>\n",
       "    </tr>\n",
       "    <tr>\n",
       "      <th>2</th>\n",
       "      <td>Male</td>\n",
       "      <td>40</td>\n",
       "      <td>Single</td>\n",
       "      <td>GCSE/CSE</td>\n",
       "      <td>English</td>\n",
       "      <td>2,600 to 5,200</td>\n",
       "      <td>The North</td>\n",
       "      <td>Yes</td>\n",
       "      <td>8</td>\n",
       "      <td>8</td>\n",
       "      <td>Hand-Rolled</td>\n",
       "    </tr>\n",
       "    <tr>\n",
       "      <th>3</th>\n",
       "      <td>Female</td>\n",
       "      <td>41</td>\n",
       "      <td>Married</td>\n",
       "      <td>No Qualification</td>\n",
       "      <td>English</td>\n",
       "      <td>5,200 to 10,400</td>\n",
       "      <td>The North</td>\n",
       "      <td>Yes</td>\n",
       "      <td>15</td>\n",
       "      <td>12</td>\n",
       "      <td>Packets</td>\n",
       "    </tr>\n",
       "    <tr>\n",
       "      <th>4</th>\n",
       "      <td>Female</td>\n",
       "      <td>34</td>\n",
       "      <td>Married</td>\n",
       "      <td>GCSE/CSE</td>\n",
       "      <td>British</td>\n",
       "      <td>2,600 to 5,200</td>\n",
       "      <td>The North</td>\n",
       "      <td>Yes</td>\n",
       "      <td>6</td>\n",
       "      <td>12</td>\n",
       "      <td>Packets</td>\n",
       "    </tr>\n",
       "  </tbody>\n",
       "</table>\n",
       "</div>"
      ],
      "text/plain": [
       "      sex  age marital_status highest_qualification nationality  \\\n",
       "0  Female   42         Single      No Qualification     British   \n",
       "1    Male   53        Married                Degree     British   \n",
       "2    Male   40         Single              GCSE/CSE     English   \n",
       "3  Female   41        Married      No Qualification     English   \n",
       "4  Female   34        Married              GCSE/CSE     British   \n",
       "\n",
       "      gross_income     region smoke  amt_weekends  amt_weekdays         type  \n",
       "0      Under 2,600  The North   Yes            12            12      Packets  \n",
       "1     Above 36,400  The North   Yes             6             6      Packets  \n",
       "2   2,600 to 5,200  The North   Yes             8             8  Hand-Rolled  \n",
       "3  5,200 to 10,400  The North   Yes            15            12      Packets  \n",
       "4   2,600 to 5,200  The North   Yes             6            12      Packets  "
      ]
     },
     "execution_count": 3,
     "metadata": {},
     "output_type": "execute_result"
    }
   ],
   "source": [
    "df=pd.read_csv('smoking.csv')\n",
    "df.head()"
   ]
  },
  {
   "cell_type": "markdown",
   "metadata": {},
   "source": [
    "### 1.2. Missing Value Checking\n",
    "\n",
    "Does this dataset contain any missing values?"
   ]
  },
  {
   "cell_type": "markdown",
   "metadata": {},
   "source": [
    "First we check the data types of each of the variables."
   ]
  },
  {
   "cell_type": "code",
   "execution_count": 4,
   "metadata": {},
   "outputs": [
    {
     "data": {
      "text/plain": [
       "sex                      object\n",
       "age                       int64\n",
       "marital_status           object\n",
       "highest_qualification    object\n",
       "nationality              object\n",
       "gross_income             object\n",
       "region                   object\n",
       "smoke                    object\n",
       "amt_weekends              int64\n",
       "amt_weekdays              int64\n",
       "type                     object\n",
       "dtype: object"
      ]
     },
     "execution_count": 4,
     "metadata": {},
     "output_type": "execute_result"
    }
   ],
   "source": [
    "df.dtypes"
   ]
  },
  {
   "cell_type": "markdown",
   "metadata": {},
   "source": [
    "It look slike all of the intended numerical variables are represented as an int64 (or float64). Thus all of the values in these columns are read as numerical values and not string values. This indicates that there are no string values in these numerical columns that are used to represent a missing value (other than these values which are automatically converted to NaN: #N/A’, ‘#N/A N/A’, ‘#NA’, ‘-1.#IND’, ‘-1.#QNAN’, ‘-NaN’, ‘-nan’, ‘1.#IND’, ‘1.#QNAN’, ‘<NA>’, ‘N/A’, ‘NA’, ‘NULL’, ‘NaN’, ‘n/a’, ‘nan’, ‘null’.)\n",
    "    \n",
    "Let's inspect the categorical variables as well by looking at the unique values."
   ]
  },
  {
   "cell_type": "code",
   "execution_count": 5,
   "metadata": {},
   "outputs": [
    {
     "name": "stdout",
     "output_type": "stream",
     "text": [
      "Unique values for the sex column.\n",
      "['Female' 'Male']\n",
      "\n",
      "Unique values for the marital_status column.\n",
      "['Single' 'Married' 'Divorced' 'Widowed' 'Separated']\n",
      "\n",
      "Unique values for the highest_qualification column.\n",
      "['No Qualification' 'Degree' 'GCSE/CSE' 'GCSE/O Level' 'Other/Sub Degree'\n",
      " 'A Levels' 'ONC/BTEC' 'Higher/Sub Degree']\n",
      "\n",
      "Unique values for the nationality column.\n",
      "['British' 'English' 'Welsh' 'Irish' 'Scottish' 'Other' 'Unknown'\n",
      " 'Refused']\n",
      "\n",
      "Unique values for the gross_income column.\n",
      "['Under 2,600' 'Above 36,400' '2,600 to 5,200' '5,200 to 10,400' 'Refused'\n",
      " '15,600 to 20,800' '20,800 to 28,600' '10,400 to 15,600'\n",
      " '28,600 to 36,400' 'Unknown']\n",
      "\n",
      "Unique values for the region column.\n",
      "['The North' 'Midlands & East Anglia' 'London' 'South East' 'South West'\n",
      " 'Wales' 'Scotland']\n",
      "\n",
      "Unique values for the smoke column.\n",
      "['Yes']\n",
      "\n",
      "Unique values for the type column.\n",
      "['Packets' 'Hand-Rolled' 'Both/Mainly Packets' 'Both/Mainly Hand-Rolled']\n",
      "\n"
     ]
    }
   ],
   "source": [
    "for col in ['sex', 'marital_status', 'highest_qualification', 'nationality', 'gross_income', 'region', 'smoke', 'type']:\n",
    "    print('Unique values for the '+col+' column.')\n",
    "    print(df[col].unique())\n",
    "    print()"
   ]
  },
  {
   "cell_type": "markdown",
   "metadata": {},
   "source": [
    "While we see that some of these categorical variables have a 'Unknown' value, we'd like to keep these values. Finally, let's check to make sure that there are no NaN values in all of our columns."
   ]
  },
  {
   "cell_type": "code",
   "execution_count": 6,
   "metadata": {},
   "outputs": [
    {
     "data": {
      "text/plain": [
       "sex                      0\n",
       "age                      0\n",
       "marital_status           0\n",
       "highest_qualification    0\n",
       "nationality              0\n",
       "gross_income             0\n",
       "region                   0\n",
       "smoke                    0\n",
       "amt_weekends             0\n",
       "amt_weekdays             0\n",
       "type                     0\n",
       "dtype: int64"
      ]
     },
     "execution_count": 6,
     "metadata": {},
     "output_type": "execute_result"
    }
   ],
   "source": [
    "df.isna().sum()"
   ]
  },
  {
   "cell_type": "markdown",
   "metadata": {},
   "source": [
    "There are no NaN values in any of our columns. Thus, (as long as we don't consider 'Unknown' to be a 'missing value', this dataset does not contain any missing values."
   ]
  },
  {
   "cell_type": "markdown",
   "metadata": {},
   "source": [
    "## 2. Population Mean Inference\n",
    "\n",
    "We would first like to conduct inference on the average number of cigarettes ALL UK smokers smoke on the weekends.\n",
    "\n",
    "### 2.1. Conditions for Inference\n",
    "\n",
    "First, check the conditions for conducting inference on this population mean."
   ]
  },
  {
   "cell_type": "markdown",
   "metadata": {},
   "source": [
    "1. The sample is randomly collected from the population of all U.K. smokers.\n",
    "2. The sample size n=421 <10% of the UK smoker population. \n",
    "3. The sample size is n = 421 >30 OR <strike>the population distribution is normal</strike>\n",
    "\n",
    "(We can infer that the population distribution of cigarettes smoked on the weekend by all U.K. smokers is not normal, because the sample distribution is not normal as shown in the histogram below).\n",
    "\n",
    "Thus because the conditions are met, we are allowed to conduct inference on the population mean number of cigarettes smoked on the weekends for all of the UK smokers."
   ]
  },
  {
   "cell_type": "code",
   "execution_count": 7,
   "metadata": {},
   "outputs": [
    {
     "data": {
      "image/png": "[encoded data removed]",
      "text/plain": [
       "<Figure size 432x288 with 1 Axes>"
      ]
     },
     "metadata": {
      "needs_background": "light"
     },
     "output_type": "display_data"
    }
   ],
   "source": [
    "df['amt_weekends'].hist(color='orange')\n",
    "plt.title('Sample Distribution \\n of Amount of Cigarettes Smoked on the Weekend')\n",
    "plt.xlabel('Cigarettes Smoked on Weekend')\n",
    "plt.ylabel('Frequency')\n",
    "plt.show()"
   ]
  },
  {
   "cell_type": "markdown",
   "metadata": {},
   "source": [
    "### 2.2. 90% Confidence Interval\n",
    "Next, calculate a 90% confidence interval for this population mean."
   ]
  },
  {
   "cell_type": "markdown",
   "metadata": {},
   "source": [
    "Because we don't know $\\sigma$ (the population standard deviation), we must use $s$ instead of $\\sigma$ and use the t distribution (with $df=n-1=421-1$ degrees of freedom) for the critical value instead of the z-distribution (ie. standard normal distribution)."
   ]
  },
  {
   "cell_type": "code",
   "execution_count": 8,
   "metadata": {},
   "outputs": [
    {
     "name": "stdout",
     "output_type": "stream",
     "text": [
      "n: 421\n",
      "sample mean: 13.750593824228028\n",
      "sample standard deviation: 9.388292145456372\n"
     ]
    }
   ],
   "source": [
    "#n\n",
    "n=421\n",
    "print('n:',n)\n",
    "\n",
    "# sample mean\n",
    "sample_mean=df['amt_weekdays'].mean()\n",
    "print('sample mean:', sample_mean)\n",
    "\n",
    "\n",
    "# sample standard deviation\n",
    "sample_std=df['amt_weekdays'].std()\n",
    "print('sample standard deviation:', sample_std)"
   ]
  },
  {
   "cell_type": "code",
   "execution_count": 9,
   "metadata": {},
   "outputs": [
    {
     "name": "stdout",
     "output_type": "stream",
     "text": [
      "critical_value 1.6484897130506961\n"
     ]
    }
   ],
   "source": [
    "# Critical Value\n",
    "critical_value=t.ppf(0.95, df=n-1)\n",
    "print('critical_value', critical_value)"
   ]
  },
  {
   "cell_type": "code",
   "execution_count": 10,
   "metadata": {},
   "outputs": [
    {
     "name": "stdout",
     "output_type": "stream",
     "text": [
      "90% Confidence Interval\n",
      "12.996315219539397 14.50487242891666\n"
     ]
    }
   ],
   "source": [
    "# Confidence interval lower bound\n",
    "cl_lower=sample_mean-critical_value*sample_std/np.sqrt(n)\n",
    "\n",
    "# Confidence interval upper bound\n",
    "cl_upper=sample_mean+critical_value*sample_std/np.sqrt(n)\n",
    "\n",
    "print('90% Confidence Interval')\n",
    "print(cl_lower,cl_upper)"
   ]
  },
  {
   "cell_type": "markdown",
   "metadata": {},
   "source": [
    "### 2.3 Confidence Interval Interpretation\n",
    "\n",
    "Put this confidence interval into words (ie. interpret it)."
   ]
  },
  {
   "cell_type": "markdown",
   "metadata": {},
   "source": [
    "We are 90% confident that the average number of cigarattes smoked by all people in the UK on a weekend is between 12.996 and 14.505."
   ]
  },
  {
   "cell_type": "markdown",
   "metadata": {},
   "source": [
    "### 2.4. Confidence Interval Success Rate\n",
    "\n",
    "If we were to collect 1000 random samples, each of size n=421 of UK smokers with replacement, and create a 90% confidence interval with each of these random samples for the average number of weekend cigarettes smoked by all UK smokers, what percent of these confidence intervals would we expect to contain the *actual* average number of weekend cigarettes smoked by all UK smokers?"
   ]
  },
  {
   "cell_type": "markdown",
   "metadata": {},
   "source": [
    "900=0.90*1000"
   ]
  },
  {
   "cell_type": "markdown",
   "metadata": {},
   "source": [
    "### 2.5 Hypothesis Testing\n",
    "We would like to test if the average UK smoker smokes a number of weekend cigarattes that is different than the amount in a general pack of cigarettes (ie 20). \n",
    "\n",
    "#### 2.5.1. Hypotheses\n",
    "Formulate the hypotheses that would test this claim."
   ]
  },
  {
   "cell_type": "markdown",
   "metadata": {},
   "source": [
    "$H_0: \\mu=20$\n",
    "\n",
    "$H_A: \\mu\\neq 20$"
   ]
  },
  {
   "cell_type": "markdown",
   "metadata": {},
   "source": [
    "#### 2.5.2. Evaluating with the confidence interval\n",
    "\n",
    "Evaluate these hypotheses with the 90% confidence interval."
   ]
  },
  {
   "cell_type": "markdown",
   "metadata": {},
   "source": [
    "The null value ($\\mu=20$) is not inside the 90% confidence interval, therefore we reject the null hypothesis. Thus there is sufficient evidence to suggest that the average UK smoker smokes a number of weekend cigarettes that is not equal to 20."
   ]
  },
  {
   "cell_type": "markdown",
   "metadata": {},
   "source": [
    "### 2.5.3 Evaluating with a p-value\n",
    "\n",
    "Evaluate these hypotheses using a p-value and and $\\alpha=0.10$."
   ]
  },
  {
   "cell_type": "code",
   "execution_count": 11,
   "metadata": {},
   "outputs": [
    {
     "data": {
      "text/plain": [
       "-13.658191720403268"
      ]
     },
     "execution_count": 11,
     "metadata": {},
     "output_type": "execute_result"
    }
   ],
   "source": [
    "null_value=20\n",
    "\n",
    "test_stat=(sample_mean-null_value)/(sample_std/np.sqrt(n))\n",
    "test_stat"
   ]
  },
  {
   "cell_type": "code",
   "execution_count": 12,
   "metadata": {},
   "outputs": [
    {
     "data": {
      "text/plain": [
       "0.0"
      ]
     },
     "execution_count": 12,
     "metadata": {},
     "output_type": "execute_result"
    }
   ],
   "source": [
    "p_value=2*(1-t.cdf(np.abs(test_stat), df=n-1))\n",
    "p_value"
   ]
  },
  {
   "cell_type": "markdown",
   "metadata": {},
   "source": [
    "Because the $p-value\\approx 0<\\alpha=.10$, we reject the null hypothesis. Thus there is sufficient evidence to suggest that the average UK smoker smokes a number of weekend cigarettes that is not equal to 20."
   ]
  },
  {
   "cell_type": "markdown",
   "metadata": {},
   "source": [
    "## 3. Conceptual/Theory Questions\n",
    "\n",
    "### 3.1 Standard Normal Distribution and t-distribution Theory/Properties Questions \n",
    "\n",
    "#### 3.1.1. Does the standard normal distribution or the t-distribution have thicker tails?\n",
    "<br/>\n",
    "<br/>\n",
    "<br/>\n",
    "<br/>\n",
    "<br/>\n",
    "<br/>\n",
    "<br/>\n",
    "<br/>\n",
    "<br/>\n",
    "<br/>\n",
    "<br/>\n",
    "<br/>\n",
    "<br/>\n",
    "<br/>\n",
    "\n"
   ]
  },
  {
   "cell_type": "markdown",
   "metadata": {},
   "source": [
    "The t-distribution."
   ]
  },
  {
   "cell_type": "markdown",
   "metadata": {},
   "source": [
    "#### 3.1.2. In general, (all else held equal) which will produce a wider 95% confidence interval: one created with a critical value that is an observation from the standard normal (z) distribution or one created with a critical value that is an observation from the t-distribution?\n",
    "<br/>\n",
    "<br/>\n",
    "<br/>\n",
    "<br/>\n",
    "<br/>\n",
    "<br/>\n",
    "<br/>\n",
    "<br/>\n",
    "<br/>\n",
    "<br/>\n",
    "<br/>\n",
    "<br/>\n",
    "<br/>\n",
    "<br/>\n",
    "<br/>\n",
    "<br/>"
   ]
  },
  {
   "cell_type": "markdown",
   "metadata": {},
   "source": [
    "Because the t-distribution has thicker tails, the critical value (t) (and -t) have to be further away from the center of the distribution (ie 0) in order to encapsulate 95% in the middle. Thus the critical value (t) from the t-distribution will be larger than the critical value (Z) from the z-distribution. Thus the 95% confidence interval will be wider, all else held equal."
   ]
  },
  {
   "cell_type": "markdown",
   "metadata": {},
   "source": [
    "## 4. Population Mean Difference Inference\n",
    "\n",
    "Next, we would first like to conduct inference on the difference between the average number of cigarettes ALL female UK smokers smoke on the weekends and the average number of cigarettes ALL male UK smokers smoke on the weekends.\n",
    "\n",
    "### 4.1. Conditions for Inference\n",
    "First, check the conditions on conducting infererence on the difference between the average number of cigarettes ALL female UK smokers smoke on the weekends and the average number of cigarettes ALL male UK smokers smoke on the weekends."
   ]
  },
  {
   "cell_type": "markdown",
   "metadata": {},
   "source": [
    "1. The sample of UK females is randomly collected from the population of all U.K. female smokers.\n",
    "2. The sample size n=234 <10% of the UK female smoker population. \n",
    "3. The sample size of females is n = 234 >30 OR <strike>U.K. female population distribution of amount smoked on weekends is normal</strike>\n",
    "\n",
    "4. The sample of UK males is randomly collected.\n",
    "5. The sample size n=187 <10% of the UK males smoker population. \n",
    "6. The sample size of males is n = 187 >30 OR <strike>U.K. male population distribution of amount smoked on weekends is normal</strike>\n",
    "\n",
    "7. We should also check that the males and females were collected independently in this study. (For instance, if the males and females in this sample were married to to eachother or siblings (for instance), then the male and female respondents would not be independent of each other).\n",
    "\n",
    "Thus because the conditions are met, we are allowed to conduct inference on the difference between the average number of cigarettes ALL female UK smokers smoke on the weekends and the average number of cigarettes ALL male UK smokers smoke on the weekends.\n",
    "\n",
    "*(We can infer that the male and female population distributions are not normal because the male and female sample distributions are not normal as shown in the histograms below).*"
   ]
  },
  {
   "cell_type": "code",
   "execution_count": 13,
   "metadata": {},
   "outputs": [
    {
     "data": {
      "image/png": "[encoded data removed]",
      "text/plain": [
       "<Figure size 432x288 with 1 Axes>"
      ]
     },
     "metadata": {
      "needs_background": "light"
     },
     "output_type": "display_data"
    }
   ],
   "source": [
    "df['amt_weekends'][df['sex']=='Female'].hist(color='orange')\n",
    "plt.title('Female Sample Distribution \\n of Amount of Cigarettes Smoked on the Weekend')\n",
    "plt.xlabel('Cigarettes Smoked on Weekend')\n",
    "plt.ylabel('Frequency')\n",
    "plt.show()"
   ]
  },
  {
   "cell_type": "code",
   "execution_count": 14,
   "metadata": {},
   "outputs": [
    {
     "data": {
      "image/png": "[encoded data removed]",
      "text/plain": [
       "<Figure size 432x288 with 1 Axes>"
      ]
     },
     "metadata": {
      "needs_background": "light"
     },
     "output_type": "display_data"
    }
   ],
   "source": [
    "df['amt_weekends'][df['sex']=='Male'].hist(color='orange')\n",
    "plt.title('Male Sample Distribution \\n of Amount of Cigarettes Smoked on the Weekend')\n",
    "plt.xlabel('Cigarettes Smoked on Weekend')\n",
    "plt.ylabel('Frequency')\n",
    "plt.show()"
   ]
  },
  {
   "cell_type": "markdown",
   "metadata": {},
   "source": [
    "### 4.2. 99% Confidence Interval\n",
    "Next, calculate a 99% confidence interval for this population mean difference."
   ]
  },
  {
   "cell_type": "markdown",
   "metadata": {},
   "source": [
    "Because we don't know $\\sigma_f$ and $\\sigma_m$ (the population standard deviations), we must use $s_f$ and $s_m$ instead and use the t distribution (with $df=min(n_f-1,n_m-1)=min(234-1,187-1)=186$ degrees of freedom) for the critical value instead of the z-distribution (ie. standard normal distribution)."
   ]
  },
  {
   "cell_type": "code",
   "execution_count": 15,
   "metadata": {},
   "outputs": [
    {
     "data": {
      "text/plain": [
       "Female    234\n",
       "Male      187\n",
       "Name: sex, dtype: int64"
      ]
     },
     "execution_count": 15,
     "metadata": {},
     "output_type": "execute_result"
    }
   ],
   "source": [
    "df['sex'].value_counts()"
   ]
  },
  {
   "cell_type": "code",
   "execution_count": 16,
   "metadata": {},
   "outputs": [
    {
     "name": "stdout",
     "output_type": "stream",
     "text": [
      "nf:  234\n",
      "nm:  187\n",
      "critical_value 2.6025196219606745\n",
      "sample mean females 12.02991452991453\n",
      "sample mean males 15.903743315508022\n",
      "sample standard deviation females 7.353370836127316\n",
      "sample standard deviation male 11.086237564277981\n",
      "standard error 0.942508026367131\n"
     ]
    }
   ],
   "source": [
    "\n",
    "#n\n",
    "nf=234\n",
    "nm=187\n",
    "print('nf: ',nf)\n",
    "print('nm: ',nm)\n",
    "\n",
    "\n",
    "# Critical Value\n",
    "critical_value=t.ppf(0.995, df=186)\n",
    "print('critical_value', critical_value)\n",
    "\n",
    "# sample mean\n",
    "sample_mean_f=df[df['sex']=='Female']['amt_weekdays'].mean()\n",
    "print('sample mean females', sample_mean_f)\n",
    "sample_mean_m=df[df['sex']=='Male']['amt_weekdays'].mean()\n",
    "print('sample mean males', sample_mean_m)\n",
    "\n",
    "# sample standard deviation\n",
    "sample_std_f=df[df['sex']=='Female']['amt_weekdays'].std()\n",
    "print('sample standard deviation females', sample_std_f)\n",
    "sample_std_m=df[df['sex']=='Male']['amt_weekdays'].std()\n",
    "print('sample standard deviation male', sample_std_m)\n",
    "\n",
    "# standard error\n",
    "se=np.sqrt(sample_std_f**2/nf+sample_std_m**2/nm)\n",
    "print('standard error', se)"
   ]
  },
  {
   "cell_type": "code",
   "execution_count": 17,
   "metadata": {},
   "outputs": [
    {
     "name": "stdout",
     "output_type": "stream",
     "text": [
      "99% Confidence Interval\n",
      "-6.32672441806938 -1.4209331531176046\n"
     ]
    }
   ],
   "source": [
    "# Confidence interval lower bound\n",
    "cl_lower=(sample_mean_f-sample_mean_m)-critical_value*se\n",
    "\n",
    "# Confidence interval upper bound\n",
    "cl_upper=(sample_mean_f-sample_mean_m)+critical_value*se\n",
    "\n",
    "print('99% Confidence Interval')\n",
    "print(cl_lower,cl_upper)"
   ]
  },
  {
   "cell_type": "markdown",
   "metadata": {},
   "source": [
    "### 4.3. Put this confidence interval into words (ie. interpret it)."
   ]
  },
  {
   "cell_type": "markdown",
   "metadata": {},
   "source": [
    "We are 99% confident that the difference in the average number of cigarattes smoked by all females in the UK on a weekend and the average number of cigarattes smoked by all males in the UK on a weekend is between -6.327 and -1.421."
   ]
  },
  {
   "cell_type": "markdown",
   "metadata": {},
   "source": [
    "### 4.4 Hypothesis Testing\n",
    "We would like to test if there is a difference in the average number of weekend cigarettes females in the UK smoke vs the average number of weekend cigarettes males in the UK smoke. \n",
    "\n",
    "#### 4.4.1. Hypotheses\n",
    "Formulate the hypotheses that would test this claim. Make sure that you define any parameters that you use."
   ]
  },
  {
   "cell_type": "markdown",
   "metadata": {},
   "source": [
    "$H_0: \\mu_f-\\mu_m=0$\n",
    "\n",
    "$H_A: \\mu_f-\\mu_m\\neq 0$\n",
    "\n",
    "* $\\mu_F$ = the average number of cigarettes that all female U.K. smokers smoke on the weekends\n",
    "* $\\mu_M$ = the average number of cigarettes that all male U.K. smokers smoke on the weekends"
   ]
  },
  {
   "cell_type": "markdown",
   "metadata": {},
   "source": [
    "#### 4.4.2 Evaluate these hypotheses with the 99% confidence interval."
   ]
  },
  {
   "cell_type": "markdown",
   "metadata": {},
   "source": [
    "The null value ($\\mu_{f}-\\mu_m=0$) is not inside the 99% confidence interval, therefore we reject the null hypothesis. Thus there is sufficient evidence to suggest  there is a difference in the average number of weekend cigarettes females in the UK smoke vs the average number of weekend cigarettes males in the UK smoke. In other words, there is sufficient evidence to suggest that there is an association between sex and weekend smoking habits in the UK."
   ]
  },
  {
   "cell_type": "markdown",
   "metadata": {},
   "source": [
    "#### 4.4.3 Evaluate these hypotheses using a p-value and $\\alpha=0.01$."
   ]
  },
  {
   "cell_type": "code",
   "execution_count": 18,
   "metadata": {},
   "outputs": [
    {
     "name": "stdout",
     "output_type": "stream",
     "text": [
      "Test Statistic -4.11012816572507\n"
     ]
    }
   ],
   "source": [
    "test_stat=((sample_mean_f-sample_mean_m)-0)/se\n",
    "print('Test Statistic', test_stat)"
   ]
  },
  {
   "cell_type": "code",
   "execution_count": 19,
   "metadata": {},
   "outputs": [
    {
     "name": "stdout",
     "output_type": "stream",
     "text": [
      "p-value 5.925187558109002e-05\n"
     ]
    }
   ],
   "source": [
    "p_value=2*(1-t.cdf(np.abs(test_stat), df=186))\n",
    "print('p-value', p_value)"
   ]
  },
  {
   "cell_type": "markdown",
   "metadata": {},
   "source": [
    "Because the $p-value\\approx 0 <\\alpha=.01$, we reject the null hypothesis. Thus there is sufficient evidence to there is a difference in the average number of weekend cigarettes females in the UK smoke vs the average number of weekend cigarettes males in the UK smoke. In other words, there is sufficient evidence to suggest that there is an association between sex and weekend smoking habits in the UK."
   ]
  },
  {
   "cell_type": "markdown",
   "metadata": {},
   "source": [
    "## 5. Population Proportion Inference\n",
    "\n",
    "We would first like to conduct inference on the proportion of all UK smokers that smoke packets.\n",
    "\n",
    "### 5.1. 95% Confidence Interval\n",
    "\n",
    "First, we would like to create a confidence interval for the proportion of all U.K. smokers that smoke packets. **First, let's assume that we will not be using this confidence interval to evaluate any hypotheses.**\n",
    "\n",
    "#### 5.1.1 Conditions for the Confidence Interval\n",
    "First, check the conditions for creating a confidence interval (first assuming we have no hypothesis we'd like to test)."
   ]
  },
  {
   "cell_type": "markdown",
   "metadata": {},
   "source": [
    "<u>Because we are not assuming that there is a hypothesis test (yet), we will use $\\hat{p}$ (in place of $p$ which we don't know) in the conditions as well as the standard error.</u>\n",
    "\n",
    "1. The sample is randomly collected from the population of all UK smokers.\n",
    "2. The sample size n=421 <10% of the UK smoker population. \n",
    "3. The sample size is $np \\approx n\\hat{p} = 421(0.705) \\geq 10$ and $n(1-p)\\approx n(1-\\hat{p})=421(1-\\hat{p})\\geq 10$\n",
    "\n",
    "\n",
    "Thus because the conditions are met, we are allowed to create a confidence interval for the proportion of all UK smokers that smoke packets."
   ]
  },
  {
   "cell_type": "code",
   "execution_count": 20,
   "metadata": {},
   "outputs": [
    {
     "data": {
      "text/plain": [
       "0.7054631828978623"
      ]
     },
     "execution_count": 20,
     "metadata": {},
     "output_type": "execute_result"
    }
   ],
   "source": [
    "sample_proportion = df[df['type']=='Packets'].shape[0]/df.shape[0]\n",
    "sample_proportion"
   ]
  },
  {
   "cell_type": "markdown",
   "metadata": {},
   "source": [
    "#### 5.1.2. Next, calculate a 95% confidence interval for this population proportion."
   ]
  },
  {
   "cell_type": "markdown",
   "metadata": {},
   "source": [
    "We use the z-distribution for inference on a population proportion."
   ]
  },
  {
   "cell_type": "code",
   "execution_count": 21,
   "metadata": {},
   "outputs": [
    {
     "name": "stdout",
     "output_type": "stream",
     "text": [
      "n 421\n",
      "critical_value 1.959963984540054\n",
      "sample proportion 0.7054631828978623\n",
      "standard error 0.022216002902696867\n"
     ]
    }
   ],
   "source": [
    "#n\n",
    "n=421\n",
    "print('n',n)\n",
    "\n",
    "\n",
    "# Critical Value\n",
    "critical_value=norm.ppf(0.975)\n",
    "print('critical_value', critical_value)\n",
    "\n",
    "# sample proportion\n",
    "sample_proportion=(df['type']=='Packets').sum()/n\n",
    "print('sample proportion', sample_proportion)\n",
    "\n",
    "# standard error\n",
    "se=np.sqrt(sample_proportion*(1-sample_proportion)/n)\n",
    "print('standard error', se)"
   ]
  },
  {
   "cell_type": "code",
   "execution_count": 22,
   "metadata": {},
   "outputs": [
    {
     "name": "stdout",
     "output_type": "stream",
     "text": [
      "95% Confidence Interval\n",
      "0.6619206173281391 0.7490057484675854\n"
     ]
    }
   ],
   "source": [
    "# Confidence interval lower bound\n",
    "cl_lower=sample_proportion-critical_value*se\n",
    "\n",
    "# Confidence interval upper bound\n",
    "cl_upper=sample_proportion+critical_value*se\n",
    "\n",
    "print('95% Confidence Interval')\n",
    "print(cl_lower,cl_upper)"
   ]
  },
  {
   "cell_type": "markdown",
   "metadata": {},
   "source": [
    "#### 5.1.3 Put this confidence interval into words (ie. interpret it)."
   ]
  },
  {
   "cell_type": "markdown",
   "metadata": {},
   "source": [
    "We are 99% confident that the proportion of UK smokers that smoke packets is between 66.19% and 74.90%."
   ]
  },
  {
   "cell_type": "markdown",
   "metadata": {},
   "source": [
    "### 5.2. Hypothesis Testing\n",
    "\n",
    "#### 5.2.1. Next, we would like to test if the proportion of UK smokers smoke packets is different from 70%. Formulate the hypotheses that would test this claim.\n",
    "\n",
    "Make sure that you define any parameters that you use."
   ]
  },
  {
   "cell_type": "markdown",
   "metadata": {},
   "source": [
    "$H_0: p=0.7$\n",
    "\n",
    "$H_A: p \\neq 0.7$\n",
    "\n",
    "$p=$ the proportion of all U.K. smokers that smoke packets"
   ]
  },
  {
   "cell_type": "markdown",
   "metadata": {},
   "source": [
    "#### 5.2.2. Next, check the conditions for conducting this hypothesis test."
   ]
  },
  {
   "cell_type": "markdown",
   "metadata": {},
   "source": [
    "<u>Because in our hypothesis tests we assume $H_0: p=0.7$, we will assume that $p=0.7$ in the conditions as well as the standard error in this hyopthesis test.</u>\n",
    "\n",
    "1. The sample is randomly sampled from the population of all UK smokers.\n",
    "2. The sample size n=421 <10% of the UK smoker population. \n",
    "3. The sample size is $np=np_0 = 421(0.70) \\geq 10$ and $n(1-p)=n(1-p_0)=421(1-0.70)\\geq 10$\n",
    "\n",
    "\n",
    "Thus because the conditions are met, we are allowed to conduct this hypothesis test."
   ]
  },
  {
   "cell_type": "markdown",
   "metadata": {},
   "source": [
    "#### 5.2.3. Next, calculate a 95% confidence interval for this population proportion, *that will be used to evaluate our hypotheses above.*"
   ]
  },
  {
   "cell_type": "markdown",
   "metadata": {},
   "source": [
    "This will be the same calculations as before, except now we will use the null value $p=p_0=0.70$ in the standard error (instead of the sample proportion $\\hat{p}$.)"
   ]
  },
  {
   "cell_type": "code",
   "execution_count": 23,
   "metadata": {},
   "outputs": [],
   "source": [
    "#null value\n",
    "p_0=0.70"
   ]
  },
  {
   "cell_type": "code",
   "execution_count": 24,
   "metadata": {},
   "outputs": [
    {
     "name": "stdout",
     "output_type": "stream",
     "text": [
      "n 421\n",
      "critical_value 1.959963984540054\n",
      "null value 0.7\n",
      "standard error 0.02233410735946129\n"
     ]
    }
   ],
   "source": [
    "\n",
    "#n\n",
    "n=421\n",
    "print('n',n)\n",
    "\n",
    "# Critical Value\n",
    "critical_value=norm.ppf(0.975)\n",
    "print('critical_value', critical_value)\n",
    "\n",
    "print('null value', p_0)\n",
    "\n",
    "# standard error\n",
    "se=np.sqrt(p_0*(1-p_0)/n)\n",
    "print('standard error', se)"
   ]
  },
  {
   "cell_type": "code",
   "execution_count": 25,
   "metadata": {},
   "outputs": [
    {
     "name": "stdout",
     "output_type": "stream",
     "text": [
      "99% Confidence Interval\n",
      "0.6616891368464671 0.7492372289492574\n"
     ]
    }
   ],
   "source": [
    "# Confidence interval lower bound\n",
    "cl_lower=sample_proportion-critical_value*se\n",
    "\n",
    "# Confidence interval upper bound\n",
    "cl_upper=sample_proportion+critical_value*se\n",
    "\n",
    "print('99% Confidence Interval')\n",
    "print(cl_lower,cl_upper)"
   ]
  },
  {
   "cell_type": "markdown",
   "metadata": {},
   "source": [
    "#### 5.2.4. Evaluate these hypotheses with the 95% confidence interval."
   ]
  },
  {
   "cell_type": "markdown",
   "metadata": {},
   "source": [
    "The null value ($p=0.70$) is inside the 95% confidence interval, therefore we fail to reject the null hypothesis. Thus there is not sufficient evidence to suggest that the proportion of UK smokers that smoke packets is different from 70%."
   ]
  },
  {
   "cell_type": "markdown",
   "metadata": {},
   "source": [
    "#### 5.2.5. Evaluate these hypotheses using a p-value and $\\alpha=0.05$."
   ]
  },
  {
   "cell_type": "code",
   "execution_count": 26,
   "metadata": {},
   "outputs": [
    {
     "data": {
      "text/plain": [
       "0.2446116520321979"
      ]
     },
     "execution_count": 26,
     "metadata": {},
     "output_type": "execute_result"
    }
   ],
   "source": [
    "test_stat=(sample_proportion-.7)/se\n",
    "test_stat"
   ]
  },
  {
   "cell_type": "code",
   "execution_count": 27,
   "metadata": {},
   "outputs": [
    {
     "data": {
      "text/plain": [
       "0.8067571410919188"
      ]
     },
     "execution_count": 27,
     "metadata": {},
     "output_type": "execute_result"
    }
   ],
   "source": [
    "p_value=2*(1-norm.cdf(np.abs(test_stat)))\n",
    "p_value"
   ]
  },
  {
   "cell_type": "markdown",
   "metadata": {},
   "source": [
    "Because the $p-value=0.807\\geq \\alpha=.05$, we fail to reject the null hypothesis. Thus there is not sufficient evidence to suggest that the proportion of UK smokers that smoke packets is different from 70%."
   ]
  },
  {
   "cell_type": "markdown",
   "metadata": {},
   "source": [
    "## 6. Population Proportion Difference Inference\n",
    "\n",
    "Next we would like to see if there is a difference in the proportion of Scottish smokers that smoke packets and the proportion of non-Scottish smokers that smoke packets."
   ]
  },
  {
   "cell_type": "markdown",
   "metadata": {},
   "source": [
    "### 6.1. New Columns\n",
    "\n",
    "First create a new column in a dataframe that labels each U.K. smoker as either 'Scottish' or 'Not_Scottish'.\n",
    "\n",
    "Second, create a new column in a dataframe that labels each U.K. smoker as somking either 'Packets' or 'Not_Packets'.\n"
   ]
  },
  {
   "cell_type": "code",
   "execution_count": 28,
   "metadata": {},
   "outputs": [
    {
     "data": {
      "text/plain": [
       "English     202\n",
       "British     129\n",
       "Scottish     45\n",
       "Welsh        16\n",
       "Other        14\n",
       "Irish        11\n",
       "Refused       3\n",
       "Unknown       1\n",
       "Name: nationality, dtype: int64"
      ]
     },
     "execution_count": 28,
     "metadata": {},
     "output_type": "execute_result"
    }
   ],
   "source": [
    "df['nationality'].value_counts()"
   ]
  },
  {
   "cell_type": "code",
   "execution_count": 29,
   "metadata": {},
   "outputs": [],
   "source": [
    "df['is_scottish']=df['nationality'].map({'Scottish': 'Scottish', 'English': 'Not_Scottish', 'British': 'Not_Scottish',\n",
    "                                         'Welsh': 'Not_Scottish', 'Other': 'Not_Scottish', 'Irish': 'Not_Scottish', \n",
    "                                        'Refused': 'Not_Scottish', 'Unknown': 'Not_Scottish'})"
   ]
  },
  {
   "cell_type": "code",
   "execution_count": 30,
   "metadata": {},
   "outputs": [
    {
     "data": {
      "text/plain": [
       "Packets                    297\n",
       "Hand-Rolled                 72\n",
       "Both/Mainly Packets         42\n",
       "Both/Mainly Hand-Rolled     10\n",
       "Name: type, dtype: int64"
      ]
     },
     "execution_count": 30,
     "metadata": {},
     "output_type": "execute_result"
    }
   ],
   "source": [
    "df['type'].value_counts()"
   ]
  },
  {
   "cell_type": "code",
   "execution_count": 31,
   "metadata": {},
   "outputs": [
    {
     "data": {
      "text/html": [
       "<div>\n",
       "<style scoped>\n",
       "    .dataframe tbody tr th:only-of-type {\n",
       "        vertical-align: middle;\n",
       "    }\n",
       "\n",
       "    .dataframe tbody tr th {\n",
       "        vertical-align: top;\n",
       "    }\n",
       "\n",
       "    .dataframe thead th {\n",
       "        text-align: right;\n",
       "    }\n",
       "</style>\n",
       "<table border=\"1\" class=\"dataframe\">\n",
       "  <thead>\n",
       "    <tr style=\"text-align: right;\">\n",
       "      <th></th>\n",
       "      <th>sex</th>\n",
       "      <th>age</th>\n",
       "      <th>marital_status</th>\n",
       "      <th>highest_qualification</th>\n",
       "      <th>nationality</th>\n",
       "      <th>gross_income</th>\n",
       "      <th>region</th>\n",
       "      <th>smoke</th>\n",
       "      <th>amt_weekends</th>\n",
       "      <th>amt_weekdays</th>\n",
       "      <th>type</th>\n",
       "      <th>is_scottish</th>\n",
       "      <th>is_packet</th>\n",
       "    </tr>\n",
       "  </thead>\n",
       "  <tbody>\n",
       "    <tr>\n",
       "      <th>0</th>\n",
       "      <td>Female</td>\n",
       "      <td>42</td>\n",
       "      <td>Single</td>\n",
       "      <td>No Qualification</td>\n",
       "      <td>British</td>\n",
       "      <td>Under 2,600</td>\n",
       "      <td>The North</td>\n",
       "      <td>Yes</td>\n",
       "      <td>12</td>\n",
       "      <td>12</td>\n",
       "      <td>Packets</td>\n",
       "      <td>Not_Scottish</td>\n",
       "      <td>Packets</td>\n",
       "    </tr>\n",
       "    <tr>\n",
       "      <th>1</th>\n",
       "      <td>Male</td>\n",
       "      <td>53</td>\n",
       "      <td>Married</td>\n",
       "      <td>Degree</td>\n",
       "      <td>British</td>\n",
       "      <td>Above 36,400</td>\n",
       "      <td>The North</td>\n",
       "      <td>Yes</td>\n",
       "      <td>6</td>\n",
       "      <td>6</td>\n",
       "      <td>Packets</td>\n",
       "      <td>Not_Scottish</td>\n",
       "      <td>Packets</td>\n",
       "    </tr>\n",
       "    <tr>\n",
       "      <th>2</th>\n",
       "      <td>Male</td>\n",
       "      <td>40</td>\n",
       "      <td>Single</td>\n",
       "      <td>GCSE/CSE</td>\n",
       "      <td>English</td>\n",
       "      <td>2,600 to 5,200</td>\n",
       "      <td>The North</td>\n",
       "      <td>Yes</td>\n",
       "      <td>8</td>\n",
       "      <td>8</td>\n",
       "      <td>Hand-Rolled</td>\n",
       "      <td>Not_Scottish</td>\n",
       "      <td>Not_Packets</td>\n",
       "    </tr>\n",
       "    <tr>\n",
       "      <th>3</th>\n",
       "      <td>Female</td>\n",
       "      <td>41</td>\n",
       "      <td>Married</td>\n",
       "      <td>No Qualification</td>\n",
       "      <td>English</td>\n",
       "      <td>5,200 to 10,400</td>\n",
       "      <td>The North</td>\n",
       "      <td>Yes</td>\n",
       "      <td>15</td>\n",
       "      <td>12</td>\n",
       "      <td>Packets</td>\n",
       "      <td>Not_Scottish</td>\n",
       "      <td>Packets</td>\n",
       "    </tr>\n",
       "    <tr>\n",
       "      <th>4</th>\n",
       "      <td>Female</td>\n",
       "      <td>34</td>\n",
       "      <td>Married</td>\n",
       "      <td>GCSE/CSE</td>\n",
       "      <td>British</td>\n",
       "      <td>2,600 to 5,200</td>\n",
       "      <td>The North</td>\n",
       "      <td>Yes</td>\n",
       "      <td>6</td>\n",
       "      <td>12</td>\n",
       "      <td>Packets</td>\n",
       "      <td>Not_Scottish</td>\n",
       "      <td>Packets</td>\n",
       "    </tr>\n",
       "  </tbody>\n",
       "</table>\n",
       "</div>"
      ],
      "text/plain": [
       "      sex  age marital_status highest_qualification nationality  \\\n",
       "0  Female   42         Single      No Qualification     British   \n",
       "1    Male   53        Married                Degree     British   \n",
       "2    Male   40         Single              GCSE/CSE     English   \n",
       "3  Female   41        Married      No Qualification     English   \n",
       "4  Female   34        Married              GCSE/CSE     British   \n",
       "\n",
       "      gross_income     region smoke  amt_weekends  amt_weekdays         type  \\\n",
       "0      Under 2,600  The North   Yes            12            12      Packets   \n",
       "1     Above 36,400  The North   Yes             6             6      Packets   \n",
       "2   2,600 to 5,200  The North   Yes             8             8  Hand-Rolled   \n",
       "3  5,200 to 10,400  The North   Yes            15            12      Packets   \n",
       "4   2,600 to 5,200  The North   Yes             6            12      Packets   \n",
       "\n",
       "    is_scottish    is_packet  \n",
       "0  Not_Scottish      Packets  \n",
       "1  Not_Scottish      Packets  \n",
       "2  Not_Scottish  Not_Packets  \n",
       "3  Not_Scottish      Packets  \n",
       "4  Not_Scottish      Packets  "
      ]
     },
     "execution_count": 31,
     "metadata": {},
     "output_type": "execute_result"
    }
   ],
   "source": [
    "df['is_packet']=df['type'].map({'Packets': 'Packets', 'Hand-Rolled': 'Not_Packets',\n",
    "                                'Both/Mainly Packets': 'Not_Packets', 'Both/Mainly Hand-Rolled': 'Not_Packets'})\n",
    "\n",
    "df.head()"
   ]
  },
  {
   "cell_type": "markdown",
   "metadata": {},
   "source": [
    "### 6.2. Checking Conditions\n",
    "Now, check the conditions for creating a confidence interval for the difference in the proportion of Scottish citizens that smoke packets vs the proportion of non-Scottish citizens that smoke packets."
   ]
  },
  {
   "cell_type": "markdown",
   "metadata": {},
   "source": [
    "1. The sample Scottish citizens that smoke is randomly collected from the population of Scottish smokers.\n",
    "2. The sample size $n_{scot}=45 <10$% of all Scottish citizens that smoke. \n",
    "3. $n_{scot}p_{scot}\\approx n_{scot}\\hat{p}_{scot} = 45(.73) \\geq 10$ and $n_{scot}(1-\\hat{p}_{scot})\\approx n_{scot}(1-p_{scot}) = 45(1-.73) \\geq 10$\n",
    "\n",
    "4. The sample non-Scottish citizens that smoke is randomly collected from the pouplation of non-Scottish UK smokers.\n",
    "5. The sample size $n_{nonscot}=376 <10$% of all non-Scottish citizens that smoke. \n",
    "6. $n_{nonscot}\\hat{p}_{nonscot} = 376(.70) \\geq 10$ and $n_{nonscot}(1-\\hat{p}_{nonscot}) = 376(1-.70) \\geq 10$\n",
    "\n",
    "7. The observtions in the sample of Scottish citizens that smoke is independent of the observations in the sample of non-Scottish citizens that smoke.\n",
    "\n",
    "Thus because the conditions are met, we are allowed to conduct inference on the difference in the proportion of ALL Scottish citizens that smoke packets vs the proportion of ALL non-Scottish citizens that smoke packets."
   ]
  },
  {
   "cell_type": "code",
   "execution_count": 32,
   "metadata": {},
   "outputs": [
    {
     "data": {
      "text/plain": [
       "Not_Scottish    376\n",
       "Scottish         45\n",
       "Name: is_scottish, dtype: int64"
      ]
     },
     "execution_count": 32,
     "metadata": {},
     "output_type": "execute_result"
    }
   ],
   "source": [
    "df['is_scottish'].value_counts()"
   ]
  },
  {
   "cell_type": "code",
   "execution_count": 33,
   "metadata": {},
   "outputs": [
    {
     "data": {
      "text/html": [
       "<div>\n",
       "<style scoped>\n",
       "    .dataframe tbody tr th:only-of-type {\n",
       "        vertical-align: middle;\n",
       "    }\n",
       "\n",
       "    .dataframe tbody tr th {\n",
       "        vertical-align: top;\n",
       "    }\n",
       "\n",
       "    .dataframe thead th {\n",
       "        text-align: right;\n",
       "    }\n",
       "</style>\n",
       "<table border=\"1\" class=\"dataframe\">\n",
       "  <thead>\n",
       "    <tr style=\"text-align: right;\">\n",
       "      <th>is_packet</th>\n",
       "      <th>Not_Packets</th>\n",
       "      <th>Packets</th>\n",
       "    </tr>\n",
       "    <tr>\n",
       "      <th>is_scottish</th>\n",
       "      <th></th>\n",
       "      <th></th>\n",
       "    </tr>\n",
       "  </thead>\n",
       "  <tbody>\n",
       "    <tr>\n",
       "      <th>Not_Scottish</th>\n",
       "      <td>0.297872</td>\n",
       "      <td>0.702128</td>\n",
       "    </tr>\n",
       "    <tr>\n",
       "      <th>Scottish</th>\n",
       "      <td>0.266667</td>\n",
       "      <td>0.733333</td>\n",
       "    </tr>\n",
       "  </tbody>\n",
       "</table>\n",
       "</div>"
      ],
      "text/plain": [
       "is_packet     Not_Packets   Packets\n",
       "is_scottish                        \n",
       "Not_Scottish     0.297872  0.702128\n",
       "Scottish         0.266667  0.733333"
      ]
     },
     "execution_count": 33,
     "metadata": {},
     "output_type": "execute_result"
    }
   ],
   "source": [
    "df_cross=pd.crosstab(df['is_scottish'], df['is_packet'], normalize='index')\n",
    "df_cross"
   ]
  },
  {
   "cell_type": "markdown",
   "metadata": {},
   "source": [
    "### 6.3 Now create a 92% confidence interval for the difference in the proportion of Scottish citizens that smoke packets vs the proportion of non-Scottish citizens that smoke packets."
   ]
  },
  {
   "cell_type": "markdown",
   "metadata": {},
   "source": [
    "We always use the z-distribution for inference on a population proportion differences."
   ]
  },
  {
   "cell_type": "code",
   "execution_count": 34,
   "metadata": {},
   "outputs": [
    {
     "name": "stdout",
     "output_type": "stream",
     "text": [
      "n_scot 45\n",
      "n_not_scot 376\n",
      "critical_value 1.7506860712521692\n",
      "sample_prop_scot 0.7333333333333333\n",
      "sample_prop_non_scot 0.7021276595744681\n",
      "standard error 0.0700136711170732\n"
     ]
    }
   ],
   "source": [
    "\n",
    "#n\n",
    "n_scot=45\n",
    "n_not_scot=376\n",
    "print('n_scot',n_scot)\n",
    "print('n_not_scot',n_not_scot)\n",
    "\n",
    "# Critical Value\n",
    "critical_value=norm.ppf(0.96)\n",
    "print('critical_value', critical_value)\n",
    "\n",
    "# sample proportions\n",
    "sample_prop_scot=df_cross['Packets']['Scottish']\n",
    "print('sample_prop_scot', sample_prop_scot)\n",
    "sample_prop_non_scot=df_cross['Packets']['Not_Scottish']\n",
    "print('sample_prop_non_scot', sample_prop_non_scot)\n",
    "\n",
    "\n",
    "# standard error\n",
    "se=np.sqrt((sample_prop_scot*(1-sample_prop_scot))/n_scot +   (sample_prop_non_scot*(1-sample_prop_non_scot))/n_not_scot)\n",
    "print('standard error', se)"
   ]
  },
  {
   "cell_type": "code",
   "execution_count": 35,
   "metadata": {},
   "outputs": [
    {
     "name": "stdout",
     "output_type": "stream",
     "text": [
      "92% Confidence Interval\n",
      "-0.09136628506302517 0.15377763258075555\n"
     ]
    }
   ],
   "source": [
    "# Confidence interval lower bound\n",
    "cl_lower=(sample_prop_scot-sample_prop_non_scot)-critical_value*se\n",
    "\n",
    "# Confidence interval upper bound\n",
    "cl_upper=(sample_prop_scot-sample_prop_non_scot)+critical_value*se\n",
    "\n",
    "print('92% Confidence Interval')\n",
    "print(cl_lower,cl_upper)"
   ]
  },
  {
   "cell_type": "markdown",
   "metadata": {},
   "source": [
    "### 6.4. Put this confidence interval into words (ie. interpret it)."
   ]
  },
  {
   "cell_type": "markdown",
   "metadata": {},
   "source": [
    "We are 92% confident that the difference in the proportion of Scottish smokers that smoke packets and the proportion of non-Scottish smokers that smoke packets is between -9.1% and 15.4%."
   ]
  },
  {
   "cell_type": "markdown",
   "metadata": {},
   "source": [
    "### 6.5. Hypothesis Testing\n",
    "\n",
    "We would like to test if ther is a difference in the proportion of Scottish smokers that smoke Packets is different than the proportion of non-Scottish smokers that smoke packets. \n",
    "\n",
    "#### 6.5.1. Formulate these hypotheses.\n",
    "\n",
    "Make sure you define any parameters that you use."
   ]
  },
  {
   "cell_type": "markdown",
   "metadata": {},
   "source": [
    "$H_0: p_{scot}-p_{nonscot}=0$\n",
    "\n",
    "$H_A: p_{scot}-p_{nonscot}\\neq 0$\n",
    "\n",
    "* $p_{scot}$ the proportion of all Scottish smokers that smoke packets\n",
    "* $p_{nonscot}$ the proportion of all non-Scottish U.K. smokers that smoke packets"
   ]
  },
  {
   "cell_type": "markdown",
   "metadata": {},
   "source": [
    "### 6.6. Evaluate these hypotheses with the 92% confidence interval."
   ]
  },
  {
   "cell_type": "markdown",
   "metadata": {},
   "source": [
    "The null value ($\\mu_{scot}-\\mu_{nonscot}=0$) is in the 92% confidence interval, therefore we fail to reject the null hypothesis. Thus there is not sufficient evidence to suggest that there is a difference in the proportion of Scottish smokers that smoke Packets is different than the proportion of non-Scottish smokers that smoke packets. In other words, there is not sufficient evidence to suggest that there is an association with being Scottish and smoking Packets."
   ]
  },
  {
   "cell_type": "markdown",
   "metadata": {},
   "source": [
    "### 6.7. Evaluate these hypotheses using a p-value and $\\alpha =0.08$."
   ]
  },
  {
   "cell_type": "code",
   "execution_count": 36,
   "metadata": {},
   "outputs": [
    {
     "data": {
      "text/plain": [
       "0.44570829183752825"
      ]
     },
     "execution_count": 36,
     "metadata": {},
     "output_type": "execute_result"
    }
   ],
   "source": [
    "null_value=0\n",
    "\n",
    "test_stat=((sample_prop_scot-sample_prop_non_scot)-null_value)/se\n",
    "test_stat"
   ]
  },
  {
   "cell_type": "code",
   "execution_count": 37,
   "metadata": {},
   "outputs": [
    {
     "data": {
      "text/plain": [
       "0.6558079742088874"
      ]
     },
     "execution_count": 37,
     "metadata": {},
     "output_type": "execute_result"
    }
   ],
   "source": [
    "p_value=2*(1-norm.cdf(np.abs(test_stat)))\n",
    "p_value"
   ]
  },
  {
   "cell_type": "markdown",
   "metadata": {},
   "source": [
    "Because the $p-value=0.656\\geq \\alpha=.08$, therefore we fail to reject the null hypothesis. Thus there is not sufficient evidence to suggest that there is a difference in the proportion of Scottish smokers that smoke Packets is different than the proportion of non-Scottish smokers that smoke packets. In other words, there is not sufficient evidence to suggest that there is an association with being Scottish and smoking Packets."
   ]
  },
  {
   "cell_type": "markdown",
   "metadata": {},
   "source": [
    "## 7. Linear Regression Model"
   ]
  },
  {
   "cell_type": "markdown",
   "metadata": {},
   "source": [
    "\n",
    "Next we would like to formulate a linear regression model modeling a response variable of amt_weekends with the following explanatory variables:\n",
    "* amt_weekdays\n",
    "* age\n",
    "* sex\n",
    "* and interaction of age and sex\n",
    "\n",
    "### 7.1. Fit the model\n",
    "\n",
    "First, fit this linear regression model, display the summary output table, and write out the linear regression equation. Make sure you use the correct notation."
   ]
  },
  {
   "cell_type": "code",
   "execution_count": 38,
   "metadata": {},
   "outputs": [
    {
     "data": {
      "text/html": [
       "<table class=\"simpletable\">\n",
       "<caption>OLS Regression Results</caption>\n",
       "<tr>\n",
       "  <th>Dep. Variable:</th>      <td>amt_weekends</td>   <th>  R-squared:         </th> <td>   0.653</td>\n",
       "</tr>\n",
       "<tr>\n",
       "  <th>Model:</th>                   <td>OLS</td>       <th>  Adj. R-squared:    </th> <td>   0.650</td>\n",
       "</tr>\n",
       "<tr>\n",
       "  <th>Method:</th>             <td>Least Squares</td>  <th>  F-statistic:       </th> <td>   195.8</td>\n",
       "</tr>\n",
       "<tr>\n",
       "  <th>Date:</th>             <td>Thu, 03 Nov 2022</td> <th>  Prob (F-statistic):</th> <td>3.22e-94</td>\n",
       "</tr>\n",
       "<tr>\n",
       "  <th>Time:</th>                 <td>21:07:02</td>     <th>  Log-Likelihood:    </th> <td> -1338.9</td>\n",
       "</tr>\n",
       "<tr>\n",
       "  <th>No. Observations:</th>      <td>   421</td>      <th>  AIC:               </th> <td>   2688.</td>\n",
       "</tr>\n",
       "<tr>\n",
       "  <th>Df Residuals:</th>          <td>   416</td>      <th>  BIC:               </th> <td>   2708.</td>\n",
       "</tr>\n",
       "<tr>\n",
       "  <th>Df Model:</th>              <td>     4</td>      <th>                     </th>     <td> </td>   \n",
       "</tr>\n",
       "<tr>\n",
       "  <th>Covariance Type:</th>      <td>nonrobust</td>    <th>                     </th>     <td> </td>   \n",
       "</tr>\n",
       "</table>\n",
       "<table class=\"simpletable\">\n",
       "<tr>\n",
       "         <td></td>            <th>coef</th>     <th>std err</th>      <th>t</th>      <th>P>|t|</th>  <th>[0.025</th>    <th>0.975]</th>  \n",
       "</tr>\n",
       "<tr>\n",
       "  <th>Intercept</th>       <td>    6.8249</td> <td>    1.126</td> <td>    6.064</td> <td> 0.000</td> <td>    4.613</td> <td>    9.037</td>\n",
       "</tr>\n",
       "<tr>\n",
       "  <th>sex[T.Male]</th>     <td>    0.5727</td> <td>    1.627</td> <td>    0.352</td> <td> 0.725</td> <td>   -2.625</td> <td>    3.771</td>\n",
       "</tr>\n",
       "<tr>\n",
       "  <th>amt_weekdays</th>    <td>    0.8685</td> <td>    0.032</td> <td>   27.217</td> <td> 0.000</td> <td>    0.806</td> <td>    0.931</td>\n",
       "</tr>\n",
       "<tr>\n",
       "  <th>age</th>             <td>   -0.0538</td> <td>    0.024</td> <td>   -2.247</td> <td> 0.025</td> <td>   -0.101</td> <td>   -0.007</td>\n",
       "</tr>\n",
       "<tr>\n",
       "  <th>age:sex[T.Male]</th> <td>   -0.0163</td> <td>    0.036</td> <td>   -0.457</td> <td> 0.648</td> <td>   -0.087</td> <td>    0.054</td>\n",
       "</tr>\n",
       "</table>\n",
       "<table class=\"simpletable\">\n",
       "<tr>\n",
       "  <th>Omnibus:</th>       <td>98.192</td> <th>  Durbin-Watson:     </th> <td>   1.913</td>\n",
       "</tr>\n",
       "<tr>\n",
       "  <th>Prob(Omnibus):</th> <td> 0.000</td> <th>  Jarque-Bera (JB):  </th> <td>2471.956</td>\n",
       "</tr>\n",
       "<tr>\n",
       "  <th>Skew:</th>          <td> 0.237</td> <th>  Prob(JB):          </th> <td>    0.00</td>\n",
       "</tr>\n",
       "<tr>\n",
       "  <th>Kurtosis:</th>      <td>14.861</td> <th>  Cond. No.          </th> <td>    340.</td>\n",
       "</tr>\n",
       "</table><br/><br/>Notes:<br/>[1] Standard Errors assume that the covariance matrix of the errors is correctly specified."
      ],
      "text/plain": [
       "<class 'statsmodels.iolib.summary.Summary'>\n",
       "\"\"\"\n",
       "                            OLS Regression Results                            \n",
       "==============================================================================\n",
       "Dep. Variable:           amt_weekends   R-squared:                       0.653\n",
       "Model:                            OLS   Adj. R-squared:                  0.650\n",
       "Method:                 Least Squares   F-statistic:                     195.8\n",
       "Date:                Thu, 03 Nov 2022   Prob (F-statistic):           3.22e-94\n",
       "Time:                        21:07:02   Log-Likelihood:                -1338.9\n",
       "No. Observations:                 421   AIC:                             2688.\n",
       "Df Residuals:                     416   BIC:                             2708.\n",
       "Df Model:                           4                                         \n",
       "Covariance Type:            nonrobust                                         \n",
       "===================================================================================\n",
       "                      coef    std err          t      P>|t|      [0.025      0.975]\n",
       "-----------------------------------------------------------------------------------\n",
       "Intercept           6.8249      1.126      6.064      0.000       4.613       9.037\n",
       "sex[T.Male]         0.5727      1.627      0.352      0.725      -2.625       3.771\n",
       "amt_weekdays        0.8685      0.032     27.217      0.000       0.806       0.931\n",
       "age                -0.0538      0.024     -2.247      0.025      -0.101      -0.007\n",
       "age:sex[T.Male]    -0.0163      0.036     -0.457      0.648      -0.087       0.054\n",
       "==============================================================================\n",
       "Omnibus:                       98.192   Durbin-Watson:                   1.913\n",
       "Prob(Omnibus):                  0.000   Jarque-Bera (JB):             2471.956\n",
       "Skew:                           0.237   Prob(JB):                         0.00\n",
       "Kurtosis:                      14.861   Cond. No.                         340.\n",
       "==============================================================================\n",
       "\n",
       "Notes:\n",
       "[1] Standard Errors assume that the covariance matrix of the errors is correctly specified.\n",
       "\"\"\""
      ]
     },
     "execution_count": 38,
     "metadata": {},
     "output_type": "execute_result"
    }
   ],
   "source": [
    "full_model = smf.ols('amt_weekends ~ amt_weekdays  + age + sex +age*sex', \n",
    "               data=df).fit()\n",
    "full_model.summary()"
   ]
  },
  {
   "cell_type": "markdown",
   "metadata": {},
   "source": [
    "$\\hat{amtweekend} = 6.82+.5727*(sexmale) + .8685*amtweekdays -0.0538*age -0.0163*(age*sexmale)$"
   ]
  },
  {
   "cell_type": "markdown",
   "metadata": {},
   "source": [
    "### 7.2. Predict the number of cigarettes a 25 year old male smokes on the weekend, that smokes 10 cigarettes on the weekdays, BY HAND."
   ]
  },
  {
   "cell_type": "code",
   "execution_count": 39,
   "metadata": {},
   "outputs": [
    {
     "data": {
      "text/plain": [
       "14.325199999999999"
      ]
     },
     "execution_count": 39,
     "metadata": {},
     "output_type": "execute_result"
    }
   ],
   "source": [
    "amt_weekend = 6.82+.5727*(1) + .8685*10 -0.0538*25 -0.0163*(25*1)\n",
    "amt_weekend"
   ]
  },
  {
   "cell_type": "markdown",
   "metadata": {},
   "source": [
    "### 7.3. Then make this prediction with Python."
   ]
  },
  {
   "cell_type": "code",
   "execution_count": 40,
   "metadata": {},
   "outputs": [
    {
     "data": {
      "text/plain": [
       "0    14.330227\n",
       "dtype: float64"
      ]
     },
     "execution_count": 40,
     "metadata": {},
     "output_type": "execute_result"
    }
   ],
   "source": [
    "full_model.predict(exog=dict(age=25, amt_weekdays=10, sex='Male'))"
   ]
  },
  {
   "cell_type": "markdown",
   "metadata": {},
   "source": [
    "### 7.4. Model Fit\n",
    "\n",
    "What percent of variability of the amount of weekend cigarettes smoked in the sample is explained by the model? What percent of variability of the amount of weekend cigarettes smoked in the sample is NOT explained by the model?"
   ]
  },
  {
   "cell_type": "markdown",
   "metadata": {},
   "source": [
    "* The percent of variability of the amount of weekend cigarettes smoked in the sample that is explained by the model = $R^2 = 0.653$.\n",
    "* The percent of variability of the amount of weekend cigarettes smoked in the sample that is NOT explained by the model = $1-R^2 = 1- 0.653=0.347$."
   ]
  },
  {
   "cell_type": "markdown",
   "metadata": {},
   "source": [
    "### 7.5. Intercept Interpretation\n",
    "\n",
    "Put the intercept of this model into words. **Make sure to not use causal language!**"
   ]
  },
  {
   "cell_type": "markdown",
   "metadata": {},
   "source": [
    "**We would expect** the amount of weekend cigarettes smoked by a 0-year-old female U.K. smoker who smokes 0 cigarettes on the weekdays to be 6.8, **on average**.\n",
    "\n",
    "The bolded statements above phrase our interpretation such that we are not implying a causal relationship. *For instance we would **not want to say** that the amount of weekend cigarettes smoked by a 0-year-old female U.K. smoker who smokes 0 cigarettes on the weekdays **will be** 6.8.*"
   ]
  },
  {
   "cell_type": "markdown",
   "metadata": {},
   "source": [
    "### 7.6. Numerical Slope Interpretation\n",
    "\n",
    "Put the age slope into words. **Make sure to not use causal language!**"
   ]
  },
  {
   "cell_type": "markdown",
   "metadata": {},
   "source": [
    "<u>All else held equal</u>, if we were to increase the age of a UK smoker to by year, **we would expect** the amount of cigarettes smoked on the weekend to decrease by 0.0538, **on average**.\n",
    "\n",
    "\n",
    "The bolded statements above phrase our interpretation such that we are not implying a causal relationship. *For instance we would **not want to say**: <u>all else held equal</u>, if we were to increase the age of a UK smoker to by year, the amount of cigarettes smoked on the weekend **will** decrease by 0.0538.*\n"
   ]
  },
  {
   "cell_type": "markdown",
   "metadata": {},
   "source": [
    "### 7.7. Indicator Variable Slope Interpretation\n",
    "\n",
    "Put the sex[Male] slope into words. **Make sure to not use causal language!**"
   ]
  },
  {
   "cell_type": "markdown",
   "metadata": {},
   "source": [
    "<u>All else held equal</u>, **we would expect** the **average** amount of weekend cigarettes smoked by U.K. males to be 0.57 cigarettes higher than the **average** amount of weekend cigarettes smoked by UK females.\n",
    "\n",
    "\n",
    "The bolded statements above phrase our interpretation such that we are not implying a causal relationship. *For instance we would **not want to say**: <u>All else held equal</u>, the amount of weekend cigarettes smoked by U.K. males **is** 0.57 cigarettes higher than amount of weekend cigarettes smoked by UK females.*"
   ]
  },
  {
   "cell_type": "markdown",
   "metadata": {},
   "source": [
    "### 7.8. Next, check the linear regression conditions.\n",
    "\n",
    "(If they are not met, we will proceed with caution and conduct inference on our population slopes anyway)."
   ]
  },
  {
   "cell_type": "markdown",
   "metadata": {},
   "source": [
    "1. **Linearity Condition**: This condition looks mostly met. For most x-axis windows (going left to right) in the fitted values vs. residuals plot below, we see that the points are mostly equally distributed above and below the line.\n",
    "\n",
    "2. **Constant Variance of Residuals Condition:** This condition, however is not met. We see that the y-axis spread changes as we move from left to right in the fitted values vs. residuals plot below"
   ]
  },
  {
   "cell_type": "code",
   "execution_count": 41,
   "metadata": {},
   "outputs": [
    {
     "data": {
      "image/png": "[encoded data removed]",
      "text/plain": [
       "<Figure size 432x288 with 1 Axes>"
      ]
     },
     "metadata": {
      "needs_background": "light"
     },
     "output_type": "display_data"
    }
   ],
   "source": [
    "# residual plot for inital check on the model fit\n",
    "sns.regplot(x=full_model.fittedvalues, y=full_model.resid, ci=None)\n",
    "plt.xlabel('Fitted Values')\n",
    "plt.ylabel('Residuals')\n",
    "plt.title('Residuals versus Fitted Values')\n",
    "plt.show()"
   ]
  },
  {
   "cell_type": "markdown",
   "metadata": {},
   "source": [
    "3. **Normally Distributed Residuals and Mean of 0 Condition':** This condition looks like it is mostly met as the histogram is mostly symmetric, unimodal, and centered at 0."
   ]
  },
  {
   "cell_type": "code",
   "execution_count": 42,
   "metadata": {},
   "outputs": [
    {
     "data": {
      "image/png": "[encoded data removed]",
      "text/plain": [
       "<Figure size 432x288 with 1 Axes>"
      ]
     },
     "metadata": {
      "needs_background": "light"
     },
     "output_type": "display_data"
    }
   ],
   "source": [
    "plt.hist(full_model.resid)\n",
    "plt.xlabel('Residuals')\n",
    "plt.show()"
   ]
  },
  {
   "cell_type": "markdown",
   "metadata": {},
   "source": [
    "4. **Independence of Residuals Condition**\n",
    "\n",
    "Because the sample of U.K. Smokers is random and $n<10$% of all U.K. smokers, we know that this condition is not violated in this particular way."
   ]
  },
  {
   "cell_type": "markdown",
   "metadata": {},
   "source": [
    "5. **No Multi-Collinearity Condition**: The two numerical explanatory variables (age and amt_weekdays) do not have a strong linear relationship. Thus the explanatory variables are not collinear and so this condition (just for multiple linear regression) is met."
   ]
  },
  {
   "cell_type": "code",
   "execution_count": 43,
   "metadata": {},
   "outputs": [
    {
     "data": {
      "image/png": "[encoded data removed]",
      "text/plain": [
       "<Figure size 360x360 with 6 Axes>"
      ]
     },
     "metadata": {
      "needs_background": "light"
     },
     "output_type": "display_data"
    }
   ],
   "source": [
    "sns.pairplot(df[['age', 'amt_weekdays']])\n",
    "plt.show()"
   ]
  },
  {
   "cell_type": "code",
   "execution_count": 44,
   "metadata": {},
   "outputs": [
    {
     "data": {
      "text/html": [
       "<div>\n",
       "<style scoped>\n",
       "    .dataframe tbody tr th:only-of-type {\n",
       "        vertical-align: middle;\n",
       "    }\n",
       "\n",
       "    .dataframe tbody tr th {\n",
       "        vertical-align: top;\n",
       "    }\n",
       "\n",
       "    .dataframe thead th {\n",
       "        text-align: right;\n",
       "    }\n",
       "</style>\n",
       "<table border=\"1\" class=\"dataframe\">\n",
       "  <thead>\n",
       "    <tr style=\"text-align: right;\">\n",
       "      <th></th>\n",
       "      <th>age</th>\n",
       "      <th>amt_weekdays</th>\n",
       "    </tr>\n",
       "  </thead>\n",
       "  <tbody>\n",
       "    <tr>\n",
       "      <th>age</th>\n",
       "      <td>1.000000</td>\n",
       "      <td>0.192783</td>\n",
       "    </tr>\n",
       "    <tr>\n",
       "      <th>amt_weekdays</th>\n",
       "      <td>0.192783</td>\n",
       "      <td>1.000000</td>\n",
       "    </tr>\n",
       "  </tbody>\n",
       "</table>\n",
       "</div>"
      ],
      "text/plain": [
       "                   age  amt_weekdays\n",
       "age           1.000000      0.192783\n",
       "amt_weekdays  0.192783      1.000000"
      ]
     },
     "execution_count": 44,
     "metadata": {},
     "output_type": "execute_result"
    }
   ],
   "source": [
    "df[['age', 'amt_weekdays']].corr()"
   ]
  },
  {
   "cell_type": "markdown",
   "metadata": {},
   "source": [
    "## 8. Linear Regression Inference\n",
    "\n",
    "### 8.1. Sample Association between Sex, Age, and Cigarettes Smoked on the Weekends\n",
    "\n",
    "* First, create a single scatterplot, visualizing the relationship between age and the amount of cigarettest smoked on the weekends in this dataset.\n",
    "* In this scatterplot, color code the points by sex.\n",
    "* Finally, fit a linear regression line for each of the sex levels in this dataset."
   ]
  },
  {
   "cell_type": "code",
   "execution_count": 45,
   "metadata": {},
   "outputs": [
    {
     "data": {
      "image/png": "[encoded data removed]",
      "text/plain": [
       "<Figure size 432.125x360 with 1 Axes>"
      ]
     },
     "metadata": {
      "needs_background": "light"
     },
     "output_type": "display_data"
    }
   ],
   "source": [
    "sns.lmplot(x='age', y='amt_weekends', hue='sex', data=df)\n",
    "plt.show()"
   ]
  },
  {
   "cell_type": "markdown",
   "metadata": {},
   "source": [
    "### 8.2. Inference for the Interaction Variable Slope\n",
    "\n",
    "The two different slopes for female and male in this scatterplot above are different for the sample data, when predicting amt_weekends with age. But do we have enough evidence to suggest that the female and male slopes will be different when predicting amt_weekends with *age, sex, and amt_weekdays* **in the population linear regression model**?\n",
    "\n",
    "Or in other words, do we have sufficient evidence to suggest that $\\beta_4$, the slope that corresponds to the interaction of age and sex is non-zero in the population linear regression model?\n",
    "\n",
    "#### 8.2.1 Hypotheses\n",
    "\n",
    "Forumulate these hypotheses which would test this below. Define any parameters that you use."
   ]
  },
  {
   "cell_type": "markdown",
   "metadata": {},
   "source": [
    "$H_0: \\beta_4=0$\n",
    "\n",
    "$H_A: \\beta_4\\neq 0$\n",
    "\n",
    "$\\beta_4$ = the slope that corresopnds to the interaction of age and sex in the corresponding population linear regression model."
   ]
  },
  {
   "cell_type": "markdown",
   "metadata": {},
   "source": [
    "#### 8.2.2. 95% Confidence Interval\n",
    "\n",
    "Create a 95% confidence interval for this population slope."
   ]
  },
  {
   "cell_type": "markdown",
   "metadata": {},
   "source": [
    "Remember, for inference on population slopes in a LINEAR regression equation, we use the t-distribution with $df=n-p-1 = 421 - 4-1 = 416$.\n",
    "\n",
    "(p=number of slopes)"
   ]
  },
  {
   "cell_type": "code",
   "execution_count": 46,
   "metadata": {},
   "outputs": [
    {
     "name": "stdout",
     "output_type": "stream",
     "text": [
      "n 421\n",
      "Number of slopes = p 4\n",
      "critical_value 1.965682904909613\n",
      "95% Confidence Interval\n",
      "-0.08706458457674605 0.054464584576746064\n"
     ]
    }
   ],
   "source": [
    "#n\n",
    "n=421\n",
    "print('n',n)\n",
    "\n",
    "#p\n",
    "p=4\n",
    "print('Number of slopes = p',p)\n",
    "\n",
    "\n",
    "# Critical Value\n",
    "critical_value=t.ppf(0.975, df=n-p-1)\n",
    "print('critical_value', critical_value)\n",
    "\n",
    "#Sample slope\n",
    "sample_slope=-0.0163\n",
    "\n",
    "#Standard Error\n",
    "se=0.036\n",
    "\n",
    "# Confidence interval lower bound\n",
    "cl_lower=sample_slope-critical_value*se\n",
    "\n",
    "# Confidence interval upper bound\n",
    "cl_upper=sample_slope+critical_value*se\n",
    "\n",
    "print('95% Confidence Interval')\n",
    "print(cl_lower,cl_upper)"
   ]
  },
  {
   "cell_type": "markdown",
   "metadata": {},
   "source": [
    "#### 8.2.3. Evaluate your hypotheses with your 95% confidence interval."
   ]
  },
  {
   "cell_type": "markdown",
   "metadata": {},
   "source": [
    "Because the null value ($\\beta_4=0$) is in the confidence interval, we fail to reject the null hypothesis. Thus, there is not sufficient evidence to suggest that the population slope associated with the interaction between age and sex in this model is non-zero."
   ]
  },
  {
   "cell_type": "markdown",
   "metadata": {},
   "source": [
    "#### 8.2.4. Calculate the test statistic and the p-value for these hypotheses \"by hand\". \n",
    "\n",
    "You can use scipy.stats functions."
   ]
  },
  {
   "cell_type": "code",
   "execution_count": 47,
   "metadata": {},
   "outputs": [
    {
     "data": {
      "text/plain": [
       "-0.4527777777777778"
      ]
     },
     "execution_count": 47,
     "metadata": {},
     "output_type": "execute_result"
    }
   ],
   "source": [
    "point_estimate = -0.0163\n",
    "se=0.036\n",
    "null_value=0\n",
    "\n",
    "\n",
    "test_stat = (point_estimate-null_value)/se\n",
    "test_stat"
   ]
  },
  {
   "cell_type": "code",
   "execution_count": 48,
   "metadata": {},
   "outputs": [
    {
     "data": {
      "text/plain": [
       "0.6509448089869632"
      ]
     },
     "execution_count": 48,
     "metadata": {},
     "output_type": "execute_result"
    }
   ],
   "source": [
    "pvalue = 2*(1-t.cdf(np.abs(test_stat), df=n-p-1))\n",
    "pvalue"
   ]
  },
  {
   "cell_type": "markdown",
   "metadata": {},
   "source": [
    "#### 8.2.5. Evaluate your hypotheses with your p-value and a significance level of $\\alpha=0.05.$."
   ]
  },
  {
   "cell_type": "markdown",
   "metadata": {},
   "source": [
    "Because $p-value = 0.65\\geq \\alpha =0.05$, we fail to reject the null hypothesis. Thus, there is not sufficient evidence to suggest that the population slope associated with the interaction between age and sex in this model is non-zero."
   ]
  },
  {
   "cell_type": "markdown",
   "metadata": {},
   "source": [
    "### 8.3. Probability of Making Type 1 Errors\n",
    "\n",
    "If we were conduct a hypothesis test on each of our 4 population slopes in this model (evaluating whether the population slope was equal to or not equal to 0), what would be the likelihood that NONE of our four hypothesis tests made a type 1 error? (Suppose we decided to use a significance level of $\\alpha =0.10$ for each of these four tests)."
   ]
  },
  {
   "cell_type": "markdown",
   "metadata": {},
   "source": [
    "There are 4 slopes in our full model. Thus we would individually test the following four hypotheses one at a time.\n",
    "\n",
    "$H_0: \\beta_1=0$\n",
    "\n",
    "$H_A: \\beta_1\\neq 0$\n",
    "\n",
    "$H_0: \\beta_2=0$\n",
    "\n",
    "$H_A: \\beta_2\\neq 0$\n",
    "\n",
    "$H_0: \\beta_3=0$\n",
    "\n",
    "$H_A: \\beta_3\\neq 0$\n",
    "\n",
    "$H_0: \\beta_4=0$\n",
    "\n",
    "$H_A: \\beta_4\\neq 0$\n",
    "\n",
    "If we were to use a significance level of $\\alpha=0.10$ for a given test, then the probability that that test would make a type 1 error is 0.10. Thus, the probability that the test did NOT make a type 1 error would be 0.90.\n",
    "\n",
    "If we assume that each of these tests are independent, this would mean that the probability of NONE of our hypothesis test made a type 1 error would be:\n",
    "\n",
    "$P(\\mbox{none made type 1 error})$ = $P(\\mbox{test 1 did not make type 1 error AND test 2 did not make type 1 error AND test 3 did not make type 1 error AND test 4 did not make type 1 error})$\n",
    "\n",
    "$=P(\\mbox{test 1 did not make type 1 error) P(test 2 did not make type 1 error)P(test 3 did not make type 1 error)P(test 4 did not make type 1 error})$\n",
    "\n",
    "$=(0.90)(0.90)(0.90)(0.90) = 0.651$"
   ]
  },
  {
   "cell_type": "code",
   "execution_count": 49,
   "metadata": {},
   "outputs": [
    {
     "data": {
      "text/plain": [
       "0.6561"
      ]
     },
     "execution_count": 49,
     "metadata": {},
     "output_type": "execute_result"
    }
   ],
   "source": [
    ".9**4"
   ]
  },
  {
   "cell_type": "markdown",
   "metadata": {},
   "source": [
    "### 8.4. Hypothesis Test for ALL Slopes\n",
    "\n",
    "Now we would like to test (in just one test) if there is sufficient evidence to suggest at least one population slope is non-zero in the corresponding population model.\n",
    "\n",
    "#### 8.4.1. Hypotheses\n",
    "Set up the hypotheses for this test."
   ]
  },
  {
   "cell_type": "markdown",
   "metadata": {},
   "source": [
    "$H_0: \\beta_1=\\beta_2=\\beta_3=\\beta_4=0$\n",
    "\n",
    "$H_A:$ at least one of these slopes is non-zero\n"
   ]
  },
  {
   "cell_type": "markdown",
   "metadata": {},
   "source": [
    "#### 8.4.2 Test statistic\n",
    "\n",
    "What is the test statistic for this test?"
   ]
  },
  {
   "cell_type": "markdown",
   "metadata": {},
   "source": [
    "The summary output table tells us that this test statistic is 188.4."
   ]
  },
  {
   "cell_type": "code",
   "execution_count": 50,
   "metadata": {},
   "outputs": [
    {
     "data": {
      "text/plain": [
       "195.8"
      ]
     },
     "execution_count": 50,
     "metadata": {},
     "output_type": "execute_result"
    }
   ],
   "source": [
    "test_stat=195.8\n",
    "test_stat"
   ]
  },
  {
   "cell_type": "markdown",
   "metadata": {},
   "source": [
    "#### 8.4.3. p-value\n",
    "\n",
    "Use your test statistic and calculate the p-value \"by hand\". (You can verify your answer in the summary output table, however it may be slightly different due to rounding errors)."
   ]
  },
  {
   "cell_type": "code",
   "execution_count": 51,
   "metadata": {},
   "outputs": [
    {
     "data": {
      "text/plain": [
       "1.1102230246251565e-16"
      ]
     },
     "execution_count": 51,
     "metadata": {},
     "output_type": "execute_result"
    }
   ],
   "source": [
    "pvalue= 1-f.cdf(test_stat, dfn=p, dfd=n-p-1)\n",
    "\n",
    "pvalue"
   ]
  },
  {
   "cell_type": "markdown",
   "metadata": {},
   "source": [
    "#### 8.4.4. Evaluate your hypotheses with this p-value and a significance level of $\\alpha=0.10$."
   ]
  },
  {
   "cell_type": "markdown",
   "metadata": {},
   "source": [
    "Because the $p-value = 1.11\\times 10^{-16}<\\alpha =0.10$, we reject the null hypothesis, thus there is sufficient evidence to suggest that at least one of these four population slopes is non-zero in the population model."
   ]
  },
  {
   "cell_type": "markdown",
   "metadata": {},
   "source": [
    "#### 8.4.5. What is the probabiliy that we did not make a type 1 error in this hypothesis test?"
   ]
  },
  {
   "cell_type": "markdown",
   "metadata": {},
   "source": [
    "Because $\\alpha = 0.10$, the probability that we made a type 1 error in this single hypothesis test is 0.10. Thus the probability that we did not make a type 1 error in this test is 0.90."
   ]
  }
 ],
 "metadata": {
  "kernelspec": {
   "display_name": "Python 3 (ipykernel)",
   "language": "python",
   "name": "python3"
  },
  "language_info": {
   "codemirror_mode": {
    "name": "ipython",
    "version": 3
   },
   "file_extension": ".py",
   "mimetype": "text/x-python",
   "name": "python",
   "nbconvert_exporter": "python",
   "pygments_lexer": "ipython3",
   "version": "3.9.12"
  }
 },
 "nbformat": 4,
 "nbformat_minor": 4
}
